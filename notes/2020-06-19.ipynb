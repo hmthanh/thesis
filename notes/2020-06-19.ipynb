{
 "cells": [
  {
   "cell_type": "markdown",
   "metadata": {},
   "source": [
    "## Notes Buổi gặp ngày 19/06/2020"
   ]
  },
  {
   "cell_type": "markdown",
   "metadata": {},
   "source": [
    "##### Tại sao nó nén, tại sao nó không nén\n"
   ]
  },
  {
   "cell_type": "markdown",
   "metadata": {},
   "source": [
    "### Một số thuật ngữ :\n",
    "\n",
    "synset : là một tập hợp không có thứ tự\n",
    "\n",
    "Reified : ???\n",
    "\n",
    "Test Leakage : ???\n",
    "\n",
    "Multiple Domains : thuộc nhiều lĩnh vực khác nhau\n",
    "\n",
    "**Câu hỏi** : Cái nào nén được, cái nào không nén được"
   ]
  },
  {
   "cell_type": "markdown",
   "metadata": {},
   "source": [
    "## Tìm hiểu về dữ liệu :\n",
    "\n",
    "### FB15k\n",
    "This FREEBASE FB15k DATA consists of a collection of triplets (synset, relation_type, triplet) extracted from Freebase (http://www.freebase.com). This data set can be seen as a 3-mode tensor depicting ternary relationships between synsets.\n",
    "\n",
    "All freebase_mtr100_mte100-*.txt files contain one triplet per line, with 2 mids (unique Freebase entity identifier) and relation type identifier in a tab separated format. The first element is the mid of the left hand side (of head) of the relation triple, the third one is the mid of the right hand side (or tail) and the second element is the name of the relationship between them.\n",
    "\n",
    "There are 14,951 mids and 1,345 relation types among them. The training set contains 483,142 triplets, the validation set 50,000 and the test set 59,071.\n",
    "\n",
    "All triplets are unique and we made sure that all synsets appearing in the validation or test sets were occurring in the training set.\n",
    "\n",
    "The FB15k.zip file contains the other files, with more compression than the default \"download all\".\n",
    "\n",
    "____________________________________________________________________________\n",
    "Đây là tập dữ liệu từ FreeBase\n",
    "Có 15.000 đối tượng, gần 600.000 triplets\n",
    "Tập dữ liệu cấu trúc :\n",
    "```\n",
    "<entity1> <relation_type> <entity2>\n",
    "```\n",
    "\n",
    "**Câu hỏi** : Vì sao nó giảm số quan hệ từ 600.000"
   ]
  },
  {
   "cell_type": "markdown",
   "metadata": {},
   "source": [
    "### FB15k-237\n",
    "FB15k-237 dataset is derived from FB15k, with data removed to eliminate test-set leakage due to inverse relations. WN18RR contains 310116 triples, connecting 14541 entities via 237 relations.\n",
    "\n",
    "Information about FB15k: This FREEBASE FB15k DATA consists of a collection of triplets (synset, relation_type, triplet) extracted from Freebase (http://www.freebase.com). This data set can be seen as a 3-mode tensor depicting ternary relationships between synsets.\n",
    "\n",
    "All *.txt files contain one triplet per line, with 2 mids (unique Freebase entity identifier) and relation type identifier in a tab separated format. The first element is the mid of the left hand side (of head) of the relation triple, the third one is the mid of the right hand side (or tail) and the second element is the name of the relationship between them."
   ]
  },
  {
   "cell_type": "markdown",
   "metadata": {},
   "source": [
    "### WN18\n",
    "\n",
    "```\n",
    "<word_hash_number1> <relation> <word_hash_number2>\n",
    "```\n",
    "word_hash_number1, word_hash_number2 : là các từ ngữ\n",
    "relation là các quan hệ\n",
    "\n",
    "Ví dụ : Đường đi, đường phèn ... cùng nghĩa đường nhưng từ đường được dùng trong những ngữ cảnh khác nhau\n",
    "\n",
    "Các quan hệ có thể là : hyperonymy & hyponymy (thượng vị và hà vị) or ISA relation (https://en.wikipedia.org/wiki/Is-a)\n",
    "\n",
    "và có thể có quan hệ bắc cầu"
   ]
  },
  {
   "cell_type": "markdown",
   "metadata": {},
   "source": [
    "### YAGO 3\n",
    "\n",
    "YAGO 3 combines the information from the Wikipedias in multiple languages with WordNet, GeoNames, and other data sources. YAGO 3 taps into multilingual resources of Wikipedia, getting to know more local entities and facts. This version has been extracted from 10 different Wikipedia versions (English, German, French, Dutch, Italian, Spanish, Polish, Romanian, Persian, and Arabic). YAGO 3 is special in several ways: \n",
    "\n",
    "* YAGO 3 combines the clean taxonomy of WordNet with the richness of the Wikipedia category system, assigning the entities to more than 350,000 classes. \n",
    "\n",
    "* YAGO 3 is anchored in time and space. YAGO attaches a temporal dimension and a spatial dimension to many of its facts and entities. \n",
    "\n",
    "* In addition to taxonomy, YAGO has thematic domains such as “music” or “science” from WordNet Domains. \n",
    "\n",
    "* YAGO 3 extracts and combines entities and facts from 10 Wikipedias in different languages. \n",
    "\n",
    "* YAGO 3 contains canonical representations of entities appearing in different Wikipedia language editions. \n",
    "\n",
    "* YAGO 3 integrates all non-English entities into the rich type taxonomy of YAGO. \n",
    "\n",
    "* YAGO 3 provides a mapping between non-English infobox attributes and YAGO relations. YAGO 3 knows more than 17 million entities (like persons, organizations, cities, etc.) and contains more than 150 million facts about these entities. As with all major releases, the accuracy of YAGO 3 has been manually evaluated, proving a confirmed accuracy of 95%. Every relation is annotated with its confidence value.\n",
    "____________________________________________________________________________________________________________\n",
    "Có hướng thời gian và hướng không gian\n"
   ]
  },
  {
   "cell_type": "markdown",
   "metadata": {},
   "source": [
    "### Tìm hiểu về các độ đo\n",
    "\n",
    "\n"
   ]
  },
  {
   "cell_type": "markdown",
   "metadata": {},
   "source": [
    "**Ghi chú :**\n",
    "* Trang tìm kiếm các tập dữ liệu :\n",
    "https://datasetsearch.research.google.com/\n",
    "\n",
    "* Trang tìm kiếm các paper :\n",
    "https://scholar.google.com/"
   ]
  },
  {
   "cell_type": "markdown",
   "metadata": {},
   "source": [
    "### Có những bài toán nào trong Linking Prediction\n",
    "\n",
    "Chia ra những vấn đề con nào trong Linking Prediction\n",
    "\n",
    "Trong bài toán Linking Prediction có những bài toán nào "
   ]
  },
  {
   "cell_type": "markdown",
   "metadata": {},
   "source": [
    "### Cần tìm hiểu\n",
    "\n",
    "Đầu vào là gì\n",
    "\n",
    "Đầu ra là gì\n"
   ]
  },
  {
   "cell_type": "markdown",
   "metadata": {},
   "source": [
    "### Github\n",
    "\n",
    "Hiện tại paper để tìm hiểu là paper :\n",
    "* Paper gốc ConvKB của tác giả : \n",
    "A Novel Embedding Model for Knowledge Base Completion Based on Convolutional Neural Network\n",
    "* Paper cập nhật mới nhất của tác giả :\n",
    "A Re-evaluation of Knowledge Graph Completion Methods\n",
    "\n",
    "June 13: Update Pytorch (1.5.0) implementation. The ConvKB Pytorch implementation, which is based on the OpenKE framework, is to deal with the issue #5 to show that the ACL2020 paper A Re-evaluation of Knowledge Graph Completion Methods is not fair when re-evaluating our ConvKB.\n",
    "\n",
    "Github : \n",
    "Source code gốc của tác giả :\n",
    "https://github.com/daiquocnguyen/ConvKB\n",
    "\n",
    "Source code cài đặt lại của Shikhar Vashishth :\n",
    "https://github.com/svjan5/kg-reeval\n",
    "\n",
    "Ngoại ra tác giả còn sử dụng **OpenKE** để tiến hành cài đặt thuật toán\n",
    "\n",
    "https://github.com/thunlp/OpenKE"
   ]
  },
  {
   "cell_type": "markdown",
   "metadata": {},
   "source": []
  }
 ],
 "metadata": {
  "kernelspec": {
   "display_name": "Python 3",
   "language": "python",
   "name": "python3"
  },
  "language_info": {
   "codemirror_mode": {
    "name": "ipython",
    "version": 3
   },
   "file_extension": ".py",
   "mimetype": "text/x-python",
   "name": "python",
   "nbconvert_exporter": "python",
   "pygments_lexer": "ipython3",
   "version": "3.7.6"
  }
 },
 "nbformat": 4,
 "nbformat_minor": 2
}
