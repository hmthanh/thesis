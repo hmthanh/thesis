{
 "metadata": {
  "language_info": {
   "codemirror_mode": {
    "name": "ipython",
    "version": 3
   },
   "file_extension": ".py",
   "mimetype": "text/x-python",
   "name": "python",
   "nbconvert_exporter": "python",
   "pygments_lexer": "ipython3",
   "version": "3.7.3-final"
  },
  "orig_nbformat": 2,
  "kernelspec": {
   "name": "python3",
   "display_name": "Python 3"
  }
 },
 "nbformat": 4,
 "nbformat_minor": 2,
 "cells": [
  {
   "cell_type": "code",
   "execution_count": 1,
   "metadata": {
    "tags": []
   },
   "outputs": [
    {
     "output_type": "stream",
     "name": "stdout",
     "text": "* indexed 100000 triples\n* indexed 200000 triples\n* indexed 300000 triples\n* indexed 400000 triples\n* set up index for 1345 relations, 14834 head entities, and 14903 tail entities\n"
    }
   ],
   "source": [
    "from learning import Learning\n",
    "learner = Learning('FB15k')"
   ]
  },
  {
   "cell_type": "code",
   "execution_count": 3,
   "metadata": {
    "tags": []
   },
   "outputs": [
    {
     "output_type": "stream",
     "name": "stdout",
     "text": "* set up index for 961 relations, 12297 head entities, and 11825 tail entities\n"
    }
   ],
   "source": [
    "from data.triple_set import TripleSet\n",
    "\n",
    "extend_triple = TripleSet()\n",
    "extend_triple.read_triples('../../datasets/FB15k/freebase_mtr100_mte100-test.txt')"
   ]
  },
  {
   "cell_type": "code",
   "execution_count": null,
   "metadata": {},
   "outputs": [],
   "source": [
    "learner.train_with_batch()"
   ]
  }
 ]
}