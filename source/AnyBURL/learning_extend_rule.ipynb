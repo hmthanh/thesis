{
 "metadata": {
  "language_info": {
   "codemirror_mode": {
    "name": "ipython",
    "version": 3
   },
   "file_extension": ".py",
   "mimetype": "text/x-python",
   "name": "python",
   "nbconvert_exporter": "python",
   "pygments_lexer": "ipython3",
   "version": "3.7.3-final"
  },
  "orig_nbformat": 2,
  "kernelspec": {
   "name": "python3",
   "display_name": "Python 3"
  }
 },
 "nbformat": 4,
 "nbformat_minor": 2,
 "cells": [
  {
   "cell_type": "code",
   "execution_count": 1,
   "metadata": {},
   "outputs": [],
   "source": [
    "dataset = 'FB15k'"
   ]
  },
  {
   "cell_type": "code",
   "execution_count": 1,
   "metadata": {
    "tags": []
   },
   "outputs": [
    {
     "output_type": "stream",
     "name": "stdout",
     "text": "* indexed 100000 triples\n* indexed 200000 triples\n* indexed 300000 triples\n* indexed 400000 triples\n* set up index for 1345 relations, 14834 head entities, and 14903 tail entities\n"
    }
   ],
   "source": [
    "from learning import Learning\n",
    "learner = Learning(dataset)"
   ]
  },
  {
   "cell_type": "code",
   "execution_count": 3,
   "metadata": {
    "tags": []
   },
   "outputs": [
    {
     "output_type": "stream",
     "name": "stdout",
     "text": "* set up index for 961 relations, 12297 head entities, and 11825 tail entities\n"
    }
   ],
   "source": [
    "from data.triple_set import TripleSet\n",
    "\n",
    "extend_triple = TripleSet()\n",
    "extend_triple.read_triples('../../datasets/FB15k/freebase_mtr100_mte100-test.txt')"
   ]
  },
  {
   "cell_type": "code",
   "execution_count": null,
   "metadata": {},
   "outputs": [],
   "source": [
    "learner.train_with_batch()"
   ]
  },
  {
   "cell_type": "code",
   "execution_count": 2,
   "metadata": {},
   "outputs": [],
   "source": [
    "from predict import Predict\n",
    "\n",
    "predictor = Predict(dataset)"
   ]
  },
  {
   "cell_type": "code",
   "execution_count": 3,
   "metadata": {
    "tags": [
     "outputPrepend"
    ]
   },
   "outputs": [
    {
     "output_type": "stream",
     "name": "stdout",
     "text": "to guess the tail/head of /m/0jdk_ /olympics/olympic_games/medals_awarded./olympics/olympic_medal_honor/country /m/0163v\nElapsed (s) = 2\n* (# 35800 ) trying to guess the tail/head of /m/0pv3x /award/award_nominated_work/award_nominations./award/award_nomination/award /m/040njc\nElapsed (s) = 1\n* (# 35900 ) trying to guess the tail/head of /m/02sp_v /award/award_category/nominees./award/award_nomination/award_nominee /m/01vn0t_\nElapsed (s) = 1\n* (# 36000 ) trying to guess the tail/head of /m/017fp /media_common/netflix_genre/titles /m/02lxrv\nElapsed (s) = 1\n* (# 36100 ) trying to guess the tail/head of /m/025ts_z /film/film/starring./film/performance/actor /m/01rzqj\nElapsed (s) = 1\n* (# 36200 ) trying to guess the tail/head of /m/0hmr4 /film/film/language /m/02h40lc\nElapsed (s) = 1\n* (# 36300 ) trying to guess the tail/head of /m/0xzly /music/performance_role/track_performances./music/track_contribution/contributor /m/01vrnsk\nElapsed (s) = 1\n* (# 36400 ) trying to guess the tail/head of /m/0bmhvpr /award/award_nominated_work/award_nominations./award/award_nomination/award /m/0k611\nElapsed (s) = 1\n* (# 36500 ) trying to guess the tail/head of /m/02kxbwx /award/award_winner/awards_won./award/award_honor/award_winner /m/06hhrs\nElapsed (s) = 1\n* (# 36600 ) trying to guess the tail/head of /m/02qr3k8 /film/film/starring./film/performance/actor /m/02lyx4\nElapsed (s) = 2\n* (# 36700 ) trying to guess the tail/head of /m/06v9_x /film/film/starring./film/performance/actor /m/05w1vf\nElapsed (s) = 1\n* (# 36800 ) trying to guess the tail/head of /m/018kcp /tv/tv_network/programs./tv/tv_network_duration/program /m/03gvm3t\nElapsed (s) = 2\n* (# 36900 ) trying to guess the tail/head of /m/0cd2vh9 /film/film/other_crew./film/film_crew_gig/film_crew_role /m/0ch6mp2\nElapsed (s) = 1\n* (# 37000 ) trying to guess the tail/head of /m/0fsm8c /award/award_nominee/award_nominations./award/award_nomination/award /m/027dtxw\nElapsed (s) = 1\n* (# 37100 ) trying to guess the tail/head of /m/0294zg /film/film/film_format /m/0cj16\nElapsed (s) = 1\n* (# 37200 ) trying to guess the tail/head of /m/0gq_v /award/award_category/nominees./award/award_nomination/nominated_for /m/041td_\nElapsed (s) = 1\n* (# 37300 ) trying to guess the tail/head of /m/025t9b /people/person/spouse_s./people/marriage/type_of_union /m/04ztj\nElapsed (s) = 1\n* (# 37400 ) trying to guess the tail/head of /m/05qhw /olympics/olympic_participating_country/athletes./olympics/olympic_athlete_affiliation/sport /m/071t0\nElapsed (s) = 1\n* (# 37500 ) trying to guess the tail/head of /m/0421st /people/person/nationality /m/09c7w0\nElapsed (s) = 2\n* (# 37600 ) trying to guess the tail/head of /m/01n7q /location/location/contains /m/0d6lp\nElapsed (s) = 2\n* (# 37700 ) trying to guess the tail/head of /m/01p4vl /base/popstra/celebrity/dated./base/popstra/dated/participant /m/03v1jf\nElapsed (s) = 2\n* (# 37800 ) trying to guess the tail/head of /m/07s9rl0 /film/film_genre/films_in_this_genre /m/09z2b7\nElapsed (s) = 2\n* (# 37900 ) trying to guess the tail/head of /m/0824r /location/location/contains /m/0mkk3\nElapsed (s) = 1\n* (# 38000 ) trying to guess the tail/head of /m/05148p4 /music/instrument/instrumentalists /m/04mn81\nElapsed (s) = 1\n* (# 38100 ) trying to guess the tail/head of /m/0b6tzs /award/award_nominated_work/award_nominations./award/award_nomination/award /m/099c8n\nElapsed (s) = 1\n* (# 38200 ) trying to guess the tail/head of /m/08mbj32 /common/annotation_category/annotations./common/webpage/topic /m/06xw2\nElapsed (s) = 1\n* (# 38300 ) trying to guess the tail/head of /m/042v_gx /music/performance_role/track_performances./music/track_contribution/role /m/016622\nElapsed (s) = 2\n* (# 38400 ) trying to guess the tail/head of /m/0gtsx8c /film/film/other_crew./film/film_crew_gig/film_crew_role /m/09vw2b7\nElapsed (s) = 1\n* (# 38500 ) trying to guess the tail/head of /m/09c7w0 /location/location/contains /m/07w0v\nElapsed (s) = 2\n* (# 38600 ) trying to guess the tail/head of /m/016k62 /award/award_winner/awards_won./award/award_honor/award /m/024vjd\nElapsed (s) = 1\n* (# 38700 ) trying to guess the tail/head of /m/03pmty /award/award_nominee/award_nominations./award/award_nomination/award /m/09sb52\nElapsed (s) = 1\n* (# 38800 ) trying to guess the tail/head of /m/071h5c /sports/pro_athlete/teams./soccer/football_roster_position/team /m/0199gx\nElapsed (s) = 1\n* (# 38900 ) trying to guess the tail/head of /m/037ls6 /food/food/nutrients./food/nutrition_fact/nutrient /m/014yzm\nElapsed (s) = 1\n* (# 39000 ) trying to guess the tail/head of /m/0gw7p /award/award_nominated_work/award_nominations./award/award_nomination/award /m/0gr51\nElapsed (s) = 1\n* (# 39100 ) trying to guess the tail/head of /m/0dgrmp /sports/sports_position/players./soccer/football_roster_position/team /m/02nt75\nElapsed (s) = 2\n* (# 39200 ) trying to guess the tail/head of /m/02y49 /award/award_nominee/award_nominations./award/award_nomination/award /m/0262yt\nElapsed (s) = 1\n* (# 39300 ) trying to guess the tail/head of /m/02jx1 /location/location/contains /m/0g251\nElapsed (s) = 1\n* (# 39400 ) trying to guess the tail/head of /m/0dgrmp /sports/sports_position/players./sports/sports_team_roster/team /m/02psgvg\nElapsed (s) = 1\n* (# 39500 ) trying to guess the tail/head of /m/01swck /award/award_nominee/award_nominations./award/award_nomination/award_nominee /m/05dbf\nElapsed (s) = 2\n* (# 39600 ) trying to guess the tail/head of /m/08mbj32 /common/annotation_category/annotations./common/webpage/topic /m/02bm1v\nElapsed (s) = 1\n* (# 39700 ) trying to guess the tail/head of /m/01p79b /education/educational_institution/students_graduates./education/education/degree /m/014mlp\nElapsed (s) = 1\n* (# 39800 ) trying to guess the tail/head of /m/05txrz /award/award_nominee/award_nominations./award/award_nomination/award /m/063y_ky\nElapsed (s) = 2\n* (# 39900 ) trying to guess the tail/head of /m/0phx4 /music/group_member/membership./music/group_membership/role /m/05148p4\nElapsed (s) = 1\n* (# 40000 ) trying to guess the tail/head of /m/02yvct /film/film/release_date_s./film/film_regional_release_date/film_release_region /m/02k54\nElapsed (s) = 2\n* (# 40100 ) trying to guess the tail/head of /m/0zjpz /music/group_member/membership./music/group_membership/role /m/028tv0\nElapsed (s) = 1\n* (# 40200 ) trying to guess the tail/head of /m/01t04r /music/record_label/artist /m/0134tg\nElapsed (s) = 1\n* (# 40300 ) trying to guess the tail/head of /m/02ryx0 /people/person/profession /m/01c72t\nElapsed (s) = 2\n* (# 40400 ) trying to guess the tail/head of /m/02lp1 /education/field_of_study/subdiscipline_of /m/02ky346\nElapsed (s) = 1\n* (# 40500 ) trying to guess the tail/head of /m/03g5_y /people/person/ethnicity /m/07hwkr\nElapsed (s) = 2\n* (# 40600 ) trying to guess the tail/head of /m/0tc7 /people/person/religion /m/0c8wxp\nElapsed (s) = 1\n* (# 40700 ) trying to guess the tail/head of /m/03chx58 /people/person/ethnicity /m/0dryh9k\nElapsed (s) = 1\n* (# 40800 ) trying to guess the tail/head of /m/07f5x /location/statistical_region/gdp_nominal_per_capita./measurement_unit/dated_money_value/currency /m/09nqf\nElapsed (s) = 1\n* (# 40900 ) trying to guess the tail/head of /m/04lhft /sports/sports_team/roster./sports/sports_team_roster/position /m/02nzb8\nElapsed (s) = 1\n* (# 41000 ) trying to guess the tail/head of /m/0h95927 /film/film/release_date_s./film/film_regional_release_date/film_release_region /m/05r4w\nElapsed (s) = 1\n* (# 41100 ) trying to guess the tail/head of /m/02r96rf /film/film_job/films_with_this_crew_job./film/film_crew_gig/film /m/0cc846d\nElapsed (s) = 1\n* (# 41200 ) trying to guess the tail/head of /m/0g9lm2 /film/film/country /m/03rjj\nElapsed (s) = 1\n* (# 41300 ) trying to guess the tail/head of /m/0k_9j /award/award_nominated_work/award_nominations./award/award_nomination/award /m/02r22gf\nElapsed (s) = 2\n* (# 41400 ) trying to guess the tail/head of /m/018vs /music/performance_role/regular_performances./music/group_membership/role /m/01qzyz\nElapsed (s) = 1\n* (# 41500 ) trying to guess the tail/head of /m/0342h /music/performance_role/track_performances./music/track_contribution/contributor /m/01w5gg6\nElapsed (s) = 2\n* (# 41600 ) trying to guess the tail/head of /m/0np9r /people/profession/people_with_this_profession /m/02xp18\nElapsed (s) = 1\n* (# 41700 ) trying to guess the tail/head of /m/02qhqz4 /film/film/starring./film/performance/actor /m/0f5xn\nElapsed (s) = 1\n* (# 41800 ) trying to guess the tail/head of /m/09zzb8 /film/film_job/films_with_this_crew_job./film/film_crew_gig/film /m/09p0ct\nElapsed (s) = 1\n* (# 41900 ) trying to guess the tail/head of /m/04n6k /user/tsegaran/random/subject_taxonomy/entry./user/tsegaran/random/taxonomy_entry/subject /m/06bnz\nElapsed (s) = 2\n* (# 42000 ) trying to guess the tail/head of /m/0301yj /award/award_winner/awards_won./award/award_honor/award_winner /m/01x_d8\nElapsed (s) = 2\n* (# 42100 ) trying to guess the tail/head of /m/03qgjwc /award/award_category/nominees./award/award_nomination/award_nominee /m/01p7yb\nElapsed (s) = 1\n* (# 42200 ) trying to guess the tail/head of /m/0hz_1 /award/award_nominee/award_nominations./award/award_nomination/award /m/0bp_b2\nElapsed (s) = 1\n* (# 42300 ) trying to guess the tail/head of /m/02_n3z /film/film_job/films_with_this_crew_job./film/film_crew_gig/film /m/05c5z8j\nElapsed (s) = 2\n* (# 42400 ) trying to guess the tail/head of /m/016z7s /award/award_winning_work/awards_won./award/award_honor/award_winner /m/01hkhq\nElapsed (s) = 1\n* (# 42500 ) trying to guess the tail/head of /m/014mlp /education/educational_degree/people_with_this_degree./education/education/institution /m/03x83_\nElapsed (s) = 1\n* (# 42600 ) trying to guess the tail/head of /m/0884hk /award/award_nominee/award_nominations./award/award_nomination/award_nominee /m/0697kh\nElapsed (s) = 2\n* (# 42700 ) trying to guess the tail/head of /m/03wh95l /award/award_winner/awards_won./award/award_honor/award /m/0cjyzs\nElapsed (s) = 3\n* (# 42800 ) trying to guess the tail/head of /m/02gys2 /sports/sports_team/roster./sports/sports_team_roster/position /m/02nzb8\nElapsed (s) = 2\n* (# 42900 ) trying to guess the tail/head of /m/018vs /music/instrument/instrumentalists /m/01m65sp\nElapsed (s) = 2\n* (# 43000 ) trying to guess the tail/head of /m/02d02 /baseball/baseball_team/team_stats./baseball/baseball_team_stats/season /m/03c74_8\nElapsed (s) = 1\n* (# 43100 ) trying to guess the tail/head of /m/0d8zt /location/location/time_zones /m/02llzg\nElapsed (s) = 1\n* (# 43200 ) trying to guess the tail/head of /m/04gknr /film/film/other_crew./film/film_crew_gig/crewmember /m/0284n42\nElapsed (s) = 1\n* (# 43300 ) trying to guess the tail/head of /m/02lq5w /olympics/olympic_medal/medal_winners./olympics/olympic_medal_honor/olympics /m/0lv1x\nElapsed (s) = 1\n* (# 43400 ) trying to guess the tail/head of /m/0c4hnm /award/award_ceremony/awards_presented./award/award_honor/award_winner /m/0250f\nElapsed (s) = 1\n* (# 43500 ) trying to guess the tail/head of /m/04gr35 /people/person/profession /m/018gz8\nElapsed (s) = 2\n* (# 43600 ) trying to guess the tail/head of /m/0487_ /sports/sports_team/roster./american_football/football_historical_roster_position/position_s /m/06b1q\nElapsed (s) = 1\n* (# 43700 ) trying to guess the tail/head of /m/0ncy4 /location/location/people_born_here /m/03h8_g\nElapsed (s) = 1\n* (# 43800 ) trying to guess the tail/head of /m/020h2v /award/award_winner/awards_won./award/award_honor/honored_for /m/01qb559\nElapsed (s) = 1\n* (# 43900 ) trying to guess the tail/head of /m/01pr6q7 /people/deceased_person/place_of_death /m/0f2wj\nElapsed (s) = 1\n* (# 44000 ) trying to guess the tail/head of /m/0jm_ /sports/sport/pro_athletes./sports/pro_sports_played/athlete /m/03vrv9\nElapsed (s) = 1\n* (# 44100 ) trying to guess the tail/head of /m/02q8ms8 /film/film/genre /m/02l7c8\nElapsed (s) = 1\n* (# 44200 ) trying to guess the tail/head of /m/0g2lq /award/award_nominee/award_nominations./award/award_nomination/nominated_for /m/09m6kg\nElapsed (s) = 1\n* (# 44300 ) trying to guess the tail/head of /m/01xndd /people/person/profession /m/0dxtg\nElapsed (s) = 2\n* (# 44400 ) trying to guess the tail/head of /m/027gs1_ /award/award_category/winners./award/award_honor/honored_for /m/02h2vv\nElapsed (s) = 1\n* (# 44500 ) trying to guess the tail/head of /m/0fpzt5 /award/award_winner/awards_won./award/award_honor/award /m/0265vt\nElapsed (s) = 1\n* (# 44600 ) trying to guess the tail/head of /m/03t9sp /music/artist/genre /m/02lkt\nElapsed (s) = 2\n* (# 44700 ) trying to guess the tail/head of /m/062zjtt /film/film/language /m/02h40lc\nElapsed (s) = 1\n* (# 44800 ) trying to guess the tail/head of /m/017180 /award/award_nominated_work/award_nominations./award/award_nomination/award /m/09td7p\nElapsed (s) = 1\n* (# 44900 ) trying to guess the tail/head of /m/03zw80 /base/schemastaging/organization_extra/phone_number./base/schemastaging/phone_sandbox/service_language /m/02h40lc\nElapsed (s) = 1\n* (# 45000 ) trying to guess the tail/head of /m/016tw3 /award/award_winner/awards_won./award/award_honor/honored_for /m/0gc_c_\nElapsed (s) = 2\n* (# 45100 ) trying to guess the tail/head of /m/057xn_m /celebrities/celebrity/celebrity_friends./celebrities/friendship/friend /m/03y82t6\nElapsed (s) = 1\n* (# 45200 ) trying to guess the tail/head of /m/01grqd /government/legislative_session/members./government/government_position_held/district_represented /m/059f4\nElapsed (s) = 1\n* (# 45300 ) trying to guess the tail/head of /m/02pl5bx /music/genre/artists /m/016fmf\nElapsed (s) = 2\n* (# 45400 ) trying to guess the tail/head of /m/03q5dr /film/actor/film./film/performance/film /m/03cvwkr\nElapsed (s) = 1\n* (# 45500 ) trying to guess the tail/head of /m/07ssc /government/governmental_jurisdiction/governing_officials./government/government_position_held/office_holder /m/082xp\nElapsed (s) = 2\n* (# 45600 ) trying to guess the tail/head of /m/0bbz66j /people/ethnicity/people /m/03x22w\nElapsed (s) = 2\n* (# 45700 ) trying to guess the tail/head of /m/0xhtw /music/genre/artists /m/0178_w\nElapsed (s) = 1\n* (# 45800 ) trying to guess the tail/head of /m/0fb1q /base/academyawards/host_of_oscar_show/oscar_show_hosted /m/02ywhz\nElapsed (s) = 1\n* (# 45900 ) trying to guess the tail/head of /m/01lb14 /olympics/olympic_sport/athletes./olympics/olympic_athlete_affiliation/country /m/0ctw_b\nElapsed (s) = 1\n* (# 46000 ) trying to guess the tail/head of /m/0blq0z /film/actor/film./film/performance/film /m/07tlfx\nElapsed (s) = 2\n* (# 46100 ) trying to guess the tail/head of /m/02k_kn /music/genre/artists /m/04xrx\nElapsed (s) = 1\n* (# 46200 ) trying to guess the tail/head of /m/02nhxf /award/award_category/nominees./award/award_nomination/award_nominee /m/0dzc16\nElapsed (s) = 1\n* (# 46300 ) trying to guess the tail/head of /m/0cqh6z /award/award_category/winners./award/award_honor/honored_for /m/0h3mh3q\nElapsed (s) = 1\n* (# 46400 ) trying to guess the tail/head of /m/0bfvd4 /award/award_category/nominees./award/award_nomination/nominated_for /m/02ppg1r\nElapsed (s) = 1\n* (# 46500 ) trying to guess the tail/head of /m/0d9xq /award/award_winner/awards_won./award/award_honor/award /m/03nc9d\nElapsed (s) = 2\n* (# 46600 ) trying to guess the tail/head of /m/016ypb /film/actor/film./film/performance/film /m/0645k5\nElapsed (s) = 2\n* (# 46700 ) trying to guess the tail/head of /m/03z20c /media_common/netflix_title/netflix_genres /m/01z4y\nElapsed (s) = 2\n* (# 46800 ) trying to guess the tail/head of /m/0gqy2 /award/award_category/nominees./award/award_nomination/nominated_for /m/0cbn7c\nElapsed (s) = 1\n* (# 46900 ) trying to guess the tail/head of /m/02hv44_ /people/profession/people_with_this_profession /m/01x4r3\nElapsed (s) = 1\n* (# 47000 ) trying to guess the tail/head of /m/04w58 /olympics/olympic_participating_country/athletes./olympics/olympic_athlete_affiliation/sport /m/06f41\nElapsed (s) = 1\n* (# 47100 ) trying to guess the tail/head of /m/02s4l6 /film/film/executive_produced_by /m/06q8hf\nElapsed (s) = 1\n* (# 47200 ) trying to guess the tail/head of /m/0c00zd0 /film/film/country /m/09c7w0\nElapsed (s) = 2\n* (# 47300 ) trying to guess the tail/head of /m/018gkb /music/group_member/instruments_played /m/05148p4\nElapsed (s) = 2\n* (# 47400 ) trying to guess the tail/head of /m/05bnq3j /award/award_winner/awards_won./award/award_honor/honored_for /m/01j7mr\nElapsed (s) = 1\n* (# 47500 ) trying to guess the tail/head of /m/0gsg7 /tv/tv_network/programs./tv/tv_network_duration/program /m/04glx0\nElapsed (s) = 2\n* (# 47600 ) trying to guess the tail/head of /m/016ksk /people/person/education./education/education/institution /m/02gr81\nElapsed (s) = 2\n* (# 47700 ) trying to guess the tail/head of /m/013yq /location/location/people_born_here /m/02b9g4\nElapsed (s) = 1\n* (# 47800 ) trying to guess the tail/head of /m/092c5f /award/award_ceremony/awards_presented./award/award_honor/honored_for /m/02cbhg\nElapsed (s) = 1\n* (# 47900 ) trying to guess the tail/head of /m/04ztj /people/marriage_union_type/unions_of_this_type./people/marriage/spouse /m/01ckhj\nElapsed (s) = 2\n* (# 48000 ) trying to guess the tail/head of /m/05xbx /tv/tv_network/programs./tv/tv_network_duration/program /m/04xbq3\nElapsed (s) = 2\n* (# 48100 ) trying to guess the tail/head of /m/02gjrc /tv/tv_program/regular_cast./tv/regular_tv_appearance/actor /m/02hsgn\nElapsed (s) = 1\n* (# 48200 ) trying to guess the tail/head of /m/0ds3t5x /award/award_nominated_work/award_nominations./award/award_nomination/award /m/0gqwc\nElapsed (s) = 1\n* (# 48300 ) trying to guess the tail/head of /m/018d6l /music/artist/track_contributions./music/track_contribution/role /m/018vs\nElapsed (s) = 1\n* (# 48400 ) trying to guess the tail/head of /m/053f5 /user/tsegaran/random/taxonomy_subject/entry./user/tsegaran/random/taxonomy_entry/taxonomy /m/04n6k\nElapsed (s) = 1\n* (# 48500 ) trying to guess the tail/head of /m/07n3s /music/musical_group/member./music/group_membership/role /m/01wy6\nElapsed (s) = 2\n* (# 48600 ) trying to guess the tail/head of /m/03vrv9 /film/director/film /m/03pc89\nElapsed (s) = 2\n* (# 48700 ) trying to guess the tail/head of /m/017r13 /film/producer/film /m/02rv_dz\nElapsed (s) = 2\n* (# 48800 ) trying to guess the tail/head of /m/09f2j /education/educational_institution/students_graduates./education/education/student /m/0svqs\nElapsed (s) = 1\n* (# 48900 ) trying to guess the tail/head of /m/018p4y /people/person/spouse_s./people/marriage/type_of_union /m/04ztj\nElapsed (s) = 1\n* (# 49000 ) trying to guess the tail/head of /m/04165w /award/award_nominated_work/award_nominations./award/award_nomination/nominated_for /m/02mt51\nElapsed (s) = 1\n* (# 49100 ) trying to guess the tail/head of /m/054g1r /film/film_distributor/films_distributed./film/film_film_distributor_relationship/film /m/014l6_\nElapsed (s) = 2\n* (# 49200 ) trying to guess the tail/head of /m/027gs1_ /award/award_category/nominees./award/award_nomination/nominated_for /m/0d68qy\nElapsed (s) = 2\n* (# 49300 ) trying to guess the tail/head of /m/09gq0x5 /award/award_nominated_work/award_nominations./award/award_nomination/award /m/02r22gf\nElapsed (s) = 2\n* (# 49400 ) trying to guess the tail/head of /m/04tc1g /film/film/release_date_s./film/film_regional_release_date/film_release_distribution_medium /m/029j_\nElapsed (s) = 1\n* (# 49500 ) trying to guess the tail/head of /m/01wyz92 /music/artist/label /m/03qk20\nElapsed (s) = 1\n* (# 49600 ) trying to guess the tail/head of /m/05pdd86 /film/film/genre /m/05p553\nElapsed (s) = 2\n* (# 49700 ) trying to guess the tail/head of /m/01yhm /common/topic/webpage./common/webpage/category /m/08mbj32\nElapsed (s) = 1\n* (# 49800 ) trying to guess the tail/head of /m/09_gdc /film/special_film_performance_type/film_performance_type./film/performance/actor /m/0139q5\nElapsed (s) = 1\n* (# 49900 ) trying to guess the tail/head of /m/09sr0 /film/film/release_date_s./film/film_regional_release_date/film_release_distribution_medium /m/029j_\nElapsed (s) = 1\n* done with rule application\n* evaluated 22316 rules to propose candiates for 50000 *2 completion tasks\n* finished in 1128294 ms.\n"
    }
   ],
   "source": [
    "predictor.prediction(True)"
   ]
  },
  {
   "cell_type": "code",
   "execution_count": 16,
   "metadata": {
    "tags": []
   },
   "outputs": [
    {
     "output_type": "stream",
     "name": "stdout",
     "text": "* indexed 100000 triples\n* indexed 200000 triples\n* indexed 300000 triples\n* indexed 400000 triples\n* set up index for 1345 relations, 14834 head entities, and 14903 tail entities\n* set up index for 916 relations, 11886 head entities, and 11285 tail entities\n* set up index for 961 relations, 12297 head entities, and 11825 tail entities\nhits@1    hits@3    hits@10\n0.7913\t  0.8084    0.8230\n"
    }
   ],
   "source": [
    "from evaluation import Evaluation\n",
    "eval = Evaluation(dataset)\n",
    "eval.eval(True)"
   ]
  },
  {
   "cell_type": "code",
   "execution_count": 7,
   "metadata": {
    "tags": []
   },
   "outputs": [
    {
     "output_type": "stream",
     "name": "stdout",
     "text": "hits@1    hits@3    hits@10\n0.0000\t  0.0000    0.0000\n"
    }
   ],
   "source": [
    "eval.eval(False)"
   ]
  },
  {
   "cell_type": "code",
   "execution_count": 10,
   "metadata": {
    "tags": []
   },
   "outputs": [
    {
     "output_type": "stream",
     "name": "stdout",
     "text": "hits@1    hits@3    hits@10\n0.0000\t  0.0000    0.0000\n"
    }
   ],
   "source": [
    "eval.eval(is_test_set=False)\n"
   ]
  },
  {
   "cell_type": "code",
   "execution_count": 12,
   "metadata": {
    "tags": []
   },
   "outputs": [
    {
     "output_type": "stream",
     "name": "stdout",
     "text": "hits@1    hits@3    hits@10\n0.0000\t  0.0000    0.0000\n"
    }
   ],
   "source": [
    "eval.eval(True, True)"
   ]
  },
  {
   "cell_type": "code",
   "execution_count": null,
   "metadata": {},
   "outputs": [],
   "source": []
  }
 ]
}