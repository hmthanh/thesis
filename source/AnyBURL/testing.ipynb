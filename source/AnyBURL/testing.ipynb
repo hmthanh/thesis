{
 "cells": [
  {
   "cell_type": "code",
   "execution_count": 1,
   "metadata": {
    "tags": []
   },
   "outputs": [
    {
     "output_type": "stream",
     "name": "stdout",
     "text": "* set up index for 224 relations, 8171 head entities, and 6376 tail entities\n"
    }
   ],
   "source": [
    "from data.triple_set import TripleSet\n",
    "data = TripleSet()\n",
    "data.read_triples('../../datasets/FB15k-237/test.txt')"
   ]
  },
  {
   "cell_type": "code",
   "execution_count": 2,
   "metadata": {},
   "outputs": [
    {
     "output_type": "execute_result",
     "data": {
      "text/plain": "'/m/08966 /travel/travel_destination/climate./travel/travel_destination_monthly_climate/month /m/05lf_\\n /m/01hww_ /music/performance_role/regular_performances./music/group_membership/group /m/01q99h\\n /m/09v3jyg /film/film/release_date_s./film/film_regional_release_date/film_release_region /m/0f8l9c\\n /m/02jx1 /location/location/contains /m/013t85\\n /m/02jx1 /location/location/contains /m/0m0bj\\n /m/02bfmn /film/actor/film./film/performance/film /m/04ghz4m\\n /m/05zrvfd /award/award_category/nominees./award/award_nomination/nominated_for /m/04y9mm8\\n /m/060bp /government/government_office_category/officeholders./government/government_position_held/jurisdiction_of_office /m/04j53\\n /m/07l450 /film/film/genre /m/082gq\\n /m/07h1h5 /sports/pro_athlete/teams./sports/sports_team_roster/team /m/029q3k\\n'"
     },
     "metadata": {},
     "execution_count": 2
    }
   ],
   "source": [
    "' '.join([str(item) for item in data.triples[0:10]])"
   ]
  },
  {
   "cell_type": "markdown",
   "metadata": {},
   "source": [
    "# test path sample"
   ]
  },
  {
   "cell_type": "code",
   "execution_count": 3,
   "metadata": {
    "tags": []
   },
   "outputs": [
    {
     "output_type": "stream",
     "name": "stdout",
     "text": "* set up index for 224 relations, 8171 head entities, and 6376 tail entities\n* read 20466 triples\n"
    }
   ],
   "source": [
    "from data.triple_set import TripleSet\n",
    "data = TripleSet()\n",
    "data.read_triples('../../datasets/FB15k-237/test.txt')\n",
    "print('* read {} triples'.format(len(data.triples)))"
   ]
  },
  {
   "cell_type": "code",
   "execution_count": 4,
   "metadata": {},
   "outputs": [],
   "source": [
    "from algorithm.path_sampler import PathSampler\n",
    "ps = PathSampler(data)"
   ]
  },
  {
   "cell_type": "code",
   "execution_count": 5,
   "metadata": {
    "tags": []
   },
   "outputs": [
    {
     "output_type": "stream",
     "name": "stdout",
     "text": "/m/02rx2m5\n->-/award/award_category/nominees./award/award_nomination/nominated_for->/m/09sb52->+/award/award_category/nominees./award/award_nomination/nominated_for->/m/02rx2m5\n\n\n\n\n\n/m/02z6l5f->+/award/award_nominee/award_nominations./award/award_nomination/award->/m/04g2jz2\n->-/award/award_nominee/award_nominations./award/award_nomination/award->/m/02z6l5f\n\n\n\n\n/m/01y49->+/sports/sports_team/sport->/m/0jm_\n->-/sports/sports_team/sport->/m/01y49\n\n\n\n\n/m/07p62k->+/film/film/production_companies->/m/017s11\n->-/film/film/production_companies->/m/07p62k\n\n\n\n\n/m/029j_\n->-/film/film/release_date_s./film/film_regional_release_date/film_release_distribution_medium->/m/02sg5v->+/film/film/release_date_s./film/film_regional_release_date/film_release_distribution_medium->/m/029j_\n\n\n\n\n\n/m/0cqgl9\n->-/award/award_nominee/award_nominations./award/award_nomination/award->/m/01vwllw->+/award/award_nominee/award_nominations./award/award_nomination/award->/m/0cqgl9\n\n\n\n\n\n/m/027z0pl\n->-/film/film/executive_produced_by->/m/03h4fq7->+/film/film/executive_produced_by->/m/027z0pl\n\n\n\n\n\n/m/01rzqj->+/people/person/place_of_birth->/m/0nbrp\n->-/people/person/place_of_birth->/m/01rzqj\n\n\n\n\n/m/0d060g\n->-/film/film/country->/m/0cw3yd->+/film/film/country->/m/0d060g\n\n\n\n\n\n/m/08mbj5d\n->-/common/topic/webpage./common/webpage/category->/m/01t38b->+/common/topic/webpage./common/webpage/category->/m/08mbj5d\n\n\n\n\n\n/m/01hvjx->+/film/film/other_crew./film/film_crew_gig/film_crew_role->/m/01vx2h\n->-/film/film/other_crew./film/film_crew_gig/film_crew_role->/m/01hvjx\n\n\n\n\n/m/0345h->+/location/location/contains->/m/0ps1q\n->-/location/location/contains->/m/0345h\n\n\n\n\n/m/0dn16->+/music/genre/parent_genre->/m/06by7\n->-/music/genre/parent_genre->/m/0dn16\n\n\n\n\n/m/02r96rf\n->-/film/film/other_crew./film/film_crew_gig/film_crew_role->/m/0cc97st->+/film/film/other_crew./film/film_crew_gig/film_crew_role->/m/02r96rf\n\n\n\n\n\n"
    }
   ],
   "source": [
    "some_pathes = set([])\n",
    "for i in range(1000):\n",
    "    p = ps.sample_path(2, True)\n",
    "    if i % 50 == 0 and p is not None:\n",
    "        print(p)\n",
    "        print(\"\\n\\n\\n\")\n",
    "    if p is not None: ###p.isValid()) {\n",
    "        some_pathes.add(p)"
   ]
  },
  {
   "cell_type": "code",
   "execution_count": null,
   "metadata": {},
   "outputs": [],
   "source": []
  }
 ],
 "metadata": {
  "language_info": {
   "codemirror_mode": {
    "name": "ipython",
    "version": 3
   },
   "file_extension": ".py",
   "mimetype": "text/x-python",
   "name": "python",
   "nbconvert_exporter": "python",
   "pygments_lexer": "ipython3",
   "version": "3.7.3-final"
  },
  "orig_nbformat": 2,
  "kernelspec": {
   "name": "python3",
   "display_name": "Python 3"
  }
 },
 "nbformat": 4,
 "nbformat_minor": 2
}