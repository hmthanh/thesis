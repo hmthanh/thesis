{
 "cells": [
  {
   "cell_type": "code",
   "execution_count": 1,
   "metadata": {
    "tags": []
   },
   "outputs": [
    {
     "output_type": "stream",
     "name": "stdout",
     "text": "* set up index for 224 relations, 8171 head entities, and 6376 tail entities\n"
    }
   ],
   "source": [
    "from data.triple_set import TripleSet\n",
    "data = TripleSet()\n",
    "data.read_triples('../../datasets/FB15k-237/test.txt')"
   ]
  },
  {
   "cell_type": "code",
   "execution_count": 2,
   "metadata": {},
   "outputs": [
    {
     "output_type": "execute_result",
     "data": {
      "text/plain": "'/m/08966 /travel/travel_destination/climate./travel/travel_destination_monthly_climate/month /m/05lf_\\n /m/01hww_ /music/performance_role/regular_performances./music/group_membership/group /m/01q99h\\n /m/09v3jyg /film/film/release_date_s./film/film_regional_release_date/film_release_region /m/0f8l9c\\n /m/02jx1 /location/location/contains /m/013t85\\n /m/02jx1 /location/location/contains /m/0m0bj\\n /m/02bfmn /film/actor/film./film/performance/film /m/04ghz4m\\n /m/05zrvfd /award/award_category/nominees./award/award_nomination/nominated_for /m/04y9mm8\\n /m/060bp /government/government_office_category/officeholders./government/government_position_held/jurisdiction_of_office /m/04j53\\n /m/07l450 /film/film/genre /m/082gq\\n /m/07h1h5 /sports/pro_athlete/teams./sports/sports_team_roster/team /m/029q3k\\n'"
     },
     "metadata": {},
     "execution_count": 2
    }
   ],
   "source": [
    "' '.join([str(item) for item in data.triples[0:10]])"
   ]
  },
  {
   "cell_type": "markdown",
   "metadata": {},
   "source": [
    "# test path sample"
   ]
  },
  {
   "cell_type": "code",
   "execution_count": 3,
   "metadata": {
    "tags": []
   },
   "outputs": [
    {
     "output_type": "stream",
     "name": "stdout",
     "text": "* set up index for 224 relations, 8171 head entities, and 6376 tail entities\n* read 20466 triples\n"
    }
   ],
   "source": [
    "from data.triple_set import TripleSet\n",
    "data = TripleSet()\n",
    "data.read_triples('../../datasets/FB15k-237/test.txt')\n",
    "print('* read {} triples'.format(len(data.triples)))"
   ]
  },
  {
   "cell_type": "code",
   "execution_count": 4,
   "metadata": {},
   "outputs": [],
   "source": [
    "from algorithm.path_sampler import PathSampler\n",
    "ps = PathSampler(data)"
   ]
  },
  {
   "cell_type": "code",
   "execution_count": 1,
   "metadata": {
    "tags": []
   },
   "outputs": [],
   "source": [
    "some_path = set([])\n",
    "# for i in range(1000):\n",
    "#     p = ps.sample_path(2, True)\n",
    "#     if i % 50 == 0 and p is not None:\n",
    "#         print(p)\n",
    "#         print(\"\\n\\n\\n\")\n",
    "#     if p is not None: ###p.isValid()) {\n",
    "#         some_pathes.add(p)"
   ]
  },
  {
   "cell_type": "code",
   "execution_count": 1,
   "metadata": {
    "tags": []
   },
   "outputs": [
    {
     "output_type": "stream",
     "name": "stdout",
     "text": "* indexed 100000 triples\n* indexed 200000 triples\n* set up index for 237 relations, 13781 head entities, and 13379 tail entities\n"
    }
   ],
   "source": [
    "from learn import Learn\n",
    "# '../../datasets/FB15k-237/train.txt'\n",
    "learning = Learn('../../datasets/FB15k-237/train.txt')"
   ]
  },
  {
   "cell_type": "code",
   "execution_count": 2,
   "metadata": {
    "tags": []
   },
   "outputs": [
    {
     "output_type": "stream",
     "name": "stdout",
     "text": "* read 272115 triples\n>>> ~~~~~~~~~~~~~~~~~~current_coverage~~~~~~~~~~~~~~~~~~~~~~~~~~  0.35420157782756867\n>>> ~~~~~~~~~~~~~~~~~~current_coverage~~~~~~~~~~~~~~~~~~~~~~~~~~  0.53761404173375\n================== done learning ====================, len useful_rules = 63591\n1.0\n0.27058823529411763\n0.7307692307692307\n0.2077764277035237\n0.6206896551724138\n0.7777777777777778\n0.10191082802547771\n0.7647058823529411\n0.8333333333333334\n0.8333333333333334\n0.5789473684210527\n0.3880597014925373\n0.8\n0.35714285714285715\n0.7272727272727273\n0.5862068965517241\n0.7735849056603774\n0.7692307692307693\n0.8\n0.27906976744186046\n0.625\n0.2777777777777778\n0.225\n0.8888888888888888\n0.64\n0.5263157894736842\n0.11363636363636363\n0.8275862068965517\n0.31413612565445026\n0.6736526946107785\n0.8333333333333334\n0.22580645161290322\n0.05128205128205128\n0.06666666666666667\n0.24659231722428748\n0.0999000999000999\n0.3125\n0.5116279069767442\n0.8\n0.10465116279069768\n0.23976023976023977\n0.3076923076923077\n0.24193548387096775\n0.8333333333333334\n0.7777777777777778\n0.7893660531697342\n0.475\n0.6875\n0.3333333333333333\n0.7142857142857143\n0.7916666666666666\n0.05384615384615385\n0.05755395683453238\n0.3088803088803089\n0.08591408591408592\n0.6666666666666666\n0.8\n0.4166666666666667\n0.14285714285714285\n0.11320754716981132\n0.2727272727272727\n0.5172413793103449\n0.5\n0.875\n0.42857142857142855\n0.8372093023255814\n0.42857142857142855\n0.16666666666666666\n0.6590909090909091\n0.8888888888888888\n0.0583232077764277\n0.7272727272727273\n0.4342105263157895\n0.23076923076923078\n0.3870967741935484\n0.7428571428571429\n0.6363636363636364\n0.14534883720930233\n0.08387096774193549\n0.47368421052631576\n0.056179775280898875\n0.13541666666666666\n0.3888888888888889\n0.5\n0.5714285714285714\n0.7142857142857143\n0.15706806282722513\n0.8181818181818182\n0.3564356435643564\n0.7586206896551724\n0.35714285714285715\n0.6\n0.38461538461538464\n1.0\n0.8571428571428571\n0.5172413793103449\n0.23076923076923078\n0.3055555555555556\n0.7333333333333333\n0.7169811320754716\n0.06693306693306693\n0.8679245283018868\n0.8947368421052632\n0.9333333333333333\n0.8333333333333334\n0.18181818181818182\n0.37037037037037035\n0.1390728476821192\n1.0\n0.06893106893106893\n0.21739130434782608\n0.12\n0.717391304347826\n0.2066115702479339\n0.6736111111111112\n0.6363636363636364\n0.9230769230769231\n1.0\n1.0\n0.19455252918287938\n0.7333333333333333\n0.5454545454545454\n0.3\n0.8\n0.20348837209302326\n0.48717948717948717\n1.0\n0.40476190476190477\n"
    }
   ],
   "source": [
    "learning.train()"
   ]
  },
  {
   "cell_type": "code",
   "execution_count": null,
   "metadata": {},
   "outputs": [],
   "source": []
  }
 ],
 "metadata": {
  "language_info": {
   "codemirror_mode": {
    "name": "ipython",
    "version": 3
   },
   "file_extension": ".py",
   "mimetype": "text/x-python",
   "name": "python",
   "nbconvert_exporter": "python",
   "pygments_lexer": "ipython3",
   "version": "3.7.3-final"
  },
  "orig_nbformat": 2,
  "kernelspec": {
   "name": "python3",
   "display_name": "Python 3"
  }
 },
 "nbformat": 4,
 "nbformat_minor": 2
}