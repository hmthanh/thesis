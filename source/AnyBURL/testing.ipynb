{
 "cells": [
  {
   "cell_type": "code",
   "execution_count": 1,
   "metadata": {
    "tags": []
   },
   "outputs": [
    {
     "output_type": "stream",
     "name": "stdout",
     "text": "* set up index for 224 relations, 8171 head entities, and 6376 tail entities\n"
    }
   ],
   "source": [
    "from data.triple_set import TripleSet\n",
    "data = TripleSet()\n",
    "data.read_triples('../../datasets/FB15k-237/test.txt')"
   ]
  },
  {
   "cell_type": "code",
   "execution_count": 2,
   "metadata": {},
   "outputs": [
    {
     "output_type": "execute_result",
     "data": {
      "text/plain": "'/m/08966 /travel/travel_destination/climate./travel/travel_destination_monthly_climate/month /m/05lf_\\n /m/01hww_ /music/performance_role/regular_performances./music/group_membership/group /m/01q99h\\n /m/09v3jyg /film/film/release_date_s./film/film_regional_release_date/film_release_region /m/0f8l9c\\n /m/02jx1 /location/location/contains /m/013t85\\n /m/02jx1 /location/location/contains /m/0m0bj\\n /m/02bfmn /film/actor/film./film/performance/film /m/04ghz4m\\n /m/05zrvfd /award/award_category/nominees./award/award_nomination/nominated_for /m/04y9mm8\\n /m/060bp /government/government_office_category/officeholders./government/government_position_held/jurisdiction_of_office /m/04j53\\n /m/07l450 /film/film/genre /m/082gq\\n /m/07h1h5 /sports/pro_athlete/teams./sports/sports_team_roster/team /m/029q3k\\n'"
     },
     "metadata": {},
     "execution_count": 2
    }
   ],
   "source": [
    "' '.join([str(item) for item in data.triples[0:10]])"
   ]
  },
  {
   "cell_type": "markdown",
   "metadata": {},
   "source": [
    "# test path sample"
   ]
  },
  {
   "cell_type": "code",
   "execution_count": 3,
   "metadata": {
    "tags": []
   },
   "outputs": [
    {
     "output_type": "stream",
     "name": "stdout",
     "text": "* set up index for 224 relations, 8171 head entities, and 6376 tail entities\n* read 20466 triples\n"
    }
   ],
   "source": [
    "from data.triple_set import TripleSet\n",
    "data = TripleSet()\n",
    "data.read_triples('../../datasets/FB15k-237/test.txt')\n",
    "print('* read {} triples'.format(len(data.triples)))"
   ]
  },
  {
   "cell_type": "code",
   "execution_count": 4,
   "metadata": {},
   "outputs": [],
   "source": [
    "from algorithm.path_sampler import PathSampler\n",
    "ps = PathSampler(data)"
   ]
  },
  {
   "cell_type": "code",
   "execution_count": 1,
   "metadata": {
    "tags": []
   },
   "outputs": [],
   "source": [
    "some_path = set([])\n",
    "# for i in range(1000):\n",
    "#     p = ps.sample_path(2, True)\n",
    "#     if i % 50 == 0 and p is not None:\n",
    "#         print(p)\n",
    "#         print(\"\\n\\n\\n\")\n",
    "#     if p is not None: ###p.isValid()) {\n",
    "#         some_pathes.add(p)"
   ]
  },
  {
   "cell_type": "code",
   "execution_count": 1,
   "metadata": {
    "tags": []
   },
   "outputs": [
    {
     "output_type": "stream",
     "name": "stdout",
     "text": "* set up index for 11 relations, 39610 head entities, and 31881 tail entities\n"
    }
   ],
   "source": [
    "from learn import Learn\n",
    "# '../../datasets/FB15k-237/train.txt' '../../datasets/WN18RR/train.txt'\n",
    "learning = Learn('../../datasets/WN18RR/train.txt')"
   ]
  },
  {
   "cell_type": "code",
   "execution_count": 2,
   "metadata": {
    "tags": []
   },
   "outputs": [
    {
     "output_type": "stream",
     "name": "stdout",
     "text": "* read 86835 triples\n>>> ****** Batch [CYCLIC 1] batchCounter: 1 (sampled 4036 pathes) *****\n>>> fraction of previously seen rules within useful rules in this batch: 0.11764705882352941  NEW=15 PREV=2 batch rules=2398\n>>> ****** Batch [ACYCLIC 1] batchCounter: 2 (sampled 162792 pathes) *****\n>>> fraction of previously seen rules within useful rules in this batch: 0.0  NEW=1 PREV=0 batch rules=98\n>>> ****** Batch [CYCLIC 1] batchCounter: 3 (sampled 167416 pathes) *****\n>>> fraction of previously seen rules within useful rules in this batch: 0.3181818181818182  NEW=15 PREV=7 batch rules=2706\n>>> ****** Batch [ACYCLIC 1] batchCounter: 4 (sampled 321313 pathes) *****\n>>> fraction of previously seen rules within useful rules in this batch: 0.0  NEW=1 PREV=0 batch rules=83\n>>> ****** Batch [CYCLIC 1] batchCounter: 5 (sampled 324559 pathes) *****\n>>> fraction of previously seen rules within useful rules in this batch: 0.5714285714285714  NEW=6 PREV=8 batch rules=1960\n>>> ****** Batch [ACYCLIC 1] batchCounter: 6 (sampled 455265 pathes) *****\n>>> fraction of previously seen rules within useful rules in this batch: 0.0  NEW=1 PREV=0 batch rules=94\n>>> ****** Batch [CYCLIC 1] batchCounter: 7 (sampled 458484 pathes) *****\n>>> fraction of previously seen rules within useful rules in this batch: 0.14285714285714285  NEW=12 PREV=2 batch rules=1827\n>>> ****** Batch [ACYCLIC 1] batchCounter: 8 (sampled 617699 pathes) *****\n>>> fraction of previously seen rules within useful rules in this batch: 0.0  NEW=1 PREV=0 batch rules=109\n>>> ****** Batch [CYCLIC 1] batchCounter: 9 (sampled 622240 pathes) *****\n>>> fraction of previously seen rules within useful rules in this batch: 0.4117647058823529  NEW=10 PREV=7 batch rules=2615\n>>> ****** Batch [ACYCLIC 1] batchCounter: 10 (sampled 795481 pathes) *****\n>>> fraction of previously seen rules within useful rules in this batch: 0.0  NEW=1 PREV=0 batch rules=107\n>>> ****** Batch [CYCLIC 1] batchCounter: 11 (sampled 800090 pathes) *****\n>>> fraction of previously seen rules within useful rules in this batch: 0.56  NEW=11 PREV=14 batch rules=2705\n>>> ****** Batch [ACYCLIC 1] batchCounter: 12 (sampled 955143 pathes) *****\n>>> fraction of previously seen rules within useful rules in this batch: 0.0  NEW=1 PREV=0 batch rules=93\n>>> ****** Batch [CYCLIC 1] batchCounter: 13 (sampled 959471 pathes) *****\n>>> fraction of previously seen rules within useful rules in this batch: 0.3333333333333333  NEW=10 PREV=5 batch rules=2559\n>>> ****** Batch [ACYCLIC 1] batchCounter: 14 (sampled 1120286 pathes) *****\n>>> fraction of previously seen rules within useful rules in this batch: 0.0  NEW=1 PREV=0 batch rules=100\n>>> ****** Batch [CYCLIC 1] batchCounter: 15 (sampled 1124646 pathes) *****\n>>> fraction of previously seen rules within useful rules in this batch: 0.55  NEW=9 PREV=11 batch rules=2590\n>>> ****** Batch [ACYCLIC 1] batchCounter: 16 (sampled 1286171 pathes) *****\n>>> fraction of previously seen rules within useful rules in this batch: 0.0  NEW=1 PREV=0 batch rules=92\n>>> ****** Batch [CYCLIC 1] batchCounter: 17 (sampled 1290352 pathes) *****\n>>> fraction of previously seen rules within useful rules in this batch: 0.5  NEW=2 PREV=2 batch rules=2517\n>>> ****** Batch [ACYCLIC 1] batchCounter: 18 (sampled 1447669 pathes) *****\n>>> fraction of previously seen rules within useful rules in this batch: 0.0  NEW=1 PREV=0 batch rules=103\n>>> ****** Batch [CYCLIC 1] batchCounter: 19 (sampled 1452141 pathes) *****\n>>> fraction of previously seen rules within useful rules in this batch: 0.6666666666666666  NEW=6 PREV=12 batch rules=2583\n>>> ****** Batch [ACYCLIC 1] batchCounter: 20 (sampled 1611173 pathes) *****\n>>> fraction of previously seen rules within useful rules in this batch: 0.0  NEW=1 PREV=0 batch rules=111\n>>> ****** Batch [CYCLIC 1] batchCounter: 21 (sampled 1615600 pathes) *****\n>>> fraction of previously seen rules within useful rules in this batch: 0.6190476190476191  NEW=8 PREV=13 batch rules=2594\n>>> ****** Batch [ACYCLIC 1] batchCounter: 22 (sampled 1781111 pathes) *****\n>>> fraction of previously seen rules within useful rules in this batch: 0.0  NEW=1 PREV=0 batch rules=102\n>>> ****** Batch [CYCLIC 1] batchCounter: 23 (sampled 1785576 pathes) *****\n>>> fraction of previously seen rules within useful rules in this batch: 0.6666666666666666  NEW=3 PREV=6 batch rules=2558\n>>> ****** Batch [ACYCLIC 1] batchCounter: 24 (sampled 1948696 pathes) *****\n>>> fraction of previously seen rules within useful rules in this batch: 0.0  NEW=1 PREV=0 batch rules=87\n>>> ****** Batch [CYCLIC 1] batchCounter: 25 (sampled 1952992 pathes) *****\n>>> fraction of previously seen rules within useful rules in this batch: 0.64  NEW=9 PREV=16 batch rules=2512\n>>> ****** Batch [ACYCLIC 1] batchCounter: 26 (sampled 2117239 pathes) *****\n>>> fraction of previously seen rules within useful rules in this batch: 0.0  NEW=1 PREV=0 batch rules=95\n>>> ****** Batch [CYCLIC 1] batchCounter: 27 (sampled 2121505 pathes) *****\n>>> fraction of previously seen rules within useful rules in this batch: 0.5384615384615384  NEW=6 PREV=7 batch rules=2501\n>>> ****** Batch [ACYCLIC 1] batchCounter: 28 (sampled 2287095 pathes) *****\n>>> fraction of previously seen rules within useful rules in this batch: 0.0  NEW=1 PREV=0 batch rules=98\n>>> ****** Batch [CYCLIC 1] batchCounter: 29 (sampled 2291477 pathes) *****\n>>> fraction of previously seen rules within useful rules in this batch: 0.5263157894736842  NEW=9 PREV=10 batch rules=2569\n>>> ****** Batch [ACYCLIC 1] batchCounter: 30 (sampled 2458792 pathes) *****\n>>> fraction of previously seen rules within useful rules in this batch: 0.0  NEW=1 PREV=0 batch rules=104\n>>> ****** Batch [CYCLIC 1] batchCounter: 31 (sampled 2463230 pathes) *****\n>>> fraction of previously seen rules within useful rules in this batch: 0.5263157894736842  NEW=9 PREV=10 batch rules=2659\n>>> ****** Batch [ACYCLIC 1] batchCounter: 32 (sampled 2631159 pathes) *****\n>>> fraction of previously seen rules within useful rules in this batch: 0.0  NEW=1 PREV=0 batch rules=98\n>>> ****** Batch [CYCLIC 1] batchCounter: 33 (sampled 2635663 pathes) *****\n>>> fraction of previously seen rules within useful rules in this batch: 0.5  NEW=11 PREV=11 batch rules=2706\n>>> ****** Batch [ACYCLIC 1] batchCounter: 34 (sampled 2803943 pathes) *****\n>>> fraction of previously seen rules within useful rules in this batch: 0.0  NEW=1 PREV=0 batch rules=98\n>>> ****** Batch [CYCLIC 1] batchCounter: 35 (sampled 2808288 pathes) *****\n>>> fraction of previously seen rules within useful rules in this batch: 0.5454545454545454  NEW=10 PREV=12 batch rules=2595\n>>> ****** Batch [ACYCLIC 1] batchCounter: 36 (sampled 2974253 pathes) *****\n>>> fraction of previously seen rules within useful rules in this batch: 0.0  NEW=1 PREV=0 batch rules=102\n>>> ****** Batch [CYCLIC 1] batchCounter: 37 (sampled 2978679 pathes) *****\n>>> fraction of previously seen rules within useful rules in this batch: 0.5555555555555556  NEW=4 PREV=5 batch rules=2580\n>>> ****** Batch [ACYCLIC 1] batchCounter: 38 (sampled 3142814 pathes) *****\n>>> fraction of previously seen rules within useful rules in this batch: 0.0  NEW=1 PREV=0 batch rules=101\n>>> ****** Batch [CYCLIC 1] batchCounter: 39 (sampled 3147268 pathes) *****\n>>> fraction of previously seen rules within useful rules in this batch: 0.7142857142857143  NEW=6 PREV=15 batch rules=2696\n>>> ~~~~~~~~~~~~~~~~~~~~~~~~~~~~~~~~~~~~~~~~~~~~ \n>>> INCREASING RULE SIZE OF rule_size_cyclic RULE TO  2\n>>> ~~~~~~~~~~~~~~~~~~~~~~~~~~~~~~~~~~~~~~~~~~~~\nincreasing rule size of rule_size_acyclic rules to  2  after  1593320415.8598206 s\n>>> ****** Batch [ACYCLIC 1] batchCounter: 40 (sampled 3311905 pathes) *****\n>>> fraction of previously seen rules within useful rules in this batch: 0.0  NEW=1 PREV=0 batch rules=106\n>>> ****** Batch [CYCLIC 2] batchCounter: 41 (sampled 3315234 pathes) *****\n>>> fraction of previously seen rules within useful rules in this batch: 0.0  NEW=19 PREV=0 batch rules=506\n>>> ****** Batch [ACYCLIC 1] batchCounter: 42 (sampled 3477145 pathes) *****\n>>> fraction of previously seen rules within useful rules in this batch: 0.0  NEW=1 PREV=0 batch rules=107\n>>> ****** Batch [CYCLIC 2] batchCounter: 43 (sampled 3480488 pathes) *****\n>>> fraction of previously seen rules within useful rules in this batch: 0.0  NEW=4 PREV=0 batch rules=502\n>>> ****** Batch [ACYCLIC 1] batchCounter: 44 (sampled 3632563 pathes) *****\n>>> fraction of previously seen rules within useful rules in this batch: 0.0  NEW=1 PREV=0 batch rules=113\n>>> ****** Batch [CYCLIC 2] batchCounter: 45 (sampled 3636236 pathes) *****\n>>> fraction of previously seen rules within useful rules in this batch: 0.0  NEW=12 PREV=0 batch rules=572\n>>> ****** Batch [ACYCLIC 1] batchCounter: 46 (sampled 3792400 pathes) *****\n>>> fraction of previously seen rules within useful rules in this batch: 0.0  NEW=1 PREV=0 batch rules=115\n>>> ****** Batch [CYCLIC 2] batchCounter: 47 (sampled 3795405 pathes) *****\n>>> fraction of previously seen rules within useful rules in this batch: 0.0  NEW=6 PREV=0 batch rules=508\n>>> ****** Batch [ACYCLIC 1] batchCounter: 48 (sampled 3956714 pathes) *****\n>>> fraction of previously seen rules within useful rules in this batch: 0.0  NEW=1 PREV=0 batch rules=108\n>>> ****** Batch [CYCLIC 2] batchCounter: 49 (sampled 3960448 pathes) *****\n>>> fraction of previously seen rules within useful rules in this batch: 0.08333333333333333  NEW=11 PREV=1 batch rules=564\n>>> ****** Batch [ACYCLIC 1] batchCounter: 50 (sampled 4125162 pathes) *****\n>>> fraction of previously seen rules within useful rules in this batch: 0.0  NEW=1 PREV=0 batch rules=112\n>>> ****** Batch [CYCLIC 2] batchCounter: 51 (sampled 4128143 pathes) *****\n>>> fraction of previously seen rules within useful rules in this batch: 0.0  NEW=11 PREV=0 batch rules=474\n>>> ****** Batch [ACYCLIC 1] batchCounter: 52 (sampled 4292808 pathes) *****\n>>> fraction of previously seen rules within useful rules in this batch: 0.0  NEW=1 PREV=0 batch rules=121\n>>> ****** Batch [CYCLIC 2] batchCounter: 53 (sampled 4296472 pathes) *****\n>>> fraction of previously seen rules within useful rules in this batch: 0.0  NEW=10 PREV=0 batch rules=566\n>>> ****** Batch [ACYCLIC 1] batchCounter: 54 (sampled 4458021 pathes) *****\n>>> fraction of previously seen rules within useful rules in this batch: 0.0  NEW=1 PREV=0 batch rules=118\n>>> ****** Batch [CYCLIC 2] batchCounter: 55 (sampled 4461249 pathes) *****\n>>> fraction of previously seen rules within useful rules in this batch: 0.07692307692307693  NEW=12 PREV=1 batch rules=476\n>>> ****** Batch [ACYCLIC 1] batchCounter: 56 (sampled 4629386 pathes) *****\n>>> fraction of previously seen rules within useful rules in this batch: 0.0  NEW=1 PREV=0 batch rules=90\n>>> ****** Batch [CYCLIC 2] batchCounter: 57 (sampled 4632297 pathes) *****\n>>> fraction of previously seen rules within useful rules in this batch: 0.0  NEW=7 PREV=0 batch rules=470\n>>> ****** Batch [ACYCLIC 1] batchCounter: 58 (sampled 4787760 pathes) *****\n>>> fraction of previously seen rules within useful rules in this batch: 0.0  NEW=1 PREV=0 batch rules=99\n>>> ****** Batch [CYCLIC 2] batchCounter: 59 (sampled 4791075 pathes) *****\n>>> fraction of previously seen rules within useful rules in this batch: 0.07692307692307693  NEW=12 PREV=1 batch rules=510\n>>> ****** Batch [ACYCLIC 1] batchCounter: 60 (sampled 4962877 pathes) *****\n>>> fraction of previously seen rules within useful rules in this batch: 0.0  NEW=1 PREV=0 batch rules=104\n>>> ****** Batch [CYCLIC 2] batchCounter: 61 (sampled 4966625 pathes) *****\n>>> fraction of previously seen rules within useful rules in this batch: 0.125  NEW=7 PREV=1 batch rules=578\n>>> ****** Batch [ACYCLIC 1] batchCounter: 62 (sampled 5118742 pathes) *****\n>>> fraction of previously seen rules within useful rules in this batch: 0.0  NEW=1 PREV=0 batch rules=85\n>>> ****** Batch [CYCLIC 2] batchCounter: 63 (sampled 5122210 pathes) *****\n>>> fraction of previously seen rules within useful rules in this batch: 0.3333333333333333  NEW=8 PREV=4 batch rules=566\n>>> ****** Batch [ACYCLIC 1] batchCounter: 64 (sampled 5283225 pathes) *****\n>>> fraction of previously seen rules within useful rules in this batch: 0.0  NEW=1 PREV=0 batch rules=92\n>>> ****** Batch [CYCLIC 2] batchCounter: 65 (sampled 5286450 pathes) *****\n>>> fraction of previously seen rules within useful rules in this batch: 0.2222222222222222  NEW=7 PREV=2 batch rules=518\n>>> ****** Batch [ACYCLIC 1] batchCounter: 66 (sampled 5437147 pathes) *****\n>>> fraction of previously seen rules within useful rules in this batch: 0.0  NEW=1 PREV=0 batch rules=79\n>>> ****** Batch [CYCLIC 2] batchCounter: 67 (sampled 5440842 pathes) *****\n>>> fraction of previously seen rules within useful rules in this batch: 0.06666666666666667  NEW=14 PREV=1 batch rules=586\n>>> ****** Batch [ACYCLIC 1] batchCounter: 68 (sampled 5639079 pathes) *****\n>>> fraction of previously seen rules within useful rules in this batch: 0.0  NEW=1 PREV=0 batch rules=112\n>>> ****** Batch [CYCLIC 2] batchCounter: 69 (sampled 5643181 pathes) *****\n>>> fraction of previously seen rules within useful rules in this batch: 0.16666666666666666  NEW=10 PREV=2 batch rules=654\n>>> ****** Batch [ACYCLIC 1] batchCounter: 70 (sampled 5839313 pathes) *****\n>>> fraction of previously seen rules within useful rules in this batch: 0.0  NEW=1 PREV=0 batch rules=117\n>>> ****** Batch [CYCLIC 2] batchCounter: 71 (sampled 5842246 pathes) *****\n>>> fraction of previously seen rules within useful rules in this batch: 0.0  NEW=6 PREV=0 batch rules=488\n>>> ****** Batch [ACYCLIC 1] batchCounter: 72 (sampled 6037173 pathes) *****\n>>> fraction of previously seen rules within useful rules in this batch: 0.0  NEW=1 PREV=0 batch rules=123\n>>> ****** Batch [CYCLIC 2] batchCounter: 73 (sampled 6041140 pathes) *****\n>>> fraction of previously seen rules within useful rules in this batch: 0.125  NEW=7 PREV=1 batch rules=624\n>>> ****** Batch [ACYCLIC 1] batchCounter: 74 (sampled 6235668 pathes) *****\n>>> fraction of previously seen rules within useful rules in this batch: 0.0  NEW=1 PREV=0 batch rules=132\n>>> ****** Batch [CYCLIC 2] batchCounter: 75 (sampled 6239288 pathes) *****\n>>> fraction of previously seen rules within useful rules in this batch: 0.25  NEW=6 PREV=2 batch rules=578\n>>> ****** Batch [ACYCLIC 1] batchCounter: 76 (sampled 6432710 pathes) *****\n>>> fraction of previously seen rules within useful rules in this batch: 0.0  NEW=1 PREV=0 batch rules=126\n>>> ****** Batch [CYCLIC 2] batchCounter: 77 (sampled 6436706 pathes) *****\n>>> fraction of previously seen rules within useful rules in this batch: 0.08333333333333333  NEW=11 PREV=1 batch rules=570\n>>> ****** Batch [ACYCLIC 1] batchCounter: 78 (sampled 6631124 pathes) *****\n>>> fraction of previously seen rules within useful rules in this batch: 0.0  NEW=1 PREV=0 batch rules=126\n>>> ****** Batch [CYCLIC 2] batchCounter: 79 (sampled 6634071 pathes) *****\n>>> fraction of previously seen rules within useful rules in this batch: 0.0  NEW=13 PREV=0 batch rules=410\n>>> ****** Batch [ACYCLIC 1] batchCounter: 80 (sampled 6824528 pathes) *****\n>>> fraction of previously seen rules within useful rules in this batch: 0.0  NEW=1 PREV=0 batch rules=118\n>>> ****** Batch [CYCLIC 2] batchCounter: 81 (sampled 6828757 pathes) *****\n>>> fraction of previously seen rules within useful rules in this batch: 0.1111111111111111  NEW=8 PREV=1 batch rules=594\n>>> ****** Batch [ACYCLIC 1] batchCounter: 82 (sampled 7023428 pathes) *****\n>>> fraction of previously seen rules within useful rules in this batch: 0.0  NEW=1 PREV=0 batch rules=116\n>>> ****** Batch [CYCLIC 2] batchCounter: 83 (sampled 7027187 pathes) *****\n>>> fraction of previously seen rules within useful rules in this batch: 0.125  NEW=7 PREV=1 batch rules=554\n>>> ****** Batch [ACYCLIC 1] batchCounter: 84 (sampled 7214730 pathes) *****\n>>> fraction of previously seen rules within useful rules in this batch: 0.0  NEW=1 PREV=0 batch rules=129\n>>> ****** Batch [CYCLIC 2] batchCounter: 85 (sampled 7219339 pathes) *****\n>>> fraction of previously seen rules within useful rules in this batch: 0.0  NEW=12 PREV=0 batch rules=684\n>>> ****** Batch [ACYCLIC 1] batchCounter: 86 (sampled 7408773 pathes) *****\n>>> fraction of previously seen rules within useful rules in this batch: 0.0  NEW=1 PREV=0 batch rules=107\n>>> ****** Batch [CYCLIC 2] batchCounter: 87 (sampled 7413602 pathes) *****\n>>> fraction of previously seen rules within useful rules in this batch: 0.13333333333333333  NEW=13 PREV=2 batch rules=734\n>>> ****** Batch [ACYCLIC 1] batchCounter: 88 (sampled 7612373 pathes) *****\n>>> fraction of previously seen rules within useful rules in this batch: 0.0  NEW=1 PREV=0 batch rules=116\n>>> ****** Batch [CYCLIC 2] batchCounter: 89 (sampled 7615551 pathes) *****\n>>> fraction of previously seen rules within useful rules in this batch: 0.1875  NEW=13 PREV=3 batch rules=544\n>>> ****** Batch [ACYCLIC 1] batchCounter: 90 (sampled 7811065 pathes) *****\n>>> fraction of previously seen rules within useful rules in this batch: 0.0  NEW=1 PREV=0 batch rules=126\n>>> ****** Batch [CYCLIC 2] batchCounter: 91 (sampled 7814709 pathes) *****\n>>> fraction of previously seen rules within useful rules in this batch: 0.125  NEW=7 PREV=1 batch rules=486\n>>> ****** Batch [ACYCLIC 1] batchCounter: 92 (sampled 8007509 pathes) *****\n>>> fraction of previously seen rules within useful rules in this batch: 0.0  NEW=1 PREV=0 batch rules=133\n>>> ****** Batch [CYCLIC 2] batchCounter: 93 (sampled 8011459 pathes) *****\n>>> fraction of previously seen rules within useful rules in this batch: 0.18181818181818182  NEW=9 PREV=2 batch rules=590\n>>> ****** Batch [ACYCLIC 1] batchCounter: 94 (sampled 8207632 pathes) *****\n>>> fraction of previously seen rules within useful rules in this batch: 0.0  NEW=1 PREV=0 batch rules=111\n>>> ****** Batch [CYCLIC 2] batchCounter: 95 (sampled 8211142 pathes) *****\n>>> fraction of previously seen rules within useful rules in this batch: 0.25  NEW=6 PREV=2 batch rules=538\n>>> ****** Batch [ACYCLIC 1] batchCounter: 96 (sampled 8404075 pathes) *****\n>>> fraction of previously seen rules within useful rules in this batch: 0.0  NEW=1 PREV=0 batch rules=121\n>>> ****** Batch [CYCLIC 2] batchCounter: 97 (sampled 8407765 pathes) *****\n>>> fraction of previously seen rules within useful rules in this batch: 0.14285714285714285  NEW=6 PREV=1 batch rules=624\n>>> ****** Batch [ACYCLIC 1] batchCounter: 98 (sampled 8596669 pathes) *****\n>>> fraction of previously seen rules within useful rules in this batch: 0.0  NEW=1 PREV=0 batch rules=121\n>>> ****** Batch [CYCLIC 2] batchCounter: 99 (sampled 8600932 pathes) *****\n>>> fraction of previously seen rules within useful rules in this batch: 0.21428571428571427  NEW=11 PREV=3 batch rules=638\n>>> ****** Batch [ACYCLIC 1] batchCounter: 100 (sampled 8795727 pathes) *****\n>>> fraction of previously seen rules within useful rules in this batch: 0.0  NEW=1 PREV=0 batch rules=115\n================== done learning ====================, len useful_rules = 151\n0.2777777777777778\n0.8333333333333334\n================== done learning ====================, len useful_rules = 255\n0.5555555555555556\n0.8571428571428571\n0.6846153846153846\n"
    }
   ],
   "source": [
    "learning.train()"
   ]
  },
  {
   "cell_type": "code",
   "execution_count": null,
   "metadata": {},
   "outputs": [],
   "source": []
  }
 ],
 "metadata": {
  "language_info": {
   "codemirror_mode": {
    "name": "ipython",
    "version": 3
   },
   "file_extension": ".py",
   "mimetype": "text/x-python",
   "name": "python",
   "nbconvert_exporter": "python",
   "pygments_lexer": "ipython3",
   "version": "3.7.3-final"
  },
  "orig_nbformat": 2,
  "kernelspec": {
   "name": "python3",
   "display_name": "Python 3"
  }
 },
 "nbformat": 4,
 "nbformat_minor": 2
}