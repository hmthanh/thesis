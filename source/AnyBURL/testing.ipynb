{
 "cells": [
  {
   "cell_type": "markdown",
   "metadata": {},
   "source": [
    "# test path sample"
   ]
  },
  {
   "cell_type": "code",
   "execution_count": 3,
   "metadata": {
    "tags": []
   },
   "outputs": [
    {
     "output_type": "stream",
     "name": "stdout",
     "text": "* set up index for 224 relations, 8171 head entities, and 6376 tail entities\n* read 20466 triples\n"
    }
   ],
   "source": [
    "from data.triple_set import TripleSet\n",
    "data = TripleSet()\n",
    "data.read_triples('../../datasets/FB15k-237/test.txt')\n",
    "print('* read {} triples'.format(len(data.triples)))"
   ]
  },
  {
   "cell_type": "code",
   "execution_count": 4,
   "metadata": {},
   "outputs": [],
   "source": [
    "from algorithm.path_sampler import PathSampler\n",
    "ps = PathSampler(data)"
   ]
  },
  {
   "cell_type": "code",
   "execution_count": 1,
   "metadata": {
    "tags": []
   },
   "outputs": [],
   "source": [
    "some_path = set([])\n",
    "# for i in range(1000):\n",
    "#     p = ps.sample_path(2, True)\n",
    "#     if i % 50 == 0 and p is not None:\n",
    "#         print(p)\n",
    "#         print(\"\\n\\n\\n\")\n",
    "#     if p is not None: ###p.isValid()) {\n",
    "#         some_pathes.add(p)"
   ]
  },
  {
   "cell_type": "markdown",
   "metadata": {},
   "source": [
    "## Test leaning"
   ]
  },
  {
   "cell_type": "code",
   "execution_count": 1,
   "metadata": {
    "tags": []
   },
   "outputs": [
    {
     "output_type": "stream",
     "name": "stdout",
     "text": "* indexed 100000 triples\n* indexed 200000 triples\n* set up index for 237 relations, 13781 head entities, and 13379 tail entities\n"
    }
   ],
   "source": [
    "from learn import Learn\n",
    "# '../../datasets/FB15k-237/train.txt' '../../datasets/WN18RR/train.txt'\n",
    "learning = Learn('../../datasets/FB15k-237/train.txt')"
   ]
  },
  {
   "cell_type": "code",
   "execution_count": 2,
   "metadata": {
    "tags": []
   },
   "outputs": [
    {
     "output_type": "stream",
     "name": "stdout",
     "text": ">>> ****** Batch [CYCLIC 1] batchCounter: 1 (sampled 1569 pathes) *****\n>>> fraction of previously seen rules within useful rules in this batch: 0.016129032258064516  NEW=427 PREV=7 batch rules=1530\n>>> ****** Batch [ACYCLIC 1] batchCounter: 2 (sampled 33480 pathes) *****\n>>> fraction of previously seen rules within useful rules in this batch: 0.8702742772424018  NEW=175 PREV=1174 batch rules=1494\n>>> ~~~~~~~~~~~~~~~~~~~~~~~~~~~~~~~~~~~~~~~~~~~~ \n>>> INCREASING RULE SIZE OF rule_size_cyclic RULE TO  1\n>>> ~~~~~~~~~~~~~~~~~~~~~~~~~~~~~~~~~~~~~~~~~~~~\nincreasing rule size of rule_size_acyclic rules to  1  after  1593332068.4947617 s\n>>> ****** Batch [CYCLIC 1] batchCounter: 3 (sampled 35087 pathes) *****\n>>> fraction of previously seen rules within useful rules in this batch: 0.06004618937644342  NEW=407 PREV=26 batch rules=1589\n>>> ****** Batch [ACYCLIC 2] batchCounter: 4 (sampled 124374 pathes) *****\n>>> fraction of previously seen rules within useful rules in this batch: 0.0  NEW=1 PREV=0 batch rules=0\n>>> ****** Batch [CYCLIC 1] batchCounter: 5 (sampled 126098 pathes) *****\n>>> fraction of previously seen rules within useful rules in this batch: 0.09266409266409266  NEW=470 PREV=48 batch rules=1618\n>>> ****** Batch [ACYCLIC 2] batchCounter: 6 (sampled 208513 pathes) *****\n>>> fraction of previously seen rules within useful rules in this batch: 0.0  NEW=1 PREV=0 batch rules=0\n>>> ****** Batch [CYCLIC 1] batchCounter: 7 (sampled 210173 pathes) *****\n>>> fraction of previously seen rules within useful rules in this batch: 0.10144927536231885  NEW=434 PREV=49 batch rules=1571\n>>> ****** Batch [ACYCLIC 2] batchCounter: 8 (sampled 292971 pathes) *****\n>>> fraction of previously seen rules within useful rules in this batch: 0.0  NEW=1 PREV=0 batch rules=0\n>>> ****** Batch [CYCLIC 1] batchCounter: 9 (sampled 294517 pathes) *****\n>>> fraction of previously seen rules within useful rules in this batch: 0.09297052154195011  NEW=400 PREV=41 batch rules=1511\n>>> ****** Batch [ACYCLIC 2] batchCounter: 10 (sampled 399299 pathes) *****\n>>> fraction of previously seen rules within useful rules in this batch: 0.0  NEW=1 PREV=0 batch rules=0\n>>> ****** Batch [CYCLIC 1] batchCounter: 11 (sampled 400979 pathes) *****\n>>> fraction of previously seen rules within useful rules in this batch: 0.16258351893095768  NEW=376 PREV=73 batch rules=1593\n>>> ****** Batch [ACYCLIC 2] batchCounter: 12 (sampled 486004 pathes) *****\n>>> fraction of previously seen rules within useful rules in this batch: 0.0  NEW=1 PREV=0 batch rules=0\n>>> ****** Batch [CYCLIC 1] batchCounter: 13 (sampled 487786 pathes) *****\n>>> fraction of previously seen rules within useful rules in this batch: 0.15831663326653306  NEW=420 PREV=79 batch rules=1668\n>>> ****** Batch [ACYCLIC 2] batchCounter: 14 (sampled 591846 pathes) *****\n>>> fraction of previously seen rules within useful rules in this batch: 0.0  NEW=1 PREV=0 batch rules=0\n>>> ****** Batch [CYCLIC 1] batchCounter: 15 (sampled 593644 pathes) *****\n>>> fraction of previously seen rules within useful rules in this batch: 0.1478743068391867  NEW=461 PREV=80 batch rules=1790\n>>> ****** Batch [ACYCLIC 2] batchCounter: 16 (sampled 686546 pathes) *****\n>>> fraction of previously seen rules within useful rules in this batch: 0.0  NEW=1 PREV=0 batch rules=0\n>>> ****** Batch [CYCLIC 1] batchCounter: 17 (sampled 688352 pathes) *****\n>>> fraction of previously seen rules within useful rules in this batch: 0.20961538461538462  NEW=411 PREV=109 batch rules=1740\n>>> ****** Batch [ACYCLIC 2] batchCounter: 18 (sampled 773548 pathes) *****\n>>> fraction of previously seen rules within useful rules in this batch: 0.0  NEW=1 PREV=0 batch rules=0\n>>> ****** Batch [CYCLIC 1] batchCounter: 19 (sampled 775281 pathes) *****\n>>> fraction of previously seen rules within useful rules in this batch: 0.1600877192982456  NEW=383 PREV=73 batch rules=1668\n>>> ****** Batch [ACYCLIC 2] batchCounter: 20 (sampled 857493 pathes) *****\n>>> fraction of previously seen rules within useful rules in this batch: 0.0  NEW=1 PREV=0 batch rules=0\n>>> ****** Batch [CYCLIC 1] batchCounter: 21 (sampled 859361 pathes) *****\n>>> fraction of previously seen rules within useful rules in this batch: 0.2030360531309298  NEW=420 PREV=107 batch rules=1809\n>>> ****** Batch [ACYCLIC 2] batchCounter: 22 (sampled 944956 pathes) *****\n>>> fraction of previously seen rules within useful rules in this batch: 0.0  NEW=1 PREV=0 batch rules=0\n>>> ****** Batch [CYCLIC 1] batchCounter: 23 (sampled 946821 pathes) *****\n>>> fraction of previously seen rules within useful rules in this batch: 0.19922630560928434  NEW=414 PREV=103 batch rules=1744\n>>> ****** Batch [ACYCLIC 2] batchCounter: 24 (sampled 1031837 pathes) *****\n>>> fraction of previously seen rules within useful rules in this batch: 0.0  NEW=1 PREV=0 batch rules=0\n>>> ****** Batch [CYCLIC 1] batchCounter: 25 (sampled 1033789 pathes) *****\n>>> fraction of previously seen rules within useful rules in this batch: 0.23626373626373626  NEW=417 PREV=129 batch rules=1855\n>>> ****** Batch [ACYCLIC 2] batchCounter: 26 (sampled 1119366 pathes) *****\n>>> fraction of previously seen rules within useful rules in this batch: 0.0  NEW=1 PREV=0 batch rules=0\n>>> ****** Batch [CYCLIC 1] batchCounter: 27 (sampled 1121343 pathes) *****\n>>> fraction of previously seen rules within useful rules in this batch: 0.23255813953488372  NEW=429 PREV=130 batch rules=1877\n>>> ****** Batch [ACYCLIC 2] batchCounter: 28 (sampled 1206496 pathes) *****\n>>> fraction of previously seen rules within useful rules in this batch: 0.0  NEW=1 PREV=0 batch rules=0\n>>> ****** Batch [CYCLIC 1] batchCounter: 29 (sampled 1208276 pathes) *****\n>>> fraction of previously seen rules within useful rules in this batch: 0.2627118644067797  NEW=348 PREV=124 batch rules=1649\n>>> ****** Batch [ACYCLIC 2] batchCounter: 30 (sampled 1291277 pathes) *****\n>>> fraction of previously seen rules within useful rules in this batch: 0.0  NEW=1 PREV=0 batch rules=0\n>>> ****** Batch [CYCLIC 1] batchCounter: 31 (sampled 1293162 pathes) *****\n>>> fraction of previously seen rules within useful rules in this batch: 0.26063829787234044  NEW=417 PREV=147 batch rules=1841\n>>> ****** Batch [ACYCLIC 2] batchCounter: 32 (sampled 1379070 pathes) *****\n>>> fraction of previously seen rules within useful rules in this batch: 0.0  NEW=1 PREV=0 batch rules=0\n>>> ****** Batch [CYCLIC 1] batchCounter: 33 (sampled 1381030 pathes) *****\n>>> fraction of previously seen rules within useful rules in this batch: 0.2961783439490446  NEW=442 PREV=186 batch rules=1941\n>>> ****** Batch [ACYCLIC 2] batchCounter: 34 (sampled 1471773 pathes) *****\n>>> fraction of previously seen rules within useful rules in this batch: 0.0  NEW=1 PREV=0 batch rules=0\n>>> ****** Batch [CYCLIC 1] batchCounter: 35 (sampled 1473739 pathes) *****\n>>> fraction of previously seen rules within useful rules in this batch: 0.324577861163227  NEW=360 PREV=173 batch rules=1872\n>>> ****** Batch [ACYCLIC 2] batchCounter: 36 (sampled 1556430 pathes) *****\n>>> fraction of previously seen rules within useful rules in this batch: 0.0  NEW=1 PREV=0 batch rules=0\n>>> ****** Batch [CYCLIC 1] batchCounter: 37 (sampled 1558326 pathes) *****\n>>> fraction of previously seen rules within useful rules in this batch: 0.2678227360308285  NEW=380 PREV=139 batch rules=1774\n>>> ****** Batch [ACYCLIC 2] batchCounter: 38 (sampled 1643473 pathes) *****\n>>> fraction of previously seen rules within useful rules in this batch: 0.0  NEW=1 PREV=0 batch rules=0\n>>> ****** Batch [CYCLIC 1] batchCounter: 39 (sampled 1645277 pathes) *****\n>>> fraction of previously seen rules within useful rules in this batch: 0.266  NEW=367 PREV=133 batch rules=1726\n>>> ****** Batch [ACYCLIC 2] batchCounter: 40 (sampled 1729451 pathes) *****\n>>> fraction of previously seen rules within useful rules in this batch: 0.0  NEW=1 PREV=0 batch rules=0\n"
    }
   ],
   "source": [
    "learning.train()"
   ]
  },
  {
   "cell_type": "markdown",
   "metadata": {},
   "source": [
    "## Test read rule output"
   ]
  },
  {
   "cell_type": "code",
   "execution_count": 1,
   "metadata": {
    "tags": []
   },
   "outputs": [],
   "source": [
    "from rule_io.rule_reader import RuleReader\n",
    "\n",
    "reader = RuleReader()\n",
    "all_rules = reader.read()"
   ]
  },
  {
   "cell_type": "code",
   "execution_count": 4,
   "metadata": {
    "tags": []
   },
   "outputs": [
    {
     "output_type": "stream",
     "name": "stdout",
     "text": "/film/film/story_by(X, Y)\n['/film/actor/film./film/performance/film(Y, X)']\n/award/award_category/nominees./award/award_nomination/nominated_for(X, /m/0b4lkx)\n['/award/award_winning_work/awards_won./award/award_honor/award(A, X)']\n/award/award_category/nominees./award/award_nomination/nominated_for(X, /m/02ll45)\n['/award/award_winning_work/awards_won./award/award_honor/award(/m/0bx0l, X)']\n/award/award_category/nominees./award/award_nomination/nominated_for(X, /m/02ll45)\n['/award/award_winning_work/awards_won./award/award_honor/award(A, X)']\n/music/genre/artists(X, /m/03k3b)\n['/music/genre/artists(X, /m/01gx5f)']\n/music/genre/artists(X, /m/03k3b)\n['/music/genre/artists(X, A)']\n/award/award_category/nominees./award/award_nomination/nominated_for(X, /m/04nl83)\n['/award/award_nominee/award_nominations./award/award_nomination/award(A, X)']\n"
    }
   ],
   "source": [
    "for r in all_rules:\n",
    "    print(r.head)\n",
    "    print([str(t) for t in r.body])"
   ]
  },
  {
   "cell_type": "markdown",
   "metadata": {},
   "source": [
    "## Test ScoreTree"
   ]
  },
  {
   "cell_type": "code",
   "execution_count": 1,
   "metadata": {},
   "outputs": [],
   "source": [
    "from structure.score_tree import ScoreTree\n",
    "\n",
    "tree = ScoreTree()"
   ]
  },
  {
   "cell_type": "code",
   "execution_count": 2,
   "metadata": {
    "tags": []
   },
   "outputs": [],
   "source": [
    "s1 = set(['a', 'b', 'c', 'd', 'd1', 'd2'])\n",
    "tree.add_values(0.9, s1)"
   ]
  },
  {
   "cell_type": "code",
   "execution_count": 3,
   "metadata": {
    "tags": []
   },
   "outputs": [
    {
     "output_type": "stream",
     "name": "stdout",
     "text": "0.0 [0](6) -> {   }\n     0.9 [6](6) -> { c d a d1 d2 b }\n\nprecise enough False\nfirst unique False\n"
    }
   ],
   "source": [
    "print(tree)\n",
    "print('precise enough',tree.fine())\n",
    "print('first unique',tree.is_first_unique())"
   ]
  },
  {
   "cell_type": "code",
   "execution_count": 4,
   "metadata": {
    "tags": []
   },
   "outputs": [
    {
     "output_type": "stream",
     "name": "stdout",
     "text": "0.0 [0](8) -> {   }\n     0.9 [6](6) -> { c d a d1 d2 b }\n     0.8999 [8](2) -> { bbb aaa }\n\nprecise enough False\nfirst unique False\n"
    }
   ],
   "source": [
    "s11=set(['aaa', 'bbb'])\n",
    "tree.add_values(0.8999, s11)\n",
    "print(tree)\n",
    "print('precise enough',tree.fine())\n",
    "print('first unique',tree.is_first_unique())"
   ]
  },
  {
   "cell_type": "code",
   "execution_count": 5,
   "metadata": {
    "tags": []
   },
   "outputs": [
    {
     "output_type": "stream",
     "name": "stdout",
     "text": "0.0 [0](8) -> {   }\n     0.9 [6](6) -> { d2 c d d1 }\n         0.8999 [2](2) -> { b a }\n     0.8999 [8](2) -> { bbb aaa }\n\nprecise enough False\nfirst unique False\n"
    }
   ],
   "source": [
    "s12 = set(['a', 'b'])\n",
    "tree.add_values(0.8999, s12)\n",
    "print(tree)\n",
    "print('precise enough',tree.fine())\n",
    "print('first unique',tree.is_first_unique())"
   ]
  },
  {
   "cell_type": "code",
   "execution_count": 6,
   "metadata": {
    "tags": []
   },
   "outputs": [
    {
     "output_type": "stream",
     "name": "stdout",
     "text": "0.0 [0](12) -> {   }\n     0.9 [6](6) -> { d2 c d d1 }\n         0.8999 [2](2) -> { b a }\n     0.8999 [8](2) -> { bbb aaa }\n     0.88 [12](4) -> { e3 e4 e2 e1 }\n\nprecise enough False\nfirst unique False\n"
    }
   ],
   "source": [
    "s2 = set(['a', 'b', 'e1', 'e2', 'e3', 'e4'])\n",
    "tree.add_values(0.88, s2)\n",
    "print(tree)\n",
    "print('precise enough',tree.fine())\n",
    "print('first unique',tree.is_first_unique())"
   ]
  },
  {
   "cell_type": "code",
   "execution_count": 7,
   "metadata": {
    "tags": []
   },
   "outputs": [
    {
     "output_type": "stream",
     "name": "stdout",
     "text": "0.0 [0](12) -> {   }\n     0.9 [6](6) -> { d2 c d d1 }\n        X 0.8999 [2](2) -> { b }\n            X 0.6 [1](1) -> { a }\n     0.8999 [8](2) -> { bbb aaa }\n     0.88 [10](2) -> { e4 e1 }\n\nprecise enough True\nfirst unique True\n"
    }
   ],
   "source": [
    "s3 = set(['a', 'e1', 'e4'])\n",
    "tree.add_values(0.6, s3)\n",
    "print(tree)\n",
    "print('precise enough',tree.fine())\n",
    "print('first unique',tree.is_first_unique())"
   ]
  },
  {
   "cell_type": "code",
   "execution_count": 8,
   "metadata": {
    "tags": []
   },
   "outputs": [
    {
     "output_type": "stream",
     "name": "stdout",
     "text": "0.0 [0](12) -> {   }\n     0.9 [6](6) -> { d2 c d d1 }\n        X 0.8999 [2](2) -> { b }\n            X 0.6 [1](1) -> { a }\n     0.8999 [8](2) -> { bbb aaa }\n     0.88 [10](2) -> { e4 e1 }\n\nprecise enough True\nfirst unique True\n"
    }
   ],
   "source": [
    "s4 = set(['xa', 'xb', 'xe1', 'xe2', 'xe3', 'xe4'])\n",
    "tree.add_values(0.5, s4)\n",
    "print(tree)\n",
    "print('precise enough',tree.fine())\n",
    "print('first unique',tree.is_first_unique())"
   ]
  },
  {
   "cell_type": "code",
   "execution_count": 9,
   "metadata": {
    "tags": []
   },
   "outputs": [
    {
     "output_type": "stream",
     "name": "stdout",
     "text": "0.0 [0](12) -> {   }\n     0.9 [6](6) -> { d2 c d d1 }\n        X 0.8999 [2](2) -> { b }\n            X 0.6 [1](1) -> { a }\n     0.8999 [8](2) -> { bbb aaa }\n     0.88 [10](2) -> { e4 e1 }\n\nprecise enough True\n"
    }
   ],
   "source": [
    "s5 = set(['xa', 'xb', 'ye1', 'ye2', 'ye3', 'ye4'])\n",
    "tree.add_values(0.43, s4)\n",
    "print(tree)\n",
    "print('precise enough',tree.fine())"
   ]
  },
  {
   "cell_type": "code",
   "execution_count": 10,
   "metadata": {
    "tags": []
   },
   "outputs": [
    {
     "output_type": "stream",
     "name": "stdout",
     "text": "0.0 [0](12) -> {   }\n     0.9 [6](6) -> { d2 c d d1 }\n        X 0.8999 [2](2) -> { b }\n            X 0.6 [1](1) -> { a }\n     0.8999 [8](2) -> { bbb aaa }\n     0.88 [10](2) -> { e4 e1 }\n\nprecise enough True\n"
    }
   ],
   "source": [
    "s6 = set(['xe2', 'xa', 'xxx'])\n",
    "tree.add_values(0.39, s6)\n",
    "print(tree)\n",
    "print('precise enough',tree.fine())"
   ]
  },
  {
   "cell_type": "code",
   "execution_count": 11,
   "metadata": {
    "tags": []
   },
   "outputs": [
    {
     "output_type": "stream",
     "name": "stdout",
     "text": "0.0 [0](12) -> {   }\n     0.9 [6](6) -> { d2 c d d1 }\n        X 0.8999 [2](2) -> { b }\n            X 0.6 [1](1) -> { a }\n     0.8999 [8](2) -> { bbb aaa }\n     0.88 [10](2) -> { e4 e1 }\n\nprecise enough True\n"
    }
   ],
   "source": [
    "s7 = set(['xe1', 'xe2'])\n",
    "tree.add_values(0.22, s7)\n",
    "print(tree)\n",
    "print('precise enough',tree.fine())"
   ]
  },
  {
   "cell_type": "code",
   "execution_count": 12,
   "metadata": {
    "tags": []
   },
   "outputs": [
    {
     "output_type": "stream",
     "name": "stdout",
     "text": "0.0 [0](12) -> {   }\n     0.9 [6](6) -> { d2 c d d1 }\n        X 0.8999 [2](2) -> { b }\n            X 0.6 [1](1) -> { a }\n     0.8999 [8](2) -> { bbb aaa }\n     0.88 [10](2) -> { e4 e1 }\n\nprecise enough True\n"
    }
   ],
   "source": [
    "s8 = set(['xe4'])\n",
    "tree.add_values(0.21, s8)\n",
    "print(tree)\n",
    "print('precise enough',tree.fine())"
   ]
  },
  {
   "cell_type": "code",
   "execution_count": 13,
   "metadata": {
    "tags": []
   },
   "outputs": [
    {
     "output_type": "stream",
     "name": "stdout",
     "text": "0.0 [0](12) -> {   }\n     0.9 [6](6) -> { d2 c d d1 }\n        X 0.8999 [2](2) -> { b }\n            X 0.6 [1](1) -> { a }\n     0.8999 [8](2) -> { bbb aaa }\n    X 0.88 [10](2) -> { e4 }\n        X 0.21 [9](1) -> { e1 }\n\nprecise enough True\n"
    }
   ],
   "source": [
    "s9 = set(['e1', 'e2'])\n",
    "tree.add_values(0.21, s9)\n",
    "print(tree)\n",
    "print('precise enough',tree.fine())"
   ]
  },
  {
   "cell_type": "code",
   "execution_count": 14,
   "metadata": {
    "tags": []
   },
   "outputs": [
    {
     "output_type": "stream",
     "name": "stdout",
     "text": "0.0 [0](12) -> {   }\n     0.9 [6](6) -> { d2 c d d1 }\n        X 0.8999 [2](2) -> { b }\n            X 0.6 [1](1) -> { a }\n     0.8999 [8](2) -> { bbb aaa }\n    X 0.88 [10](2) -> { e4 }\n        X 0.21 [9](1) -> { e1 }\n\n"
    }
   ],
   "source": [
    "s19 = set(['u1', 'u2'])\n",
    "tree.add_values(0.19, s9)\n",
    "print(tree)"
   ]
  },
  {
   "cell_type": "code",
   "execution_count": 15,
   "metadata": {},
   "outputs": [
    {
     "output_type": "execute_result",
     "data": {
      "text/plain": "{'a': 0.9000899960000001,\n 'b': 0.90008999,\n 'd2': 0.9,\n 'c': 0.9,\n 'd': 0.9,\n 'd1': 0.9,\n 'bbb': 0.8999,\n 'aaa': 0.8999,\n 'e1': 0.880021,\n 'e4': 0.88}"
     },
     "metadata": {},
     "execution_count": 15
    }
   ],
   "source": [
    "map_get = {}\n",
    "tree.get_as_linked_map(map_get)\n",
    "map_get"
   ]
  },
  {
   "cell_type": "code",
   "execution_count": null,
   "metadata": {},
   "outputs": [],
   "source": []
  }
 ],
 "metadata": {
  "language_info": {
   "codemirror_mode": {
    "name": "ipython",
    "version": 3
   },
   "file_extension": ".py",
   "mimetype": "text/x-python",
   "name": "python",
   "nbconvert_exporter": "python",
   "pygments_lexer": "ipython3",
   "version": "3.7.3-final"
  },
  "orig_nbformat": 2,
  "kernelspec": {
   "name": "python3",
   "display_name": "Python 3"
  }
 },
 "nbformat": 4,
 "nbformat_minor": 2
}