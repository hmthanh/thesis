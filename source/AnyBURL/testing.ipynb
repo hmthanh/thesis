{
 "cells": [
  {
   "cell_type": "markdown",
   "metadata": {},
   "source": [
    "# test path sample"
   ]
  },
  {
   "cell_type": "code",
   "execution_count": 2,
   "metadata": {
    "tags": []
   },
   "outputs": [
    {
     "output_type": "stream",
     "name": "stdout",
     "text": "* indexed 100000 triples\n* set up index for 18 relations, 40504 head entities, and 40551 tail entities\n* read 141442 triples\n"
    }
   ],
   "source": [
    "from data.triple_set import TripleSet\n",
    "data = TripleSet()\n",
    "data.read_triples('../../datasets/WN18/train.txt')\n",
    "print('* read {} triples'.format(len(data.triples)))"
   ]
  },
  {
   "cell_type": "code",
   "execution_count": 4,
   "metadata": {
    "tags": []
   },
   "outputs": [
    {
     "output_type": "stream",
     "name": "stdout",
     "text": "{'_instance_hyponym': {'09027089', '08913085', '09132778', '09097707', '09164417', '08773880', '09073938', '08970189', '08976799', '09113762', '08912012', '08728749', '08898457', '08739669', '09129062', '09102883', '09072810', '09164241', '09053947', '08936833', '09063673', '08819016', '08977665', '08765623', '08889400', '08706823', '09144323', '08729452', '08983274', '08766846', '08857529', '09133895', '09146111', '08856945', '09062961', '08923177', '08762243', '08924238', '08889944', '08773098', '09025728', '09030596', '09145083', '09064861', '09077556', '08914413', '08898187', '08912703', '08772667', '09091909', '08971404', '09064264', '08984122', '09143321', '08846885', '08912153', '09134999', '08951077', '08977428', '08810051', '08773336', '08770718', '09035951', '09042322', '08854855', '08788887', '08916111', '09144730', '08708481', '08953029', '08977527', '09110229', '09040839', '08851500', '08728595', '08814333', '08780380', '09008454', '08856266', '08877208', '09155692', '08771400', '08713136', '09066799', '09128536', '08772551', '09030382', '08847024', '08798062', '09156889', '08937995', '08924560', '09143786', '08721145', '08704409', '09155986', '08879197', '08916832', '08950649', '08736779', '08946812', '08855909', '08731148', '09161452', '09033117', '09151216', '08818835', '08812166', '08745011', '09038272', '08856037', '08903487', '08735008', '08994339', '08903352', '09085441', '08855763', '08857099', '08970064', '09093472', '09100690', '09125016', '08925093', '09159546', '09086070', '08904533', '08903872', '09137682', '08984010', '09157021', '09069752', '08934532', '09026911', '08772922', '09165294', '09087450', '08774546', '08937109', '09069415', '09041785', '08780282', '08729283', '09014066', '09125528', '08786432', '09156666', '08899351', '08775179', '09165146', '08915017', '08983556', '09114020', '08759852', '09026204', '09130714', '08811473', '08911602', '08804319', '09089923', '09124589', '08706502', '09068320', '09034286', '08904731', '08977211', '08849372', '09054480', '08899149', '08818247', '08984457', '09133500', '09145655', '08994834', '09064594', '09154607', '08966085', '09154731', '08925957', '08813264', '08982037', '08722084', '09027292', '09150863', '08803883', '09083659', '08876975', '08928933', '08924023', '08715952', '08766571', '08911868', '09125354', '08813699', '08923884', '08824771', '09151516', '09011679', '08935212', '09067878', '09151411', '08809165', '08903636', '08774374', '08974818', '09034402', '08919241', '09111955', '09062585', '08719705', '09062320', '09088989', '09074834', '09062791', '08950407', '09130452', '08986526', '08928742', '08708609', '08805801', '09042213', '08934694', '08855505', '08899577', '09140569', '08986374', '09077111', '09022667', '08851034', '08728462', '09065191', '09068921', '08877807', '08706247', '08878016', '09065557', '08795974', '09058071', '09125629', '08750822', '08899776', '09009490', '08804049', '08950907', '09162414', '08804662', '09100394', '08744750', '09009372', '08789605', '09125203', '09012735', '08983413', '09026614', '09128947', '09063259', '08956574', '09084196', '08728268', '08775053', '08766667', '08970611', '08746475', '09030467', '08769439', '09075329', '09107626', '08956461', '09164903', '09066017', '08743945', '09146912', '09077821', '08855126', '08717629', '08926543', '09025189', '08927678', '08728882', '09026780', '09074140', '09001007', '09086635', '09026360', '09113479', '09004992', '08762104', '09084075', '08743229', '08969798', '08770013', '08770274', '09139849', '08984332', '08974604', '08912427', '08936647', '09038439', '09144117', '08805386', '08904269', '08923755', '08857260', '09144851', '09142887', '08914573', '09146813', '08786855', '08956140', '08738715', '09157766', '08873269', '08787240', '08879680', '08895497', '09115315', '09094381', '08851830', '09106770', '09129926', '08857405', '08984223', '09073258', '08925552', '08923586', '09085209', '09025451', '09151114', '08950035', '09086793', '08846739', '09142674', '09097871', '08765460', '08889521', '09075007', '08924913', '08772137', '08856630', '09032981', '08727806', '08771277', '09099264', '08900204', '08855609', '09158501', '08733415', '09148662', '09010085', '08963244', '09025584', '09108728', '08895771', '08904858', '09131553', '08807894', '08914850', '08795654', '09085334', '08925700', '09073697', '09016860', '09145217', '09011820', '08774912', '08735345', '09150662', '09135993', '08809910', '08911726', '09016099', '08814664', '08928083', '09096664', '08813156', '09063477', '08851687', '09141119', '09070363', '09020299', '08727230', '08976913', '08950787', '09167652', '09110939', '08773679', '08904115', '09140993', '08774073', '08787049', '08926231', '08889657', '08771116', '09027679', '08856475', '08504151', '09162803', '08950230', '09113333', '09014470', '08728066', '08714795', '09154178', '09162581', '08786660', '08805565', '08960363', '09083390', '09145851', '09128372', '08856793', '08766455', '09142771', '08734853', '09055906', '08846626', '08937594', '08850741', '08957993', '08726582', '08772794', '08742743', '09040475', '08799462', '08904392', '09129324', '09062015', '08925287', '08746636', '08770518', '09111168', '08892971', '09131428', '09147618', '09113207', '08926381', '09135447', '08798195', '08936303', '08877382', '08925830', '08725161', '09054350', '09136182', '08903220', '09032604', '09092352', '08804845', '08765315', '08745901', '09028477', '08725454', '09119277', '09143649', '08727945', '08958212', '09143205', '08912559', '09000462', '08727606', '09066534', '09108055', '08962951', '08983742', '08772307', '08797840', '09102517', '09138538', '08774704', '08912279', '08851364', '09089782'}, '_has_part': {'08543496', '08571139', '08543081', '08524130'}, '_derivationally_related_form': {'00499642'}, '_hypernym': {'08626283'}, '_hyponym': {'08695198', '08691669', '08695539'}}\n"
    }
   ],
   "source": [
    "print(data.head_relation_to_tail['08524735'])"
   ]
  },
  {
   "cell_type": "code",
   "execution_count": 4,
   "metadata": {},
   "outputs": [],
   "source": [
    "from algorithm.path_sampler import PathSampler\n",
    "ps = PathSampler(data)"
   ]
  },
  {
   "cell_type": "code",
   "execution_count": 1,
   "metadata": {
    "tags": []
   },
   "outputs": [],
   "source": [
    "some_path = set([])\n",
    "# for i in range(1000):\n",
    "#     p = ps.sample_path(2, True)\n",
    "#     if i % 50 == 0 and p is not None:\n",
    "#         print(p)\n",
    "#         print(\"\\n\\n\\n\")\n",
    "#     if p is not None: ###p.isValid()) {\n",
    "#         some_pathes.add(p)"
   ]
  },
  {
   "cell_type": "markdown",
   "metadata": {},
   "source": [
    "## Test leaning"
   ]
  },
  {
   "cell_type": "code",
   "execution_count": 1,
   "metadata": {
    "tags": []
   },
   "outputs": [],
   "source": [
    "from learning import Learning\n",
    "# '../../datasets/FB15k-237/train.txt' '../../datasets/WN18RR/train.txt'\n",
    "learner = Learning()"
   ]
  },
  {
   "cell_type": "code",
   "execution_count": 2,
   "metadata": {},
   "outputs": [],
   "source": [
    "# learning.triple_set.head_relation_to_tail['08524735']"
   ]
  },
  {
   "cell_type": "code",
   "execution_count": 3,
   "metadata": {
    "tags": [
     "outputPrepend"
    ]
   },
   "outputs": [
    {
     "output_type": "stream",
     "name": "stdout",
     "text": "es: 118\n=====> batch [CYCLIC 2] 20 (sampled 5745 pathes) *****\n=====> fraction of previously seen rules within useful rules in this batch: 0.47368421052631576 num of new rule = 10 num of previously rule = 9 num of all batch rules = 19\n=====> stored rules: 106\n=====> batch [ACYCLIC 1] 21 (sampled 5784 pathes) *****\n=====> fraction of previously seen rules within useful rules in this batch: 0.8701298701298701 num of new rule = 10 num of previously rule = 67 num of all batch rules = 77\n=====> stored rules: 128\n=====> batch [CYCLIC 2] 22 (sampled 6706 pathes) *****\n=====> fraction of previously seen rules within useful rules in this batch: 0.42857142857142855 num of new rule = 20 num of previously rule = 15 num of all batch rules = 35\n=====> stored rules: 126\n=====> batch [ACYCLIC 1] 23 (sampled 6743 pathes) *****\n=====> fraction of previously seen rules within useful rules in this batch: 0.75 num of new rule = 18 num of previously rule = 54 num of all batch rules = 72\n=====> stored rules: 146\n=====> batch [CYCLIC 2] 24 (sampled 7687 pathes) *****\n=====> fraction of previously seen rules within useful rules in this batch: 0.6923076923076923 num of new rule = 8 num of previously rule = 18 num of all batch rules = 26\n=====> stored rules: 134\n=====> batch [ACYCLIC 1] 25 (sampled 7726 pathes) *****\n=====> fraction of previously seen rules within useful rules in this batch: 0.8846153846153846 num of new rule = 9 num of previously rule = 69 num of all batch rules = 78\n=====> stored rules: 155\n=====> batch [CYCLIC 2] 26 (sampled 8624 pathes) *****\n=====> fraction of previously seen rules within useful rules in this batch: 0.7931034482758621 num of new rule = 6 num of previously rule = 23 num of all batch rules = 29\n=====> stored rules: 140\n=====> batch [ACYCLIC 1] 27 (sampled 8666 pathes) *****\n=====> fraction of previously seen rules within useful rules in this batch: 0.9420289855072463 num of new rule = 4 num of previously rule = 65 num of all batch rules = 69\n=====> stored rules: 159\n=====> batch [CYCLIC 2] 28 (sampled 9417 pathes) *****\n=====> fraction of previously seen rules within useful rules in this batch: 0.6666666666666666 num of new rule = 9 num of previously rule = 18 num of all batch rules = 27\n=====> stored rules: 149\n=====> batch [ACYCLIC 1] 29 (sampled 9440 pathes) *****\n=====> fraction of previously seen rules within useful rules in this batch: 0.8372093023255814 num of new rule = 7 num of previously rule = 36 num of all batch rules = 43\n=====> stored rules: 166\n=====> batch [CYCLIC 2] 30 (sampled 9947 pathes) *****\n=====> fraction of previously seen rules within useful rules in this batch: 0.6666666666666666 num of new rule = 5 num of previously rule = 10 num of all batch rules = 15\n=====> stored rules: 154\n=====> batch [ACYCLIC 1] 31 (sampled 9968 pathes) *****\n=====> fraction of previously seen rules within useful rules in this batch: 0.8181818181818182 num of new rule = 6 num of previously rule = 27 num of all batch rules = 33\n=====> stored rules: 172\n=====> batch [CYCLIC 2] 32 (sampled 10576 pathes) *****\n=====> fraction of previously seen rules within useful rules in this batch: 0.8333333333333334 num of new rule = 3 num of previously rule = 15 num of all batch rules = 18\n=====> stored rules: 157\n=====> batch [ACYCLIC 1] 33 (sampled 10605 pathes) *****\n=====> fraction of previously seen rules within useful rules in this batch: 0.7894736842105263 num of new rule = 12 num of previously rule = 45 num of all batch rules = 57\n=====> stored rules: 184\n=====> batch [CYCLIC 2] 34 (sampled 11227 pathes) *****\n=====> fraction of previously seen rules within useful rules in this batch: 0.7333333333333333 num of new rule = 4 num of previously rule = 11 num of all batch rules = 15\n=====> stored rules: 161\n=====> batch [ACYCLIC 1] 35 (sampled 11249 pathes) *****\n=====> fraction of previously seen rules within useful rules in this batch: 0.8260869565217391 num of new rule = 8 num of previously rule = 38 num of all batch rules = 46\n=====> stored rules: 192\n=====> batch [CYCLIC 2] 36 (sampled 11560 pathes) *****\n=====> fraction of previously seen rules within useful rules in this batch: 0.5833333333333334 num of new rule = 5 num of previously rule = 7 num of all batch rules = 12\n=====> stored rules: 166\n=====> batch [ACYCLIC 1] 37 (sampled 11588 pathes) *****\n=====> fraction of previously seen rules within useful rules in this batch: 0.8392857142857143 num of new rule = 9 num of previously rule = 47 num of all batch rules = 56\n=====> stored rules: 201\n=====> batch [CYCLIC 2] 38 (sampled 12412 pathes) *****\n=====> fraction of previously seen rules within useful rules in this batch: 0.6818181818181818 num of new rule = 7 num of previously rule = 15 num of all batch rules = 22\n=====> stored rules: 173\n=====> batch [ACYCLIC 1] 39 (sampled 12445 pathes) *****\n=====> fraction of previously seen rules within useful rules in this batch: 0.835820895522388 num of new rule = 11 num of previously rule = 56 num of all batch rules = 67\n=====> stored rules: 212\n=====> batch [CYCLIC 2] 40 (sampled 13420 pathes) *****\n=====> fraction of previously seen rules within useful rules in this batch: 0.8 num of new rule = 6 num of previously rule = 24 num of all batch rules = 30\n=====> stored rules: 179\n=====> batch [ACYCLIC 1] 41 (sampled 13458 pathes) *****\n=====> fraction of previously seen rules within useful rules in this batch: 0.8939393939393939 num of new rule = 7 num of previously rule = 59 num of all batch rules = 66\n=====> stored rules: 219\n=====> batch [CYCLIC 2] 42 (sampled 14270 pathes) *****\n=====> fraction of previously seen rules within useful rules in this batch: 0.9354838709677419 num of new rule = 2 num of previously rule = 29 num of all batch rules = 31\n=====> stored rules: 181\n=====> batch [ACYCLIC 1] 43 (sampled 14301 pathes) *****\n=====> fraction of previously seen rules within useful rules in this batch: 0.875 num of new rule = 7 num of previously rule = 49 num of all batch rules = 56\n=====> stored rules: 226\n=====> batch [CYCLIC 2] 44 (sampled 14766 pathes) *****\n=====> fraction of previously seen rules within useful rules in this batch: 0.7894736842105263 num of new rule = 4 num of previously rule = 15 num of all batch rules = 19\n=====> stored rules: 185\n=====> batch [ACYCLIC 1] 45 (sampled 14793 pathes) *****\n=====> fraction of previously seen rules within useful rules in this batch: 0.8703703703703703 num of new rule = 7 num of previously rule = 47 num of all batch rules = 54\n=====> stored rules: 233\n=====> batch [CYCLIC 2] 46 (sampled 15749 pathes) *****\n=====> fraction of previously seen rules within useful rules in this batch: 0.7297297297297297 num of new rule = 10 num of previously rule = 27 num of all batch rules = 37\n=====> stored rules: 195\n=====> batch [ACYCLIC 1] 47 (sampled 15782 pathes) *****\n=====> fraction of previously seen rules within useful rules in this batch: 0.7704918032786885 num of new rule = 14 num of previously rule = 47 num of all batch rules = 61\n=====> stored rules: 247\n=====> batch [CYCLIC 2] 48 (sampled 16705 pathes) *****\n=====> fraction of previously seen rules within useful rules in this batch: 0.7391304347826086 num of new rule = 6 num of previously rule = 17 num of all batch rules = 23\n=====> stored rules: 201\n=====> batch [ACYCLIC 1] 49 (sampled 16736 pathes) *****\n=====> fraction of previously seen rules within useful rules in this batch: 0.8775510204081632 num of new rule = 6 num of previously rule = 43 num of all batch rules = 49\n=====> stored rules: 253\n=====> batch [CYCLIC 2] 50 (sampled 17949 pathes) *****\n=====> fraction of previously seen rules within useful rules in this batch: 0.7307692307692307 num of new rule = 7 num of previously rule = 19 num of all batch rules = 26\n=====> stored rules: 208\ncreated snapshot 2 after 51 seconds\n=====> batch [ACYCLIC 1] 51 (sampled 17983 pathes) *****\n=====> fraction of previously seen rules within useful rules in this batch: 0.8088235294117647 num of new rule = 13 num of previously rule = 55 num of all batch rules = 68\n=====> stored rules: 266\n=====> batch [CYCLIC 2] 52 (sampled 18754 pathes) *****\n=====> fraction of previously seen rules within useful rules in this batch: 0.8666666666666667 num of new rule = 4 num of previously rule = 26 num of all batch rules = 30\n=====> stored rules: 212\n=====> batch [ACYCLIC 1] 53 (sampled 18786 pathes) *****\n=====> fraction of previously seen rules within useful rules in this batch: 0.8813559322033898 num of new rule = 7 num of previously rule = 52 num of all batch rules = 59\n=====> stored rules: 273\n=====> batch [CYCLIC 2] 54 (sampled 19711 pathes) *****\n=====> fraction of previously seen rules within useful rules in this batch: 0.8125 num of new rule = 6 num of previously rule = 26 num of all batch rules = 32\n=====> stored rules: 218\n=====> batch [ACYCLIC 1] 55 (sampled 19745 pathes) *****\n=====> fraction of previously seen rules within useful rules in this batch: 0.84375 num of new rule = 10 num of previously rule = 54 num of all batch rules = 64\n=====> stored rules: 283\n=====> batch [CYCLIC 2] 56 (sampled 20727 pathes) *****\n=====> fraction of previously seen rules within useful rules in this batch: 0.8064516129032258 num of new rule = 6 num of previously rule = 25 num of all batch rules = 31\n=====> stored rules: 224\n=====> batch [ACYCLIC 1] 57 (sampled 20767 pathes) *****\n=====> fraction of previously seen rules within useful rules in this batch: 0.8918918918918919 num of new rule = 8 num of previously rule = 66 num of all batch rules = 74\n=====> stored rules: 291\n=====> batch [CYCLIC 2] 58 (sampled 22219 pathes) *****\n=====> fraction of previously seen rules within useful rules in this batch: 0.8461538461538461 num of new rule = 8 num of previously rule = 44 num of all batch rules = 52\n=====> stored rules: 232\n=====> batch [ACYCLIC 1] 59 (sampled 22254 pathes) *****\n=====> fraction of previously seen rules within useful rules in this batch: 0.8235294117647058 num of new rule = 12 num of previously rule = 56 num of all batch rules = 68\n=====> stored rules: 303\n=====> batch [CYCLIC 2] 60 (sampled 23125 pathes) *****\n=====> fraction of previously seen rules within useful rules in this batch: 0.9354838709677419 num of new rule = 2 num of previously rule = 29 num of all batch rules = 31\n=====> stored rules: 234\n=====> batch [ACYCLIC 1] 61 (sampled 23162 pathes) *****\n=====> fraction of previously seen rules within useful rules in this batch: 0.9027777777777778 num of new rule = 7 num of previously rule = 65 num of all batch rules = 72\n=====> stored rules: 310\n=====> batch [CYCLIC 2] 62 (sampled 23877 pathes) *****\n=====> fraction of previously seen rules within useful rules in this batch: 0.7096774193548387 num of new rule = 9 num of previously rule = 22 num of all batch rules = 31\n=====> stored rules: 243\n=====> batch [ACYCLIC 1] 63 (sampled 23904 pathes) *****\n=====> fraction of previously seen rules within useful rules in this batch: 0.8518518518518519 num of new rule = 8 num of previously rule = 46 num of all batch rules = 54\n=====> stored rules: 318\n=====> batch [CYCLIC 2] 64 (sampled 24480 pathes) *****\n=====> fraction of previously seen rules within useful rules in this batch: 0.7777777777777778 num of new rule = 4 num of previously rule = 14 num of all batch rules = 18\n=====> stored rules: 247\n=====> batch [ACYCLIC 1] 65 (sampled 24509 pathes) *****\n=====> fraction of previously seen rules within useful rules in this batch: 0.9183673469387755 num of new rule = 4 num of previously rule = 45 num of all batch rules = 49\n=====> stored rules: 322\n=====> batch [CYCLIC 2] 66 (sampled 25551 pathes) *****\n=====> fraction of previously seen rules within useful rules in this batch: 0.8125 num of new rule = 6 num of previously rule = 26 num of all batch rules = 32\n=====> stored rules: 253\n=====> batch [ACYCLIC 1] 67 (sampled 25575 pathes) *****\n=====> fraction of previously seen rules within useful rules in this batch: 0.9090909090909091 num of new rule = 4 num of previously rule = 40 num of all batch rules = 44\n=====> stored rules: 326\n=====> batch [CYCLIC 2] 68 (sampled 26063 pathes) *****\n=====> fraction of previously seen rules within useful rules in this batch: 0.8461538461538461 num of new rule = 2 num of previously rule = 11 num of all batch rules = 13\n=====> stored rules: 255\n=====> batch [ACYCLIC 1] 69 (sampled 26096 pathes) *****\n=====> fraction of previously seen rules within useful rules in this batch: 0.8709677419354839 num of new rule = 8 num of previously rule = 54 num of all batch rules = 62\n=====> stored rules: 334\n=====> batch [CYCLIC 2] 70 (sampled 27031 pathes) *****\n=====> fraction of previously seen rules within useful rules in this batch: 0.8888888888888888 num of new rule = 4 num of previously rule = 32 num of all batch rules = 36\n=====> stored rules: 259\n=====> batch [ACYCLIC 1] 71 (sampled 27069 pathes) *****\n=====> fraction of previously seen rules within useful rules in this batch: 0.8676470588235294 num of new rule = 9 num of previously rule = 59 num of all batch rules = 68\n=====> stored rules: 343\n=====> batch [CYCLIC 2] 72 (sampled 28272 pathes) *****\n=====> fraction of previously seen rules within useful rules in this batch: 0.9166666666666666 num of new rule = 3 num of previously rule = 33 num of all batch rules = 36\n=====> stored rules: 262\n=====> batch [ACYCLIC 1] 73 (sampled 28302 pathes) *****\n=====> fraction of previously seen rules within useful rules in this batch: 0.8166666666666667 num of new rule = 11 num of previously rule = 49 num of all batch rules = 60\n=====> stored rules: 354\n=====> batch [CYCLIC 2] 74 (sampled 29677 pathes) *****\n=====> fraction of previously seen rules within useful rules in this batch: 0.8378378378378378 num of new rule = 6 num of previously rule = 31 num of all batch rules = 37\n=====> stored rules: 268\n=====> batch [ACYCLIC 1] 75 (sampled 29715 pathes) *****\n=====> fraction of previously seen rules within useful rules in this batch: 0.8208955223880597 num of new rule = 12 num of previously rule = 55 num of all batch rules = 67\n=====> stored rules: 366\n=====> batch [CYCLIC 2] 76 (sampled 30498 pathes) *****\n=====> fraction of previously seen rules within useful rules in this batch: 0.76 num of new rule = 6 num of previously rule = 19 num of all batch rules = 25\n=====> stored rules: 274\n=====> batch [ACYCLIC 1] 77 (sampled 30521 pathes) *****\n=====> fraction of previously seen rules within useful rules in this batch: 0.8809523809523809 num of new rule = 5 num of previously rule = 37 num of all batch rules = 42\n=====> stored rules: 371\n=====> batch [CYCLIC 2] 78 (sampled 31104 pathes) *****\n=====> fraction of previously seen rules within useful rules in this batch: 0.6923076923076923 num of new rule = 4 num of previously rule = 9 num of all batch rules = 13\n=====> stored rules: 278\n=====> batch [ACYCLIC 1] 79 (sampled 31131 pathes) *****\n=====> fraction of previously seen rules within useful rules in this batch: 0.7674418604651163 num of new rule = 10 num of previously rule = 33 num of all batch rules = 43\n=====> stored rules: 381\n=====> batch [CYCLIC 2] 80 (sampled 31872 pathes) *****\n=====> fraction of previously seen rules within useful rules in this batch: 0.782608695652174 num of new rule = 5 num of previously rule = 18 num of all batch rules = 23\n=====> stored rules: 283\n=====> batch [ACYCLIC 1] 81 (sampled 31900 pathes) *****\n=====> fraction of previously seen rules within useful rules in this batch: 0.7818181818181819 num of new rule = 12 num of previously rule = 43 num of all batch rules = 55\n=====> stored rules: 393\n=====> batch [CYCLIC 2] 82 (sampled 32235 pathes) *****\n=====> fraction of previously seen rules within useful rules in this batch: 0.7142857142857143 num of new rule = 4 num of previously rule = 10 num of all batch rules = 14\n=====> stored rules: 287\n=====> batch [ACYCLIC 1] 83 (sampled 32264 pathes) *****\n=====> fraction of previously seen rules within useful rules in this batch: 0.9183673469387755 num of new rule = 4 num of previously rule = 45 num of all batch rules = 49\n=====> stored rules: 397\n=====> batch [CYCLIC 2] 84 (sampled 33126 pathes) *****\n=====> fraction of previously seen rules within useful rules in this batch: 0.8666666666666667 num of new rule = 4 num of previously rule = 26 num of all batch rules = 30\n=====> stored rules: 291\n=====> batch [ACYCLIC 1] 85 (sampled 33165 pathes) *****\n=====> fraction of previously seen rules within useful rules in this batch: 0.7662337662337663 num of new rule = 18 num of previously rule = 59 num of all batch rules = 77\n=====> stored rules: 415\n=====> batch [CYCLIC 2] 86 (sampled 33999 pathes) *****\n=====> fraction of previously seen rules within useful rules in this batch: 0.9166666666666666 num of new rule = 3 num of previously rule = 33 num of all batch rules = 36\n=====> stored rules: 294\n=====> batch [ACYCLIC 1] 87 (sampled 34038 pathes) *****\n=====> fraction of previously seen rules within useful rules in this batch: 0.8974358974358975 num of new rule = 8 num of previously rule = 70 num of all batch rules = 78\n=====> stored rules: 423\n=====> batch [CYCLIC 2] 88 (sampled 34964 pathes) *****\n=====> fraction of previously seen rules within useful rules in this batch: 0.90625 num of new rule = 3 num of previously rule = 29 num of all batch rules = 32\n=====> stored rules: 297\n=====> batch [ACYCLIC 1] 89 (sampled 35005 pathes) *****\n=====> fraction of previously seen rules within useful rules in this batch: 0.782608695652174 num of new rule = 15 num of previously rule = 54 num of all batch rules = 69\n=====> stored rules: 438\n=====> batch [CYCLIC 2] 90 (sampled 36401 pathes) *****\n=====> fraction of previously seen rules within useful rules in this batch: 0.8780487804878049 num of new rule = 5 num of previously rule = 36 num of all batch rules = 41\n=====> stored rules: 302\n=====> batch [ACYCLIC 1] 91 (sampled 36436 pathes) *****\n=====> fraction of previously seen rules within useful rules in this batch: 0.847457627118644 num of new rule = 9 num of previously rule = 50 num of all batch rules = 59\n=====> stored rules: 447\n=====> batch [CYCLIC 2] 92 (sampled 37279 pathes) *****\n=====> fraction of previously seen rules within useful rules in this batch: 0.8387096774193549 num of new rule = 5 num of previously rule = 26 num of all batch rules = 31\n=====> stored rules: 307\n=====> batch [ACYCLIC 1] 93 (sampled 37321 pathes) *****\n=====> fraction of previously seen rules within useful rules in this batch: 0.8734177215189873 num of new rule = 10 num of previously rule = 69 num of all batch rules = 79\n=====> stored rules: 457\n=====> batch [CYCLIC 2] 94 (sampled 38010 pathes) *****\n=====> fraction of previously seen rules within useful rules in this batch: 0.7391304347826086 num of new rule = 6 num of previously rule = 17 num of all batch rules = 23\n=====> stored rules: 313\n=====> batch [ACYCLIC 1] 95 (sampled 38051 pathes) *****\n=====> fraction of previously seen rules within useful rules in this batch: 0.8414634146341463 num of new rule = 13 num of previously rule = 69 num of all batch rules = 82\n=====> stored rules: 470\n=====> batch [CYCLIC 2] 96 (sampled 39115 pathes) *****\n=====> fraction of previously seen rules within useful rules in this batch: 0.8709677419354839 num of new rule = 4 num of previously rule = 27 num of all batch rules = 31\n=====> stored rules: 317\n=====> batch [ACYCLIC 1] 97 (sampled 39156 pathes) *****\n=====> fraction of previously seen rules within useful rules in this batch: 0.8783783783783784 num of new rule = 9 num of previously rule = 65 num of all batch rules = 74\n=====> stored rules: 479\n=====> batch [CYCLIC 2] 98 (sampled 39982 pathes) *****\n=====> fraction of previously seen rules within useful rules in this batch: 0.9354838709677419 num of new rule = 2 num of previously rule = 29 num of all batch rules = 31\n=====> stored rules: 319\ncreated snapshot 3 after 101 seconds\n*************************done learning*********************************\n"
    },
    {
     "output_type": "execute_result",
     "data": {
      "text/plain": "0"
     },
     "metadata": {},
     "execution_count": 3
    }
   ],
   "source": [
    "learner.train()"
   ]
  },
  {
   "cell_type": "markdown",
   "metadata": {},
   "source": [
    "## Test read rule output"
   ]
  },
  {
   "cell_type": "code",
   "execution_count": 4,
   "metadata": {
    "tags": [
     "outputPrepend"
    ]
   },
   "outputs": [
    {
     "output_type": "stream",
     "name": "stdout",
     "text": "g2c8,Y) <= /music/genre/artists(A,Y)\n\n['/award/hall_of_fame/inductees./award/hall_of_fame_induction/inductee(/m/0g2c8,Y)', '<=', '/music/genre/artists(A,Y)\\n']\n['/award/hall_of_fame/inductees./award/hall_of_fame_induction/inductee', '/m/0g2c8,Y)']\n['/music/genre/artists', 'A,Y)\\n']\n/award/hall_of_fame/inductees./award/hall_of_fame_induction/inductee(/m/0g2c8,Y) <= /music/genre/artists(/m/05w3f,Y)\n\n['/award/hall_of_fame/inductees./award/hall_of_fame_induction/inductee(/m/0g2c8,Y)', '<=', '/music/genre/artists(/m/05w3f,Y)\\n']\n['/award/hall_of_fame/inductees./award/hall_of_fame_induction/inductee', '/m/0g2c8,Y)']\n['/music/genre/artists', '/m/05w3f,Y)\\n']\n/award/award_winning_work/awards_won./award/award_honor/award(X,/m/0gq9h) <= /award/award_winning_work/awards_won./award/award_honor/award(X,A)\n\n['/award/award_winning_work/awards_won./award/award_honor/award(X,/m/0gq9h)', '<=', '/award/award_winning_work/awards_won./award/award_honor/award(X,A)\\n']\n['/award/award_winning_work/awards_won./award/award_honor/award', 'X,/m/0gq9h)']\n['/award/award_winning_work/awards_won./award/award_honor/award', 'X,A)\\n']\n/business/business_operation/operating_income./measurement_unit/dated_money_value/currency(X,Y) <= /business/business_operation/revenue./measurement_unit/dated_money_value/currency(X,Y)\n\n['/business/business_operation/operating_income./measurement_unit/dated_money_value/currency(X,Y)', '<=', '/business/business_operation/revenue./measurement_unit/dated_money_value/currency(X,Y)\\n']\n['/business/business_operation/operating_income./measurement_unit/dated_money_value/currency', 'X,Y)']\n['/business/business_operation/revenue./measurement_unit/dated_money_value/currency', 'X,Y)\\n']\n/film/film/release_date_s./film/film_regional_release_date/film_release_region(X,/m/03rt9) <= /film/film/production_companies(X,A)\n\n['/film/film/release_date_s./film/film_regional_release_date/film_release_region(X,/m/03rt9)', '<=', '/film/film/production_companies(X,A)\\n']\n['/film/film/release_date_s./film/film_regional_release_date/film_release_region', 'X,/m/03rt9)']\n['/film/film/production_companies', 'X,A)\\n']\n/film/film/release_date_s./film/film_regional_release_date/film_release_region(/m/03np63f,Y) <= /base/biblioness/bibs_location/country(A,Y)\n\n['/film/film/release_date_s./film/film_regional_release_date/film_release_region(/m/03np63f,Y)', '<=', '/base/biblioness/bibs_location/country(A,Y)\\n']\n['/film/film/release_date_s./film/film_regional_release_date/film_release_region', '/m/03np63f,Y)']\n['/base/biblioness/bibs_location/country', 'A,Y)\\n']\n/base/schemastaging/person_extra/net_worth./measurement_unit/dated_money_value/currency(X,/m/09nqf) <= /music/artist/track_contributions./music/track_contribution/role(X,A)\n\n['/base/schemastaging/person_extra/net_worth./measurement_unit/dated_money_value/currency(X,/m/09nqf)', '<=', '/music/artist/track_contributions./music/track_contribution/role(X,A)\\n']\n['/base/schemastaging/person_extra/net_worth./measurement_unit/dated_money_value/currency', 'X,/m/09nqf)']\n['/music/artist/track_contributions./music/track_contribution/role', 'X,A)\\n']\n/film/film/release_date_s./film/film_regional_release_date/film_release_region(/m/0h1cdwq,Y) <= /film/film/release_date_s./film/film_regional_release_date/film_release_region(/m/0crc2cp,Y)\n\n['/film/film/release_date_s./film/film_regional_release_date/film_release_region(/m/0h1cdwq,Y)', '<=', '/film/film/release_date_s./film/film_regional_release_date/film_release_region(/m/0crc2cp,Y)\\n']\n['/film/film/release_date_s./film/film_regional_release_date/film_release_region', '/m/0h1cdwq,Y)']\n['/film/film/release_date_s./film/film_regional_release_date/film_release_region', '/m/0crc2cp,Y)\\n']\n/film/film/estimated_budget./measurement_unit/dated_money_value/currency(X,/m/09nqf) <= /film/film/language(X,A)\n\n['/film/film/estimated_budget./measurement_unit/dated_money_value/currency(X,/m/09nqf)', '<=', '/film/film/language(X,A)\\n']\n['/film/film/estimated_budget./measurement_unit/dated_money_value/currency', 'X,/m/09nqf)']\n['/film/film/language', 'X,A)\\n']\n/award/award_winner/awards_won./award/award_honor/award_winner(/m/06czyr,Y) <= /award/award_winner/awards_won./award/award_honor/award_winner(/m/09f0bj,Y)\n\n['/award/award_winner/awards_won./award/award_honor/award_winner(/m/06czyr,Y)', '<=', '/award/award_winner/awards_won./award/award_honor/award_winner(/m/09f0bj,Y)\\n']\n['/award/award_winner/awards_won./award/award_honor/award_winner', '/m/06czyr,Y)']\n['/award/award_winner/awards_won./award/award_honor/award_winner', '/m/09f0bj,Y)\\n']\n/film/film/estimated_budget./measurement_unit/dated_money_value/currency(X,/m/09nqf) <= /film/film/language(X,/m/02h40lc)\n\n['/film/film/estimated_budget./measurement_unit/dated_money_value/currency(X,/m/09nqf)', '<=', '/film/film/language(X,/m/02h40lc)\\n']\n['/film/film/estimated_budget./measurement_unit/dated_money_value/currency', 'X,/m/09nqf)']\n['/film/film/language', 'X,/m/02h40lc)\\n']\n/film/film/featured_film_locations(X,/m/030qb3t) <= /film/film/genre(X,/m/01jfsb)\n\n['/film/film/featured_film_locations(X,/m/030qb3t)', '<=', '/film/film/genre(X,/m/01jfsb)\\n']\n['/film/film/featured_film_locations', 'X,/m/030qb3t)']\n['/film/film/genre', 'X,/m/01jfsb)\\n']\n/film/film/release_date_s./film/film_regional_release_date/film_release_region(X,/m/09c7w0) <= /film/film/country(X,A)\n\n['/film/film/release_date_s./film/film_regional_release_date/film_release_region(X,/m/09c7w0)', '<=', '/film/film/country(X,A)\\n']\n['/film/film/release_date_s./film/film_regional_release_date/film_release_region', 'X,/m/09c7w0)']\n['/film/film/country', 'X,A)\\n']\n/location/capital_of_administrative_division/capital_of./location/administrative_division_capital_relationship/administrative_division(X,Y) <= /location/hud_county_place/county(X,Y)\n\n['/location/capital_of_administrative_division/capital_of./location/administrative_division_capital_relationship/administrative_division(X,Y)', '<=', '/location/hud_county_place/county(X,Y)\\n']\n['/location/capital_of_administrative_division/capital_of./location/administrative_division_capital_relationship/administrative_division', 'X,Y)']\n['/location/hud_county_place/county', 'X,Y)\\n']\n/film/film/release_date_s./film/film_regional_release_date/film_release_region(X,/m/09c7w0) <= /film/film/country(X,/m/0345h)\n\n['/film/film/release_date_s./film/film_regional_release_date/film_release_region(X,/m/09c7w0)', '<=', '/film/film/country(X,/m/0345h)\\n']\n['/film/film/release_date_s./film/film_regional_release_date/film_release_region', 'X,/m/09c7w0)']\n['/film/film/country', 'X,/m/0345h)\\n']\n/olympics/olympic_participating_country/athletes./olympics/olympic_athlete_affiliation/olympics(/m/0f8l9c,Y) <= /olympics/olympic_sport/athletes./olympics/olympic_athlete_affiliation/olympics(/m/06z6r,Y)\n\n['/olympics/olympic_participating_country/athletes./olympics/olympic_athlete_affiliation/olympics(/m/0f8l9c,Y)', '<=', '/olympics/olympic_sport/athletes./olympics/olympic_athlete_affiliation/olympics(/m/06z6r,Y)\\n']\n['/olympics/olympic_participating_country/athletes./olympics/olympic_athlete_affiliation/olympics', '/m/0f8l9c,Y)']\n['/olympics/olympic_sport/athletes./olympics/olympic_athlete_affiliation/olympics', '/m/06z6r,Y)\\n']\n/olympics/olympic_participating_country/athletes./olympics/olympic_athlete_affiliation/olympics(/m/0f8l9c,Y) <= /olympics/olympic_sport/athletes./olympics/olympic_athlete_affiliation/olympics(A,Y)\n\n['/olympics/olympic_participating_country/athletes./olympics/olympic_athlete_affiliation/olympics(/m/0f8l9c,Y)', '<=', '/olympics/olympic_sport/athletes./olympics/olympic_athlete_affiliation/olympics(A,Y)\\n']\n['/olympics/olympic_participating_country/athletes./olympics/olympic_athlete_affiliation/olympics', '/m/0f8l9c,Y)']\n['/olympics/olympic_sport/athletes./olympics/olympic_athlete_affiliation/olympics', 'A,Y)\\n']\n/film/film/release_date_s./film/film_regional_release_date/film_release_region(X,/m/03spz) <= /film/film/release_date_s./film/film_regional_release_date/film_release_region(X,/m/03h64)\n\n['/film/film/release_date_s./film/film_regional_release_date/film_release_region(X,/m/03spz)', '<=', '/film/film/release_date_s./film/film_regional_release_date/film_release_region(X,/m/03h64)\\n']\n['/film/film/release_date_s./film/film_regional_release_date/film_release_region', 'X,/m/03spz)']\n['/film/film/release_date_s./film/film_regional_release_date/film_release_region', 'X,/m/03h64)\\n']\n/film/film/release_date_s./film/film_regional_release_date/film_release_region(X,/m/03spz) <= /film/film/release_date_s./film/film_regional_release_date/film_release_region(X,A)\n\n['/film/film/release_date_s./film/film_regional_release_date/film_release_region(X,/m/03spz)', '<=', '/film/film/release_date_s./film/film_regional_release_date/film_release_region(X,A)\\n']\n['/film/film/release_date_s./film/film_regional_release_date/film_release_region', 'X,/m/03spz)']\n['/film/film/release_date_s./film/film_regional_release_date/film_release_region', 'X,A)\\n']\n/people/ethnicity/people(/m/02w7gg,Y) <= /award/award_nominee/award_nominations./award/award_nomination/award_nominee(A,Y)\n\n['/people/ethnicity/people(/m/02w7gg,Y)', '<=', '/award/award_nominee/award_nominations./award/award_nomination/award_nominee(A,Y)\\n']\n['/people/ethnicity/people', '/m/02w7gg,Y)']\n['/award/award_nominee/award_nominations./award/award_nomination/award_nominee', 'A,Y)\\n']\n/film/film/release_date_s./film/film_regional_release_date/film_release_region(X,/m/015qh) <= /film/film/release_date_s./film/film_regional_release_date/film_release_region(X,/m/06bnz)\n\n['/film/film/release_date_s./film/film_regional_release_date/film_release_region(X,/m/015qh)', '<=', '/film/film/release_date_s./film/film_regional_release_date/film_release_region(X,/m/06bnz)\\n']\n['/film/film/release_date_s./film/film_regional_release_date/film_release_region', 'X,/m/015qh)']\n['/film/film/release_date_s./film/film_regional_release_date/film_release_region', 'X,/m/06bnz)\\n']\n/film/film/release_date_s./film/film_regional_release_date/film_release_region(X,/m/015qh) <= /film/film/release_date_s./film/film_regional_release_date/film_release_region(X,A)\n\n['/film/film/release_date_s./film/film_regional_release_date/film_release_region(X,/m/015qh)', '<=', '/film/film/release_date_s./film/film_regional_release_date/film_release_region(X,A)\\n']\n['/film/film/release_date_s./film/film_regional_release_date/film_release_region', 'X,/m/015qh)']\n['/film/film/release_date_s./film/film_regional_release_date/film_release_region', 'X,A)\\n']\n/people/ethnicity/people(/m/02w7gg,Y) <= /award/award_nominee/award_nominations./award/award_nomination/award_nominee(/m/0djywgn,Y)\n\n['/people/ethnicity/people(/m/02w7gg,Y)', '<=', '/award/award_nominee/award_nominations./award/award_nomination/award_nominee(/m/0djywgn,Y)\\n']\n['/people/ethnicity/people', '/m/02w7gg,Y)']\n['/award/award_nominee/award_nominations./award/award_nomination/award_nominee', '/m/0djywgn,Y)\\n']\n/people/person/place_of_birth(X,Y) <= /people/person/places_lived./people/place_lived/location(X,Y)\n\n['/people/person/place_of_birth(X,Y)', '<=', '/people/person/places_lived./people/place_lived/location(X,Y)\\n']\n['/people/person/place_of_birth', 'X,Y)']\n['/people/person/places_lived./people/place_lived/location', 'X,Y)\\n']\n/dataworld/gardening_hint/split_to(X,Y) <= /music/instrument/family(X,Y)\n\n['/dataworld/gardening_hint/split_to(X,Y)', '<=', '/music/instrument/family(X,Y)\\n']\n['/dataworld/gardening_hint/split_to', 'X,Y)']\n['/music/instrument/family', 'X,Y)\\n']\n/base/aareas/schema/administrative_area/administrative_parent(X,Y) <= /location/capital_of_administrative_division/capital_of./location/administrative_division_capital_relationship/administrative_division(X,Y)\n\n['/base/aareas/schema/administrative_area/administrative_parent(X,Y)', '<=', '/location/capital_of_administrative_division/capital_of./location/administrative_division_capital_relationship/administrative_division(X,Y)\\n']\n['/base/aareas/schema/administrative_area/administrative_parent', 'X,Y)']\n['/location/capital_of_administrative_division/capital_of./location/administrative_division_capital_relationship/administrative_division', 'X,Y)\\n']\n/film/film/release_date_s./film/film_regional_release_date/film_release_region(X,/m/03gj2) <= /film/film/estimated_budget./measurement_unit/dated_money_value/currency(X,/m/09nqf)\n\n['/film/film/release_date_s./film/film_regional_release_date/film_release_region(X,/m/03gj2)', '<=', '/film/film/estimated_budget./measurement_unit/dated_money_value/currency(X,/m/09nqf)\\n']\n['/film/film/release_date_s./film/film_regional_release_date/film_release_region', 'X,/m/03gj2)']\n['/film/film/estimated_budget./measurement_unit/dated_money_value/currency', 'X,/m/09nqf)\\n']\n/film/film/release_date_s./film/film_regional_release_date/film_release_region(X,/m/03gj2) <= /film/film/estimated_budget./measurement_unit/dated_money_value/currency(X,A)\n\n['/film/film/release_date_s./film/film_regional_release_date/film_release_region(X,/m/03gj2)', '<=', '/film/film/estimated_budget./measurement_unit/dated_money_value/currency(X,A)\\n']\n['/film/film/release_date_s./film/film_regional_release_date/film_release_region', 'X,/m/03gj2)']\n['/film/film/estimated_budget./measurement_unit/dated_money_value/currency', 'X,A)\\n']\n/people/person/gender(X,/m/02zsn) <= /people/person/place_of_birth(X,A)\n\n['/people/person/gender(X,/m/02zsn)', '<=', '/people/person/place_of_birth(X,A)\\n']\n['/people/person/gender', 'X,/m/02zsn)']\n['/people/person/place_of_birth', 'X,A)\\n']\n/film/film/release_date_s./film/film_regional_release_date/film_release_distribution_medium(X,/m/029j_) <= /award/award_winning_work/awards_won./award/award_honor/award(X,/m/04kxsb)\n\n['/film/film/release_date_s./film/film_regional_release_date/film_release_distribution_medium(X,/m/029j_)', '<=', '/award/award_winning_work/awards_won./award/award_honor/award(X,/m/04kxsb)\\n']\n['/film/film/release_date_s./film/film_regional_release_date/film_release_distribution_medium', 'X,/m/029j_)']\n['/award/award_winning_work/awards_won./award/award_honor/award', 'X,/m/04kxsb)\\n']\n/film/film/release_date_s./film/film_regional_release_date/film_release_distribution_medium(X,/m/029j_) <= /award/award_winning_work/awards_won./award/award_honor/award(X,A)\n\n['/film/film/release_date_s./film/film_regional_release_date/film_release_distribution_medium(X,/m/029j_)', '<=', '/award/award_winning_work/awards_won./award/award_honor/award(X,A)\\n']\n['/film/film/release_date_s./film/film_regional_release_date/film_release_distribution_medium', 'X,/m/029j_)']\n['/award/award_winning_work/awards_won./award/award_honor/award', 'X,A)\\n']\n/sports/sports_team/roster./american_football/football_roster_position/position(/m/043vc,Y) <= /sports/sports_team/roster./american_football/football_roster_position/position(A,Y)\n\n['/sports/sports_team/roster./american_football/football_roster_position/position(/m/043vc,Y)', '<=', '/sports/sports_team/roster./american_football/football_roster_position/position(A,Y)\\n']\n['/sports/sports_team/roster./american_football/football_roster_position/position', '/m/043vc,Y)']\n['/sports/sports_team/roster./american_football/football_roster_position/position', 'A,Y)\\n']\n/sports/sports_team/roster./american_football/football_roster_position/position(/m/043vc,Y) <= /sports/sports_team/roster./american_football/football_roster_position/position(/m/057xlyq,Y)\n\n['/sports/sports_team/roster./american_football/football_roster_position/position(/m/043vc,Y)', '<=', '/sports/sports_team/roster./american_football/football_roster_position/position(/m/057xlyq,Y)\\n']\n['/sports/sports_team/roster./american_football/football_roster_position/position', '/m/043vc,Y)']\n['/sports/sports_team/roster./american_football/football_roster_position/position', '/m/057xlyq,Y)\\n']\n/film/film/release_date_s./film/film_regional_release_date/film_release_distribution_medium(X,/m/029j_) <= /award/award_winning_work/awards_won./award/award_honor/award(X,/m/0gr51)\n\n['/film/film/release_date_s./film/film_regional_release_date/film_release_distribution_medium(X,/m/029j_)', '<=', '/award/award_winning_work/awards_won./award/award_honor/award(X,/m/0gr51)\\n']\n['/film/film/release_date_s./film/film_regional_release_date/film_release_distribution_medium', 'X,/m/029j_)']\n['/award/award_winning_work/awards_won./award/award_honor/award', 'X,/m/0gr51)\\n']\n/music/performance_role/regular_performances./music/group_membership/role(/m/02k856,Y) <= /music/performance_role/track_performances./music/track_contribution/role(/m/02sgy,Y)\n\n['/music/performance_role/regular_performances./music/group_membership/role(/m/02k856,Y)', '<=', '/music/performance_role/track_performances./music/track_contribution/role(/m/02sgy,Y)\\n']\n['/music/performance_role/regular_performances./music/group_membership/role', '/m/02k856,Y)']\n['/music/performance_role/track_performances./music/track_contribution/role', '/m/02sgy,Y)\\n']\n/music/performance_role/regular_performances./music/group_membership/role(/m/02k856,Y) <= /music/performance_role/track_performances./music/track_contribution/role(A,Y)\n\n['/music/performance_role/regular_performances./music/group_membership/role(/m/02k856,Y)', '<=', '/music/performance_role/track_performances./music/track_contribution/role(A,Y)\\n']\n['/music/performance_role/regular_performances./music/group_membership/role', '/m/02k856,Y)']\n['/music/performance_role/track_performances./music/track_contribution/role', 'A,Y)\\n']\n/music/record_label/artist(/m/011k1h,Y) <= /music/record_label/artist(A,Y)\n\n['/music/record_label/artist(/m/011k1h,Y)', '<=', '/music/record_label/artist(A,Y)\\n']\n['/music/record_label/artist', '/m/011k1h,Y)']\n['/music/record_label/artist', 'A,Y)\\n']\n/music/record_label/artist(/m/011k1h,Y) <= /music/record_label/artist(/m/017l96,Y)\n\n['/music/record_label/artist(/m/011k1h,Y)', '<=', '/music/record_label/artist(/m/017l96,Y)\\n']\n['/music/record_label/artist', '/m/011k1h,Y)']\n['/music/record_label/artist', '/m/017l96,Y)\\n']\n/location/statistical_region/gdp_nominal./measurement_unit/dated_money_value/currency(X,Y) <= /location/statistical_region/gdp_nominal_per_capita./measurement_unit/dated_money_value/currency(X,Y)\n\n['/location/statistical_region/gdp_nominal./measurement_unit/dated_money_value/currency(X,Y)', '<=', '/location/statistical_region/gdp_nominal_per_capita./measurement_unit/dated_money_value/currency(X,Y)\\n']\n['/location/statistical_region/gdp_nominal./measurement_unit/dated_money_value/currency', 'X,Y)']\n['/location/statistical_region/gdp_nominal_per_capita./measurement_unit/dated_money_value/currency', 'X,Y)\\n']\n/film/film/release_date_s./film/film_regional_release_date/film_release_region(X,/m/03rjj) <= /award/award_winning_work/awards_won./award/award_honor/award(X,A)\n\n['/film/film/release_date_s./film/film_regional_release_date/film_release_region(X,/m/03rjj)', '<=', '/award/award_winning_work/awards_won./award/award_honor/award(X,A)\\n']\n['/film/film/release_date_s./film/film_regional_release_date/film_release_region', 'X,/m/03rjj)']\n['/award/award_winning_work/awards_won./award/award_honor/award', 'X,A)\\n']\n/location/location/contains(/m/09c7w0,Y) <= /location/location/adjoin_s./location/adjoining_relationship/adjoins(A,Y)\n\n['/location/location/contains(/m/09c7w0,Y)', '<=', '/location/location/adjoin_s./location/adjoining_relationship/adjoins(A,Y)\\n']\n['/location/location/contains', '/m/09c7w0,Y)']\n['/location/location/adjoin_s./location/adjoining_relationship/adjoins', 'A,Y)\\n']\n/award/award_nominee/award_nominations./award/award_nomination/award(/m/0c6qh,Y) <= /award/award_nominee/award_nominations./award/award_nomination/award(/m/0blq0z,Y)\n\n['/award/award_nominee/award_nominations./award/award_nomination/award(/m/0c6qh,Y)', '<=', '/award/award_nominee/award_nominations./award/award_nomination/award(/m/0blq0z,Y)\\n']\n['/award/award_nominee/award_nominations./award/award_nomination/award', '/m/0c6qh,Y)']\n['/award/award_nominee/award_nominations./award/award_nomination/award', '/m/0blq0z,Y)\\n']\n"
    }
   ],
   "source": [
    "from rule_io.rule_reader import RuleReader\n",
    "\n",
    "reader = RuleReader('output/output-20.txt')\n",
    "all_rules = reader.read()"
   ]
  },
  {
   "cell_type": "code",
   "execution_count": 5,
   "metadata": {
    "tags": [
     "outputPrepend"
    ]
   },
   "outputs": [
    {
     "output_type": "stream",
     "name": "stdout",
     "text": "ted_money_value/currency(X,Y)\n['/education/university/domestic_tuition./measurement_unit/dated_money_value/currency(X,Y)']\n/film/film/release_date_s./film/film_regional_release_date/film_release_region(X,/m/01znc_)\n['/film/film/language(X,/m/04306rv)']\n/film/film/release_date_s./film/film_regional_release_date/film_release_region(X,/m/01znc_)\n['/film/film/language(X,A)']\n/music/performance_role/track_performances./music/track_contribution/role(/m/07_l6,Y)\n['/music/group_member/membership./music/group_membership/role(A,Y)']\n/location/statistical_region/rent50_2./measurement_unit/dated_money_value/currency(X,/m/09nqf)\n['/location/location/adjoin_s./location/adjoining_relationship/adjoins(X,A)']\n/soccer/football_team/current_roster./sports/sports_team_roster/position(X,/m/02nzb8)\n['/soccer/football_team/current_roster./soccer/football_roster_position/position(X,/m/02_j1w)']\n/soccer/football_team/current_roster./sports/sports_team_roster/position(X,/m/02nzb8)\n['/soccer/football_team/current_roster./soccer/football_roster_position/position(X,A)']\n/film/film/release_date_s./film/film_regional_release_date/film_release_region(X,/m/035qy)\n['/film/film/genre(X,/m/01hmnh)']\n/film/film/release_date_s./film/film_regional_release_date/film_release_region(X,/m/035qy)\n['/film/film/genre(X,A)']\n/music/performance_role/guest_performances./music/recording_contribution/performance_role(X,/m/01qbl)\n['/music/performance_role/regular_performances./music/group_membership/role(X,/m/03qjg)']\n/music/performance_role/guest_performances./music/recording_contribution/performance_role(X,/m/01qbl)\n['/music/performance_role/regular_performances./music/group_membership/role(X,A)']\n/media_common/netflix_genre/titles(/m/02l7c8,Y)\n['/media_common/netflix_genre/titles(/m/07ssc,Y)']\n/film/film/other_crew./film/film_crew_gig/film_crew_role(X,/m/01pvkk)\n['/film/film/release_date_s./film/film_regional_release_date/film_release_region(X,A)']\n/base/marchmadness/ncaa_basketball_tournament/seeds./base/marchmadness/ncaa_tournament_seed/team(X,/m/02pjzvh)\n['/base/marchmadness/ncaa_basketball_tournament/seeds./base/marchmadness/ncaa_tournament_seed/team(X,/m/02pqcfz)']\n/base/marchmadness/ncaa_basketball_tournament/seeds./base/marchmadness/ncaa_tournament_seed/team(X,/m/02pjzvh)\n['/base/marchmadness/ncaa_basketball_tournament/seeds./base/marchmadness/ncaa_tournament_seed/team(X,A)']\n/base/popstra/celebrity/dated./base/popstra/dated/participant(X,Y)\n['/people/person/spouse_s./people/marriage/spouse(X,Y)']\n/film/film/other_crew./film/film_crew_gig/film_crew_role(X,/m/01pvkk)\n['/film/film/release_date_s./film/film_regional_release_date/film_release_region(X,/m/0d060g)']\n/location/location/time_zones(X,/m/02fqwt)\n['/location/location/adjoin_s./location/adjoining_relationship/adjoins(X,A)']\n/award/award_category/nominees./award/award_nomination/nominated_for(X,/m/02c638)\n['/award/award_category/winners./award/award_honor/award_winner(X,A)']\n/film/film/written_by(X,Y)\n['/award/award_winning_work/awards_won./award/award_honor/award_winner(X,Y)']\n/education/field_of_study/students_majoring./education/education/major_field_of_study(/m/064_8sq,Y)\n['/education/educational_institution/students_graduates./education/education/major_field_of_study(A,Y)']\n/award/award_category/winners./award/award_honor/ceremony(X,/m/05pd94v)\n['/award/award_category/winners./award/award_honor/award_winner(X,A)']\n/sports/sports_team/roster./american_football/football_roster_position/position(/m/04ls81,Y)\n['/sports/sports_team/roster./american_football/football_historical_roster_position/position_s(A,Y)']\n/sports/sports_team/roster./american_football/football_roster_position/position(/m/04ls81,Y)\n['/sports/sports_team/roster./american_football/football_historical_roster_position/position_s(/m/01ct6,Y)']\n/sports/sports_team/colors(X,/m/019sc)\n['/sports/professional_sports_team/draft_picks./sports/sports_league_draft_pick/school(X,A)']\n/soccer/football_team/current_roster./soccer/football_roster_position/position(X,/m/02_j1w)\n['/soccer/football_team/current_roster./soccer/football_roster_position/position(X,/m/02nzb8)']\n/soccer/football_team/current_roster./soccer/football_roster_position/position(X,/m/02_j1w)\n['/soccer/football_team/current_roster./soccer/football_roster_position/position(X,A)']\n/people/person/spouse_s./people/marriage/type_of_union(X,/m/04ztj)\n['/people/person/place_of_birth(X,/m/02_286)']\n/education/educational_institution/students_graduates./education/education/major_field_of_study(X,/m/02j62)\n['/organization/organization/headquarters./location/mailing_address/state_province_region(X,A)']\n/people/person/spouse_s./people/marriage/type_of_union(X,/m/04ztj)\n['/people/person/place_of_birth(X,A)']\n/award/award_winning_work/awards_won./award/award_honor/award_winner(X,Y)\n['/film/film/written_by(X,Y)']\n/award/award_nominee/award_nominations./award/award_nomination/award(X,/m/04ljl_l)\n['/award/award_nominee/award_nominations./award/award_nomination/award(X,/m/05p09zm)']\n/medicine/symptom/symptom_of(X,/m/0hgxh)\n['/medicine/symptom/symptom_of(X,A)']\n/baseball/baseball_team/team_stats./baseball/baseball_team_stats/season(/m/01ypc,Y)\n['/baseball/baseball_team/team_stats./baseball/baseball_team_stats/season(/m/07l8x,Y)']\n/baseball/baseball_team/team_stats./baseball/baseball_team_stats/season(/m/01ypc,Y)\n['/baseball/baseball_team/team_stats./baseball/baseball_team_stats/season(A,Y)']\n/film/film/genre(X,/m/02kdv5l)\n['/film/film/story_by(X,A)']\n/sports/sports_position/players./sports/sports_team_roster/team(X,/m/0289q)\n['/sports/sports_position/players./american_football/football_historical_roster_position/position_s(X,/m/0bgv8y)']\n/sports/sports_position/players./sports/sports_team_roster/team(X,/m/0289q)\n['/sports/sports_position/players./american_football/football_historical_roster_position/position_s(X,A)']\n/sports/sports_team/roster./american_football/football_roster_position/position(X,/m/02g_6x)\n['/sports/sports_team/roster./american_football/football_historical_roster_position/position_s(X,A)']\n/sports/sports_team/roster./american_football/football_roster_position/position(X,/m/02g_6x)\n['/sports/sports_team/roster./american_football/football_historical_roster_position/position_s(X,/m/08ns5s)']\n/music/genre/artists(X,/m/03t9sp)\n['/music/genre/parent_genre(X,A)']\n/film/film/release_date_s./film/film_regional_release_date/film_release_distribution_medium(X,/m/029j_)\n['/film/film/genre(X,A)']\n/location/administrative_division/country(X,/m/0d05w3)\n['/base/aareas/schema/administrative_area/administrative_parent(X,/m/0d05w3)']\n/film/film/release_date_s./film/film_regional_release_date/film_release_region(/m/03twd6,Y)\n['/film/film/release_date_s./film/film_regional_release_date/film_release_region(A,Y)']\n/film/film/release_date_s./film/film_regional_release_date/film_release_region(/m/03twd6,Y)\n['/film/film/release_date_s./film/film_regional_release_date/film_release_region(/m/0dgpwnk,Y)']\n/film/film/release_date_s./film/film_regional_release_date/film_release_region(X,/m/06f32)\n['/film/film/release_date_s./film/film_regional_release_date/film_release_region(X,A)']\n/film/film/release_date_s./film/film_regional_release_date/film_release_region(X,/m/06f32)\n['/film/film/release_date_s./film/film_regional_release_date/film_release_region(X,/m/09pmkv)']\n/film/film/release_date_s./film/film_regional_release_date/film_release_region(X,/m/0d0vqn)\n['/film/film/release_date_s./film/film_regional_release_date/film_release_region(X,/m/0jgd)']\n/film/film/release_date_s./film/film_regional_release_date/film_release_region(X,/m/0d0vqn)\n['/film/film/release_date_s./film/film_regional_release_date/film_release_region(X,A)']\n/location/administrative_division/first_level_division_of(X,Y)\n['/base/aareas/schema/administrative_area/administrative_parent(X,Y)']\n/music/artist/track_contributions./music/track_contribution/role(/m/023slg,Y)\n['/music/performance_role/track_performances./music/track_contribution/role(A,Y)']\n/music/artist/track_contributions./music/track_contribution/role(/m/023slg,Y)\n['/music/performance_role/track_performances./music/track_contribution/role(/m/07y_7,Y)']\n/olympics/olympic_sport/athletes./olympics/olympic_athlete_affiliation/country(/m/0486tv,Y)\n['/language/human_language/countries_spoken_in(A,Y)']\n/soccer/football_team/current_roster./soccer/football_roster_position/position(X,/m/02_j1w)\n['/soccer/football_team/current_roster./sports/sports_team_roster/position(X,A)']\n/soccer/football_team/current_roster./soccer/football_roster_position/position(X,/m/02_j1w)\n['/soccer/football_team/current_roster./sports/sports_team_roster/position(X,/m/02sdk9v)']\n/soccer/football_team/current_roster./soccer/football_roster_position/position(X,/m/02_j1w)\n['/soccer/football_team/current_roster./sports/sports_team_roster/position(X,/m/02_j1w)']\n/olympics/olympic_sport/athletes./olympics/olympic_athlete_affiliation/country(/m/06z6r,Y)\n['/olympics/olympic_sport/athletes./olympics/olympic_athlete_affiliation/country(A,Y)']\n/olympics/olympic_sport/athletes./olympics/olympic_athlete_affiliation/country(/m/06z6r,Y)\n['/olympics/olympic_sport/athletes./olympics/olympic_athlete_affiliation/country(/m/0486tv,Y)']\n/military/military_combatant/military_conflicts./military/military_combatant_group/combatants(/m/05qhw,Y)\n['/film/film/release_date_s./film/film_regional_release_date/film_release_region(/m/02x6dqb,Y)']\n/military/military_combatant/military_conflicts./military/military_combatant_group/combatants(/m/05qhw,Y)\n['/film/film/release_date_s./film/film_regional_release_date/film_release_region(A,Y)']\n/olympics/olympic_participating_country/medals_won./olympics/olympic_medal_honor/medal(X,/m/02lpp7)\n['/location/location/contains(X,A)']\n/film/film/production_companies(X,/m/086k8)\n['/film/film/runtime./film/film_cut/film_release_region(X,A)']\n/music/performance_role/regular_performances./music/group_membership/group(/m/05r5c,Y)\n['/music/genre/artists(/m/06by7,Y)']\n/music/performance_role/track_performances./music/track_contribution/role(/m/07y_7,Y)\n['/music/performance_role/track_performances./music/track_contribution/role(/m/018vs,Y)']\n/music/performance_role/track_performances./music/track_contribution/role(/m/07y_7,Y)\n['/music/performance_role/track_performances./music/track_contribution/role(A,Y)']\n/film/director/film(X,Y)\n['/award/award_nominee/award_nominations./award/award_nomination/nominated_for(X,Y)']\n/award/award_winner/awards_won./award/award_honor/award_winner(/m/01wb8bs,Y)\n['/award/award_winner/awards_won./award/award_honor/award_winner(/m/0308kx,Y)']\n/award/award_category/winners./award/award_honor/ceremony(/m/01c9dd,Y)\n['/award/award_category/winners./award/award_honor/ceremony(/m/024fxq,Y)']\n/award/award_category/winners./award/award_honor/ceremony(/m/01c9dd,Y)\n['/award/award_category/winners./award/award_honor/ceremony(A,Y)']\n/music/performance_role/regular_performances./music/group_membership/group(X,/m/0bpk2)\n['/music/instrument/instrumentalists(X,A)']\n/music/instrument/instrumentalists(X,/m/0161sp)\n['/music/performance_role/regular_performances./music/group_membership/role(X,A)']\n/music/instrument/instrumentalists(X,/m/0161sp)\n['/music/performance_role/regular_performances./music/group_membership/role(X,/m/01hww_)']\n/award/award_nominee/award_nominations./award/award_nomination/nominated_for(X,Y)\n['/film/film_distributor/films_distributed./film/film_film_distributor_relationship/film(X,Y)']\n/film/film/release_date_s./film/film_regional_release_date/film_release_region(X,/m/06qd3)\n['/film/film/release_date_s./film/film_regional_release_date/film_release_region(X,A)']\n/film/film/release_date_s./film/film_regional_release_date/film_release_region(X,/m/06qd3)\n['/film/film/release_date_s./film/film_regional_release_date/film_release_region(X,/m/05v10)']\n/people/person/profession(X,/m/0np9r)\n['/award/award_nominee/award_nominations./award/award_nomination/award(X,A)']\n/people/person/profession(X,/m/0np9r)\n['/award/award_nominee/award_nominations./award/award_nomination/award(X,/m/0bp_b2)']\n/music/group_member/membership./music/group_membership/role(X,/m/0l14md)\n['/music/artist/track_contributions./music/track_contribution/role(X,A)']\n/award/award_nominee/award_nominations./award/award_nomination/nominated_for(X,Y)\n['/tv/tv_producer/programs_produced./tv/tv_producer_term/program(X,Y)']\n/music/genre/artists(/m/05r6t,Y)\n['/music/record_label/artist(A,Y)']\n/people/person/places_lived./people/place_lived/location(X,/m/030qb3t)\n['/award/award_nominee/award_nominations./award/award_nomination/award(X,A)']\n/government/legislative_session/members./government/government_position_held/district_represented(/m/02bp37,Y)\n['/government/legislative_session/members./government/government_position_held/district_represented(/m/024tcq,Y)']\n/government/legislative_session/members./government/government_position_held/district_represented(/m/02bp37,Y)\n['/government/legislative_session/members./government/government_position_held/district_represented(A,Y)']\n/award/award_nominee/award_nominations./award/award_nomination/award_nominee(/m/0cms7f,Y)\n['/award/award_nominee/award_nominations./award/award_nomination/award_nominee(/m/0cmt6q,Y)']\n/film/film/country(X,Y)\n['/film/film/distributors./film/film_film_distributor_relationship/region(X,Y)']\n/location/hud_foreclosure_area/estimated_number_of_mortgages./measurement_unit/dated_integer/source(X,/m/0jbk9)\n['/common/topic/webpage./common/webpage/category(X,/m/08mbj5d)']\n/location/hud_foreclosure_area/estimated_number_of_mortgages./measurement_unit/dated_integer/source(X,/m/0jbk9)\n['/common/topic/webpage./common/webpage/category(X,A)']\n/award/hall_of_fame/inductees./award/hall_of_fame_induction/inductee(/m/0g2c8,Y)\n['/music/genre/artists(A,Y)']\n/award/hall_of_fame/inductees./award/hall_of_fame_induction/inductee(/m/0g2c8,Y)\n['/music/genre/artists(/m/05w3f,Y)']\n/award/award_winning_work/awards_won./award/award_honor/award(X,/m/0gq9h)\n['/award/award_winning_work/awards_won./award/award_honor/award(X,A)']\n/business/business_operation/operating_income./measurement_unit/dated_money_value/currency(X,Y)\n['/business/business_operation/revenue./measurement_unit/dated_money_value/currency(X,Y)']\n/film/film/release_date_s./film/film_regional_release_date/film_release_region(X,/m/03rt9)\n['/film/film/production_companies(X,A)']\n/film/film/release_date_s./film/film_regional_release_date/film_release_region(/m/03np63f,Y)\n['/base/biblioness/bibs_location/country(A,Y)']\n/base/schemastaging/person_extra/net_worth./measurement_unit/dated_money_value/currency(X,/m/09nqf)\n['/music/artist/track_contributions./music/track_contribution/role(X,A)']\n/film/film/release_date_s./film/film_regional_release_date/film_release_region(/m/0h1cdwq,Y)\n['/film/film/release_date_s./film/film_regional_release_date/film_release_region(/m/0crc2cp,Y)']\n/film/film/estimated_budget./measurement_unit/dated_money_value/currency(X,/m/09nqf)\n['/film/film/language(X,A)']\n/award/award_winner/awards_won./award/award_honor/award_winner(/m/06czyr,Y)\n['/award/award_winner/awards_won./award/award_honor/award_winner(/m/09f0bj,Y)']\n/film/film/estimated_budget./measurement_unit/dated_money_value/currency(X,/m/09nqf)\n['/film/film/language(X,/m/02h40lc)']\n/film/film/featured_film_locations(X,/m/030qb3t)\n['/film/film/genre(X,/m/01jfsb)']\n/film/film/release_date_s./film/film_regional_release_date/film_release_region(X,/m/09c7w0)\n['/film/film/country(X,A)']\n/location/capital_of_administrative_division/capital_of./location/administrative_division_capital_relationship/administrative_division(X,Y)\n['/location/hud_county_place/county(X,Y)']\n/film/film/release_date_s./film/film_regional_release_date/film_release_region(X,/m/09c7w0)\n['/film/film/country(X,/m/0345h)']\n/olympics/olympic_participating_country/athletes./olympics/olympic_athlete_affiliation/olympics(/m/0f8l9c,Y)\n['/olympics/olympic_sport/athletes./olympics/olympic_athlete_affiliation/olympics(/m/06z6r,Y)']\n/olympics/olympic_participating_country/athletes./olympics/olympic_athlete_affiliation/olympics(/m/0f8l9c,Y)\n['/olympics/olympic_sport/athletes./olympics/olympic_athlete_affiliation/olympics(A,Y)']\n/film/film/release_date_s./film/film_regional_release_date/film_release_region(X,/m/03spz)\n['/film/film/release_date_s./film/film_regional_release_date/film_release_region(X,/m/03h64)']\n/film/film/release_date_s./film/film_regional_release_date/film_release_region(X,/m/03spz)\n['/film/film/release_date_s./film/film_regional_release_date/film_release_region(X,A)']\n/people/ethnicity/people(/m/02w7gg,Y)\n['/award/award_nominee/award_nominations./award/award_nomination/award_nominee(A,Y)']\n/film/film/release_date_s./film/film_regional_release_date/film_release_region(X,/m/015qh)\n['/film/film/release_date_s./film/film_regional_release_date/film_release_region(X,/m/06bnz)']\n/film/film/release_date_s./film/film_regional_release_date/film_release_region(X,/m/015qh)\n['/film/film/release_date_s./film/film_regional_release_date/film_release_region(X,A)']\n/people/ethnicity/people(/m/02w7gg,Y)\n['/award/award_nominee/award_nominations./award/award_nomination/award_nominee(/m/0djywgn,Y)']\n/people/person/place_of_birth(X,Y)\n['/people/person/places_lived./people/place_lived/location(X,Y)']\n/dataworld/gardening_hint/split_to(X,Y)\n['/music/instrument/family(X,Y)']\n/base/aareas/schema/administrative_area/administrative_parent(X,Y)\n['/location/capital_of_administrative_division/capital_of./location/administrative_division_capital_relationship/administrative_division(X,Y)']\n/film/film/release_date_s./film/film_regional_release_date/film_release_region(X,/m/03gj2)\n['/film/film/estimated_budget./measurement_unit/dated_money_value/currency(X,/m/09nqf)']\n/film/film/release_date_s./film/film_regional_release_date/film_release_region(X,/m/03gj2)\n['/film/film/estimated_budget./measurement_unit/dated_money_value/currency(X,A)']\n/people/person/gender(X,/m/02zsn)\n['/people/person/place_of_birth(X,A)']\n/film/film/release_date_s./film/film_regional_release_date/film_release_distribution_medium(X,/m/029j_)\n['/award/award_winning_work/awards_won./award/award_honor/award(X,/m/04kxsb)']\n/film/film/release_date_s./film/film_regional_release_date/film_release_distribution_medium(X,/m/029j_)\n['/award/award_winning_work/awards_won./award/award_honor/award(X,A)']\n/sports/sports_team/roster./american_football/football_roster_position/position(/m/043vc,Y)\n['/sports/sports_team/roster./american_football/football_roster_position/position(A,Y)']\n/sports/sports_team/roster./american_football/football_roster_position/position(/m/043vc,Y)\n['/sports/sports_team/roster./american_football/football_roster_position/position(/m/057xlyq,Y)']\n/film/film/release_date_s./film/film_regional_release_date/film_release_distribution_medium(X,/m/029j_)\n['/award/award_winning_work/awards_won./award/award_honor/award(X,/m/0gr51)']\n/music/performance_role/regular_performances./music/group_membership/role(/m/02k856,Y)\n['/music/performance_role/track_performances./music/track_contribution/role(/m/02sgy,Y)']\n/music/performance_role/regular_performances./music/group_membership/role(/m/02k856,Y)\n['/music/performance_role/track_performances./music/track_contribution/role(A,Y)']\n/music/record_label/artist(/m/011k1h,Y)\n['/music/record_label/artist(A,Y)']\n/music/record_label/artist(/m/011k1h,Y)\n['/music/record_label/artist(/m/017l96,Y)']\n/location/statistical_region/gdp_nominal./measurement_unit/dated_money_value/currency(X,Y)\n['/location/statistical_region/gdp_nominal_per_capita./measurement_unit/dated_money_value/currency(X,Y)']\n/film/film/release_date_s./film/film_regional_release_date/film_release_region(X,/m/03rjj)\n['/award/award_winning_work/awards_won./award/award_honor/award(X,A)']\n/location/location/contains(/m/09c7w0,Y)\n['/location/location/adjoin_s./location/adjoining_relationship/adjoins(A,Y)']\n/award/award_nominee/award_nominations./award/award_nomination/award(/m/0c6qh,Y)\n['/award/award_nominee/award_nominations./award/award_nomination/award(/m/0blq0z,Y)']\n"
    }
   ],
   "source": [
    "for r in all_rules:\n",
    "    print(r.head)\n",
    "    print([str(t) for t in r.body])"
   ]
  },
  {
   "cell_type": "markdown",
   "metadata": {},
   "source": [
    "## Test ScoreTree"
   ]
  },
  {
   "cell_type": "code",
   "execution_count": 1,
   "metadata": {},
   "outputs": [],
   "source": [
    "from structure.score_tree import ScoreTree\n",
    "\n",
    "tree = ScoreTree()"
   ]
  },
  {
   "cell_type": "code",
   "execution_count": 2,
   "metadata": {
    "tags": []
   },
   "outputs": [],
   "source": [
    "s1 = set(['a', 'b', 'c', 'd', 'd1', 'd2'])\n",
    "tree.add_values(0.9, s1)"
   ]
  },
  {
   "cell_type": "code",
   "execution_count": 3,
   "metadata": {
    "tags": []
   },
   "outputs": [
    {
     "output_type": "stream",
     "name": "stdout",
     "text": "0.0 [0](6) -> {   }\n     0.9 [6](6) -> { c d a d1 d2 b }\n\nprecise enough False\nfirst unique False\n"
    }
   ],
   "source": [
    "print(tree)\n",
    "print('precise enough',tree.fine())\n",
    "print('first unique',tree.is_first_unique())"
   ]
  },
  {
   "cell_type": "code",
   "execution_count": 4,
   "metadata": {
    "tags": []
   },
   "outputs": [
    {
     "output_type": "stream",
     "name": "stdout",
     "text": "0.0 [0](8) -> {   }\n     0.9 [6](6) -> { c d a d1 d2 b }\n     0.8999 [8](2) -> { bbb aaa }\n\nprecise enough False\nfirst unique False\n"
    }
   ],
   "source": [
    "s11=set(['aaa', 'bbb'])\n",
    "tree.add_values(0.8999, s11)\n",
    "print(tree)\n",
    "print('precise enough',tree.fine())\n",
    "print('first unique',tree.is_first_unique())"
   ]
  },
  {
   "cell_type": "code",
   "execution_count": 5,
   "metadata": {
    "tags": []
   },
   "outputs": [
    {
     "output_type": "stream",
     "name": "stdout",
     "text": "0.0 [0](8) -> {   }\n     0.9 [6](6) -> { d2 c d d1 }\n         0.8999 [2](2) -> { b a }\n     0.8999 [8](2) -> { bbb aaa }\n\nprecise enough False\nfirst unique False\n"
    }
   ],
   "source": [
    "s12 = set(['a', 'b'])\n",
    "tree.add_values(0.8999, s12)\n",
    "print(tree)\n",
    "print('precise enough',tree.fine())\n",
    "print('first unique',tree.is_first_unique())"
   ]
  },
  {
   "cell_type": "code",
   "execution_count": 6,
   "metadata": {
    "tags": []
   },
   "outputs": [
    {
     "output_type": "stream",
     "name": "stdout",
     "text": "0.0 [0](12) -> {   }\n     0.9 [6](6) -> { d2 c d d1 }\n         0.8999 [2](2) -> { b a }\n     0.8999 [8](2) -> { bbb aaa }\n     0.88 [12](4) -> { e3 e4 e2 e1 }\n\nprecise enough False\nfirst unique False\n"
    }
   ],
   "source": [
    "s2 = set(['a', 'b', 'e1', 'e2', 'e3', 'e4'])\n",
    "tree.add_values(0.88, s2)\n",
    "print(tree)\n",
    "print('precise enough',tree.fine())\n",
    "print('first unique',tree.is_first_unique())"
   ]
  },
  {
   "cell_type": "code",
   "execution_count": 7,
   "metadata": {
    "tags": []
   },
   "outputs": [
    {
     "output_type": "stream",
     "name": "stdout",
     "text": "0.0 [0](12) -> {   }\n     0.9 [6](6) -> { d2 c d d1 }\n        X 0.8999 [2](2) -> { b }\n            X 0.6 [1](1) -> { a }\n     0.8999 [8](2) -> { bbb aaa }\n     0.88 [10](2) -> { e4 e1 }\n\nprecise enough True\nfirst unique True\n"
    }
   ],
   "source": [
    "s3 = set(['a', 'e1', 'e4'])\n",
    "tree.add_values(0.6, s3)\n",
    "print(tree)\n",
    "print('precise enough',tree.fine())\n",
    "print('first unique',tree.is_first_unique())"
   ]
  },
  {
   "cell_type": "code",
   "execution_count": 8,
   "metadata": {
    "tags": []
   },
   "outputs": [
    {
     "output_type": "stream",
     "name": "stdout",
     "text": "0.0 [0](12) -> {   }\n     0.9 [6](6) -> { d2 c d d1 }\n        X 0.8999 [2](2) -> { b }\n            X 0.6 [1](1) -> { a }\n     0.8999 [8](2) -> { bbb aaa }\n     0.88 [10](2) -> { e4 e1 }\n\nprecise enough True\nfirst unique True\n"
    }
   ],
   "source": [
    "s4 = set(['xa', 'xb', 'xe1', 'xe2', 'xe3', 'xe4'])\n",
    "tree.add_values(0.5, s4)\n",
    "print(tree)\n",
    "print('precise enough',tree.fine())\n",
    "print('first unique',tree.is_first_unique())"
   ]
  },
  {
   "cell_type": "code",
   "execution_count": 9,
   "metadata": {
    "tags": []
   },
   "outputs": [
    {
     "output_type": "stream",
     "name": "stdout",
     "text": "0.0 [0](12) -> {   }\n     0.9 [6](6) -> { d2 c d d1 }\n        X 0.8999 [2](2) -> { b }\n            X 0.6 [1](1) -> { a }\n     0.8999 [8](2) -> { bbb aaa }\n     0.88 [10](2) -> { e4 e1 }\n\nprecise enough True\n"
    }
   ],
   "source": [
    "s5 = set(['xa', 'xb', 'ye1', 'ye2', 'ye3', 'ye4'])\n",
    "tree.add_values(0.43, s4)\n",
    "print(tree)\n",
    "print('precise enough',tree.fine())"
   ]
  },
  {
   "cell_type": "code",
   "execution_count": 10,
   "metadata": {
    "tags": []
   },
   "outputs": [
    {
     "output_type": "stream",
     "name": "stdout",
     "text": "0.0 [0](12) -> {   }\n     0.9 [6](6) -> { d2 c d d1 }\n        X 0.8999 [2](2) -> { b }\n            X 0.6 [1](1) -> { a }\n     0.8999 [8](2) -> { bbb aaa }\n     0.88 [10](2) -> { e4 e1 }\n\nprecise enough True\n"
    }
   ],
   "source": [
    "s6 = set(['xe2', 'xa', 'xxx'])\n",
    "tree.add_values(0.39, s6)\n",
    "print(tree)\n",
    "print('precise enough',tree.fine())"
   ]
  },
  {
   "cell_type": "code",
   "execution_count": 11,
   "metadata": {
    "tags": []
   },
   "outputs": [
    {
     "output_type": "stream",
     "name": "stdout",
     "text": "0.0 [0](12) -> {   }\n     0.9 [6](6) -> { d2 c d d1 }\n        X 0.8999 [2](2) -> { b }\n            X 0.6 [1](1) -> { a }\n     0.8999 [8](2) -> { bbb aaa }\n     0.88 [10](2) -> { e4 e1 }\n\nprecise enough True\n"
    }
   ],
   "source": [
    "s7 = set(['xe1', 'xe2'])\n",
    "tree.add_values(0.22, s7)\n",
    "print(tree)\n",
    "print('precise enough',tree.fine())"
   ]
  },
  {
   "cell_type": "code",
   "execution_count": 12,
   "metadata": {
    "tags": []
   },
   "outputs": [
    {
     "output_type": "stream",
     "name": "stdout",
     "text": "0.0 [0](12) -> {   }\n     0.9 [6](6) -> { d2 c d d1 }\n        X 0.8999 [2](2) -> { b }\n            X 0.6 [1](1) -> { a }\n     0.8999 [8](2) -> { bbb aaa }\n     0.88 [10](2) -> { e4 e1 }\n\nprecise enough True\n"
    }
   ],
   "source": [
    "s8 = set(['xe4'])\n",
    "tree.add_values(0.21, s8)\n",
    "print(tree)\n",
    "print('precise enough',tree.fine())"
   ]
  },
  {
   "cell_type": "code",
   "execution_count": 13,
   "metadata": {
    "tags": []
   },
   "outputs": [
    {
     "output_type": "stream",
     "name": "stdout",
     "text": "0.0 [0](12) -> {   }\n     0.9 [6](6) -> { d2 c d d1 }\n        X 0.8999 [2](2) -> { b }\n            X 0.6 [1](1) -> { a }\n     0.8999 [8](2) -> { bbb aaa }\n    X 0.88 [10](2) -> { e4 }\n        X 0.21 [9](1) -> { e1 }\n\nprecise enough True\n"
    }
   ],
   "source": [
    "s9 = set(['e1', 'e2'])\n",
    "tree.add_values(0.21, s9)\n",
    "print(tree)\n",
    "print('precise enough',tree.fine())"
   ]
  },
  {
   "cell_type": "code",
   "execution_count": 14,
   "metadata": {
    "tags": []
   },
   "outputs": [
    {
     "output_type": "stream",
     "name": "stdout",
     "text": "0.0 [0](12) -> {   }\n     0.9 [6](6) -> { d2 c d d1 }\n        X 0.8999 [2](2) -> { b }\n            X 0.6 [1](1) -> { a }\n     0.8999 [8](2) -> { bbb aaa }\n    X 0.88 [10](2) -> { e4 }\n        X 0.21 [9](1) -> { e1 }\n\n"
    }
   ],
   "source": [
    "s19 = set(['u1', 'u2'])\n",
    "tree.add_values(0.19, s9)\n",
    "print(tree)"
   ]
  },
  {
   "cell_type": "code",
   "execution_count": 15,
   "metadata": {},
   "outputs": [
    {
     "output_type": "execute_result",
     "data": {
      "text/plain": "{'a': 0.9000899960000001,\n 'b': 0.90008999,\n 'd2': 0.9,\n 'c': 0.9,\n 'd': 0.9,\n 'd1': 0.9,\n 'bbb': 0.8999,\n 'aaa': 0.8999,\n 'e1': 0.880021,\n 'e4': 0.88}"
     },
     "metadata": {},
     "execution_count": 15
    }
   ],
   "source": [
    "map_get = {}\n",
    "tree.get_as_linked_map(map_get)\n",
    "map_get"
   ]
  },
  {
   "cell_type": "code",
   "execution_count": null,
   "metadata": {},
   "outputs": [],
   "source": []
  }
 ],
 "metadata": {
  "language_info": {
   "codemirror_mode": {
    "name": "ipython",
    "version": 3
   },
   "file_extension": ".py",
   "mimetype": "text/x-python",
   "name": "python",
   "nbconvert_exporter": "python",
   "pygments_lexer": "ipython3",
   "version": "3.7.3-final"
  },
  "orig_nbformat": 2,
  "kernelspec": {
   "name": "python3",
   "display_name": "Python 3"
  }
 },
 "nbformat": 4,
 "nbformat_minor": 2
}