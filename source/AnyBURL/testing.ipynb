{
 "cells": [
  {
   "cell_type": "markdown",
   "metadata": {},
   "source": [
    "# test path sample"
   ]
  },
  {
   "cell_type": "code",
   "execution_count": 3,
   "metadata": {
    "tags": []
   },
   "outputs": [
    {
     "output_type": "stream",
     "name": "stdout",
     "text": "* set up index for 224 relations, 8171 head entities, and 6376 tail entities\n* read 20466 triples\n"
    }
   ],
   "source": [
    "from data.triple_set import TripleSet\n",
    "data = TripleSet()\n",
    "data.read_triples('../../datasets/FB15k-237/test.txt')\n",
    "print('* read {} triples'.format(len(data.triples)))"
   ]
  },
  {
   "cell_type": "code",
   "execution_count": 4,
   "metadata": {},
   "outputs": [],
   "source": [
    "from algorithm.path_sampler import PathSampler\n",
    "ps = PathSampler(data)"
   ]
  },
  {
   "cell_type": "code",
   "execution_count": 1,
   "metadata": {
    "tags": []
   },
   "outputs": [],
   "source": [
    "some_path = set([])\n",
    "# for i in range(1000):\n",
    "#     p = ps.sample_path(2, True)\n",
    "#     if i % 50 == 0 and p is not None:\n",
    "#         print(p)\n",
    "#         print(\"\\n\\n\\n\")\n",
    "#     if p is not None: ###p.isValid()) {\n",
    "#         some_pathes.add(p)"
   ]
  },
  {
   "cell_type": "markdown",
   "metadata": {},
   "source": [
    "## Test leaning"
   ]
  },
  {
   "cell_type": "code",
   "execution_count": 1,
   "metadata": {
    "tags": []
   },
   "outputs": [
    {
     "output_type": "stream",
     "name": "stdout",
     "text": "* set up index for 11 relations, 39610 head entities, and 31881 tail entities\n"
    }
   ],
   "source": [
    "from learn import Learn\n",
    "# '../../datasets/FB15k-237/train.txt' '../../datasets/WN18RR/train.txt'\n",
    "learning = Learn('../../datasets/WN18RR/train.txt')"
   ]
  },
  {
   "cell_type": "code",
   "execution_count": 2,
   "metadata": {
    "tags": [
     "outputPrepend"
    ]
   },
   "outputs": [
    {
     "output_type": "stream",
     "name": "stdout",
     "text": "=0 batch rules=554\n>>> ****** Batch [ACYCLIC 1] batchCounter: 96 (sampled 9110189 pathes) *****\n>>> fraction of previously seen rules within useful rules in this batch: 0.0  NEW=1 PREV=0 batch rules=109\n>>> ****** Batch [CYCLIC 2] batchCounter: 97 (sampled 9114501 pathes) *****\n>>> fraction of previously seen rules within useful rules in this batch: 0.0  NEW=14 PREV=0 batch rules=654\n>>> ****** Batch [ACYCLIC 1] batchCounter: 98 (sampled 9300208 pathes) *****\n>>> fraction of previously seen rules within useful rules in this batch: 0.0  NEW=1 PREV=0 batch rules=112\n>>> ****** Batch [CYCLIC 2] batchCounter: 99 (sampled 9303731 pathes) *****\n>>> fraction of previously seen rules within useful rules in this batch: 0.14285714285714285  NEW=6 PREV=1 batch rules=544\n>>> ****** Batch [ACYCLIC 1] batchCounter: 100 (sampled 9493419 pathes) *****\n>>> fraction of previously seen rules within useful rules in this batch: 0.0  NEW=1 PREV=0 batch rules=121\n>>> ****** Batch [CYCLIC 2] batchCounter: 101 (sampled 9497054 pathes) *****\n>>> fraction of previously seen rules within useful rules in this batch: 0.05555555555555555  NEW=17 PREV=1 batch rules=574\n>>> ****** Batch [ACYCLIC 1] batchCounter: 102 (sampled 9667474 pathes) *****\n>>> fraction of previously seen rules within useful rules in this batch: 0.0  NEW=1 PREV=0 batch rules=96\n>>> ****** Batch [CYCLIC 2] batchCounter: 103 (sampled 9671219 pathes) *****\n>>> fraction of previously seen rules within useful rules in this batch: 0.18181818181818182  NEW=9 PREV=2 batch rules=590\n>>> ****** Batch [ACYCLIC 1] batchCounter: 104 (sampled 9857602 pathes) *****\n>>> fraction of previously seen rules within useful rules in this batch: 0.0  NEW=1 PREV=0 batch rules=119\n>>> ****** Batch [CYCLIC 2] batchCounter: 105 (sampled 9860904 pathes) *****\n>>> fraction of previously seen rules within useful rules in this batch: 0.14285714285714285  NEW=6 PREV=1 batch rules=510\n>>> ****** Batch [ACYCLIC 1] batchCounter: 106 (sampled 10051964 pathes) *****\n>>> fraction of previously seen rules within useful rules in this batch: 0.0  NEW=1 PREV=0 batch rules=115\n>>> ****** Batch [CYCLIC 2] batchCounter: 107 (sampled 10055521 pathes) *****\n>>> fraction of previously seen rules within useful rules in this batch: 0.0  NEW=10 PREV=0 batch rules=564\n>>> ****** Batch [ACYCLIC 1] batchCounter: 108 (sampled 10237725 pathes) *****\n>>> fraction of previously seen rules within useful rules in this batch: 0.0  NEW=1 PREV=0 batch rules=137\n>>> ****** Batch [CYCLIC 2] batchCounter: 109 (sampled 10241574 pathes) *****\n>>> fraction of previously seen rules within useful rules in this batch: 0.2  NEW=16 PREV=4 batch rules=598\n>>> ****** Batch [ACYCLIC 1] batchCounter: 110 (sampled 10424815 pathes) *****\n>>> fraction of previously seen rules within useful rules in this batch: 0.0  NEW=1 PREV=0 batch rules=127\n>>> ****** Batch [CYCLIC 2] batchCounter: 111 (sampled 10428277 pathes) *****\n>>> fraction of previously seen rules within useful rules in this batch: 0.0  NEW=15 PREV=0 batch rules=564\n>>> ****** Batch [ACYCLIC 1] batchCounter: 112 (sampled 10615274 pathes) *****\n>>> fraction of previously seen rules within useful rules in this batch: 0.0  NEW=1 PREV=0 batch rules=110\n>>> ****** Batch [CYCLIC 2] batchCounter: 113 (sampled 10619185 pathes) *****\n>>> fraction of previously seen rules within useful rules in this batch: 0.0  NEW=8 PREV=0 batch rules=636\n>>> ****** Batch [ACYCLIC 1] batchCounter: 114 (sampled 10811066 pathes) *****\n>>> fraction of previously seen rules within useful rules in this batch: 0.0  NEW=1 PREV=0 batch rules=108\n>>> ****** Batch [CYCLIC 2] batchCounter: 115 (sampled 10814173 pathes) *****\n>>> fraction of previously seen rules within useful rules in this batch: 0.1  NEW=9 PREV=1 batch rules=522\n>>> ****** Batch [ACYCLIC 1] batchCounter: 116 (sampled 10999032 pathes) *****\n>>> fraction of previously seen rules within useful rules in this batch: 0.0  NEW=1 PREV=0 batch rules=111\n>>> ****** Batch [CYCLIC 2] batchCounter: 117 (sampled 11002445 pathes) *****\n>>> fraction of previously seen rules within useful rules in this batch: 0.3333333333333333  NEW=6 PREV=3 batch rules=578\n>>> ****** Batch [ACYCLIC 1] batchCounter: 118 (sampled 11194896 pathes) *****\n>>> fraction of previously seen rules within useful rules in this batch: 0.0  NEW=1 PREV=0 batch rules=111\n>>> ****** Batch [CYCLIC 2] batchCounter: 119 (sampled 11197929 pathes) *****\n>>> fraction of previously seen rules within useful rules in this batch: 0.07142857142857142  NEW=13 PREV=1 batch rules=496\n>>> ****** Batch [ACYCLIC 1] batchCounter: 120 (sampled 11388304 pathes) *****\n>>> fraction of previously seen rules within useful rules in this batch: 0.0  NEW=1 PREV=0 batch rules=117\n>>> ****** Batch [CYCLIC 2] batchCounter: 121 (sampled 11391425 pathes) *****\n>>> fraction of previously seen rules within useful rules in this batch: 0.0  NEW=8 PREV=0 batch rules=540\n>>> ****** Batch [ACYCLIC 1] batchCounter: 122 (sampled 11576511 pathes) *****\n>>> fraction of previously seen rules within useful rules in this batch: 0.0  NEW=1 PREV=0 batch rules=118\n>>> ****** Batch [CYCLIC 2] batchCounter: 123 (sampled 11580013 pathes) *****\n>>> fraction of previously seen rules within useful rules in this batch: 0.3333333333333333  NEW=8 PREV=4 batch rules=548\n>>> ****** Batch [ACYCLIC 1] batchCounter: 124 (sampled 11765196 pathes) *****\n>>> fraction of previously seen rules within useful rules in this batch: 0.0  NEW=1 PREV=0 batch rules=111\n>>> ****** Batch [CYCLIC 2] batchCounter: 125 (sampled 11768347 pathes) *****\n>>> fraction of previously seen rules within useful rules in this batch: 0.25  NEW=9 PREV=3 batch rules=506\n>>> ****** Batch [ACYCLIC 1] batchCounter: 126 (sampled 11944534 pathes) *****\n>>> fraction of previously seen rules within useful rules in this batch: 0.0  NEW=1 PREV=0 batch rules=117\n>>> ****** Batch [CYCLIC 2] batchCounter: 127 (sampled 11947958 pathes) *****\n>>> fraction of previously seen rules within useful rules in this batch: 0.0  NEW=9 PREV=0 batch rules=522\n>>> ****** Batch [ACYCLIC 1] batchCounter: 128 (sampled 12136557 pathes) *****\n>>> fraction of previously seen rules within useful rules in this batch: 0.0  NEW=1 PREV=0 batch rules=114\n>>> ****** Batch [CYCLIC 2] batchCounter: 129 (sampled 12140508 pathes) *****\n>>> fraction of previously seen rules within useful rules in this batch: 0.17857142857142858  NEW=23 PREV=5 batch rules=618\n>>> ****** Batch [ACYCLIC 1] batchCounter: 130 (sampled 12325629 pathes) *****\n>>> fraction of previously seen rules within useful rules in this batch: 0.0  NEW=1 PREV=0 batch rules=120\n>>> ****** Batch [CYCLIC 2] batchCounter: 131 (sampled 12329417 pathes) *****\n>>> fraction of previously seen rules within useful rules in this batch: 0.25  NEW=9 PREV=3 batch rules=634\n>>> ****** Batch [ACYCLIC 1] batchCounter: 132 (sampled 12514970 pathes) *****\n>>> fraction of previously seen rules within useful rules in this batch: 0.0  NEW=1 PREV=0 batch rules=118\n>>> ****** Batch [CYCLIC 2] batchCounter: 133 (sampled 12519256 pathes) *****\n>>> fraction of previously seen rules within useful rules in this batch: 0.2222222222222222  NEW=7 PREV=2 batch rules=650\n>>> ****** Batch [ACYCLIC 1] batchCounter: 134 (sampled 12713399 pathes) *****\n>>> fraction of previously seen rules within useful rules in this batch: 0.0  NEW=1 PREV=0 batch rules=128\n>>> ****** Batch [CYCLIC 2] batchCounter: 135 (sampled 12716474 pathes) *****\n>>> fraction of previously seen rules within useful rules in this batch: 0.0  NEW=4 PREV=0 batch rules=470\n>>> ****** Batch [ACYCLIC 1] batchCounter: 136 (sampled 12897299 pathes) *****\n>>> fraction of previously seen rules within useful rules in this batch: 0.0  NEW=1 PREV=0 batch rules=124\n>>> ****** Batch [CYCLIC 2] batchCounter: 137 (sampled 12901548 pathes) *****\n>>> fraction of previously seen rules within useful rules in this batch: 0.07142857142857142  NEW=13 PREV=1 batch rules=638\n>>> ****** Batch [ACYCLIC 1] batchCounter: 138 (sampled 13088742 pathes) *****\n>>> fraction of previously seen rules within useful rules in this batch: 0.0  NEW=1 PREV=0 batch rules=129\n>>> ****** Batch [CYCLIC 2] batchCounter: 139 (sampled 13092511 pathes) *****\n>>> fraction of previously seen rules within useful rules in this batch: 0.0  NEW=8 PREV=0 batch rules=532\n>>> ****** Batch [ACYCLIC 1] batchCounter: 140 (sampled 13276776 pathes) *****\n>>> fraction of previously seen rules within useful rules in this batch: 0.0  NEW=1 PREV=0 batch rules=120\n>>> ****** Batch [CYCLIC 2] batchCounter: 141 (sampled 13280747 pathes) *****\n>>> fraction of previously seen rules within useful rules in this batch: 0.2222222222222222  NEW=14 PREV=4 batch rules=658\n>>> ****** Batch [ACYCLIC 1] batchCounter: 142 (sampled 13465772 pathes) *****\n>>> fraction of previously seen rules within useful rules in this batch: 0.0  NEW=1 PREV=0 batch rules=115\n>>> ****** Batch [CYCLIC 2] batchCounter: 143 (sampled 13469746 pathes) *****\n>>> fraction of previously seen rules within useful rules in this batch: 0.0  NEW=10 PREV=0 batch rules=564\n>>> ****** Batch [ACYCLIC 1] batchCounter: 144 (sampled 13655149 pathes) *****\n>>> fraction of previously seen rules within useful rules in this batch: 0.0  NEW=1 PREV=0 batch rules=105\n>>> ****** Batch [CYCLIC 2] batchCounter: 145 (sampled 13659122 pathes) *****\n>>> fraction of previously seen rules within useful rules in this batch: 0.0  NEW=15 PREV=0 batch rules=618\n>>> ****** Batch [ACYCLIC 1] batchCounter: 146 (sampled 13850348 pathes) *****\n>>> fraction of previously seen rules within useful rules in this batch: 0.0  NEW=1 PREV=0 batch rules=100\n>>> ****** Batch [CYCLIC 2] batchCounter: 147 (sampled 13854560 pathes) *****\n>>> fraction of previously seen rules within useful rules in this batch: 0.16666666666666666  NEW=15 PREV=3 batch rules=610\n>>> ****** Batch [ACYCLIC 1] batchCounter: 148 (sampled 14049842 pathes) *****\n>>> fraction of previously seen rules within useful rules in this batch: 0.0  NEW=1 PREV=0 batch rules=101\n>>> ****** Batch [CYCLIC 2] batchCounter: 149 (sampled 14052901 pathes) *****\n>>> fraction of previously seen rules within useful rules in this batch: 0.09090909090909091  NEW=10 PREV=1 batch rules=480\n>>> ****** Batch [ACYCLIC 1] batchCounter: 150 (sampled 14234293 pathes) *****\n>>> fraction of previously seen rules within useful rules in this batch: 0.0  NEW=1 PREV=0 batch rules=118\n>>> ****** Batch [CYCLIC 2] batchCounter: 151 (sampled 14238125 pathes) *****\n>>> fraction of previously seen rules within useful rules in this batch: 0.125  NEW=7 PREV=1 batch rules=570\n>>> ****** Batch [ACYCLIC 1] batchCounter: 152 (sampled 14419152 pathes) *****\n>>> fraction of previously seen rules within useful rules in this batch: 0.0  NEW=1 PREV=0 batch rules=105\n>>> ****** Batch [CYCLIC 2] batchCounter: 153 (sampled 14423195 pathes) *****\n>>> fraction of previously seen rules within useful rules in this batch: 0.09090909090909091  NEW=10 PREV=1 batch rules=620\n>>> ****** Batch [ACYCLIC 1] batchCounter: 154 (sampled 14611710 pathes) *****\n>>> fraction of previously seen rules within useful rules in this batch: 0.0  NEW=1 PREV=0 batch rules=115\n>>> ****** Batch [CYCLIC 2] batchCounter: 155 (sampled 14616109 pathes) *****\n>>> fraction of previously seen rules within useful rules in this batch: 0.14285714285714285  NEW=12 PREV=2 batch rules=622\n>>> ****** Batch [ACYCLIC 1] batchCounter: 156 (sampled 14808912 pathes) *****\n>>> fraction of previously seen rules within useful rules in this batch: 0.0  NEW=1 PREV=0 batch rules=105\n>>> ****** Batch [CYCLIC 2] batchCounter: 157 (sampled 14813464 pathes) *****\n>>> fraction of previously seen rules within useful rules in this batch: 0.3125  NEW=11 PREV=5 batch rules=644\n>>> ****** Batch [ACYCLIC 1] batchCounter: 158 (sampled 14996808 pathes) *****\n>>> fraction of previously seen rules within useful rules in this batch: 0.0  NEW=1 PREV=0 batch rules=116\n>>> ****** Batch [CYCLIC 2] batchCounter: 159 (sampled 15000598 pathes) *****\n>>> fraction of previously seen rules within useful rules in this batch: 0.0  NEW=8 PREV=0 batch rules=570\n>>> ****** Batch [ACYCLIC 1] batchCounter: 160 (sampled 15185457 pathes) *****\n>>> fraction of previously seen rules within useful rules in this batch: 0.0  NEW=1 PREV=0 batch rules=110\n>>> ****** Batch [CYCLIC 2] batchCounter: 161 (sampled 15189622 pathes) *****\n>>> fraction of previously seen rules within useful rules in this batch: 0.29411764705882354  NEW=12 PREV=5 batch rules=648\n>>> ****** Batch [ACYCLIC 1] batchCounter: 162 (sampled 15381449 pathes) *****\n>>> fraction of previously seen rules within useful rules in this batch: 0.0  NEW=1 PREV=0 batch rules=131\n>>> ****** Batch [CYCLIC 2] batchCounter: 163 (sampled 15385025 pathes) *****\n>>> fraction of previously seen rules within useful rules in this batch: 0.0  NEW=13 PREV=0 batch rules=630\n>>> ****** Batch [ACYCLIC 1] batchCounter: 164 (sampled 15572179 pathes) *****\n>>> fraction of previously seen rules within useful rules in this batch: 0.0  NEW=1 PREV=0 batch rules=96\n>>> ****** Batch [CYCLIC 2] batchCounter: 165 (sampled 15575476 pathes) *****\n>>> fraction of previously seen rules within useful rules in this batch: 0.42857142857142855  NEW=8 PREV=6 batch rules=534\n>>> ****** Batch [ACYCLIC 1] batchCounter: 166 (sampled 15763176 pathes) *****\n>>> fraction of previously seen rules within useful rules in this batch: 0.0  NEW=1 PREV=0 batch rules=128\n>>> ****** Batch [CYCLIC 2] batchCounter: 167 (sampled 15766523 pathes) *****\n>>> fraction of previously seen rules within useful rules in this batch: 0.2222222222222222  NEW=7 PREV=2 batch rules=532\n>>> ****** Batch [ACYCLIC 1] batchCounter: 168 (sampled 15956492 pathes) *****\n>>> fraction of previously seen rules within useful rules in this batch: 0.0  NEW=1 PREV=0 batch rules=133\n>>> ****** Batch [CYCLIC 2] batchCounter: 169 (sampled 15960172 pathes) *****\n>>> fraction of previously seen rules within useful rules in this batch: 0.3333333333333333  NEW=8 PREV=4 batch rules=586\n>>> ****** Batch [ACYCLIC 1] batchCounter: 170 (sampled 16151104 pathes) *****\n>>> fraction of previously seen rules within useful rules in this batch: 0.0  NEW=1 PREV=0 batch rules=115\n>>> ****** Batch [CYCLIC 2] batchCounter: 171 (sampled 16155092 pathes) *****\n>>> fraction of previously seen rules within useful rules in this batch: 0.14285714285714285  NEW=12 PREV=2 batch rules=608\n>>> ****** Batch [ACYCLIC 1] batchCounter: 172 (sampled 16333853 pathes) *****\n>>> fraction of previously seen rules within useful rules in this batch: 0.0  NEW=1 PREV=0 batch rules=123\n>>> ****** Batch [CYCLIC 2] batchCounter: 173 (sampled 16337365 pathes) *****\n>>> fraction of previously seen rules within useful rules in this batch: 0.25  NEW=6 PREV=2 batch rules=570\n>>> ****** Batch [ACYCLIC 1] batchCounter: 174 (sampled 16514103 pathes) *****\n>>> fraction of previously seen rules within useful rules in this batch: 0.0  NEW=1 PREV=0 batch rules=114\n>>> ****** Batch [CYCLIC 2] batchCounter: 175 (sampled 16517716 pathes) *****\n>>> fraction of previously seen rules within useful rules in this batch: 0.18181818181818182  NEW=9 PREV=2 batch rules=530\n>>> ****** Batch [ACYCLIC 1] batchCounter: 176 (sampled 16708301 pathes) *****\n>>> fraction of previously seen rules within useful rules in this batch: 0.0  NEW=1 PREV=0 batch rules=115\n>>> ****** Batch [CYCLIC 2] batchCounter: 177 (sampled 16712604 pathes) *****\n>>> fraction of previously seen rules within useful rules in this batch: 0.2727272727272727  NEW=8 PREV=3 batch rules=660\n>>> ****** Batch [ACYCLIC 1] batchCounter: 178 (sampled 16903275 pathes) *****\n>>> fraction of previously seen rules within useful rules in this batch: 0.0  NEW=1 PREV=0 batch rules=104\n>>> ****** Batch [CYCLIC 2] batchCounter: 179 (sampled 16906850 pathes) *****\n>>> fraction of previously seen rules within useful rules in this batch: 0.25  NEW=9 PREV=3 batch rules=566\n>>> ****** Batch [ACYCLIC 1] batchCounter: 180 (sampled 17094636 pathes) *****\n>>> fraction of previously seen rules within useful rules in this batch: 0.0  NEW=1 PREV=0 batch rules=113\n>>> ****** Batch [CYCLIC 2] batchCounter: 181 (sampled 17098172 pathes) *****\n>>> fraction of previously seen rules within useful rules in this batch: 0.4  NEW=3 PREV=2 batch rules=570\n>>> ****** Batch [ACYCLIC 1] batchCounter: 182 (sampled 17290747 pathes) *****\n>>> fraction of previously seen rules within useful rules in this batch: 0.0  NEW=1 PREV=0 batch rules=113\n>>> ****** Batch [CYCLIC 2] batchCounter: 183 (sampled 17293949 pathes) *****\n>>> fraction of previously seen rules within useful rules in this batch: 0.2222222222222222  NEW=7 PREV=2 batch rules=494\n>>> ****** Batch [ACYCLIC 1] batchCounter: 184 (sampled 17490145 pathes) *****\n>>> fraction of previously seen rules within useful rules in this batch: 0.0  NEW=1 PREV=0 batch rules=114\n>>> ****** Batch [CYCLIC 2] batchCounter: 185 (sampled 17493867 pathes) *****\n>>> fraction of previously seen rules within useful rules in this batch: 0.21428571428571427  NEW=11 PREV=3 batch rules=548\n>>> ****** Batch [ACYCLIC 1] batchCounter: 186 (sampled 17679336 pathes) *****\n>>> fraction of previously seen rules within useful rules in this batch: 0.0  NEW=1 PREV=0 batch rules=113\n>>> ****** Batch [CYCLIC 2] batchCounter: 187 (sampled 17681854 pathes) *****\n>>> fraction of previously seen rules within useful rules in this batch: 0.1111111111111111  NEW=8 PREV=1 batch rules=412\n>>> ****** Batch [ACYCLIC 1] batchCounter: 188 (sampled 17871323 pathes) *****\n>>> fraction of previously seen rules within useful rules in this batch: 0.0  NEW=1 PREV=0 batch rules=110\n>>> ****** Batch [CYCLIC 2] batchCounter: 189 (sampled 17874577 pathes) *****\n>>> fraction of previously seen rules within useful rules in this batch: 0.2727272727272727  NEW=8 PREV=3 batch rules=522\n>>> ****** Batch [ACYCLIC 1] batchCounter: 190 (sampled 18063674 pathes) *****\n>>> fraction of previously seen rules within useful rules in this batch: 0.0  NEW=1 PREV=0 batch rules=122\n>>> ****** Batch [CYCLIC 2] batchCounter: 191 (sampled 18068046 pathes) *****\n>>> fraction of previously seen rules within useful rules in this batch: 0.1111111111111111  NEW=8 PREV=1 batch rules=658\n>>> ****** Batch [ACYCLIC 1] batchCounter: 192 (sampled 18255553 pathes) *****\n>>> fraction of previously seen rules within useful rules in this batch: 0.0  NEW=1 PREV=0 batch rules=122\n>>> ****** Batch [CYCLIC 2] batchCounter: 193 (sampled 18258842 pathes) *****\n>>> fraction of previously seen rules within useful rules in this batch: 0.07692307692307693  NEW=12 PREV=1 batch rules=544\n>>> ****** Batch [ACYCLIC 1] batchCounter: 194 (sampled 18445809 pathes) *****\n>>> fraction of previously seen rules within useful rules in this batch: 0.0  NEW=1 PREV=0 batch rules=122\n>>> ****** Batch [CYCLIC 2] batchCounter: 195 (sampled 18449378 pathes) *****\n>>> fraction of previously seen rules within useful rules in this batch: 0.14285714285714285  NEW=6 PREV=1 batch rules=522\n>>> ****** Batch [ACYCLIC 1] batchCounter: 196 (sampled 18637247 pathes) *****\n>>> fraction of previously seen rules within useful rules in this batch: 0.0  NEW=1 PREV=0 batch rules=126\n>>> ****** Batch [CYCLIC 2] batchCounter: 197 (sampled 18641231 pathes) *****\n>>> fraction of previously seen rules within useful rules in this batch: 0.35714285714285715  NEW=9 PREV=5 batch rules=620\n>>> ****** Batch [ACYCLIC 1] batchCounter: 198 (sampled 18822311 pathes) *****\n>>> fraction of previously seen rules within useful rules in this batch: 0.0  NEW=1 PREV=0 batch rules=114\n>>> ****** Batch [CYCLIC 2] batchCounter: 199 (sampled 18825799 pathes) *****\n>>> fraction of previously seen rules within useful rules in this batch: 0.25  NEW=9 PREV=3 batch rules=524\n>>> ****** Batch [ACYCLIC 1] batchCounter: 200 (sampled 19010713 pathes) *****\n>>> fraction of previously seen rules within useful rules in this batch: 0.0  NEW=1 PREV=0 batch rules=111\nsnapshots_index: 3\n"
    }
   ],
   "source": [
    "learning.train()"
   ]
  },
  {
   "cell_type": "markdown",
   "metadata": {},
   "source": [
    "## Test read rule output"
   ]
  },
  {
   "cell_type": "code",
   "execution_count": 4,
   "metadata": {
    "tags": [
     "outputPrepend"
    ]
   },
   "outputs": [
    {
     "output_type": "stream",
     "name": "stdout",
     "text": "g2c8,Y) <= /music/genre/artists(A,Y)\n\n['/award/hall_of_fame/inductees./award/hall_of_fame_induction/inductee(/m/0g2c8,Y)', '<=', '/music/genre/artists(A,Y)\\n']\n['/award/hall_of_fame/inductees./award/hall_of_fame_induction/inductee', '/m/0g2c8,Y)']\n['/music/genre/artists', 'A,Y)\\n']\n/award/hall_of_fame/inductees./award/hall_of_fame_induction/inductee(/m/0g2c8,Y) <= /music/genre/artists(/m/05w3f,Y)\n\n['/award/hall_of_fame/inductees./award/hall_of_fame_induction/inductee(/m/0g2c8,Y)', '<=', '/music/genre/artists(/m/05w3f,Y)\\n']\n['/award/hall_of_fame/inductees./award/hall_of_fame_induction/inductee', '/m/0g2c8,Y)']\n['/music/genre/artists', '/m/05w3f,Y)\\n']\n/award/award_winning_work/awards_won./award/award_honor/award(X,/m/0gq9h) <= /award/award_winning_work/awards_won./award/award_honor/award(X,A)\n\n['/award/award_winning_work/awards_won./award/award_honor/award(X,/m/0gq9h)', '<=', '/award/award_winning_work/awards_won./award/award_honor/award(X,A)\\n']\n['/award/award_winning_work/awards_won./award/award_honor/award', 'X,/m/0gq9h)']\n['/award/award_winning_work/awards_won./award/award_honor/award', 'X,A)\\n']\n/business/business_operation/operating_income./measurement_unit/dated_money_value/currency(X,Y) <= /business/business_operation/revenue./measurement_unit/dated_money_value/currency(X,Y)\n\n['/business/business_operation/operating_income./measurement_unit/dated_money_value/currency(X,Y)', '<=', '/business/business_operation/revenue./measurement_unit/dated_money_value/currency(X,Y)\\n']\n['/business/business_operation/operating_income./measurement_unit/dated_money_value/currency', 'X,Y)']\n['/business/business_operation/revenue./measurement_unit/dated_money_value/currency', 'X,Y)\\n']\n/film/film/release_date_s./film/film_regional_release_date/film_release_region(X,/m/03rt9) <= /film/film/production_companies(X,A)\n\n['/film/film/release_date_s./film/film_regional_release_date/film_release_region(X,/m/03rt9)', '<=', '/film/film/production_companies(X,A)\\n']\n['/film/film/release_date_s./film/film_regional_release_date/film_release_region', 'X,/m/03rt9)']\n['/film/film/production_companies', 'X,A)\\n']\n/film/film/release_date_s./film/film_regional_release_date/film_release_region(/m/03np63f,Y) <= /base/biblioness/bibs_location/country(A,Y)\n\n['/film/film/release_date_s./film/film_regional_release_date/film_release_region(/m/03np63f,Y)', '<=', '/base/biblioness/bibs_location/country(A,Y)\\n']\n['/film/film/release_date_s./film/film_regional_release_date/film_release_region', '/m/03np63f,Y)']\n['/base/biblioness/bibs_location/country', 'A,Y)\\n']\n/base/schemastaging/person_extra/net_worth./measurement_unit/dated_money_value/currency(X,/m/09nqf) <= /music/artist/track_contributions./music/track_contribution/role(X,A)\n\n['/base/schemastaging/person_extra/net_worth./measurement_unit/dated_money_value/currency(X,/m/09nqf)', '<=', '/music/artist/track_contributions./music/track_contribution/role(X,A)\\n']\n['/base/schemastaging/person_extra/net_worth./measurement_unit/dated_money_value/currency', 'X,/m/09nqf)']\n['/music/artist/track_contributions./music/track_contribution/role', 'X,A)\\n']\n/film/film/release_date_s./film/film_regional_release_date/film_release_region(/m/0h1cdwq,Y) <= /film/film/release_date_s./film/film_regional_release_date/film_release_region(/m/0crc2cp,Y)\n\n['/film/film/release_date_s./film/film_regional_release_date/film_release_region(/m/0h1cdwq,Y)', '<=', '/film/film/release_date_s./film/film_regional_release_date/film_release_region(/m/0crc2cp,Y)\\n']\n['/film/film/release_date_s./film/film_regional_release_date/film_release_region', '/m/0h1cdwq,Y)']\n['/film/film/release_date_s./film/film_regional_release_date/film_release_region', '/m/0crc2cp,Y)\\n']\n/film/film/estimated_budget./measurement_unit/dated_money_value/currency(X,/m/09nqf) <= /film/film/language(X,A)\n\n['/film/film/estimated_budget./measurement_unit/dated_money_value/currency(X,/m/09nqf)', '<=', '/film/film/language(X,A)\\n']\n['/film/film/estimated_budget./measurement_unit/dated_money_value/currency', 'X,/m/09nqf)']\n['/film/film/language', 'X,A)\\n']\n/award/award_winner/awards_won./award/award_honor/award_winner(/m/06czyr,Y) <= /award/award_winner/awards_won./award/award_honor/award_winner(/m/09f0bj,Y)\n\n['/award/award_winner/awards_won./award/award_honor/award_winner(/m/06czyr,Y)', '<=', '/award/award_winner/awards_won./award/award_honor/award_winner(/m/09f0bj,Y)\\n']\n['/award/award_winner/awards_won./award/award_honor/award_winner', '/m/06czyr,Y)']\n['/award/award_winner/awards_won./award/award_honor/award_winner', '/m/09f0bj,Y)\\n']\n/film/film/estimated_budget./measurement_unit/dated_money_value/currency(X,/m/09nqf) <= /film/film/language(X,/m/02h40lc)\n\n['/film/film/estimated_budget./measurement_unit/dated_money_value/currency(X,/m/09nqf)', '<=', '/film/film/language(X,/m/02h40lc)\\n']\n['/film/film/estimated_budget./measurement_unit/dated_money_value/currency', 'X,/m/09nqf)']\n['/film/film/language', 'X,/m/02h40lc)\\n']\n/film/film/featured_film_locations(X,/m/030qb3t) <= /film/film/genre(X,/m/01jfsb)\n\n['/film/film/featured_film_locations(X,/m/030qb3t)', '<=', '/film/film/genre(X,/m/01jfsb)\\n']\n['/film/film/featured_film_locations', 'X,/m/030qb3t)']\n['/film/film/genre', 'X,/m/01jfsb)\\n']\n/film/film/release_date_s./film/film_regional_release_date/film_release_region(X,/m/09c7w0) <= /film/film/country(X,A)\n\n['/film/film/release_date_s./film/film_regional_release_date/film_release_region(X,/m/09c7w0)', '<=', '/film/film/country(X,A)\\n']\n['/film/film/release_date_s./film/film_regional_release_date/film_release_region', 'X,/m/09c7w0)']\n['/film/film/country', 'X,A)\\n']\n/location/capital_of_administrative_division/capital_of./location/administrative_division_capital_relationship/administrative_division(X,Y) <= /location/hud_county_place/county(X,Y)\n\n['/location/capital_of_administrative_division/capital_of./location/administrative_division_capital_relationship/administrative_division(X,Y)', '<=', '/location/hud_county_place/county(X,Y)\\n']\n['/location/capital_of_administrative_division/capital_of./location/administrative_division_capital_relationship/administrative_division', 'X,Y)']\n['/location/hud_county_place/county', 'X,Y)\\n']\n/film/film/release_date_s./film/film_regional_release_date/film_release_region(X,/m/09c7w0) <= /film/film/country(X,/m/0345h)\n\n['/film/film/release_date_s./film/film_regional_release_date/film_release_region(X,/m/09c7w0)', '<=', '/film/film/country(X,/m/0345h)\\n']\n['/film/film/release_date_s./film/film_regional_release_date/film_release_region', 'X,/m/09c7w0)']\n['/film/film/country', 'X,/m/0345h)\\n']\n/olympics/olympic_participating_country/athletes./olympics/olympic_athlete_affiliation/olympics(/m/0f8l9c,Y) <= /olympics/olympic_sport/athletes./olympics/olympic_athlete_affiliation/olympics(/m/06z6r,Y)\n\n['/olympics/olympic_participating_country/athletes./olympics/olympic_athlete_affiliation/olympics(/m/0f8l9c,Y)', '<=', '/olympics/olympic_sport/athletes./olympics/olympic_athlete_affiliation/olympics(/m/06z6r,Y)\\n']\n['/olympics/olympic_participating_country/athletes./olympics/olympic_athlete_affiliation/olympics', '/m/0f8l9c,Y)']\n['/olympics/olympic_sport/athletes./olympics/olympic_athlete_affiliation/olympics', '/m/06z6r,Y)\\n']\n/olympics/olympic_participating_country/athletes./olympics/olympic_athlete_affiliation/olympics(/m/0f8l9c,Y) <= /olympics/olympic_sport/athletes./olympics/olympic_athlete_affiliation/olympics(A,Y)\n\n['/olympics/olympic_participating_country/athletes./olympics/olympic_athlete_affiliation/olympics(/m/0f8l9c,Y)', '<=', '/olympics/olympic_sport/athletes./olympics/olympic_athlete_affiliation/olympics(A,Y)\\n']\n['/olympics/olympic_participating_country/athletes./olympics/olympic_athlete_affiliation/olympics', '/m/0f8l9c,Y)']\n['/olympics/olympic_sport/athletes./olympics/olympic_athlete_affiliation/olympics', 'A,Y)\\n']\n/film/film/release_date_s./film/film_regional_release_date/film_release_region(X,/m/03spz) <= /film/film/release_date_s./film/film_regional_release_date/film_release_region(X,/m/03h64)\n\n['/film/film/release_date_s./film/film_regional_release_date/film_release_region(X,/m/03spz)', '<=', '/film/film/release_date_s./film/film_regional_release_date/film_release_region(X,/m/03h64)\\n']\n['/film/film/release_date_s./film/film_regional_release_date/film_release_region', 'X,/m/03spz)']\n['/film/film/release_date_s./film/film_regional_release_date/film_release_region', 'X,/m/03h64)\\n']\n/film/film/release_date_s./film/film_regional_release_date/film_release_region(X,/m/03spz) <= /film/film/release_date_s./film/film_regional_release_date/film_release_region(X,A)\n\n['/film/film/release_date_s./film/film_regional_release_date/film_release_region(X,/m/03spz)', '<=', '/film/film/release_date_s./film/film_regional_release_date/film_release_region(X,A)\\n']\n['/film/film/release_date_s./film/film_regional_release_date/film_release_region', 'X,/m/03spz)']\n['/film/film/release_date_s./film/film_regional_release_date/film_release_region', 'X,A)\\n']\n/people/ethnicity/people(/m/02w7gg,Y) <= /award/award_nominee/award_nominations./award/award_nomination/award_nominee(A,Y)\n\n['/people/ethnicity/people(/m/02w7gg,Y)', '<=', '/award/award_nominee/award_nominations./award/award_nomination/award_nominee(A,Y)\\n']\n['/people/ethnicity/people', '/m/02w7gg,Y)']\n['/award/award_nominee/award_nominations./award/award_nomination/award_nominee', 'A,Y)\\n']\n/film/film/release_date_s./film/film_regional_release_date/film_release_region(X,/m/015qh) <= /film/film/release_date_s./film/film_regional_release_date/film_release_region(X,/m/06bnz)\n\n['/film/film/release_date_s./film/film_regional_release_date/film_release_region(X,/m/015qh)', '<=', '/film/film/release_date_s./film/film_regional_release_date/film_release_region(X,/m/06bnz)\\n']\n['/film/film/release_date_s./film/film_regional_release_date/film_release_region', 'X,/m/015qh)']\n['/film/film/release_date_s./film/film_regional_release_date/film_release_region', 'X,/m/06bnz)\\n']\n/film/film/release_date_s./film/film_regional_release_date/film_release_region(X,/m/015qh) <= /film/film/release_date_s./film/film_regional_release_date/film_release_region(X,A)\n\n['/film/film/release_date_s./film/film_regional_release_date/film_release_region(X,/m/015qh)', '<=', '/film/film/release_date_s./film/film_regional_release_date/film_release_region(X,A)\\n']\n['/film/film/release_date_s./film/film_regional_release_date/film_release_region', 'X,/m/015qh)']\n['/film/film/release_date_s./film/film_regional_release_date/film_release_region', 'X,A)\\n']\n/people/ethnicity/people(/m/02w7gg,Y) <= /award/award_nominee/award_nominations./award/award_nomination/award_nominee(/m/0djywgn,Y)\n\n['/people/ethnicity/people(/m/02w7gg,Y)', '<=', '/award/award_nominee/award_nominations./award/award_nomination/award_nominee(/m/0djywgn,Y)\\n']\n['/people/ethnicity/people', '/m/02w7gg,Y)']\n['/award/award_nominee/award_nominations./award/award_nomination/award_nominee', '/m/0djywgn,Y)\\n']\n/people/person/place_of_birth(X,Y) <= /people/person/places_lived./people/place_lived/location(X,Y)\n\n['/people/person/place_of_birth(X,Y)', '<=', '/people/person/places_lived./people/place_lived/location(X,Y)\\n']\n['/people/person/place_of_birth', 'X,Y)']\n['/people/person/places_lived./people/place_lived/location', 'X,Y)\\n']\n/dataworld/gardening_hint/split_to(X,Y) <= /music/instrument/family(X,Y)\n\n['/dataworld/gardening_hint/split_to(X,Y)', '<=', '/music/instrument/family(X,Y)\\n']\n['/dataworld/gardening_hint/split_to', 'X,Y)']\n['/music/instrument/family', 'X,Y)\\n']\n/base/aareas/schema/administrative_area/administrative_parent(X,Y) <= /location/capital_of_administrative_division/capital_of./location/administrative_division_capital_relationship/administrative_division(X,Y)\n\n['/base/aareas/schema/administrative_area/administrative_parent(X,Y)', '<=', '/location/capital_of_administrative_division/capital_of./location/administrative_division_capital_relationship/administrative_division(X,Y)\\n']\n['/base/aareas/schema/administrative_area/administrative_parent', 'X,Y)']\n['/location/capital_of_administrative_division/capital_of./location/administrative_division_capital_relationship/administrative_division', 'X,Y)\\n']\n/film/film/release_date_s./film/film_regional_release_date/film_release_region(X,/m/03gj2) <= /film/film/estimated_budget./measurement_unit/dated_money_value/currency(X,/m/09nqf)\n\n['/film/film/release_date_s./film/film_regional_release_date/film_release_region(X,/m/03gj2)', '<=', '/film/film/estimated_budget./measurement_unit/dated_money_value/currency(X,/m/09nqf)\\n']\n['/film/film/release_date_s./film/film_regional_release_date/film_release_region', 'X,/m/03gj2)']\n['/film/film/estimated_budget./measurement_unit/dated_money_value/currency', 'X,/m/09nqf)\\n']\n/film/film/release_date_s./film/film_regional_release_date/film_release_region(X,/m/03gj2) <= /film/film/estimated_budget./measurement_unit/dated_money_value/currency(X,A)\n\n['/film/film/release_date_s./film/film_regional_release_date/film_release_region(X,/m/03gj2)', '<=', '/film/film/estimated_budget./measurement_unit/dated_money_value/currency(X,A)\\n']\n['/film/film/release_date_s./film/film_regional_release_date/film_release_region', 'X,/m/03gj2)']\n['/film/film/estimated_budget./measurement_unit/dated_money_value/currency', 'X,A)\\n']\n/people/person/gender(X,/m/02zsn) <= /people/person/place_of_birth(X,A)\n\n['/people/person/gender(X,/m/02zsn)', '<=', '/people/person/place_of_birth(X,A)\\n']\n['/people/person/gender', 'X,/m/02zsn)']\n['/people/person/place_of_birth', 'X,A)\\n']\n/film/film/release_date_s./film/film_regional_release_date/film_release_distribution_medium(X,/m/029j_) <= /award/award_winning_work/awards_won./award/award_honor/award(X,/m/04kxsb)\n\n['/film/film/release_date_s./film/film_regional_release_date/film_release_distribution_medium(X,/m/029j_)', '<=', '/award/award_winning_work/awards_won./award/award_honor/award(X,/m/04kxsb)\\n']\n['/film/film/release_date_s./film/film_regional_release_date/film_release_distribution_medium', 'X,/m/029j_)']\n['/award/award_winning_work/awards_won./award/award_honor/award', 'X,/m/04kxsb)\\n']\n/film/film/release_date_s./film/film_regional_release_date/film_release_distribution_medium(X,/m/029j_) <= /award/award_winning_work/awards_won./award/award_honor/award(X,A)\n\n['/film/film/release_date_s./film/film_regional_release_date/film_release_distribution_medium(X,/m/029j_)', '<=', '/award/award_winning_work/awards_won./award/award_honor/award(X,A)\\n']\n['/film/film/release_date_s./film/film_regional_release_date/film_release_distribution_medium', 'X,/m/029j_)']\n['/award/award_winning_work/awards_won./award/award_honor/award', 'X,A)\\n']\n/sports/sports_team/roster./american_football/football_roster_position/position(/m/043vc,Y) <= /sports/sports_team/roster./american_football/football_roster_position/position(A,Y)\n\n['/sports/sports_team/roster./american_football/football_roster_position/position(/m/043vc,Y)', '<=', '/sports/sports_team/roster./american_football/football_roster_position/position(A,Y)\\n']\n['/sports/sports_team/roster./american_football/football_roster_position/position', '/m/043vc,Y)']\n['/sports/sports_team/roster./american_football/football_roster_position/position', 'A,Y)\\n']\n/sports/sports_team/roster./american_football/football_roster_position/position(/m/043vc,Y) <= /sports/sports_team/roster./american_football/football_roster_position/position(/m/057xlyq,Y)\n\n['/sports/sports_team/roster./american_football/football_roster_position/position(/m/043vc,Y)', '<=', '/sports/sports_team/roster./american_football/football_roster_position/position(/m/057xlyq,Y)\\n']\n['/sports/sports_team/roster./american_football/football_roster_position/position', '/m/043vc,Y)']\n['/sports/sports_team/roster./american_football/football_roster_position/position', '/m/057xlyq,Y)\\n']\n/film/film/release_date_s./film/film_regional_release_date/film_release_distribution_medium(X,/m/029j_) <= /award/award_winning_work/awards_won./award/award_honor/award(X,/m/0gr51)\n\n['/film/film/release_date_s./film/film_regional_release_date/film_release_distribution_medium(X,/m/029j_)', '<=', '/award/award_winning_work/awards_won./award/award_honor/award(X,/m/0gr51)\\n']\n['/film/film/release_date_s./film/film_regional_release_date/film_release_distribution_medium', 'X,/m/029j_)']\n['/award/award_winning_work/awards_won./award/award_honor/award', 'X,/m/0gr51)\\n']\n/music/performance_role/regular_performances./music/group_membership/role(/m/02k856,Y) <= /music/performance_role/track_performances./music/track_contribution/role(/m/02sgy,Y)\n\n['/music/performance_role/regular_performances./music/group_membership/role(/m/02k856,Y)', '<=', '/music/performance_role/track_performances./music/track_contribution/role(/m/02sgy,Y)\\n']\n['/music/performance_role/regular_performances./music/group_membership/role', '/m/02k856,Y)']\n['/music/performance_role/track_performances./music/track_contribution/role', '/m/02sgy,Y)\\n']\n/music/performance_role/regular_performances./music/group_membership/role(/m/02k856,Y) <= /music/performance_role/track_performances./music/track_contribution/role(A,Y)\n\n['/music/performance_role/regular_performances./music/group_membership/role(/m/02k856,Y)', '<=', '/music/performance_role/track_performances./music/track_contribution/role(A,Y)\\n']\n['/music/performance_role/regular_performances./music/group_membership/role', '/m/02k856,Y)']\n['/music/performance_role/track_performances./music/track_contribution/role', 'A,Y)\\n']\n/music/record_label/artist(/m/011k1h,Y) <= /music/record_label/artist(A,Y)\n\n['/music/record_label/artist(/m/011k1h,Y)', '<=', '/music/record_label/artist(A,Y)\\n']\n['/music/record_label/artist', '/m/011k1h,Y)']\n['/music/record_label/artist', 'A,Y)\\n']\n/music/record_label/artist(/m/011k1h,Y) <= /music/record_label/artist(/m/017l96,Y)\n\n['/music/record_label/artist(/m/011k1h,Y)', '<=', '/music/record_label/artist(/m/017l96,Y)\\n']\n['/music/record_label/artist', '/m/011k1h,Y)']\n['/music/record_label/artist', '/m/017l96,Y)\\n']\n/location/statistical_region/gdp_nominal./measurement_unit/dated_money_value/currency(X,Y) <= /location/statistical_region/gdp_nominal_per_capita./measurement_unit/dated_money_value/currency(X,Y)\n\n['/location/statistical_region/gdp_nominal./measurement_unit/dated_money_value/currency(X,Y)', '<=', '/location/statistical_region/gdp_nominal_per_capita./measurement_unit/dated_money_value/currency(X,Y)\\n']\n['/location/statistical_region/gdp_nominal./measurement_unit/dated_money_value/currency', 'X,Y)']\n['/location/statistical_region/gdp_nominal_per_capita./measurement_unit/dated_money_value/currency', 'X,Y)\\n']\n/film/film/release_date_s./film/film_regional_release_date/film_release_region(X,/m/03rjj) <= /award/award_winning_work/awards_won./award/award_honor/award(X,A)\n\n['/film/film/release_date_s./film/film_regional_release_date/film_release_region(X,/m/03rjj)', '<=', '/award/award_winning_work/awards_won./award/award_honor/award(X,A)\\n']\n['/film/film/release_date_s./film/film_regional_release_date/film_release_region', 'X,/m/03rjj)']\n['/award/award_winning_work/awards_won./award/award_honor/award', 'X,A)\\n']\n/location/location/contains(/m/09c7w0,Y) <= /location/location/adjoin_s./location/adjoining_relationship/adjoins(A,Y)\n\n['/location/location/contains(/m/09c7w0,Y)', '<=', '/location/location/adjoin_s./location/adjoining_relationship/adjoins(A,Y)\\n']\n['/location/location/contains', '/m/09c7w0,Y)']\n['/location/location/adjoin_s./location/adjoining_relationship/adjoins', 'A,Y)\\n']\n/award/award_nominee/award_nominations./award/award_nomination/award(/m/0c6qh,Y) <= /award/award_nominee/award_nominations./award/award_nomination/award(/m/0blq0z,Y)\n\n['/award/award_nominee/award_nominations./award/award_nomination/award(/m/0c6qh,Y)', '<=', '/award/award_nominee/award_nominations./award/award_nomination/award(/m/0blq0z,Y)\\n']\n['/award/award_nominee/award_nominations./award/award_nomination/award', '/m/0c6qh,Y)']\n['/award/award_nominee/award_nominations./award/award_nomination/award', '/m/0blq0z,Y)\\n']\n"
    }
   ],
   "source": [
    "from rule_io.rule_reader import RuleReader\n",
    "\n",
    "reader = RuleReader('output/output-20.txt')\n",
    "all_rules = reader.read()"
   ]
  },
  {
   "cell_type": "code",
   "execution_count": 5,
   "metadata": {
    "tags": [
     "outputPrepend"
    ]
   },
   "outputs": [
    {
     "output_type": "stream",
     "name": "stdout",
     "text": "ted_money_value/currency(X,Y)\n['/education/university/domestic_tuition./measurement_unit/dated_money_value/currency(X,Y)']\n/film/film/release_date_s./film/film_regional_release_date/film_release_region(X,/m/01znc_)\n['/film/film/language(X,/m/04306rv)']\n/film/film/release_date_s./film/film_regional_release_date/film_release_region(X,/m/01znc_)\n['/film/film/language(X,A)']\n/music/performance_role/track_performances./music/track_contribution/role(/m/07_l6,Y)\n['/music/group_member/membership./music/group_membership/role(A,Y)']\n/location/statistical_region/rent50_2./measurement_unit/dated_money_value/currency(X,/m/09nqf)\n['/location/location/adjoin_s./location/adjoining_relationship/adjoins(X,A)']\n/soccer/football_team/current_roster./sports/sports_team_roster/position(X,/m/02nzb8)\n['/soccer/football_team/current_roster./soccer/football_roster_position/position(X,/m/02_j1w)']\n/soccer/football_team/current_roster./sports/sports_team_roster/position(X,/m/02nzb8)\n['/soccer/football_team/current_roster./soccer/football_roster_position/position(X,A)']\n/film/film/release_date_s./film/film_regional_release_date/film_release_region(X,/m/035qy)\n['/film/film/genre(X,/m/01hmnh)']\n/film/film/release_date_s./film/film_regional_release_date/film_release_region(X,/m/035qy)\n['/film/film/genre(X,A)']\n/music/performance_role/guest_performances./music/recording_contribution/performance_role(X,/m/01qbl)\n['/music/performance_role/regular_performances./music/group_membership/role(X,/m/03qjg)']\n/music/performance_role/guest_performances./music/recording_contribution/performance_role(X,/m/01qbl)\n['/music/performance_role/regular_performances./music/group_membership/role(X,A)']\n/media_common/netflix_genre/titles(/m/02l7c8,Y)\n['/media_common/netflix_genre/titles(/m/07ssc,Y)']\n/film/film/other_crew./film/film_crew_gig/film_crew_role(X,/m/01pvkk)\n['/film/film/release_date_s./film/film_regional_release_date/film_release_region(X,A)']\n/base/marchmadness/ncaa_basketball_tournament/seeds./base/marchmadness/ncaa_tournament_seed/team(X,/m/02pjzvh)\n['/base/marchmadness/ncaa_basketball_tournament/seeds./base/marchmadness/ncaa_tournament_seed/team(X,/m/02pqcfz)']\n/base/marchmadness/ncaa_basketball_tournament/seeds./base/marchmadness/ncaa_tournament_seed/team(X,/m/02pjzvh)\n['/base/marchmadness/ncaa_basketball_tournament/seeds./base/marchmadness/ncaa_tournament_seed/team(X,A)']\n/base/popstra/celebrity/dated./base/popstra/dated/participant(X,Y)\n['/people/person/spouse_s./people/marriage/spouse(X,Y)']\n/film/film/other_crew./film/film_crew_gig/film_crew_role(X,/m/01pvkk)\n['/film/film/release_date_s./film/film_regional_release_date/film_release_region(X,/m/0d060g)']\n/location/location/time_zones(X,/m/02fqwt)\n['/location/location/adjoin_s./location/adjoining_relationship/adjoins(X,A)']\n/award/award_category/nominees./award/award_nomination/nominated_for(X,/m/02c638)\n['/award/award_category/winners./award/award_honor/award_winner(X,A)']\n/film/film/written_by(X,Y)\n['/award/award_winning_work/awards_won./award/award_honor/award_winner(X,Y)']\n/education/field_of_study/students_majoring./education/education/major_field_of_study(/m/064_8sq,Y)\n['/education/educational_institution/students_graduates./education/education/major_field_of_study(A,Y)']\n/award/award_category/winners./award/award_honor/ceremony(X,/m/05pd94v)\n['/award/award_category/winners./award/award_honor/award_winner(X,A)']\n/sports/sports_team/roster./american_football/football_roster_position/position(/m/04ls81,Y)\n['/sports/sports_team/roster./american_football/football_historical_roster_position/position_s(A,Y)']\n/sports/sports_team/roster./american_football/football_roster_position/position(/m/04ls81,Y)\n['/sports/sports_team/roster./american_football/football_historical_roster_position/position_s(/m/01ct6,Y)']\n/sports/sports_team/colors(X,/m/019sc)\n['/sports/professional_sports_team/draft_picks./sports/sports_league_draft_pick/school(X,A)']\n/soccer/football_team/current_roster./soccer/football_roster_position/position(X,/m/02_j1w)\n['/soccer/football_team/current_roster./soccer/football_roster_position/position(X,/m/02nzb8)']\n/soccer/football_team/current_roster./soccer/football_roster_position/position(X,/m/02_j1w)\n['/soccer/football_team/current_roster./soccer/football_roster_position/position(X,A)']\n/people/person/spouse_s./people/marriage/type_of_union(X,/m/04ztj)\n['/people/person/place_of_birth(X,/m/02_286)']\n/education/educational_institution/students_graduates./education/education/major_field_of_study(X,/m/02j62)\n['/organization/organization/headquarters./location/mailing_address/state_province_region(X,A)']\n/people/person/spouse_s./people/marriage/type_of_union(X,/m/04ztj)\n['/people/person/place_of_birth(X,A)']\n/award/award_winning_work/awards_won./award/award_honor/award_winner(X,Y)\n['/film/film/written_by(X,Y)']\n/award/award_nominee/award_nominations./award/award_nomination/award(X,/m/04ljl_l)\n['/award/award_nominee/award_nominations./award/award_nomination/award(X,/m/05p09zm)']\n/medicine/symptom/symptom_of(X,/m/0hgxh)\n['/medicine/symptom/symptom_of(X,A)']\n/baseball/baseball_team/team_stats./baseball/baseball_team_stats/season(/m/01ypc,Y)\n['/baseball/baseball_team/team_stats./baseball/baseball_team_stats/season(/m/07l8x,Y)']\n/baseball/baseball_team/team_stats./baseball/baseball_team_stats/season(/m/01ypc,Y)\n['/baseball/baseball_team/team_stats./baseball/baseball_team_stats/season(A,Y)']\n/film/film/genre(X,/m/02kdv5l)\n['/film/film/story_by(X,A)']\n/sports/sports_position/players./sports/sports_team_roster/team(X,/m/0289q)\n['/sports/sports_position/players./american_football/football_historical_roster_position/position_s(X,/m/0bgv8y)']\n/sports/sports_position/players./sports/sports_team_roster/team(X,/m/0289q)\n['/sports/sports_position/players./american_football/football_historical_roster_position/position_s(X,A)']\n/sports/sports_team/roster./american_football/football_roster_position/position(X,/m/02g_6x)\n['/sports/sports_team/roster./american_football/football_historical_roster_position/position_s(X,A)']\n/sports/sports_team/roster./american_football/football_roster_position/position(X,/m/02g_6x)\n['/sports/sports_team/roster./american_football/football_historical_roster_position/position_s(X,/m/08ns5s)']\n/music/genre/artists(X,/m/03t9sp)\n['/music/genre/parent_genre(X,A)']\n/film/film/release_date_s./film/film_regional_release_date/film_release_distribution_medium(X,/m/029j_)\n['/film/film/genre(X,A)']\n/location/administrative_division/country(X,/m/0d05w3)\n['/base/aareas/schema/administrative_area/administrative_parent(X,/m/0d05w3)']\n/film/film/release_date_s./film/film_regional_release_date/film_release_region(/m/03twd6,Y)\n['/film/film/release_date_s./film/film_regional_release_date/film_release_region(A,Y)']\n/film/film/release_date_s./film/film_regional_release_date/film_release_region(/m/03twd6,Y)\n['/film/film/release_date_s./film/film_regional_release_date/film_release_region(/m/0dgpwnk,Y)']\n/film/film/release_date_s./film/film_regional_release_date/film_release_region(X,/m/06f32)\n['/film/film/release_date_s./film/film_regional_release_date/film_release_region(X,A)']\n/film/film/release_date_s./film/film_regional_release_date/film_release_region(X,/m/06f32)\n['/film/film/release_date_s./film/film_regional_release_date/film_release_region(X,/m/09pmkv)']\n/film/film/release_date_s./film/film_regional_release_date/film_release_region(X,/m/0d0vqn)\n['/film/film/release_date_s./film/film_regional_release_date/film_release_region(X,/m/0jgd)']\n/film/film/release_date_s./film/film_regional_release_date/film_release_region(X,/m/0d0vqn)\n['/film/film/release_date_s./film/film_regional_release_date/film_release_region(X,A)']\n/location/administrative_division/first_level_division_of(X,Y)\n['/base/aareas/schema/administrative_area/administrative_parent(X,Y)']\n/music/artist/track_contributions./music/track_contribution/role(/m/023slg,Y)\n['/music/performance_role/track_performances./music/track_contribution/role(A,Y)']\n/music/artist/track_contributions./music/track_contribution/role(/m/023slg,Y)\n['/music/performance_role/track_performances./music/track_contribution/role(/m/07y_7,Y)']\n/olympics/olympic_sport/athletes./olympics/olympic_athlete_affiliation/country(/m/0486tv,Y)\n['/language/human_language/countries_spoken_in(A,Y)']\n/soccer/football_team/current_roster./soccer/football_roster_position/position(X,/m/02_j1w)\n['/soccer/football_team/current_roster./sports/sports_team_roster/position(X,A)']\n/soccer/football_team/current_roster./soccer/football_roster_position/position(X,/m/02_j1w)\n['/soccer/football_team/current_roster./sports/sports_team_roster/position(X,/m/02sdk9v)']\n/soccer/football_team/current_roster./soccer/football_roster_position/position(X,/m/02_j1w)\n['/soccer/football_team/current_roster./sports/sports_team_roster/position(X,/m/02_j1w)']\n/olympics/olympic_sport/athletes./olympics/olympic_athlete_affiliation/country(/m/06z6r,Y)\n['/olympics/olympic_sport/athletes./olympics/olympic_athlete_affiliation/country(A,Y)']\n/olympics/olympic_sport/athletes./olympics/olympic_athlete_affiliation/country(/m/06z6r,Y)\n['/olympics/olympic_sport/athletes./olympics/olympic_athlete_affiliation/country(/m/0486tv,Y)']\n/military/military_combatant/military_conflicts./military/military_combatant_group/combatants(/m/05qhw,Y)\n['/film/film/release_date_s./film/film_regional_release_date/film_release_region(/m/02x6dqb,Y)']\n/military/military_combatant/military_conflicts./military/military_combatant_group/combatants(/m/05qhw,Y)\n['/film/film/release_date_s./film/film_regional_release_date/film_release_region(A,Y)']\n/olympics/olympic_participating_country/medals_won./olympics/olympic_medal_honor/medal(X,/m/02lpp7)\n['/location/location/contains(X,A)']\n/film/film/production_companies(X,/m/086k8)\n['/film/film/runtime./film/film_cut/film_release_region(X,A)']\n/music/performance_role/regular_performances./music/group_membership/group(/m/05r5c,Y)\n['/music/genre/artists(/m/06by7,Y)']\n/music/performance_role/track_performances./music/track_contribution/role(/m/07y_7,Y)\n['/music/performance_role/track_performances./music/track_contribution/role(/m/018vs,Y)']\n/music/performance_role/track_performances./music/track_contribution/role(/m/07y_7,Y)\n['/music/performance_role/track_performances./music/track_contribution/role(A,Y)']\n/film/director/film(X,Y)\n['/award/award_nominee/award_nominations./award/award_nomination/nominated_for(X,Y)']\n/award/award_winner/awards_won./award/award_honor/award_winner(/m/01wb8bs,Y)\n['/award/award_winner/awards_won./award/award_honor/award_winner(/m/0308kx,Y)']\n/award/award_category/winners./award/award_honor/ceremony(/m/01c9dd,Y)\n['/award/award_category/winners./award/award_honor/ceremony(/m/024fxq,Y)']\n/award/award_category/winners./award/award_honor/ceremony(/m/01c9dd,Y)\n['/award/award_category/winners./award/award_honor/ceremony(A,Y)']\n/music/performance_role/regular_performances./music/group_membership/group(X,/m/0bpk2)\n['/music/instrument/instrumentalists(X,A)']\n/music/instrument/instrumentalists(X,/m/0161sp)\n['/music/performance_role/regular_performances./music/group_membership/role(X,A)']\n/music/instrument/instrumentalists(X,/m/0161sp)\n['/music/performance_role/regular_performances./music/group_membership/role(X,/m/01hww_)']\n/award/award_nominee/award_nominations./award/award_nomination/nominated_for(X,Y)\n['/film/film_distributor/films_distributed./film/film_film_distributor_relationship/film(X,Y)']\n/film/film/release_date_s./film/film_regional_release_date/film_release_region(X,/m/06qd3)\n['/film/film/release_date_s./film/film_regional_release_date/film_release_region(X,A)']\n/film/film/release_date_s./film/film_regional_release_date/film_release_region(X,/m/06qd3)\n['/film/film/release_date_s./film/film_regional_release_date/film_release_region(X,/m/05v10)']\n/people/person/profession(X,/m/0np9r)\n['/award/award_nominee/award_nominations./award/award_nomination/award(X,A)']\n/people/person/profession(X,/m/0np9r)\n['/award/award_nominee/award_nominations./award/award_nomination/award(X,/m/0bp_b2)']\n/music/group_member/membership./music/group_membership/role(X,/m/0l14md)\n['/music/artist/track_contributions./music/track_contribution/role(X,A)']\n/award/award_nominee/award_nominations./award/award_nomination/nominated_for(X,Y)\n['/tv/tv_producer/programs_produced./tv/tv_producer_term/program(X,Y)']\n/music/genre/artists(/m/05r6t,Y)\n['/music/record_label/artist(A,Y)']\n/people/person/places_lived./people/place_lived/location(X,/m/030qb3t)\n['/award/award_nominee/award_nominations./award/award_nomination/award(X,A)']\n/government/legislative_session/members./government/government_position_held/district_represented(/m/02bp37,Y)\n['/government/legislative_session/members./government/government_position_held/district_represented(/m/024tcq,Y)']\n/government/legislative_session/members./government/government_position_held/district_represented(/m/02bp37,Y)\n['/government/legislative_session/members./government/government_position_held/district_represented(A,Y)']\n/award/award_nominee/award_nominations./award/award_nomination/award_nominee(/m/0cms7f,Y)\n['/award/award_nominee/award_nominations./award/award_nomination/award_nominee(/m/0cmt6q,Y)']\n/film/film/country(X,Y)\n['/film/film/distributors./film/film_film_distributor_relationship/region(X,Y)']\n/location/hud_foreclosure_area/estimated_number_of_mortgages./measurement_unit/dated_integer/source(X,/m/0jbk9)\n['/common/topic/webpage./common/webpage/category(X,/m/08mbj5d)']\n/location/hud_foreclosure_area/estimated_number_of_mortgages./measurement_unit/dated_integer/source(X,/m/0jbk9)\n['/common/topic/webpage./common/webpage/category(X,A)']\n/award/hall_of_fame/inductees./award/hall_of_fame_induction/inductee(/m/0g2c8,Y)\n['/music/genre/artists(A,Y)']\n/award/hall_of_fame/inductees./award/hall_of_fame_induction/inductee(/m/0g2c8,Y)\n['/music/genre/artists(/m/05w3f,Y)']\n/award/award_winning_work/awards_won./award/award_honor/award(X,/m/0gq9h)\n['/award/award_winning_work/awards_won./award/award_honor/award(X,A)']\n/business/business_operation/operating_income./measurement_unit/dated_money_value/currency(X,Y)\n['/business/business_operation/revenue./measurement_unit/dated_money_value/currency(X,Y)']\n/film/film/release_date_s./film/film_regional_release_date/film_release_region(X,/m/03rt9)\n['/film/film/production_companies(X,A)']\n/film/film/release_date_s./film/film_regional_release_date/film_release_region(/m/03np63f,Y)\n['/base/biblioness/bibs_location/country(A,Y)']\n/base/schemastaging/person_extra/net_worth./measurement_unit/dated_money_value/currency(X,/m/09nqf)\n['/music/artist/track_contributions./music/track_contribution/role(X,A)']\n/film/film/release_date_s./film/film_regional_release_date/film_release_region(/m/0h1cdwq,Y)\n['/film/film/release_date_s./film/film_regional_release_date/film_release_region(/m/0crc2cp,Y)']\n/film/film/estimated_budget./measurement_unit/dated_money_value/currency(X,/m/09nqf)\n['/film/film/language(X,A)']\n/award/award_winner/awards_won./award/award_honor/award_winner(/m/06czyr,Y)\n['/award/award_winner/awards_won./award/award_honor/award_winner(/m/09f0bj,Y)']\n/film/film/estimated_budget./measurement_unit/dated_money_value/currency(X,/m/09nqf)\n['/film/film/language(X,/m/02h40lc)']\n/film/film/featured_film_locations(X,/m/030qb3t)\n['/film/film/genre(X,/m/01jfsb)']\n/film/film/release_date_s./film/film_regional_release_date/film_release_region(X,/m/09c7w0)\n['/film/film/country(X,A)']\n/location/capital_of_administrative_division/capital_of./location/administrative_division_capital_relationship/administrative_division(X,Y)\n['/location/hud_county_place/county(X,Y)']\n/film/film/release_date_s./film/film_regional_release_date/film_release_region(X,/m/09c7w0)\n['/film/film/country(X,/m/0345h)']\n/olympics/olympic_participating_country/athletes./olympics/olympic_athlete_affiliation/olympics(/m/0f8l9c,Y)\n['/olympics/olympic_sport/athletes./olympics/olympic_athlete_affiliation/olympics(/m/06z6r,Y)']\n/olympics/olympic_participating_country/athletes./olympics/olympic_athlete_affiliation/olympics(/m/0f8l9c,Y)\n['/olympics/olympic_sport/athletes./olympics/olympic_athlete_affiliation/olympics(A,Y)']\n/film/film/release_date_s./film/film_regional_release_date/film_release_region(X,/m/03spz)\n['/film/film/release_date_s./film/film_regional_release_date/film_release_region(X,/m/03h64)']\n/film/film/release_date_s./film/film_regional_release_date/film_release_region(X,/m/03spz)\n['/film/film/release_date_s./film/film_regional_release_date/film_release_region(X,A)']\n/people/ethnicity/people(/m/02w7gg,Y)\n['/award/award_nominee/award_nominations./award/award_nomination/award_nominee(A,Y)']\n/film/film/release_date_s./film/film_regional_release_date/film_release_region(X,/m/015qh)\n['/film/film/release_date_s./film/film_regional_release_date/film_release_region(X,/m/06bnz)']\n/film/film/release_date_s./film/film_regional_release_date/film_release_region(X,/m/015qh)\n['/film/film/release_date_s./film/film_regional_release_date/film_release_region(X,A)']\n/people/ethnicity/people(/m/02w7gg,Y)\n['/award/award_nominee/award_nominations./award/award_nomination/award_nominee(/m/0djywgn,Y)']\n/people/person/place_of_birth(X,Y)\n['/people/person/places_lived./people/place_lived/location(X,Y)']\n/dataworld/gardening_hint/split_to(X,Y)\n['/music/instrument/family(X,Y)']\n/base/aareas/schema/administrative_area/administrative_parent(X,Y)\n['/location/capital_of_administrative_division/capital_of./location/administrative_division_capital_relationship/administrative_division(X,Y)']\n/film/film/release_date_s./film/film_regional_release_date/film_release_region(X,/m/03gj2)\n['/film/film/estimated_budget./measurement_unit/dated_money_value/currency(X,/m/09nqf)']\n/film/film/release_date_s./film/film_regional_release_date/film_release_region(X,/m/03gj2)\n['/film/film/estimated_budget./measurement_unit/dated_money_value/currency(X,A)']\n/people/person/gender(X,/m/02zsn)\n['/people/person/place_of_birth(X,A)']\n/film/film/release_date_s./film/film_regional_release_date/film_release_distribution_medium(X,/m/029j_)\n['/award/award_winning_work/awards_won./award/award_honor/award(X,/m/04kxsb)']\n/film/film/release_date_s./film/film_regional_release_date/film_release_distribution_medium(X,/m/029j_)\n['/award/award_winning_work/awards_won./award/award_honor/award(X,A)']\n/sports/sports_team/roster./american_football/football_roster_position/position(/m/043vc,Y)\n['/sports/sports_team/roster./american_football/football_roster_position/position(A,Y)']\n/sports/sports_team/roster./american_football/football_roster_position/position(/m/043vc,Y)\n['/sports/sports_team/roster./american_football/football_roster_position/position(/m/057xlyq,Y)']\n/film/film/release_date_s./film/film_regional_release_date/film_release_distribution_medium(X,/m/029j_)\n['/award/award_winning_work/awards_won./award/award_honor/award(X,/m/0gr51)']\n/music/performance_role/regular_performances./music/group_membership/role(/m/02k856,Y)\n['/music/performance_role/track_performances./music/track_contribution/role(/m/02sgy,Y)']\n/music/performance_role/regular_performances./music/group_membership/role(/m/02k856,Y)\n['/music/performance_role/track_performances./music/track_contribution/role(A,Y)']\n/music/record_label/artist(/m/011k1h,Y)\n['/music/record_label/artist(A,Y)']\n/music/record_label/artist(/m/011k1h,Y)\n['/music/record_label/artist(/m/017l96,Y)']\n/location/statistical_region/gdp_nominal./measurement_unit/dated_money_value/currency(X,Y)\n['/location/statistical_region/gdp_nominal_per_capita./measurement_unit/dated_money_value/currency(X,Y)']\n/film/film/release_date_s./film/film_regional_release_date/film_release_region(X,/m/03rjj)\n['/award/award_winning_work/awards_won./award/award_honor/award(X,A)']\n/location/location/contains(/m/09c7w0,Y)\n['/location/location/adjoin_s./location/adjoining_relationship/adjoins(A,Y)']\n/award/award_nominee/award_nominations./award/award_nomination/award(/m/0c6qh,Y)\n['/award/award_nominee/award_nominations./award/award_nomination/award(/m/0blq0z,Y)']\n"
    }
   ],
   "source": [
    "for r in all_rules:\n",
    "    print(r.head)\n",
    "    print([str(t) for t in r.body])"
   ]
  },
  {
   "cell_type": "markdown",
   "metadata": {},
   "source": [
    "## Test ScoreTree"
   ]
  },
  {
   "cell_type": "code",
   "execution_count": 1,
   "metadata": {},
   "outputs": [],
   "source": [
    "from structure.score_tree import ScoreTree\n",
    "\n",
    "tree = ScoreTree()"
   ]
  },
  {
   "cell_type": "code",
   "execution_count": 2,
   "metadata": {
    "tags": []
   },
   "outputs": [],
   "source": [
    "s1 = set(['a', 'b', 'c', 'd', 'd1', 'd2'])\n",
    "tree.add_values(0.9, s1)"
   ]
  },
  {
   "cell_type": "code",
   "execution_count": 3,
   "metadata": {
    "tags": []
   },
   "outputs": [
    {
     "output_type": "stream",
     "name": "stdout",
     "text": "0.0 [0](6) -> {   }\n     0.9 [6](6) -> { c d a d1 d2 b }\n\nprecise enough False\nfirst unique False\n"
    }
   ],
   "source": [
    "print(tree)\n",
    "print('precise enough',tree.fine())\n",
    "print('first unique',tree.is_first_unique())"
   ]
  },
  {
   "cell_type": "code",
   "execution_count": 4,
   "metadata": {
    "tags": []
   },
   "outputs": [
    {
     "output_type": "stream",
     "name": "stdout",
     "text": "0.0 [0](8) -> {   }\n     0.9 [6](6) -> { c d a d1 d2 b }\n     0.8999 [8](2) -> { bbb aaa }\n\nprecise enough False\nfirst unique False\n"
    }
   ],
   "source": [
    "s11=set(['aaa', 'bbb'])\n",
    "tree.add_values(0.8999, s11)\n",
    "print(tree)\n",
    "print('precise enough',tree.fine())\n",
    "print('first unique',tree.is_first_unique())"
   ]
  },
  {
   "cell_type": "code",
   "execution_count": 5,
   "metadata": {
    "tags": []
   },
   "outputs": [
    {
     "output_type": "stream",
     "name": "stdout",
     "text": "0.0 [0](8) -> {   }\n     0.9 [6](6) -> { d2 c d d1 }\n         0.8999 [2](2) -> { b a }\n     0.8999 [8](2) -> { bbb aaa }\n\nprecise enough False\nfirst unique False\n"
    }
   ],
   "source": [
    "s12 = set(['a', 'b'])\n",
    "tree.add_values(0.8999, s12)\n",
    "print(tree)\n",
    "print('precise enough',tree.fine())\n",
    "print('first unique',tree.is_first_unique())"
   ]
  },
  {
   "cell_type": "code",
   "execution_count": 6,
   "metadata": {
    "tags": []
   },
   "outputs": [
    {
     "output_type": "stream",
     "name": "stdout",
     "text": "0.0 [0](12) -> {   }\n     0.9 [6](6) -> { d2 c d d1 }\n         0.8999 [2](2) -> { b a }\n     0.8999 [8](2) -> { bbb aaa }\n     0.88 [12](4) -> { e3 e4 e2 e1 }\n\nprecise enough False\nfirst unique False\n"
    }
   ],
   "source": [
    "s2 = set(['a', 'b', 'e1', 'e2', 'e3', 'e4'])\n",
    "tree.add_values(0.88, s2)\n",
    "print(tree)\n",
    "print('precise enough',tree.fine())\n",
    "print('first unique',tree.is_first_unique())"
   ]
  },
  {
   "cell_type": "code",
   "execution_count": 7,
   "metadata": {
    "tags": []
   },
   "outputs": [
    {
     "output_type": "stream",
     "name": "stdout",
     "text": "0.0 [0](12) -> {   }\n     0.9 [6](6) -> { d2 c d d1 }\n        X 0.8999 [2](2) -> { b }\n            X 0.6 [1](1) -> { a }\n     0.8999 [8](2) -> { bbb aaa }\n     0.88 [10](2) -> { e4 e1 }\n\nprecise enough True\nfirst unique True\n"
    }
   ],
   "source": [
    "s3 = set(['a', 'e1', 'e4'])\n",
    "tree.add_values(0.6, s3)\n",
    "print(tree)\n",
    "print('precise enough',tree.fine())\n",
    "print('first unique',tree.is_first_unique())"
   ]
  },
  {
   "cell_type": "code",
   "execution_count": 8,
   "metadata": {
    "tags": []
   },
   "outputs": [
    {
     "output_type": "stream",
     "name": "stdout",
     "text": "0.0 [0](12) -> {   }\n     0.9 [6](6) -> { d2 c d d1 }\n        X 0.8999 [2](2) -> { b }\n            X 0.6 [1](1) -> { a }\n     0.8999 [8](2) -> { bbb aaa }\n     0.88 [10](2) -> { e4 e1 }\n\nprecise enough True\nfirst unique True\n"
    }
   ],
   "source": [
    "s4 = set(['xa', 'xb', 'xe1', 'xe2', 'xe3', 'xe4'])\n",
    "tree.add_values(0.5, s4)\n",
    "print(tree)\n",
    "print('precise enough',tree.fine())\n",
    "print('first unique',tree.is_first_unique())"
   ]
  },
  {
   "cell_type": "code",
   "execution_count": 9,
   "metadata": {
    "tags": []
   },
   "outputs": [
    {
     "output_type": "stream",
     "name": "stdout",
     "text": "0.0 [0](12) -> {   }\n     0.9 [6](6) -> { d2 c d d1 }\n        X 0.8999 [2](2) -> { b }\n            X 0.6 [1](1) -> { a }\n     0.8999 [8](2) -> { bbb aaa }\n     0.88 [10](2) -> { e4 e1 }\n\nprecise enough True\n"
    }
   ],
   "source": [
    "s5 = set(['xa', 'xb', 'ye1', 'ye2', 'ye3', 'ye4'])\n",
    "tree.add_values(0.43, s4)\n",
    "print(tree)\n",
    "print('precise enough',tree.fine())"
   ]
  },
  {
   "cell_type": "code",
   "execution_count": 10,
   "metadata": {
    "tags": []
   },
   "outputs": [
    {
     "output_type": "stream",
     "name": "stdout",
     "text": "0.0 [0](12) -> {   }\n     0.9 [6](6) -> { d2 c d d1 }\n        X 0.8999 [2](2) -> { b }\n            X 0.6 [1](1) -> { a }\n     0.8999 [8](2) -> { bbb aaa }\n     0.88 [10](2) -> { e4 e1 }\n\nprecise enough True\n"
    }
   ],
   "source": [
    "s6 = set(['xe2', 'xa', 'xxx'])\n",
    "tree.add_values(0.39, s6)\n",
    "print(tree)\n",
    "print('precise enough',tree.fine())"
   ]
  },
  {
   "cell_type": "code",
   "execution_count": 11,
   "metadata": {
    "tags": []
   },
   "outputs": [
    {
     "output_type": "stream",
     "name": "stdout",
     "text": "0.0 [0](12) -> {   }\n     0.9 [6](6) -> { d2 c d d1 }\n        X 0.8999 [2](2) -> { b }\n            X 0.6 [1](1) -> { a }\n     0.8999 [8](2) -> { bbb aaa }\n     0.88 [10](2) -> { e4 e1 }\n\nprecise enough True\n"
    }
   ],
   "source": [
    "s7 = set(['xe1', 'xe2'])\n",
    "tree.add_values(0.22, s7)\n",
    "print(tree)\n",
    "print('precise enough',tree.fine())"
   ]
  },
  {
   "cell_type": "code",
   "execution_count": 12,
   "metadata": {
    "tags": []
   },
   "outputs": [
    {
     "output_type": "stream",
     "name": "stdout",
     "text": "0.0 [0](12) -> {   }\n     0.9 [6](6) -> { d2 c d d1 }\n        X 0.8999 [2](2) -> { b }\n            X 0.6 [1](1) -> { a }\n     0.8999 [8](2) -> { bbb aaa }\n     0.88 [10](2) -> { e4 e1 }\n\nprecise enough True\n"
    }
   ],
   "source": [
    "s8 = set(['xe4'])\n",
    "tree.add_values(0.21, s8)\n",
    "print(tree)\n",
    "print('precise enough',tree.fine())"
   ]
  },
  {
   "cell_type": "code",
   "execution_count": 13,
   "metadata": {
    "tags": []
   },
   "outputs": [
    {
     "output_type": "stream",
     "name": "stdout",
     "text": "0.0 [0](12) -> {   }\n     0.9 [6](6) -> { d2 c d d1 }\n        X 0.8999 [2](2) -> { b }\n            X 0.6 [1](1) -> { a }\n     0.8999 [8](2) -> { bbb aaa }\n    X 0.88 [10](2) -> { e4 }\n        X 0.21 [9](1) -> { e1 }\n\nprecise enough True\n"
    }
   ],
   "source": [
    "s9 = set(['e1', 'e2'])\n",
    "tree.add_values(0.21, s9)\n",
    "print(tree)\n",
    "print('precise enough',tree.fine())"
   ]
  },
  {
   "cell_type": "code",
   "execution_count": 14,
   "metadata": {
    "tags": []
   },
   "outputs": [
    {
     "output_type": "stream",
     "name": "stdout",
     "text": "0.0 [0](12) -> {   }\n     0.9 [6](6) -> { d2 c d d1 }\n        X 0.8999 [2](2) -> { b }\n            X 0.6 [1](1) -> { a }\n     0.8999 [8](2) -> { bbb aaa }\n    X 0.88 [10](2) -> { e4 }\n        X 0.21 [9](1) -> { e1 }\n\n"
    }
   ],
   "source": [
    "s19 = set(['u1', 'u2'])\n",
    "tree.add_values(0.19, s9)\n",
    "print(tree)"
   ]
  },
  {
   "cell_type": "code",
   "execution_count": 15,
   "metadata": {},
   "outputs": [
    {
     "output_type": "execute_result",
     "data": {
      "text/plain": "{'a': 0.9000899960000001,\n 'b': 0.90008999,\n 'd2': 0.9,\n 'c': 0.9,\n 'd': 0.9,\n 'd1': 0.9,\n 'bbb': 0.8999,\n 'aaa': 0.8999,\n 'e1': 0.880021,\n 'e4': 0.88}"
     },
     "metadata": {},
     "execution_count": 15
    }
   ],
   "source": [
    "map_get = {}\n",
    "tree.get_as_linked_map(map_get)\n",
    "map_get"
   ]
  },
  {
   "cell_type": "code",
   "execution_count": null,
   "metadata": {},
   "outputs": [],
   "source": []
  }
 ],
 "metadata": {
  "language_info": {
   "codemirror_mode": {
    "name": "ipython",
    "version": 3
   },
   "file_extension": ".py",
   "mimetype": "text/x-python",
   "name": "python",
   "nbconvert_exporter": "python",
   "pygments_lexer": "ipython3",
   "version": "3.7.3-final"
  },
  "orig_nbformat": 2,
  "kernelspec": {
   "name": "python3",
   "display_name": "Python 3"
  }
 },
 "nbformat": 4,
 "nbformat_minor": 2
}