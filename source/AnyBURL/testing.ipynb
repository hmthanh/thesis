{
 "cells": [
  {
   "cell_type": "markdown",
   "metadata": {},
   "source": [
    "# test path sample"
   ]
  },
  {
   "cell_type": "code",
   "execution_count": 2,
   "metadata": {
    "tags": []
   },
   "outputs": [
    {
     "output_type": "stream",
     "name": "stdout",
     "text": "* indexed 100000 triples\n* set up index for 18 relations, 40504 head entities, and 40551 tail entities\n* read 141442 triples\n"
    }
   ],
   "source": [
    "from data.triple_set import TripleSet\n",
    "data = TripleSet()\n",
    "data.read_triples('../../datasets/WN18/train.txt')\n",
    "print('* read {} triples'.format(len(data.triples)))"
   ]
  },
  {
   "cell_type": "code",
   "execution_count": 4,
   "metadata": {
    "tags": []
   },
   "outputs": [
    {
     "output_type": "stream",
     "name": "stdout",
     "text": "{'_instance_hyponym': {'09027089', '08913085', '09132778', '09097707', '09164417', '08773880', '09073938', '08970189', '08976799', '09113762', '08912012', '08728749', '08898457', '08739669', '09129062', '09102883', '09072810', '09164241', '09053947', '08936833', '09063673', '08819016', '08977665', '08765623', '08889400', '08706823', '09144323', '08729452', '08983274', '08766846', '08857529', '09133895', '09146111', '08856945', '09062961', '08923177', '08762243', '08924238', '08889944', '08773098', '09025728', '09030596', '09145083', '09064861', '09077556', '08914413', '08898187', '08912703', '08772667', '09091909', '08971404', '09064264', '08984122', '09143321', '08846885', '08912153', '09134999', '08951077', '08977428', '08810051', '08773336', '08770718', '09035951', '09042322', '08854855', '08788887', '08916111', '09144730', '08708481', '08953029', '08977527', '09110229', '09040839', '08851500', '08728595', '08814333', '08780380', '09008454', '08856266', '08877208', '09155692', '08771400', '08713136', '09066799', '09128536', '08772551', '09030382', '08847024', '08798062', '09156889', '08937995', '08924560', '09143786', '08721145', '08704409', '09155986', '08879197', '08916832', '08950649', '08736779', '08946812', '08855909', '08731148', '09161452', '09033117', '09151216', '08818835', '08812166', '08745011', '09038272', '08856037', '08903487', '08735008', '08994339', '08903352', '09085441', '08855763', '08857099', '08970064', '09093472', '09100690', '09125016', '08925093', '09159546', '09086070', '08904533', '08903872', '09137682', '08984010', '09157021', '09069752', '08934532', '09026911', '08772922', '09165294', '09087450', '08774546', '08937109', '09069415', '09041785', '08780282', '08729283', '09014066', '09125528', '08786432', '09156666', '08899351', '08775179', '09165146', '08915017', '08983556', '09114020', '08759852', '09026204', '09130714', '08811473', '08911602', '08804319', '09089923', '09124589', '08706502', '09068320', '09034286', '08904731', '08977211', '08849372', '09054480', '08899149', '08818247', '08984457', '09133500', '09145655', '08994834', '09064594', '09154607', '08966085', '09154731', '08925957', '08813264', '08982037', '08722084', '09027292', '09150863', '08803883', '09083659', '08876975', '08928933', '08924023', '08715952', '08766571', '08911868', '09125354', '08813699', '08923884', '08824771', '09151516', '09011679', '08935212', '09067878', '09151411', '08809165', '08903636', '08774374', '08974818', '09034402', '08919241', '09111955', '09062585', '08719705', '09062320', '09088989', '09074834', '09062791', '08950407', '09130452', '08986526', '08928742', '08708609', '08805801', '09042213', '08934694', '08855505', '08899577', '09140569', '08986374', '09077111', '09022667', '08851034', '08728462', '09065191', '09068921', '08877807', '08706247', '08878016', '09065557', '08795974', '09058071', '09125629', '08750822', '08899776', '09009490', '08804049', '08950907', '09162414', '08804662', '09100394', '08744750', '09009372', '08789605', '09125203', '09012735', '08983413', '09026614', '09128947', '09063259', '08956574', '09084196', '08728268', '08775053', '08766667', '08970611', '08746475', '09030467', '08769439', '09075329', '09107626', '08956461', '09164903', '09066017', '08743945', '09146912', '09077821', '08855126', '08717629', '08926543', '09025189', '08927678', '08728882', '09026780', '09074140', '09001007', '09086635', '09026360', '09113479', '09004992', '08762104', '09084075', '08743229', '08969798', '08770013', '08770274', '09139849', '08984332', '08974604', '08912427', '08936647', '09038439', '09144117', '08805386', '08904269', '08923755', '08857260', '09144851', '09142887', '08914573', '09146813', '08786855', '08956140', '08738715', '09157766', '08873269', '08787240', '08879680', '08895497', '09115315', '09094381', '08851830', '09106770', '09129926', '08857405', '08984223', '09073258', '08925552', '08923586', '09085209', '09025451', '09151114', '08950035', '09086793', '08846739', '09142674', '09097871', '08765460', '08889521', '09075007', '08924913', '08772137', '08856630', '09032981', '08727806', '08771277', '09099264', '08900204', '08855609', '09158501', '08733415', '09148662', '09010085', '08963244', '09025584', '09108728', '08895771', '08904858', '09131553', '08807894', '08914850', '08795654', '09085334', '08925700', '09073697', '09016860', '09145217', '09011820', '08774912', '08735345', '09150662', '09135993', '08809910', '08911726', '09016099', '08814664', '08928083', '09096664', '08813156', '09063477', '08851687', '09141119', '09070363', '09020299', '08727230', '08976913', '08950787', '09167652', '09110939', '08773679', '08904115', '09140993', '08774073', '08787049', '08926231', '08889657', '08771116', '09027679', '08856475', '08504151', '09162803', '08950230', '09113333', '09014470', '08728066', '08714795', '09154178', '09162581', '08786660', '08805565', '08960363', '09083390', '09145851', '09128372', '08856793', '08766455', '09142771', '08734853', '09055906', '08846626', '08937594', '08850741', '08957993', '08726582', '08772794', '08742743', '09040475', '08799462', '08904392', '09129324', '09062015', '08925287', '08746636', '08770518', '09111168', '08892971', '09131428', '09147618', '09113207', '08926381', '09135447', '08798195', '08936303', '08877382', '08925830', '08725161', '09054350', '09136182', '08903220', '09032604', '09092352', '08804845', '08765315', '08745901', '09028477', '08725454', '09119277', '09143649', '08727945', '08958212', '09143205', '08912559', '09000462', '08727606', '09066534', '09108055', '08962951', '08983742', '08772307', '08797840', '09102517', '09138538', '08774704', '08912279', '08851364', '09089782'}, '_has_part': {'08543496', '08571139', '08543081', '08524130'}, '_derivationally_related_form': {'00499642'}, '_hypernym': {'08626283'}, '_hyponym': {'08695198', '08691669', '08695539'}}\n"
    }
   ],
   "source": [
    "print(data.head_relation_to_tail['08524735'])"
   ]
  },
  {
   "cell_type": "code",
   "execution_count": 4,
   "metadata": {},
   "outputs": [],
   "source": [
    "from algorithm.path_sampler import PathSampler\n",
    "ps = PathSampler(data)"
   ]
  },
  {
   "cell_type": "code",
   "execution_count": 1,
   "metadata": {
    "tags": []
   },
   "outputs": [],
   "source": [
    "some_path = set([])\n",
    "# for i in range(1000):\n",
    "#     p = ps.sample_path(2, True)\n",
    "#     if i % 50 == 0 and p is not None:\n",
    "#         print(p)\n",
    "#         print(\"\\n\\n\\n\")\n",
    "#     if p is not None: ###p.isValid()) {\n",
    "#         some_pathes.add(p)"
   ]
  },
  {
   "cell_type": "markdown",
   "metadata": {},
   "source": [
    "## Test leaning"
   ]
  },
  {
   "cell_type": "code",
   "execution_count": 3,
   "metadata": {
    "tags": []
   },
   "outputs": [
    {
     "output_type": "stream",
     "name": "stdout",
     "text": "* indexed 100000 triples\n* set up index for 18 relations, 40504 head entities, and 40551 tail entities\n"
    }
   ],
   "source": [
    "from learn import Learn\n",
    "# '../../datasets/FB15k-237/train.txt' '../../datasets/WN18RR/train.txt'\n",
    "learning = Learn('../../datasets/WN18/train.txt')"
   ]
  },
  {
   "cell_type": "code",
   "execution_count": 2,
   "metadata": {},
   "outputs": [
    {
     "output_type": "execute_result",
     "data": {
      "text/plain": "{'_instance_hyponym': {'08504151',\n  '08704409',\n  '08706247',\n  '08706502',\n  '08706823',\n  '08708481',\n  '08708609',\n  '08713136',\n  '08714795',\n  '08715952',\n  '08717629',\n  '08719705',\n  '08721145',\n  '08722084',\n  '08725161',\n  '08725454',\n  '08726582',\n  '08727230',\n  '08727606',\n  '08727806',\n  '08727945',\n  '08728066',\n  '08728268',\n  '08728462',\n  '08728595',\n  '08728749',\n  '08728882',\n  '08729283',\n  '08729452',\n  '08731148',\n  '08733415',\n  '08734853',\n  '08735008',\n  '08735345',\n  '08736779',\n  '08738715',\n  '08739669',\n  '08742743',\n  '08743229',\n  '08743945',\n  '08744750',\n  '08745011',\n  '08745901',\n  '08746475',\n  '08746636',\n  '08750822',\n  '08759852',\n  '08762104',\n  '08762243',\n  '08765315',\n  '08765460',\n  '08765623',\n  '08766455',\n  '08766571',\n  '08766667',\n  '08766846',\n  '08769439',\n  '08770013',\n  '08770274',\n  '08770518',\n  '08770718',\n  '08771116',\n  '08771277',\n  '08771400',\n  '08772137',\n  '08772307',\n  '08772551',\n  '08772667',\n  '08772794',\n  '08772922',\n  '08773098',\n  '08773336',\n  '08773679',\n  '08773880',\n  '08774073',\n  '08774374',\n  '08774546',\n  '08774704',\n  '08774912',\n  '08775053',\n  '08775179',\n  '08780282',\n  '08780380',\n  '08786432',\n  '08786660',\n  '08786855',\n  '08787049',\n  '08787240',\n  '08788887',\n  '08789605',\n  '08795654',\n  '08795974',\n  '08797840',\n  '08798062',\n  '08798195',\n  '08799462',\n  '08803883',\n  '08804049',\n  '08804319',\n  '08804662',\n  '08804845',\n  '08805386',\n  '08805565',\n  '08805801',\n  '08807894',\n  '08809165',\n  '08809910',\n  '08810051',\n  '08811473',\n  '08812166',\n  '08813156',\n  '08813264',\n  '08813699',\n  '08814333',\n  '08814664',\n  '08818247',\n  '08818835',\n  '08819016',\n  '08824771',\n  '08846626',\n  '08846739',\n  '08846885',\n  '08847024',\n  '08849372',\n  '08850741',\n  '08851034',\n  '08851364',\n  '08851500',\n  '08851687',\n  '08851830',\n  '08854855',\n  '08855126',\n  '08855505',\n  '08855609',\n  '08855763',\n  '08855909',\n  '08856037',\n  '08856266',\n  '08856475',\n  '08856630',\n  '08856793',\n  '08856945',\n  '08857099',\n  '08857260',\n  '08857405',\n  '08857529',\n  '08873269',\n  '08876975',\n  '08877208',\n  '08877382',\n  '08877807',\n  '08878016',\n  '08879197',\n  '08879680',\n  '08889400',\n  '08889521',\n  '08889657',\n  '08889944',\n  '08892971',\n  '08895497',\n  '08895771',\n  '08898187',\n  '08898457',\n  '08899149',\n  '08899351',\n  '08899577',\n  '08899776',\n  '08900204',\n  '08903220',\n  '08903352',\n  '08903487',\n  '08903636',\n  '08903872',\n  '08904115',\n  '08904269',\n  '08904392',\n  '08904533',\n  '08904731',\n  '08904858',\n  '08911602',\n  '08911726',\n  '08911868',\n  '08912012',\n  '08912153',\n  '08912279',\n  '08912427',\n  '08912559',\n  '08912703',\n  '08913085',\n  '08914413',\n  '08914573',\n  '08914850',\n  '08915017',\n  '08916111',\n  '08916832',\n  '08919241',\n  '08923177',\n  '08923586',\n  '08923755',\n  '08923884',\n  '08924023',\n  '08924238',\n  '08924560',\n  '08924913',\n  '08925093',\n  '08925287',\n  '08925552',\n  '08925700',\n  '08925830',\n  '08925957',\n  '08926231',\n  '08926381',\n  '08926543',\n  '08927678',\n  '08928083',\n  '08928742',\n  '08928933',\n  '08934532',\n  '08934694',\n  '08935212',\n  '08936303',\n  '08936647',\n  '08936833',\n  '08937109',\n  '08937594',\n  '08937995',\n  '08946812',\n  '08950035',\n  '08950230',\n  '08950407',\n  '08950649',\n  '08950787',\n  '08950907',\n  '08951077',\n  '08953029',\n  '08956140',\n  '08956461',\n  '08956574',\n  '08957993',\n  '08958212',\n  '08960363',\n  '08962951',\n  '08963244',\n  '08966085',\n  '08969798',\n  '08970064',\n  '08970189',\n  '08970611',\n  '08971404',\n  '08974604',\n  '08974818',\n  '08976799',\n  '08976913',\n  '08977211',\n  '08977428',\n  '08977527',\n  '08977665',\n  '08982037',\n  '08983274',\n  '08983413',\n  '08983556',\n  '08983742',\n  '08984010',\n  '08984122',\n  '08984223',\n  '08984332',\n  '08984457',\n  '08986374',\n  '08986526',\n  '08994339',\n  '08994834',\n  '09000462',\n  '09001007',\n  '09004992',\n  '09008454',\n  '09009372',\n  '09009490',\n  '09010085',\n  '09011679',\n  '09011820',\n  '09012735',\n  '09014066',\n  '09014470',\n  '09016099',\n  '09016860',\n  '09020299',\n  '09022667',\n  '09025189',\n  '09025451',\n  '09025584',\n  '09025728',\n  '09026204',\n  '09026360',\n  '09026614',\n  '09026780',\n  '09026911',\n  '09027089',\n  '09027292',\n  '09027679',\n  '09028477',\n  '09030382',\n  '09030467',\n  '09030596',\n  '09032604',\n  '09032981',\n  '09033117',\n  '09034286',\n  '09034402',\n  '09035951',\n  '09038272',\n  '09038439',\n  '09040475',\n  '09040839',\n  '09041785',\n  '09042213',\n  '09042322',\n  '09053947',\n  '09054350',\n  '09054480',\n  '09055906',\n  '09058071',\n  '09062015',\n  '09062320',\n  '09062585',\n  '09062791',\n  '09062961',\n  '09063259',\n  '09063477',\n  '09063673',\n  '09064264',\n  '09064594',\n  '09064861',\n  '09065191',\n  '09065557',\n  '09066017',\n  '09066534',\n  '09066799',\n  '09067878',\n  '09068320',\n  '09068921',\n  '09069415',\n  '09069752',\n  '09070363',\n  '09072810',\n  '09073258',\n  '09073697',\n  '09073938',\n  '09074140',\n  '09074834',\n  '09075007',\n  '09075329',\n  '09077111',\n  '09077556',\n  '09077821',\n  '09083390',\n  '09083659',\n  '09084075',\n  '09084196',\n  '09085209',\n  '09085334',\n  '09085441',\n  '09086070',\n  '09086635',\n  '09086793',\n  '09087450',\n  '09088989',\n  '09089782',\n  '09089923',\n  '09091909',\n  '09092352',\n  '09093472',\n  '09094381',\n  '09096664',\n  '09097707',\n  '09097871',\n  '09099264',\n  '09100394',\n  '09100690',\n  '09102517',\n  '09102883',\n  '09106770',\n  '09107626',\n  '09108055',\n  '09108728',\n  '09110229',\n  '09110939',\n  '09111168',\n  '09111955',\n  '09113207',\n  '09113333',\n  '09113479',\n  '09113762',\n  '09114020',\n  '09115315',\n  '09119277',\n  '09124589',\n  '09125016',\n  '09125203',\n  '09125354',\n  '09125528',\n  '09125629',\n  '09128372',\n  '09128536',\n  '09128947',\n  '09129062',\n  '09129324',\n  '09129926',\n  '09130452',\n  '09130714',\n  '09131428',\n  '09131553',\n  '09132778',\n  '09133500',\n  '09133895',\n  '09134999',\n  '09135447',\n  '09135993',\n  '09136182',\n  '09137682',\n  '09138538',\n  '09139849',\n  '09140569',\n  '09140993',\n  '09141119',\n  '09142674',\n  '09142771',\n  '09142887',\n  '09143205',\n  '09143321',\n  '09143649',\n  '09143786',\n  '09144117',\n  '09144323',\n  '09144730',\n  '09144851',\n  '09145083',\n  '09145217',\n  '09145655',\n  '09145851',\n  '09146111',\n  '09146813',\n  '09146912',\n  '09147618',\n  '09148662',\n  '09150662',\n  '09150863',\n  '09151114',\n  '09151216',\n  '09151411',\n  '09151516',\n  '09154178',\n  '09154607',\n  '09154731',\n  '09155692',\n  '09155986',\n  '09156666',\n  '09156889',\n  '09157021',\n  '09157766',\n  '09158501',\n  '09159546',\n  '09161452',\n  '09162414',\n  '09162581',\n  '09162803',\n  '09164241',\n  '09164417',\n  '09164903',\n  '09165146',\n  '09165294',\n  '09167652'},\n '_has_part': {'08524130', '08543081', '08543496', '08571139'},\n '_derivationally_related_form': {'00499642'},\n '_hypernym': {'08626283'},\n '_hyponym': {'08691669', '08695198', '08695539'}}"
     },
     "metadata": {},
     "execution_count": 2
    }
   ],
   "source": [
    "learning.triple_set.head_relation_to_tail['08524735']"
   ]
  },
  {
   "cell_type": "code",
   "execution_count": 2,
   "metadata": {
    "tags": []
   },
   "outputs": [
    {
     "output_type": "stream",
     "name": "stdout",
     "text": ">>> ****** Batch [CYCLIC 1] batchCounter: 1 (sampled 3897 pathes) *****\n>>> fraction of previously seen rules within useful rules in this batch: 0.06382978723404255  NEW=44 PREV=3 batch rules=2717\n>>> ****** Batch [ACYCLIC 1] batchCounter: 2 (sampled 151913 pathes) *****\n>>> fraction of previously seen rules within useful rules in this batch: 0.0  NEW=1 PREV=0 batch rules=139\n>>> ****** Batch [CYCLIC 1] batchCounter: 3 (sampled 155925 pathes) *****\n>>> fraction of previously seen rules within useful rules in this batch: 0.2391304347826087  NEW=35 PREV=11 batch rules=2890\n>>> ****** Batch [ACYCLIC 1] batchCounter: 4 (sampled 316191 pathes) *****\n>>> fraction of previously seen rules within useful rules in this batch: 0.0  NEW=1 PREV=0 batch rules=168\n>>> ****** Batch [CYCLIC 1] batchCounter: 5 (sampled 320306 pathes) *****\n>>> fraction of previously seen rules within useful rules in this batch: 0.29411764705882354  NEW=36 PREV=15 batch rules=2966\n>>> ****** Batch [ACYCLIC 1] batchCounter: 6 (sampled 482606 pathes) *****\n>>> fraction of previously seen rules within useful rules in this batch: 0.0  NEW=1 PREV=0 batch rules=161\n>>> ****** Batch [CYCLIC 1] batchCounter: 7 (sampled 486942 pathes) *****\n>>> fraction of previously seen rules within useful rules in this batch: 0.18181818181818182  NEW=36 PREV=8 batch rules=2986\n>>> ****** Batch [ACYCLIC 1] batchCounter: 8 (sampled 648972 pathes) *****\n>>> fraction of previously seen rules within useful rules in this batch: 0.0  NEW=1 PREV=0 batch rules=168\n>>> ****** Batch [CYCLIC 1] batchCounter: 9 (sampled 653078 pathes) *****\n>>> fraction of previously seen rules within useful rules in this batch: 0.36585365853658536  NEW=26 PREV=15 batch rules=2953\n>>> ****** Batch [ACYCLIC 1] batchCounter: 10 (sampled 814359 pathes) *****\n>>> fraction of previously seen rules within useful rules in this batch: 0.0  NEW=1 PREV=0 batch rules=163\n>>> ****** Batch [CYCLIC 1] batchCounter: 11 (sampled 818472 pathes) *****\n>>> fraction of previously seen rules within useful rules in this batch: 0.3728813559322034  NEW=37 PREV=22 batch rules=2933\n>>> ****** Batch [ACYCLIC 1] batchCounter: 12 (sampled 973824 pathes) *****\n>>> fraction of previously seen rules within useful rules in this batch: 0.0  NEW=1 PREV=0 batch rules=151\n>>> ****** Batch [CYCLIC 1] batchCounter: 13 (sampled 978021 pathes) *****\n>>> fraction of previously seen rules within useful rules in this batch: 0.3958333333333333  NEW=29 PREV=19 batch rules=2928\n>>> ****** Batch [ACYCLIC 1] batchCounter: 14 (sampled 1129970 pathes) *****\n>>> fraction of previously seen rules within useful rules in this batch: 0.0  NEW=1 PREV=0 batch rules=170\n>>> ****** Batch [CYCLIC 1] batchCounter: 15 (sampled 1133944 pathes) *****\n>>> fraction of previously seen rules within useful rules in this batch: 0.5116279069767442  NEW=21 PREV=22 batch rules=2902\n>>> ****** Batch [ACYCLIC 1] batchCounter: 16 (sampled 1293334 pathes) *****\n>>> fraction of previously seen rules within useful rules in this batch: 0.0  NEW=1 PREV=0 batch rules=159\n>>> ****** Batch [CYCLIC 1] batchCounter: 17 (sampled 1297377 pathes) *****\n>>> fraction of previously seen rules within useful rules in this batch: 0.3953488372093023  NEW=26 PREV=17 batch rules=2765\n>>> ****** Batch [ACYCLIC 1] batchCounter: 18 (sampled 1456597 pathes) *****\n>>> fraction of previously seen rules within useful rules in this batch: 0.0  NEW=1 PREV=0 batch rules=162\n>>> ****** Batch [CYCLIC 1] batchCounter: 19 (sampled 1460561 pathes) *****\n>>> fraction of previously seen rules within useful rules in this batch: 0.5319148936170213  NEW=22 PREV=25 batch rules=2909\n>>> ****** Batch [ACYCLIC 1] batchCounter: 20 (sampled 1620654 pathes) *****\n>>> fraction of previously seen rules within useful rules in this batch: 0.0  NEW=1 PREV=0 batch rules=162\n>>> ****** Batch [CYCLIC 1] batchCounter: 21 (sampled 1624736 pathes) *****\n>>> fraction of previously seen rules within useful rules in this batch: 0.4222222222222222  NEW=26 PREV=19 batch rules=2914\n>>> ****** Batch [ACYCLIC 1] batchCounter: 22 (sampled 1782081 pathes) *****\n>>> fraction of previously seen rules within useful rules in this batch: 0.0  NEW=1 PREV=0 batch rules=156\n>>> ****** Batch [CYCLIC 1] batchCounter: 23 (sampled 1786215 pathes) *****\n>>> fraction of previously seen rules within useful rules in this batch: 0.4146341463414634  NEW=24 PREV=17 batch rules=2882\n>>> ****** Batch [ACYCLIC 1] batchCounter: 24 (sampled 1946136 pathes) *****\n>>> fraction of previously seen rules within useful rules in this batch: 0.0  NEW=1 PREV=0 batch rules=153\n>>> ****** Batch [CYCLIC 1] batchCounter: 25 (sampled 1950116 pathes) *****\n>>> fraction of previously seen rules within useful rules in this batch: 0.5102040816326531  NEW=24 PREV=25 batch rules=2850\n>>> ****** Batch [ACYCLIC 1] batchCounter: 26 (sampled 2111328 pathes) *****\n>>> fraction of previously seen rules within useful rules in this batch: 0.0  NEW=1 PREV=0 batch rules=139\n>>> ****** Batch [CYCLIC 1] batchCounter: 27 (sampled 2115076 pathes) *****\n>>> fraction of previously seen rules within useful rules in this batch: 0.5094339622641509  NEW=26 PREV=27 batch rules=2794\n>>> ****** Batch [ACYCLIC 1] batchCounter: 28 (sampled 2273627 pathes) *****\n>>> fraction of previously seen rules within useful rules in this batch: 0.0  NEW=1 PREV=0 batch rules=145\n>>> ****** Batch [CYCLIC 1] batchCounter: 29 (sampled 2277669 pathes) *****\n>>> fraction of previously seen rules within useful rules in this batch: 0.5869565217391305  NEW=19 PREV=27 batch rules=2812\n>>> ****** Batch [ACYCLIC 1] batchCounter: 30 (sampled 2438356 pathes) *****\n>>> fraction of previously seen rules within useful rules in this batch: 0.0  NEW=1 PREV=0 batch rules=160\n>>> ****** Batch [CYCLIC 1] batchCounter: 31 (sampled 2442363 pathes) *****\n>>> fraction of previously seen rules within useful rules in this batch: 0.5526315789473685  NEW=17 PREV=21 batch rules=2822\n>>> ****** Batch [ACYCLIC 1] batchCounter: 32 (sampled 2603948 pathes) *****\n>>> fraction of previously seen rules within useful rules in this batch: 0.0  NEW=1 PREV=0 batch rules=148\n"
    }
   ],
   "source": [
    "learning.train()"
   ]
  },
  {
   "cell_type": "markdown",
   "metadata": {},
   "source": [
    "## Test read rule output"
   ]
  },
  {
   "cell_type": "code",
   "execution_count": 4,
   "metadata": {
    "tags": [
     "outputPrepend"
    ]
   },
   "outputs": [
    {
     "output_type": "stream",
     "name": "stdout",
     "text": "g2c8,Y) <= /music/genre/artists(A,Y)\n\n['/award/hall_of_fame/inductees./award/hall_of_fame_induction/inductee(/m/0g2c8,Y)', '<=', '/music/genre/artists(A,Y)\\n']\n['/award/hall_of_fame/inductees./award/hall_of_fame_induction/inductee', '/m/0g2c8,Y)']\n['/music/genre/artists', 'A,Y)\\n']\n/award/hall_of_fame/inductees./award/hall_of_fame_induction/inductee(/m/0g2c8,Y) <= /music/genre/artists(/m/05w3f,Y)\n\n['/award/hall_of_fame/inductees./award/hall_of_fame_induction/inductee(/m/0g2c8,Y)', '<=', '/music/genre/artists(/m/05w3f,Y)\\n']\n['/award/hall_of_fame/inductees./award/hall_of_fame_induction/inductee', '/m/0g2c8,Y)']\n['/music/genre/artists', '/m/05w3f,Y)\\n']\n/award/award_winning_work/awards_won./award/award_honor/award(X,/m/0gq9h) <= /award/award_winning_work/awards_won./award/award_honor/award(X,A)\n\n['/award/award_winning_work/awards_won./award/award_honor/award(X,/m/0gq9h)', '<=', '/award/award_winning_work/awards_won./award/award_honor/award(X,A)\\n']\n['/award/award_winning_work/awards_won./award/award_honor/award', 'X,/m/0gq9h)']\n['/award/award_winning_work/awards_won./award/award_honor/award', 'X,A)\\n']\n/business/business_operation/operating_income./measurement_unit/dated_money_value/currency(X,Y) <= /business/business_operation/revenue./measurement_unit/dated_money_value/currency(X,Y)\n\n['/business/business_operation/operating_income./measurement_unit/dated_money_value/currency(X,Y)', '<=', '/business/business_operation/revenue./measurement_unit/dated_money_value/currency(X,Y)\\n']\n['/business/business_operation/operating_income./measurement_unit/dated_money_value/currency', 'X,Y)']\n['/business/business_operation/revenue./measurement_unit/dated_money_value/currency', 'X,Y)\\n']\n/film/film/release_date_s./film/film_regional_release_date/film_release_region(X,/m/03rt9) <= /film/film/production_companies(X,A)\n\n['/film/film/release_date_s./film/film_regional_release_date/film_release_region(X,/m/03rt9)', '<=', '/film/film/production_companies(X,A)\\n']\n['/film/film/release_date_s./film/film_regional_release_date/film_release_region', 'X,/m/03rt9)']\n['/film/film/production_companies', 'X,A)\\n']\n/film/film/release_date_s./film/film_regional_release_date/film_release_region(/m/03np63f,Y) <= /base/biblioness/bibs_location/country(A,Y)\n\n['/film/film/release_date_s./film/film_regional_release_date/film_release_region(/m/03np63f,Y)', '<=', '/base/biblioness/bibs_location/country(A,Y)\\n']\n['/film/film/release_date_s./film/film_regional_release_date/film_release_region', '/m/03np63f,Y)']\n['/base/biblioness/bibs_location/country', 'A,Y)\\n']\n/base/schemastaging/person_extra/net_worth./measurement_unit/dated_money_value/currency(X,/m/09nqf) <= /music/artist/track_contributions./music/track_contribution/role(X,A)\n\n['/base/schemastaging/person_extra/net_worth./measurement_unit/dated_money_value/currency(X,/m/09nqf)', '<=', '/music/artist/track_contributions./music/track_contribution/role(X,A)\\n']\n['/base/schemastaging/person_extra/net_worth./measurement_unit/dated_money_value/currency', 'X,/m/09nqf)']\n['/music/artist/track_contributions./music/track_contribution/role', 'X,A)\\n']\n/film/film/release_date_s./film/film_regional_release_date/film_release_region(/m/0h1cdwq,Y) <= /film/film/release_date_s./film/film_regional_release_date/film_release_region(/m/0crc2cp,Y)\n\n['/film/film/release_date_s./film/film_regional_release_date/film_release_region(/m/0h1cdwq,Y)', '<=', '/film/film/release_date_s./film/film_regional_release_date/film_release_region(/m/0crc2cp,Y)\\n']\n['/film/film/release_date_s./film/film_regional_release_date/film_release_region', '/m/0h1cdwq,Y)']\n['/film/film/release_date_s./film/film_regional_release_date/film_release_region', '/m/0crc2cp,Y)\\n']\n/film/film/estimated_budget./measurement_unit/dated_money_value/currency(X,/m/09nqf) <= /film/film/language(X,A)\n\n['/film/film/estimated_budget./measurement_unit/dated_money_value/currency(X,/m/09nqf)', '<=', '/film/film/language(X,A)\\n']\n['/film/film/estimated_budget./measurement_unit/dated_money_value/currency', 'X,/m/09nqf)']\n['/film/film/language', 'X,A)\\n']\n/award/award_winner/awards_won./award/award_honor/award_winner(/m/06czyr,Y) <= /award/award_winner/awards_won./award/award_honor/award_winner(/m/09f0bj,Y)\n\n['/award/award_winner/awards_won./award/award_honor/award_winner(/m/06czyr,Y)', '<=', '/award/award_winner/awards_won./award/award_honor/award_winner(/m/09f0bj,Y)\\n']\n['/award/award_winner/awards_won./award/award_honor/award_winner', '/m/06czyr,Y)']\n['/award/award_winner/awards_won./award/award_honor/award_winner', '/m/09f0bj,Y)\\n']\n/film/film/estimated_budget./measurement_unit/dated_money_value/currency(X,/m/09nqf) <= /film/film/language(X,/m/02h40lc)\n\n['/film/film/estimated_budget./measurement_unit/dated_money_value/currency(X,/m/09nqf)', '<=', '/film/film/language(X,/m/02h40lc)\\n']\n['/film/film/estimated_budget./measurement_unit/dated_money_value/currency', 'X,/m/09nqf)']\n['/film/film/language', 'X,/m/02h40lc)\\n']\n/film/film/featured_film_locations(X,/m/030qb3t) <= /film/film/genre(X,/m/01jfsb)\n\n['/film/film/featured_film_locations(X,/m/030qb3t)', '<=', '/film/film/genre(X,/m/01jfsb)\\n']\n['/film/film/featured_film_locations', 'X,/m/030qb3t)']\n['/film/film/genre', 'X,/m/01jfsb)\\n']\n/film/film/release_date_s./film/film_regional_release_date/film_release_region(X,/m/09c7w0) <= /film/film/country(X,A)\n\n['/film/film/release_date_s./film/film_regional_release_date/film_release_region(X,/m/09c7w0)', '<=', '/film/film/country(X,A)\\n']\n['/film/film/release_date_s./film/film_regional_release_date/film_release_region', 'X,/m/09c7w0)']\n['/film/film/country', 'X,A)\\n']\n/location/capital_of_administrative_division/capital_of./location/administrative_division_capital_relationship/administrative_division(X,Y) <= /location/hud_county_place/county(X,Y)\n\n['/location/capital_of_administrative_division/capital_of./location/administrative_division_capital_relationship/administrative_division(X,Y)', '<=', '/location/hud_county_place/county(X,Y)\\n']\n['/location/capital_of_administrative_division/capital_of./location/administrative_division_capital_relationship/administrative_division', 'X,Y)']\n['/location/hud_county_place/county', 'X,Y)\\n']\n/film/film/release_date_s./film/film_regional_release_date/film_release_region(X,/m/09c7w0) <= /film/film/country(X,/m/0345h)\n\n['/film/film/release_date_s./film/film_regional_release_date/film_release_region(X,/m/09c7w0)', '<=', '/film/film/country(X,/m/0345h)\\n']\n['/film/film/release_date_s./film/film_regional_release_date/film_release_region', 'X,/m/09c7w0)']\n['/film/film/country', 'X,/m/0345h)\\n']\n/olympics/olympic_participating_country/athletes./olympics/olympic_athlete_affiliation/olympics(/m/0f8l9c,Y) <= /olympics/olympic_sport/athletes./olympics/olympic_athlete_affiliation/olympics(/m/06z6r,Y)\n\n['/olympics/olympic_participating_country/athletes./olympics/olympic_athlete_affiliation/olympics(/m/0f8l9c,Y)', '<=', '/olympics/olympic_sport/athletes./olympics/olympic_athlete_affiliation/olympics(/m/06z6r,Y)\\n']\n['/olympics/olympic_participating_country/athletes./olympics/olympic_athlete_affiliation/olympics', '/m/0f8l9c,Y)']\n['/olympics/olympic_sport/athletes./olympics/olympic_athlete_affiliation/olympics', '/m/06z6r,Y)\\n']\n/olympics/olympic_participating_country/athletes./olympics/olympic_athlete_affiliation/olympics(/m/0f8l9c,Y) <= /olympics/olympic_sport/athletes./olympics/olympic_athlete_affiliation/olympics(A,Y)\n\n['/olympics/olympic_participating_country/athletes./olympics/olympic_athlete_affiliation/olympics(/m/0f8l9c,Y)', '<=', '/olympics/olympic_sport/athletes./olympics/olympic_athlete_affiliation/olympics(A,Y)\\n']\n['/olympics/olympic_participating_country/athletes./olympics/olympic_athlete_affiliation/olympics', '/m/0f8l9c,Y)']\n['/olympics/olympic_sport/athletes./olympics/olympic_athlete_affiliation/olympics', 'A,Y)\\n']\n/film/film/release_date_s./film/film_regional_release_date/film_release_region(X,/m/03spz) <= /film/film/release_date_s./film/film_regional_release_date/film_release_region(X,/m/03h64)\n\n['/film/film/release_date_s./film/film_regional_release_date/film_release_region(X,/m/03spz)', '<=', '/film/film/release_date_s./film/film_regional_release_date/film_release_region(X,/m/03h64)\\n']\n['/film/film/release_date_s./film/film_regional_release_date/film_release_region', 'X,/m/03spz)']\n['/film/film/release_date_s./film/film_regional_release_date/film_release_region', 'X,/m/03h64)\\n']\n/film/film/release_date_s./film/film_regional_release_date/film_release_region(X,/m/03spz) <= /film/film/release_date_s./film/film_regional_release_date/film_release_region(X,A)\n\n['/film/film/release_date_s./film/film_regional_release_date/film_release_region(X,/m/03spz)', '<=', '/film/film/release_date_s./film/film_regional_release_date/film_release_region(X,A)\\n']\n['/film/film/release_date_s./film/film_regional_release_date/film_release_region', 'X,/m/03spz)']\n['/film/film/release_date_s./film/film_regional_release_date/film_release_region', 'X,A)\\n']\n/people/ethnicity/people(/m/02w7gg,Y) <= /award/award_nominee/award_nominations./award/award_nomination/award_nominee(A,Y)\n\n['/people/ethnicity/people(/m/02w7gg,Y)', '<=', '/award/award_nominee/award_nominations./award/award_nomination/award_nominee(A,Y)\\n']\n['/people/ethnicity/people', '/m/02w7gg,Y)']\n['/award/award_nominee/award_nominations./award/award_nomination/award_nominee', 'A,Y)\\n']\n/film/film/release_date_s./film/film_regional_release_date/film_release_region(X,/m/015qh) <= /film/film/release_date_s./film/film_regional_release_date/film_release_region(X,/m/06bnz)\n\n['/film/film/release_date_s./film/film_regional_release_date/film_release_region(X,/m/015qh)', '<=', '/film/film/release_date_s./film/film_regional_release_date/film_release_region(X,/m/06bnz)\\n']\n['/film/film/release_date_s./film/film_regional_release_date/film_release_region', 'X,/m/015qh)']\n['/film/film/release_date_s./film/film_regional_release_date/film_release_region', 'X,/m/06bnz)\\n']\n/film/film/release_date_s./film/film_regional_release_date/film_release_region(X,/m/015qh) <= /film/film/release_date_s./film/film_regional_release_date/film_release_region(X,A)\n\n['/film/film/release_date_s./film/film_regional_release_date/film_release_region(X,/m/015qh)', '<=', '/film/film/release_date_s./film/film_regional_release_date/film_release_region(X,A)\\n']\n['/film/film/release_date_s./film/film_regional_release_date/film_release_region', 'X,/m/015qh)']\n['/film/film/release_date_s./film/film_regional_release_date/film_release_region', 'X,A)\\n']\n/people/ethnicity/people(/m/02w7gg,Y) <= /award/award_nominee/award_nominations./award/award_nomination/award_nominee(/m/0djywgn,Y)\n\n['/people/ethnicity/people(/m/02w7gg,Y)', '<=', '/award/award_nominee/award_nominations./award/award_nomination/award_nominee(/m/0djywgn,Y)\\n']\n['/people/ethnicity/people', '/m/02w7gg,Y)']\n['/award/award_nominee/award_nominations./award/award_nomination/award_nominee', '/m/0djywgn,Y)\\n']\n/people/person/place_of_birth(X,Y) <= /people/person/places_lived./people/place_lived/location(X,Y)\n\n['/people/person/place_of_birth(X,Y)', '<=', '/people/person/places_lived./people/place_lived/location(X,Y)\\n']\n['/people/person/place_of_birth', 'X,Y)']\n['/people/person/places_lived./people/place_lived/location', 'X,Y)\\n']\n/dataworld/gardening_hint/split_to(X,Y) <= /music/instrument/family(X,Y)\n\n['/dataworld/gardening_hint/split_to(X,Y)', '<=', '/music/instrument/family(X,Y)\\n']\n['/dataworld/gardening_hint/split_to', 'X,Y)']\n['/music/instrument/family', 'X,Y)\\n']\n/base/aareas/schema/administrative_area/administrative_parent(X,Y) <= /location/capital_of_administrative_division/capital_of./location/administrative_division_capital_relationship/administrative_division(X,Y)\n\n['/base/aareas/schema/administrative_area/administrative_parent(X,Y)', '<=', '/location/capital_of_administrative_division/capital_of./location/administrative_division_capital_relationship/administrative_division(X,Y)\\n']\n['/base/aareas/schema/administrative_area/administrative_parent', 'X,Y)']\n['/location/capital_of_administrative_division/capital_of./location/administrative_division_capital_relationship/administrative_division', 'X,Y)\\n']\n/film/film/release_date_s./film/film_regional_release_date/film_release_region(X,/m/03gj2) <= /film/film/estimated_budget./measurement_unit/dated_money_value/currency(X,/m/09nqf)\n\n['/film/film/release_date_s./film/film_regional_release_date/film_release_region(X,/m/03gj2)', '<=', '/film/film/estimated_budget./measurement_unit/dated_money_value/currency(X,/m/09nqf)\\n']\n['/film/film/release_date_s./film/film_regional_release_date/film_release_region', 'X,/m/03gj2)']\n['/film/film/estimated_budget./measurement_unit/dated_money_value/currency', 'X,/m/09nqf)\\n']\n/film/film/release_date_s./film/film_regional_release_date/film_release_region(X,/m/03gj2) <= /film/film/estimated_budget./measurement_unit/dated_money_value/currency(X,A)\n\n['/film/film/release_date_s./film/film_regional_release_date/film_release_region(X,/m/03gj2)', '<=', '/film/film/estimated_budget./measurement_unit/dated_money_value/currency(X,A)\\n']\n['/film/film/release_date_s./film/film_regional_release_date/film_release_region', 'X,/m/03gj2)']\n['/film/film/estimated_budget./measurement_unit/dated_money_value/currency', 'X,A)\\n']\n/people/person/gender(X,/m/02zsn) <= /people/person/place_of_birth(X,A)\n\n['/people/person/gender(X,/m/02zsn)', '<=', '/people/person/place_of_birth(X,A)\\n']\n['/people/person/gender', 'X,/m/02zsn)']\n['/people/person/place_of_birth', 'X,A)\\n']\n/film/film/release_date_s./film/film_regional_release_date/film_release_distribution_medium(X,/m/029j_) <= /award/award_winning_work/awards_won./award/award_honor/award(X,/m/04kxsb)\n\n['/film/film/release_date_s./film/film_regional_release_date/film_release_distribution_medium(X,/m/029j_)', '<=', '/award/award_winning_work/awards_won./award/award_honor/award(X,/m/04kxsb)\\n']\n['/film/film/release_date_s./film/film_regional_release_date/film_release_distribution_medium', 'X,/m/029j_)']\n['/award/award_winning_work/awards_won./award/award_honor/award', 'X,/m/04kxsb)\\n']\n/film/film/release_date_s./film/film_regional_release_date/film_release_distribution_medium(X,/m/029j_) <= /award/award_winning_work/awards_won./award/award_honor/award(X,A)\n\n['/film/film/release_date_s./film/film_regional_release_date/film_release_distribution_medium(X,/m/029j_)', '<=', '/award/award_winning_work/awards_won./award/award_honor/award(X,A)\\n']\n['/film/film/release_date_s./film/film_regional_release_date/film_release_distribution_medium', 'X,/m/029j_)']\n['/award/award_winning_work/awards_won./award/award_honor/award', 'X,A)\\n']\n/sports/sports_team/roster./american_football/football_roster_position/position(/m/043vc,Y) <= /sports/sports_team/roster./american_football/football_roster_position/position(A,Y)\n\n['/sports/sports_team/roster./american_football/football_roster_position/position(/m/043vc,Y)', '<=', '/sports/sports_team/roster./american_football/football_roster_position/position(A,Y)\\n']\n['/sports/sports_team/roster./american_football/football_roster_position/position', '/m/043vc,Y)']\n['/sports/sports_team/roster./american_football/football_roster_position/position', 'A,Y)\\n']\n/sports/sports_team/roster./american_football/football_roster_position/position(/m/043vc,Y) <= /sports/sports_team/roster./american_football/football_roster_position/position(/m/057xlyq,Y)\n\n['/sports/sports_team/roster./american_football/football_roster_position/position(/m/043vc,Y)', '<=', '/sports/sports_team/roster./american_football/football_roster_position/position(/m/057xlyq,Y)\\n']\n['/sports/sports_team/roster./american_football/football_roster_position/position', '/m/043vc,Y)']\n['/sports/sports_team/roster./american_football/football_roster_position/position', '/m/057xlyq,Y)\\n']\n/film/film/release_date_s./film/film_regional_release_date/film_release_distribution_medium(X,/m/029j_) <= /award/award_winning_work/awards_won./award/award_honor/award(X,/m/0gr51)\n\n['/film/film/release_date_s./film/film_regional_release_date/film_release_distribution_medium(X,/m/029j_)', '<=', '/award/award_winning_work/awards_won./award/award_honor/award(X,/m/0gr51)\\n']\n['/film/film/release_date_s./film/film_regional_release_date/film_release_distribution_medium', 'X,/m/029j_)']\n['/award/award_winning_work/awards_won./award/award_honor/award', 'X,/m/0gr51)\\n']\n/music/performance_role/regular_performances./music/group_membership/role(/m/02k856,Y) <= /music/performance_role/track_performances./music/track_contribution/role(/m/02sgy,Y)\n\n['/music/performance_role/regular_performances./music/group_membership/role(/m/02k856,Y)', '<=', '/music/performance_role/track_performances./music/track_contribution/role(/m/02sgy,Y)\\n']\n['/music/performance_role/regular_performances./music/group_membership/role', '/m/02k856,Y)']\n['/music/performance_role/track_performances./music/track_contribution/role', '/m/02sgy,Y)\\n']\n/music/performance_role/regular_performances./music/group_membership/role(/m/02k856,Y) <= /music/performance_role/track_performances./music/track_contribution/role(A,Y)\n\n['/music/performance_role/regular_performances./music/group_membership/role(/m/02k856,Y)', '<=', '/music/performance_role/track_performances./music/track_contribution/role(A,Y)\\n']\n['/music/performance_role/regular_performances./music/group_membership/role', '/m/02k856,Y)']\n['/music/performance_role/track_performances./music/track_contribution/role', 'A,Y)\\n']\n/music/record_label/artist(/m/011k1h,Y) <= /music/record_label/artist(A,Y)\n\n['/music/record_label/artist(/m/011k1h,Y)', '<=', '/music/record_label/artist(A,Y)\\n']\n['/music/record_label/artist', '/m/011k1h,Y)']\n['/music/record_label/artist', 'A,Y)\\n']\n/music/record_label/artist(/m/011k1h,Y) <= /music/record_label/artist(/m/017l96,Y)\n\n['/music/record_label/artist(/m/011k1h,Y)', '<=', '/music/record_label/artist(/m/017l96,Y)\\n']\n['/music/record_label/artist', '/m/011k1h,Y)']\n['/music/record_label/artist', '/m/017l96,Y)\\n']\n/location/statistical_region/gdp_nominal./measurement_unit/dated_money_value/currency(X,Y) <= /location/statistical_region/gdp_nominal_per_capita./measurement_unit/dated_money_value/currency(X,Y)\n\n['/location/statistical_region/gdp_nominal./measurement_unit/dated_money_value/currency(X,Y)', '<=', '/location/statistical_region/gdp_nominal_per_capita./measurement_unit/dated_money_value/currency(X,Y)\\n']\n['/location/statistical_region/gdp_nominal./measurement_unit/dated_money_value/currency', 'X,Y)']\n['/location/statistical_region/gdp_nominal_per_capita./measurement_unit/dated_money_value/currency', 'X,Y)\\n']\n/film/film/release_date_s./film/film_regional_release_date/film_release_region(X,/m/03rjj) <= /award/award_winning_work/awards_won./award/award_honor/award(X,A)\n\n['/film/film/release_date_s./film/film_regional_release_date/film_release_region(X,/m/03rjj)', '<=', '/award/award_winning_work/awards_won./award/award_honor/award(X,A)\\n']\n['/film/film/release_date_s./film/film_regional_release_date/film_release_region', 'X,/m/03rjj)']\n['/award/award_winning_work/awards_won./award/award_honor/award', 'X,A)\\n']\n/location/location/contains(/m/09c7w0,Y) <= /location/location/adjoin_s./location/adjoining_relationship/adjoins(A,Y)\n\n['/location/location/contains(/m/09c7w0,Y)', '<=', '/location/location/adjoin_s./location/adjoining_relationship/adjoins(A,Y)\\n']\n['/location/location/contains', '/m/09c7w0,Y)']\n['/location/location/adjoin_s./location/adjoining_relationship/adjoins', 'A,Y)\\n']\n/award/award_nominee/award_nominations./award/award_nomination/award(/m/0c6qh,Y) <= /award/award_nominee/award_nominations./award/award_nomination/award(/m/0blq0z,Y)\n\n['/award/award_nominee/award_nominations./award/award_nomination/award(/m/0c6qh,Y)', '<=', '/award/award_nominee/award_nominations./award/award_nomination/award(/m/0blq0z,Y)\\n']\n['/award/award_nominee/award_nominations./award/award_nomination/award', '/m/0c6qh,Y)']\n['/award/award_nominee/award_nominations./award/award_nomination/award', '/m/0blq0z,Y)\\n']\n"
    }
   ],
   "source": [
    "from rule_io.rule_reader import RuleReader\n",
    "\n",
    "reader = RuleReader('output/output-20.txt')\n",
    "all_rules = reader.read()"
   ]
  },
  {
   "cell_type": "code",
   "execution_count": 5,
   "metadata": {
    "tags": [
     "outputPrepend"
    ]
   },
   "outputs": [
    {
     "output_type": "stream",
     "name": "stdout",
     "text": "ted_money_value/currency(X,Y)\n['/education/university/domestic_tuition./measurement_unit/dated_money_value/currency(X,Y)']\n/film/film/release_date_s./film/film_regional_release_date/film_release_region(X,/m/01znc_)\n['/film/film/language(X,/m/04306rv)']\n/film/film/release_date_s./film/film_regional_release_date/film_release_region(X,/m/01znc_)\n['/film/film/language(X,A)']\n/music/performance_role/track_performances./music/track_contribution/role(/m/07_l6,Y)\n['/music/group_member/membership./music/group_membership/role(A,Y)']\n/location/statistical_region/rent50_2./measurement_unit/dated_money_value/currency(X,/m/09nqf)\n['/location/location/adjoin_s./location/adjoining_relationship/adjoins(X,A)']\n/soccer/football_team/current_roster./sports/sports_team_roster/position(X,/m/02nzb8)\n['/soccer/football_team/current_roster./soccer/football_roster_position/position(X,/m/02_j1w)']\n/soccer/football_team/current_roster./sports/sports_team_roster/position(X,/m/02nzb8)\n['/soccer/football_team/current_roster./soccer/football_roster_position/position(X,A)']\n/film/film/release_date_s./film/film_regional_release_date/film_release_region(X,/m/035qy)\n['/film/film/genre(X,/m/01hmnh)']\n/film/film/release_date_s./film/film_regional_release_date/film_release_region(X,/m/035qy)\n['/film/film/genre(X,A)']\n/music/performance_role/guest_performances./music/recording_contribution/performance_role(X,/m/01qbl)\n['/music/performance_role/regular_performances./music/group_membership/role(X,/m/03qjg)']\n/music/performance_role/guest_performances./music/recording_contribution/performance_role(X,/m/01qbl)\n['/music/performance_role/regular_performances./music/group_membership/role(X,A)']\n/media_common/netflix_genre/titles(/m/02l7c8,Y)\n['/media_common/netflix_genre/titles(/m/07ssc,Y)']\n/film/film/other_crew./film/film_crew_gig/film_crew_role(X,/m/01pvkk)\n['/film/film/release_date_s./film/film_regional_release_date/film_release_region(X,A)']\n/base/marchmadness/ncaa_basketball_tournament/seeds./base/marchmadness/ncaa_tournament_seed/team(X,/m/02pjzvh)\n['/base/marchmadness/ncaa_basketball_tournament/seeds./base/marchmadness/ncaa_tournament_seed/team(X,/m/02pqcfz)']\n/base/marchmadness/ncaa_basketball_tournament/seeds./base/marchmadness/ncaa_tournament_seed/team(X,/m/02pjzvh)\n['/base/marchmadness/ncaa_basketball_tournament/seeds./base/marchmadness/ncaa_tournament_seed/team(X,A)']\n/base/popstra/celebrity/dated./base/popstra/dated/participant(X,Y)\n['/people/person/spouse_s./people/marriage/spouse(X,Y)']\n/film/film/other_crew./film/film_crew_gig/film_crew_role(X,/m/01pvkk)\n['/film/film/release_date_s./film/film_regional_release_date/film_release_region(X,/m/0d060g)']\n/location/location/time_zones(X,/m/02fqwt)\n['/location/location/adjoin_s./location/adjoining_relationship/adjoins(X,A)']\n/award/award_category/nominees./award/award_nomination/nominated_for(X,/m/02c638)\n['/award/award_category/winners./award/award_honor/award_winner(X,A)']\n/film/film/written_by(X,Y)\n['/award/award_winning_work/awards_won./award/award_honor/award_winner(X,Y)']\n/education/field_of_study/students_majoring./education/education/major_field_of_study(/m/064_8sq,Y)\n['/education/educational_institution/students_graduates./education/education/major_field_of_study(A,Y)']\n/award/award_category/winners./award/award_honor/ceremony(X,/m/05pd94v)\n['/award/award_category/winners./award/award_honor/award_winner(X,A)']\n/sports/sports_team/roster./american_football/football_roster_position/position(/m/04ls81,Y)\n['/sports/sports_team/roster./american_football/football_historical_roster_position/position_s(A,Y)']\n/sports/sports_team/roster./american_football/football_roster_position/position(/m/04ls81,Y)\n['/sports/sports_team/roster./american_football/football_historical_roster_position/position_s(/m/01ct6,Y)']\n/sports/sports_team/colors(X,/m/019sc)\n['/sports/professional_sports_team/draft_picks./sports/sports_league_draft_pick/school(X,A)']\n/soccer/football_team/current_roster./soccer/football_roster_position/position(X,/m/02_j1w)\n['/soccer/football_team/current_roster./soccer/football_roster_position/position(X,/m/02nzb8)']\n/soccer/football_team/current_roster./soccer/football_roster_position/position(X,/m/02_j1w)\n['/soccer/football_team/current_roster./soccer/football_roster_position/position(X,A)']\n/people/person/spouse_s./people/marriage/type_of_union(X,/m/04ztj)\n['/people/person/place_of_birth(X,/m/02_286)']\n/education/educational_institution/students_graduates./education/education/major_field_of_study(X,/m/02j62)\n['/organization/organization/headquarters./location/mailing_address/state_province_region(X,A)']\n/people/person/spouse_s./people/marriage/type_of_union(X,/m/04ztj)\n['/people/person/place_of_birth(X,A)']\n/award/award_winning_work/awards_won./award/award_honor/award_winner(X,Y)\n['/film/film/written_by(X,Y)']\n/award/award_nominee/award_nominations./award/award_nomination/award(X,/m/04ljl_l)\n['/award/award_nominee/award_nominations./award/award_nomination/award(X,/m/05p09zm)']\n/medicine/symptom/symptom_of(X,/m/0hgxh)\n['/medicine/symptom/symptom_of(X,A)']\n/baseball/baseball_team/team_stats./baseball/baseball_team_stats/season(/m/01ypc,Y)\n['/baseball/baseball_team/team_stats./baseball/baseball_team_stats/season(/m/07l8x,Y)']\n/baseball/baseball_team/team_stats./baseball/baseball_team_stats/season(/m/01ypc,Y)\n['/baseball/baseball_team/team_stats./baseball/baseball_team_stats/season(A,Y)']\n/film/film/genre(X,/m/02kdv5l)\n['/film/film/story_by(X,A)']\n/sports/sports_position/players./sports/sports_team_roster/team(X,/m/0289q)\n['/sports/sports_position/players./american_football/football_historical_roster_position/position_s(X,/m/0bgv8y)']\n/sports/sports_position/players./sports/sports_team_roster/team(X,/m/0289q)\n['/sports/sports_position/players./american_football/football_historical_roster_position/position_s(X,A)']\n/sports/sports_team/roster./american_football/football_roster_position/position(X,/m/02g_6x)\n['/sports/sports_team/roster./american_football/football_historical_roster_position/position_s(X,A)']\n/sports/sports_team/roster./american_football/football_roster_position/position(X,/m/02g_6x)\n['/sports/sports_team/roster./american_football/football_historical_roster_position/position_s(X,/m/08ns5s)']\n/music/genre/artists(X,/m/03t9sp)\n['/music/genre/parent_genre(X,A)']\n/film/film/release_date_s./film/film_regional_release_date/film_release_distribution_medium(X,/m/029j_)\n['/film/film/genre(X,A)']\n/location/administrative_division/country(X,/m/0d05w3)\n['/base/aareas/schema/administrative_area/administrative_parent(X,/m/0d05w3)']\n/film/film/release_date_s./film/film_regional_release_date/film_release_region(/m/03twd6,Y)\n['/film/film/release_date_s./film/film_regional_release_date/film_release_region(A,Y)']\n/film/film/release_date_s./film/film_regional_release_date/film_release_region(/m/03twd6,Y)\n['/film/film/release_date_s./film/film_regional_release_date/film_release_region(/m/0dgpwnk,Y)']\n/film/film/release_date_s./film/film_regional_release_date/film_release_region(X,/m/06f32)\n['/film/film/release_date_s./film/film_regional_release_date/film_release_region(X,A)']\n/film/film/release_date_s./film/film_regional_release_date/film_release_region(X,/m/06f32)\n['/film/film/release_date_s./film/film_regional_release_date/film_release_region(X,/m/09pmkv)']\n/film/film/release_date_s./film/film_regional_release_date/film_release_region(X,/m/0d0vqn)\n['/film/film/release_date_s./film/film_regional_release_date/film_release_region(X,/m/0jgd)']\n/film/film/release_date_s./film/film_regional_release_date/film_release_region(X,/m/0d0vqn)\n['/film/film/release_date_s./film/film_regional_release_date/film_release_region(X,A)']\n/location/administrative_division/first_level_division_of(X,Y)\n['/base/aareas/schema/administrative_area/administrative_parent(X,Y)']\n/music/artist/track_contributions./music/track_contribution/role(/m/023slg,Y)\n['/music/performance_role/track_performances./music/track_contribution/role(A,Y)']\n/music/artist/track_contributions./music/track_contribution/role(/m/023slg,Y)\n['/music/performance_role/track_performances./music/track_contribution/role(/m/07y_7,Y)']\n/olympics/olympic_sport/athletes./olympics/olympic_athlete_affiliation/country(/m/0486tv,Y)\n['/language/human_language/countries_spoken_in(A,Y)']\n/soccer/football_team/current_roster./soccer/football_roster_position/position(X,/m/02_j1w)\n['/soccer/football_team/current_roster./sports/sports_team_roster/position(X,A)']\n/soccer/football_team/current_roster./soccer/football_roster_position/position(X,/m/02_j1w)\n['/soccer/football_team/current_roster./sports/sports_team_roster/position(X,/m/02sdk9v)']\n/soccer/football_team/current_roster./soccer/football_roster_position/position(X,/m/02_j1w)\n['/soccer/football_team/current_roster./sports/sports_team_roster/position(X,/m/02_j1w)']\n/olympics/olympic_sport/athletes./olympics/olympic_athlete_affiliation/country(/m/06z6r,Y)\n['/olympics/olympic_sport/athletes./olympics/olympic_athlete_affiliation/country(A,Y)']\n/olympics/olympic_sport/athletes./olympics/olympic_athlete_affiliation/country(/m/06z6r,Y)\n['/olympics/olympic_sport/athletes./olympics/olympic_athlete_affiliation/country(/m/0486tv,Y)']\n/military/military_combatant/military_conflicts./military/military_combatant_group/combatants(/m/05qhw,Y)\n['/film/film/release_date_s./film/film_regional_release_date/film_release_region(/m/02x6dqb,Y)']\n/military/military_combatant/military_conflicts./military/military_combatant_group/combatants(/m/05qhw,Y)\n['/film/film/release_date_s./film/film_regional_release_date/film_release_region(A,Y)']\n/olympics/olympic_participating_country/medals_won./olympics/olympic_medal_honor/medal(X,/m/02lpp7)\n['/location/location/contains(X,A)']\n/film/film/production_companies(X,/m/086k8)\n['/film/film/runtime./film/film_cut/film_release_region(X,A)']\n/music/performance_role/regular_performances./music/group_membership/group(/m/05r5c,Y)\n['/music/genre/artists(/m/06by7,Y)']\n/music/performance_role/track_performances./music/track_contribution/role(/m/07y_7,Y)\n['/music/performance_role/track_performances./music/track_contribution/role(/m/018vs,Y)']\n/music/performance_role/track_performances./music/track_contribution/role(/m/07y_7,Y)\n['/music/performance_role/track_performances./music/track_contribution/role(A,Y)']\n/film/director/film(X,Y)\n['/award/award_nominee/award_nominations./award/award_nomination/nominated_for(X,Y)']\n/award/award_winner/awards_won./award/award_honor/award_winner(/m/01wb8bs,Y)\n['/award/award_winner/awards_won./award/award_honor/award_winner(/m/0308kx,Y)']\n/award/award_category/winners./award/award_honor/ceremony(/m/01c9dd,Y)\n['/award/award_category/winners./award/award_honor/ceremony(/m/024fxq,Y)']\n/award/award_category/winners./award/award_honor/ceremony(/m/01c9dd,Y)\n['/award/award_category/winners./award/award_honor/ceremony(A,Y)']\n/music/performance_role/regular_performances./music/group_membership/group(X,/m/0bpk2)\n['/music/instrument/instrumentalists(X,A)']\n/music/instrument/instrumentalists(X,/m/0161sp)\n['/music/performance_role/regular_performances./music/group_membership/role(X,A)']\n/music/instrument/instrumentalists(X,/m/0161sp)\n['/music/performance_role/regular_performances./music/group_membership/role(X,/m/01hww_)']\n/award/award_nominee/award_nominations./award/award_nomination/nominated_for(X,Y)\n['/film/film_distributor/films_distributed./film/film_film_distributor_relationship/film(X,Y)']\n/film/film/release_date_s./film/film_regional_release_date/film_release_region(X,/m/06qd3)\n['/film/film/release_date_s./film/film_regional_release_date/film_release_region(X,A)']\n/film/film/release_date_s./film/film_regional_release_date/film_release_region(X,/m/06qd3)\n['/film/film/release_date_s./film/film_regional_release_date/film_release_region(X,/m/05v10)']\n/people/person/profession(X,/m/0np9r)\n['/award/award_nominee/award_nominations./award/award_nomination/award(X,A)']\n/people/person/profession(X,/m/0np9r)\n['/award/award_nominee/award_nominations./award/award_nomination/award(X,/m/0bp_b2)']\n/music/group_member/membership./music/group_membership/role(X,/m/0l14md)\n['/music/artist/track_contributions./music/track_contribution/role(X,A)']\n/award/award_nominee/award_nominations./award/award_nomination/nominated_for(X,Y)\n['/tv/tv_producer/programs_produced./tv/tv_producer_term/program(X,Y)']\n/music/genre/artists(/m/05r6t,Y)\n['/music/record_label/artist(A,Y)']\n/people/person/places_lived./people/place_lived/location(X,/m/030qb3t)\n['/award/award_nominee/award_nominations./award/award_nomination/award(X,A)']\n/government/legislative_session/members./government/government_position_held/district_represented(/m/02bp37,Y)\n['/government/legislative_session/members./government/government_position_held/district_represented(/m/024tcq,Y)']\n/government/legislative_session/members./government/government_position_held/district_represented(/m/02bp37,Y)\n['/government/legislative_session/members./government/government_position_held/district_represented(A,Y)']\n/award/award_nominee/award_nominations./award/award_nomination/award_nominee(/m/0cms7f,Y)\n['/award/award_nominee/award_nominations./award/award_nomination/award_nominee(/m/0cmt6q,Y)']\n/film/film/country(X,Y)\n['/film/film/distributors./film/film_film_distributor_relationship/region(X,Y)']\n/location/hud_foreclosure_area/estimated_number_of_mortgages./measurement_unit/dated_integer/source(X,/m/0jbk9)\n['/common/topic/webpage./common/webpage/category(X,/m/08mbj5d)']\n/location/hud_foreclosure_area/estimated_number_of_mortgages./measurement_unit/dated_integer/source(X,/m/0jbk9)\n['/common/topic/webpage./common/webpage/category(X,A)']\n/award/hall_of_fame/inductees./award/hall_of_fame_induction/inductee(/m/0g2c8,Y)\n['/music/genre/artists(A,Y)']\n/award/hall_of_fame/inductees./award/hall_of_fame_induction/inductee(/m/0g2c8,Y)\n['/music/genre/artists(/m/05w3f,Y)']\n/award/award_winning_work/awards_won./award/award_honor/award(X,/m/0gq9h)\n['/award/award_winning_work/awards_won./award/award_honor/award(X,A)']\n/business/business_operation/operating_income./measurement_unit/dated_money_value/currency(X,Y)\n['/business/business_operation/revenue./measurement_unit/dated_money_value/currency(X,Y)']\n/film/film/release_date_s./film/film_regional_release_date/film_release_region(X,/m/03rt9)\n['/film/film/production_companies(X,A)']\n/film/film/release_date_s./film/film_regional_release_date/film_release_region(/m/03np63f,Y)\n['/base/biblioness/bibs_location/country(A,Y)']\n/base/schemastaging/person_extra/net_worth./measurement_unit/dated_money_value/currency(X,/m/09nqf)\n['/music/artist/track_contributions./music/track_contribution/role(X,A)']\n/film/film/release_date_s./film/film_regional_release_date/film_release_region(/m/0h1cdwq,Y)\n['/film/film/release_date_s./film/film_regional_release_date/film_release_region(/m/0crc2cp,Y)']\n/film/film/estimated_budget./measurement_unit/dated_money_value/currency(X,/m/09nqf)\n['/film/film/language(X,A)']\n/award/award_winner/awards_won./award/award_honor/award_winner(/m/06czyr,Y)\n['/award/award_winner/awards_won./award/award_honor/award_winner(/m/09f0bj,Y)']\n/film/film/estimated_budget./measurement_unit/dated_money_value/currency(X,/m/09nqf)\n['/film/film/language(X,/m/02h40lc)']\n/film/film/featured_film_locations(X,/m/030qb3t)\n['/film/film/genre(X,/m/01jfsb)']\n/film/film/release_date_s./film/film_regional_release_date/film_release_region(X,/m/09c7w0)\n['/film/film/country(X,A)']\n/location/capital_of_administrative_division/capital_of./location/administrative_division_capital_relationship/administrative_division(X,Y)\n['/location/hud_county_place/county(X,Y)']\n/film/film/release_date_s./film/film_regional_release_date/film_release_region(X,/m/09c7w0)\n['/film/film/country(X,/m/0345h)']\n/olympics/olympic_participating_country/athletes./olympics/olympic_athlete_affiliation/olympics(/m/0f8l9c,Y)\n['/olympics/olympic_sport/athletes./olympics/olympic_athlete_affiliation/olympics(/m/06z6r,Y)']\n/olympics/olympic_participating_country/athletes./olympics/olympic_athlete_affiliation/olympics(/m/0f8l9c,Y)\n['/olympics/olympic_sport/athletes./olympics/olympic_athlete_affiliation/olympics(A,Y)']\n/film/film/release_date_s./film/film_regional_release_date/film_release_region(X,/m/03spz)\n['/film/film/release_date_s./film/film_regional_release_date/film_release_region(X,/m/03h64)']\n/film/film/release_date_s./film/film_regional_release_date/film_release_region(X,/m/03spz)\n['/film/film/release_date_s./film/film_regional_release_date/film_release_region(X,A)']\n/people/ethnicity/people(/m/02w7gg,Y)\n['/award/award_nominee/award_nominations./award/award_nomination/award_nominee(A,Y)']\n/film/film/release_date_s./film/film_regional_release_date/film_release_region(X,/m/015qh)\n['/film/film/release_date_s./film/film_regional_release_date/film_release_region(X,/m/06bnz)']\n/film/film/release_date_s./film/film_regional_release_date/film_release_region(X,/m/015qh)\n['/film/film/release_date_s./film/film_regional_release_date/film_release_region(X,A)']\n/people/ethnicity/people(/m/02w7gg,Y)\n['/award/award_nominee/award_nominations./award/award_nomination/award_nominee(/m/0djywgn,Y)']\n/people/person/place_of_birth(X,Y)\n['/people/person/places_lived./people/place_lived/location(X,Y)']\n/dataworld/gardening_hint/split_to(X,Y)\n['/music/instrument/family(X,Y)']\n/base/aareas/schema/administrative_area/administrative_parent(X,Y)\n['/location/capital_of_administrative_division/capital_of./location/administrative_division_capital_relationship/administrative_division(X,Y)']\n/film/film/release_date_s./film/film_regional_release_date/film_release_region(X,/m/03gj2)\n['/film/film/estimated_budget./measurement_unit/dated_money_value/currency(X,/m/09nqf)']\n/film/film/release_date_s./film/film_regional_release_date/film_release_region(X,/m/03gj2)\n['/film/film/estimated_budget./measurement_unit/dated_money_value/currency(X,A)']\n/people/person/gender(X,/m/02zsn)\n['/people/person/place_of_birth(X,A)']\n/film/film/release_date_s./film/film_regional_release_date/film_release_distribution_medium(X,/m/029j_)\n['/award/award_winning_work/awards_won./award/award_honor/award(X,/m/04kxsb)']\n/film/film/release_date_s./film/film_regional_release_date/film_release_distribution_medium(X,/m/029j_)\n['/award/award_winning_work/awards_won./award/award_honor/award(X,A)']\n/sports/sports_team/roster./american_football/football_roster_position/position(/m/043vc,Y)\n['/sports/sports_team/roster./american_football/football_roster_position/position(A,Y)']\n/sports/sports_team/roster./american_football/football_roster_position/position(/m/043vc,Y)\n['/sports/sports_team/roster./american_football/football_roster_position/position(/m/057xlyq,Y)']\n/film/film/release_date_s./film/film_regional_release_date/film_release_distribution_medium(X,/m/029j_)\n['/award/award_winning_work/awards_won./award/award_honor/award(X,/m/0gr51)']\n/music/performance_role/regular_performances./music/group_membership/role(/m/02k856,Y)\n['/music/performance_role/track_performances./music/track_contribution/role(/m/02sgy,Y)']\n/music/performance_role/regular_performances./music/group_membership/role(/m/02k856,Y)\n['/music/performance_role/track_performances./music/track_contribution/role(A,Y)']\n/music/record_label/artist(/m/011k1h,Y)\n['/music/record_label/artist(A,Y)']\n/music/record_label/artist(/m/011k1h,Y)\n['/music/record_label/artist(/m/017l96,Y)']\n/location/statistical_region/gdp_nominal./measurement_unit/dated_money_value/currency(X,Y)\n['/location/statistical_region/gdp_nominal_per_capita./measurement_unit/dated_money_value/currency(X,Y)']\n/film/film/release_date_s./film/film_regional_release_date/film_release_region(X,/m/03rjj)\n['/award/award_winning_work/awards_won./award/award_honor/award(X,A)']\n/location/location/contains(/m/09c7w0,Y)\n['/location/location/adjoin_s./location/adjoining_relationship/adjoins(A,Y)']\n/award/award_nominee/award_nominations./award/award_nomination/award(/m/0c6qh,Y)\n['/award/award_nominee/award_nominations./award/award_nomination/award(/m/0blq0z,Y)']\n"
    }
   ],
   "source": [
    "for r in all_rules:\n",
    "    print(r.head)\n",
    "    print([str(t) for t in r.body])"
   ]
  },
  {
   "cell_type": "markdown",
   "metadata": {},
   "source": [
    "## Test ScoreTree"
   ]
  },
  {
   "cell_type": "code",
   "execution_count": 1,
   "metadata": {},
   "outputs": [],
   "source": [
    "from structure.score_tree import ScoreTree\n",
    "\n",
    "tree = ScoreTree()"
   ]
  },
  {
   "cell_type": "code",
   "execution_count": 2,
   "metadata": {
    "tags": []
   },
   "outputs": [],
   "source": [
    "s1 = set(['a', 'b', 'c', 'd', 'd1', 'd2'])\n",
    "tree.add_values(0.9, s1)"
   ]
  },
  {
   "cell_type": "code",
   "execution_count": 3,
   "metadata": {
    "tags": []
   },
   "outputs": [
    {
     "output_type": "stream",
     "name": "stdout",
     "text": "0.0 [0](6) -> {   }\n     0.9 [6](6) -> { c d a d1 d2 b }\n\nprecise enough False\nfirst unique False\n"
    }
   ],
   "source": [
    "print(tree)\n",
    "print('precise enough',tree.fine())\n",
    "print('first unique',tree.is_first_unique())"
   ]
  },
  {
   "cell_type": "code",
   "execution_count": 4,
   "metadata": {
    "tags": []
   },
   "outputs": [
    {
     "output_type": "stream",
     "name": "stdout",
     "text": "0.0 [0](8) -> {   }\n     0.9 [6](6) -> { c d a d1 d2 b }\n     0.8999 [8](2) -> { bbb aaa }\n\nprecise enough False\nfirst unique False\n"
    }
   ],
   "source": [
    "s11=set(['aaa', 'bbb'])\n",
    "tree.add_values(0.8999, s11)\n",
    "print(tree)\n",
    "print('precise enough',tree.fine())\n",
    "print('first unique',tree.is_first_unique())"
   ]
  },
  {
   "cell_type": "code",
   "execution_count": 5,
   "metadata": {
    "tags": []
   },
   "outputs": [
    {
     "output_type": "stream",
     "name": "stdout",
     "text": "0.0 [0](8) -> {   }\n     0.9 [6](6) -> { d2 c d d1 }\n         0.8999 [2](2) -> { b a }\n     0.8999 [8](2) -> { bbb aaa }\n\nprecise enough False\nfirst unique False\n"
    }
   ],
   "source": [
    "s12 = set(['a', 'b'])\n",
    "tree.add_values(0.8999, s12)\n",
    "print(tree)\n",
    "print('precise enough',tree.fine())\n",
    "print('first unique',tree.is_first_unique())"
   ]
  },
  {
   "cell_type": "code",
   "execution_count": 6,
   "metadata": {
    "tags": []
   },
   "outputs": [
    {
     "output_type": "stream",
     "name": "stdout",
     "text": "0.0 [0](12) -> {   }\n     0.9 [6](6) -> { d2 c d d1 }\n         0.8999 [2](2) -> { b a }\n     0.8999 [8](2) -> { bbb aaa }\n     0.88 [12](4) -> { e3 e4 e2 e1 }\n\nprecise enough False\nfirst unique False\n"
    }
   ],
   "source": [
    "s2 = set(['a', 'b', 'e1', 'e2', 'e3', 'e4'])\n",
    "tree.add_values(0.88, s2)\n",
    "print(tree)\n",
    "print('precise enough',tree.fine())\n",
    "print('first unique',tree.is_first_unique())"
   ]
  },
  {
   "cell_type": "code",
   "execution_count": 7,
   "metadata": {
    "tags": []
   },
   "outputs": [
    {
     "output_type": "stream",
     "name": "stdout",
     "text": "0.0 [0](12) -> {   }\n     0.9 [6](6) -> { d2 c d d1 }\n        X 0.8999 [2](2) -> { b }\n            X 0.6 [1](1) -> { a }\n     0.8999 [8](2) -> { bbb aaa }\n     0.88 [10](2) -> { e4 e1 }\n\nprecise enough True\nfirst unique True\n"
    }
   ],
   "source": [
    "s3 = set(['a', 'e1', 'e4'])\n",
    "tree.add_values(0.6, s3)\n",
    "print(tree)\n",
    "print('precise enough',tree.fine())\n",
    "print('first unique',tree.is_first_unique())"
   ]
  },
  {
   "cell_type": "code",
   "execution_count": 8,
   "metadata": {
    "tags": []
   },
   "outputs": [
    {
     "output_type": "stream",
     "name": "stdout",
     "text": "0.0 [0](12) -> {   }\n     0.9 [6](6) -> { d2 c d d1 }\n        X 0.8999 [2](2) -> { b }\n            X 0.6 [1](1) -> { a }\n     0.8999 [8](2) -> { bbb aaa }\n     0.88 [10](2) -> { e4 e1 }\n\nprecise enough True\nfirst unique True\n"
    }
   ],
   "source": [
    "s4 = set(['xa', 'xb', 'xe1', 'xe2', 'xe3', 'xe4'])\n",
    "tree.add_values(0.5, s4)\n",
    "print(tree)\n",
    "print('precise enough',tree.fine())\n",
    "print('first unique',tree.is_first_unique())"
   ]
  },
  {
   "cell_type": "code",
   "execution_count": 9,
   "metadata": {
    "tags": []
   },
   "outputs": [
    {
     "output_type": "stream",
     "name": "stdout",
     "text": "0.0 [0](12) -> {   }\n     0.9 [6](6) -> { d2 c d d1 }\n        X 0.8999 [2](2) -> { b }\n            X 0.6 [1](1) -> { a }\n     0.8999 [8](2) -> { bbb aaa }\n     0.88 [10](2) -> { e4 e1 }\n\nprecise enough True\n"
    }
   ],
   "source": [
    "s5 = set(['xa', 'xb', 'ye1', 'ye2', 'ye3', 'ye4'])\n",
    "tree.add_values(0.43, s4)\n",
    "print(tree)\n",
    "print('precise enough',tree.fine())"
   ]
  },
  {
   "cell_type": "code",
   "execution_count": 10,
   "metadata": {
    "tags": []
   },
   "outputs": [
    {
     "output_type": "stream",
     "name": "stdout",
     "text": "0.0 [0](12) -> {   }\n     0.9 [6](6) -> { d2 c d d1 }\n        X 0.8999 [2](2) -> { b }\n            X 0.6 [1](1) -> { a }\n     0.8999 [8](2) -> { bbb aaa }\n     0.88 [10](2) -> { e4 e1 }\n\nprecise enough True\n"
    }
   ],
   "source": [
    "s6 = set(['xe2', 'xa', 'xxx'])\n",
    "tree.add_values(0.39, s6)\n",
    "print(tree)\n",
    "print('precise enough',tree.fine())"
   ]
  },
  {
   "cell_type": "code",
   "execution_count": 11,
   "metadata": {
    "tags": []
   },
   "outputs": [
    {
     "output_type": "stream",
     "name": "stdout",
     "text": "0.0 [0](12) -> {   }\n     0.9 [6](6) -> { d2 c d d1 }\n        X 0.8999 [2](2) -> { b }\n            X 0.6 [1](1) -> { a }\n     0.8999 [8](2) -> { bbb aaa }\n     0.88 [10](2) -> { e4 e1 }\n\nprecise enough True\n"
    }
   ],
   "source": [
    "s7 = set(['xe1', 'xe2'])\n",
    "tree.add_values(0.22, s7)\n",
    "print(tree)\n",
    "print('precise enough',tree.fine())"
   ]
  },
  {
   "cell_type": "code",
   "execution_count": 12,
   "metadata": {
    "tags": []
   },
   "outputs": [
    {
     "output_type": "stream",
     "name": "stdout",
     "text": "0.0 [0](12) -> {   }\n     0.9 [6](6) -> { d2 c d d1 }\n        X 0.8999 [2](2) -> { b }\n            X 0.6 [1](1) -> { a }\n     0.8999 [8](2) -> { bbb aaa }\n     0.88 [10](2) -> { e4 e1 }\n\nprecise enough True\n"
    }
   ],
   "source": [
    "s8 = set(['xe4'])\n",
    "tree.add_values(0.21, s8)\n",
    "print(tree)\n",
    "print('precise enough',tree.fine())"
   ]
  },
  {
   "cell_type": "code",
   "execution_count": 13,
   "metadata": {
    "tags": []
   },
   "outputs": [
    {
     "output_type": "stream",
     "name": "stdout",
     "text": "0.0 [0](12) -> {   }\n     0.9 [6](6) -> { d2 c d d1 }\n        X 0.8999 [2](2) -> { b }\n            X 0.6 [1](1) -> { a }\n     0.8999 [8](2) -> { bbb aaa }\n    X 0.88 [10](2) -> { e4 }\n        X 0.21 [9](1) -> { e1 }\n\nprecise enough True\n"
    }
   ],
   "source": [
    "s9 = set(['e1', 'e2'])\n",
    "tree.add_values(0.21, s9)\n",
    "print(tree)\n",
    "print('precise enough',tree.fine())"
   ]
  },
  {
   "cell_type": "code",
   "execution_count": 14,
   "metadata": {
    "tags": []
   },
   "outputs": [
    {
     "output_type": "stream",
     "name": "stdout",
     "text": "0.0 [0](12) -> {   }\n     0.9 [6](6) -> { d2 c d d1 }\n        X 0.8999 [2](2) -> { b }\n            X 0.6 [1](1) -> { a }\n     0.8999 [8](2) -> { bbb aaa }\n    X 0.88 [10](2) -> { e4 }\n        X 0.21 [9](1) -> { e1 }\n\n"
    }
   ],
   "source": [
    "s19 = set(['u1', 'u2'])\n",
    "tree.add_values(0.19, s9)\n",
    "print(tree)"
   ]
  },
  {
   "cell_type": "code",
   "execution_count": 15,
   "metadata": {},
   "outputs": [
    {
     "output_type": "execute_result",
     "data": {
      "text/plain": "{'a': 0.9000899960000001,\n 'b': 0.90008999,\n 'd2': 0.9,\n 'c': 0.9,\n 'd': 0.9,\n 'd1': 0.9,\n 'bbb': 0.8999,\n 'aaa': 0.8999,\n 'e1': 0.880021,\n 'e4': 0.88}"
     },
     "metadata": {},
     "execution_count": 15
    }
   ],
   "source": [
    "map_get = {}\n",
    "tree.get_as_linked_map(map_get)\n",
    "map_get"
   ]
  },
  {
   "cell_type": "code",
   "execution_count": null,
   "metadata": {},
   "outputs": [],
   "source": []
  }
 ],
 "metadata": {
  "language_info": {
   "codemirror_mode": {
    "name": "ipython",
    "version": 3
   },
   "file_extension": ".py",
   "mimetype": "text/x-python",
   "name": "python",
   "nbconvert_exporter": "python",
   "pygments_lexer": "ipython3",
   "version": "3.7.3-final"
  },
  "orig_nbformat": 2,
  "kernelspec": {
   "name": "python3",
   "display_name": "Python 3"
  }
 },
 "nbformat": 4,
 "nbformat_minor": 2
}