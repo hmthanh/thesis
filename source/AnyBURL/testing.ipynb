{
 "cells": [
  {
   "cell_type": "code",
   "execution_count": 1,
   "metadata": {
    "tags": []
   },
   "outputs": [
    {
     "output_type": "stream",
     "name": "stdout",
     "text": "* set up index for 224 relations, 8171 head entities, and 6376 tail entities\n"
    }
   ],
   "source": [
    "from data.triple_set import TripleSet\n",
    "data = TripleSet()\n",
    "data.read_triples('../../datasets/FB15k-237/test.txt')"
   ]
  },
  {
   "cell_type": "code",
   "execution_count": 2,
   "metadata": {},
   "outputs": [
    {
     "output_type": "execute_result",
     "data": {
      "text/plain": "'/m/08966 /travel/travel_destination/climate./travel/travel_destination_monthly_climate/month /m/05lf_\\n /m/01hww_ /music/performance_role/regular_performances./music/group_membership/group /m/01q99h\\n /m/09v3jyg /film/film/release_date_s./film/film_regional_release_date/film_release_region /m/0f8l9c\\n /m/02jx1 /location/location/contains /m/013t85\\n /m/02jx1 /location/location/contains /m/0m0bj\\n /m/02bfmn /film/actor/film./film/performance/film /m/04ghz4m\\n /m/05zrvfd /award/award_category/nominees./award/award_nomination/nominated_for /m/04y9mm8\\n /m/060bp /government/government_office_category/officeholders./government/government_position_held/jurisdiction_of_office /m/04j53\\n /m/07l450 /film/film/genre /m/082gq\\n /m/07h1h5 /sports/pro_athlete/teams./sports/sports_team_roster/team /m/029q3k\\n'"
     },
     "metadata": {},
     "execution_count": 2
    }
   ],
   "source": [
    "' '.join([str(item) for item in data.triples[0:10]])"
   ]
  },
  {
   "cell_type": "markdown",
   "metadata": {},
   "source": [
    "# test path sample"
   ]
  },
  {
   "cell_type": "code",
   "execution_count": 3,
   "metadata": {
    "tags": []
   },
   "outputs": [
    {
     "output_type": "stream",
     "name": "stdout",
     "text": "* set up index for 224 relations, 8171 head entities, and 6376 tail entities\n* read 20466 triples\n"
    }
   ],
   "source": [
    "from data.triple_set import TripleSet\n",
    "data = TripleSet()\n",
    "data.read_triples('../../datasets/FB15k-237/test.txt')\n",
    "print('* read {} triples'.format(len(data.triples)))"
   ]
  },
  {
   "cell_type": "code",
   "execution_count": 4,
   "metadata": {},
   "outputs": [],
   "source": [
    "from algorithm.path_sampler import PathSampler\n",
    "ps = PathSampler(data)"
   ]
  },
  {
   "cell_type": "code",
   "execution_count": 6,
   "metadata": {
    "tags": []
   },
   "outputs": [
    {
     "output_type": "stream",
     "name": "stdout",
     "text": "/m/0h7pj->+/film/actor/film./film/performance/film->/m/0gffmn8\n->-/film/actor/film./film/performance/film->/m/0h7pj\n\n\n\n\n/m/01qg7c->+/people/person/profession->/m/02jknp\n->-/people/person/profession->/m/01qg7c\n\n\n\n\n/m/02tz9z->+/education/educational_institution/colors->/m/01g5v\n->-/education/educational_institution/colors->/m/02tz9z\n\n\n\n\n/m/01yfp7->+/base/schemastaging/organization_extra/phone_number./base/schemastaging/phone_sandbox/service_language->/m/02h40lc\n->-/base/schemastaging/organization_extra/phone_number./base/schemastaging/phone_sandbox/service_language->/m/01yfp7\n\n\n\n\n/m/0456zg->+/film/film/music->/m/03kwtb\n->-/film/film/music->/m/0456zg\n\n\n\n\n/m/02qyntr->+/award/award_category/nominees./award/award_nomination/nominated_for->/m/0bth54\n->-/award/award_category/nominees./award/award_nomination/nominated_for->/m/02qyntr\n\n\n\n\n/m/02jknp\n->-/people/person/profession->/m/01q9b9->+/people/person/profession->/m/02jknp\n\n\n\n\n\n/m/02rdyk7\n->-/award/award_nominee/award_nominations./award/award_nomination/award->/m/02kxbwx->+/award/award_nominee/award_nominations./award/award_nomination/award->/m/02rdyk7\n\n\n\n\n\n/m/01s0_f->+/education/educational_institution/students_graduates./education/education/student->/m/046m59\n->-/education/educational_institution/students_graduates./education/education/student->/m/01s0_f\n\n\n\n\n"
    }
   ],
   "source": [
    "some_pathes = set([])\n",
    "for i in range(1000):\n",
    "    p = ps.sample_path(2, True)\n",
    "    if i % 50 == 0 and p is not None:\n",
    "        print(p)\n",
    "        print(\"\\n\\n\\n\")\n",
    "    if p is not None: ###p.isValid()) {\n",
    "        some_pathes.add(p)"
   ]
  },
  {
   "cell_type": "code",
   "execution_count": 1,
   "metadata": {
    "tags": []
   },
   "outputs": [
    {
     "output_type": "stream",
     "name": "stdout",
     "text": "* set up index for 224 relations, 8171 head entities, and 6376 tail entities\n"
    }
   ],
   "source": [
    "from learn import Learn\n",
    "learning = Learn()"
   ]
  },
  {
   "cell_type": "code",
   "execution_count": 2,
   "metadata": {
    "tags": [
     "outputPrepend"
    ]
   },
   "outputs": [
    {
     "output_type": "stream",
     "name": "stdout",
     "text": "_start_time 1594479149.649479 > ConfigParameters.batch_time 50 False\ncurrent_time=1594479186.4759705 - batch_start_time 1594479149.649479 > ConfigParameters.batch_time 50 False\ncurrent_time=1594479186.4760144 - batch_start_time 1594479149.649479 > ConfigParameters.batch_time 50 False\ncurrent_time=1594479186.476052 - batch_start_time 1594479149.649479 > ConfigParameters.batch_time 50 False\ncurrent_time=1594479186.4760804 - batch_start_time 1594479149.649479 > ConfigParameters.batch_time 50 False\ncurrent_time=1594479186.476786 - batch_start_time 1594479149.649479 > ConfigParameters.batch_time 50 False\ncurrent_time=1594479186.4768114 - batch_start_time 1594479149.649479 > ConfigParameters.batch_time 50 False\ncurrent_time=1594479186.476846 - batch_start_time 1594479149.649479 > ConfigParameters.batch_time 50 False\ncurrent_time=1594479186.4768796 - batch_start_time 1594479149.649479 > ConfigParameters.batch_time 50 False\ncurrent_time=1594479186.5320005 - batch_start_time 1594479149.649479 > ConfigParameters.batch_time 50 False\ncurrent_time=1594479186.5330331 - batch_start_time 1594479149.649479 > ConfigParameters.batch_time 50 False\ncurrent_time=1594479186.5330873 - batch_start_time 1594479149.649479 > ConfigParameters.batch_time 50 False\ncurrent_time=1594479187.2172163 - batch_start_time 1594479149.649479 > ConfigParameters.batch_time 50 False\ncurrent_time=1594479187.2173457 - batch_start_time 1594479149.649479 > ConfigParameters.batch_time 50 False\ncurrent_time=1594479187.2173994 - batch_start_time 1594479149.649479 > ConfigParameters.batch_time 50 False\ncurrent_time=1594479187.2174342 - batch_start_time 1594479149.649479 > ConfigParameters.batch_time 50 False\ncurrent_time=1594479187.2379727 - batch_start_time 1594479149.649479 > ConfigParameters.batch_time 50 False\ncurrent_time=1594479187.2386556 - batch_start_time 1594479149.649479 > ConfigParameters.batch_time 50 False\ncurrent_time=1594479187.9493163 - batch_start_time 1594479149.649479 > ConfigParameters.batch_time 50 False\ncurrent_time=1594479187.9495387 - batch_start_time 1594479149.649479 > ConfigParameters.batch_time 50 False\ncurrent_time=1594479187.9495857 - batch_start_time 1594479149.649479 > ConfigParameters.batch_time 50 False\ncurrent_time=1594479187.9543042 - batch_start_time 1594479149.649479 > ConfigParameters.batch_time 50 False\ncurrent_time=1594479187.9772844 - batch_start_time 1594479149.649479 > ConfigParameters.batch_time 50 False\ncurrent_time=1594479188.0025835 - batch_start_time 1594479149.649479 > ConfigParameters.batch_time 50 False\ncurrent_time=1594479188.00277 - batch_start_time 1594479149.649479 > ConfigParameters.batch_time 50 False\ncurrent_time=1594479188.6718938 - batch_start_time 1594479149.649479 > ConfigParameters.batch_time 50 False\ncurrent_time=1594479188.672008 - batch_start_time 1594479149.649479 > ConfigParameters.batch_time 50 False\ncurrent_time=1594479188.6720483 - batch_start_time 1594479149.649479 > ConfigParameters.batch_time 50 False\ncurrent_time=1594479188.6720872 - batch_start_time 1594479149.649479 > ConfigParameters.batch_time 50 False\ncurrent_time=1594479188.6722836 - batch_start_time 1594479149.649479 > ConfigParameters.batch_time 50 False\ncurrent_time=1594479188.6723135 - batch_start_time 1594479149.649479 > ConfigParameters.batch_time 50 False\ncurrent_time=1594479188.688432 - batch_start_time 1594479149.649479 > ConfigParameters.batch_time 50 False\ncurrent_time=1594479188.6885543 - batch_start_time 1594479149.649479 > ConfigParameters.batch_time 50 False\ncurrent_time=1594479188.6886015 - batch_start_time 1594479149.649479 > ConfigParameters.batch_time 50 False\ncurrent_time=1594479188.6888528 - batch_start_time 1594479149.649479 > ConfigParameters.batch_time 50 False\ncurrent_time=1594479188.6889014 - batch_start_time 1594479149.649479 > ConfigParameters.batch_time 50 False\ncurrent_time=1594479188.6889331 - batch_start_time 1594479149.649479 > ConfigParameters.batch_time 50 False\ncurrent_time=1594479188.6963317 - batch_start_time 1594479149.649479 > ConfigParameters.batch_time 50 False\ncurrent_time=1594479188.6965904 - batch_start_time 1594479149.649479 > ConfigParameters.batch_time 50 False\ncurrent_time=1594479188.6966665 - batch_start_time 1594479149.649479 > ConfigParameters.batch_time 50 False\ncurrent_time=1594479189.4038384 - batch_start_time 1594479149.649479 > ConfigParameters.batch_time 50 False\ncurrent_time=1594479189.832984 - batch_start_time 1594479149.649479 > ConfigParameters.batch_time 50 False\ncurrent_time=1594479190.5103 - batch_start_time 1594479149.649479 > ConfigParameters.batch_time 50 False\ncurrent_time=1594479191.2042005 - batch_start_time 1594479149.649479 > ConfigParameters.batch_time 50 False\ncurrent_time=1594479191.2043166 - batch_start_time 1594479149.649479 > ConfigParameters.batch_time 50 False\ncurrent_time=1594479191.2043595 - batch_start_time 1594479149.649479 > ConfigParameters.batch_time 50 False\ncurrent_time=1594479191.2044086 - batch_start_time 1594479149.649479 > ConfigParameters.batch_time 50 False\ncurrent_time=1594479191.2044458 - batch_start_time 1594479149.649479 > ConfigParameters.batch_time 50 False\ncurrent_time=1594479191.2044854 - batch_start_time 1594479149.649479 > ConfigParameters.batch_time 50 False\ncurrent_time=1594479191.2585442 - batch_start_time 1594479149.649479 > ConfigParameters.batch_time 50 False\ncurrent_time=1594479191.2777486 - batch_start_time 1594479149.649479 > ConfigParameters.batch_time 50 False\ncurrent_time=1594479191.2779188 - batch_start_time 1594479149.649479 > ConfigParameters.batch_time 50 False\ncurrent_time=1594479191.2898939 - batch_start_time 1594479149.649479 > ConfigParameters.batch_time 50 False\ncurrent_time=1594479191.2899766 - batch_start_time 1594479149.649479 > ConfigParameters.batch_time 50 False\ncurrent_time=1594479191.2900174 - batch_start_time 1594479149.649479 > ConfigParameters.batch_time 50 False\ncurrent_time=1594479191.2900567 - batch_start_time 1594479149.649479 > ConfigParameters.batch_time 50 False\ncurrent_time=1594479191.2900944 - batch_start_time 1594479149.649479 > ConfigParameters.batch_time 50 False\ncurrent_time=1594479191.2901225 - batch_start_time 1594479149.649479 > ConfigParameters.batch_time 50 False\ncurrent_time=1594479191.290152 - batch_start_time 1594479149.649479 > ConfigParameters.batch_time 50 False\ncurrent_time=1594479191.290188 - batch_start_time 1594479149.649479 > ConfigParameters.batch_time 50 False\ncurrent_time=1594479192.1877286 - batch_start_time 1594479149.649479 > ConfigParameters.batch_time 50 False\ncurrent_time=1594479192.2100394 - batch_start_time 1594479149.649479 > ConfigParameters.batch_time 50 False\ncurrent_time=1594479192.210165 - batch_start_time 1594479149.649479 > ConfigParameters.batch_time 50 False\ncurrent_time=1594479192.2461426 - batch_start_time 1594479149.649479 > ConfigParameters.batch_time 50 False\ncurrent_time=1594479192.3211467 - batch_start_time 1594479149.649479 > ConfigParameters.batch_time 50 False\ncurrent_time=1594479192.3212903 - batch_start_time 1594479149.649479 > ConfigParameters.batch_time 50 False\ncurrent_time=1594479192.3213482 - batch_start_time 1594479149.649479 > ConfigParameters.batch_time 50 False\ncurrent_time=1594479192.3214002 - batch_start_time 1594479149.649479 > ConfigParameters.batch_time 50 False\ncurrent_time=1594479192.3298743 - batch_start_time 1594479149.649479 > ConfigParameters.batch_time 50 False\ncurrent_time=1594479192.330388 - batch_start_time 1594479149.649479 > ConfigParameters.batch_time 50 False\ncurrent_time=1594479192.3307998 - batch_start_time 1594479149.649479 > ConfigParameters.batch_time 50 False\ncurrent_time=1594479192.5855405 - batch_start_time 1594479149.649479 > ConfigParameters.batch_time 50 False\ncurrent_time=1594479192.5856724 - batch_start_time 1594479149.649479 > ConfigParameters.batch_time 50 False\ncurrent_time=1594479192.5857081 - batch_start_time 1594479149.649479 > ConfigParameters.batch_time 50 False\ncurrent_time=1594479192.585747 - batch_start_time 1594479149.649479 > ConfigParameters.batch_time 50 False\ncurrent_time=1594479192.5891635 - batch_start_time 1594479149.649479 > ConfigParameters.batch_time 50 False\ncurrent_time=1594479192.58998 - batch_start_time 1594479149.649479 > ConfigParameters.batch_time 50 False\ncurrent_time=1594479192.5908487 - batch_start_time 1594479149.649479 > ConfigParameters.batch_time 50 False\ncurrent_time=1594479192.591256 - batch_start_time 1594479149.649479 > ConfigParameters.batch_time 50 False\ncurrent_time=1594479192.5912929 - batch_start_time 1594479149.649479 > ConfigParameters.batch_time 50 False\ncurrent_time=1594479192.6013622 - batch_start_time 1594479149.649479 > ConfigParameters.batch_time 50 False\ncurrent_time=1594479192.6015043 - batch_start_time 1594479149.649479 > ConfigParameters.batch_time 50 False\ncurrent_time=1594479192.6274629 - batch_start_time 1594479149.649479 > ConfigParameters.batch_time 50 False\ncurrent_time=1594479192.6291056 - batch_start_time 1594479149.649479 > ConfigParameters.batch_time 50 False\ncurrent_time=1594479192.629264 - batch_start_time 1594479149.649479 > ConfigParameters.batch_time 50 False\ncurrent_time=1594479192.7177684 - batch_start_time 1594479149.649479 > ConfigParameters.batch_time 50 False\ncurrent_time=1594479192.7181437 - batch_start_time 1594479149.649479 > ConfigParameters.batch_time 50 False\ncurrent_time=1594479192.7905078 - batch_start_time 1594479149.649479 > ConfigParameters.batch_time 50 False\ncurrent_time=1594479192.7907171 - batch_start_time 1594479149.649479 > ConfigParameters.batch_time 50 False\ncurrent_time=1594479192.823527 - batch_start_time 1594479149.649479 > ConfigParameters.batch_time 50 False\ncurrent_time=1594479192.8236418 - batch_start_time 1594479149.649479 > ConfigParameters.batch_time 50 False\ncurrent_time=1594479192.8236866 - batch_start_time 1594479149.649479 > ConfigParameters.batch_time 50 False\ncurrent_time=1594479192.823725 - batch_start_time 1594479149.649479 > ConfigParameters.batch_time 50 False\ncurrent_time=1594479192.82376 - batch_start_time 1594479149.649479 > ConfigParameters.batch_time 50 False\ncurrent_time=1594479192.8237956 - batch_start_time 1594479149.649479 > ConfigParameters.batch_time 50 False\ncurrent_time=1594479192.8238308 - batch_start_time 1594479149.649479 > ConfigParameters.batch_time 50 False\ncurrent_time=1594479192.8345926 - batch_start_time 1594479149.649479 > ConfigParameters.batch_time 50 False\ncurrent_time=1594479192.865026 - batch_start_time 1594479149.649479 > ConfigParameters.batch_time 50 False\ncurrent_time=1594479192.8729951 - batch_start_time 1594479149.649479 > ConfigParameters.batch_time 50 False\ncurrent_time=1594479193.1195393 - batch_start_time 1594479149.649479 > ConfigParameters.batch_time 50 False\ncurrent_time=1594479193.1196654 - batch_start_time 1594479149.649479 > ConfigParameters.batch_time 50 False\ncurrent_time=1594479193.1200662 - batch_start_time 1594479149.649479 > ConfigParameters.batch_time 50 False\ncurrent_time=1594479193.1201072 - batch_start_time 1594479149.649479 > ConfigParameters.batch_time 50 False\ncurrent_time=1594479193.1201382 - batch_start_time 1594479149.649479 > ConfigParameters.batch_time 50 False\ncurrent_time=1594479193.2158718 - batch_start_time 1594479149.649479 > ConfigParameters.batch_time 50 False\ncurrent_time=1594479193.4074068 - batch_start_time 1594479149.649479 > ConfigParameters.batch_time 50 False\ncurrent_time=1594479193.4228415 - batch_start_time 1594479149.649479 > ConfigParameters.batch_time 50 False\ncurrent_time=1594479193.6798234 - batch_start_time 1594479149.649479 > ConfigParameters.batch_time 50 False\ncurrent_time=1594479193.6801116 - batch_start_time 1594479149.649479 > ConfigParameters.batch_time 50 False\ncurrent_time=1594479193.6801877 - batch_start_time 1594479149.649479 > ConfigParameters.batch_time 50 False\ncurrent_time=1594479194.1157238 - batch_start_time 1594479149.649479 > ConfigParameters.batch_time 50 False\ncurrent_time=1594479194.3233202 - batch_start_time 1594479149.649479 > ConfigParameters.batch_time 50 False\ncurrent_time=1594479195.0210009 - batch_start_time 1594479149.649479 > ConfigParameters.batch_time 50 False\ncurrent_time=1594479195.025582 - batch_start_time 1594479149.649479 > ConfigParameters.batch_time 50 False\ncurrent_time=1594479195.0342653 - batch_start_time 1594479149.649479 > ConfigParameters.batch_time 50 False\ncurrent_time=1594479195.034594 - batch_start_time 1594479149.649479 > ConfigParameters.batch_time 50 False\ncurrent_time=1594479195.7219772 - batch_start_time 1594479149.649479 > ConfigParameters.batch_time 50 False\ncurrent_time=1594479195.7220874 - batch_start_time 1594479149.649479 > ConfigParameters.batch_time 50 False\ncurrent_time=1594479195.7221284 - batch_start_time 1594479149.649479 > ConfigParameters.batch_time 50 False\ncurrent_time=1594479195.7965689 - batch_start_time 1594479149.649479 > ConfigParameters.batch_time 50 False\ncurrent_time=1594479195.796677 - batch_start_time 1594479149.649479 > ConfigParameters.batch_time 50 False\ncurrent_time=1594479195.7970097 - batch_start_time 1594479149.649479 > ConfigParameters.batch_time 50 False\ncurrent_time=1594479195.7970417 - batch_start_time 1594479149.649479 > ConfigParameters.batch_time 50 False\ncurrent_time=1594479195.7970722 - batch_start_time 1594479149.649479 > ConfigParameters.batch_time 50 False\ncurrent_time=1594479195.7970977 - batch_start_time 1594479149.649479 > ConfigParameters.batch_time 50 False\ncurrent_time=1594479195.7971342 - batch_start_time 1594479149.649479 > ConfigParameters.batch_time 50 False\ncurrent_time=1594479195.797163 - batch_start_time 1594479149.649479 > ConfigParameters.batch_time 50 False\ncurrent_time=1594479195.8174653 - batch_start_time 1594479149.649479 > ConfigParameters.batch_time 50 False\ncurrent_time=1594479195.8195906 - batch_start_time 1594479149.649479 > ConfigParameters.batch_time 50 False\ncurrent_time=1594479195.819673 - batch_start_time 1594479149.649479 > ConfigParameters.batch_time 50 False\ncurrent_time=1594479195.8197145 - batch_start_time 1594479149.649479 > ConfigParameters.batch_time 50 False\ncurrent_time=1594479195.819744 - batch_start_time 1594479149.649479 > ConfigParameters.batch_time 50 False\ncurrent_time=1594479195.8197775 - batch_start_time 1594479149.649479 > ConfigParameters.batch_time 50 False\ncurrent_time=1594479195.8198152 - batch_start_time 1594479149.649479 > ConfigParameters.batch_time 50 False\ncurrent_time=1594479195.8198435 - batch_start_time 1594479149.649479 > ConfigParameters.batch_time 50 False\ncurrent_time=1594479196.013876 - batch_start_time 1594479149.649479 > ConfigParameters.batch_time 50 False\ncurrent_time=1594479196.014012 - batch_start_time 1594479149.649479 > ConfigParameters.batch_time 50 False\ncurrent_time=1594479196.0398183 - batch_start_time 1594479149.649479 > ConfigParameters.batch_time 50 False\ncurrent_time=1594479196.0399218 - batch_start_time 1594479149.649479 > ConfigParameters.batch_time 50 False\ncurrent_time=1594479196.0447443 - batch_start_time 1594479149.649479 > ConfigParameters.batch_time 50 False\ncurrent_time=1594479196.3173506 - batch_start_time 1594479149.649479 > ConfigParameters.batch_time 50 False\ncurrent_time=1594479196.3174686 - batch_start_time 1594479149.649479 > ConfigParameters.batch_time 50 False\ncurrent_time=1594479196.3175113 - batch_start_time 1594479149.649479 > ConfigParameters.batch_time 50 False\ncurrent_time=1594479196.594832 - batch_start_time 1594479149.649479 > ConfigParameters.batch_time 50 False\ncurrent_time=1594479196.5955794 - batch_start_time 1594479149.649479 > ConfigParameters.batch_time 50 False\ncurrent_time=1594479196.5956433 - batch_start_time 1594479149.649479 > ConfigParameters.batch_time 50 False\ncurrent_time=1594479196.6055138 - batch_start_time 1594479149.649479 > ConfigParameters.batch_time 50 False\ncurrent_time=1594479196.605656 - batch_start_time 1594479149.649479 > ConfigParameters.batch_time 50 False\ncurrent_time=1594479196.605716 - batch_start_time 1594479149.649479 > ConfigParameters.batch_time 50 False\ncurrent_time=1594479196.6222622 - batch_start_time 1594479149.649479 > ConfigParameters.batch_time 50 False\ncurrent_time=1594479196.6223786 - batch_start_time 1594479149.649479 > ConfigParameters.batch_time 50 False\ncurrent_time=1594479196.6224158 - batch_start_time 1594479149.649479 > ConfigParameters.batch_time 50 False\ncurrent_time=1594479196.888995 - batch_start_time 1594479149.649479 > ConfigParameters.batch_time 50 False\ncurrent_time=1594479197.7349956 - batch_start_time 1594479149.649479 > ConfigParameters.batch_time 50 False\ncurrent_time=1594479197.73513 - batch_start_time 1594479149.649479 > ConfigParameters.batch_time 50 False\ncurrent_time=1594479198.165286 - batch_start_time 1594479149.649479 > ConfigParameters.batch_time 50 False\ncurrent_time=1594479198.1654623 - batch_start_time 1594479149.649479 > ConfigParameters.batch_time 50 False\ncurrent_time=1594479198.1655006 - batch_start_time 1594479149.649479 > ConfigParameters.batch_time 50 False\ncurrent_time=1594479198.1734235 - batch_start_time 1594479149.649479 > ConfigParameters.batch_time 50 False\ncurrent_time=1594479198.173491 - batch_start_time 1594479149.649479 > ConfigParameters.batch_time 50 False\ncurrent_time=1594479198.1745093 - batch_start_time 1594479149.649479 > ConfigParameters.batch_time 50 False\ncurrent_time=1594479198.174563 - batch_start_time 1594479149.649479 > ConfigParameters.batch_time 50 False\ncurrent_time=1594479198.1745949 - batch_start_time 1594479149.649479 > ConfigParameters.batch_time 50 False\ncurrent_time=1594479198.1746242 - batch_start_time 1594479149.649479 > ConfigParameters.batch_time 50 False\ncurrent_time=1594479198.1746497 - batch_start_time 1594479149.649479 > ConfigParameters.batch_time 50 False\ncurrent_time=1594479198.174687 - batch_start_time 1594479149.649479 > ConfigParameters.batch_time 50 False\ncurrent_time=1594479198.1796339 - batch_start_time 1594479149.649479 > ConfigParameters.batch_time 50 False\ncurrent_time=1594479198.1807425 - batch_start_time 1594479149.649479 > ConfigParameters.batch_time 50 False\ncurrent_time=1594479198.1807845 - batch_start_time 1594479149.649479 > ConfigParameters.batch_time 50 False\ncurrent_time=1594479198.181243 - batch_start_time 1594479149.649479 > ConfigParameters.batch_time 50 False\ncurrent_time=1594479198.1812787 - batch_start_time 1594479149.649479 > ConfigParameters.batch_time 50 False\ncurrent_time=1594479198.8538253 - batch_start_time 1594479149.649479 > ConfigParameters.batch_time 50 False\ncurrent_time=1594479198.9290748 - batch_start_time 1594479149.649479 > ConfigParameters.batch_time 50 False\ncurrent_time=1594479198.9291854 - batch_start_time 1594479149.649479 > ConfigParameters.batch_time 50 False\ncurrent_time=1594479198.9553561 - batch_start_time 1594479149.649479 > ConfigParameters.batch_time 50 False\ncurrent_time=1594479198.956181 - batch_start_time 1594479149.649479 > ConfigParameters.batch_time 50 False\ncurrent_time=1594479198.9562302 - batch_start_time 1594479149.649479 > ConfigParameters.batch_time 50 False\ncurrent_time=1594479198.95627 - batch_start_time 1594479149.649479 > ConfigParameters.batch_time 50 False\ncurrent_time=1594479199.6446018 - batch_start_time 1594479149.649479 > ConfigParameters.batch_time 50 False\ncurrent_time=1594479199.6447277 - batch_start_time 1594479149.649479 > ConfigParameters.batch_time 50 False\ncurrent_time=1594479199.6447656 - batch_start_time 1594479149.649479 > ConfigParameters.batch_time 50 False\ncurrent_time=1594479199.6447933 - batch_start_time 1594479149.649479 > ConfigParameters.batch_time 50 False\ncurrent_time=1594479199.645468 - batch_start_time 1594479149.649479 > ConfigParameters.batch_time 50 False\ncurrent_time=1594479199.6455045 - batch_start_time 1594479149.649479 > ConfigParameters.batch_time 50 False\ncurrent_time=1594479199.6461625 - batch_start_time 1594479149.649479 > ConfigParameters.batch_time 50 False\ncurrent_time=1594479199.6539192 - batch_start_time 1594479149.649479 > ConfigParameters.batch_time 50 True\n"
    }
   ],
   "source": [
    "learning.train()"
   ]
  },
  {
   "cell_type": "code",
   "execution_count": null,
   "metadata": {},
   "outputs": [],
   "source": []
  }
 ],
 "metadata": {
  "language_info": {
   "codemirror_mode": {
    "name": "ipython",
    "version": 3
   },
   "file_extension": ".py",
   "mimetype": "text/x-python",
   "name": "python",
   "nbconvert_exporter": "python",
   "pygments_lexer": "ipython3",
   "version": "3.7.3-final"
  },
  "orig_nbformat": 2,
  "kernelspec": {
   "name": "python3",
   "display_name": "Python 3"
  }
 },
 "nbformat": 4,
 "nbformat_minor": 2
}