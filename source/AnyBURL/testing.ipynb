{
 "cells": [
  {
   "cell_type": "code",
   "execution_count": 1,
   "metadata": {
    "tags": []
   },
   "outputs": [
    {
     "output_type": "stream",
     "name": "stdout",
     "text": "* set up index for 224 relations, 8171 head entities, and 6376 tail entities\n"
    }
   ],
   "source": [
    "from data.triple_set import TripleSet\n",
    "data = TripleSet()\n",
    "data.read_triples('../../datasets/FB15k-237/test.txt')"
   ]
  },
  {
   "cell_type": "code",
   "execution_count": 2,
   "metadata": {},
   "outputs": [
    {
     "output_type": "execute_result",
     "data": {
      "text/plain": "'/m/08966 /travel/travel_destination/climate./travel/travel_destination_monthly_climate/month /m/05lf_\\n /m/01hww_ /music/performance_role/regular_performances./music/group_membership/group /m/01q99h\\n /m/09v3jyg /film/film/release_date_s./film/film_regional_release_date/film_release_region /m/0f8l9c\\n /m/02jx1 /location/location/contains /m/013t85\\n /m/02jx1 /location/location/contains /m/0m0bj\\n /m/02bfmn /film/actor/film./film/performance/film /m/04ghz4m\\n /m/05zrvfd /award/award_category/nominees./award/award_nomination/nominated_for /m/04y9mm8\\n /m/060bp /government/government_office_category/officeholders./government/government_position_held/jurisdiction_of_office /m/04j53\\n /m/07l450 /film/film/genre /m/082gq\\n /m/07h1h5 /sports/pro_athlete/teams./sports/sports_team_roster/team /m/029q3k\\n'"
     },
     "metadata": {},
     "execution_count": 2
    }
   ],
   "source": [
    "' '.join([str(item) for item in data.triples[0:10]])"
   ]
  },
  {
   "cell_type": "markdown",
   "metadata": {},
   "source": [
    "# test path sample"
   ]
  },
  {
   "cell_type": "code",
   "execution_count": 3,
   "metadata": {
    "tags": []
   },
   "outputs": [
    {
     "output_type": "stream",
     "name": "stdout",
     "text": "* set up index for 224 relations, 8171 head entities, and 6376 tail entities\n* read 20466 triples\n"
    }
   ],
   "source": [
    "from data.triple_set import TripleSet\n",
    "data = TripleSet()\n",
    "data.read_triples('../../datasets/FB15k-237/test.txt')\n",
    "print('* read {} triples'.format(len(data.triples)))"
   ]
  },
  {
   "cell_type": "code",
   "execution_count": 4,
   "metadata": {},
   "outputs": [],
   "source": [
    "from algorithm.path_sampler import PathSampler\n",
    "ps = PathSampler(data)"
   ]
  },
  {
   "cell_type": "code",
   "execution_count": 1,
   "metadata": {
    "tags": []
   },
   "outputs": [],
   "source": [
    "some_path = set([])\n",
    "# for i in range(1000):\n",
    "#     p = ps.sample_path(2, True)\n",
    "#     if i % 50 == 0 and p is not None:\n",
    "#         print(p)\n",
    "#         print(\"\\n\\n\\n\")\n",
    "#     if p is not None: ###p.isValid()) {\n",
    "#         some_pathes.add(p)"
   ]
  },
  {
   "cell_type": "code",
   "execution_count": 1,
   "metadata": {
    "tags": []
   },
   "outputs": [
    {
     "output_type": "stream",
     "name": "stdout",
     "text": "* indexed 100000 triples\n* indexed 200000 triples\n* set up index for 237 relations, 13781 head entities, and 13379 tail entities\n"
    }
   ],
   "source": [
    "from learn import Learn\n",
    "# '../../datasets/FB15k-237/train.txt' '../../datasets/WN18RR/train.txt'\n",
    "learning = Learn('../../datasets/FB15k-237/train.txt')"
   ]
  },
  {
   "cell_type": "code",
   "execution_count": 2,
   "metadata": {
    "tags": []
   },
   "outputs": [
    {
     "output_type": "stream",
     "name": "stdout",
     "text": "* read 272115 triples\nrule_size:  0\n>>> ****** Batch [CYCLIC 1] batchCounter: 1 (sampled 1217 pathes) *****\n>>> fraction of previously seen rules within useful rules in this batch: 0.0169971671388102  NEW=347 PREV=6 batch rules=1205\nrule_size:  0\n>>> ****** Batch [ACYCLIC 1] batchCounter: 2 (sampled 28128 pathes) *****\n>>> fraction of previously seen rules within useful rules in this batch: 0.8598781549173194  NEW=161 PREV=988 batch rules=1266\n>>> ~~~~~~~~~~~~~~~~~~~~~~~~~~~~~~~~~~~~~~~~~~~~ \n>>> INCREASING RULE SIZE OF rule_size_cyclic RULE TO  1\n>>> ~~~~~~~~~~~~~~~~~~~~~~~~~~~~~~~~~~~~~~~~~~~~\nincreasing rule size of rule_size_acyclic rules to  1  after  1593325473.5444756 s\nrule_size:  0\n>>> ****** Batch [CYCLIC 1] batchCounter: 3 (sampled 29561 pathes) *****\n>>> fraction of previously seen rules within useful rules in this batch: 0.06331877729257641  NEW=429 PREV=29 batch rules=1369\nrule_size:  1\n>>> ****** Batch [ACYCLIC 2] batchCounter: 4 (sampled 97895 pathes) *****\n>>> fraction of previously seen rules within useful rules in this batch: 0.0  NEW=1 PREV=0 batch rules=0\nrule_size:  0\n>>> ****** Batch [CYCLIC 1] batchCounter: 5 (sampled 99254 pathes) *****\n>>> fraction of previously seen rules within useful rules in this batch: 0.09326424870466321  NEW=350 PREV=36 batch rules=1308\nrule_size:  1\n>>> ****** Batch [ACYCLIC 2] batchCounter: 6 (sampled 169416 pathes) *****\n>>> fraction of previously seen rules within useful rules in this batch: 0.0  NEW=1 PREV=0 batch rules=0\nrule_size:  0\n>>> ****** Batch [CYCLIC 1] batchCounter: 7 (sampled 170722 pathes) *****\n>>> fraction of previously seen rules within useful rules in this batch: 0.09195402298850575  NEW=316 PREV=32 batch rules=1223\nrule_size:  1\n>>> ****** Batch [ACYCLIC 2] batchCounter: 8 (sampled 241071 pathes) *****\n>>> fraction of previously seen rules within useful rules in this batch: 0.0  NEW=1 PREV=0 batch rules=0\nrule_size:  0\nstart output\n\n\n================== done learning ====================, len useful_rules = 1598\n0.31143552311435524\n0.34098360655737703\n0.1674641148325359\n0.25958702064896755\n0.057\n0.21040189125295508\n0.8333333333333334\n0.12280701754385964\n0.16179001721170397\n0.8236380424746076\n0.2930513595166163\n0.24390243902439024\n0.4724137931034483\n0.25\n0.372\n0.1619047619047619\n================== done learning ====================, len useful_rules = 0\n"
    }
   ],
   "source": [
    "learning.train()"
   ]
  },
  {
   "cell_type": "code",
   "execution_count": null,
   "metadata": {},
   "outputs": [],
   "source": []
  }
 ],
 "metadata": {
  "language_info": {
   "codemirror_mode": {
    "name": "ipython",
    "version": 3
   },
   "file_extension": ".py",
   "mimetype": "text/x-python",
   "name": "python",
   "nbconvert_exporter": "python",
   "pygments_lexer": "ipython3",
   "version": "3.7.3-final"
  },
  "orig_nbformat": 2,
  "kernelspec": {
   "name": "python3",
   "display_name": "Python 3"
  }
 },
 "nbformat": 4,
 "nbformat_minor": 2
}