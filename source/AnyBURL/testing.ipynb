{
 "cells": [
  {
   "cell_type": "markdown",
   "metadata": {},
   "source": [
    "# test path sample"
   ]
  },
  {
   "cell_type": "code",
   "execution_count": 2,
   "metadata": {
    "tags": []
   },
   "outputs": [
    {
     "output_type": "stream",
     "name": "stdout",
     "text": "* indexed 100000 triples\n* set up index for 18 relations, 40504 head entities, and 40551 tail entities\n* read 141442 triples\n"
    }
   ],
   "source": [
    "from data.triple_set import TripleSet\n",
    "data = TripleSet()\n",
    "data.read_triples('../../datasets/WN18/train.txt')\n",
    "print('* read {} triples'.format(len(data.triples)))"
   ]
  },
  {
   "cell_type": "code",
   "execution_count": 4,
   "metadata": {
    "tags": []
   },
   "outputs": [
    {
     "output_type": "stream",
     "name": "stdout",
     "text": "{'_instance_hyponym': {'09027089', '08913085', '09132778', '09097707', '09164417', '08773880', '09073938', '08970189', '08976799', '09113762', '08912012', '08728749', '08898457', '08739669', '09129062', '09102883', '09072810', '09164241', '09053947', '08936833', '09063673', '08819016', '08977665', '08765623', '08889400', '08706823', '09144323', '08729452', '08983274', '08766846', '08857529', '09133895', '09146111', '08856945', '09062961', '08923177', '08762243', '08924238', '08889944', '08773098', '09025728', '09030596', '09145083', '09064861', '09077556', '08914413', '08898187', '08912703', '08772667', '09091909', '08971404', '09064264', '08984122', '09143321', '08846885', '08912153', '09134999', '08951077', '08977428', '08810051', '08773336', '08770718', '09035951', '09042322', '08854855', '08788887', '08916111', '09144730', '08708481', '08953029', '08977527', '09110229', '09040839', '08851500', '08728595', '08814333', '08780380', '09008454', '08856266', '08877208', '09155692', '08771400', '08713136', '09066799', '09128536', '08772551', '09030382', '08847024', '08798062', '09156889', '08937995', '08924560', '09143786', '08721145', '08704409', '09155986', '08879197', '08916832', '08950649', '08736779', '08946812', '08855909', '08731148', '09161452', '09033117', '09151216', '08818835', '08812166', '08745011', '09038272', '08856037', '08903487', '08735008', '08994339', '08903352', '09085441', '08855763', '08857099', '08970064', '09093472', '09100690', '09125016', '08925093', '09159546', '09086070', '08904533', '08903872', '09137682', '08984010', '09157021', '09069752', '08934532', '09026911', '08772922', '09165294', '09087450', '08774546', '08937109', '09069415', '09041785', '08780282', '08729283', '09014066', '09125528', '08786432', '09156666', '08899351', '08775179', '09165146', '08915017', '08983556', '09114020', '08759852', '09026204', '09130714', '08811473', '08911602', '08804319', '09089923', '09124589', '08706502', '09068320', '09034286', '08904731', '08977211', '08849372', '09054480', '08899149', '08818247', '08984457', '09133500', '09145655', '08994834', '09064594', '09154607', '08966085', '09154731', '08925957', '08813264', '08982037', '08722084', '09027292', '09150863', '08803883', '09083659', '08876975', '08928933', '08924023', '08715952', '08766571', '08911868', '09125354', '08813699', '08923884', '08824771', '09151516', '09011679', '08935212', '09067878', '09151411', '08809165', '08903636', '08774374', '08974818', '09034402', '08919241', '09111955', '09062585', '08719705', '09062320', '09088989', '09074834', '09062791', '08950407', '09130452', '08986526', '08928742', '08708609', '08805801', '09042213', '08934694', '08855505', '08899577', '09140569', '08986374', '09077111', '09022667', '08851034', '08728462', '09065191', '09068921', '08877807', '08706247', '08878016', '09065557', '08795974', '09058071', '09125629', '08750822', '08899776', '09009490', '08804049', '08950907', '09162414', '08804662', '09100394', '08744750', '09009372', '08789605', '09125203', '09012735', '08983413', '09026614', '09128947', '09063259', '08956574', '09084196', '08728268', '08775053', '08766667', '08970611', '08746475', '09030467', '08769439', '09075329', '09107626', '08956461', '09164903', '09066017', '08743945', '09146912', '09077821', '08855126', '08717629', '08926543', '09025189', '08927678', '08728882', '09026780', '09074140', '09001007', '09086635', '09026360', '09113479', '09004992', '08762104', '09084075', '08743229', '08969798', '08770013', '08770274', '09139849', '08984332', '08974604', '08912427', '08936647', '09038439', '09144117', '08805386', '08904269', '08923755', '08857260', '09144851', '09142887', '08914573', '09146813', '08786855', '08956140', '08738715', '09157766', '08873269', '08787240', '08879680', '08895497', '09115315', '09094381', '08851830', '09106770', '09129926', '08857405', '08984223', '09073258', '08925552', '08923586', '09085209', '09025451', '09151114', '08950035', '09086793', '08846739', '09142674', '09097871', '08765460', '08889521', '09075007', '08924913', '08772137', '08856630', '09032981', '08727806', '08771277', '09099264', '08900204', '08855609', '09158501', '08733415', '09148662', '09010085', '08963244', '09025584', '09108728', '08895771', '08904858', '09131553', '08807894', '08914850', '08795654', '09085334', '08925700', '09073697', '09016860', '09145217', '09011820', '08774912', '08735345', '09150662', '09135993', '08809910', '08911726', '09016099', '08814664', '08928083', '09096664', '08813156', '09063477', '08851687', '09141119', '09070363', '09020299', '08727230', '08976913', '08950787', '09167652', '09110939', '08773679', '08904115', '09140993', '08774073', '08787049', '08926231', '08889657', '08771116', '09027679', '08856475', '08504151', '09162803', '08950230', '09113333', '09014470', '08728066', '08714795', '09154178', '09162581', '08786660', '08805565', '08960363', '09083390', '09145851', '09128372', '08856793', '08766455', '09142771', '08734853', '09055906', '08846626', '08937594', '08850741', '08957993', '08726582', '08772794', '08742743', '09040475', '08799462', '08904392', '09129324', '09062015', '08925287', '08746636', '08770518', '09111168', '08892971', '09131428', '09147618', '09113207', '08926381', '09135447', '08798195', '08936303', '08877382', '08925830', '08725161', '09054350', '09136182', '08903220', '09032604', '09092352', '08804845', '08765315', '08745901', '09028477', '08725454', '09119277', '09143649', '08727945', '08958212', '09143205', '08912559', '09000462', '08727606', '09066534', '09108055', '08962951', '08983742', '08772307', '08797840', '09102517', '09138538', '08774704', '08912279', '08851364', '09089782'}, '_has_part': {'08543496', '08571139', '08543081', '08524130'}, '_derivationally_related_form': {'00499642'}, '_hypernym': {'08626283'}, '_hyponym': {'08695198', '08691669', '08695539'}}\n"
    }
   ],
   "source": [
    "print(data.head_relation_to_tail['08524735'])"
   ]
  },
  {
   "cell_type": "code",
   "execution_count": 4,
   "metadata": {},
   "outputs": [],
   "source": [
    "from algorithm.path_sampler import PathSampler\n",
    "ps = PathSampler(data)"
   ]
  },
  {
   "cell_type": "code",
   "execution_count": 1,
   "metadata": {
    "tags": []
   },
   "outputs": [],
   "source": [
    "some_path = set([])\n",
    "# for i in range(1000):\n",
    "#     p = ps.sample_path(2, True)\n",
    "#     if i % 50 == 0 and p is not None:\n",
    "#         print(p)\n",
    "#         print(\"\\n\\n\\n\")\n",
    "#     if p is not None: ###p.isValid()) {\n",
    "#         some_pathes.add(p)"
   ]
  },
  {
   "cell_type": "markdown",
   "metadata": {},
   "source": [
    "## Test leaning"
   ]
  },
  {
   "cell_type": "code",
   "execution_count": 1,
   "metadata": {
    "tags": []
   },
   "outputs": [
    {
     "output_type": "stream",
     "name": "stdout",
     "text": "* indexed 100000 triples\n* indexed 200000 triples\n* set up index for 237 relations, 13781 head entities, and 13379 tail entities\n"
    }
   ],
   "source": [
    "from learn import Learn\n",
    "# '../../datasets/FB15k-237/train.txt' '../../datasets/WN18RR/train.txt'\n",
    "learning = Learn('../../datasets/FB15k-237/train.txt')"
   ]
  },
  {
   "cell_type": "code",
   "execution_count": 2,
   "metadata": {},
   "outputs": [],
   "source": [
    "# learning.triple_set.head_relation_to_tail['08524735']"
   ]
  },
  {
   "cell_type": "code",
   "execution_count": 2,
   "metadata": {
    "tags": [
     "outputPrepend"
    ]
   },
   "outputs": [
    {
     "output_type": "stream",
     "name": "stdout",
     "text": "tion of previously seen rules within useful rules in this batch: 0.8787245164662834  NEW=232 PREV=1681 batch rules=2053\n>>> ~~~~~~~~~~~~~~~~~~~~~~~~~~~~~~~~~~~~~~~~~~~~ \n>>> INCREASING RULE SIZE OF rule_size_cyclic RULE TO  1\n>>> ~~~~~~~~~~~~~~~~~~~~~~~~~~~~~~~~~~~~~~~~~~~~\nincreasing rule size of rule_size_acyclic rules to  1  after  -1 s\n>>> ****** Batch [CYCLIC 1] batchCounter: 3 (sampled 13806 pathes) *****\n>>> fraction of previously seen rules within useful rules in this batch: 0.09099616858237548  NEW=949 PREV=95 batch rules=3494\n>>> ****** Batch [ACYCLIC 2] batchCounter: 4 (sampled 13992 pathes) *****\n>>> fraction of previously seen rules within useful rules in this batch: 0.0  NEW=5 PREV=0 batch rules=16\n>>> ****** Batch [CYCLIC 1] batchCounter: 5 (sampled 15866 pathes) *****\n>>> fraction of previously seen rules within useful rules in this batch: 0.10536980749746708  NEW=883 PREV=104 batch rules=3479\n>>> ****** Batch [ACYCLIC 2] batchCounter: 6 (sampled 16445 pathes) *****\n>>> fraction of previously seen rules within useful rules in this batch: 0.13157894736842105  NEW=33 PREV=5 batch rules=61\n>>> ****** Batch [CYCLIC 1] batchCounter: 7 (sampled 18100 pathes) *****\n>>> fraction of previously seen rules within useful rules in this batch: 0.13626609442060086  NEW=805 PREV=127 batch rules=3049\n>>> ****** Batch [ACYCLIC 2] batchCounter: 8 (sampled 18479 pathes) *****\n>>> fraction of previously seen rules within useful rules in this batch: 0.15384615384615385  NEW=22 PREV=4 batch rules=36\n>>> ****** Batch [CYCLIC 1] batchCounter: 9 (sampled 20324 pathes) *****\n>>> fraction of previously seen rules within useful rules in this batch: 0.14525691699604742  NEW=865 PREV=147 batch rules=3395\n>>> ****** Batch [ACYCLIC 2] batchCounter: 10 (sampled 20710 pathes) *****\n>>> fraction of previously seen rules within useful rules in this batch: 0.17142857142857143  NEW=29 PREV=6 batch rules=53\n>>> ****** Batch [CYCLIC 1] batchCounter: 11 (sampled 22645 pathes) *****\n>>> fraction of previously seen rules within useful rules in this batch: 0.18031278748850046  NEW=891 PREV=196 batch rules=3575\n>>> ****** Batch [ACYCLIC 2] batchCounter: 12 (sampled 22878 pathes) *****\n>>> fraction of previously seen rules within useful rules in this batch: 0.22727272727272727  NEW=17 PREV=5 batch rules=30\n>>> ****** Batch [CYCLIC 1] batchCounter: 13 (sampled 24728 pathes) *****\n>>> fraction of previously seen rules within useful rules in this batch: 0.18675889328063242  NEW=823 PREV=189 batch rules=3449\n>>> ****** Batch [ACYCLIC 2] batchCounter: 14 (sampled 25061 pathes) *****\n>>> fraction of previously seen rules within useful rules in this batch: 0.25  NEW=15 PREV=5 batch rules=32\n>>> ****** Batch [CYCLIC 1] batchCounter: 15 (sampled 26816 pathes) *****\n>>> fraction of previously seen rules within useful rules in this batch: 0.19589743589743588  NEW=784 PREV=191 batch rules=3244\n>>> ****** Batch [ACYCLIC 2] batchCounter: 16 (sampled 27316 pathes) *****\n>>> fraction of previously seen rules within useful rules in this batch: 0.35294117647058826  NEW=22 PREV=12 batch rules=44\n>>> ****** Batch [CYCLIC 1] batchCounter: 17 (sampled 29284 pathes) *****\n>>> fraction of previously seen rules within useful rules in this batch: 0.2194891201513718  NEW=825 PREV=232 batch rules=3614\n>>> ****** Batch [ACYCLIC 2] batchCounter: 18 (sampled 29581 pathes) *****\n>>> fraction of previously seen rules within useful rules in this batch: 0.2777777777777778  NEW=13 PREV=5 batch rules=32\n>>> ****** Batch [CYCLIC 1] batchCounter: 19 (sampled 31613 pathes) *****\n>>> fraction of previously seen rules within useful rules in this batch: 0.23084025854108955  NEW=833 PREV=250 batch rules=3744\n>>> ****** Batch [ACYCLIC 2] batchCounter: 20 (sampled 32024 pathes) *****\n>>> fraction of previously seen rules within useful rules in this batch: 0.45161290322580644  NEW=17 PREV=14 batch rules=56\n>>> ****** Batch [CYCLIC 1] batchCounter: 21 (sampled 34144 pathes) *****\n>>> fraction of previously seen rules within useful rules in this batch: 0.2457551385165326  NEW=844 PREV=275 batch rules=3943\n>>> ****** Batch [ACYCLIC 2] batchCounter: 22 (sampled 34575 pathes) *****\n>>> fraction of previously seen rules within useful rules in this batch: 0.41379310344827586  NEW=17 PREV=12 batch rules=49\n>>> ****** Batch [CYCLIC 1] batchCounter: 23 (sampled 36547 pathes) *****\n>>> fraction of previously seen rules within useful rules in this batch: 0.2547709923664122  NEW=781 PREV=267 batch rules=3636\n>>> ****** Batch [ACYCLIC 2] batchCounter: 24 (sampled 36977 pathes) *****\n>>> fraction of previously seen rules within useful rules in this batch: 0.6  NEW=12 PREV=18 batch rules=46\n>>> ****** Batch [CYCLIC 1] batchCounter: 25 (sampled 39226 pathes) *****\n>>> fraction of previously seen rules within useful rules in this batch: 0.2720063441712926  NEW=918 PREV=343 batch rules=4186\n>>> ****** Batch [ACYCLIC 2] batchCounter: 26 (sampled 39366 pathes) *****\n>>> fraction of previously seen rules within useful rules in this batch: 0.14285714285714285  NEW=6 PREV=1 batch rules=11\n>>> ****** Batch [CYCLIC 1] batchCounter: 27 (sampled 41467 pathes) *****\n>>> fraction of previously seen rules within useful rules in this batch: 0.27939876215738285  NEW=815 PREV=316 batch rules=3890\n>>> ****** Batch [ACYCLIC 2] batchCounter: 28 (sampled 41578 pathes) *****\n>>> fraction of previously seen rules within useful rules in this batch: 0.4  NEW=3 PREV=2 batch rules=11\n>>> ****** Batch [CYCLIC 1] batchCounter: 29 (sampled 43561 pathes) *****\n>>> fraction of previously seen rules within useful rules in this batch: 0.28611369990680335  NEW=766 PREV=307 batch rules=3714\n>>> ****** Batch [ACYCLIC 2] batchCounter: 30 (sampled 44119 pathes) *****\n>>> fraction of previously seen rules within useful rules in this batch: 0.5161290322580645  NEW=15 PREV=16 batch rules=50\n>>> ****** Batch [CYCLIC 1] batchCounter: 31 (sampled 46012 pathes) *****\n>>> fraction of previously seen rules within useful rules in this batch: 0.28087649402390436  NEW=722 PREV=282 batch rules=3525\n>>> ****** Batch [ACYCLIC 2] batchCounter: 32 (sampled 46300 pathes) *****\n>>> fraction of previously seen rules within useful rules in this batch: 0.5217391304347826  NEW=11 PREV=12 batch rules=39\n>>> ****** Batch [CYCLIC 1] batchCounter: 33 (sampled 48469 pathes) *****\n>>> fraction of previously seen rules within useful rules in this batch: 0.2950680272108844  NEW=829 PREV=347 batch rules=3986\n>>> ****** Batch [ACYCLIC 2] batchCounter: 34 (sampled 48671 pathes) *****\n>>> fraction of previously seen rules within useful rules in this batch: 0.5714285714285714  NEW=6 PREV=8 batch rules=26\n>>> ****** Batch [CYCLIC 1] batchCounter: 35 (sampled 51196 pathes) *****\n>>> fraction of previously seen rules within useful rules in this batch: 0.31402651779483604  NEW=983 PREV=450 batch rules=4663\n>>> ****** Batch [ACYCLIC 2] batchCounter: 36 (sampled 52209 pathes) *****\n>>> fraction of previously seen rules within useful rules in this batch: 0.625  NEW=27 PREV=45 batch rules=122\n>>> ****** Batch [CYCLIC 1] batchCounter: 37 (sampled 54580 pathes) *****\n>>> fraction of previously seen rules within useful rules in this batch: 0.2884036144578313  NEW=945 PREV=383 batch rules=4391\n>>> ****** Batch [ACYCLIC 2] batchCounter: 38 (sampled 55061 pathes) *****\n>>> fraction of previously seen rules within useful rules in this batch: 0.42857142857142855  NEW=24 PREV=18 batch rules=59\n>>> ****** Batch [CYCLIC 1] batchCounter: 39 (sampled 57039 pathes) *****\n>>> fraction of previously seen rules within useful rules in this batch: 0.32466367713004485  NEW=753 PREV=362 batch rules=3667\n>>> ****** Batch [ACYCLIC 2] batchCounter: 40 (sampled 57489 pathes) *****\n>>> fraction of previously seen rules within useful rules in this batch: 0.7027027027027027  NEW=11 PREV=26 batch rules=58\n>>> ~~~~~~~~~~~~~~~~~~~~~~~~~~~~~~~~~~~~~~~~~~~~ \n>>> INCREASING RULE SIZE OF rule_size_cyclic RULE TO  2\n>>> ~~~~~~~~~~~~~~~~~~~~~~~~~~~~~~~~~~~~~~~~~~~~\nincreasing rule size of rule_size_acyclic rules to  2  after  -1 s\n>>> ****** Batch [CYCLIC 1] batchCounter: 41 (sampled 59558 pathes) *****\n>>> fraction of previously seen rules within useful rules in this batch: 0.32538955087076077  NEW=736 PREV=355 batch rules=3838\n>>> ****** Batch [CYCLIC 1] batchCounter: 42 (sampled 61676 pathes) *****\n>>> fraction of previously seen rules within useful rules in this batch: 0.3539518900343643  NEW=752 PREV=412 batch rules=3889\n>>> ****** Batch [CYCLIC 1] batchCounter: 43 (sampled 63837 pathes) *****\n>>> fraction of previously seen rules within useful rules in this batch: 0.3333333333333333  NEW=740 PREV=370 batch rules=3968\n>>> ****** Batch [CYCLIC 1] batchCounter: 44 (sampled 66120 pathes) *****\n>>> fraction of previously seen rules within useful rules in this batch: 0.3284502698535081  NEW=871 PREV=426 batch rules=4237\n>>> ****** Batch [CYCLIC 1] batchCounter: 45 (sampled 68333 pathes) *****\n>>> fraction of previously seen rules within useful rules in this batch: 0.35443037974683544  NEW=714 PREV=392 batch rules=4119\n>>> ****** Batch [CYCLIC 1] batchCounter: 46 (sampled 70556 pathes) *****\n>>> fraction of previously seen rules within useful rules in this batch: 0.3565076798706548  NEW=796 PREV=441 batch rules=4157\n>>> ****** Batch [CYCLIC 1] batchCounter: 47 (sampled 72704 pathes) *****\n>>> fraction of previously seen rules within useful rules in this batch: 0.3527454242928453  NEW=778 PREV=424 batch rules=3976\n>>> ****** Batch [CYCLIC 1] batchCounter: 48 (sampled 74975 pathes) *****\n>>> fraction of previously seen rules within useful rules in this batch: 0.39012738853503187  NEW=766 PREV=490 batch rules=4163\n>>> ****** Batch [CYCLIC 1] batchCounter: 49 (sampled 77282 pathes) *****\n>>> fraction of previously seen rules within useful rules in this batch: 0.40458579881656803  NEW=805 PREV=547 batch rules=4310\n>>> ****** Batch [CYCLIC 1] batchCounter: 50 (sampled 79685 pathes) *****\n>>> fraction of previously seen rules within useful rules in this batch: 0.38291605301914583  NEW=838 PREV=520 batch rules=4446\n>>> ****** Batch [CYCLIC 1] batchCounter: 51 (sampled 82025 pathes) *****\n>>> fraction of previously seen rules within useful rules in this batch: 0.37753510140405616  NEW=798 PREV=484 batch rules=4307\n>>> ****** Batch [CYCLIC 1] batchCounter: 52 (sampled 84346 pathes) *****\n>>> fraction of previously seen rules within useful rules in this batch: 0.4020537124802528  NEW=757 PREV=509 batch rules=4304\n>>> ****** Batch [CYCLIC 1] batchCounter: 53 (sampled 86785 pathes) *****\n>>> fraction of previously seen rules within useful rules in this batch: 0.4048140043763676  NEW=816 PREV=555 batch rules=4517\n>>> ****** Batch [CYCLIC 1] batchCounter: 54 (sampled 89218 pathes) *****\n>>> fraction of previously seen rules within useful rules in this batch: 0.4032258064516129  NEW=777 PREV=525 batch rules=4511\n>>> ****** Batch [CYCLIC 1] batchCounter: 55 (sampled 91583 pathes) *****\n>>> fraction of previously seen rules within useful rules in this batch: 0.40117746005046256  NEW=712 PREV=477 batch rules=4373\n>>> ****** Batch [CYCLIC 1] batchCounter: 56 (sampled 93847 pathes) *****\n>>> fraction of previously seen rules within useful rules in this batch: 0.429140127388535  NEW=717 PREV=539 batch rules=4183\n>>> ****** Batch [CYCLIC 1] batchCounter: 57 (sampled 96097 pathes) *****\n>>> fraction of previously seen rules within useful rules in this batch: 0.4301948051948052  NEW=702 PREV=530 batch rules=4162\n>>> ****** Batch [CYCLIC 1] batchCounter: 58 (sampled 98457 pathes) *****\n>>> fraction of previously seen rules within useful rules in this batch: 0.4085943190094683  NEW=812 PREV=561 batch rules=4396\n>>> ****** Batch [CYCLIC 1] batchCounter: 59 (sampled 100799 pathes) *****\n>>> fraction of previously seen rules within useful rules in this batch: 0.3940345368916798  NEW=772 PREV=502 batch rules=4310\n>>> ****** Batch [CYCLIC 1] batchCounter: 60 (sampled 103300 pathes) *****\n>>> fraction of previously seen rules within useful rules in this batch: 0.4383561643835616  NEW=779 PREV=608 batch rules=4622\n>>> ****** Batch [CYCLIC 1] batchCounter: 61 (sampled 105615 pathes) *****\n>>> fraction of previously seen rules within useful rules in this batch: 0.413197172034564  NEW=747 PREV=526 batch rules=4277\n>>> ****** Batch [CYCLIC 1] batchCounter: 62 (sampled 108060 pathes) *****\n>>> fraction of previously seen rules within useful rules in this batch: 0.4338070306656694  NEW=757 PREV=580 batch rules=4554\n>>> ****** Batch [CYCLIC 1] batchCounter: 63 (sampled 110504 pathes) *****\n>>> fraction of previously seen rules within useful rules in this batch: 0.4265402843601896  NEW=726 PREV=540 batch rules=4514\n>>> ****** Batch [CYCLIC 1] batchCounter: 64 (sampled 113084 pathes) *****\n>>> fraction of previously seen rules within useful rules in this batch: 0.46353101567825494  NEW=787 PREV=680 batch rules=4758\n>>> ****** Batch [CYCLIC 1] batchCounter: 65 (sampled 115421 pathes) *****\n>>> fraction of previously seen rules within useful rules in this batch: 0.43981117230527145  NEW=712 PREV=559 batch rules=4333\n>>> ****** Batch [CYCLIC 1] batchCounter: 66 (sampled 117811 pathes) *****\n>>> fraction of previously seen rules within useful rules in this batch: 0.44058641975308643  NEW=725 PREV=571 batch rules=4422\n>>> ****** Batch [CYCLIC 1] batchCounter: 67 (sampled 119968 pathes) *****\n>>> fraction of previously seen rules within useful rules in this batch: 0.4462738301559792  NEW=639 PREV=515 batch rules=4004\n>>> ****** Batch [CYCLIC 1] batchCounter: 68 (sampled 122405 pathes) *****\n>>> fraction of previously seen rules within useful rules in this batch: 0.47090352220520676  NEW=691 PREV=615 batch rules=4483\n>>> ****** Batch [CYCLIC 1] batchCounter: 69 (sampled 124839 pathes) *****\n>>> fraction of previously seen rules within useful rules in this batch: 0.4688427299703264  NEW=716 PREV=632 batch rules=4489\n>>> ****** Batch [CYCLIC 1] batchCounter: 70 (sampled 127297 pathes) *****\n>>> fraction of previously seen rules within useful rules in this batch: 0.4629360465116279  NEW=739 PREV=637 batch rules=4613\n>>> ****** Batch [CYCLIC 1] batchCounter: 71 (sampled 129733 pathes) *****\n>>> fraction of previously seen rules within useful rules in this batch: 0.45243445692883894  NEW=731 PREV=604 batch rules=4521\n>>> ****** Batch [CYCLIC 1] batchCounter: 72 (sampled 132315 pathes) *****\n>>> fraction of previously seen rules within useful rules in this batch: 0.48282828282828283  NEW=768 PREV=717 batch rules=4761\n>>> ****** Batch [CYCLIC 1] batchCounter: 73 (sampled 134746 pathes) *****\n>>> fraction of previously seen rules within useful rules in this batch: 0.45302547770700635  NEW=687 PREV=569 batch rules=4474\n>>> ****** Batch [CYCLIC 1] batchCounter: 74 (sampled 137178 pathes) *****\n>>> fraction of previously seen rules within useful rules in this batch: 0.46796875  NEW=681 PREV=599 batch rules=4520\n>>> ****** Batch [CYCLIC 1] batchCounter: 75 (sampled 139724 pathes) *****\n>>> fraction of previously seen rules within useful rules in this batch: 0.44153082919914954  NEW=788 PREV=623 batch rules=4724\n>>> ****** Batch [CYCLIC 1] batchCounter: 76 (sampled 142171 pathes) *****\n>>> fraction of previously seen rules within useful rules in this batch: 0.45685997171145687  NEW=768 PREV=646 batch rules=4581\n>>> ****** Batch [CYCLIC 1] batchCounter: 77 (sampled 144634 pathes) *****\n>>> fraction of previously seen rules within useful rules in this batch: 0.4734931009440813  NEW=725 PREV=652 batch rules=4556\n>>> ****** Batch [CYCLIC 1] batchCounter: 78 (sampled 147130 pathes) *****\n>>> fraction of previously seen rules within useful rules in this batch: 0.4554744525547445  NEW=746 PREV=624 batch rules=4627\n>>> ****** Batch [CYCLIC 1] batchCounter: 79 (sampled 149561 pathes) *****\n>>> fraction of previously seen rules within useful rules in this batch: 0.4584920030464585  NEW=711 PREV=602 batch rules=4476\n>>> ****** Batch [CYCLIC 1] batchCounter: 80 (sampled 152025 pathes) *****\n>>> fraction of previously seen rules within useful rules in this batch: 0.5124716553287982  NEW=645 PREV=678 batch rules=4595\n>>> ****** Batch [CYCLIC 1] batchCounter: 81 (sampled 154612 pathes) *****\n>>> fraction of previously seen rules within useful rules in this batch: 0.4950213371266003  NEW=710 PREV=696 batch rules=4781\n>>> ****** Batch [CYCLIC 1] batchCounter: 82 (sampled 157050 pathes) *****\n>>> fraction of previously seen rules within useful rules in this batch: 0.49257057949479943  NEW=683 PREV=663 batch rules=4572\n>>> ****** Batch [CYCLIC 1] batchCounter: 83 (sampled 159475 pathes) *****\n>>> fraction of previously seen rules within useful rules in this batch: 0.4860166288737717  NEW=680 PREV=643 batch rules=4500\n>>> ****** Batch [CYCLIC 1] batchCounter: 84 (sampled 162091 pathes) *****\n>>> fraction of previously seen rules within useful rules in this batch: 0.5143638850889193  NEW=710 PREV=752 batch rules=4892\n>>> ****** Batch [CYCLIC 1] batchCounter: 85 (sampled 164619 pathes) *****\n>>> fraction of previously seen rules within useful rules in this batch: 0.49518874907475946  NEW=682 PREV=669 batch rules=4679\n>>> ****** Batch [CYCLIC 1] batchCounter: 86 (sampled 167231 pathes) *****\n>>> fraction of previously seen rules within useful rules in this batch: 0.5086625086625086  NEW=709 PREV=734 batch rules=4838\n>>> ****** Batch [CYCLIC 1] batchCounter: 87 (sampled 169865 pathes) *****\n>>> fraction of previously seen rules within useful rules in this batch: 0.4912033779028853  NEW=723 PREV=698 batch rules=4866\n>>> ****** Batch [CYCLIC 1] batchCounter: 88 (sampled 172274 pathes) *****\n>>> fraction of previously seen rules within useful rules in this batch: 0.4840714840714841  NEW=664 PREV=623 batch rules=4450\n>>> ****** Batch [CYCLIC 1] batchCounter: 89 (sampled 174792 pathes) *****\n>>> fraction of previously seen rules within useful rules in this batch: 0.501067615658363  NEW=701 PREV=704 batch rules=4658\n>>> ****** Batch [CYCLIC 1] batchCounter: 90 (sampled 177290 pathes) *****\n>>> fraction of previously seen rules within useful rules in this batch: 0.5031013094417643  NEW=721 PREV=730 batch rules=4626\n>>> ****** Batch [CYCLIC 1] batchCounter: 91 (sampled 179755 pathes) *****\n>>> fraction of previously seen rules within useful rules in this batch: 0.5011494252873563  NEW=651 PREV=654 batch rules=4559\n>>> ****** Batch [CYCLIC 1] batchCounter: 92 (sampled 182222 pathes) *****\n>>> fraction of previously seen rules within useful rules in this batch: 0.49927849927849927  NEW=694 PREV=692 batch rules=4568\n>>> ****** Batch [CYCLIC 1] batchCounter: 93 (sampled 184752 pathes) *****\n>>> fraction of previously seen rules within useful rules in this batch: 0.522239263803681  NEW=623 PREV=681 batch rules=4692\n>>> ****** Batch [CYCLIC 1] batchCounter: 94 (sampled 187335 pathes) *****\n>>> fraction of previously seen rules within useful rules in this batch: 0.5236728837876614  NEW=664 PREV=730 batch rules=4771\n>>> ****** Batch [CYCLIC 1] batchCounter: 95 (sampled 189770 pathes) *****\n>>> fraction of previously seen rules within useful rules in this batch: 0.5178018575851393  NEW=623 PREV=669 batch rules=4509\n>>> ****** Batch [CYCLIC 1] batchCounter: 96 (sampled 192323 pathes) *****\n>>> fraction of previously seen rules within useful rules in this batch: 0.5371120107962213  NEW=686 PREV=796 batch rules=4683\n>>> ****** Batch [CYCLIC 1] batchCounter: 97 (sampled 194369 pathes) *****\n>>> fraction of previously seen rules within useful rules in this batch: 0.5354545454545454  NEW=511 PREV=589 batch rules=3852\n>>> ****** Batch [CYCLIC 1] batchCounter: 98 (sampled 196382 pathes) *****\n>>> fraction of previously seen rules within useful rules in this batch: 0.5303760848601736  NEW=487 PREV=550 batch rules=3758\n>>> ****** Batch [CYCLIC 1] batchCounter: 99 (sampled 198464 pathes) *****\n>>> fraction of previously seen rules within useful rules in this batch: 0.5161001788908766  NEW=541 PREV=577 batch rules=3835\nsnapshots_index: 3\n"
    }
   ],
   "source": [
    "learning.train()"
   ]
  },
  {
   "cell_type": "markdown",
   "metadata": {},
   "source": [
    "## Test read rule output"
   ]
  },
  {
   "cell_type": "code",
   "execution_count": 4,
   "metadata": {
    "tags": [
     "outputPrepend"
    ]
   },
   "outputs": [
    {
     "output_type": "stream",
     "name": "stdout",
     "text": "g2c8,Y) <= /music/genre/artists(A,Y)\n\n['/award/hall_of_fame/inductees./award/hall_of_fame_induction/inductee(/m/0g2c8,Y)', '<=', '/music/genre/artists(A,Y)\\n']\n['/award/hall_of_fame/inductees./award/hall_of_fame_induction/inductee', '/m/0g2c8,Y)']\n['/music/genre/artists', 'A,Y)\\n']\n/award/hall_of_fame/inductees./award/hall_of_fame_induction/inductee(/m/0g2c8,Y) <= /music/genre/artists(/m/05w3f,Y)\n\n['/award/hall_of_fame/inductees./award/hall_of_fame_induction/inductee(/m/0g2c8,Y)', '<=', '/music/genre/artists(/m/05w3f,Y)\\n']\n['/award/hall_of_fame/inductees./award/hall_of_fame_induction/inductee', '/m/0g2c8,Y)']\n['/music/genre/artists', '/m/05w3f,Y)\\n']\n/award/award_winning_work/awards_won./award/award_honor/award(X,/m/0gq9h) <= /award/award_winning_work/awards_won./award/award_honor/award(X,A)\n\n['/award/award_winning_work/awards_won./award/award_honor/award(X,/m/0gq9h)', '<=', '/award/award_winning_work/awards_won./award/award_honor/award(X,A)\\n']\n['/award/award_winning_work/awards_won./award/award_honor/award', 'X,/m/0gq9h)']\n['/award/award_winning_work/awards_won./award/award_honor/award', 'X,A)\\n']\n/business/business_operation/operating_income./measurement_unit/dated_money_value/currency(X,Y) <= /business/business_operation/revenue./measurement_unit/dated_money_value/currency(X,Y)\n\n['/business/business_operation/operating_income./measurement_unit/dated_money_value/currency(X,Y)', '<=', '/business/business_operation/revenue./measurement_unit/dated_money_value/currency(X,Y)\\n']\n['/business/business_operation/operating_income./measurement_unit/dated_money_value/currency', 'X,Y)']\n['/business/business_operation/revenue./measurement_unit/dated_money_value/currency', 'X,Y)\\n']\n/film/film/release_date_s./film/film_regional_release_date/film_release_region(X,/m/03rt9) <= /film/film/production_companies(X,A)\n\n['/film/film/release_date_s./film/film_regional_release_date/film_release_region(X,/m/03rt9)', '<=', '/film/film/production_companies(X,A)\\n']\n['/film/film/release_date_s./film/film_regional_release_date/film_release_region', 'X,/m/03rt9)']\n['/film/film/production_companies', 'X,A)\\n']\n/film/film/release_date_s./film/film_regional_release_date/film_release_region(/m/03np63f,Y) <= /base/biblioness/bibs_location/country(A,Y)\n\n['/film/film/release_date_s./film/film_regional_release_date/film_release_region(/m/03np63f,Y)', '<=', '/base/biblioness/bibs_location/country(A,Y)\\n']\n['/film/film/release_date_s./film/film_regional_release_date/film_release_region', '/m/03np63f,Y)']\n['/base/biblioness/bibs_location/country', 'A,Y)\\n']\n/base/schemastaging/person_extra/net_worth./measurement_unit/dated_money_value/currency(X,/m/09nqf) <= /music/artist/track_contributions./music/track_contribution/role(X,A)\n\n['/base/schemastaging/person_extra/net_worth./measurement_unit/dated_money_value/currency(X,/m/09nqf)', '<=', '/music/artist/track_contributions./music/track_contribution/role(X,A)\\n']\n['/base/schemastaging/person_extra/net_worth./measurement_unit/dated_money_value/currency', 'X,/m/09nqf)']\n['/music/artist/track_contributions./music/track_contribution/role', 'X,A)\\n']\n/film/film/release_date_s./film/film_regional_release_date/film_release_region(/m/0h1cdwq,Y) <= /film/film/release_date_s./film/film_regional_release_date/film_release_region(/m/0crc2cp,Y)\n\n['/film/film/release_date_s./film/film_regional_release_date/film_release_region(/m/0h1cdwq,Y)', '<=', '/film/film/release_date_s./film/film_regional_release_date/film_release_region(/m/0crc2cp,Y)\\n']\n['/film/film/release_date_s./film/film_regional_release_date/film_release_region', '/m/0h1cdwq,Y)']\n['/film/film/release_date_s./film/film_regional_release_date/film_release_region', '/m/0crc2cp,Y)\\n']\n/film/film/estimated_budget./measurement_unit/dated_money_value/currency(X,/m/09nqf) <= /film/film/language(X,A)\n\n['/film/film/estimated_budget./measurement_unit/dated_money_value/currency(X,/m/09nqf)', '<=', '/film/film/language(X,A)\\n']\n['/film/film/estimated_budget./measurement_unit/dated_money_value/currency', 'X,/m/09nqf)']\n['/film/film/language', 'X,A)\\n']\n/award/award_winner/awards_won./award/award_honor/award_winner(/m/06czyr,Y) <= /award/award_winner/awards_won./award/award_honor/award_winner(/m/09f0bj,Y)\n\n['/award/award_winner/awards_won./award/award_honor/award_winner(/m/06czyr,Y)', '<=', '/award/award_winner/awards_won./award/award_honor/award_winner(/m/09f0bj,Y)\\n']\n['/award/award_winner/awards_won./award/award_honor/award_winner', '/m/06czyr,Y)']\n['/award/award_winner/awards_won./award/award_honor/award_winner', '/m/09f0bj,Y)\\n']\n/film/film/estimated_budget./measurement_unit/dated_money_value/currency(X,/m/09nqf) <= /film/film/language(X,/m/02h40lc)\n\n['/film/film/estimated_budget./measurement_unit/dated_money_value/currency(X,/m/09nqf)', '<=', '/film/film/language(X,/m/02h40lc)\\n']\n['/film/film/estimated_budget./measurement_unit/dated_money_value/currency', 'X,/m/09nqf)']\n['/film/film/language', 'X,/m/02h40lc)\\n']\n/film/film/featured_film_locations(X,/m/030qb3t) <= /film/film/genre(X,/m/01jfsb)\n\n['/film/film/featured_film_locations(X,/m/030qb3t)', '<=', '/film/film/genre(X,/m/01jfsb)\\n']\n['/film/film/featured_film_locations', 'X,/m/030qb3t)']\n['/film/film/genre', 'X,/m/01jfsb)\\n']\n/film/film/release_date_s./film/film_regional_release_date/film_release_region(X,/m/09c7w0) <= /film/film/country(X,A)\n\n['/film/film/release_date_s./film/film_regional_release_date/film_release_region(X,/m/09c7w0)', '<=', '/film/film/country(X,A)\\n']\n['/film/film/release_date_s./film/film_regional_release_date/film_release_region', 'X,/m/09c7w0)']\n['/film/film/country', 'X,A)\\n']\n/location/capital_of_administrative_division/capital_of./location/administrative_division_capital_relationship/administrative_division(X,Y) <= /location/hud_county_place/county(X,Y)\n\n['/location/capital_of_administrative_division/capital_of./location/administrative_division_capital_relationship/administrative_division(X,Y)', '<=', '/location/hud_county_place/county(X,Y)\\n']\n['/location/capital_of_administrative_division/capital_of./location/administrative_division_capital_relationship/administrative_division', 'X,Y)']\n['/location/hud_county_place/county', 'X,Y)\\n']\n/film/film/release_date_s./film/film_regional_release_date/film_release_region(X,/m/09c7w0) <= /film/film/country(X,/m/0345h)\n\n['/film/film/release_date_s./film/film_regional_release_date/film_release_region(X,/m/09c7w0)', '<=', '/film/film/country(X,/m/0345h)\\n']\n['/film/film/release_date_s./film/film_regional_release_date/film_release_region', 'X,/m/09c7w0)']\n['/film/film/country', 'X,/m/0345h)\\n']\n/olympics/olympic_participating_country/athletes./olympics/olympic_athlete_affiliation/olympics(/m/0f8l9c,Y) <= /olympics/olympic_sport/athletes./olympics/olympic_athlete_affiliation/olympics(/m/06z6r,Y)\n\n['/olympics/olympic_participating_country/athletes./olympics/olympic_athlete_affiliation/olympics(/m/0f8l9c,Y)', '<=', '/olympics/olympic_sport/athletes./olympics/olympic_athlete_affiliation/olympics(/m/06z6r,Y)\\n']\n['/olympics/olympic_participating_country/athletes./olympics/olympic_athlete_affiliation/olympics', '/m/0f8l9c,Y)']\n['/olympics/olympic_sport/athletes./olympics/olympic_athlete_affiliation/olympics', '/m/06z6r,Y)\\n']\n/olympics/olympic_participating_country/athletes./olympics/olympic_athlete_affiliation/olympics(/m/0f8l9c,Y) <= /olympics/olympic_sport/athletes./olympics/olympic_athlete_affiliation/olympics(A,Y)\n\n['/olympics/olympic_participating_country/athletes./olympics/olympic_athlete_affiliation/olympics(/m/0f8l9c,Y)', '<=', '/olympics/olympic_sport/athletes./olympics/olympic_athlete_affiliation/olympics(A,Y)\\n']\n['/olympics/olympic_participating_country/athletes./olympics/olympic_athlete_affiliation/olympics', '/m/0f8l9c,Y)']\n['/olympics/olympic_sport/athletes./olympics/olympic_athlete_affiliation/olympics', 'A,Y)\\n']\n/film/film/release_date_s./film/film_regional_release_date/film_release_region(X,/m/03spz) <= /film/film/release_date_s./film/film_regional_release_date/film_release_region(X,/m/03h64)\n\n['/film/film/release_date_s./film/film_regional_release_date/film_release_region(X,/m/03spz)', '<=', '/film/film/release_date_s./film/film_regional_release_date/film_release_region(X,/m/03h64)\\n']\n['/film/film/release_date_s./film/film_regional_release_date/film_release_region', 'X,/m/03spz)']\n['/film/film/release_date_s./film/film_regional_release_date/film_release_region', 'X,/m/03h64)\\n']\n/film/film/release_date_s./film/film_regional_release_date/film_release_region(X,/m/03spz) <= /film/film/release_date_s./film/film_regional_release_date/film_release_region(X,A)\n\n['/film/film/release_date_s./film/film_regional_release_date/film_release_region(X,/m/03spz)', '<=', '/film/film/release_date_s./film/film_regional_release_date/film_release_region(X,A)\\n']\n['/film/film/release_date_s./film/film_regional_release_date/film_release_region', 'X,/m/03spz)']\n['/film/film/release_date_s./film/film_regional_release_date/film_release_region', 'X,A)\\n']\n/people/ethnicity/people(/m/02w7gg,Y) <= /award/award_nominee/award_nominations./award/award_nomination/award_nominee(A,Y)\n\n['/people/ethnicity/people(/m/02w7gg,Y)', '<=', '/award/award_nominee/award_nominations./award/award_nomination/award_nominee(A,Y)\\n']\n['/people/ethnicity/people', '/m/02w7gg,Y)']\n['/award/award_nominee/award_nominations./award/award_nomination/award_nominee', 'A,Y)\\n']\n/film/film/release_date_s./film/film_regional_release_date/film_release_region(X,/m/015qh) <= /film/film/release_date_s./film/film_regional_release_date/film_release_region(X,/m/06bnz)\n\n['/film/film/release_date_s./film/film_regional_release_date/film_release_region(X,/m/015qh)', '<=', '/film/film/release_date_s./film/film_regional_release_date/film_release_region(X,/m/06bnz)\\n']\n['/film/film/release_date_s./film/film_regional_release_date/film_release_region', 'X,/m/015qh)']\n['/film/film/release_date_s./film/film_regional_release_date/film_release_region', 'X,/m/06bnz)\\n']\n/film/film/release_date_s./film/film_regional_release_date/film_release_region(X,/m/015qh) <= /film/film/release_date_s./film/film_regional_release_date/film_release_region(X,A)\n\n['/film/film/release_date_s./film/film_regional_release_date/film_release_region(X,/m/015qh)', '<=', '/film/film/release_date_s./film/film_regional_release_date/film_release_region(X,A)\\n']\n['/film/film/release_date_s./film/film_regional_release_date/film_release_region', 'X,/m/015qh)']\n['/film/film/release_date_s./film/film_regional_release_date/film_release_region', 'X,A)\\n']\n/people/ethnicity/people(/m/02w7gg,Y) <= /award/award_nominee/award_nominations./award/award_nomination/award_nominee(/m/0djywgn,Y)\n\n['/people/ethnicity/people(/m/02w7gg,Y)', '<=', '/award/award_nominee/award_nominations./award/award_nomination/award_nominee(/m/0djywgn,Y)\\n']\n['/people/ethnicity/people', '/m/02w7gg,Y)']\n['/award/award_nominee/award_nominations./award/award_nomination/award_nominee', '/m/0djywgn,Y)\\n']\n/people/person/place_of_birth(X,Y) <= /people/person/places_lived./people/place_lived/location(X,Y)\n\n['/people/person/place_of_birth(X,Y)', '<=', '/people/person/places_lived./people/place_lived/location(X,Y)\\n']\n['/people/person/place_of_birth', 'X,Y)']\n['/people/person/places_lived./people/place_lived/location', 'X,Y)\\n']\n/dataworld/gardening_hint/split_to(X,Y) <= /music/instrument/family(X,Y)\n\n['/dataworld/gardening_hint/split_to(X,Y)', '<=', '/music/instrument/family(X,Y)\\n']\n['/dataworld/gardening_hint/split_to', 'X,Y)']\n['/music/instrument/family', 'X,Y)\\n']\n/base/aareas/schema/administrative_area/administrative_parent(X,Y) <= /location/capital_of_administrative_division/capital_of./location/administrative_division_capital_relationship/administrative_division(X,Y)\n\n['/base/aareas/schema/administrative_area/administrative_parent(X,Y)', '<=', '/location/capital_of_administrative_division/capital_of./location/administrative_division_capital_relationship/administrative_division(X,Y)\\n']\n['/base/aareas/schema/administrative_area/administrative_parent', 'X,Y)']\n['/location/capital_of_administrative_division/capital_of./location/administrative_division_capital_relationship/administrative_division', 'X,Y)\\n']\n/film/film/release_date_s./film/film_regional_release_date/film_release_region(X,/m/03gj2) <= /film/film/estimated_budget./measurement_unit/dated_money_value/currency(X,/m/09nqf)\n\n['/film/film/release_date_s./film/film_regional_release_date/film_release_region(X,/m/03gj2)', '<=', '/film/film/estimated_budget./measurement_unit/dated_money_value/currency(X,/m/09nqf)\\n']\n['/film/film/release_date_s./film/film_regional_release_date/film_release_region', 'X,/m/03gj2)']\n['/film/film/estimated_budget./measurement_unit/dated_money_value/currency', 'X,/m/09nqf)\\n']\n/film/film/release_date_s./film/film_regional_release_date/film_release_region(X,/m/03gj2) <= /film/film/estimated_budget./measurement_unit/dated_money_value/currency(X,A)\n\n['/film/film/release_date_s./film/film_regional_release_date/film_release_region(X,/m/03gj2)', '<=', '/film/film/estimated_budget./measurement_unit/dated_money_value/currency(X,A)\\n']\n['/film/film/release_date_s./film/film_regional_release_date/film_release_region', 'X,/m/03gj2)']\n['/film/film/estimated_budget./measurement_unit/dated_money_value/currency', 'X,A)\\n']\n/people/person/gender(X,/m/02zsn) <= /people/person/place_of_birth(X,A)\n\n['/people/person/gender(X,/m/02zsn)', '<=', '/people/person/place_of_birth(X,A)\\n']\n['/people/person/gender', 'X,/m/02zsn)']\n['/people/person/place_of_birth', 'X,A)\\n']\n/film/film/release_date_s./film/film_regional_release_date/film_release_distribution_medium(X,/m/029j_) <= /award/award_winning_work/awards_won./award/award_honor/award(X,/m/04kxsb)\n\n['/film/film/release_date_s./film/film_regional_release_date/film_release_distribution_medium(X,/m/029j_)', '<=', '/award/award_winning_work/awards_won./award/award_honor/award(X,/m/04kxsb)\\n']\n['/film/film/release_date_s./film/film_regional_release_date/film_release_distribution_medium', 'X,/m/029j_)']\n['/award/award_winning_work/awards_won./award/award_honor/award', 'X,/m/04kxsb)\\n']\n/film/film/release_date_s./film/film_regional_release_date/film_release_distribution_medium(X,/m/029j_) <= /award/award_winning_work/awards_won./award/award_honor/award(X,A)\n\n['/film/film/release_date_s./film/film_regional_release_date/film_release_distribution_medium(X,/m/029j_)', '<=', '/award/award_winning_work/awards_won./award/award_honor/award(X,A)\\n']\n['/film/film/release_date_s./film/film_regional_release_date/film_release_distribution_medium', 'X,/m/029j_)']\n['/award/award_winning_work/awards_won./award/award_honor/award', 'X,A)\\n']\n/sports/sports_team/roster./american_football/football_roster_position/position(/m/043vc,Y) <= /sports/sports_team/roster./american_football/football_roster_position/position(A,Y)\n\n['/sports/sports_team/roster./american_football/football_roster_position/position(/m/043vc,Y)', '<=', '/sports/sports_team/roster./american_football/football_roster_position/position(A,Y)\\n']\n['/sports/sports_team/roster./american_football/football_roster_position/position', '/m/043vc,Y)']\n['/sports/sports_team/roster./american_football/football_roster_position/position', 'A,Y)\\n']\n/sports/sports_team/roster./american_football/football_roster_position/position(/m/043vc,Y) <= /sports/sports_team/roster./american_football/football_roster_position/position(/m/057xlyq,Y)\n\n['/sports/sports_team/roster./american_football/football_roster_position/position(/m/043vc,Y)', '<=', '/sports/sports_team/roster./american_football/football_roster_position/position(/m/057xlyq,Y)\\n']\n['/sports/sports_team/roster./american_football/football_roster_position/position', '/m/043vc,Y)']\n['/sports/sports_team/roster./american_football/football_roster_position/position', '/m/057xlyq,Y)\\n']\n/film/film/release_date_s./film/film_regional_release_date/film_release_distribution_medium(X,/m/029j_) <= /award/award_winning_work/awards_won./award/award_honor/award(X,/m/0gr51)\n\n['/film/film/release_date_s./film/film_regional_release_date/film_release_distribution_medium(X,/m/029j_)', '<=', '/award/award_winning_work/awards_won./award/award_honor/award(X,/m/0gr51)\\n']\n['/film/film/release_date_s./film/film_regional_release_date/film_release_distribution_medium', 'X,/m/029j_)']\n['/award/award_winning_work/awards_won./award/award_honor/award', 'X,/m/0gr51)\\n']\n/music/performance_role/regular_performances./music/group_membership/role(/m/02k856,Y) <= /music/performance_role/track_performances./music/track_contribution/role(/m/02sgy,Y)\n\n['/music/performance_role/regular_performances./music/group_membership/role(/m/02k856,Y)', '<=', '/music/performance_role/track_performances./music/track_contribution/role(/m/02sgy,Y)\\n']\n['/music/performance_role/regular_performances./music/group_membership/role', '/m/02k856,Y)']\n['/music/performance_role/track_performances./music/track_contribution/role', '/m/02sgy,Y)\\n']\n/music/performance_role/regular_performances./music/group_membership/role(/m/02k856,Y) <= /music/performance_role/track_performances./music/track_contribution/role(A,Y)\n\n['/music/performance_role/regular_performances./music/group_membership/role(/m/02k856,Y)', '<=', '/music/performance_role/track_performances./music/track_contribution/role(A,Y)\\n']\n['/music/performance_role/regular_performances./music/group_membership/role', '/m/02k856,Y)']\n['/music/performance_role/track_performances./music/track_contribution/role', 'A,Y)\\n']\n/music/record_label/artist(/m/011k1h,Y) <= /music/record_label/artist(A,Y)\n\n['/music/record_label/artist(/m/011k1h,Y)', '<=', '/music/record_label/artist(A,Y)\\n']\n['/music/record_label/artist', '/m/011k1h,Y)']\n['/music/record_label/artist', 'A,Y)\\n']\n/music/record_label/artist(/m/011k1h,Y) <= /music/record_label/artist(/m/017l96,Y)\n\n['/music/record_label/artist(/m/011k1h,Y)', '<=', '/music/record_label/artist(/m/017l96,Y)\\n']\n['/music/record_label/artist', '/m/011k1h,Y)']\n['/music/record_label/artist', '/m/017l96,Y)\\n']\n/location/statistical_region/gdp_nominal./measurement_unit/dated_money_value/currency(X,Y) <= /location/statistical_region/gdp_nominal_per_capita./measurement_unit/dated_money_value/currency(X,Y)\n\n['/location/statistical_region/gdp_nominal./measurement_unit/dated_money_value/currency(X,Y)', '<=', '/location/statistical_region/gdp_nominal_per_capita./measurement_unit/dated_money_value/currency(X,Y)\\n']\n['/location/statistical_region/gdp_nominal./measurement_unit/dated_money_value/currency', 'X,Y)']\n['/location/statistical_region/gdp_nominal_per_capita./measurement_unit/dated_money_value/currency', 'X,Y)\\n']\n/film/film/release_date_s./film/film_regional_release_date/film_release_region(X,/m/03rjj) <= /award/award_winning_work/awards_won./award/award_honor/award(X,A)\n\n['/film/film/release_date_s./film/film_regional_release_date/film_release_region(X,/m/03rjj)', '<=', '/award/award_winning_work/awards_won./award/award_honor/award(X,A)\\n']\n['/film/film/release_date_s./film/film_regional_release_date/film_release_region', 'X,/m/03rjj)']\n['/award/award_winning_work/awards_won./award/award_honor/award', 'X,A)\\n']\n/location/location/contains(/m/09c7w0,Y) <= /location/location/adjoin_s./location/adjoining_relationship/adjoins(A,Y)\n\n['/location/location/contains(/m/09c7w0,Y)', '<=', '/location/location/adjoin_s./location/adjoining_relationship/adjoins(A,Y)\\n']\n['/location/location/contains', '/m/09c7w0,Y)']\n['/location/location/adjoin_s./location/adjoining_relationship/adjoins', 'A,Y)\\n']\n/award/award_nominee/award_nominations./award/award_nomination/award(/m/0c6qh,Y) <= /award/award_nominee/award_nominations./award/award_nomination/award(/m/0blq0z,Y)\n\n['/award/award_nominee/award_nominations./award/award_nomination/award(/m/0c6qh,Y)', '<=', '/award/award_nominee/award_nominations./award/award_nomination/award(/m/0blq0z,Y)\\n']\n['/award/award_nominee/award_nominations./award/award_nomination/award', '/m/0c6qh,Y)']\n['/award/award_nominee/award_nominations./award/award_nomination/award', '/m/0blq0z,Y)\\n']\n"
    }
   ],
   "source": [
    "from rule_io.rule_reader import RuleReader\n",
    "\n",
    "reader = RuleReader('output/output-20.txt')\n",
    "all_rules = reader.read()"
   ]
  },
  {
   "cell_type": "code",
   "execution_count": 5,
   "metadata": {
    "tags": [
     "outputPrepend"
    ]
   },
   "outputs": [
    {
     "output_type": "stream",
     "name": "stdout",
     "text": "ted_money_value/currency(X,Y)\n['/education/university/domestic_tuition./measurement_unit/dated_money_value/currency(X,Y)']\n/film/film/release_date_s./film/film_regional_release_date/film_release_region(X,/m/01znc_)\n['/film/film/language(X,/m/04306rv)']\n/film/film/release_date_s./film/film_regional_release_date/film_release_region(X,/m/01znc_)\n['/film/film/language(X,A)']\n/music/performance_role/track_performances./music/track_contribution/role(/m/07_l6,Y)\n['/music/group_member/membership./music/group_membership/role(A,Y)']\n/location/statistical_region/rent50_2./measurement_unit/dated_money_value/currency(X,/m/09nqf)\n['/location/location/adjoin_s./location/adjoining_relationship/adjoins(X,A)']\n/soccer/football_team/current_roster./sports/sports_team_roster/position(X,/m/02nzb8)\n['/soccer/football_team/current_roster./soccer/football_roster_position/position(X,/m/02_j1w)']\n/soccer/football_team/current_roster./sports/sports_team_roster/position(X,/m/02nzb8)\n['/soccer/football_team/current_roster./soccer/football_roster_position/position(X,A)']\n/film/film/release_date_s./film/film_regional_release_date/film_release_region(X,/m/035qy)\n['/film/film/genre(X,/m/01hmnh)']\n/film/film/release_date_s./film/film_regional_release_date/film_release_region(X,/m/035qy)\n['/film/film/genre(X,A)']\n/music/performance_role/guest_performances./music/recording_contribution/performance_role(X,/m/01qbl)\n['/music/performance_role/regular_performances./music/group_membership/role(X,/m/03qjg)']\n/music/performance_role/guest_performances./music/recording_contribution/performance_role(X,/m/01qbl)\n['/music/performance_role/regular_performances./music/group_membership/role(X,A)']\n/media_common/netflix_genre/titles(/m/02l7c8,Y)\n['/media_common/netflix_genre/titles(/m/07ssc,Y)']\n/film/film/other_crew./film/film_crew_gig/film_crew_role(X,/m/01pvkk)\n['/film/film/release_date_s./film/film_regional_release_date/film_release_region(X,A)']\n/base/marchmadness/ncaa_basketball_tournament/seeds./base/marchmadness/ncaa_tournament_seed/team(X,/m/02pjzvh)\n['/base/marchmadness/ncaa_basketball_tournament/seeds./base/marchmadness/ncaa_tournament_seed/team(X,/m/02pqcfz)']\n/base/marchmadness/ncaa_basketball_tournament/seeds./base/marchmadness/ncaa_tournament_seed/team(X,/m/02pjzvh)\n['/base/marchmadness/ncaa_basketball_tournament/seeds./base/marchmadness/ncaa_tournament_seed/team(X,A)']\n/base/popstra/celebrity/dated./base/popstra/dated/participant(X,Y)\n['/people/person/spouse_s./people/marriage/spouse(X,Y)']\n/film/film/other_crew./film/film_crew_gig/film_crew_role(X,/m/01pvkk)\n['/film/film/release_date_s./film/film_regional_release_date/film_release_region(X,/m/0d060g)']\n/location/location/time_zones(X,/m/02fqwt)\n['/location/location/adjoin_s./location/adjoining_relationship/adjoins(X,A)']\n/award/award_category/nominees./award/award_nomination/nominated_for(X,/m/02c638)\n['/award/award_category/winners./award/award_honor/award_winner(X,A)']\n/film/film/written_by(X,Y)\n['/award/award_winning_work/awards_won./award/award_honor/award_winner(X,Y)']\n/education/field_of_study/students_majoring./education/education/major_field_of_study(/m/064_8sq,Y)\n['/education/educational_institution/students_graduates./education/education/major_field_of_study(A,Y)']\n/award/award_category/winners./award/award_honor/ceremony(X,/m/05pd94v)\n['/award/award_category/winners./award/award_honor/award_winner(X,A)']\n/sports/sports_team/roster./american_football/football_roster_position/position(/m/04ls81,Y)\n['/sports/sports_team/roster./american_football/football_historical_roster_position/position_s(A,Y)']\n/sports/sports_team/roster./american_football/football_roster_position/position(/m/04ls81,Y)\n['/sports/sports_team/roster./american_football/football_historical_roster_position/position_s(/m/01ct6,Y)']\n/sports/sports_team/colors(X,/m/019sc)\n['/sports/professional_sports_team/draft_picks./sports/sports_league_draft_pick/school(X,A)']\n/soccer/football_team/current_roster./soccer/football_roster_position/position(X,/m/02_j1w)\n['/soccer/football_team/current_roster./soccer/football_roster_position/position(X,/m/02nzb8)']\n/soccer/football_team/current_roster./soccer/football_roster_position/position(X,/m/02_j1w)\n['/soccer/football_team/current_roster./soccer/football_roster_position/position(X,A)']\n/people/person/spouse_s./people/marriage/type_of_union(X,/m/04ztj)\n['/people/person/place_of_birth(X,/m/02_286)']\n/education/educational_institution/students_graduates./education/education/major_field_of_study(X,/m/02j62)\n['/organization/organization/headquarters./location/mailing_address/state_province_region(X,A)']\n/people/person/spouse_s./people/marriage/type_of_union(X,/m/04ztj)\n['/people/person/place_of_birth(X,A)']\n/award/award_winning_work/awards_won./award/award_honor/award_winner(X,Y)\n['/film/film/written_by(X,Y)']\n/award/award_nominee/award_nominations./award/award_nomination/award(X,/m/04ljl_l)\n['/award/award_nominee/award_nominations./award/award_nomination/award(X,/m/05p09zm)']\n/medicine/symptom/symptom_of(X,/m/0hgxh)\n['/medicine/symptom/symptom_of(X,A)']\n/baseball/baseball_team/team_stats./baseball/baseball_team_stats/season(/m/01ypc,Y)\n['/baseball/baseball_team/team_stats./baseball/baseball_team_stats/season(/m/07l8x,Y)']\n/baseball/baseball_team/team_stats./baseball/baseball_team_stats/season(/m/01ypc,Y)\n['/baseball/baseball_team/team_stats./baseball/baseball_team_stats/season(A,Y)']\n/film/film/genre(X,/m/02kdv5l)\n['/film/film/story_by(X,A)']\n/sports/sports_position/players./sports/sports_team_roster/team(X,/m/0289q)\n['/sports/sports_position/players./american_football/football_historical_roster_position/position_s(X,/m/0bgv8y)']\n/sports/sports_position/players./sports/sports_team_roster/team(X,/m/0289q)\n['/sports/sports_position/players./american_football/football_historical_roster_position/position_s(X,A)']\n/sports/sports_team/roster./american_football/football_roster_position/position(X,/m/02g_6x)\n['/sports/sports_team/roster./american_football/football_historical_roster_position/position_s(X,A)']\n/sports/sports_team/roster./american_football/football_roster_position/position(X,/m/02g_6x)\n['/sports/sports_team/roster./american_football/football_historical_roster_position/position_s(X,/m/08ns5s)']\n/music/genre/artists(X,/m/03t9sp)\n['/music/genre/parent_genre(X,A)']\n/film/film/release_date_s./film/film_regional_release_date/film_release_distribution_medium(X,/m/029j_)\n['/film/film/genre(X,A)']\n/location/administrative_division/country(X,/m/0d05w3)\n['/base/aareas/schema/administrative_area/administrative_parent(X,/m/0d05w3)']\n/film/film/release_date_s./film/film_regional_release_date/film_release_region(/m/03twd6,Y)\n['/film/film/release_date_s./film/film_regional_release_date/film_release_region(A,Y)']\n/film/film/release_date_s./film/film_regional_release_date/film_release_region(/m/03twd6,Y)\n['/film/film/release_date_s./film/film_regional_release_date/film_release_region(/m/0dgpwnk,Y)']\n/film/film/release_date_s./film/film_regional_release_date/film_release_region(X,/m/06f32)\n['/film/film/release_date_s./film/film_regional_release_date/film_release_region(X,A)']\n/film/film/release_date_s./film/film_regional_release_date/film_release_region(X,/m/06f32)\n['/film/film/release_date_s./film/film_regional_release_date/film_release_region(X,/m/09pmkv)']\n/film/film/release_date_s./film/film_regional_release_date/film_release_region(X,/m/0d0vqn)\n['/film/film/release_date_s./film/film_regional_release_date/film_release_region(X,/m/0jgd)']\n/film/film/release_date_s./film/film_regional_release_date/film_release_region(X,/m/0d0vqn)\n['/film/film/release_date_s./film/film_regional_release_date/film_release_region(X,A)']\n/location/administrative_division/first_level_division_of(X,Y)\n['/base/aareas/schema/administrative_area/administrative_parent(X,Y)']\n/music/artist/track_contributions./music/track_contribution/role(/m/023slg,Y)\n['/music/performance_role/track_performances./music/track_contribution/role(A,Y)']\n/music/artist/track_contributions./music/track_contribution/role(/m/023slg,Y)\n['/music/performance_role/track_performances./music/track_contribution/role(/m/07y_7,Y)']\n/olympics/olympic_sport/athletes./olympics/olympic_athlete_affiliation/country(/m/0486tv,Y)\n['/language/human_language/countries_spoken_in(A,Y)']\n/soccer/football_team/current_roster./soccer/football_roster_position/position(X,/m/02_j1w)\n['/soccer/football_team/current_roster./sports/sports_team_roster/position(X,A)']\n/soccer/football_team/current_roster./soccer/football_roster_position/position(X,/m/02_j1w)\n['/soccer/football_team/current_roster./sports/sports_team_roster/position(X,/m/02sdk9v)']\n/soccer/football_team/current_roster./soccer/football_roster_position/position(X,/m/02_j1w)\n['/soccer/football_team/current_roster./sports/sports_team_roster/position(X,/m/02_j1w)']\n/olympics/olympic_sport/athletes./olympics/olympic_athlete_affiliation/country(/m/06z6r,Y)\n['/olympics/olympic_sport/athletes./olympics/olympic_athlete_affiliation/country(A,Y)']\n/olympics/olympic_sport/athletes./olympics/olympic_athlete_affiliation/country(/m/06z6r,Y)\n['/olympics/olympic_sport/athletes./olympics/olympic_athlete_affiliation/country(/m/0486tv,Y)']\n/military/military_combatant/military_conflicts./military/military_combatant_group/combatants(/m/05qhw,Y)\n['/film/film/release_date_s./film/film_regional_release_date/film_release_region(/m/02x6dqb,Y)']\n/military/military_combatant/military_conflicts./military/military_combatant_group/combatants(/m/05qhw,Y)\n['/film/film/release_date_s./film/film_regional_release_date/film_release_region(A,Y)']\n/olympics/olympic_participating_country/medals_won./olympics/olympic_medal_honor/medal(X,/m/02lpp7)\n['/location/location/contains(X,A)']\n/film/film/production_companies(X,/m/086k8)\n['/film/film/runtime./film/film_cut/film_release_region(X,A)']\n/music/performance_role/regular_performances./music/group_membership/group(/m/05r5c,Y)\n['/music/genre/artists(/m/06by7,Y)']\n/music/performance_role/track_performances./music/track_contribution/role(/m/07y_7,Y)\n['/music/performance_role/track_performances./music/track_contribution/role(/m/018vs,Y)']\n/music/performance_role/track_performances./music/track_contribution/role(/m/07y_7,Y)\n['/music/performance_role/track_performances./music/track_contribution/role(A,Y)']\n/film/director/film(X,Y)\n['/award/award_nominee/award_nominations./award/award_nomination/nominated_for(X,Y)']\n/award/award_winner/awards_won./award/award_honor/award_winner(/m/01wb8bs,Y)\n['/award/award_winner/awards_won./award/award_honor/award_winner(/m/0308kx,Y)']\n/award/award_category/winners./award/award_honor/ceremony(/m/01c9dd,Y)\n['/award/award_category/winners./award/award_honor/ceremony(/m/024fxq,Y)']\n/award/award_category/winners./award/award_honor/ceremony(/m/01c9dd,Y)\n['/award/award_category/winners./award/award_honor/ceremony(A,Y)']\n/music/performance_role/regular_performances./music/group_membership/group(X,/m/0bpk2)\n['/music/instrument/instrumentalists(X,A)']\n/music/instrument/instrumentalists(X,/m/0161sp)\n['/music/performance_role/regular_performances./music/group_membership/role(X,A)']\n/music/instrument/instrumentalists(X,/m/0161sp)\n['/music/performance_role/regular_performances./music/group_membership/role(X,/m/01hww_)']\n/award/award_nominee/award_nominations./award/award_nomination/nominated_for(X,Y)\n['/film/film_distributor/films_distributed./film/film_film_distributor_relationship/film(X,Y)']\n/film/film/release_date_s./film/film_regional_release_date/film_release_region(X,/m/06qd3)\n['/film/film/release_date_s./film/film_regional_release_date/film_release_region(X,A)']\n/film/film/release_date_s./film/film_regional_release_date/film_release_region(X,/m/06qd3)\n['/film/film/release_date_s./film/film_regional_release_date/film_release_region(X,/m/05v10)']\n/people/person/profession(X,/m/0np9r)\n['/award/award_nominee/award_nominations./award/award_nomination/award(X,A)']\n/people/person/profession(X,/m/0np9r)\n['/award/award_nominee/award_nominations./award/award_nomination/award(X,/m/0bp_b2)']\n/music/group_member/membership./music/group_membership/role(X,/m/0l14md)\n['/music/artist/track_contributions./music/track_contribution/role(X,A)']\n/award/award_nominee/award_nominations./award/award_nomination/nominated_for(X,Y)\n['/tv/tv_producer/programs_produced./tv/tv_producer_term/program(X,Y)']\n/music/genre/artists(/m/05r6t,Y)\n['/music/record_label/artist(A,Y)']\n/people/person/places_lived./people/place_lived/location(X,/m/030qb3t)\n['/award/award_nominee/award_nominations./award/award_nomination/award(X,A)']\n/government/legislative_session/members./government/government_position_held/district_represented(/m/02bp37,Y)\n['/government/legislative_session/members./government/government_position_held/district_represented(/m/024tcq,Y)']\n/government/legislative_session/members./government/government_position_held/district_represented(/m/02bp37,Y)\n['/government/legislative_session/members./government/government_position_held/district_represented(A,Y)']\n/award/award_nominee/award_nominations./award/award_nomination/award_nominee(/m/0cms7f,Y)\n['/award/award_nominee/award_nominations./award/award_nomination/award_nominee(/m/0cmt6q,Y)']\n/film/film/country(X,Y)\n['/film/film/distributors./film/film_film_distributor_relationship/region(X,Y)']\n/location/hud_foreclosure_area/estimated_number_of_mortgages./measurement_unit/dated_integer/source(X,/m/0jbk9)\n['/common/topic/webpage./common/webpage/category(X,/m/08mbj5d)']\n/location/hud_foreclosure_area/estimated_number_of_mortgages./measurement_unit/dated_integer/source(X,/m/0jbk9)\n['/common/topic/webpage./common/webpage/category(X,A)']\n/award/hall_of_fame/inductees./award/hall_of_fame_induction/inductee(/m/0g2c8,Y)\n['/music/genre/artists(A,Y)']\n/award/hall_of_fame/inductees./award/hall_of_fame_induction/inductee(/m/0g2c8,Y)\n['/music/genre/artists(/m/05w3f,Y)']\n/award/award_winning_work/awards_won./award/award_honor/award(X,/m/0gq9h)\n['/award/award_winning_work/awards_won./award/award_honor/award(X,A)']\n/business/business_operation/operating_income./measurement_unit/dated_money_value/currency(X,Y)\n['/business/business_operation/revenue./measurement_unit/dated_money_value/currency(X,Y)']\n/film/film/release_date_s./film/film_regional_release_date/film_release_region(X,/m/03rt9)\n['/film/film/production_companies(X,A)']\n/film/film/release_date_s./film/film_regional_release_date/film_release_region(/m/03np63f,Y)\n['/base/biblioness/bibs_location/country(A,Y)']\n/base/schemastaging/person_extra/net_worth./measurement_unit/dated_money_value/currency(X,/m/09nqf)\n['/music/artist/track_contributions./music/track_contribution/role(X,A)']\n/film/film/release_date_s./film/film_regional_release_date/film_release_region(/m/0h1cdwq,Y)\n['/film/film/release_date_s./film/film_regional_release_date/film_release_region(/m/0crc2cp,Y)']\n/film/film/estimated_budget./measurement_unit/dated_money_value/currency(X,/m/09nqf)\n['/film/film/language(X,A)']\n/award/award_winner/awards_won./award/award_honor/award_winner(/m/06czyr,Y)\n['/award/award_winner/awards_won./award/award_honor/award_winner(/m/09f0bj,Y)']\n/film/film/estimated_budget./measurement_unit/dated_money_value/currency(X,/m/09nqf)\n['/film/film/language(X,/m/02h40lc)']\n/film/film/featured_film_locations(X,/m/030qb3t)\n['/film/film/genre(X,/m/01jfsb)']\n/film/film/release_date_s./film/film_regional_release_date/film_release_region(X,/m/09c7w0)\n['/film/film/country(X,A)']\n/location/capital_of_administrative_division/capital_of./location/administrative_division_capital_relationship/administrative_division(X,Y)\n['/location/hud_county_place/county(X,Y)']\n/film/film/release_date_s./film/film_regional_release_date/film_release_region(X,/m/09c7w0)\n['/film/film/country(X,/m/0345h)']\n/olympics/olympic_participating_country/athletes./olympics/olympic_athlete_affiliation/olympics(/m/0f8l9c,Y)\n['/olympics/olympic_sport/athletes./olympics/olympic_athlete_affiliation/olympics(/m/06z6r,Y)']\n/olympics/olympic_participating_country/athletes./olympics/olympic_athlete_affiliation/olympics(/m/0f8l9c,Y)\n['/olympics/olympic_sport/athletes./olympics/olympic_athlete_affiliation/olympics(A,Y)']\n/film/film/release_date_s./film/film_regional_release_date/film_release_region(X,/m/03spz)\n['/film/film/release_date_s./film/film_regional_release_date/film_release_region(X,/m/03h64)']\n/film/film/release_date_s./film/film_regional_release_date/film_release_region(X,/m/03spz)\n['/film/film/release_date_s./film/film_regional_release_date/film_release_region(X,A)']\n/people/ethnicity/people(/m/02w7gg,Y)\n['/award/award_nominee/award_nominations./award/award_nomination/award_nominee(A,Y)']\n/film/film/release_date_s./film/film_regional_release_date/film_release_region(X,/m/015qh)\n['/film/film/release_date_s./film/film_regional_release_date/film_release_region(X,/m/06bnz)']\n/film/film/release_date_s./film/film_regional_release_date/film_release_region(X,/m/015qh)\n['/film/film/release_date_s./film/film_regional_release_date/film_release_region(X,A)']\n/people/ethnicity/people(/m/02w7gg,Y)\n['/award/award_nominee/award_nominations./award/award_nomination/award_nominee(/m/0djywgn,Y)']\n/people/person/place_of_birth(X,Y)\n['/people/person/places_lived./people/place_lived/location(X,Y)']\n/dataworld/gardening_hint/split_to(X,Y)\n['/music/instrument/family(X,Y)']\n/base/aareas/schema/administrative_area/administrative_parent(X,Y)\n['/location/capital_of_administrative_division/capital_of./location/administrative_division_capital_relationship/administrative_division(X,Y)']\n/film/film/release_date_s./film/film_regional_release_date/film_release_region(X,/m/03gj2)\n['/film/film/estimated_budget./measurement_unit/dated_money_value/currency(X,/m/09nqf)']\n/film/film/release_date_s./film/film_regional_release_date/film_release_region(X,/m/03gj2)\n['/film/film/estimated_budget./measurement_unit/dated_money_value/currency(X,A)']\n/people/person/gender(X,/m/02zsn)\n['/people/person/place_of_birth(X,A)']\n/film/film/release_date_s./film/film_regional_release_date/film_release_distribution_medium(X,/m/029j_)\n['/award/award_winning_work/awards_won./award/award_honor/award(X,/m/04kxsb)']\n/film/film/release_date_s./film/film_regional_release_date/film_release_distribution_medium(X,/m/029j_)\n['/award/award_winning_work/awards_won./award/award_honor/award(X,A)']\n/sports/sports_team/roster./american_football/football_roster_position/position(/m/043vc,Y)\n['/sports/sports_team/roster./american_football/football_roster_position/position(A,Y)']\n/sports/sports_team/roster./american_football/football_roster_position/position(/m/043vc,Y)\n['/sports/sports_team/roster./american_football/football_roster_position/position(/m/057xlyq,Y)']\n/film/film/release_date_s./film/film_regional_release_date/film_release_distribution_medium(X,/m/029j_)\n['/award/award_winning_work/awards_won./award/award_honor/award(X,/m/0gr51)']\n/music/performance_role/regular_performances./music/group_membership/role(/m/02k856,Y)\n['/music/performance_role/track_performances./music/track_contribution/role(/m/02sgy,Y)']\n/music/performance_role/regular_performances./music/group_membership/role(/m/02k856,Y)\n['/music/performance_role/track_performances./music/track_contribution/role(A,Y)']\n/music/record_label/artist(/m/011k1h,Y)\n['/music/record_label/artist(A,Y)']\n/music/record_label/artist(/m/011k1h,Y)\n['/music/record_label/artist(/m/017l96,Y)']\n/location/statistical_region/gdp_nominal./measurement_unit/dated_money_value/currency(X,Y)\n['/location/statistical_region/gdp_nominal_per_capita./measurement_unit/dated_money_value/currency(X,Y)']\n/film/film/release_date_s./film/film_regional_release_date/film_release_region(X,/m/03rjj)\n['/award/award_winning_work/awards_won./award/award_honor/award(X,A)']\n/location/location/contains(/m/09c7w0,Y)\n['/location/location/adjoin_s./location/adjoining_relationship/adjoins(A,Y)']\n/award/award_nominee/award_nominations./award/award_nomination/award(/m/0c6qh,Y)\n['/award/award_nominee/award_nominations./award/award_nomination/award(/m/0blq0z,Y)']\n"
    }
   ],
   "source": [
    "for r in all_rules:\n",
    "    print(r.head)\n",
    "    print([str(t) for t in r.body])"
   ]
  },
  {
   "cell_type": "markdown",
   "metadata": {},
   "source": [
    "## Test ScoreTree"
   ]
  },
  {
   "cell_type": "code",
   "execution_count": 1,
   "metadata": {},
   "outputs": [],
   "source": [
    "from structure.score_tree import ScoreTree\n",
    "\n",
    "tree = ScoreTree()"
   ]
  },
  {
   "cell_type": "code",
   "execution_count": 2,
   "metadata": {
    "tags": []
   },
   "outputs": [],
   "source": [
    "s1 = set(['a', 'b', 'c', 'd', 'd1', 'd2'])\n",
    "tree.add_values(0.9, s1)"
   ]
  },
  {
   "cell_type": "code",
   "execution_count": 3,
   "metadata": {
    "tags": []
   },
   "outputs": [
    {
     "output_type": "stream",
     "name": "stdout",
     "text": "0.0 [0](6) -> {   }\n     0.9 [6](6) -> { c d a d1 d2 b }\n\nprecise enough False\nfirst unique False\n"
    }
   ],
   "source": [
    "print(tree)\n",
    "print('precise enough',tree.fine())\n",
    "print('first unique',tree.is_first_unique())"
   ]
  },
  {
   "cell_type": "code",
   "execution_count": 4,
   "metadata": {
    "tags": []
   },
   "outputs": [
    {
     "output_type": "stream",
     "name": "stdout",
     "text": "0.0 [0](8) -> {   }\n     0.9 [6](6) -> { c d a d1 d2 b }\n     0.8999 [8](2) -> { bbb aaa }\n\nprecise enough False\nfirst unique False\n"
    }
   ],
   "source": [
    "s11=set(['aaa', 'bbb'])\n",
    "tree.add_values(0.8999, s11)\n",
    "print(tree)\n",
    "print('precise enough',tree.fine())\n",
    "print('first unique',tree.is_first_unique())"
   ]
  },
  {
   "cell_type": "code",
   "execution_count": 5,
   "metadata": {
    "tags": []
   },
   "outputs": [
    {
     "output_type": "stream",
     "name": "stdout",
     "text": "0.0 [0](8) -> {   }\n     0.9 [6](6) -> { d2 c d d1 }\n         0.8999 [2](2) -> { b a }\n     0.8999 [8](2) -> { bbb aaa }\n\nprecise enough False\nfirst unique False\n"
    }
   ],
   "source": [
    "s12 = set(['a', 'b'])\n",
    "tree.add_values(0.8999, s12)\n",
    "print(tree)\n",
    "print('precise enough',tree.fine())\n",
    "print('first unique',tree.is_first_unique())"
   ]
  },
  {
   "cell_type": "code",
   "execution_count": 6,
   "metadata": {
    "tags": []
   },
   "outputs": [
    {
     "output_type": "stream",
     "name": "stdout",
     "text": "0.0 [0](12) -> {   }\n     0.9 [6](6) -> { d2 c d d1 }\n         0.8999 [2](2) -> { b a }\n     0.8999 [8](2) -> { bbb aaa }\n     0.88 [12](4) -> { e3 e4 e2 e1 }\n\nprecise enough False\nfirst unique False\n"
    }
   ],
   "source": [
    "s2 = set(['a', 'b', 'e1', 'e2', 'e3', 'e4'])\n",
    "tree.add_values(0.88, s2)\n",
    "print(tree)\n",
    "print('precise enough',tree.fine())\n",
    "print('first unique',tree.is_first_unique())"
   ]
  },
  {
   "cell_type": "code",
   "execution_count": 7,
   "metadata": {
    "tags": []
   },
   "outputs": [
    {
     "output_type": "stream",
     "name": "stdout",
     "text": "0.0 [0](12) -> {   }\n     0.9 [6](6) -> { d2 c d d1 }\n        X 0.8999 [2](2) -> { b }\n            X 0.6 [1](1) -> { a }\n     0.8999 [8](2) -> { bbb aaa }\n     0.88 [10](2) -> { e4 e1 }\n\nprecise enough True\nfirst unique True\n"
    }
   ],
   "source": [
    "s3 = set(['a', 'e1', 'e4'])\n",
    "tree.add_values(0.6, s3)\n",
    "print(tree)\n",
    "print('precise enough',tree.fine())\n",
    "print('first unique',tree.is_first_unique())"
   ]
  },
  {
   "cell_type": "code",
   "execution_count": 8,
   "metadata": {
    "tags": []
   },
   "outputs": [
    {
     "output_type": "stream",
     "name": "stdout",
     "text": "0.0 [0](12) -> {   }\n     0.9 [6](6) -> { d2 c d d1 }\n        X 0.8999 [2](2) -> { b }\n            X 0.6 [1](1) -> { a }\n     0.8999 [8](2) -> { bbb aaa }\n     0.88 [10](2) -> { e4 e1 }\n\nprecise enough True\nfirst unique True\n"
    }
   ],
   "source": [
    "s4 = set(['xa', 'xb', 'xe1', 'xe2', 'xe3', 'xe4'])\n",
    "tree.add_values(0.5, s4)\n",
    "print(tree)\n",
    "print('precise enough',tree.fine())\n",
    "print('first unique',tree.is_first_unique())"
   ]
  },
  {
   "cell_type": "code",
   "execution_count": 9,
   "metadata": {
    "tags": []
   },
   "outputs": [
    {
     "output_type": "stream",
     "name": "stdout",
     "text": "0.0 [0](12) -> {   }\n     0.9 [6](6) -> { d2 c d d1 }\n        X 0.8999 [2](2) -> { b }\n            X 0.6 [1](1) -> { a }\n     0.8999 [8](2) -> { bbb aaa }\n     0.88 [10](2) -> { e4 e1 }\n\nprecise enough True\n"
    }
   ],
   "source": [
    "s5 = set(['xa', 'xb', 'ye1', 'ye2', 'ye3', 'ye4'])\n",
    "tree.add_values(0.43, s4)\n",
    "print(tree)\n",
    "print('precise enough',tree.fine())"
   ]
  },
  {
   "cell_type": "code",
   "execution_count": 10,
   "metadata": {
    "tags": []
   },
   "outputs": [
    {
     "output_type": "stream",
     "name": "stdout",
     "text": "0.0 [0](12) -> {   }\n     0.9 [6](6) -> { d2 c d d1 }\n        X 0.8999 [2](2) -> { b }\n            X 0.6 [1](1) -> { a }\n     0.8999 [8](2) -> { bbb aaa }\n     0.88 [10](2) -> { e4 e1 }\n\nprecise enough True\n"
    }
   ],
   "source": [
    "s6 = set(['xe2', 'xa', 'xxx'])\n",
    "tree.add_values(0.39, s6)\n",
    "print(tree)\n",
    "print('precise enough',tree.fine())"
   ]
  },
  {
   "cell_type": "code",
   "execution_count": 11,
   "metadata": {
    "tags": []
   },
   "outputs": [
    {
     "output_type": "stream",
     "name": "stdout",
     "text": "0.0 [0](12) -> {   }\n     0.9 [6](6) -> { d2 c d d1 }\n        X 0.8999 [2](2) -> { b }\n            X 0.6 [1](1) -> { a }\n     0.8999 [8](2) -> { bbb aaa }\n     0.88 [10](2) -> { e4 e1 }\n\nprecise enough True\n"
    }
   ],
   "source": [
    "s7 = set(['xe1', 'xe2'])\n",
    "tree.add_values(0.22, s7)\n",
    "print(tree)\n",
    "print('precise enough',tree.fine())"
   ]
  },
  {
   "cell_type": "code",
   "execution_count": 12,
   "metadata": {
    "tags": []
   },
   "outputs": [
    {
     "output_type": "stream",
     "name": "stdout",
     "text": "0.0 [0](12) -> {   }\n     0.9 [6](6) -> { d2 c d d1 }\n        X 0.8999 [2](2) -> { b }\n            X 0.6 [1](1) -> { a }\n     0.8999 [8](2) -> { bbb aaa }\n     0.88 [10](2) -> { e4 e1 }\n\nprecise enough True\n"
    }
   ],
   "source": [
    "s8 = set(['xe4'])\n",
    "tree.add_values(0.21, s8)\n",
    "print(tree)\n",
    "print('precise enough',tree.fine())"
   ]
  },
  {
   "cell_type": "code",
   "execution_count": 13,
   "metadata": {
    "tags": []
   },
   "outputs": [
    {
     "output_type": "stream",
     "name": "stdout",
     "text": "0.0 [0](12) -> {   }\n     0.9 [6](6) -> { d2 c d d1 }\n        X 0.8999 [2](2) -> { b }\n            X 0.6 [1](1) -> { a }\n     0.8999 [8](2) -> { bbb aaa }\n    X 0.88 [10](2) -> { e4 }\n        X 0.21 [9](1) -> { e1 }\n\nprecise enough True\n"
    }
   ],
   "source": [
    "s9 = set(['e1', 'e2'])\n",
    "tree.add_values(0.21, s9)\n",
    "print(tree)\n",
    "print('precise enough',tree.fine())"
   ]
  },
  {
   "cell_type": "code",
   "execution_count": 14,
   "metadata": {
    "tags": []
   },
   "outputs": [
    {
     "output_type": "stream",
     "name": "stdout",
     "text": "0.0 [0](12) -> {   }\n     0.9 [6](6) -> { d2 c d d1 }\n        X 0.8999 [2](2) -> { b }\n            X 0.6 [1](1) -> { a }\n     0.8999 [8](2) -> { bbb aaa }\n    X 0.88 [10](2) -> { e4 }\n        X 0.21 [9](1) -> { e1 }\n\n"
    }
   ],
   "source": [
    "s19 = set(['u1', 'u2'])\n",
    "tree.add_values(0.19, s9)\n",
    "print(tree)"
   ]
  },
  {
   "cell_type": "code",
   "execution_count": 15,
   "metadata": {},
   "outputs": [
    {
     "output_type": "execute_result",
     "data": {
      "text/plain": "{'a': 0.9000899960000001,\n 'b': 0.90008999,\n 'd2': 0.9,\n 'c': 0.9,\n 'd': 0.9,\n 'd1': 0.9,\n 'bbb': 0.8999,\n 'aaa': 0.8999,\n 'e1': 0.880021,\n 'e4': 0.88}"
     },
     "metadata": {},
     "execution_count": 15
    }
   ],
   "source": [
    "map_get = {}\n",
    "tree.get_as_linked_map(map_get)\n",
    "map_get"
   ]
  },
  {
   "cell_type": "code",
   "execution_count": null,
   "metadata": {},
   "outputs": [],
   "source": []
  }
 ],
 "metadata": {
  "language_info": {
   "codemirror_mode": {
    "name": "ipython",
    "version": 3
   },
   "file_extension": ".py",
   "mimetype": "text/x-python",
   "name": "python",
   "nbconvert_exporter": "python",
   "pygments_lexer": "ipython3",
   "version": "3.7.3-final"
  },
  "orig_nbformat": 2,
  "kernelspec": {
   "name": "python3",
   "display_name": "Python 3"
  }
 },
 "nbformat": 4,
 "nbformat_minor": 2
}