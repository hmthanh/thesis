{
 "cells": [
  {
   "cell_type": "code",
   "execution_count": 1,
   "metadata": {
    "tags": []
   },
   "outputs": [
    {
     "output_type": "stream",
     "name": "stdout",
     "text": "* set up index for 224 relations, 8171 head entities, and 6376 tail entities\n"
    }
   ],
   "source": [
    "from data.triple_set import TripleSet\n",
    "data = TripleSet()\n",
    "data.read_triples('../../datasets/FB15k-237/test.txt')"
   ]
  },
  {
   "cell_type": "code",
   "execution_count": 2,
   "metadata": {},
   "outputs": [
    {
     "output_type": "execute_result",
     "data": {
      "text/plain": "'/m/08966 /travel/travel_destination/climate./travel/travel_destination_monthly_climate/month /m/05lf_\\n /m/01hww_ /music/performance_role/regular_performances./music/group_membership/group /m/01q99h\\n /m/09v3jyg /film/film/release_date_s./film/film_regional_release_date/film_release_region /m/0f8l9c\\n /m/02jx1 /location/location/contains /m/013t85\\n /m/02jx1 /location/location/contains /m/0m0bj\\n /m/02bfmn /film/actor/film./film/performance/film /m/04ghz4m\\n /m/05zrvfd /award/award_category/nominees./award/award_nomination/nominated_for /m/04y9mm8\\n /m/060bp /government/government_office_category/officeholders./government/government_position_held/jurisdiction_of_office /m/04j53\\n /m/07l450 /film/film/genre /m/082gq\\n /m/07h1h5 /sports/pro_athlete/teams./sports/sports_team_roster/team /m/029q3k\\n'"
     },
     "metadata": {},
     "execution_count": 2
    }
   ],
   "source": [
    "' '.join([str(item) for item in data.triples[0:10]])"
   ]
  },
  {
   "cell_type": "markdown",
   "metadata": {},
   "source": [
    "# test path sample"
   ]
  },
  {
   "cell_type": "code",
   "execution_count": 3,
   "metadata": {
    "tags": []
   },
   "outputs": [
    {
     "output_type": "stream",
     "name": "stdout",
     "text": "* set up index for 224 relations, 8171 head entities, and 6376 tail entities\n* read 20466 triples\n"
    }
   ],
   "source": [
    "from data.triple_set import TripleSet\n",
    "data = TripleSet()\n",
    "data.read_triples('../../datasets/FB15k-237/test.txt')\n",
    "print('* read {} triples'.format(len(data.triples)))"
   ]
  },
  {
   "cell_type": "code",
   "execution_count": 4,
   "metadata": {},
   "outputs": [],
   "source": [
    "from algorithm.path_sampler import PathSampler\n",
    "ps = PathSampler(data)"
   ]
  },
  {
   "cell_type": "code",
   "execution_count": 1,
   "metadata": {
    "tags": []
   },
   "outputs": [],
   "source": [
    "some_path = set([])\n",
    "# for i in range(1000):\n",
    "#     p = ps.sample_path(2, True)\n",
    "#     if i % 50 == 0 and p is not None:\n",
    "#         print(p)\n",
    "#         print(\"\\n\\n\\n\")\n",
    "#     if p is not None: ###p.isValid()) {\n",
    "#         some_pathes.add(p)"
   ]
  },
  {
   "cell_type": "code",
   "execution_count": 1,
   "metadata": {
    "tags": []
   },
   "outputs": [
    {
     "output_type": "stream",
     "name": "stdout",
     "text": "* set up index for 11 relations, 39610 head entities, and 31881 tail entities\n"
    }
   ],
   "source": [
    "from learn import Learn\n",
    "# '../../datasets/FB15k-237/train.txt' '../../datasets/WN18RR/train.txt'\n",
    "learning = Learn('../../datasets/FB15k-237/train.txt')"
   ]
  },
  {
   "cell_type": "code",
   "execution_count": 2,
   "metadata": {
    "tags": [
     "outputPrepend"
    ]
   },
   "outputs": [
    {
     "output_type": "stream",
     "name": "stdout",
     "text": "~~  0.4\n>>> ****** Batch [ACYCLIC 1] batchCounter: 24 (sampled 1972154 pathes) *****\n>>> fraction of previously seen rules within useful rules in this batch: 0.0  NEW=1 PREV=0 ALL=92\n>>> ~~~~~~~~~~~~~~~~~~current_coverage~~~~~~~~~~~~~~~~~~~~~~~~~~  0.0\n>>> ****** Batch [CYCLIC 1] batchCounter: 25 (sampled 1976596 pathes) *****\n>>> fraction of previously seen rules within useful rules in this batch: 0.7222222222222222  NEW=5 PREV=13 ALL=2618\n>>> ~~~~~~~~~~~~~~~~~~current_coverage~~~~~~~~~~~~~~~~~~~~~~~~~~  0.7222222222222222\n>>> ****** Batch [ACYCLIC 1] batchCounter: 26 (sampled 2141426 pathes) *****\n>>> fraction of previously seen rules within useful rules in this batch: 0.0  NEW=1 PREV=0 ALL=93\n>>> ~~~~~~~~~~~~~~~~~~current_coverage~~~~~~~~~~~~~~~~~~~~~~~~~~  0.0\n>>> ****** Batch [CYCLIC 1] batchCounter: 27 (sampled 2145887 pathes) *****\n>>> fraction of previously seen rules within useful rules in this batch: 0.6818181818181818  NEW=7 PREV=15 ALL=2596\n>>> ~~~~~~~~~~~~~~~~~~current_coverage~~~~~~~~~~~~~~~~~~~~~~~~~~  0.6818181818181818\n>>> ****** Batch [ACYCLIC 1] batchCounter: 28 (sampled 2311868 pathes) *****\n>>> fraction of previously seen rules within useful rules in this batch: 0.0  NEW=1 PREV=0 ALL=87\n>>> ~~~~~~~~~~~~~~~~~~current_coverage~~~~~~~~~~~~~~~~~~~~~~~~~~  0.0\n>>> ****** Batch [CYCLIC 1] batchCounter: 29 (sampled 2316386 pathes) *****\n>>> fraction of previously seen rules within useful rules in this batch: 0.6  NEW=8 PREV=12 ALL=2647\n>>> ~~~~~~~~~~~~~~~~~~current_coverage~~~~~~~~~~~~~~~~~~~~~~~~~~  0.6\n>>> ****** Batch [ACYCLIC 1] batchCounter: 30 (sampled 2490530 pathes) *****\n>>> fraction of previously seen rules within useful rules in this batch: 0.0  NEW=1 PREV=0 ALL=105\n>>> ~~~~~~~~~~~~~~~~~~current_coverage~~~~~~~~~~~~~~~~~~~~~~~~~~  0.0\n>>> ****** Batch [CYCLIC 1] batchCounter: 31 (sampled 2495037 pathes) *****\n>>> fraction of previously seen rules within useful rules in this batch: 0.7857142857142857  NEW=3 PREV=11 ALL=2712\n>>> ~~~~~~~~~~~~~~~~~~current_coverage~~~~~~~~~~~~~~~~~~~~~~~~~~  0.7857142857142857\n>>> ~~~~~~~~~~~~~~~~~~~~~~~~~~~~~~~~~~~~~~~~~~~~ \n>>> INCREASING RULE SIZE OF rule_size_cyclic RULE TO  2\n>>> ~~~~~~~~~~~~~~~~~~~~~~~~~~~~~~~~~~~~~~~~~~~~\nincreasing rule size of rule_size_acyclic rules to  2  after  1593317409.9519155 s\n>>> ****** Batch [ACYCLIC 1] batchCounter: 32 (sampled 2657677 pathes) *****\n>>> fraction of previously seen rules within useful rules in this batch: 0.0  NEW=1 PREV=0 ALL=112\n>>> ~~~~~~~~~~~~~~~~~~current_coverage~~~~~~~~~~~~~~~~~~~~~~~~~~  0.0\n>>> ****** Batch [CYCLIC 2] batchCounter: 33 (sampled 2661270 pathes) *****\n>>> fraction of previously seen rules within useful rules in this batch: 0.08333333333333333  NEW=11 PREV=1 ALL=574\n>>> ~~~~~~~~~~~~~~~~~~current_coverage~~~~~~~~~~~~~~~~~~~~~~~~~~  0.08333333333333333\n>>> ****** Batch [ACYCLIC 1] batchCounter: 34 (sampled 2833221 pathes) *****\n>>> fraction of previously seen rules within useful rules in this batch: 0.0  NEW=1 PREV=0 ALL=110\n>>> ~~~~~~~~~~~~~~~~~~current_coverage~~~~~~~~~~~~~~~~~~~~~~~~~~  0.0\n>>> ****** Batch [CYCLIC 2] batchCounter: 35 (sampled 2837048 pathes) *****\n>>> fraction of previously seen rules within useful rules in this batch: 0.0  NEW=9 PREV=0 ALL=546\n>>> ~~~~~~~~~~~~~~~~~~current_coverage~~~~~~~~~~~~~~~~~~~~~~~~~~  0.0\n>>> ****** Batch [ACYCLIC 1] batchCounter: 36 (sampled 3001792 pathes) *****\n>>> fraction of previously seen rules within useful rules in this batch: 0.0  NEW=1 PREV=0 ALL=124\n>>> ~~~~~~~~~~~~~~~~~~current_coverage~~~~~~~~~~~~~~~~~~~~~~~~~~  0.0\n>>> ****** Batch [CYCLIC 2] batchCounter: 37 (sampled 3005287 pathes) *****\n>>> fraction of previously seen rules within useful rules in this batch: 0.0  NEW=9 PREV=0 ALL=586\n>>> ~~~~~~~~~~~~~~~~~~current_coverage~~~~~~~~~~~~~~~~~~~~~~~~~~  0.0\n>>> ****** Batch [ACYCLIC 1] batchCounter: 38 (sampled 3166076 pathes) *****\n>>> fraction of previously seen rules within useful rules in this batch: 0.0  NEW=1 PREV=0 ALL=118\n>>> ~~~~~~~~~~~~~~~~~~current_coverage~~~~~~~~~~~~~~~~~~~~~~~~~~  0.0\n>>> ****** Batch [CYCLIC 2] batchCounter: 39 (sampled 3170231 pathes) *****\n>>> fraction of previously seen rules within useful rules in this batch: 0.0  NEW=9 PREV=0 ALL=648\n>>> ~~~~~~~~~~~~~~~~~~current_coverage~~~~~~~~~~~~~~~~~~~~~~~~~~  0.0\n>>> ****** Batch [ACYCLIC 1] batchCounter: 40 (sampled 3323105 pathes) *****\n>>> fraction of previously seen rules within useful rules in this batch: 0.0  NEW=1 PREV=0 ALL=106\n>>> ~~~~~~~~~~~~~~~~~~current_coverage~~~~~~~~~~~~~~~~~~~~~~~~~~  0.0\n>>> ****** Batch [CYCLIC 2] batchCounter: 41 (sampled 3324502 pathes) *****\n>>> fraction of previously seen rules within useful rules in this batch: 0.0  NEW=5 PREV=0 ALL=238\n>>> ~~~~~~~~~~~~~~~~~~current_coverage~~~~~~~~~~~~~~~~~~~~~~~~~~  0.0\n>>> ****** Batch [ACYCLIC 1] batchCounter: 42 (sampled 3476912 pathes) *****\n>>> fraction of previously seen rules within useful rules in this batch: 0.0  NEW=1 PREV=0 ALL=75\n>>> ~~~~~~~~~~~~~~~~~~current_coverage~~~~~~~~~~~~~~~~~~~~~~~~~~  0.0\n>>> ****** Batch [CYCLIC 2] batchCounter: 43 (sampled 3481107 pathes) *****\n>>> fraction of previously seen rules within useful rules in this batch: 0.0  NEW=9 PREV=0 ALL=628\n>>> ~~~~~~~~~~~~~~~~~~current_coverage~~~~~~~~~~~~~~~~~~~~~~~~~~  0.0\n>>> ****** Batch [ACYCLIC 1] batchCounter: 44 (sampled 3647679 pathes) *****\n>>> fraction of previously seen rules within useful rules in this batch: 0.0  NEW=1 PREV=0 ALL=103\n>>> ~~~~~~~~~~~~~~~~~~current_coverage~~~~~~~~~~~~~~~~~~~~~~~~~~  0.0\n>>> ****** Batch [CYCLIC 2] batchCounter: 45 (sampled 3651374 pathes) *****\n>>> fraction of previously seen rules within useful rules in this batch: 0.15384615384615385  NEW=11 PREV=2 ALL=536\n>>> ~~~~~~~~~~~~~~~~~~current_coverage~~~~~~~~~~~~~~~~~~~~~~~~~~  0.15384615384615385\n>>> ****** Batch [ACYCLIC 1] batchCounter: 46 (sampled 3797035 pathes) *****\n>>> fraction of previously seen rules within useful rules in this batch: 0.0  NEW=1 PREV=0 ALL=98\n>>> ~~~~~~~~~~~~~~~~~~current_coverage~~~~~~~~~~~~~~~~~~~~~~~~~~  0.0\n>>> ****** Batch [CYCLIC 2] batchCounter: 47 (sampled 3800024 pathes) *****\n>>> fraction of previously seen rules within useful rules in this batch: 0.2  NEW=4 PREV=1 ALL=438\n>>> ~~~~~~~~~~~~~~~~~~current_coverage~~~~~~~~~~~~~~~~~~~~~~~~~~  0.2\n>>> ****** Batch [ACYCLIC 1] batchCounter: 48 (sampled 3932813 pathes) *****\n>>> fraction of previously seen rules within useful rules in this batch: 0.0  NEW=1 PREV=0 ALL=87\n>>> ~~~~~~~~~~~~~~~~~~current_coverage~~~~~~~~~~~~~~~~~~~~~~~~~~  0.0\n>>> ****** Batch [CYCLIC 2] batchCounter: 49 (sampled 3935666 pathes) *****\n>>> fraction of previously seen rules within useful rules in this batch: 0.0  NEW=6 PREV=0 ALL=438\n>>> ~~~~~~~~~~~~~~~~~~current_coverage~~~~~~~~~~~~~~~~~~~~~~~~~~  0.0\n>>> ****** Batch [ACYCLIC 1] batchCounter: 50 (sampled 4102405 pathes) *****\n>>> fraction of previously seen rules within useful rules in this batch: 0.0  NEW=1 PREV=0 ALL=97\n>>> ~~~~~~~~~~~~~~~~~~current_coverage~~~~~~~~~~~~~~~~~~~~~~~~~~  0.0\n>>> ****** Batch [CYCLIC 2] batchCounter: 51 (sampled 4106316 pathes) *****\n>>> fraction of previously seen rules within useful rules in this batch: 0.0625  NEW=15 PREV=1 ALL=556\n>>> ~~~~~~~~~~~~~~~~~~current_coverage~~~~~~~~~~~~~~~~~~~~~~~~~~  0.0625\n>>> ****** Batch [ACYCLIC 1] batchCounter: 52 (sampled 4272696 pathes) *****\n>>> fraction of previously seen rules within useful rules in this batch: 0.0  NEW=1 PREV=0 ALL=110\n>>> ~~~~~~~~~~~~~~~~~~current_coverage~~~~~~~~~~~~~~~~~~~~~~~~~~  0.0\n>>> ****** Batch [CYCLIC 2] batchCounter: 53 (sampled 4276080 pathes) *****\n>>> fraction of previously seen rules within useful rules in this batch: 0.16666666666666666  NEW=10 PREV=2 ALL=506\n>>> ~~~~~~~~~~~~~~~~~~current_coverage~~~~~~~~~~~~~~~~~~~~~~~~~~  0.16666666666666666\n>>> ****** Batch [ACYCLIC 1] batchCounter: 54 (sampled 4433057 pathes) *****\n>>> fraction of previously seen rules within useful rules in this batch: 0.0  NEW=1 PREV=0 ALL=105\n>>> ~~~~~~~~~~~~~~~~~~current_coverage~~~~~~~~~~~~~~~~~~~~~~~~~~  0.0\n>>> ****** Batch [CYCLIC 2] batchCounter: 55 (sampled 4436374 pathes) *****\n>>> fraction of previously seen rules within useful rules in this batch: 0.18181818181818182  NEW=9 PREV=2 ALL=532\n>>> ~~~~~~~~~~~~~~~~~~current_coverage~~~~~~~~~~~~~~~~~~~~~~~~~~  0.18181818181818182\n>>> ****** Batch [ACYCLIC 1] batchCounter: 56 (sampled 4599564 pathes) *****\n>>> fraction of previously seen rules within useful rules in this batch: 0.0  NEW=1 PREV=0 ALL=91\n>>> ~~~~~~~~~~~~~~~~~~current_coverage~~~~~~~~~~~~~~~~~~~~~~~~~~  0.0\n>>> ****** Batch [CYCLIC 2] batchCounter: 57 (sampled 4603052 pathes) *****\n>>> fraction of previously seen rules within useful rules in this batch: 0.0  NEW=12 PREV=0 ALL=494\n>>> ~~~~~~~~~~~~~~~~~~current_coverage~~~~~~~~~~~~~~~~~~~~~~~~~~  0.0\n>>> ****** Batch [ACYCLIC 1] batchCounter: 58 (sampled 4731815 pathes) *****\n>>> fraction of previously seen rules within useful rules in this batch: 0.0  NEW=1 PREV=0 ALL=69\n>>> ~~~~~~~~~~~~~~~~~~current_coverage~~~~~~~~~~~~~~~~~~~~~~~~~~  0.0\n>>> ****** Batch [CYCLIC 2] batchCounter: 59 (sampled 4735822 pathes) *****\n>>> fraction of previously seen rules within useful rules in this batch: 0.09090909090909091  NEW=10 PREV=1 ALL=546\n>>> ~~~~~~~~~~~~~~~~~~current_coverage~~~~~~~~~~~~~~~~~~~~~~~~~~  0.09090909090909091\n>>> ****** Batch [ACYCLIC 1] batchCounter: 60 (sampled 4885869 pathes) *****\n>>> fraction of previously seen rules within useful rules in this batch: 0.0  NEW=1 PREV=0 ALL=97\n>>> ~~~~~~~~~~~~~~~~~~current_coverage~~~~~~~~~~~~~~~~~~~~~~~~~~  0.0\n>>> ****** Batch [CYCLIC 2] batchCounter: 61 (sampled 4889525 pathes) *****\n>>> fraction of previously seen rules within useful rules in this batch: 0.15384615384615385  NEW=11 PREV=2 ALL=498\n>>> ~~~~~~~~~~~~~~~~~~current_coverage~~~~~~~~~~~~~~~~~~~~~~~~~~  0.15384615384615385\n>>> ****** Batch [ACYCLIC 1] batchCounter: 62 (sampled 5049622 pathes) *****\n>>> fraction of previously seen rules within useful rules in this batch: 0.0  NEW=1 PREV=0 ALL=96\n>>> ~~~~~~~~~~~~~~~~~~current_coverage~~~~~~~~~~~~~~~~~~~~~~~~~~  0.0\n>>> ****** Batch [CYCLIC 2] batchCounter: 63 (sampled 5053405 pathes) *****\n>>> fraction of previously seen rules within useful rules in this batch: 0.15789473684210525  NEW=16 PREV=3 ALL=624\n>>> ~~~~~~~~~~~~~~~~~~current_coverage~~~~~~~~~~~~~~~~~~~~~~~~~~  0.15789473684210525\n>>> ****** Batch [ACYCLIC 1] batchCounter: 64 (sampled 5210236 pathes) *****\n>>> fraction of previously seen rules within useful rules in this batch: 0.0  NEW=1 PREV=0 ALL=107\n>>> ~~~~~~~~~~~~~~~~~~current_coverage~~~~~~~~~~~~~~~~~~~~~~~~~~  0.0\n>>> ****** Batch [CYCLIC 2] batchCounter: 65 (sampled 5213594 pathes) *****\n>>> fraction of previously seen rules within useful rules in this batch: 0.17647058823529413  NEW=14 PREV=3 ALL=498\n>>> ~~~~~~~~~~~~~~~~~~current_coverage~~~~~~~~~~~~~~~~~~~~~~~~~~  0.17647058823529413\n>>> ****** Batch [ACYCLIC 1] batchCounter: 66 (sampled 5371210 pathes) *****\n>>> fraction of previously seen rules within useful rules in this batch: 0.0  NEW=1 PREV=0 ALL=112\n>>> ~~~~~~~~~~~~~~~~~~current_coverage~~~~~~~~~~~~~~~~~~~~~~~~~~  0.0\n>>> ****** Batch [CYCLIC 2] batchCounter: 67 (sampled 5374534 pathes) *****\n>>> fraction of previously seen rules within useful rules in this batch: 0.18181818181818182  NEW=9 PREV=2 ALL=516\n>>> ~~~~~~~~~~~~~~~~~~current_coverage~~~~~~~~~~~~~~~~~~~~~~~~~~  0.18181818181818182\n>>> ****** Batch [ACYCLIC 1] batchCounter: 68 (sampled 5537186 pathes) *****\n>>> fraction of previously seen rules within useful rules in this batch: 0.0  NEW=1 PREV=0 ALL=98\n>>> ~~~~~~~~~~~~~~~~~~current_coverage~~~~~~~~~~~~~~~~~~~~~~~~~~  0.0\n>>> ****** Batch [CYCLIC 2] batchCounter: 69 (sampled 5541189 pathes) *****\n>>> fraction of previously seen rules within useful rules in this batch: 0.2222222222222222  NEW=7 PREV=2 ALL=586\n>>> ~~~~~~~~~~~~~~~~~~current_coverage~~~~~~~~~~~~~~~~~~~~~~~~~~  0.2222222222222222\n>>> ****** Batch [ACYCLIC 1] batchCounter: 70 (sampled 5702400 pathes) *****\n>>> fraction of previously seen rules within useful rules in this batch: 0.0  NEW=1 PREV=0 ALL=96\n>>> ~~~~~~~~~~~~~~~~~~current_coverage~~~~~~~~~~~~~~~~~~~~~~~~~~  0.0\n>>> ****** Batch [CYCLIC 2] batchCounter: 71 (sampled 5705341 pathes) *****\n>>> fraction of previously seen rules within useful rules in this batch: 0.2222222222222222  NEW=7 PREV=2 ALL=450\n>>> ~~~~~~~~~~~~~~~~~~current_coverage~~~~~~~~~~~~~~~~~~~~~~~~~~  0.2222222222222222\n>>> ****** Batch [ACYCLIC 1] batchCounter: 72 (sampled 5858029 pathes) *****\n>>> fraction of previously seen rules within useful rules in this batch: 0.0  NEW=1 PREV=0 ALL=95\n>>> ~~~~~~~~~~~~~~~~~~current_coverage~~~~~~~~~~~~~~~~~~~~~~~~~~  0.0\n>>> ****** Batch [CYCLIC 2] batchCounter: 73 (sampled 5861420 pathes) *****\n>>> fraction of previously seen rules within useful rules in this batch: 0.0  NEW=6 PREV=0 ALL=574\n>>> ~~~~~~~~~~~~~~~~~~current_coverage~~~~~~~~~~~~~~~~~~~~~~~~~~  0.0\n>>> ****** Batch [ACYCLIC 1] batchCounter: 74 (sampled 6012593 pathes) *****\n>>> fraction of previously seen rules within useful rules in this batch: 0.0  NEW=1 PREV=0 ALL=119\n>>> ~~~~~~~~~~~~~~~~~~current_coverage~~~~~~~~~~~~~~~~~~~~~~~~~~  0.0\n>>> ****** Batch [CYCLIC 2] batchCounter: 75 (sampled 6015967 pathes) *****\n>>> fraction of previously seen rules within useful rules in this batch: 0.0  NEW=9 PREV=0 ALL=496\n>>> ~~~~~~~~~~~~~~~~~~current_coverage~~~~~~~~~~~~~~~~~~~~~~~~~~  0.0\n>>> ****** Batch [ACYCLIC 1] batchCounter: 76 (sampled 6177297 pathes) *****\n>>> fraction of previously seen rules within useful rules in this batch: 0.0  NEW=1 PREV=0 ALL=101\n>>> ~~~~~~~~~~~~~~~~~~current_coverage~~~~~~~~~~~~~~~~~~~~~~~~~~  0.0\n>>> ****** Batch [CYCLIC 2] batchCounter: 77 (sampled 6180839 pathes) *****\n>>> fraction of previously seen rules within useful rules in this batch: 0.1111111111111111  NEW=8 PREV=1 ALL=576\n>>> ~~~~~~~~~~~~~~~~~~current_coverage~~~~~~~~~~~~~~~~~~~~~~~~~~  0.1111111111111111\n>>> ****** Batch [ACYCLIC 1] batchCounter: 78 (sampled 6337314 pathes) *****\n>>> fraction of previously seen rules within useful rules in this batch: 0.0  NEW=1 PREV=0 ALL=99\n>>> ~~~~~~~~~~~~~~~~~~current_coverage~~~~~~~~~~~~~~~~~~~~~~~~~~  0.0\n>>> ****** Batch [CYCLIC 2] batchCounter: 79 (sampled 6339748 pathes) *****\n>>> fraction of previously seen rules within useful rules in this batch: 0.16666666666666666  NEW=5 PREV=1 ALL=368\n>>> ~~~~~~~~~~~~~~~~~~current_coverage~~~~~~~~~~~~~~~~~~~~~~~~~~  0.16666666666666666\n>>> ****** Batch [ACYCLIC 1] batchCounter: 80 (sampled 6491216 pathes) *****\n>>> fraction of previously seen rules within useful rules in this batch: 0.0  NEW=1 PREV=0 ALL=105\n>>> ~~~~~~~~~~~~~~~~~~current_coverage~~~~~~~~~~~~~~~~~~~~~~~~~~  0.0\n>>> ****** Batch [CYCLIC 2] batchCounter: 81 (sampled 6492321 pathes) *****\n>>> fraction of previously seen rules within useful rules in this batch: 0.0  NEW=3 PREV=0 ALL=186\n>>> ~~~~~~~~~~~~~~~~~~current_coverage~~~~~~~~~~~~~~~~~~~~~~~~~~  0.0\n>>> ****** Batch [ACYCLIC 1] batchCounter: 82 (sampled 6658465 pathes) *****\n>>> fraction of previously seen rules within useful rules in this batch: 0.0  NEW=1 PREV=0 ALL=99\n>>> ~~~~~~~~~~~~~~~~~~current_coverage~~~~~~~~~~~~~~~~~~~~~~~~~~  0.0\n>>> ****** Batch [CYCLIC 2] batchCounter: 83 (sampled 6660398 pathes) *****\n>>> fraction of previously seen rules within useful rules in this batch: 0.2  NEW=8 PREV=2 ALL=292\n>>> ~~~~~~~~~~~~~~~~~~current_coverage~~~~~~~~~~~~~~~~~~~~~~~~~~  0.2\n>>> ****** Batch [ACYCLIC 1] batchCounter: 84 (sampled 6816570 pathes) *****\n>>> fraction of previously seen rules within useful rules in this batch: 0.0  NEW=1 PREV=0 ALL=96\n>>> ~~~~~~~~~~~~~~~~~~current_coverage~~~~~~~~~~~~~~~~~~~~~~~~~~  0.0\n>>> ****** Batch [CYCLIC 2] batchCounter: 85 (sampled 6820646 pathes) *****\n>>> fraction of previously seen rules within useful rules in this batch: 0.23076923076923078  NEW=10 PREV=3 ALL=552\n>>> ~~~~~~~~~~~~~~~~~~current_coverage~~~~~~~~~~~~~~~~~~~~~~~~~~  0.23076923076923078\n>>> ****** Batch [ACYCLIC 1] batchCounter: 86 (sampled 6977789 pathes) *****\n>>> fraction of previously seen rules within useful rules in this batch: 0.0  NEW=1 PREV=0 ALL=91\n>>> ~~~~~~~~~~~~~~~~~~current_coverage~~~~~~~~~~~~~~~~~~~~~~~~~~  0.0\n>>> ****** Batch [CYCLIC 2] batchCounter: 87 (sampled 6980816 pathes) *****\n>>> fraction of previously seen rules within useful rules in this batch: 0.3333333333333333  NEW=2 PREV=1 ALL=484\n>>> ~~~~~~~~~~~~~~~~~~current_coverage~~~~~~~~~~~~~~~~~~~~~~~~~~  0.3333333333333333\n>>> ****** Batch [ACYCLIC 1] batchCounter: 88 (sampled 7150999 pathes) *****\n>>> fraction of previously seen rules within useful rules in this batch: 0.0  NEW=1 PREV=0 ALL=101\n>>> ~~~~~~~~~~~~~~~~~~current_coverage~~~~~~~~~~~~~~~~~~~~~~~~~~  0.0\n>>> ****** Batch [CYCLIC 2] batchCounter: 89 (sampled 7153671 pathes) *****\n>>> fraction of previously seen rules within useful rules in this batch: 0.0  NEW=8 PREV=0 ALL=448\n>>> ~~~~~~~~~~~~~~~~~~current_coverage~~~~~~~~~~~~~~~~~~~~~~~~~~  0.0\n>>> ****** Batch [ACYCLIC 1] batchCounter: 90 (sampled 7310201 pathes) *****\n>>> fraction of previously seen rules within useful rules in this batch: 0.0  NEW=1 PREV=0 ALL=100\n>>> ~~~~~~~~~~~~~~~~~~current_coverage~~~~~~~~~~~~~~~~~~~~~~~~~~  0.0\n>>> ****** Batch [CYCLIC 2] batchCounter: 91 (sampled 7313103 pathes) *****\n>>> fraction of previously seen rules within useful rules in this batch: 0.0  NEW=7 PREV=0 ALL=462\n>>> ~~~~~~~~~~~~~~~~~~current_coverage~~~~~~~~~~~~~~~~~~~~~~~~~~  0.0\n>>> ****** Batch [ACYCLIC 1] batchCounter: 92 (sampled 7472401 pathes) *****\n>>> fraction of previously seen rules within useful rules in this batch: 0.0  NEW=1 PREV=0 ALL=108\n>>> ~~~~~~~~~~~~~~~~~~current_coverage~~~~~~~~~~~~~~~~~~~~~~~~~~  0.0\n>>> ****** Batch [CYCLIC 2] batchCounter: 93 (sampled 7475271 pathes) *****\n>>> fraction of previously seen rules within useful rules in this batch: 0.16666666666666666  NEW=5 PREV=1 ALL=452\n>>> ~~~~~~~~~~~~~~~~~~current_coverage~~~~~~~~~~~~~~~~~~~~~~~~~~  0.16666666666666666\n>>> ****** Batch [ACYCLIC 1] batchCounter: 94 (sampled 7571608 pathes) *****\n>>> fraction of previously seen rules within useful rules in this batch: 0.0  NEW=1 PREV=0 ALL=58\n>>> ~~~~~~~~~~~~~~~~~~current_coverage~~~~~~~~~~~~~~~~~~~~~~~~~~  0.0\n>>> ****** Batch [CYCLIC 2] batchCounter: 95 (sampled 7574254 pathes) *****\n>>> fraction of previously seen rules within useful rules in this batch: 0.35714285714285715  NEW=9 PREV=5 ALL=392\n>>> ~~~~~~~~~~~~~~~~~~current_coverage~~~~~~~~~~~~~~~~~~~~~~~~~~  0.35714285714285715\n>>> ****** Batch [ACYCLIC 1] batchCounter: 96 (sampled 7727561 pathes) *****\n>>> fraction of previously seen rules within useful rules in this batch: 0.0  NEW=1 PREV=0 ALL=85\n>>> ~~~~~~~~~~~~~~~~~~current_coverage~~~~~~~~~~~~~~~~~~~~~~~~~~  0.0\n>>> ****** Batch [CYCLIC 2] batchCounter: 97 (sampled 7730849 pathes) *****\n>>> fraction of previously seen rules within useful rules in this batch: 0.0  NEW=12 PREV=0 ALL=508\n>>> ~~~~~~~~~~~~~~~~~~current_coverage~~~~~~~~~~~~~~~~~~~~~~~~~~  0.0\n>>> ****** Batch [ACYCLIC 1] batchCounter: 98 (sampled 7906183 pathes) *****\n>>> fraction of previously seen rules within useful rules in this batch: 0.0  NEW=1 PREV=0 ALL=107\n>>> ~~~~~~~~~~~~~~~~~~current_coverage~~~~~~~~~~~~~~~~~~~~~~~~~~  0.0\n>>> ****** Batch [CYCLIC 2] batchCounter: 99 (sampled 7910066 pathes) *****\n>>> fraction of previously seen rules within useful rules in this batch: 0.0  NEW=9 PREV=0 ALL=556\n>>> ~~~~~~~~~~~~~~~~~~current_coverage~~~~~~~~~~~~~~~~~~~~~~~~~~  0.0\n>>> ****** Batch [ACYCLIC 1] batchCounter: 100 (sampled 8094419 pathes) *****\n>>> fraction of previously seen rules within useful rules in this batch: 0.0  NEW=1 PREV=0 ALL=112\n>>> ~~~~~~~~~~~~~~~~~~current_coverage~~~~~~~~~~~~~~~~~~~~~~~~~~  0.0\n================== done learning ====================, len useful_rules = 384\n0.09333333333333334\n0.35\n0.20454545454545456\n0.8823529411764706\n================== done learning ====================, len useful_rules = 0\n"
    }
   ],
   "source": [
    "learning.train()"
   ]
  },
  {
   "cell_type": "code",
   "execution_count": null,
   "metadata": {},
   "outputs": [],
   "source": []
  }
 ],
 "metadata": {
  "language_info": {
   "codemirror_mode": {
    "name": "ipython",
    "version": 3
   },
   "file_extension": ".py",
   "mimetype": "text/x-python",
   "name": "python",
   "nbconvert_exporter": "python",
   "pygments_lexer": "ipython3",
   "version": "3.7.3-final"
  },
  "orig_nbformat": 2,
  "kernelspec": {
   "name": "python3",
   "display_name": "Python 3"
  }
 },
 "nbformat": 4,
 "nbformat_minor": 2
}