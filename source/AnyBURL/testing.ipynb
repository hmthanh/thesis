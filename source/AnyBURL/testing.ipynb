{
 "cells": [
  {
   "cell_type": "markdown",
   "metadata": {},
   "source": [
    "# test path sample"
   ]
  },
  {
   "cell_type": "code",
   "execution_count": 3,
   "metadata": {
    "tags": []
   },
   "outputs": [
    {
     "output_type": "stream",
     "name": "stdout",
     "text": "* set up index for 224 relations, 8171 head entities, and 6376 tail entities\n* read 20466 triples\n"
    }
   ],
   "source": [
    "from data.triple_set import TripleSet\n",
    "data = TripleSet()\n",
    "data.read_triples('../../datasets/FB15k-237/test.txt')\n",
    "print('* read {} triples'.format(len(data.triples)))"
   ]
  },
  {
   "cell_type": "code",
   "execution_count": 4,
   "metadata": {},
   "outputs": [],
   "source": [
    "from algorithm.path_sampler import PathSampler\n",
    "ps = PathSampler(data)"
   ]
  },
  {
   "cell_type": "code",
   "execution_count": 1,
   "metadata": {
    "tags": []
   },
   "outputs": [],
   "source": [
    "some_path = set([])\n",
    "# for i in range(1000):\n",
    "#     p = ps.sample_path(2, True)\n",
    "#     if i % 50 == 0 and p is not None:\n",
    "#         print(p)\n",
    "#         print(\"\\n\\n\\n\")\n",
    "#     if p is not None: ###p.isValid()) {\n",
    "#         some_pathes.add(p)"
   ]
  },
  {
   "cell_type": "markdown",
   "metadata": {},
   "source": [
    "## Test leaning"
   ]
  },
  {
   "cell_type": "code",
   "execution_count": 1,
   "metadata": {
    "tags": []
   },
   "outputs": [
    {
     "output_type": "stream",
     "name": "stdout",
     "text": "* indexed 100000 triples\n* indexed 200000 triples\n* set up index for 237 relations, 13781 head entities, and 13379 tail entities\n"
    }
   ],
   "source": [
    "from learn import Learn\n",
    "# '../../datasets/FB15k-237/train.txt' '../../datasets/WN18RR/train.txt'\n",
    "learning = Learn('../../datasets/FB15k-237/train.txt')"
   ]
  },
  {
   "cell_type": "code",
   "execution_count": 2,
   "metadata": {
    "tags": []
   },
   "outputs": [
    {
     "output_type": "stream",
     "name": "stdout",
     "text": ">>> ****** Batch [CYCLIC 1] batchCounter: 1 (sampled 1591 pathes) *****\n>>> fraction of previously seen rules within useful rules in this batch: 0.009302325581395349  NEW=426 PREV=4 batch rules=1521\n>>> ****** Batch [ACYCLIC 1] batchCounter: 2 (sampled 32590 pathes) *****\n>>> fraction of previously seen rules within useful rules in this batch: 0.8791519434628975  NEW=171 PREV=1244 batch rules=1545\n>>> ~~~~~~~~~~~~~~~~~~~~~~~~~~~~~~~~~~~~~~~~~~~~ \n>>> INCREASING RULE SIZE OF rule_size_cyclic RULE TO  1\n>>> ~~~~~~~~~~~~~~~~~~~~~~~~~~~~~~~~~~~~~~~~~~~~\nincreasing rule size of rule_size_acyclic rules to  1  after  -1 s\n>>> ****** Batch [CYCLIC 1] batchCounter: 3 (sampled 34490 pathes) *****\n>>> fraction of previously seen rules within useful rules in this batch: 0.07366482504604052  NEW=503 PREV=40 batch rules=1790\n>>> ****** Batch [ACYCLIC 2] batchCounter: 4 (sampled 139779 pathes) *****\n>>> fraction of previously seen rules within useful rules in this batch: 0.0  NEW=1 PREV=0 batch rules=0\n>>> ****** Batch [CYCLIC 1] batchCounter: 5 (sampled 141688 pathes) *****\n>>> fraction of previously seen rules within useful rules in this batch: 0.07063197026022305  NEW=500 PREV=38 batch rules=1805\n>>> ****** Batch [ACYCLIC 2] batchCounter: 6 (sampled 239984 pathes) *****\n>>> fraction of previously seen rules within useful rules in this batch: 0.0  NEW=1 PREV=0 batch rules=0\n>>> ****** Batch [CYCLIC 1] batchCounter: 7 (sampled 241712 pathes) *****\n>>> fraction of previously seen rules within useful rules in this batch: 0.09278350515463918  NEW=440 PREV=45 batch rules=1646\n>>> ****** Batch [ACYCLIC 2] batchCounter: 8 (sampled 326529 pathes) *****\n>>> fraction of previously seen rules within useful rules in this batch: 0.0  NEW=1 PREV=0 batch rules=0\n>>> ****** Batch [CYCLIC 1] batchCounter: 9 (sampled 328321 pathes) *****\n>>> fraction of previously seen rules within useful rules in this batch: 0.12631578947368421  NEW=415 PREV=60 batch rules=1667\n>>> ****** Batch [ACYCLIC 2] batchCounter: 10 (sampled 413206 pathes) *****\n>>> fraction of previously seen rules within useful rules in this batch: 0.0  NEW=1 PREV=0 batch rules=0\n>>> ****** Batch [CYCLIC 1] batchCounter: 11 (sampled 415143 pathes) *****\n>>> fraction of previously seen rules within useful rules in this batch: 0.15570934256055363  NEW=488 PREV=90 batch rules=1789\n>>> ****** Batch [ACYCLIC 2] batchCounter: 12 (sampled 502849 pathes) *****\n>>> fraction of previously seen rules within useful rules in this batch: 0.0  NEW=1 PREV=0 batch rules=0\n>>> ****** Batch [CYCLIC 1] batchCounter: 13 (sampled 504663 pathes) *****\n>>> fraction of previously seen rules within useful rules in this batch: 0.20081135902636918  NEW=394 PREV=99 batch rules=1726\n>>> ****** Batch [ACYCLIC 2] batchCounter: 14 (sampled 591495 pathes) *****\n>>> fraction of previously seen rules within useful rules in this batch: 0.0  NEW=1 PREV=0 batch rules=0\n>>> ****** Batch [CYCLIC 1] batchCounter: 15 (sampled 593309 pathes) *****\n>>> fraction of previously seen rules within useful rules in this batch: 0.16703786191536749  NEW=374 PREV=75 batch rules=1662\n>>> ****** Batch [ACYCLIC 2] batchCounter: 16 (sampled 679738 pathes) *****\n>>> fraction of previously seen rules within useful rules in this batch: 0.0  NEW=1 PREV=0 batch rules=0\n>>> ****** Batch [CYCLIC 1] batchCounter: 17 (sampled 681521 pathes) *****\n>>> fraction of previously seen rules within useful rules in this batch: 0.18774703557312253  NEW=411 PREV=95 batch rules=1739\n>>> ****** Batch [ACYCLIC 2] batchCounter: 18 (sampled 767145 pathes) *****\n>>> fraction of previously seen rules within useful rules in this batch: 0.0  NEW=1 PREV=0 batch rules=0\n>>> ****** Batch [CYCLIC 1] batchCounter: 19 (sampled 769218 pathes) *****\n>>> fraction of previously seen rules within useful rules in this batch: 0.2137809187279152  NEW=445 PREV=121 batch rules=1880\n>>> ****** Batch [ACYCLIC 2] batchCounter: 20 (sampled 852831 pathes) *****\n>>> fraction of previously seen rules within useful rules in this batch: 0.0  NEW=1 PREV=0 batch rules=0\n>>> ****** Batch [CYCLIC 1] batchCounter: 21 (sampled 854727 pathes) *****\n>>> fraction of previously seen rules within useful rules in this batch: 0.22889305816135083  NEW=411 PREV=122 batch rules=1831\n>>> ****** Batch [ACYCLIC 2] batchCounter: 22 (sampled 937148 pathes) *****\n>>> fraction of previously seen rules within useful rules in this batch: 0.0  NEW=1 PREV=0 batch rules=0\n>>> ****** Batch [CYCLIC 1] batchCounter: 23 (sampled 939136 pathes) *****\n>>> fraction of previously seen rules within useful rules in this batch: 0.22591943957968477  NEW=442 PREV=129 batch rules=1867\n>>> ****** Batch [ACYCLIC 2] batchCounter: 24 (sampled 1024584 pathes) *****\n>>> fraction of previously seen rules within useful rules in this batch: 0.0  NEW=1 PREV=0 batch rules=0\n>>> ****** Batch [CYCLIC 1] batchCounter: 25 (sampled 1026609 pathes) *****\n>>> fraction of previously seen rules within useful rules in this batch: 0.27927927927927926  NEW=400 PREV=155 batch rules=1883\n>>> ****** Batch [ACYCLIC 2] batchCounter: 26 (sampled 1108990 pathes) *****\n>>> fraction of previously seen rules within useful rules in this batch: 0.0  NEW=1 PREV=0 batch rules=0\n>>> ****** Batch [CYCLIC 1] batchCounter: 27 (sampled 1110847 pathes) *****\n>>> fraction of previously seen rules within useful rules in this batch: 0.21973929236499068  NEW=419 PREV=118 batch rules=1730\n>>> ****** Batch [ACYCLIC 2] batchCounter: 28 (sampled 1193226 pathes) *****\n>>> fraction of previously seen rules within useful rules in this batch: 0.0  NEW=1 PREV=0 batch rules=0\n>>> ****** Batch [CYCLIC 1] batchCounter: 29 (sampled 1195103 pathes) *****\n>>> fraction of previously seen rules within useful rules in this batch: 0.25757575757575757  NEW=392 PREV=136 batch rules=1799\n>>> ****** Batch [ACYCLIC 2] batchCounter: 30 (sampled 1278955 pathes) *****\n>>> fraction of previously seen rules within useful rules in this batch: 0.0  NEW=1 PREV=0 batch rules=0\n>>> ****** Batch [CYCLIC 1] batchCounter: 31 (sampled 1280820 pathes) *****\n>>> fraction of previously seen rules within useful rules in this batch: 0.2700587084148728  NEW=373 PREV=138 batch rules=1764\n>>> ****** Batch [ACYCLIC 2] batchCounter: 32 (sampled 1363166 pathes) *****\n>>> fraction of previously seen rules within useful rules in this batch: 0.0  NEW=1 PREV=0 batch rules=0\n>>> ****** Batch [CYCLIC 1] batchCounter: 33 (sampled 1365153 pathes) *****\n>>> fraction of previously seen rules within useful rules in this batch: 0.26958105646630237  NEW=401 PREV=148 batch rules=1842\n>>> ****** Batch [ACYCLIC 2] batchCounter: 34 (sampled 1448331 pathes) *****\n>>> fraction of previously seen rules within useful rules in this batch: 0.0  NEW=1 PREV=0 batch rules=0\n>>> ****** Batch [CYCLIC 1] batchCounter: 35 (sampled 1450371 pathes) *****\n>>> fraction of previously seen rules within useful rules in this batch: 0.3052434456928839  NEW=371 PREV=163 batch rules=1830\n>>> ****** Batch [ACYCLIC 2] batchCounter: 36 (sampled 1535035 pathes) *****\n>>> fraction of previously seen rules within useful rules in this batch: 0.0  NEW=1 PREV=0 batch rules=0\n>>> ****** Batch [CYCLIC 1] batchCounter: 37 (sampled 1537042 pathes) *****\n>>> fraction of previously seen rules within useful rules in this batch: 0.2958477508650519  NEW=407 PREV=171 batch rules=1874\n>>> ****** Batch [ACYCLIC 2] batchCounter: 38 (sampled 1623684 pathes) *****\n>>> fraction of previously seen rules within useful rules in this batch: 0.0  NEW=1 PREV=0 batch rules=0\n>>> ****** Batch [CYCLIC 1] batchCounter: 39 (sampled 1625582 pathes) *****\n>>> fraction of previously seen rules within useful rules in this batch: 0.28790786948176583  NEW=371 PREV=150 batch rules=1855\n>>> ****** Batch [ACYCLIC 2] batchCounter: 40 (sampled 1714082 pathes) *****\n>>> fraction of previously seen rules within useful rules in this batch: 0.0  NEW=1 PREV=0 batch rules=0\nsnapshots_index: 3\n"
    }
   ],
   "source": [
    "learning.train()"
   ]
  },
  {
   "cell_type": "markdown",
   "metadata": {},
   "source": [
    "## Test read rule output"
   ]
  },
  {
   "cell_type": "code",
   "execution_count": 4,
   "metadata": {
    "tags": [
     "outputPrepend"
    ]
   },
   "outputs": [
    {
     "output_type": "stream",
     "name": "stdout",
     "text": "g2c8,Y) <= /music/genre/artists(A,Y)\n\n['/award/hall_of_fame/inductees./award/hall_of_fame_induction/inductee(/m/0g2c8,Y)', '<=', '/music/genre/artists(A,Y)\\n']\n['/award/hall_of_fame/inductees./award/hall_of_fame_induction/inductee', '/m/0g2c8,Y)']\n['/music/genre/artists', 'A,Y)\\n']\n/award/hall_of_fame/inductees./award/hall_of_fame_induction/inductee(/m/0g2c8,Y) <= /music/genre/artists(/m/05w3f,Y)\n\n['/award/hall_of_fame/inductees./award/hall_of_fame_induction/inductee(/m/0g2c8,Y)', '<=', '/music/genre/artists(/m/05w3f,Y)\\n']\n['/award/hall_of_fame/inductees./award/hall_of_fame_induction/inductee', '/m/0g2c8,Y)']\n['/music/genre/artists', '/m/05w3f,Y)\\n']\n/award/award_winning_work/awards_won./award/award_honor/award(X,/m/0gq9h) <= /award/award_winning_work/awards_won./award/award_honor/award(X,A)\n\n['/award/award_winning_work/awards_won./award/award_honor/award(X,/m/0gq9h)', '<=', '/award/award_winning_work/awards_won./award/award_honor/award(X,A)\\n']\n['/award/award_winning_work/awards_won./award/award_honor/award', 'X,/m/0gq9h)']\n['/award/award_winning_work/awards_won./award/award_honor/award', 'X,A)\\n']\n/business/business_operation/operating_income./measurement_unit/dated_money_value/currency(X,Y) <= /business/business_operation/revenue./measurement_unit/dated_money_value/currency(X,Y)\n\n['/business/business_operation/operating_income./measurement_unit/dated_money_value/currency(X,Y)', '<=', '/business/business_operation/revenue./measurement_unit/dated_money_value/currency(X,Y)\\n']\n['/business/business_operation/operating_income./measurement_unit/dated_money_value/currency', 'X,Y)']\n['/business/business_operation/revenue./measurement_unit/dated_money_value/currency', 'X,Y)\\n']\n/film/film/release_date_s./film/film_regional_release_date/film_release_region(X,/m/03rt9) <= /film/film/production_companies(X,A)\n\n['/film/film/release_date_s./film/film_regional_release_date/film_release_region(X,/m/03rt9)', '<=', '/film/film/production_companies(X,A)\\n']\n['/film/film/release_date_s./film/film_regional_release_date/film_release_region', 'X,/m/03rt9)']\n['/film/film/production_companies', 'X,A)\\n']\n/film/film/release_date_s./film/film_regional_release_date/film_release_region(/m/03np63f,Y) <= /base/biblioness/bibs_location/country(A,Y)\n\n['/film/film/release_date_s./film/film_regional_release_date/film_release_region(/m/03np63f,Y)', '<=', '/base/biblioness/bibs_location/country(A,Y)\\n']\n['/film/film/release_date_s./film/film_regional_release_date/film_release_region', '/m/03np63f,Y)']\n['/base/biblioness/bibs_location/country', 'A,Y)\\n']\n/base/schemastaging/person_extra/net_worth./measurement_unit/dated_money_value/currency(X,/m/09nqf) <= /music/artist/track_contributions./music/track_contribution/role(X,A)\n\n['/base/schemastaging/person_extra/net_worth./measurement_unit/dated_money_value/currency(X,/m/09nqf)', '<=', '/music/artist/track_contributions./music/track_contribution/role(X,A)\\n']\n['/base/schemastaging/person_extra/net_worth./measurement_unit/dated_money_value/currency', 'X,/m/09nqf)']\n['/music/artist/track_contributions./music/track_contribution/role', 'X,A)\\n']\n/film/film/release_date_s./film/film_regional_release_date/film_release_region(/m/0h1cdwq,Y) <= /film/film/release_date_s./film/film_regional_release_date/film_release_region(/m/0crc2cp,Y)\n\n['/film/film/release_date_s./film/film_regional_release_date/film_release_region(/m/0h1cdwq,Y)', '<=', '/film/film/release_date_s./film/film_regional_release_date/film_release_region(/m/0crc2cp,Y)\\n']\n['/film/film/release_date_s./film/film_regional_release_date/film_release_region', '/m/0h1cdwq,Y)']\n['/film/film/release_date_s./film/film_regional_release_date/film_release_region', '/m/0crc2cp,Y)\\n']\n/film/film/estimated_budget./measurement_unit/dated_money_value/currency(X,/m/09nqf) <= /film/film/language(X,A)\n\n['/film/film/estimated_budget./measurement_unit/dated_money_value/currency(X,/m/09nqf)', '<=', '/film/film/language(X,A)\\n']\n['/film/film/estimated_budget./measurement_unit/dated_money_value/currency', 'X,/m/09nqf)']\n['/film/film/language', 'X,A)\\n']\n/award/award_winner/awards_won./award/award_honor/award_winner(/m/06czyr,Y) <= /award/award_winner/awards_won./award/award_honor/award_winner(/m/09f0bj,Y)\n\n['/award/award_winner/awards_won./award/award_honor/award_winner(/m/06czyr,Y)', '<=', '/award/award_winner/awards_won./award/award_honor/award_winner(/m/09f0bj,Y)\\n']\n['/award/award_winner/awards_won./award/award_honor/award_winner', '/m/06czyr,Y)']\n['/award/award_winner/awards_won./award/award_honor/award_winner', '/m/09f0bj,Y)\\n']\n/film/film/estimated_budget./measurement_unit/dated_money_value/currency(X,/m/09nqf) <= /film/film/language(X,/m/02h40lc)\n\n['/film/film/estimated_budget./measurement_unit/dated_money_value/currency(X,/m/09nqf)', '<=', '/film/film/language(X,/m/02h40lc)\\n']\n['/film/film/estimated_budget./measurement_unit/dated_money_value/currency', 'X,/m/09nqf)']\n['/film/film/language', 'X,/m/02h40lc)\\n']\n/film/film/featured_film_locations(X,/m/030qb3t) <= /film/film/genre(X,/m/01jfsb)\n\n['/film/film/featured_film_locations(X,/m/030qb3t)', '<=', '/film/film/genre(X,/m/01jfsb)\\n']\n['/film/film/featured_film_locations', 'X,/m/030qb3t)']\n['/film/film/genre', 'X,/m/01jfsb)\\n']\n/film/film/release_date_s./film/film_regional_release_date/film_release_region(X,/m/09c7w0) <= /film/film/country(X,A)\n\n['/film/film/release_date_s./film/film_regional_release_date/film_release_region(X,/m/09c7w0)', '<=', '/film/film/country(X,A)\\n']\n['/film/film/release_date_s./film/film_regional_release_date/film_release_region', 'X,/m/09c7w0)']\n['/film/film/country', 'X,A)\\n']\n/location/capital_of_administrative_division/capital_of./location/administrative_division_capital_relationship/administrative_division(X,Y) <= /location/hud_county_place/county(X,Y)\n\n['/location/capital_of_administrative_division/capital_of./location/administrative_division_capital_relationship/administrative_division(X,Y)', '<=', '/location/hud_county_place/county(X,Y)\\n']\n['/location/capital_of_administrative_division/capital_of./location/administrative_division_capital_relationship/administrative_division', 'X,Y)']\n['/location/hud_county_place/county', 'X,Y)\\n']\n/film/film/release_date_s./film/film_regional_release_date/film_release_region(X,/m/09c7w0) <= /film/film/country(X,/m/0345h)\n\n['/film/film/release_date_s./film/film_regional_release_date/film_release_region(X,/m/09c7w0)', '<=', '/film/film/country(X,/m/0345h)\\n']\n['/film/film/release_date_s./film/film_regional_release_date/film_release_region', 'X,/m/09c7w0)']\n['/film/film/country', 'X,/m/0345h)\\n']\n/olympics/olympic_participating_country/athletes./olympics/olympic_athlete_affiliation/olympics(/m/0f8l9c,Y) <= /olympics/olympic_sport/athletes./olympics/olympic_athlete_affiliation/olympics(/m/06z6r,Y)\n\n['/olympics/olympic_participating_country/athletes./olympics/olympic_athlete_affiliation/olympics(/m/0f8l9c,Y)', '<=', '/olympics/olympic_sport/athletes./olympics/olympic_athlete_affiliation/olympics(/m/06z6r,Y)\\n']\n['/olympics/olympic_participating_country/athletes./olympics/olympic_athlete_affiliation/olympics', '/m/0f8l9c,Y)']\n['/olympics/olympic_sport/athletes./olympics/olympic_athlete_affiliation/olympics', '/m/06z6r,Y)\\n']\n/olympics/olympic_participating_country/athletes./olympics/olympic_athlete_affiliation/olympics(/m/0f8l9c,Y) <= /olympics/olympic_sport/athletes./olympics/olympic_athlete_affiliation/olympics(A,Y)\n\n['/olympics/olympic_participating_country/athletes./olympics/olympic_athlete_affiliation/olympics(/m/0f8l9c,Y)', '<=', '/olympics/olympic_sport/athletes./olympics/olympic_athlete_affiliation/olympics(A,Y)\\n']\n['/olympics/olympic_participating_country/athletes./olympics/olympic_athlete_affiliation/olympics', '/m/0f8l9c,Y)']\n['/olympics/olympic_sport/athletes./olympics/olympic_athlete_affiliation/olympics', 'A,Y)\\n']\n/film/film/release_date_s./film/film_regional_release_date/film_release_region(X,/m/03spz) <= /film/film/release_date_s./film/film_regional_release_date/film_release_region(X,/m/03h64)\n\n['/film/film/release_date_s./film/film_regional_release_date/film_release_region(X,/m/03spz)', '<=', '/film/film/release_date_s./film/film_regional_release_date/film_release_region(X,/m/03h64)\\n']\n['/film/film/release_date_s./film/film_regional_release_date/film_release_region', 'X,/m/03spz)']\n['/film/film/release_date_s./film/film_regional_release_date/film_release_region', 'X,/m/03h64)\\n']\n/film/film/release_date_s./film/film_regional_release_date/film_release_region(X,/m/03spz) <= /film/film/release_date_s./film/film_regional_release_date/film_release_region(X,A)\n\n['/film/film/release_date_s./film/film_regional_release_date/film_release_region(X,/m/03spz)', '<=', '/film/film/release_date_s./film/film_regional_release_date/film_release_region(X,A)\\n']\n['/film/film/release_date_s./film/film_regional_release_date/film_release_region', 'X,/m/03spz)']\n['/film/film/release_date_s./film/film_regional_release_date/film_release_region', 'X,A)\\n']\n/people/ethnicity/people(/m/02w7gg,Y) <= /award/award_nominee/award_nominations./award/award_nomination/award_nominee(A,Y)\n\n['/people/ethnicity/people(/m/02w7gg,Y)', '<=', '/award/award_nominee/award_nominations./award/award_nomination/award_nominee(A,Y)\\n']\n['/people/ethnicity/people', '/m/02w7gg,Y)']\n['/award/award_nominee/award_nominations./award/award_nomination/award_nominee', 'A,Y)\\n']\n/film/film/release_date_s./film/film_regional_release_date/film_release_region(X,/m/015qh) <= /film/film/release_date_s./film/film_regional_release_date/film_release_region(X,/m/06bnz)\n\n['/film/film/release_date_s./film/film_regional_release_date/film_release_region(X,/m/015qh)', '<=', '/film/film/release_date_s./film/film_regional_release_date/film_release_region(X,/m/06bnz)\\n']\n['/film/film/release_date_s./film/film_regional_release_date/film_release_region', 'X,/m/015qh)']\n['/film/film/release_date_s./film/film_regional_release_date/film_release_region', 'X,/m/06bnz)\\n']\n/film/film/release_date_s./film/film_regional_release_date/film_release_region(X,/m/015qh) <= /film/film/release_date_s./film/film_regional_release_date/film_release_region(X,A)\n\n['/film/film/release_date_s./film/film_regional_release_date/film_release_region(X,/m/015qh)', '<=', '/film/film/release_date_s./film/film_regional_release_date/film_release_region(X,A)\\n']\n['/film/film/release_date_s./film/film_regional_release_date/film_release_region', 'X,/m/015qh)']\n['/film/film/release_date_s./film/film_regional_release_date/film_release_region', 'X,A)\\n']\n/people/ethnicity/people(/m/02w7gg,Y) <= /award/award_nominee/award_nominations./award/award_nomination/award_nominee(/m/0djywgn,Y)\n\n['/people/ethnicity/people(/m/02w7gg,Y)', '<=', '/award/award_nominee/award_nominations./award/award_nomination/award_nominee(/m/0djywgn,Y)\\n']\n['/people/ethnicity/people', '/m/02w7gg,Y)']\n['/award/award_nominee/award_nominations./award/award_nomination/award_nominee', '/m/0djywgn,Y)\\n']\n/people/person/place_of_birth(X,Y) <= /people/person/places_lived./people/place_lived/location(X,Y)\n\n['/people/person/place_of_birth(X,Y)', '<=', '/people/person/places_lived./people/place_lived/location(X,Y)\\n']\n['/people/person/place_of_birth', 'X,Y)']\n['/people/person/places_lived./people/place_lived/location', 'X,Y)\\n']\n/dataworld/gardening_hint/split_to(X,Y) <= /music/instrument/family(X,Y)\n\n['/dataworld/gardening_hint/split_to(X,Y)', '<=', '/music/instrument/family(X,Y)\\n']\n['/dataworld/gardening_hint/split_to', 'X,Y)']\n['/music/instrument/family', 'X,Y)\\n']\n/base/aareas/schema/administrative_area/administrative_parent(X,Y) <= /location/capital_of_administrative_division/capital_of./location/administrative_division_capital_relationship/administrative_division(X,Y)\n\n['/base/aareas/schema/administrative_area/administrative_parent(X,Y)', '<=', '/location/capital_of_administrative_division/capital_of./location/administrative_division_capital_relationship/administrative_division(X,Y)\\n']\n['/base/aareas/schema/administrative_area/administrative_parent', 'X,Y)']\n['/location/capital_of_administrative_division/capital_of./location/administrative_division_capital_relationship/administrative_division', 'X,Y)\\n']\n/film/film/release_date_s./film/film_regional_release_date/film_release_region(X,/m/03gj2) <= /film/film/estimated_budget./measurement_unit/dated_money_value/currency(X,/m/09nqf)\n\n['/film/film/release_date_s./film/film_regional_release_date/film_release_region(X,/m/03gj2)', '<=', '/film/film/estimated_budget./measurement_unit/dated_money_value/currency(X,/m/09nqf)\\n']\n['/film/film/release_date_s./film/film_regional_release_date/film_release_region', 'X,/m/03gj2)']\n['/film/film/estimated_budget./measurement_unit/dated_money_value/currency', 'X,/m/09nqf)\\n']\n/film/film/release_date_s./film/film_regional_release_date/film_release_region(X,/m/03gj2) <= /film/film/estimated_budget./measurement_unit/dated_money_value/currency(X,A)\n\n['/film/film/release_date_s./film/film_regional_release_date/film_release_region(X,/m/03gj2)', '<=', '/film/film/estimated_budget./measurement_unit/dated_money_value/currency(X,A)\\n']\n['/film/film/release_date_s./film/film_regional_release_date/film_release_region', 'X,/m/03gj2)']\n['/film/film/estimated_budget./measurement_unit/dated_money_value/currency', 'X,A)\\n']\n/people/person/gender(X,/m/02zsn) <= /people/person/place_of_birth(X,A)\n\n['/people/person/gender(X,/m/02zsn)', '<=', '/people/person/place_of_birth(X,A)\\n']\n['/people/person/gender', 'X,/m/02zsn)']\n['/people/person/place_of_birth', 'X,A)\\n']\n/film/film/release_date_s./film/film_regional_release_date/film_release_distribution_medium(X,/m/029j_) <= /award/award_winning_work/awards_won./award/award_honor/award(X,/m/04kxsb)\n\n['/film/film/release_date_s./film/film_regional_release_date/film_release_distribution_medium(X,/m/029j_)', '<=', '/award/award_winning_work/awards_won./award/award_honor/award(X,/m/04kxsb)\\n']\n['/film/film/release_date_s./film/film_regional_release_date/film_release_distribution_medium', 'X,/m/029j_)']\n['/award/award_winning_work/awards_won./award/award_honor/award', 'X,/m/04kxsb)\\n']\n/film/film/release_date_s./film/film_regional_release_date/film_release_distribution_medium(X,/m/029j_) <= /award/award_winning_work/awards_won./award/award_honor/award(X,A)\n\n['/film/film/release_date_s./film/film_regional_release_date/film_release_distribution_medium(X,/m/029j_)', '<=', '/award/award_winning_work/awards_won./award/award_honor/award(X,A)\\n']\n['/film/film/release_date_s./film/film_regional_release_date/film_release_distribution_medium', 'X,/m/029j_)']\n['/award/award_winning_work/awards_won./award/award_honor/award', 'X,A)\\n']\n/sports/sports_team/roster./american_football/football_roster_position/position(/m/043vc,Y) <= /sports/sports_team/roster./american_football/football_roster_position/position(A,Y)\n\n['/sports/sports_team/roster./american_football/football_roster_position/position(/m/043vc,Y)', '<=', '/sports/sports_team/roster./american_football/football_roster_position/position(A,Y)\\n']\n['/sports/sports_team/roster./american_football/football_roster_position/position', '/m/043vc,Y)']\n['/sports/sports_team/roster./american_football/football_roster_position/position', 'A,Y)\\n']\n/sports/sports_team/roster./american_football/football_roster_position/position(/m/043vc,Y) <= /sports/sports_team/roster./american_football/football_roster_position/position(/m/057xlyq,Y)\n\n['/sports/sports_team/roster./american_football/football_roster_position/position(/m/043vc,Y)', '<=', '/sports/sports_team/roster./american_football/football_roster_position/position(/m/057xlyq,Y)\\n']\n['/sports/sports_team/roster./american_football/football_roster_position/position', '/m/043vc,Y)']\n['/sports/sports_team/roster./american_football/football_roster_position/position', '/m/057xlyq,Y)\\n']\n/film/film/release_date_s./film/film_regional_release_date/film_release_distribution_medium(X,/m/029j_) <= /award/award_winning_work/awards_won./award/award_honor/award(X,/m/0gr51)\n\n['/film/film/release_date_s./film/film_regional_release_date/film_release_distribution_medium(X,/m/029j_)', '<=', '/award/award_winning_work/awards_won./award/award_honor/award(X,/m/0gr51)\\n']\n['/film/film/release_date_s./film/film_regional_release_date/film_release_distribution_medium', 'X,/m/029j_)']\n['/award/award_winning_work/awards_won./award/award_honor/award', 'X,/m/0gr51)\\n']\n/music/performance_role/regular_performances./music/group_membership/role(/m/02k856,Y) <= /music/performance_role/track_performances./music/track_contribution/role(/m/02sgy,Y)\n\n['/music/performance_role/regular_performances./music/group_membership/role(/m/02k856,Y)', '<=', '/music/performance_role/track_performances./music/track_contribution/role(/m/02sgy,Y)\\n']\n['/music/performance_role/regular_performances./music/group_membership/role', '/m/02k856,Y)']\n['/music/performance_role/track_performances./music/track_contribution/role', '/m/02sgy,Y)\\n']\n/music/performance_role/regular_performances./music/group_membership/role(/m/02k856,Y) <= /music/performance_role/track_performances./music/track_contribution/role(A,Y)\n\n['/music/performance_role/regular_performances./music/group_membership/role(/m/02k856,Y)', '<=', '/music/performance_role/track_performances./music/track_contribution/role(A,Y)\\n']\n['/music/performance_role/regular_performances./music/group_membership/role', '/m/02k856,Y)']\n['/music/performance_role/track_performances./music/track_contribution/role', 'A,Y)\\n']\n/music/record_label/artist(/m/011k1h,Y) <= /music/record_label/artist(A,Y)\n\n['/music/record_label/artist(/m/011k1h,Y)', '<=', '/music/record_label/artist(A,Y)\\n']\n['/music/record_label/artist', '/m/011k1h,Y)']\n['/music/record_label/artist', 'A,Y)\\n']\n/music/record_label/artist(/m/011k1h,Y) <= /music/record_label/artist(/m/017l96,Y)\n\n['/music/record_label/artist(/m/011k1h,Y)', '<=', '/music/record_label/artist(/m/017l96,Y)\\n']\n['/music/record_label/artist', '/m/011k1h,Y)']\n['/music/record_label/artist', '/m/017l96,Y)\\n']\n/location/statistical_region/gdp_nominal./measurement_unit/dated_money_value/currency(X,Y) <= /location/statistical_region/gdp_nominal_per_capita./measurement_unit/dated_money_value/currency(X,Y)\n\n['/location/statistical_region/gdp_nominal./measurement_unit/dated_money_value/currency(X,Y)', '<=', '/location/statistical_region/gdp_nominal_per_capita./measurement_unit/dated_money_value/currency(X,Y)\\n']\n['/location/statistical_region/gdp_nominal./measurement_unit/dated_money_value/currency', 'X,Y)']\n['/location/statistical_region/gdp_nominal_per_capita./measurement_unit/dated_money_value/currency', 'X,Y)\\n']\n/film/film/release_date_s./film/film_regional_release_date/film_release_region(X,/m/03rjj) <= /award/award_winning_work/awards_won./award/award_honor/award(X,A)\n\n['/film/film/release_date_s./film/film_regional_release_date/film_release_region(X,/m/03rjj)', '<=', '/award/award_winning_work/awards_won./award/award_honor/award(X,A)\\n']\n['/film/film/release_date_s./film/film_regional_release_date/film_release_region', 'X,/m/03rjj)']\n['/award/award_winning_work/awards_won./award/award_honor/award', 'X,A)\\n']\n/location/location/contains(/m/09c7w0,Y) <= /location/location/adjoin_s./location/adjoining_relationship/adjoins(A,Y)\n\n['/location/location/contains(/m/09c7w0,Y)', '<=', '/location/location/adjoin_s./location/adjoining_relationship/adjoins(A,Y)\\n']\n['/location/location/contains', '/m/09c7w0,Y)']\n['/location/location/adjoin_s./location/adjoining_relationship/adjoins', 'A,Y)\\n']\n/award/award_nominee/award_nominations./award/award_nomination/award(/m/0c6qh,Y) <= /award/award_nominee/award_nominations./award/award_nomination/award(/m/0blq0z,Y)\n\n['/award/award_nominee/award_nominations./award/award_nomination/award(/m/0c6qh,Y)', '<=', '/award/award_nominee/award_nominations./award/award_nomination/award(/m/0blq0z,Y)\\n']\n['/award/award_nominee/award_nominations./award/award_nomination/award', '/m/0c6qh,Y)']\n['/award/award_nominee/award_nominations./award/award_nomination/award', '/m/0blq0z,Y)\\n']\n"
    }
   ],
   "source": [
    "from rule_io.rule_reader import RuleReader\n",
    "\n",
    "reader = RuleReader('output/output-20.txt')\n",
    "all_rules = reader.read()"
   ]
  },
  {
   "cell_type": "code",
   "execution_count": 2,
   "metadata": {
    "tags": []
   },
   "outputs": [
    {
     "output_type": "stream",
     "name": "stdout",
     "text": "/film/film/story_by(X, Y)\n['/film/actor/film./film/performance/film(Y, X)']\n/award/award_category/nominees./award/award_nomination/nominated_for(X, /m/0b4lkx)\n['/award/award_winning_work/awards_won./award/award_honor/award(A, X)']\n/award/award_category/nominees./award/award_nomination/nominated_for(X, /m/02ll45)\n['/award/award_winning_work/awards_won./award/award_honor/award(/m/0bx0l, X)']\n/award/award_category/nominees./award/award_nomination/nominated_for(X, /m/02ll45)\n['/award/award_winning_work/awards_won./award/award_honor/award(A, X)']\n/music/genre/artists(X, /m/03k3b)\n['/music/genre/artists(X, /m/01gx5f)']\n/music/genre/artists(X, /m/03k3b)\n['/music/genre/artists(X, A)']\n/award/award_category/nominees./award/award_nomination/nominated_for(X, /m/04nl83)\n['/award/award_nominee/award_nominations./award/award_nomination/award(A, X)']\n"
    }
   ],
   "source": [
    "for r in all_rules:\n",
    "    print(r.head)\n",
    "    print([str(t) for t in r.body])"
   ]
  },
  {
   "cell_type": "markdown",
   "metadata": {},
   "source": [
    "## Test ScoreTree"
   ]
  },
  {
   "cell_type": "code",
   "execution_count": 1,
   "metadata": {},
   "outputs": [],
   "source": [
    "from structure.score_tree import ScoreTree\n",
    "\n",
    "tree = ScoreTree()"
   ]
  },
  {
   "cell_type": "code",
   "execution_count": 2,
   "metadata": {
    "tags": []
   },
   "outputs": [],
   "source": [
    "s1 = set(['a', 'b', 'c', 'd', 'd1', 'd2'])\n",
    "tree.add_values(0.9, s1)"
   ]
  },
  {
   "cell_type": "code",
   "execution_count": 3,
   "metadata": {
    "tags": []
   },
   "outputs": [
    {
     "output_type": "stream",
     "name": "stdout",
     "text": "0.0 [0](6) -> {   }\n     0.9 [6](6) -> { c d a d1 d2 b }\n\nprecise enough False\nfirst unique False\n"
    }
   ],
   "source": [
    "print(tree)\n",
    "print('precise enough',tree.fine())\n",
    "print('first unique',tree.is_first_unique())"
   ]
  },
  {
   "cell_type": "code",
   "execution_count": 4,
   "metadata": {
    "tags": []
   },
   "outputs": [
    {
     "output_type": "stream",
     "name": "stdout",
     "text": "0.0 [0](8) -> {   }\n     0.9 [6](6) -> { c d a d1 d2 b }\n     0.8999 [8](2) -> { bbb aaa }\n\nprecise enough False\nfirst unique False\n"
    }
   ],
   "source": [
    "s11=set(['aaa', 'bbb'])\n",
    "tree.add_values(0.8999, s11)\n",
    "print(tree)\n",
    "print('precise enough',tree.fine())\n",
    "print('first unique',tree.is_first_unique())"
   ]
  },
  {
   "cell_type": "code",
   "execution_count": 5,
   "metadata": {
    "tags": []
   },
   "outputs": [
    {
     "output_type": "stream",
     "name": "stdout",
     "text": "0.0 [0](8) -> {   }\n     0.9 [6](6) -> { d2 c d d1 }\n         0.8999 [2](2) -> { b a }\n     0.8999 [8](2) -> { bbb aaa }\n\nprecise enough False\nfirst unique False\n"
    }
   ],
   "source": [
    "s12 = set(['a', 'b'])\n",
    "tree.add_values(0.8999, s12)\n",
    "print(tree)\n",
    "print('precise enough',tree.fine())\n",
    "print('first unique',tree.is_first_unique())"
   ]
  },
  {
   "cell_type": "code",
   "execution_count": 6,
   "metadata": {
    "tags": []
   },
   "outputs": [
    {
     "output_type": "stream",
     "name": "stdout",
     "text": "0.0 [0](12) -> {   }\n     0.9 [6](6) -> { d2 c d d1 }\n         0.8999 [2](2) -> { b a }\n     0.8999 [8](2) -> { bbb aaa }\n     0.88 [12](4) -> { e3 e4 e2 e1 }\n\nprecise enough False\nfirst unique False\n"
    }
   ],
   "source": [
    "s2 = set(['a', 'b', 'e1', 'e2', 'e3', 'e4'])\n",
    "tree.add_values(0.88, s2)\n",
    "print(tree)\n",
    "print('precise enough',tree.fine())\n",
    "print('first unique',tree.is_first_unique())"
   ]
  },
  {
   "cell_type": "code",
   "execution_count": 7,
   "metadata": {
    "tags": []
   },
   "outputs": [
    {
     "output_type": "stream",
     "name": "stdout",
     "text": "0.0 [0](12) -> {   }\n     0.9 [6](6) -> { d2 c d d1 }\n        X 0.8999 [2](2) -> { b }\n            X 0.6 [1](1) -> { a }\n     0.8999 [8](2) -> { bbb aaa }\n     0.88 [10](2) -> { e4 e1 }\n\nprecise enough True\nfirst unique True\n"
    }
   ],
   "source": [
    "s3 = set(['a', 'e1', 'e4'])\n",
    "tree.add_values(0.6, s3)\n",
    "print(tree)\n",
    "print('precise enough',tree.fine())\n",
    "print('first unique',tree.is_first_unique())"
   ]
  },
  {
   "cell_type": "code",
   "execution_count": 8,
   "metadata": {
    "tags": []
   },
   "outputs": [
    {
     "output_type": "stream",
     "name": "stdout",
     "text": "0.0 [0](12) -> {   }\n     0.9 [6](6) -> { d2 c d d1 }\n        X 0.8999 [2](2) -> { b }\n            X 0.6 [1](1) -> { a }\n     0.8999 [8](2) -> { bbb aaa }\n     0.88 [10](2) -> { e4 e1 }\n\nprecise enough True\nfirst unique True\n"
    }
   ],
   "source": [
    "s4 = set(['xa', 'xb', 'xe1', 'xe2', 'xe3', 'xe4'])\n",
    "tree.add_values(0.5, s4)\n",
    "print(tree)\n",
    "print('precise enough',tree.fine())\n",
    "print('first unique',tree.is_first_unique())"
   ]
  },
  {
   "cell_type": "code",
   "execution_count": 9,
   "metadata": {
    "tags": []
   },
   "outputs": [
    {
     "output_type": "stream",
     "name": "stdout",
     "text": "0.0 [0](12) -> {   }\n     0.9 [6](6) -> { d2 c d d1 }\n        X 0.8999 [2](2) -> { b }\n            X 0.6 [1](1) -> { a }\n     0.8999 [8](2) -> { bbb aaa }\n     0.88 [10](2) -> { e4 e1 }\n\nprecise enough True\n"
    }
   ],
   "source": [
    "s5 = set(['xa', 'xb', 'ye1', 'ye2', 'ye3', 'ye4'])\n",
    "tree.add_values(0.43, s4)\n",
    "print(tree)\n",
    "print('precise enough',tree.fine())"
   ]
  },
  {
   "cell_type": "code",
   "execution_count": 10,
   "metadata": {
    "tags": []
   },
   "outputs": [
    {
     "output_type": "stream",
     "name": "stdout",
     "text": "0.0 [0](12) -> {   }\n     0.9 [6](6) -> { d2 c d d1 }\n        X 0.8999 [2](2) -> { b }\n            X 0.6 [1](1) -> { a }\n     0.8999 [8](2) -> { bbb aaa }\n     0.88 [10](2) -> { e4 e1 }\n\nprecise enough True\n"
    }
   ],
   "source": [
    "s6 = set(['xe2', 'xa', 'xxx'])\n",
    "tree.add_values(0.39, s6)\n",
    "print(tree)\n",
    "print('precise enough',tree.fine())"
   ]
  },
  {
   "cell_type": "code",
   "execution_count": 11,
   "metadata": {
    "tags": []
   },
   "outputs": [
    {
     "output_type": "stream",
     "name": "stdout",
     "text": "0.0 [0](12) -> {   }\n     0.9 [6](6) -> { d2 c d d1 }\n        X 0.8999 [2](2) -> { b }\n            X 0.6 [1](1) -> { a }\n     0.8999 [8](2) -> { bbb aaa }\n     0.88 [10](2) -> { e4 e1 }\n\nprecise enough True\n"
    }
   ],
   "source": [
    "s7 = set(['xe1', 'xe2'])\n",
    "tree.add_values(0.22, s7)\n",
    "print(tree)\n",
    "print('precise enough',tree.fine())"
   ]
  },
  {
   "cell_type": "code",
   "execution_count": 12,
   "metadata": {
    "tags": []
   },
   "outputs": [
    {
     "output_type": "stream",
     "name": "stdout",
     "text": "0.0 [0](12) -> {   }\n     0.9 [6](6) -> { d2 c d d1 }\n        X 0.8999 [2](2) -> { b }\n            X 0.6 [1](1) -> { a }\n     0.8999 [8](2) -> { bbb aaa }\n     0.88 [10](2) -> { e4 e1 }\n\nprecise enough True\n"
    }
   ],
   "source": [
    "s8 = set(['xe4'])\n",
    "tree.add_values(0.21, s8)\n",
    "print(tree)\n",
    "print('precise enough',tree.fine())"
   ]
  },
  {
   "cell_type": "code",
   "execution_count": 13,
   "metadata": {
    "tags": []
   },
   "outputs": [
    {
     "output_type": "stream",
     "name": "stdout",
     "text": "0.0 [0](12) -> {   }\n     0.9 [6](6) -> { d2 c d d1 }\n        X 0.8999 [2](2) -> { b }\n            X 0.6 [1](1) -> { a }\n     0.8999 [8](2) -> { bbb aaa }\n    X 0.88 [10](2) -> { e4 }\n        X 0.21 [9](1) -> { e1 }\n\nprecise enough True\n"
    }
   ],
   "source": [
    "s9 = set(['e1', 'e2'])\n",
    "tree.add_values(0.21, s9)\n",
    "print(tree)\n",
    "print('precise enough',tree.fine())"
   ]
  },
  {
   "cell_type": "code",
   "execution_count": 14,
   "metadata": {
    "tags": []
   },
   "outputs": [
    {
     "output_type": "stream",
     "name": "stdout",
     "text": "0.0 [0](12) -> {   }\n     0.9 [6](6) -> { d2 c d d1 }\n        X 0.8999 [2](2) -> { b }\n            X 0.6 [1](1) -> { a }\n     0.8999 [8](2) -> { bbb aaa }\n    X 0.88 [10](2) -> { e4 }\n        X 0.21 [9](1) -> { e1 }\n\n"
    }
   ],
   "source": [
    "s19 = set(['u1', 'u2'])\n",
    "tree.add_values(0.19, s9)\n",
    "print(tree)"
   ]
  },
  {
   "cell_type": "code",
   "execution_count": 15,
   "metadata": {},
   "outputs": [
    {
     "output_type": "execute_result",
     "data": {
      "text/plain": "{'a': 0.9000899960000001,\n 'b': 0.90008999,\n 'd2': 0.9,\n 'c': 0.9,\n 'd': 0.9,\n 'd1': 0.9,\n 'bbb': 0.8999,\n 'aaa': 0.8999,\n 'e1': 0.880021,\n 'e4': 0.88}"
     },
     "metadata": {},
     "execution_count": 15
    }
   ],
   "source": [
    "map_get = {}\n",
    "tree.get_as_linked_map(map_get)\n",
    "map_get"
   ]
  },
  {
   "cell_type": "code",
   "execution_count": null,
   "metadata": {},
   "outputs": [],
   "source": []
  }
 ],
 "metadata": {
  "language_info": {
   "codemirror_mode": {
    "name": "ipython",
    "version": 3
   },
   "file_extension": ".py",
   "mimetype": "text/x-python",
   "name": "python",
   "nbconvert_exporter": "python",
   "pygments_lexer": "ipython3",
   "version": "3.7.3-final"
  },
  "orig_nbformat": 2,
  "kernelspec": {
   "name": "python3",
   "display_name": "Python 3"
  }
 },
 "nbformat": 4,
 "nbformat_minor": 2
}