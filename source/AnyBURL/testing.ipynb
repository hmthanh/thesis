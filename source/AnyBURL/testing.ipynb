{
 "cells": [
  {
   "cell_type": "code",
   "execution_count": 1,
   "metadata": {
    "tags": []
   },
   "outputs": [
    {
     "output_type": "stream",
     "name": "stdout",
     "text": "* set up index for 224 relations, 8171 head entities, and 6376 tail entities\n"
    }
   ],
   "source": [
    "from data.triple_set import TripleSet\n",
    "data = TripleSet()\n",
    "data.read_triples('../../datasets/FB15k-237/test.txt')"
   ]
  },
  {
   "cell_type": "code",
   "execution_count": 2,
   "metadata": {},
   "outputs": [
    {
     "output_type": "execute_result",
     "data": {
      "text/plain": "'/m/08966 /travel/travel_destination/climate./travel/travel_destination_monthly_climate/month /m/05lf_\\n /m/01hww_ /music/performance_role/regular_performances./music/group_membership/group /m/01q99h\\n /m/09v3jyg /film/film/release_date_s./film/film_regional_release_date/film_release_region /m/0f8l9c\\n /m/02jx1 /location/location/contains /m/013t85\\n /m/02jx1 /location/location/contains /m/0m0bj\\n /m/02bfmn /film/actor/film./film/performance/film /m/04ghz4m\\n /m/05zrvfd /award/award_category/nominees./award/award_nomination/nominated_for /m/04y9mm8\\n /m/060bp /government/government_office_category/officeholders./government/government_position_held/jurisdiction_of_office /m/04j53\\n /m/07l450 /film/film/genre /m/082gq\\n /m/07h1h5 /sports/pro_athlete/teams./sports/sports_team_roster/team /m/029q3k\\n'"
     },
     "metadata": {},
     "execution_count": 2
    }
   ],
   "source": [
    "' '.join([str(item) for item in data.triples[0:10]])"
   ]
  },
  {
   "cell_type": "markdown",
   "metadata": {},
   "source": [
    "# test path sample"
   ]
  },
  {
   "cell_type": "code",
   "execution_count": 3,
   "metadata": {
    "tags": []
   },
   "outputs": [
    {
     "output_type": "stream",
     "name": "stdout",
     "text": "* set up index for 224 relations, 8171 head entities, and 6376 tail entities\n* read 20466 triples\n"
    }
   ],
   "source": [
    "from data.triple_set import TripleSet\n",
    "data = TripleSet()\n",
    "data.read_triples('../../datasets/FB15k-237/test.txt')\n",
    "print('* read {} triples'.format(len(data.triples)))"
   ]
  },
  {
   "cell_type": "code",
   "execution_count": 4,
   "metadata": {},
   "outputs": [],
   "source": [
    "from algorithm.path_sampler import PathSampler\n",
    "ps = PathSampler(data)"
   ]
  },
  {
   "cell_type": "code",
   "execution_count": 1,
   "metadata": {
    "tags": []
   },
   "outputs": [],
   "source": [
    "some_path = set([])\n",
    "# for i in range(1000):\n",
    "#     p = ps.sample_path(2, True)\n",
    "#     if i % 50 == 0 and p is not None:\n",
    "#         print(p)\n",
    "#         print(\"\\n\\n\\n\")\n",
    "#     if p is not None: ###p.isValid()) {\n",
    "#         some_pathes.add(p)"
   ]
  },
  {
   "cell_type": "code",
   "execution_count": 1,
   "metadata": {
    "tags": []
   },
   "outputs": [
    {
     "output_type": "stream",
     "name": "stdout",
     "text": "* set up index for 224 relations, 8171 head entities, and 6376 tail entities\n"
    }
   ],
   "source": [
    "from learn import Learn\n",
    "# '../../datasets/FB15k-237/train.txt'\n",
    "learning = Learn()"
   ]
  },
  {
   "cell_type": "code",
   "execution_count": 2,
   "metadata": {
    "tags": [
     "outputPrepend"
    ]
   },
   "outputs": [
    {
     "output_type": "stream",
     "name": "stdout",
     "text": "d_foreclosure_area/estimated_number_of_mortgages./measurement_unit/dated_integer/source (X, Y)\nis_XY_rule\nget_generalizations rule /people/person/spouse_s./people/marriage/type_of_union (X, A)\nis_XY_rule\nget_generalizations rule /people/person/spouse_s./people/marriage/type_of_union (A, Y)\nis_XY_rule\nget_generalizations rule /people/person/spouse_s./people/marriage/type_of_union (X, Y)\nis_XY_rule\nget_generalizations rule /film/film/other_crew./film/film_crew_gig/film_crew_role (A, Y)\nis_XY_rule\nget_generalizations rule /film/film/other_crew./film/film_crew_gig/film_crew_role (X, A)\nis_XY_rule\nget_generalizations rule /film/film/other_crew./film/film_crew_gig/film_crew_role (X, Y)\nis_XY_rule\nget_generalizations rule /people/marriage_union_type/unions_of_this_type./people/marriage/location_of_ceremony (A, Y)\nis_XY_rule\nget_generalizations rule /people/marriage_union_type/unions_of_this_type./people/marriage/location_of_ceremony (X, A)\nis_XY_rule\nget_generalizations rule /people/marriage_union_type/unions_of_this_type./people/marriage/location_of_ceremony (X, Y)\nis_XY_rule\nget_generalizations rule /award/award_nominee/award_nominations./award/award_nomination/award (A, Y)\nis_XY_rule\nget_generalizations rule /award/award_nominee/award_nominations./award/award_nomination/award (X, A)\nis_XY_rule\nget_generalizations rule /award/award_nominee/award_nominations./award/award_nomination/award (X, Y)\nis_XY_rule\nget_generalizations rule /music/genre/artists (A, Y)\nis_XY_rule\nget_generalizations rule /music/genre/artists (X, Y)\nis_XY_rule\nget_generalizations rule /music/genre/artists (X, A)\nis_XY_rule\nget_generalizations rule /people/deceased_person/place_of_burial (A, Y)\nis_XY_rule\nget_generalizations rule /people/deceased_person/place_of_burial (X, Y)\nis_XY_rule\nget_generalizations rule /people/deceased_person/place_of_burial (X, A)\nis_XY_rule\nget_generalizations rule /people/person/gender (A, Y)\nis_XY_rule\nget_generalizations rule /people/person/gender (X, A)\nis_XY_rule\nget_generalizations rule /people/person/gender (X, Y)\nis_XY_rule\nget_generalizations rule /film/film/other_crew./film/film_crew_gig/film_crew_role (X, A)\nis_XY_rule\nget_generalizations rule /film/film/other_crew./film/film_crew_gig/film_crew_role (X, Y)\nis_XY_rule\nget_generalizations rule /film/film/other_crew./film/film_crew_gig/film_crew_role (A, Y)\nis_XY_rule\nget_generalizations rule /education/educational_institution/students_graduates./education/education/student (X, Y)\nis_XY_rule\nget_generalizations rule /education/educational_institution/students_graduates./education/education/student (X, A)\nis_XY_rule\nget_generalizations rule /education/educational_institution/students_graduates./education/education/student (A, Y)\nis_XY_rule\nget_generalizations rule /music/genre/artists (X, A)\nis_XY_rule\nget_generalizations rule /music/genre/artists (A, Y)\nis_XY_rule\nget_generalizations rule /music/genre/artists (X, Y)\nis_XY_rule\nget_generalizations rule /film/actor/film./film/performance/film (A, Y)\nis_XY_rule\nget_generalizations rule /film/actor/film./film/performance/film (X, A)\nis_XY_rule\nget_generalizations rule /film/actor/film./film/performance/film (X, Y)\nis_XY_rule\nget_generalizations rule /location/location/contains (X, A)\nis_XY_rule\nget_generalizations rule /location/location/contains (A, Y)\nis_XY_rule\nget_generalizations rule /location/location/contains (X, Y)\nis_XY_rule\nget_generalizations rule /film/film/written_by (X, A)\nis_XY_rule\nget_generalizations rule /film/film/written_by (X, Y)\nis_XY_rule\nget_generalizations rule /film/film/written_by (A, Y)\nis_XY_rule\nget_generalizations rule /film/film/other_crew./film/film_crew_gig/film_crew_role (X, A)\nis_XY_rule\nget_generalizations rule /film/film/other_crew./film/film_crew_gig/film_crew_role (A, Y)\nis_XY_rule\nget_generalizations rule /film/film/other_crew./film/film_crew_gig/film_crew_role (X, Y)\nis_XY_rule\nget_generalizations rule /film/film/release_date_s./film/film_regional_release_date/film_release_distribution_medium (A, Y)\nis_XY_rule\nget_generalizations rule /film/film/release_date_s./film/film_regional_release_date/film_release_distribution_medium (X, A)\nis_XY_rule\nget_generalizations rule /film/film/release_date_s./film/film_regional_release_date/film_release_distribution_medium (X, Y)\nis_XY_rule\nget_generalizations rule /film/film/featured_film_locations (X, A)\nis_XY_rule\nget_generalizations rule /film/film/featured_film_locations (A, Y)\nis_XY_rule\nget_generalizations rule /film/film/featured_film_locations (X, Y)\nis_XY_rule\nget_generalizations rule /people/person/gender (X, A)\nis_XY_rule\nget_generalizations rule /people/person/gender (X, Y)\nis_XY_rule\nget_generalizations rule /people/person/gender (A, Y)\nis_XY_rule\nget_generalizations rule /sports/sports_team/colors (A, Y)\nis_XY_rule\nget_generalizations rule /sports/sports_team/colors (X, A)\nis_XY_rule\nget_generalizations rule /sports/sports_team/colors (X, Y)\nis_XY_rule\nget_generalizations rule /award/award_category/nominees./award/award_nomination/nominated_for (X, A)\nis_XY_rule\nget_generalizations rule /award/award_category/nominees./award/award_nomination/nominated_for (X, Y)\nis_XY_rule\nget_generalizations rule /award/award_category/nominees./award/award_nomination/nominated_for (A, Y)\nis_XY_rule\nget_generalizations rule /government/legislative_session/members./government/government_position_held/district_represented (A, Y)\nis_XY_rule\nget_generalizations rule /government/legislative_session/members./government/government_position_held/district_represented (X, Y)\nis_XY_rule\nget_generalizations rule /government/legislative_session/members./government/government_position_held/district_represented (X, A)\nis_XY_rule\nget_generalizations rule /award/award_nominee/award_nominations./award/award_nomination/award_nominee (A, Y)\nis_XY_rule\nget_generalizations rule /award/award_nominee/award_nominations./award/award_nomination/award_nominee (X, A)\nis_XY_rule\nget_generalizations rule /award/award_nominee/award_nominations./award/award_nomination/award_nominee (X, Y)\nis_XY_rule\nget_generalizations rule /location/hud_county_place/place (A, Y)\nis_XY_rule\nget_generalizations rule /location/hud_county_place/place (X, A)\nis_XY_rule\nget_generalizations rule /location/hud_county_place/place (X, Y)\nis_XY_rule\nget_generalizations rule /film/film/release_date_s./film/film_regional_release_date/film_release_region (X, A)\nis_XY_rule\nget_generalizations rule /film/film/release_date_s./film/film_regional_release_date/film_release_region (A, Y)\nis_XY_rule\nget_generalizations rule /film/film/release_date_s./film/film_regional_release_date/film_release_region (X, Y)\nis_XY_rule\nget_generalizations rule /film/actor/film./film/performance/film (A, Y)\nis_XY_rule\nget_generalizations rule /film/actor/film./film/performance/film (X, A)\nis_XY_rule\nget_generalizations rule /film/actor/film./film/performance/film (X, Y)\nis_XY_rule\nget_generalizations rule /music/genre/artists (X, A)\nis_XY_rule\nget_generalizations rule /music/genre/artists (A, Y)\nis_XY_rule\nget_generalizations rule /music/genre/artists (X, Y)\nis_XY_rule\nget_generalizations rule /education/educational_degree/people_with_this_degree./education/education/major_field_of_study (A, Y)\nis_XY_rule\nget_generalizations rule /education/educational_degree/people_with_this_degree./education/education/major_field_of_study (X, A)\nis_XY_rule\nget_generalizations rule /education/educational_degree/people_with_this_degree./education/education/major_field_of_study (X, Y)\nis_XY_rule\nget_generalizations rule /music/group_member/membership./music/group_membership/group (X, A)\nis_XY_rule\nget_generalizations rule /music/group_member/membership./music/group_membership/group (A, Y)\nis_XY_rule\nget_generalizations rule /music/group_member/membership./music/group_membership/group (X, Y)\nis_XY_rule\nget_generalizations rule /people/person/religion (A, Y)\nis_XY_rule\nget_generalizations rule /people/person/religion (X, A)\nis_XY_rule\nget_generalizations rule /people/person/religion (X, Y)\nis_XY_rule\nget_generalizations rule /people/person/place_of_birth (X, A)\nis_XY_rule\nget_generalizations rule /people/person/place_of_birth (A, Y)\nis_XY_rule\nget_generalizations rule /people/person/place_of_birth (X, Y)\nis_XY_rule\nget_generalizations rule /government/government_office_category/officeholders./government/government_position_held/jurisdiction_of_office (X, A)\nis_XY_rule\nget_generalizations rule /government/government_office_category/officeholders./government/government_position_held/jurisdiction_of_office (A, Y)\nis_XY_rule\nget_generalizations rule /government/government_office_category/officeholders./government/government_position_held/jurisdiction_of_office (X, Y)\nis_XY_rule\nget_generalizations rule /award/award_nominee/award_nominations./award/award_nomination/award (A, Y)\nis_XY_rule\nget_generalizations rule /award/award_nominee/award_nominations./award/award_nomination/award (X, A)\nis_XY_rule\nget_generalizations rule /award/award_nominee/award_nominations./award/award_nomination/award (X, Y)\nis_XY_rule\nget_generalizations rule /award/award_nominee/award_nominations./award/award_nomination/award (A, Y)\nis_XY_rule\nget_generalizations rule /award/award_nominee/award_nominations./award/award_nomination/award (X, A)\nis_XY_rule\nget_generalizations rule /award/award_nominee/award_nominations./award/award_nomination/award (X, Y)\nis_XY_rule\nget_generalizations rule /sports/professional_sports_team/draft_picks./sports/sports_league_draft_pick/draft (X, A)\nis_XY_rule\nget_generalizations rule /sports/professional_sports_team/draft_picks./sports/sports_league_draft_pick/draft (A, Y)\nis_XY_rule\nget_generalizations rule /sports/professional_sports_team/draft_picks./sports/sports_league_draft_pick/draft (X, Y)\nis_XY_rule\nget_generalizations rule /music/performance_role/regular_performances./music/group_membership/role (A, Y)\nis_XY_rule\nget_generalizations rule /music/performance_role/regular_performances./music/group_membership/role (X, A)\nis_XY_rule\nget_generalizations rule /music/performance_role/regular_performances./music/group_membership/role (X, Y)\nis_XY_rule\nget_generalizations rule /people/person/nationality (A, Y)\nis_XY_rule\nget_generalizations rule /people/person/nationality (X, A)\nis_XY_rule\nget_generalizations rule /people/person/nationality (X, Y)\nis_XY_rule\nget_generalizations rule /travel/travel_destination/climate./travel/travel_destination_monthly_climate/month (A, Y)\nis_XY_rule\nget_generalizations rule /travel/travel_destination/climate./travel/travel_destination_monthly_climate/month (X, A)\nis_XY_rule\nget_generalizations rule /travel/travel_destination/climate./travel/travel_destination_monthly_climate/month (X, Y)\nis_XY_rule\nget_generalizations rule /people/person/religion (A, Y)\nis_XY_rule\nget_generalizations rule /people/person/religion (X, A)\nis_XY_rule\nget_generalizations rule /people/person/religion (X, Y)\nis_XY_rule\nget_generalizations rule /people/person/nationality (A, Y)\nis_XY_rule\nget_generalizations rule /people/person/nationality (X, A)\nis_XY_rule\nget_generalizations rule /people/person/nationality (X, Y)\nis_XY_rule\nget_generalizations rule /sports/professional_sports_team/draft_picks./sports/sports_league_draft_pick/draft (A, Y)\nis_XY_rule\nget_generalizations rule /sports/professional_sports_team/draft_picks./sports/sports_league_draft_pick/draft (X, A)\nis_XY_rule\nget_generalizations rule /sports/professional_sports_team/draft_picks./sports/sports_league_draft_pick/draft (X, Y)\nis_XY_rule\nget_generalizations rule /education/educational_institution/colors (X, A)\nis_XY_rule\nget_generalizations rule /education/educational_institution/colors (A, Y)\nis_XY_rule\nget_generalizations rule /education/educational_institution/colors (X, Y)\nis_XY_rule\nget_generalizations rule /award/award_nominee/award_nominations./award/award_nomination/award (A, Y)\nis_XY_rule\nget_generalizations rule /award/award_nominee/award_nominations./award/award_nomination/award (X, A)\nis_XY_rule\nget_generalizations rule /award/award_nominee/award_nominations./award/award_nomination/award (X, Y)\nis_XY_rule\nget_generalizations rule /organization/organization_member/member_of./organization/organization_membership/organization (A, Y)\nis_XY_rule\nget_generalizations rule /organization/organization_member/member_of./organization/organization_membership/organization (X, A)\nis_XY_rule\nget_generalizations rule /organization/organization_member/member_of./organization/organization_membership/organization (X, Y)\nis_XY_rule\nget_generalizations rule /film/film/release_date_s./film/film_regional_release_date/film_release_region (X, A)\nis_XY_rule\nget_generalizations rule /film/film/release_date_s./film/film_regional_release_date/film_release_region (A, Y)\nis_XY_rule\nget_generalizations rule /film/film/release_date_s./film/film_regional_release_date/film_release_region (X, Y)\nis_XY_rule\nget_generalizations rule /common/topic/webpage./common/webpage/category (A, Y)\nis_XY_rule\nget_generalizations rule /common/topic/webpage./common/webpage/category (X, A)\nis_XY_rule\nget_generalizations rule /common/topic/webpage./common/webpage/category (X, Y)\nis_XY_rule\nget_generalizations rule /film/film/release_date_s./film/film_regional_release_date/film_release_region (X, A)\nis_XY_rule\nget_generalizations rule /film/film/release_date_s./film/film_regional_release_date/film_release_region (A, Y)\nis_XY_rule\nget_generalizations rule /film/film/release_date_s./film/film_regional_release_date/film_release_region (X, Y)\nis_XY_rule\nget_generalizations rule /award/award_category/nominees./award/award_nomination/nominated_for (A, Y)\nis_XY_rule\nget_generalizations rule /award/award_category/nominees./award/award_nomination/nominated_for (X, A)\nis_XY_rule\nget_generalizations rule /award/award_category/nominees./award/award_nomination/nominated_for (X, Y)\nis_XY_rule\nget_generalizations rule /film/film/release_date_s./film/film_regional_release_date/film_release_region (X, A)\nis_XY_rule\nget_generalizations rule /film/film/release_date_s./film/film_regional_release_date/film_release_region (A, Y)\nis_XY_rule\nget_generalizations rule /film/film/release_date_s./film/film_regional_release_date/film_release_region (X, Y)\nis_XY_rule\nget_generalizations rule /travel/travel_destination/climate./travel/travel_destination_monthly_climate/month (A, Y)\nis_XY_rule\nget_generalizations rule /travel/travel_destination/climate./travel/travel_destination_monthly_climate/month (X, A)\nis_XY_rule\nget_generalizations rule /travel/travel_destination/climate./travel/travel_destination_monthly_climate/month (X, Y)\nis_XY_rule\nget_generalizations rule /film/film/release_date_s./film/film_regional_release_date/film_release_region (X, A)\nis_XY_rule\nget_generalizations rule /film/film/release_date_s./film/film_regional_release_date/film_release_region (A, Y)\nis_XY_rule\nget_generalizations rule /film/film/release_date_s./film/film_regional_release_date/film_release_region (X, Y)\nis_XY_rule\nget_generalizations rule /base/americancomedy/celebrity_impressionist/celebrities_impersonated (A, Y)\nis_XY_rule\nget_generalizations rule /base/americancomedy/celebrity_impressionist/celebrities_impersonated (X, A)\nis_XY_rule\nget_generalizations rule /base/americancomedy/celebrity_impressionist/celebrities_impersonated (X, Y)\nis_XY_rule\nget_generalizations rule /education/educational_institution/students_graduates./education/education/major_field_of_study (X, Y)\nis_XY_rule\nget_generalizations rule /education/educational_institution/students_graduates./education/education/major_field_of_study (A, Y)\nis_XY_rule\nget_generalizations rule /education/educational_institution/students_graduates./education/education/major_field_of_study (X, A)\nis_XY_rule\nget_generalizations rule /education/educational_institution/students_graduates./education/education/student (X, A)\nis_XY_rule\nget_generalizations rule /education/educational_institution/students_graduates./education/education/student (A, Y)\nis_XY_rule\nget_generalizations rule /education/educational_institution/students_graduates./education/education/student (X, Y)\nis_XY_rule\nget_generalizations rule /tv/tv_program/genre (A, Y)\nis_XY_rule\nget_generalizations rule /tv/tv_program/genre (X, A)\nis_XY_rule\nget_generalizations rule /tv/tv_program/genre (X, Y)\nis_XY_rule\nget_generalizations rule /sports/sports_team/colors (A, Y)\nis_XY_rule\nget_generalizations rule /sports/sports_team/colors (X, A)\nis_XY_rule\nget_generalizations rule /sports/sports_team/colors (X, Y)\nis_XY_rule\nget_generalizations rule /film/film/production_companies (X, Y)\nis_XY_rule\nget_generalizations rule /film/film/production_companies (X, A)\nis_XY_rule\nget_generalizations rule /film/film/production_companies (A, Y)\nis_XY_rule\nget_generalizations rule /film/film/release_date_s./film/film_regional_release_date/film_release_region (X, A)\nis_XY_rule\nget_generalizations rule /film/film/release_date_s./film/film_regional_release_date/film_release_region (X, Y)\nis_XY_rule\nget_generalizations rule /film/film/release_date_s./film/film_regional_release_date/film_release_region (A, Y)\nis_XY_rule\nget_generalizations rule /education/educational_institution/colors (X, A)\nis_XY_rule\nget_generalizations rule /education/educational_institution/colors (X, Y)\nis_XY_rule\nget_generalizations rule /education/educational_institution/colors (A, Y)\nis_XY_rule\nget_generalizations rule /travel/travel_destination/climate./travel/travel_destination_monthly_climate/month (A, Y)\nis_XY_rule\nget_generalizations rule /travel/travel_destination/climate./travel/travel_destination_monthly_climate/month (X, Y)\nis_XY_rule\nget_generalizations rule /travel/travel_destination/climate./travel/travel_destination_monthly_climate/month (X, A)\nis_XY_rule\nget_generalizations rule /film/film/language (A, Y)\nis_XY_rule\nget_generalizations rule /film/film/language (X, Y)\nis_XY_rule\nget_generalizations rule /film/film/language (X, A)\nis_XY_rule\nget_generalizations rule /organization/organization/headquarters./location/mailing_address/citytown (X, A)\nis_XY_rule\nget_generalizations rule /organization/organization/headquarters./location/mailing_address/citytown (X, Y)\nis_XY_rule\nget_generalizations rule /organization/organization/headquarters./location/mailing_address/citytown (A, Y)\nis_XY_rule\nget_generalizations rule /film/actor/film./film/performance/film (A, Y)\nis_XY_rule\nget_generalizations rule /film/actor/film./film/performance/film (X, A)\nis_XY_rule\nget_generalizations rule /film/actor/film./film/performance/film (X, Y)\nis_XY_rule\nget_generalizations rule /award/award_nominee/award_nominations./award/award_nomination/award_nominee (X, Y)\nis_XY_rule\nget_generalizations rule /award/award_nominee/award_nominations./award/award_nomination/award_nominee (A, Y)\nis_XY_rule\nget_generalizations rule /award/award_nominee/award_nominations./award/award_nomination/award_nominee (X, A)\nis_XY_rule\nget_generalizations rule /music/genre/artists (X, A)\nis_XY_rule\nget_generalizations rule /music/genre/artists (A, Y)\nis_XY_rule\nget_generalizations rule /music/genre/artists (X, Y)\nis_XY_rule\nget_generalizations rule /education/educational_degree/people_with_this_degree./education/education/major_field_of_study (A, Y)\nis_XY_rule\nget_generalizations rule /education/educational_degree/people_with_this_degree./education/education/major_field_of_study (X, A)\nis_XY_rule\nget_generalizations rule /education/educational_degree/people_with_this_degree./education/education/major_field_of_study (X, Y)\nis_XY_rule\nget_generalizations rule /user/tsegaran/random/taxonomy_subject/entry./user/tsegaran/random/taxonomy_entry/taxonomy (X, A)\nis_XY_rule\nget_generalizations rule /user/tsegaran/random/taxonomy_subject/entry./user/tsegaran/random/taxonomy_entry/taxonomy (A, Y)\nis_XY_rule\nget_generalizations rule /user/tsegaran/random/taxonomy_subject/entry./user/tsegaran/random/taxonomy_entry/taxonomy (X, Y)\nis_XY_rule\nget_generalizations rule /people/person/gender (X, A)\nis_XY_rule\nget_generalizations rule /people/person/gender (X, Y)\nis_XY_rule\n"
    }
   ],
   "source": [
    "learning.train()"
   ]
  },
  {
   "cell_type": "code",
   "execution_count": null,
   "metadata": {},
   "outputs": [],
   "source": []
  }
 ],
 "metadata": {
  "language_info": {
   "codemirror_mode": {
    "name": "ipython",
    "version": 3
   },
   "file_extension": ".py",
   "mimetype": "text/x-python",
   "name": "python",
   "nbconvert_exporter": "python",
   "pygments_lexer": "ipython3",
   "version": "3.7.3-final"
  },
  "orig_nbformat": 2,
  "kernelspec": {
   "name": "python3",
   "display_name": "Python 3"
  }
 },
 "nbformat": 4,
 "nbformat_minor": 2
}