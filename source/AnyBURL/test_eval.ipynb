{
 "metadata": {
  "language_info": {
   "codemirror_mode": {
    "name": "ipython",
    "version": 3
   },
   "file_extension": ".py",
   "mimetype": "text/x-python",
   "name": "python",
   "nbconvert_exporter": "python",
   "pygments_lexer": "ipython3",
   "version": "3.7.3-final"
  },
  "orig_nbformat": 2,
  "kernelspec": {
   "name": "python3",
   "display_name": "Python 3"
  }
 },
 "nbformat": 4,
 "nbformat_minor": 2,
 "cells": [
  {
   "cell_type": "code",
   "execution_count": 1,
   "metadata": {
    "tags": []
   },
   "outputs": [
    {
     "output_type": "stream",
     "name": "stdout",
     "text": "* indexed 100000 triples\n* set up index for 18 relations, 40504 head entities, and 40551 tail entities\n* set up index for 18 relations, 4262 head entities, and 4338 tail entities\n* set up index for 18 relations, 4349 head entities, and 4263 tail entities\n"
    }
   ],
   "source": [
    "from evaluation import Evaluation\n",
    "eval = Evaluation()"
   ]
  },
  {
   "cell_type": "code",
   "execution_count": 2,
   "metadata": {
    "tags": []
   },
   "outputs": [
    {
     "output_type": "stream",
     "name": "stdout",
     "text": "* indexed 100000 triples\n* set up index for 18 relations, 40504 head entities, and 40551 tail entities\n* set up index for 18 relations, 4262 head entities, and 4338 tail entities\n* set up index for 18 relations, 4349 head entities, and 4263 tail entities\nhits@1   hits@3    hits@10\n0.0002\t0.0002\t0.0002\n"
    }
   ],
   "source": [
    "eval.eval()"
   ]
  },
  {
   "cell_type": "code",
   "execution_count": 8,
   "metadata": {
    "tags": []
   },
   "outputs": [
    {
     "output_type": "execute_result",
     "data": {
      "text/plain": "\"triple:52\\t11\\t0.21153846153846154\\t/location/location/contains(/m/0kpys,Y) <= /base/biblioness/bibs_location/state(Y,/m/01n7q)\\n['18']['18']\""
     },
     "metadata": {},
     "execution_count": 8
    }
   ],
   "source": [
    "eval.result_set.results['52'].__str__()"
   ]
  },
  {
   "cell_type": "code",
   "execution_count": null,
   "metadata": {},
   "outputs": [],
   "source": []
  }
 ]
}