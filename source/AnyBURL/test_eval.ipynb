{
 "metadata": {
  "language_info": {
   "codemirror_mode": {
    "name": "ipython",
    "version": 3
   },
   "file_extension": ".py",
   "mimetype": "text/x-python",
   "name": "python",
   "nbconvert_exporter": "python",
   "pygments_lexer": "ipython3",
   "version": "3.7.3-final"
  },
  "orig_nbformat": 2,
  "kernelspec": {
   "name": "python3",
   "display_name": "Python 3"
  }
 },
 "nbformat": 4,
 "nbformat_minor": 2,
 "cells": [
  {
   "cell_type": "code",
   "execution_count": 2,
   "metadata": {
    "tags": []
   },
   "outputs": [
    {
     "output_type": "stream",
     "name": "stdout",
     "text": "* indexed 100000 triples\n* set up index for 18 relations, 40504 head entities, and 40551 tail entities\n* set up index for 18 relations, 4262 head entities, and 4338 tail entities\n* set up index for 18 relations, 4349 head entities, and 4263 tail entities\nhits@1    hits@3    hits@10\n0.9378\t  0.9400    0.9408\n"
    }
   ],
   "source": [
    "from evaluation import Evaluation\n",
    "eval = Evaluation('WN18')\n",
    "eval.eval()"
   ]
  },
  {
   "cell_type": "code",
   "execution_count": 4,
   "metadata": {
    "tags": []
   },
   "outputs": [
    {
     "output_type": "stream",
     "name": "stdout",
     "text": "hits@1    hits@3    hits@10\n0.9451\t  0.9512    0.9559\n"
    }
   ],
   "source": [
    "eval.eval(False)"
   ]
  },
  {
   "cell_type": "code",
   "execution_count": 5,
   "metadata": {
    "tags": []
   },
   "outputs": [
    {
     "output_type": "stream",
     "name": "stdout",
     "text": "hits@1    hits@3    hits@10\n0.9451\t  0.9512    0.9559\n"
    }
   ],
   "source": [
    "eval.eval(False, True)"
   ]
  },
  {
   "cell_type": "code",
   "execution_count": 1,
   "metadata": {
    "tags": []
   },
   "outputs": [
    {
     "output_type": "stream",
     "name": "stdout",
     "text": "* set up index for 18 relations, 4349 head entities, and 4263 tail entities\n"
    }
   ],
   "source": [
    "from data.triple_set import TripleSet\n",
    "triple_set = TripleSet()\n",
    "triple_set.read_triples('../../datasets/WN18/test.txt')"
   ]
  },
  {
   "cell_type": "code",
   "execution_count": 2,
   "metadata": {
    "tags": []
   },
   "outputs": [
    {
     "output_type": "stream",
     "name": "stdout",
     "text": "* indexed 100000 triples\n* set up index for 18 relations, 40504 head entities, and 40551 tail entities\n=====> batch [ACYCLIC 1] 1 (sampled 55 pathes) *****\n=====> fraction of previously seen rules within useful rules in this batch: 0.7238095238095238 num of new rule = 29 num of previously rule = 76 num of all batch rules = 105\n=====> stored rules: 29\n=====> batch [CYCLIC 1] 2 (sampled 204 pathes) *****\n=====> fraction of previously seen rules within useful rules in this batch: 0.9130434782608695 num of new rule = 6 num of previously rule = 63 num of all batch rules = 69\n=====> stored rules: 35\n=====> batch [ACYCLIC 1] 3 (sampled 262 pathes) *****\n=====> fraction of previously seen rules within useful rules in this batch: 0.8130841121495327 num of new rule = 20 num of previously rule = 87 num of all batch rules = 107\n=====> stored rules: 55\n=====> batch [CYCLIC 1] 4 (sampled 421 pathes) *****\n=====> fraction of previously seen rules within useful rules in this batch: 0.9552238805970149 num of new rule = 3 num of previously rule = 64 num of all batch rules = 67\n=====> stored rules: 58\n=====> batch [ACYCLIC 1] 5 (sampled 478 pathes) *****\n=====> fraction of previously seen rules within useful rules in this batch: 0.8596491228070176 num of new rule = 16 num of previously rule = 98 num of all batch rules = 114\n=====> stored rules: 74\n=====> batch [CYCLIC 1] 6 (sampled 636 pathes) *****\n=====> fraction of previously seen rules within useful rules in this batch: 0.9864864864864865 num of new rule = 1 num of previously rule = 73 num of all batch rules = 74\n=====> stored rules: 75\n=====> batch [ACYCLIC 1] 7 (sampled 693 pathes) *****\n=====> fraction of previously seen rules within useful rules in this batch: 0.8490566037735849 num of new rule = 16 num of previously rule = 90 num of all batch rules = 106\n=====> stored rules: 91\n=====> batch [CYCLIC 1] 8 (sampled 845 pathes) *****\n=====> fraction of previously seen rules within useful rules in this batch: 0.9714285714285714 num of new rule = 2 num of previously rule = 68 num of all batch rules = 70\n=====> stored rules: 93\n=====> batch [ACYCLIC 1] 9 (sampled 902 pathes) *****\n=====> fraction of previously seen rules within useful rules in this batch: 0.8468468468468469 num of new rule = 17 num of previously rule = 94 num of all batch rules = 111\n=====> stored rules: 110\n=====> batch [CYCLIC 1] 10 (sampled 1058 pathes) *****\n=====> fraction of previously seen rules within useful rules in this batch: 1.0 num of new rule = 0 num of previously rule = 77 num of all batch rules = 77\n=====> stored rules: 110\n=========================================================\n=====> increasing rule size of CYCLIC rule to 2\n=====> batch [ACYCLIC 1] 11 (sampled 1115 pathes) *****\n=====> fraction of previously seen rules within useful rules in this batch: 0.8571428571428571 num of new rule = 14 num of previously rule = 84 num of all batch rules = 98\n=====> stored rules: 124\n=====> batch [CYCLIC 2] 12 (sampled 2309 pathes) *****\n=====> fraction of previously seen rules within useful rules in this batch: 0.2 num of new rule = 40 num of previously rule = 10 num of all batch rules = 50\n=====> stored rules: 40\n=====> batch [ACYCLIC 1] 13 (sampled 2367 pathes) *****\n=====> fraction of previously seen rules within useful rules in this batch: 0.797979797979798 num of new rule = 20 num of previously rule = 79 num of all batch rules = 99\n=====> stored rules: 144\n=====> batch [CYCLIC 2] 14 (sampled 3904 pathes) *****\n=====> fraction of previously seen rules within useful rules in this batch: 0.47058823529411764 num of new rule = 27 num of previously rule = 24 num of all batch rules = 51\n=====> stored rules: 67\n=====> batch [ACYCLIC 1] 15 (sampled 3963 pathes) *****\n=====> fraction of previously seen rules within useful rules in this batch: 0.8636363636363636 num of new rule = 15 num of previously rule = 95 num of all batch rules = 110\n=====> stored rules: 159\n=====> batch [CYCLIC 2] 16 (sampled 5545 pathes) *****\n=====> fraction of previously seen rules within useful rules in this batch: 0.5283018867924528 num of new rule = 25 num of previously rule = 28 num of all batch rules = 53\n=====> stored rules: 92\n=====> batch [ACYCLIC 1] 17 (sampled 5599 pathes) *****\n=====> fraction of previously seen rules within useful rules in this batch: 0.8446601941747572 num of new rule = 16 num of previously rule = 87 num of all batch rules = 103\n=====> stored rules: 175\n=====> batch [CYCLIC 2] 18 (sampled 6592 pathes) *****\n=====> fraction of previously seen rules within useful rules in this batch: 0.4888888888888889 num of new rule = 23 num of previously rule = 22 num of all batch rules = 45\n=====> stored rules: 115\n=====> batch [ACYCLIC 1] 19 (sampled 6648 pathes) *****\n=====> fraction of previously seen rules within useful rules in this batch: 0.8431372549019608 num of new rule = 16 num of previously rule = 86 num of all batch rules = 102\n=====> stored rules: 191\n=====> batch [CYCLIC 2] 20 (sampled 8181 pathes) *****\n=====> fraction of previously seen rules within useful rules in this batch: 0.6078431372549019 num of new rule = 20 num of previously rule = 31 num of all batch rules = 51\n=====> stored rules: 135\n=====> batch [ACYCLIC 1] 21 (sampled 8238 pathes) *****\n=====> fraction of previously seen rules within useful rules in this batch: 0.8928571428571429 num of new rule = 12 num of previously rule = 100 num of all batch rules = 112\n=====> stored rules: 203\n=====> batch [CYCLIC 2] 22 (sampled 9364 pathes) *****\n=====> fraction of previously seen rules within useful rules in this batch: 0.627906976744186 num of new rule = 16 num of previously rule = 27 num of all batch rules = 43\n=====> stored rules: 151\n=====> batch [ACYCLIC 1] 23 (sampled 9422 pathes) *****\n=====> fraction of previously seen rules within useful rules in this batch: 0.8411214953271028 num of new rule = 17 num of previously rule = 90 num of all batch rules = 107\n=====> stored rules: 220\n=====> batch [CYCLIC 2] 24 (sampled 11385 pathes) *****\n=====> fraction of previously seen rules within useful rules in this batch: 0.6883116883116883 num of new rule = 24 num of previously rule = 53 num of all batch rules = 77\n=====> stored rules: 175\n=====> batch [ACYCLIC 1] 25 (sampled 11443 pathes) *****\n=====> fraction of previously seen rules within useful rules in this batch: 0.8787878787878788 num of new rule = 12 num of previously rule = 87 num of all batch rules = 99\n=====> stored rules: 232\n=====> batch [CYCLIC 2] 26 (sampled 12521 pathes) *****\n=====> fraction of previously seen rules within useful rules in this batch: 0.6964285714285714 num of new rule = 17 num of previously rule = 39 num of all batch rules = 56\n=====> stored rules: 192\n=====> batch [ACYCLIC 1] 27 (sampled 12579 pathes) *****\n=====> fraction of previously seen rules within useful rules in this batch: 0.8839285714285714 num of new rule = 13 num of previously rule = 99 num of all batch rules = 112\n=====> stored rules: 245\n=====> batch [CYCLIC 2] 28 (sampled 14138 pathes) *****\n=====> fraction of previously seen rules within useful rules in this batch: 0.6346153846153846 num of new rule = 19 num of previously rule = 33 num of all batch rules = 52\n=====> stored rules: 211\n=====> batch [ACYCLIC 1] 29 (sampled 14196 pathes) *****\n=====> fraction of previously seen rules within useful rules in this batch: 0.8285714285714286 num of new rule = 18 num of previously rule = 87 num of all batch rules = 105\n=====> stored rules: 263\n=====> batch [CYCLIC 2] 30 (sampled 15772 pathes) *****\n=====> fraction of previously seen rules within useful rules in this batch: 0.7192982456140351 num of new rule = 16 num of previously rule = 41 num of all batch rules = 57\n=====> stored rules: 227\n=====> batch [ACYCLIC 1] 31 (sampled 15831 pathes) *****\n=====> fraction of previously seen rules within useful rules in this batch: 0.8584905660377359 num of new rule = 15 num of previously rule = 91 num of all batch rules = 106\n=====> stored rules: 278\n=====> batch [CYCLIC 2] 32 (sampled 17249 pathes) *****\n=====> fraction of previously seen rules within useful rules in this batch: 0.8571428571428571 num of new rule = 9 num of previously rule = 54 num of all batch rules = 63\n=====> stored rules: 236\n=====> batch [ACYCLIC 1] 33 (sampled 17308 pathes) *****\n=====> fraction of previously seen rules within useful rules in this batch: 0.8672566371681416 num of new rule = 15 num of previously rule = 98 num of all batch rules = 113\n=====> stored rules: 293\n=====> batch [CYCLIC 2] 34 (sampled 19461 pathes) *****\n=====> fraction of previously seen rules within useful rules in this batch: 0.8192771084337349 num of new rule = 15 num of previously rule = 68 num of all batch rules = 83\n=====> stored rules: 251\n=====> batch [ACYCLIC 1] 35 (sampled 19519 pathes) *****\n=====> fraction of previously seen rules within useful rules in this batch: 0.8584070796460177 num of new rule = 16 num of previously rule = 97 num of all batch rules = 113\n=====> stored rules: 309\n=====> batch [CYCLIC 2] 36 (sampled 21431 pathes) *****\n=====> fraction of previously seen rules within useful rules in this batch: 0.8414634146341463 num of new rule = 13 num of previously rule = 69 num of all batch rules = 82\n=====> stored rules: 264\n=====> batch [ACYCLIC 1] 37 (sampled 21490 pathes) *****\n=====> fraction of previously seen rules within useful rules in this batch: 0.8557692307692307 num of new rule = 15 num of previously rule = 89 num of all batch rules = 104\n=====> stored rules: 324\n=====> batch [CYCLIC 2] 38 (sampled 23033 pathes) *****\n=====> fraction of previously seen rules within useful rules in this batch: 0.8035714285714286 num of new rule = 11 num of previously rule = 45 num of all batch rules = 56\n=====> stored rules: 275\n=====> batch [ACYCLIC 1] 39 (sampled 23092 pathes) *****\n=====> fraction of previously seen rules within useful rules in this batch: 0.912621359223301 num of new rule = 9 num of previously rule = 94 num of all batch rules = 103\n=====> stored rules: 333\n=====> batch [CYCLIC 2] 40 (sampled 24152 pathes) *****\n=====> fraction of previously seen rules within useful rules in this batch: 0.8363636363636363 num of new rule = 9 num of previously rule = 46 num of all batch rules = 55\n=====> stored rules: 284\n=====> batch [ACYCLIC 1] 41 (sampled 24211 pathes) *****\n=====> fraction of previously seen rules within useful rules in this batch: 0.9339622641509434 num of new rule = 7 num of previously rule = 99 num of all batch rules = 106\n=====> stored rules: 340\n=====> batch [CYCLIC 2] 42 (sampled 25145 pathes) *****\n=====> fraction of previously seen rules within useful rules in this batch: 0.8181818181818182 num of new rule = 8 num of previously rule = 36 num of all batch rules = 44\n=====> stored rules: 292\n=====> batch [ACYCLIC 1] 43 (sampled 25204 pathes) *****\n=====> fraction of previously seen rules within useful rules in this batch: 0.8584070796460177 num of new rule = 16 num of previously rule = 97 num of all batch rules = 113\n=====> stored rules: 356\n=====> batch [CYCLIC 2] 44 (sampled 27549 pathes) *****\n=====> fraction of previously seen rules within useful rules in this batch: 0.8764044943820225 num of new rule = 11 num of previously rule = 78 num of all batch rules = 89\n=====> stored rules: 303\n=====> batch [ACYCLIC 1] 45 (sampled 27608 pathes) *****\n=====> fraction of previously seen rules within useful rules in this batch: 0.8181818181818182 num of new rule = 20 num of previously rule = 90 num of all batch rules = 110\n=====> stored rules: 376\n=====> batch [CYCLIC 2] 46 (sampled 29636 pathes) *****\n=====> fraction of previously seen rules within useful rules in this batch: 0.835820895522388 num of new rule = 11 num of previously rule = 56 num of all batch rules = 67\n=====> stored rules: 314\n=====> batch [ACYCLIC 1] 47 (sampled 29694 pathes) *****\n=====> fraction of previously seen rules within useful rules in this batch: 0.8620689655172413 num of new rule = 16 num of previously rule = 100 num of all batch rules = 116\n=====> stored rules: 392\n=====> batch [CYCLIC 2] 48 (sampled 31523 pathes) *****\n=====> fraction of previously seen rules within useful rules in this batch: 0.9344262295081968 num of new rule = 4 num of previously rule = 57 num of all batch rules = 61\n=====> stored rules: 318\n=====> batch [ACYCLIC 1] 49 (sampled 31579 pathes) *****\n=====> fraction of previously seen rules within useful rules in this batch: 0.8125 num of new rule = 18 num of previously rule = 78 num of all batch rules = 96\n=====> stored rules: 410\n=====> batch [CYCLIC 2] 50 (sampled 33213 pathes) *****\n=====> fraction of previously seen rules within useful rules in this batch: 0.921875 num of new rule = 5 num of previously rule = 59 num of all batch rules = 64\n=====> stored rules: 323\ncreated snapshot 1 after 101 seconds\n*************************done learning*********************************\n"
    },
    {
     "output_type": "execute_result",
     "data": {
      "text/plain": "0"
     },
     "metadata": {},
     "execution_count": 2
    }
   ],
   "source": [
    "from learning import Learning\n",
    "\n",
    "learner = Learning('WN18')\n",
    "learner.train_with_batch(triple_set)"
   ]
  },
  {
   "cell_type": "code",
   "execution_count": null,
   "metadata": {},
   "outputs": [],
   "source": [
    "from predict import Predict\n",
    "\n",
    "predictior = Predict('WN18')\n",
    "predictior.prediction()"
   ]
  },
  {
   "cell_type": "code",
   "execution_count": null,
   "metadata": {},
   "outputs": [],
   "source": [
    "from learning import Learning\n",
    "\n",
    "learner = Learning('WN18')\n",
    "learner.train()"
   ]
  },
  {
   "cell_type": "code",
   "execution_count": 3,
   "metadata": {
    "tags": []
   },
   "outputs": [
    {
     "output_type": "stream",
     "name": "stdout",
     "text": "step 0 parsing line 500\t2\t0.004\t_hyponym(01557774,Y) <= _derivationally_related_form(Y,A)\nstep 1000 parsing line 5\t3\t0.6\t_derivationally_related_form(X,00545501) <= _derivationally_related_form(X,10599806)\nstep 2000 parsing line 2\t2\t1.0\t_member_meronym(12485122,Y) <= _member_holonym(Y,12485122)\nstep 3000 parsing line 3\t3\t1.0\t_derivationally_related_form(09943811,Y) <= _derivationally_related_form(Y,09943811)\nstep 4000 parsing line 500\t6\t0.012\t_instance_hyponym(09254614,Y) <= _has_part(Y,A)\nstep 5000 parsing line 4\t2\t0.5\t_hypernym(X,01656813) <= _member_holonym(X,01705247)\nstep 6000 parsing line 6\t4\t0.6666666666666666\t_derivationally_related_form(X,00590626) <= _derivationally_related_form(X,00751887)\nstep 7000 parsing line 500\t2\t0.004\t_hypernym(X,00033020) <= _hypernym(A,X)\nstep 8000 parsing line 7\t2\t0.2857142857142857\t_derivationally_related_form(01353226,Y) <= _derivationally_related_form(13894434,Y)\nstep 9000 parsing line 4\t4\t1.0\t_derivationally_related_form(05658226,Y) <= _derivationally_related_form(Y,00882702)\nstep 10000 parsing line 2\t2\t1.0\t_hyponym(11579418,Y) <= _member_meronym(12811856,Y)\nstep 11000 parsing line 500\t2\t0.004\t_hyponym(00407535,Y) <= _member_of_domain_topic(A,Y)\nstep 12000 parsing line 28\t3\t0.10714285714285714\t_synset_domain_topic_of(X,06037666) <= _hyponym(13526110,X)\nstep 13000 parsing line 276\t4\t0.014492753623188406\t_hyponym(01181475,Y) <= _synset_domain_topic_of(Y,08441203)\nstep 14000 parsing line 500\t2\t0.004\t_hypernym(X,11565040) <= _member_meronym(X,A)\nstep 15000 parsing line 5\t5\t1.0\t_derivationally_related_form(X,02448185) <= _derivationally_related_form(02448185,X)\nstep 16000 parsing line 2\t2\t1.0\t_derivationally_related_form(00759551,Y) <= _derivationally_related_form(13971561,Y)\nstep 17000 parsing line 2\t2\t1.0\t_derivationally_related_form(07578093,Y) <= _derivationally_related_form(Y,07578093)\nstep 18000 parsing line 7\t7\t1.0\t_hyponym(06377442,Y) <= _hypernym(Y,06377442)\nstep 19000 parsing line 11\t2\t0.18181818181818182\t_part_of(09453887,Y) <= _member_holonym(Y,09050244)\nstep 20000 parsing line 5\t3\t0.6\t_hyponym(02034661,Y) <= _member_holonym(Y,02034394)\nstep 21000 parsing line 500\t2\t0.004\t_has_part(X,08926681) <= _has_part(X,A)\nstep 22000 parsing line 2\t2\t1.0\t_derivationally_related_form(X,04864515) <= _derivationally_related_form(04864515,X)\nstep 23000 parsing line 3\t3\t1.0\t_hypernym(X,01802494) <= _hyponym(01802494,X)\nstep 24000 parsing line 41\t2\t0.04878048780487805\t_has_part(01308438,Y) <= _instance_hyponym(00956485,Y)\nstep 25000 parsing line 500\t2\t0.004\t_derivationally_related_form(00941990,Y) <= _has_part(Y,A)\nstep 26000 parsing line 31\t2\t0.06451612903225806\t_member_holonym(02402175,Y) <= _member_holonym(Y,02400139)\nstep 27000 parsing line 500\t2\t0.004\t_hyponym(11868814,Y) <= _member_holonym(Y,A)\nstep 28000 parsing line 4\t2\t0.5\t_also_see(01934554,Y) <= _also_see(02461723,Y)\nstep 29000 parsing line 209\t5\t0.023923444976076555\t_member_holonym(X,02660769) <= _hyponym(01432517,X)\nstep 30000 parsing line 14\t2\t0.14285714285714285\t_hyponym(X,07921615) <= _hyponym(07881800,X)\nstep 31000 parsing line 6\t6\t1.0\t_derivationally_related_form(07410207,Y) <= _derivationally_related_form(Y,07410207)\nstep 32000 parsing line 4\t2\t0.5\t_derivationally_related_form(X,10716389) <= _derivationally_related_form(10716005,X)\nstep 33000 parsing line 3\t3\t1.0\t_hyponym(01195867,Y) <= _hypernym(Y,01195867)\nstep 34000 parsing line 2\t2\t1.0\t_derivationally_related_form(X,06637350) <= _derivationally_related_form(06637350,X)\nstep 35000 parsing line 2\t2\t1.0\t_hyponym(X,07274425) <= _hypernym(07274890,X)\nstep 36000 parsing line 2\t2\t1.0\t_derivationally_related_form(01378556,Y) <= _derivationally_related_form(01380122,Y)\nstep 37000 parsing line 57\t2\t0.03508771929824561\t_has_part(05311054,Y) <= _hypernym(Y,05225602)\nstep 38000 parsing line 5\t5\t1.0\t_hypernym(X,00006484) <= _hyponym(00006484,X)\nstep 39000 parsing line 5\t2\t0.4\t_derivationally_related_form(X,02764765) <= _derivationally_related_form(02159890,X)\nstep 40000 parsing line 8\t7\t0.875\t_derivationally_related_form(X,00963283) <= _derivationally_related_form(00963283,X)\nstep 41000 parsing line 18\t3\t0.16666666666666666\t_part_of(X,09071690) <= _instance_hypernym(X,08638442)\nstep 42000 parsing line 3\t3\t1.0\t_hyponym(01849221,Y) <= _hypernym(Y,01849221)\nstep 43000 parsing line 3\t2\t0.6666666666666666\t_derivationally_related_form(X,07400906) <= _derivationally_related_form(X,07401726)\nstep 44000 parsing line 6\t2\t0.3333333333333333\t_hypernym(13266170,Y) <= _hypernym(Y,13265011)\nstep 45000 parsing line 404\t2\t0.0049504950495049506\t_instance_hypernym(11205647,Y) <= _instance_hypernym(A,Y)\nstep 46000 parsing line 3\t2\t0.6666666666666666\t_derivationally_related_form(X,00047945) <= _derivationally_related_form(00046534,X)\nstep 47000 parsing line 47\t3\t0.06382978723404255\t_member_of_domain_topic(X,Y) <= _hyponym(A,Y), _hyponym(B,A), _member_of_domain_topic(X,B)\nstep 48000 parsing line 279\t3\t0.010752688172043012\t_instance_hyponym(X,Y) <= _part_of(Y,A), _has_part(B,A), _instance_hypernym(B,X)\n"
    },
    {
     "output_type": "error",
     "ename": "NameError",
     "evalue": "name 'path_rules_used' is not defined",
     "traceback": [
      "\u001b[0;31m---------------------------------------------------------------------------\u001b[0m",
      "\u001b[0;31mNameError\u001b[0m                                 Traceback (most recent call last)",
      "\u001b[0;32m<ipython-input-3-638c0ca1d978>\u001b[0m in \u001b[0;36m<module>\u001b[0;34m\u001b[0m\n\u001b[1;32m      2\u001b[0m \u001b[0mrules\u001b[0m \u001b[0;34m=\u001b[0m \u001b[0mRuleReader\u001b[0m\u001b[0;34m(\u001b[0m\u001b[0;34m'learning_rules/WN18/rule_final.txt'\u001b[0m\u001b[0;34m)\u001b[0m\u001b[0;34m.\u001b[0m\u001b[0mread\u001b[0m\u001b[0;34m(\u001b[0m\u001b[0;34m)\u001b[0m\u001b[0;34m\u001b[0m\u001b[0;34m\u001b[0m\u001b[0m\n\u001b[1;32m      3\u001b[0m \u001b[0mrules_size\u001b[0m \u001b[0;34m=\u001b[0m \u001b[0mlen\u001b[0m\u001b[0;34m(\u001b[0m\u001b[0mrules\u001b[0m\u001b[0;34m)\u001b[0m\u001b[0;34m\u001b[0m\u001b[0;34m\u001b[0m\u001b[0m\n\u001b[0;32m----> 4\u001b[0;31m \u001b[0mprint\u001b[0m\u001b[0;34m(\u001b[0m\u001b[0;34m'*** read rules {} rom file {}'\u001b[0m\u001b[0;34m.\u001b[0m\u001b[0mformat\u001b[0m\u001b[0;34m(\u001b[0m\u001b[0mrules_size\u001b[0m\u001b[0;34m,\u001b[0m \u001b[0mpath_rules_used\u001b[0m\u001b[0;34m)\u001b[0m\u001b[0;34m)\u001b[0m\u001b[0;34m\u001b[0m\u001b[0;34m\u001b[0m\u001b[0m\n\u001b[0m",
      "\u001b[0;31mNameError\u001b[0m: name 'path_rules_used' is not defined"
     ]
    }
   ],
   "source": [
    "from rule_io.rule_reader import RuleReader\n",
    "rules = RuleReader('learning_rules/WN18/rule_final.txt').read()\n",
    "rules_size = len(rules)\n",
    "print('*** read rules {} rom file {}'.format(rules_size, 'rule_extend_800.txt'))"
   ]
  },
  {
   "cell_type": "code",
   "execution_count": 7,
   "metadata": {},
   "outputs": [
    {
     "output_type": "execute_result",
     "data": {
      "text/plain": "48946"
     },
     "metadata": {},
     "execution_count": 7
    }
   ],
   "source": [
    "len(rules)\n"
   ]
  },
  {
   "cell_type": "code",
   "execution_count": 5,
   "metadata": {
    "tags": []
   },
   "outputs": [
    {
     "output_type": "stream",
     "name": "stdout",
     "text": "step 0 parsing line 145\t18\t0.12413793103448276\t_instance_hypernym(X,08691669) <= _instance_hypernym(X,08633957)\n"
    },
    {
     "output_type": "execute_result",
     "data": {
      "text/plain": "733"
     },
     "metadata": {},
     "execution_count": 5
    }
   ],
   "source": [
    "rules_ex = RuleReader('learning_rules/WN18/rule_extend_800.txt').read()\n",
    "len(rules_ex)"
   ]
  },
  {
   "cell_type": "code",
   "execution_count": 6,
   "metadata": {},
   "outputs": [],
   "source": [
    "rules.extend(rules_ex)"
   ]
  },
  {
   "cell_type": "code",
   "execution_count": 1,
   "metadata": {
    "tags": []
   },
   "outputs": [
    {
     "output_type": "stream",
     "name": "stdout",
     "text": "* indexed 100000 triples\n* set up index for 18 relations, 40504 head entities, and 40551 tail entities\n* set up index for 18 relations, 4349 head entities, and 4263 tail entities\n* set up index for 18 relations, 4262 head entities, and 4338 tail entities\nstep 0 parsing line 3\t2\t0.6666666666666666\t_member_holonym(X,02601589) <= _hypernym(X,02601344)\nstep 1000 parsing line 3\t2\t0.6666666666666666\t_instance_hyponym(10624540,Y) <= _member_meronym(08369920,Y)\nstep 2000 parsing line 500\t20\t0.04\t_hypernym(X,01429349) <= _member_holonym(A,X)\nstep 3000 parsing line 47916\t13\t0.00027130812254779195\t_part_of(X,Y) <= _synset_domain_topic_of(X,A),_member_of_domain_topic(A,Y)\nstep 4000 parsing line 297\t5\t0.016835016835016835\t_instance_hypernym(X,Y) <= _has_part(A,X),_part_of(A,B),_instance_hyponym(Y,B)\nstep 0 parsing line 500\t2\t0.004\t_hyponym(01557774,Y) <= _derivationally_related_form(Y,A)\nstep 1000 parsing line 5\t3\t0.6\t_derivationally_related_form(X,00545501) <= _derivationally_related_form(X,10599806)\nstep 2000 parsing line 2\t2\t1.0\t_member_meronym(12485122,Y) <= _member_holonym(Y,12485122)\nstep 3000 parsing line 3\t3\t1.0\t_derivationally_related_form(09943811,Y) <= _derivationally_related_form(Y,09943811)\nstep 4000 parsing line 500\t6\t0.012\t_instance_hyponym(09254614,Y) <= _has_part(Y,A)\nstep 5000 parsing line 4\t2\t0.5\t_hypernym(X,01656813) <= _member_holonym(X,01705247)\nstep 6000 parsing line 6\t4\t0.6666666666666666\t_derivationally_related_form(X,00590626) <= _derivationally_related_form(X,00751887)\nstep 7000 parsing line 500\t2\t0.004\t_hypernym(X,00033020) <= _hypernym(A,X)\nstep 8000 parsing line 7\t2\t0.2857142857142857\t_derivationally_related_form(01353226,Y) <= _derivationally_related_form(13894434,Y)\nstep 9000 parsing line 4\t4\t1.0\t_derivationally_related_form(05658226,Y) <= _derivationally_related_form(Y,00882702)\nstep 10000 parsing line 2\t2\t1.0\t_hyponym(11579418,Y) <= _member_meronym(12811856,Y)\nstep 11000 parsing line 500\t2\t0.004\t_hyponym(00407535,Y) <= _member_of_domain_topic(A,Y)\nstep 12000 parsing line 28\t3\t0.10714285714285714\t_synset_domain_topic_of(X,06037666) <= _hyponym(13526110,X)\nstep 13000 parsing line 276\t4\t0.014492753623188406\t_hyponym(01181475,Y) <= _synset_domain_topic_of(Y,08441203)\nstep 14000 parsing line 500\t2\t0.004\t_hypernym(X,11565040) <= _member_meronym(X,A)\nstep 15000 parsing line 5\t5\t1.0\t_derivationally_related_form(X,02448185) <= _derivationally_related_form(02448185,X)\nstep 16000 parsing line 2\t2\t1.0\t_derivationally_related_form(00759551,Y) <= _derivationally_related_form(13971561,Y)\nstep 17000 parsing line 2\t2\t1.0\t_derivationally_related_form(07578093,Y) <= _derivationally_related_form(Y,07578093)\nstep 18000 parsing line 7\t7\t1.0\t_hyponym(06377442,Y) <= _hypernym(Y,06377442)\nstep 19000 parsing line 11\t2\t0.18181818181818182\t_part_of(09453887,Y) <= _member_holonym(Y,09050244)\nstep 20000 parsing line 5\t3\t0.6\t_hyponym(02034661,Y) <= _member_holonym(Y,02034394)\nstep 21000 parsing line 500\t2\t0.004\t_has_part(X,08926681) <= _has_part(X,A)\nstep 22000 parsing line 2\t2\t1.0\t_derivationally_related_form(X,04864515) <= _derivationally_related_form(04864515,X)\nstep 23000 parsing line 3\t3\t1.0\t_hypernym(X,01802494) <= _hyponym(01802494,X)\nstep 24000 parsing line 41\t2\t0.04878048780487805\t_has_part(01308438,Y) <= _instance_hyponym(00956485,Y)\nstep 25000 parsing line 500\t2\t0.004\t_derivationally_related_form(00941990,Y) <= _has_part(Y,A)\nstep 26000 parsing line 31\t2\t0.06451612903225806\t_member_holonym(02402175,Y) <= _member_holonym(Y,02400139)\nstep 27000 parsing line 500\t2\t0.004\t_hyponym(11868814,Y) <= _member_holonym(Y,A)\nstep 28000 parsing line 4\t2\t0.5\t_also_see(01934554,Y) <= _also_see(02461723,Y)\nstep 29000 parsing line 209\t5\t0.023923444976076555\t_member_holonym(X,02660769) <= _hyponym(01432517,X)\nstep 30000 parsing line 14\t2\t0.14285714285714285\t_hyponym(X,07921615) <= _hyponym(07881800,X)\nstep 31000 parsing line 6\t6\t1.0\t_derivationally_related_form(07410207,Y) <= _derivationally_related_form(Y,07410207)\nstep 32000 parsing line 4\t2\t0.5\t_derivationally_related_form(X,10716389) <= _derivationally_related_form(10716005,X)\nstep 33000 parsing line 3\t3\t1.0\t_hyponym(01195867,Y) <= _hypernym(Y,01195867)\nstep 34000 parsing line 2\t2\t1.0\t_derivationally_related_form(X,06637350) <= _derivationally_related_form(06637350,X)\nstep 35000 parsing line 2\t2\t1.0\t_hyponym(X,07274425) <= _hypernym(07274890,X)\nstep 36000 parsing line 2\t2\t1.0\t_derivationally_related_form(01378556,Y) <= _derivationally_related_form(01380122,Y)\nstep 37000 parsing line 57\t2\t0.03508771929824561\t_has_part(05311054,Y) <= _hypernym(Y,05225602)\nstep 38000 parsing line 5\t5\t1.0\t_hypernym(X,00006484) <= _hyponym(00006484,X)\nstep 39000 parsing line 5\t2\t0.4\t_derivationally_related_form(X,02764765) <= _derivationally_related_form(02159890,X)\nstep 40000 parsing line 8\t7\t0.875\t_derivationally_related_form(X,00963283) <= _derivationally_related_form(00963283,X)\nstep 41000 parsing line 18\t3\t0.16666666666666666\t_part_of(X,09071690) <= _instance_hypernym(X,08638442)\nstep 42000 parsing line 3\t3\t1.0\t_hyponym(01849221,Y) <= _hypernym(Y,01849221)\nstep 43000 parsing line 3\t2\t0.6666666666666666\t_derivationally_related_form(X,07400906) <= _derivationally_related_form(X,07401726)\nstep 44000 parsing line 6\t2\t0.3333333333333333\t_hypernym(13266170,Y) <= _hypernym(Y,13265011)\nstep 45000 parsing line 404\t2\t0.0049504950495049506\t_instance_hypernym(11205647,Y) <= _instance_hypernym(A,Y)\nstep 46000 parsing line 3\t2\t0.6666666666666666\t_derivationally_related_form(X,00047945) <= _derivationally_related_form(00046534,X)\nstep 47000 parsing line 47\t3\t0.06382978723404255\t_member_of_domain_topic(X,Y) <= _hyponym(A,Y), _hyponym(B,A), _member_of_domain_topic(X,B)\nstep 48000 parsing line 279\t3\t0.010752688172043012\t_instance_hyponym(X,Y) <= _part_of(Y,A), _has_part(B,A), _instance_hypernym(B,X)\n*** read rules 52265 rom file learning_rules/WN18/rule_1000.txt\n* applying rules\n* set up index structure covering rules for 18 different relations\n* constructed filter set with 151442 triples\n* (# 0 ) trying to guess the tail/head of 06845599 _member_of_domain_usage 03754979\nElapsed (s) = 0\n* (# 100 ) trying to guess the tail/head of 00802946 _derivationally_related_form 01141841\nElapsed (s) = 16\n* (# 200 ) trying to guess the tail/head of 00940384 _hyponym 00903212\nElapsed (s) = 17\n* (# 300 ) trying to guess the tail/head of 01589125 _member_meronym 01589286\nElapsed (s) = 18\n* (# 400 ) trying to guess the tail/head of 11534677 _hyponym 13140535\nElapsed (s) = 17\n* (# 500 ) trying to guess the tail/head of 00670261 _hyponym 00726300\nElapsed (s) = 14\n* (# 600 ) trying to guess the tail/head of 11886380 _member_holonym 11867525\nElapsed (s) = 15\n* (# 700 ) trying to guess the tail/head of 05296253 _part_of 05461816\nElapsed (s) = 18\n* (# 800 ) trying to guess the tail/head of 13576355 _hyponym 13777344\nElapsed (s) = 16\n* (# 900 ) trying to guess the tail/head of 01711297 _member_holonym 01710348\nElapsed (s) = 16\n* (# 1000 ) trying to guess the tail/head of 10771270 _derivationally_related_form 01041415\nElapsed (s) = 15\n* (# 1100 ) trying to guess the tail/head of 00043765 _derivationally_related_form 02603699\nElapsed (s) = 16\n* (# 1200 ) trying to guess the tail/head of 05009170 _hyponym 05019661\nElapsed (s) = 15\n* (# 1300 ) trying to guess the tail/head of 01507175 _hyponym 01530256\nElapsed (s) = 17\n* (# 1400 ) trying to guess the tail/head of 08510666 _hyponym 08629508\nElapsed (s) = 15\n* (# 1500 ) trying to guess the tail/head of 08945821 _instance_hypernym 08698379\nElapsed (s) = 15\n* (# 1600 ) trying to guess the tail/head of 01225562 _derivationally_related_form 00011551\nElapsed (s) = 18\n* (# 1700 ) trying to guess the tail/head of 01105639 _hyponym 01106670\nElapsed (s) = 14\n* (# 1800 ) trying to guess the tail/head of 15068436 _hypernym 14818238\nElapsed (s) = 18\n* (# 1900 ) trying to guess the tail/head of 07781319 _part_of 02624551\nElapsed (s) = 16\n* (# 2000 ) trying to guess the tail/head of 01504437 _hyponym 01550429\nElapsed (s) = 15\n* (# 2100 ) trying to guess the tail/head of 01941670 _member_meronym 01952162\nElapsed (s) = 18\n* (# 2200 ) trying to guess the tail/head of 00044353 _derivationally_related_form 05792010\nElapsed (s) = 15\n* (# 2300 ) trying to guess the tail/head of 00021939 _hyponym 03573282\nElapsed (s) = 17\n* (# 2400 ) trying to guess the tail/head of 06136258 _member_of_domain_topic 00729642\nElapsed (s) = 17\n* (# 2500 ) trying to guess the tail/head of 01447868 _also_see 01675780\nElapsed (s) = 17\n* (# 2600 ) trying to guess the tail/head of 01407904 _synset_domain_topic_of 00464894\nElapsed (s) = 17\n* (# 2700 ) trying to guess the tail/head of 02446352 _hypernym 02445715\nElapsed (s) = 16\n* (# 2800 ) trying to guess the tail/head of 06149484 _member_of_domain_topic 14444326\nElapsed (s) = 17\n* (# 2900 ) trying to guess the tail/head of 02104882 _hypernym 02104523\nElapsed (s) = 14\n* (# 3000 ) trying to guess the tail/head of 10745332 _hypernym 09863238\nElapsed (s) = 16\n* (# 3100 ) trying to guess the tail/head of 15006258 _hyponym 14872875\nElapsed (s) = 18\n* (# 3200 ) trying to guess the tail/head of 11860801 _hypernym 11573660\nElapsed (s) = 15\n* (# 3300 ) trying to guess the tail/head of 08889191 _instance_hypernym 08691669\nElapsed (s) = 14\n* (# 3400 ) trying to guess the tail/head of 03804744 _derivationally_related_form 01357831\nElapsed (s) = 17\n* (# 3500 ) trying to guess the tail/head of 01507175 _hyponym 02009015\nElapsed (s) = 15\n* (# 3600 ) trying to guess the tail/head of 01021420 _hyponym 00763399\nElapsed (s) = 14\n* (# 3700 ) trying to guess the tail/head of 11567411 _hyponym 12395717\nElapsed (s) = 16\n* (# 3800 ) trying to guess the tail/head of 01081001 _hypernym 01079480\nElapsed (s) = 18\n* (# 3900 ) trying to guess the tail/head of 15298011 _synset_domain_topic_of 06128570\nElapsed (s) = 18\n* (# 4000 ) trying to guess the tail/head of 12701901 _hypernym 11585340\nElapsed (s) = 17\n* (# 4100 ) trying to guess the tail/head of 08199025 _member_of_domain_topic 06804847\nElapsed (s) = 16\n* (# 4200 ) trying to guess the tail/head of 10325243 _derivationally_related_form 00475819\nElapsed (s) = 16\n* (# 4300 ) trying to guess the tail/head of 08359949 _hypernym 08189659\nElapsed (s) = 16\n* (# 4400 ) trying to guess the tail/head of 00431117 _derivationally_related_form 00357906\nElapsed (s) = 17\n* (# 4500 ) trying to guess the tail/head of 02483564 _derivationally_related_form 13737480\nElapsed (s) = 17\n* (# 4600 ) trying to guess the tail/head of 00289175 _hypernym 00288970\nElapsed (s) = 15\n* (# 4700 ) trying to guess the tail/head of 08227214 _hypernym 08049401\nElapsed (s) = 15\n* (# 4800 ) trying to guess the tail/head of 02116777 _verb_group 02116568\nElapsed (s) = 14\n* (# 4900 ) trying to guess the tail/head of 06808720 _hyponym 06811625\nElapsed (s) = 16\n* done with rule application\n* evaluated 52265 rules to propose candiates for 5000 *2 completion tasks\n* finished in 1183942 ms.\n"
    }
   ],
   "source": [
    "from predict import Predict\n",
    "\n",
    "predictior = Predict('WN18')\n",
    "predictior.prediction(True)"
   ]
  },
  {
   "cell_type": "code",
   "execution_count": null,
   "metadata": {},
   "outputs": [],
   "source": []
  }
 ]
}