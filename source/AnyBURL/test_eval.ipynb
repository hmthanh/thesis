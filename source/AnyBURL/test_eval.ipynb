{
 "metadata": {
  "language_info": {
   "codemirror_mode": {
    "name": "ipython",
    "version": 3
   },
   "file_extension": ".py",
   "mimetype": "text/x-python",
   "name": "python",
   "nbconvert_exporter": "python",
   "pygments_lexer": "ipython3",
   "version": "3.7.3-final"
  },
  "orig_nbformat": 2,
  "kernelspec": {
   "name": "python3",
   "display_name": "Python 3"
  }
 },
 "nbformat": 4,
 "nbformat_minor": 2,
 "cells": [
  {
   "cell_type": "code",
   "execution_count": 1,
   "metadata": {
    "tags": []
   },
   "outputs": [
    {
     "output_type": "stream",
     "name": "stdout",
     "text": "* indexed 100000 triples\n* set up index for 18 relations, 40504 head entities, and 40551 tail entities\n* set up index for 18 relations, 4262 head entities, and 4338 tail entities\n* set up index for 18 relations, 4349 head entities, and 4263 tail entities\n"
    }
   ],
   "source": [
    "from evaluation import Evaluation\n",
    "eval = Evaluation()"
   ]
  },
  {
   "cell_type": "code",
   "execution_count": 2,
   "metadata": {
    "tags": []
   },
   "outputs": [
    {
     "output_type": "stream",
     "name": "stdout",
     "text": "hits@1   hits@3    hits@10\n0.9463\t0.9535\t0.9592\n"
    }
   ],
   "source": [
    "eval.eval()"
   ]
  },
  {
   "cell_type": "code",
   "execution_count": 3,
   "metadata": {
    "tags": []
   },
   "outputs": [
    {
     "output_type": "execute_result",
     "data": {
      "text/plain": "\"triple:14786479 _hypernym 00021939\\n['03740161', '04723816', '07570720', '07992450', '08077292', '09632518', '11665372', '12205694', '14187378', '10276045']['12205694']\""
     },
     "metadata": {},
     "execution_count": 3
    }
   ],
   "source": [
    "eval.result_set.results['14786479 _hypernym 00021939'].__str__()"
   ]
  },
  {
   "cell_type": "code",
   "execution_count": 10,
   "metadata": {},
   "outputs": [],
   "source": [
    "from eval.completion_result import CompletionResult"
   ]
  },
  {
   "cell_type": "code",
   "execution_count": 16,
   "metadata": {},
   "outputs": [],
   "source": [
    "def get_results_from_line(rline):\n",
    "    token = rline.split('\\t')\n",
    "    tokenx = []\n",
    "    for i in range(0, len(token)//2):\n",
    "        tokenx.append(token[i * 2])\n",
    "    return tokenx"
   ]
  },
  {
   "cell_type": "code",
   "execution_count": 19,
   "metadata": {
    "tags": []
   },
   "outputs": [
    {
     "output_type": "stream",
     "name": "stdout",
     "text": "['02926044', '02754421', '02674482', '02711890', '02678528', '02696384', '02765247', '03753826', '02830596', '03869389']\n['02926044', '02754421', '02674482', '02711890', '02678528', '02696384', '02765247', '03753826', '02830596', '03869389']\n06845599 _member_of_domain_usage 03754979\n['01062739', '00790135', '00790308', '00790509', '01004775', '06128307', '15285279', '00364868', '00402130', '01719921']\n['01062739', '00790135', '00790308', '00790509', '01004775', '06128307', '15285279', '00364868', '00402130', '01719921']\n00789448 _verb_group 01062739\n['00620752', '00621476', '00621627', '00795720', '00798245', '04836683', '10035809', '10154601', '10684630', '10700105']\n['00620752', '00621476', '00621627', '00795720', '00798245', '04836683', '10035809', '10154601', '10684630', '10700105']\n10217831 _hyponym 10682169\n['08871007', '08887841', '08890097', '08894456', '00710338', '06930934', '08020242', '08096624', '08626947', '10286282']\n['08871007', '08887841', '08890097', '08894456', '00710338', '06930934', '08020242', '08096624', '08626947', '10286282']\n08860123 _member_of_domain_region 05688486\n['08765890', '08820121', '08831004', '08849753', '08888676', '08959683', '08960987', '09044190', '09044862', '09161803']\n['08765890', '08820121', '08831004', '08849753', '08888676', '08959683', '08960987', '09044190', '09044862', '09161803']\n02233096 _member_meronym 02233338\n['00466651', '05240850', '05277728', '05309050', '05332225', '05338166', '05399627', '05428136', '05504107', '05537576']\n['00466651', '05240850', '05277728', '05309050', '05332225', '05338166', '05399627', '05428136', '05504107', '05537576']\n01459242 _part_of 01461646\n['01355326', '01352059', '01352574', '01353411', '01356086', '01357707', '01357967', '01360330', '01374989', '01377906']\n['01355326', '01352059', '01352574', '01353411', '01356086', '01357707', '01357967', '01360330', '01374989', '01377906']\n01371092 _hypernym 01352059\n['03928116', '04039381', '04373894', '05216365', '05219724', '08858248', '09067277', '09068444', '09117351', '02916684']\n['03928116', '04039381', '04373894', '05216365', '05219724', '08858248', '09067277', '09068444', '09117351', '02916684']\n03902220 _part_of 03918480\n['01342529', '01759182', '01762525', '01908415', '01938850', '01767199', '01906328', '01908287', '01908703']\n['01342529', '01759182', '01762525', '01908415', '01938850', '01767199', '01906328', '01908287', '01908703']\n02314321 _hypernym 08102555\n['05075602', '06389553', '08664443', '01051331', '04110439', '00586262', '00027167', '00155487', '00349080', '03398467']\n['05075602', '06389553', '08664443', '01051331', '04110439', '00586262', '00027167', '00155487', '00349080', '03398467']\n08621598 _hypernym 08620061\n"
    }
   ],
   "source": [
    " reader = open('output/predict')\n",
    " triple_line = reader.readline().strip('\\n')\n",
    " i = 0\n",
    " while triple_line != None and len(triple_line) > 0:\n",
    "      if i == 10:\n",
    "        break\n",
    "      if len(triple_line) < 3:\n",
    "        continue\n",
    "      completion_result = CompletionResult(triple_line)\n",
    "      head_line = reader.readline().strip('\\n')\n",
    "      tail_line = reader.readline().strip('\\n')\n",
    "    #   print(head_line)\n",
    "    #   print(tail_line)\n",
    "      if head_line.find('Tails:') != -1:\n",
    "        head_line, tail_line = tail_line, head_line\n",
    "    #   print(head_line)\n",
    "    #   print(tail_line)\n",
    "      print(get_results_from_line(head_line[7:]))\n",
    "      print(get_results_from_line(head_line[7:]))\n",
    "    #   if not ResultSet.apply_threshold:\n",
    "    #     completion_result.add_head_results(self.__get_results_from_line(head_line[:7]), self.k)\n",
    "    #     completion_result.add_tail_results(self.__get_results_from_line(head_line[:7]), self.k)\n",
    "    #   else:\n",
    "    #     completion_result.add_head_results(self.__get_thresholded_results_from_line(head_line[:7]), self.k)\n",
    "    #     completion_result.add_tail_results(self.__get_thresholded_results_from_line(head_line[:7]), self.k)\n",
    "\n",
    "      print(triple_line)\n",
    "\n",
    "      triple_line = reader.readline().strip('\\n')\n",
    "      i += 1"
   ]
  },
  {
   "cell_type": "code",
   "execution_count": 1,
   "metadata": {},
   "outputs": [],
   "source": [
    "from config.config_yaml import Config\n",
    "from data.triple_set import TripleSet\n",
    "from eval.result_set import ResultSet\n",
    "from eval.hits_atk import HitsAtK"
   ]
  },
  {
   "cell_type": "code",
   "execution_count": 2,
   "metadata": {
    "tags": []
   },
   "outputs": [
    {
     "output_type": "stream",
     "name": "stdout",
     "text": "* indexed 100000 triples\n* set up index for 18 relations, 40504 head entities, and 40551 tail entities\n* set up index for 18 relations, 4262 head entities, and 4338 tail entities\n* set up index for 18 relations, 4349 head entities, and 4263 tail entities\n"
    }
   ],
   "source": [
    "cfg = Config()\n",
    "config = cfg.load_eval_config()\n",
    "training_set, validation_set, test_set = TripleSet(), TripleSet(), TripleSet()\n",
    "training_set.read_triples(config['path_training'])\n",
    "validation_set.read_triples(config['path_valid'])\n",
    "test_set.read_triples(config['path_test'])\n",
    "result_set = ResultSet(config['path_prediction'], config['path_prediction'], True, 10)"
   ]
  },
  {
   "cell_type": "code",
   "execution_count": 3,
   "metadata": {},
   "outputs": [],
   "source": [
    "hitsAtK = HitsAtK()\n",
    "hitsAtK.filter_sets.append(training_set)\n",
    "hitsAtK.filter_sets.append(validation_set)\n",
    "hitsAtK.filter_sets.append(test_set)"
   ]
  },
  {
   "cell_type": "code",
   "execution_count": 4,
   "metadata": {},
   "outputs": [
    {
     "output_type": "execute_result",
     "data": {
      "text/plain": "1"
     },
     "metadata": {},
     "execution_count": 4
    }
   ],
   "source": [
    "from data.triple import Triple\n",
    "triple = Triple('02140033', '_derivationally_related_form', '00522145')\n",
    "cand1 = result_set.get_head_candidates(str(triple))\n",
    "hitsAtK.evaluate_head(cand1, triple)\n",
    "cand2 = result_set.get_tail_candidates(str(triple))\n",
    "hitsAtK.evaluate_tail(cand2, triple)"
   ]
  },
  {
   "cell_type": "code",
   "execution_count": 19,
   "metadata": {},
   "outputs": [
    {
     "output_type": "execute_result",
     "data": {
      "text/plain": "['02140033',\n '02148788',\n '02137710',\n '01688771',\n '01711445',\n '02137132',\n '02141146',\n '02141973',\n '02142775',\n '02142626']"
     },
     "metadata": {},
     "execution_count": 19
    }
   ],
   "source": [
    "result_set.get_head_candidates(str(triple))"
   ]
  },
  {
   "cell_type": "code",
   "execution_count": 15,
   "metadata": {
    "tags": []
   },
   "outputs": [
    {
     "output_type": "stream",
     "name": "stdout",
     "text": "02140033 _derivationally_related_form 00522145\n05461179 _has_part 05254795\n00788766 _derivationally_related_form 02531199\n07184735 _derivationally_related_form 00774056\n01508368 _hyponym 01512465\n12834408 _member_meronym 12836663\n04692908 _hypernym 04692157\n02760658 _derivationally_related_form 00181476\n04017137 _hyponym 03479647\n01342529 _hyponym 01912272\n"
    }
   ],
   "source": [
    "import random\n",
    "for t in random.sample(test_set.triples, 10):\n",
    "    print(t)\n"
   ]
  },
  {
   "cell_type": "code",
   "execution_count": 8,
   "metadata": {},
   "outputs": [
    {
     "output_type": "execute_result",
     "data": {
      "text/plain": "5000"
     },
     "metadata": {},
     "execution_count": 8
    }
   ],
   "source": [
    "hitsAtK.counter_head"
   ]
  },
  {
   "cell_type": "code",
   "execution_count": 5,
   "metadata": {},
   "outputs": [
    {
     "output_type": "execute_result",
     "data": {
      "text/plain": "\"triple:06845599 _member_of_domain_usage 03754979\\n['06845599', '06295235', '07157273', '06851742', '06717170', '08860123', '06718862', '07073447', '06284225', '07075172']['03754979', '03808144', '15009843', '02722997', '03869389', '03910033', '02830852', '03550533', '03828465', '03124700']\""
     },
     "metadata": {},
     "execution_count": 5
    }
   ],
   "source": [
    "result_set.results['06845599 _member_of_domain_usage 03754979'].__str__()"
   ]
  },
  {
   "cell_type": "code",
   "execution_count": null,
   "metadata": {},
   "outputs": [],
   "source": []
  }
 ]
}