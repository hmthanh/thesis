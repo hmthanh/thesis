{
 "metadata": {
  "language_info": {
   "codemirror_mode": {
    "name": "ipython",
    "version": 3
   },
   "file_extension": ".py",
   "mimetype": "text/x-python",
   "name": "python",
   "nbconvert_exporter": "python",
   "pygments_lexer": "ipython3",
   "version": "3.7.3-final"
  },
  "orig_nbformat": 2,
  "kernelspec": {
   "name": "python3",
   "display_name": "Python 3"
  }
 },
 "nbformat": 4,
 "nbformat_minor": 2,
 "cells": [
  {
   "cell_type": "code",
   "execution_count": 1,
   "metadata": {},
   "outputs": [],
   "source": [
    "from apply import Apply\n",
    "# 'output/alpha-100'\n",
    "predictor = Apply('output/alpha-100', '../../datasets/WN18/train.txt', '../../datasets/WN18/test.txt', '../../datasets/WN18/valid.txt')"
   ]
  },
  {
   "cell_type": "code",
   "execution_count": 3,
   "metadata": {
    "tags": []
   },
   "outputs": [
    {
     "output_type": "stream",
     "name": "stdout",
     "text": "* indexed 100000 triples\n* set up index for 18 relations, 40504 head entities, and 40551 tail entities\n* set up index for 18 relations, 4349 head entities, and 4263 tail entities\n* set up index for 18 relations, 4262 head entities, and 4338 tail entities\n* applying rules\n* set up index structure covering rules for 18 different relations\n* constructed filter set with 151442 triples\n* (# 0 ) trying to guess the tail/head of 06845599 _member_of_domain_usage 03754979\n\nElapsed (s) = 0\n* (# 50 ) trying to guess the tail/head of 01194418 _hypernym 02492198\n\nElapsed (s) = 0\n* (# 100 ) trying to guess the tail/head of 00802946 _derivationally_related_form 01141841\n\nElapsed (s) = 0\n* (# 150 ) trying to guess the tail/head of 13112664 _hyponym 12677841\n\nElapsed (s) = 0\n* (# 200 ) trying to guess the tail/head of 00940384 _hyponym 00903212\n\nElapsed (s) = 0\n* (# 250 ) trying to guess the tail/head of 01382273 _hypernym 01352059\n\nElapsed (s) = 0\n* (# 300 ) trying to guess the tail/head of 01589125 _member_meronym 01589286\n\nElapsed (s) = 0\n* (# 350 ) trying to guess the tail/head of 01944217 _member_holonym 01952162\n\nElapsed (s) = 0\n* (# 400 ) trying to guess the tail/head of 11534677 _hyponym 13140535\n\nElapsed (s) = 0\n* (# 450 ) trying to guess the tail/head of 13478525 _derivationally_related_form 00229280\n\nElapsed (s) = 0\n* (# 500 ) trying to guess the tail/head of 00670261 _hyponym 00726300\n\nElapsed (s) = 0\n* (# 550 ) trying to guess the tail/head of 12192373 _member_meronym 12193458\n\nElapsed (s) = 0\n* (# 600 ) trying to guess the tail/head of 11886380 _member_holonym 11867525\n\nElapsed (s) = 0\n* (# 650 ) trying to guess the tail/head of 00774056 _derivationally_related_form 09896826\n\nElapsed (s) = 0\n* (# 700 ) trying to guess the tail/head of 05296253 _part_of 05461816\n\nElapsed (s) = 0\n* (# 750 ) trying to guess the tail/head of 07889814 _synset_domain_region_of 08860123\n\nElapsed (s) = 0\n* (# 800 ) trying to guess the tail/head of 13576355 _hyponym 13777344\n\nElapsed (s) = 0\n* (# 850 ) trying to guess the tail/head of 08274923 _member_of_domain_topic 02397460\n\nElapsed (s) = 0\n* (# 900 ) trying to guess the tail/head of 01711297 _member_holonym 01710348\n\nElapsed (s) = 0\n"
    }
   ],
   "source": [
    "predictor.prediction()"
   ]
  },
  {
   "cell_type": "code",
   "execution_count": 3,
   "metadata": {},
   "outputs": [
    {
     "output_type": "execute_result",
     "data": {
      "text/plain": "{'config_file': 'config-eval.properties', 'path_training': '../output/'}"
     },
     "metadata": {},
     "execution_count": 3
    }
   ],
   "source": [
    "from config.config_yaml import Config\n",
    "cfg = Config()\n",
    "cfg.load_eval_config()"
   ]
  },
  {
   "cell_type": "code",
   "execution_count": null,
   "metadata": {},
   "outputs": [],
   "source": []
  }
 ]
}