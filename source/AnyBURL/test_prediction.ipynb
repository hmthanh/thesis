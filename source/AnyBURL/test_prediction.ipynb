{
 "metadata": {
  "language_info": {
   "codemirror_mode": {
    "name": "ipython",
    "version": 3
   },
   "file_extension": ".py",
   "mimetype": "text/x-python",
   "name": "python",
   "nbconvert_exporter": "python",
   "pygments_lexer": "ipython3",
   "version": "3.7.3-final"
  },
  "orig_nbformat": 2,
  "kernelspec": {
   "name": "python3",
   "display_name": "Python 3"
  }
 },
 "nbformat": 4,
 "nbformat_minor": 2,
 "cells": [
  {
   "cell_type": "code",
   "execution_count": 1,
   "metadata": {},
   "outputs": [],
   "source": [
    "from apply import Apply\n",
    "# 'output/alpha-100'\n",
    "predictor = Apply('output/alpha-100', '../../datasets/WN18/train.txt', '../../datasets/WN18/test.txt', '../../datasets/WN18/valid.txt')"
   ]
  },
  {
   "cell_type": "code",
   "execution_count": 2,
   "metadata": {
    "tags": []
   },
   "outputs": [
    {
     "output_type": "stream",
     "name": "stdout",
     "text": "* indexed 100000 triples\n* set up index for 18 relations, 40504 head entities, and 40551 tail entities\n* set up index for 18 relations, 4349 head entities, and 4263 tail entities\n* set up index for 18 relations, 4262 head entities, and 4338 tail entities\n* applying rules\n* set up index structure covering rules for 18 different relations\n* constructed filter set with 151442 triples\n* (# 0 ) trying to guess the tail/head of 06845599 _member_of_domain_usage 03754979\n\nElapsed (s) = 0\n* (# 50 ) trying to guess the tail/head of 01194418 _hypernym 02492198\n\nElapsed (s) = 0\n* (# 100 ) trying to guess the tail/head of 00802946 _derivationally_related_form 01141841\n\nElapsed (s) = 0\n* (# 150 ) trying to guess the tail/head of 13112664 _hyponym 12677841\n\nElapsed (s) = 0\n* (# 200 ) trying to guess the tail/head of 00940384 _hyponym 00903212\n\nElapsed (s) = 0\n* (# 250 ) trying to guess the tail/head of 01382273 _hypernym 01352059\n\nElapsed (s) = 0\n* (# 300 ) trying to guess the tail/head of 01589125 _member_meronym 01589286\n\nElapsed (s) = 0\n* (# 350 ) trying to guess the tail/head of 01944217 _member_holonym 01952162\n\nElapsed (s) = 0\n* (# 400 ) trying to guess the tail/head of 11534677 _hyponym 13140535\n\nElapsed (s) = 0\n* (# 450 ) trying to guess the tail/head of 13478525 _derivationally_related_form 00229280\n\nElapsed (s) = 0\n* (# 500 ) trying to guess the tail/head of 00670261 _hyponym 00726300\n\nElapsed (s) = 0\n* (# 550 ) trying to guess the tail/head of 12192373 _member_meronym 12193458\n\nElapsed (s) = 0\n* (# 600 ) trying to guess the tail/head of 11886380 _member_holonym 11867525\n\nElapsed (s) = 0\n* (# 650 ) trying to guess the tail/head of 00774056 _derivationally_related_form 09896826\n\nElapsed (s) = 0\n* (# 700 ) trying to guess the tail/head of 05296253 _part_of 05461816\n\nElapsed (s) = 0\n* (# 750 ) trying to guess the tail/head of 07889814 _synset_domain_region_of 08860123\n\nElapsed (s) = 0\n* (# 800 ) trying to guess the tail/head of 13576355 _hyponym 13777344\n\nElapsed (s) = 0\n* (# 850 ) trying to guess the tail/head of 08274923 _member_of_domain_topic 02397460\n\nElapsed (s) = 0\n* (# 900 ) trying to guess the tail/head of 01711297 _member_holonym 01710348\n\nElapsed (s) = 0\n* (# 950 ) trying to guess the tail/head of 06481320 _hyponym 06491786\n\nElapsed (s) = 0\n* (# 1000 ) trying to guess the tail/head of 10771270 _derivationally_related_form 01041415\n\nElapsed (s) = 0\n* (# 1050 ) trying to guess the tail/head of 01629589 _hypernym 01617192\n\nElapsed (s) = 0\n* (# 1100 ) trying to guess the tail/head of 00043765 _derivationally_related_form 02603699\n\nElapsed (s) = 0\n* (# 1150 ) trying to guess the tail/head of 04217882 _derivationally_related_form 01498319\n\nElapsed (s) = 0\n* (# 1200 ) trying to guess the tail/head of 05009170 _hyponym 05019661\n\nElapsed (s) = 0\n* (# 1250 ) trying to guess the tail/head of 10294602 _hyponym 10433452\n\nElapsed (s) = 0\n* (# 1300 ) trying to guess the tail/head of 01507175 _hyponym 01530256\n\nElapsed (s) = 0\n* (# 1350 ) trying to guess the tail/head of 00313987 _hypernym 00126264\n\nElapsed (s) = 0\n* (# 1400 ) trying to guess the tail/head of 08510666 _hyponym 08629508\n\nElapsed (s) = 0\n* (# 1450 ) trying to guess the tail/head of 10014939 _derivationally_related_form 02443049\n\nElapsed (s) = 0\n* (# 1500 ) trying to guess the tail/head of 08945821 _instance_hypernym 08698379\n\nElapsed (s) = 0\n* (# 1550 ) trying to guess the tail/head of 01193099 _derivationally_related_form 00759186\n\nElapsed (s) = 0\n* (# 1600 ) trying to guess the tail/head of 01225562 _derivationally_related_form 00011551\n\nElapsed (s) = 0\n* (# 1650 ) trying to guess the tail/head of 01800195 _hypernym 01799302\n\nElapsed (s) = 0\n* (# 1700 ) trying to guess the tail/head of 01105639 _hyponym 01106670\n\nElapsed (s) = 0\n* (# 1750 ) trying to guess the tail/head of 00836236 _derivationally_related_form 10685853\n\nElapsed (s) = 0\n* (# 1800 ) trying to guess the tail/head of 15068436 _hypernym 14818238\n\nElapsed (s) = 0\n* (# 1850 ) trying to guess the tail/head of 03534776 _hypernym 04517823\n\nElapsed (s) = 0\n* (# 1900 ) trying to guess the tail/head of 07781319 _part_of 02624551\n\nElapsed (s) = 0\n* (# 1950 ) trying to guess the tail/head of 02927399 _hypernym 03892891\n\nElapsed (s) = 0\n* (# 2000 ) trying to guess the tail/head of 01504437 _hyponym 01550429\n\nElapsed (s) = 0\n* (# 2050 ) trying to guess the tail/head of 01835496 _derivationally_related_form 02994448\n\nElapsed (s) = 0\n* (# 2100 ) trying to guess the tail/head of 01941670 _member_meronym 01952162\n\nElapsed (s) = 0\n* (# 2150 ) trying to guess the tail/head of 13651218 _hypernym 13603305\n\nElapsed (s) = 0\n* (# 2200 ) trying to guess the tail/head of 00044353 _derivationally_related_form 05792010\n\nElapsed (s) = 0\n* (# 2250 ) trying to guess the tail/head of 13100156 _hyponym 12766595\n\nElapsed (s) = 0\n* (# 2300 ) trying to guess the tail/head of 00021939 _hyponym 03573282\n\nElapsed (s) = 0\n* (# 2350 ) trying to guess the tail/head of 02431320 _derivationally_related_form 07331400\n\nElapsed (s) = 0\n* (# 2400 ) trying to guess the tail/head of 06136258 _member_of_domain_topic 00729642\n\nElapsed (s) = 0\n* (# 2450 ) trying to guess the tail/head of 12812665 _hypernym 11579418\n\nElapsed (s) = 0\n* (# 2500 ) trying to guess the tail/head of 01447868 _also_see 01675780\n\nElapsed (s) = 0\n* (# 2550 ) trying to guess the tail/head of 02467003 _verb_group 02467203\n\nElapsed (s) = 0\n* (# 2600 ) trying to guess the tail/head of 01407904 _synset_domain_topic_of 00464894\n\nElapsed (s) = 0\n* (# 2650 ) trying to guess the tail/head of 11322178 _instance_hypernym 10599806\n\nElapsed (s) = 0\n* (# 2700 ) trying to guess the tail/head of 02446352 _hypernym 02445715\n\nElapsed (s) = 0\n* (# 2750 ) trying to guess the tail/head of 08889191 _part_of 08888676\n\nElapsed (s) = 0\n* (# 2800 ) trying to guess the tail/head of 06149484 _member_of_domain_topic 14444326\n\nElapsed (s) = 0\n* (# 2850 ) trying to guess the tail/head of 10547145 _instance_hyponym 10938363\n\nElapsed (s) = 0\n* (# 2900 ) trying to guess the tail/head of 02104882 _hypernym 02104523\n\nElapsed (s) = 0\n* (# 2950 ) trying to guess the tail/head of 00028651 _has_part 00027167\n\nElapsed (s) = 0\n* (# 3000 ) trying to guess the tail/head of 10745332 _hypernym 09863238\n\nElapsed (s) = 0\n* (# 3050 ) trying to guess the tail/head of 02711835 _derivationally_related_form 03390983\n\nElapsed (s) = 0\n* (# 3100 ) trying to guess the tail/head of 15006258 _hyponym 14872875\n\nElapsed (s) = 0\n* (# 3150 ) trying to guess the tail/head of 12118414 _hypernym 12135898\n\nElapsed (s) = 0\n* (# 3200 ) trying to guess the tail/head of 11860801 _hypernym 11573660\n\nElapsed (s) = 0\n* (# 3250 ) trying to guess the tail/head of 03879116 _derivationally_related_form 02749768\n\nElapsed (s) = 0\n* (# 3300 ) trying to guess the tail/head of 08889191 _instance_hypernym 08691669\n\nElapsed (s) = 0\n* (# 3350 ) trying to guess the tail/head of 07134850 _derivationally_related_form 01038666\n\nElapsed (s) = 0\n* (# 3400 ) trying to guess the tail/head of 03804744 _derivationally_related_form 01357831\n\nElapsed (s) = 0\n* (# 3450 ) trying to guess the tail/head of 06054700 _member_of_domain_topic 05300675\n\nElapsed (s) = 0\n* (# 3500 ) trying to guess the tail/head of 01507175 _hyponym 02009015\n\nElapsed (s) = 0\n* (# 3550 ) trying to guess the tail/head of 07401726 _derivationally_related_form 01879251\n\nElapsed (s) = 0\n* (# 3600 ) trying to guess the tail/head of 01021420 _hyponym 00763399\n\nElapsed (s) = 0\n* (# 3650 ) trying to guess the tail/head of 09433952 _hypernym 09190918\n\nElapsed (s) = 0\n* (# 3700 ) trying to guess the tail/head of 11567411 _hyponym 12395717\n\nElapsed (s) = 0\n* (# 3750 ) trying to guess the tail/head of 00735832 _derivationally_related_form 02292535\n\nElapsed (s) = 0\n* (# 3800 ) trying to guess the tail/head of 01081001 _hypernym 01079480\n\nElapsed (s) = 0\n* (# 3850 ) trying to guess the tail/head of 15078050 _hyponym 14806333\n\nElapsed (s) = 0\n* (# 3900 ) trying to guess the tail/head of 15298011 _synset_domain_topic_of 06128570\n\nElapsed (s) = 0\n* (# 3950 ) trying to guess the tail/head of 01352574 _hyponym 01356888\n\nElapsed (s) = 0\n* (# 4000 ) trying to guess the tail/head of 12701901 _hypernym 11585340\n\nElapsed (s) = 0\n* (# 4050 ) trying to guess the tail/head of 00006802 _hypernym 00007012\n\nElapsed (s) = 0\n* (# 4100 ) trying to guess the tail/head of 08199025 _member_of_domain_topic 06804847\n\nElapsed (s) = 0\n* (# 4150 ) trying to guess the tail/head of 10835022 _instance_hypernym 10030277\n\nElapsed (s) = 0\n* (# 4200 ) trying to guess the tail/head of 10325243 _derivationally_related_form 00475819\n\nElapsed (s) = 0\n* (# 4250 ) trying to guess the tail/head of 11418460 _derivationally_related_form 01468097\n\nElapsed (s) = 0\n* (# 4300 ) trying to guess the tail/head of 08359949 _hypernym 08189659\n\nElapsed (s) = 0\n* (# 4350 ) trying to guess the tail/head of 00181258 _derivationally_related_form 11683556\n\nElapsed (s) = 0\n* (# 4400 ) trying to guess the tail/head of 00431117 _derivationally_related_form 00357906\n\nElapsed (s) = 0\n* (# 4450 ) trying to guess the tail/head of 07229530 _derivationally_related_form 00883226\n\nElapsed (s) = 0\n* (# 4500 ) trying to guess the tail/head of 02483564 _derivationally_related_form 13737480\n\nElapsed (s) = 0\n* (# 4550 ) trying to guess the tail/head of 01523656 _derivationally_related_form 01543731\n\nElapsed (s) = 0\n* (# 4600 ) trying to guess the tail/head of 00289175 _hypernym 00288970\n\nElapsed (s) = 0\n* (# 4650 ) trying to guess the tail/head of 02409412 _derivationally_related_form 10054657\n\nElapsed (s) = 0\n* (# 4700 ) trying to guess the tail/head of 08227214 _hypernym 08049401\n\nElapsed (s) = 0\n* (# 4750 ) trying to guess the tail/head of 13945102 _derivationally_related_form 01096497\n\nElapsed (s) = 0\n* (# 4800 ) trying to guess the tail/head of 02116777 _verb_group 02116568\n\nElapsed (s) = 0\n* (# 4850 ) trying to guess the tail/head of 01437805 _member_meronym 01444520\n\nElapsed (s) = 0\n* (# 4900 ) trying to guess the tail/head of 06808720 _hyponym 06811625\n\nElapsed (s) = 0\n* (# 4950 ) trying to guess the tail/head of 12002428 _member_holonym 12002197\n\nElapsed (s) = 0\n"
    }
   ],
   "source": [
    "predictor.prediction()"
   ]
  },
  {
   "cell_type": "code",
   "execution_count": 3,
   "metadata": {},
   "outputs": [
    {
     "output_type": "execute_result",
     "data": {
      "text/plain": "{'config_file': 'config-eval.properties', 'path_training': '../output/'}"
     },
     "metadata": {},
     "execution_count": 3
    }
   ],
   "source": [
    "from config.config_yaml import Config\n",
    "cfg = Config()\n",
    "cfg.load_eval_config()"
   ]
  },
  {
   "cell_type": "code",
   "execution_count": null,
   "metadata": {},
   "outputs": [],
   "source": []
  }
 ]
}