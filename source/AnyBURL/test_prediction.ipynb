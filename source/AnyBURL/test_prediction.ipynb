{
 "metadata": {
  "language_info": {
   "codemirror_mode": {
    "name": "ipython",
    "version": 3
   },
   "file_extension": ".py",
   "mimetype": "text/x-python",
   "name": "python",
   "nbconvert_exporter": "python",
   "pygments_lexer": "ipython3",
   "version": "3.7.3-final"
  },
  "orig_nbformat": 2,
  "kernelspec": {
   "name": "python3",
   "display_name": "Python 3"
  }
 },
 "nbformat": 4,
 "nbformat_minor": 2,
 "cells": [
  {
   "cell_type": "code",
   "execution_count": 1,
   "metadata": {},
   "outputs": [],
   "source": [
    "from apply import Apply\n",
    "# 'output/alpha-100'\n",
    "predictor = Apply('output/output-1000.txt', '../../datasets/WN18RR/train.txt', '../../datasets/WN18RR/test.txt', '../../datasets/WN18RR/valid.txt')"
   ]
  },
  {
   "cell_type": "code",
   "execution_count": 2,
   "metadata": {
    "tags": []
   },
   "outputs": [
    {
     "output_type": "stream",
     "name": "stdout",
     "text": "* set up index for 11 relations, 39610 head entities, and 31881 tail entities\n* set up index for 11 relations, 2958 head entities, and 2619 tail entities\n* set up index for 11 relations, 2851 head entities, and 2575 tail entities\n* applying rules\n* set up index structure covering rules for 9 different relations\n* constructed filter set with 93103 triples\n* (# 0 ) trying to guess the tail/head of 06845599 _member_of_domain_usage 03754979\n\nElapsed (s) = 0\n* (# 50 ) trying to guess the tail/head of 06693198 _derivationally_related_form 00860620\n\nElapsed (s) = 0\n* (# 100 ) trying to guess the tail/head of 13902048 _derivationally_related_form 01742244\n\nElapsed (s) = 0\n* (# 150 ) trying to guess the tail/head of 01473990 _hypernym 08103777\n\nElapsed (s) = 0\n* (# 200 ) trying to guess the tail/head of 04372171 _hypernym 03575958\n\nElapsed (s) = 0\n* (# 250 ) trying to guess the tail/head of 02621395 _derivationally_related_form 07092356\n\nElapsed (s) = 0\n* (# 300 ) trying to guess the tail/head of 01012712 _derivationally_related_form 00739662\n\nElapsed (s) = 0\n* (# 350 ) trying to guess the tail/head of 01028748 _derivationally_related_form 10344774\n\nElapsed (s) = 0\n* (# 400 ) trying to guess the tail/head of 00774056 _derivationally_related_form 09896826\n\nElapsed (s) = 0\n* (# 450 ) trying to guess the tail/head of 01650610 _derivationally_related_form 00235435\n\nElapsed (s) = 0\n* (# 500 ) trying to guess the tail/head of 09980090 _derivationally_related_form 07049713\n\nElapsed (s) = 0\n* (# 550 ) trying to guess the tail/head of 12213635 _member_meronym 12216028\n\nElapsed (s) = 0\n* (# 600 ) trying to guess the tail/head of 00873603 _also_see 00884778\n\nElapsed (s) = 0\n* (# 650 ) trying to guess the tail/head of 12423565 _member_meronym 12459471\n\nElapsed (s) = 0\n* (# 700 ) trying to guess the tail/head of 10060352 _derivationally_related_form 00796886\n\nElapsed (s) = 0\n* (# 750 ) trying to guess the tail/head of 01798100 _hypernym 01770501\n\nElapsed (s) = 0\n* (# 800 ) trying to guess the tail/head of 00139919 _synset_domain_topic_of 00469651\n\nElapsed (s) = 0\n* (# 850 ) trying to guess the tail/head of 04760296 _hypernym 04761517\n\nElapsed (s) = 0\n* (# 900 ) trying to guess the tail/head of 13439390 _hypernym 13526110\n\nElapsed (s) = 0\n* (# 950 ) trying to guess the tail/head of 01424456 _derivationally_related_form 05553486\n\nElapsed (s) = 0\n* (# 1000 ) trying to guess the tail/head of 02711114 _hypernym 02700867\n\nElapsed (s) = 0\n* (# 1050 ) trying to guess the tail/head of 02130300 _hypernym 00644583\n\nElapsed (s) = 0\n* (# 1100 ) trying to guess the tail/head of 00796976 _derivationally_related_form 10616379\n\nElapsed (s) = 0\n* (# 1150 ) trying to guess the tail/head of 09791248 _synset_domain_topic_of 04323026\n\nElapsed (s) = 0\n* (# 1200 ) trying to guess the tail/head of 14550987 _hypernym 14550797\n\nElapsed (s) = 0\n* (# 1250 ) trying to guess the tail/head of 02739254 _derivationally_related_form 13845239\n\nElapsed (s) = 0\n* (# 1300 ) trying to guess the tail/head of 07019172 _hypernym 07018931\n\nElapsed (s) = 0\n* (# 1350 ) trying to guess the tail/head of 12600888 _member_meronym 12601106\n\nElapsed (s) = 0\n* (# 1400 ) trying to guess the tail/head of 07425011 _hypernym 07296428\n\nElapsed (s) = 0\n* (# 1450 ) trying to guess the tail/head of 02701210 _verb_group 02732798\n\nElapsed (s) = 0\n* (# 1500 ) trying to guess the tail/head of 12812665 _hypernym 11579418\n\nElapsed (s) = 0\n* (# 1550 ) trying to guess the tail/head of 01467370 _derivationally_related_form 08565701\n\nElapsed (s) = 0\n* (# 1600 ) trying to guess the tail/head of 04160586 _hypernym 02691156\n\nElapsed (s) = 0\n* (# 1650 ) trying to guess the tail/head of 09904057 _hypernym 10372373\n\nElapsed (s) = 0\n* (# 1700 ) trying to guess the tail/head of 07118002 _derivationally_related_form 00951206\n\nElapsed (s) = 0\n* (# 1750 ) trying to guess the tail/head of 00246217 _hypernym 00247390\n\nElapsed (s) = 0\n* (# 1800 ) trying to guess the tail/head of 00331102 _derivationally_related_form 02753255\n\nElapsed (s) = 0\n* (# 1850 ) trying to guess the tail/head of 09207288 _has_part 08848094\n\nElapsed (s) = 0\n* (# 1900 ) trying to guess the tail/head of 01809064 _hypernym 00725274\n\nElapsed (s) = 0\n* (# 1950 ) trying to guess the tail/head of 05958427 _hypernym 05943300\n\nElapsed (s) = 0\n* (# 2000 ) trying to guess the tail/head of 02583211 _member_meronym 02584325\n\nElapsed (s) = 0\n* (# 2050 ) trying to guess the tail/head of 09884666 _derivationally_related_form 01720491\n\nElapsed (s) = 0\n* (# 2100 ) trying to guess the tail/head of 01670172 _derivationally_related_form 03354903\n\nElapsed (s) = 0\n* (# 2150 ) trying to guess the tail/head of 01573515 _also_see 01573891\n\nElapsed (s) = 0\n* (# 2200 ) trying to guess the tail/head of 03536348 _hypernym 04362025\n\nElapsed (s) = 0\n* (# 2250 ) trying to guess the tail/head of 12398682 _member_meronym 12398990\n\nElapsed (s) = 0\n* (# 2300 ) trying to guess the tail/head of 00788766 _derivationally_related_form 02531199\n\nElapsed (s) = 0\n* (# 2350 ) trying to guess the tail/head of 09513902 _synset_domain_topic_of 15253139\n\nElapsed (s) = 0\n* (# 2400 ) trying to guess the tail/head of 03875218 _hypernym 14984973\n\nElapsed (s) = 0\n* (# 2450 ) trying to guess the tail/head of 01629589 _also_see 01629958\n\nElapsed (s) = 0\n* (# 2500 ) trying to guess the tail/head of 10257221 _hypernym 09608709\n\nElapsed (s) = 0\n* (# 2550 ) trying to guess the tail/head of 02803129 _hypernym 04073669\n\nElapsed (s) = 0\n* (# 2600 ) trying to guess the tail/head of 10835022 _instance_hypernym 10030277\n\nElapsed (s) = 0\n* (# 2650 ) trying to guess the tail/head of 08947319 _instance_hypernym 08698379\n\nElapsed (s) = 0\n* (# 2700 ) trying to guess the tail/head of 02001428 _member_meronym 02007721\n\nElapsed (s) = 0\n* (# 2750 ) trying to guess the tail/head of 09051235 _instance_hypernym 08574314\n\nElapsed (s) = 0\n* (# 2800 ) trying to guess the tail/head of 00617095 _hypernym 00690614\n\nElapsed (s) = 0\n* (# 2850 ) trying to guess the tail/head of 14915622 _derivationally_related_form 01208400\n\nElapsed (s) = 0\n* (# 2900 ) trying to guess the tail/head of 05725378 _hypernym 05721180\n\nElapsed (s) = 0\n* (# 2950 ) trying to guess the tail/head of 00376715 _derivationally_related_form 01573515\n\nElapsed (s) = 0\n* (# 3000 ) trying to guess the tail/head of 01233156 _derivationally_related_form 02487573\n\nElapsed (s) = 0\n* (# 3050 ) trying to guess the tail/head of 10298912 _hypernym 10371741\n\nElapsed (s) = 0\n* (# 3100 ) trying to guess the tail/head of 10659571 _hypernym 10349243\n\nElapsed (s) = 0\n"
    }
   ],
   "source": [
    "predictor.prediction()"
   ]
  },
  {
   "cell_type": "code",
   "execution_count": 3,
   "metadata": {},
   "outputs": [
    {
     "output_type": "execute_result",
     "data": {
      "text/plain": "{'config_file': 'config-eval.properties', 'path_training': '../output/'}"
     },
     "metadata": {},
     "execution_count": 3
    }
   ],
   "source": [
    "from config.config_yaml import Config\n",
    "cfg = Config()\n",
    "cfg.load_eval_config()"
   ]
  },
  {
   "cell_type": "code",
   "execution_count": null,
   "metadata": {},
   "outputs": [],
   "source": []
  }
 ]
}