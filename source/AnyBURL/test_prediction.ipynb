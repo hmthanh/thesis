{
 "metadata": {
  "language_info": {
   "codemirror_mode": {
    "name": "ipython",
    "version": 3
   },
   "file_extension": ".py",
   "mimetype": "text/x-python",
   "name": "python",
   "nbconvert_exporter": "python",
   "pygments_lexer": "ipython3",
   "version": "3.7.3-final"
  },
  "orig_nbformat": 2,
  "kernelspec": {
   "name": "python3",
   "display_name": "Python 3"
  }
 },
 "nbformat": 4,
 "nbformat_minor": 2,
 "cells": [
  {
   "cell_type": "code",
   "execution_count": 1,
   "metadata": {},
   "outputs": [],
   "source": [
    "from apply import Apply\n",
    "predictor = Apply('output/output-20000.txt', '../../datasets/FB15k-237/train.txt', '../../datasets/FB15k-237/test.txt', '../../datasets/FB15k-237/valid.txt')"
   ]
  },
  {
   "cell_type": "code",
   "execution_count": 2,
   "metadata": {
    "tags": []
   },
   "outputs": [
    {
     "output_type": "stream",
     "name": "stdout",
     "text": "* indexed 100000 triples\n* indexed 200000 triples\n* set up index for 237 relations, 13781 head entities, and 13379 tail entities\n* set up index for 224 relations, 8171 head entities, and 6376 tail entities\n* set up index for 223 relations, 7652 head entities, and 5804 tail entities\n* applying rules\n* set up index structure covering rules for 227 different relations\n* constructed filter set with 313047 triples\n* (# 0 ) trying to guess the tail/head of /m/08966 /travel/travel_destination/climate./travel/travel_destination_monthly_climate/month /m/05lf_\n\nElapsed (s) = 0\n* (# 50 ) trying to guess the tail/head of /m/02x2gy0 /award/award_category/nominees./award/award_nomination/nominated_for /m/04jplwp\n\nElapsed (s) = 0\n* (# 100 ) trying to guess the tail/head of /m/026lgs /film/film/language /m/02h40lc\n\nElapsed (s) = 0\n* (# 150 ) trying to guess the tail/head of /m/01swxv /education/university/fraternities_and_sororities /m/0325pb\n\nElapsed (s) = 0\n* (# 200 ) trying to guess the tail/head of /m/029h45 /people/person/profession /m/025352\n\nElapsed (s) = 0\n* (# 250 ) trying to guess the tail/head of /m/03rhqg /music/record_label/artist /m/01jgkj2\n\nElapsed (s) = 0\n* (# 300 ) trying to guess the tail/head of /m/02cbhg /film/film/other_crew./film/film_crew_gig/film_crew_role /m/02ynfr\n\nElapsed (s) = 0\n* (# 350 ) trying to guess the tail/head of /m/028tv0 /music/performance_role/regular_performances./music/group_membership/group /m/016vn3\n\nElapsed (s) = 0\n"
    }
   ],
   "source": [
    "predictor.prediction()"
   ]
  },
  {
   "cell_type": "code",
   "execution_count": null,
   "metadata": {},
   "outputs": [],
   "source": []
  }
 ]
}