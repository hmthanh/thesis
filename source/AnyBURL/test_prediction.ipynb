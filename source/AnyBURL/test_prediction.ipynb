{
 "metadata": {
  "language_info": {
   "codemirror_mode": {
    "name": "ipython",
    "version": 3
   },
   "file_extension": ".py",
   "mimetype": "text/x-python",
   "name": "python",
   "nbconvert_exporter": "python",
   "pygments_lexer": "ipython3",
   "version": "3.7.3-final"
  },
  "orig_nbformat": 2,
  "kernelspec": {
   "name": "python3",
   "display_name": "Python 3"
  }
 },
 "nbformat": 4,
 "nbformat_minor": 2,
 "cells": [
  {
   "cell_type": "code",
   "execution_count": 1,
   "metadata": {},
   "outputs": [],
   "source": [
    "from apply import Apply\n",
    "predictor = Apply('output/alpha-100', '../../datasets/FB15k-237/train.txt', '../../datasets/FB15k-237/test.txt', '../../datasets/FB15k-237/valid.txt')"
   ]
  },
  {
   "cell_type": "code",
   "execution_count": 2,
   "metadata": {
    "tags": []
   },
   "outputs": [
    {
     "output_type": "stream",
     "name": "stdout",
     "text": "* indexed 100000 triples\n* indexed 200000 triples\n* set up index for 237 relations, 13781 head entities, and 13379 tail entities\n* set up index for 224 relations, 8171 head entities, and 6376 tail entities\n* set up index for 223 relations, 7652 head entities, and 5804 tail entities\n* applying rules\n* set up index structure covering rules for 234 different relations\n* constructed filter set with 313047 triples\n* (# 0 ) trying to guess the tail/head of /m/08966 /travel/travel_destination/climate./travel/travel_destination_monthly_climate/month /m/05lf_\n\nElapsed (s) = 0\n* (# 50 ) trying to guess the tail/head of /m/02x2gy0 /award/award_category/nominees./award/award_nomination/nominated_for /m/04jplwp\n\nElapsed (s) = 0\n* (# 100 ) trying to guess the tail/head of /m/026lgs /film/film/language /m/02h40lc\n\nElapsed (s) = 0\n* (# 150 ) trying to guess the tail/head of /m/01swxv /education/university/fraternities_and_sororities /m/0325pb\n\nElapsed (s) = 0\n* (# 200 ) trying to guess the tail/head of /m/029h45 /people/person/profession /m/025352\n\nElapsed (s) = 0\n* (# 250 ) trying to guess the tail/head of /m/03rhqg /music/record_label/artist /m/01jgkj2\n\nElapsed (s) = 0\n* (# 300 ) trying to guess the tail/head of /m/02cbhg /film/film/other_crew./film/film_crew_gig/film_crew_role /m/02ynfr\n\nElapsed (s) = 0\n* (# 350 ) trying to guess the tail/head of /m/028tv0 /music/performance_role/regular_performances./music/group_membership/group /m/016vn3\n\nElapsed (s) = 0\n* (# 400 ) trying to guess the tail/head of /m/016t_3 /education/educational_degree/people_with_this_degree./education/education/major_field_of_study /m/03ytc\n\nElapsed (s) = 0\n* (# 450 ) trying to guess the tail/head of /m/01hlwv /base/schemastaging/organization_extra/phone_number./base/schemastaging/phone_sandbox/service_location /m/05r7t\n\nElapsed (s) = 0\n* (# 500 ) trying to guess the tail/head of /m/03z9585 /film/film/produced_by /m/027z0pl\n\nElapsed (s) = 0\n* (# 550 ) trying to guess the tail/head of /m/0dky9n /people/person/gender /m/05zppz\n\nElapsed (s) = 0\n* (# 600 ) trying to guess the tail/head of /m/01g42 /people/person/spouse_s./people/marriage/type_of_union /m/04ztj\n\nElapsed (s) = 0\n* (# 650 ) trying to guess the tail/head of /m/0f7hc /people/person/languages /m/02h40lc\n\nElapsed (s) = 0\n* (# 700 ) trying to guess the tail/head of /m/02725hs /film/film/other_crew./film/film_crew_gig/film_crew_role /m/0dxtw\n\nElapsed (s) = 0\n* (# 750 ) trying to guess the tail/head of /m/05ksh /sports/sports_team_location/teams /m/05pcr\n\nElapsed (s) = 0\n* (# 800 ) trying to guess the tail/head of /m/0d2by /people/ethnicity/languages_spoken /m/03115z\n\nElapsed (s) = 0\n* (# 850 ) trying to guess the tail/head of /m/0b44shh /film/film/release_date_s./film/film_regional_release_date/film_release_region /m/0b90_r\n\nElapsed (s) = 0\n* (# 900 ) trying to guess the tail/head of /m/0dq9wx /people/person/profession /m/0kyk\n\nElapsed (s) = 0\n* (# 950 ) trying to guess the tail/head of /m/0gct_ /people/person/gender /m/05zppz\n\nElapsed (s) = 0\n* (# 1000 ) trying to guess the tail/head of /m/01243b /music/genre/artists /m/0838y\n\nElapsed (s) = 0\n* (# 1050 ) trying to guess the tail/head of /m/01q7q2 /education/educational_institution/students_graduates./education/education/major_field_of_study /m/0g26h\n\nElapsed (s) = 0\n* (# 1100 ) trying to guess the tail/head of /m/019v9k /education/educational_degree/people_with_this_degree./education/education/institution /m/02ckl3\n\nElapsed (s) = 0\n* (# 1150 ) trying to guess the tail/head of /m/0bh8tgs /film/film/release_date_s./film/film_regional_release_date/film_release_region /m/015qh\n\nElapsed (s) = 0\n* (# 1200 ) trying to guess the tail/head of /m/0797c7 /organization/organization/headquarters./location/mailing_address/citytown /m/0cv3w\n\nElapsed (s) = 0\n* (# 1250 ) trying to guess the tail/head of /m/0b90_r /olympics/olympic_participating_country/medals_won./olympics/olympic_medal_honor/medal /m/02lpp7\n\nElapsed (s) = 0\n* (# 1300 ) trying to guess the tail/head of /m/02vp1f_ /film/film/genre /m/07s9rl0\n\nElapsed (s) = 0\n* (# 1350 ) trying to guess the tail/head of /m/0gqy2 /award/award_category/nominees./award/award_nomination/nominated_for /m/04j13sx\n\nElapsed (s) = 0\n* (# 1400 ) trying to guess the tail/head of /m/07jbh /olympics/olympic_sport/athletes./olympics/olympic_athlete_affiliation/country /m/01nln\n\nElapsed (s) = 0\n* (# 1450 ) trying to guess the tail/head of /m/01zlh5 /people/person/profession /m/012t_z\n\nElapsed (s) = 0\n* (# 1500 ) trying to guess the tail/head of /m/06by7 /music/genre/artists /m/0mgcr\n\nElapsed (s) = 0\n* (# 1550 ) trying to guess the tail/head of /m/0hz6mv2 /film/film/release_date_s./film/film_regional_release_date/film_release_distribution_medium /m/029j_\n\nElapsed (s) = 0\n* (# 1600 ) trying to guess the tail/head of /m/0gd_s /award/award_nominee/award_nominations./award/award_nomination/award /m/01tgwv\n\nElapsed (s) = 0\n* (# 1650 ) trying to guess the tail/head of /m/03rbj2 /award/award_category/winners./award/award_honor/award_winner /m/03t8v3\n\nElapsed (s) = 0\n* (# 1700 ) trying to guess the tail/head of /m/02_06s /award/award_winning_work/awards_won./award/award_honor/award /m/09cn0c\n\nElapsed (s) = 0\n* (# 1750 ) trying to guess the tail/head of /m/02n9k /people/person/gender /m/02zsn\n\nElapsed (s) = 0\n* (# 1800 ) trying to guess the tail/head of /m/01c7y /language/human_language/countries_spoken_in /m/03rk0\n\nElapsed (s) = 0\n* (# 1850 ) trying to guess the tail/head of /m/018grr /film/actor/film./film/performance/film /m/02ntb8\n\nElapsed (s) = 0\n* (# 1900 ) trying to guess the tail/head of /m/014kg4 /people/person/nationality /m/09c7w0\n\nElapsed (s) = 0\n* (# 1950 ) trying to guess the tail/head of /m/057_yx /award/award_nominee/award_nominations./award/award_nomination/award_nominee /m/01vyv9\n\nElapsed (s) = 0\n* (# 2000 ) trying to guess the tail/head of /m/07tg4 /education/educational_institution/students_graduates./education/education/student /m/0c9c0\n\nElapsed (s) = 0\n* (# 2050 ) trying to guess the tail/head of /m/02b25y /base/schemastaging/person_extra/net_worth./measurement_unit/dated_money_value/currency /m/09nqf\n\nElapsed (s) = 0\n* (# 2100 ) trying to guess the tail/head of /m/01wj5hp /people/person/profession /m/016fly\n\nElapsed (s) = 0\n* (# 2150 ) trying to guess the tail/head of /m/0b_dy /award/award_nominee/award_nominations./award/award_nomination/award /m/04kxsb\n\nElapsed (s) = 0\n* (# 2200 ) trying to guess the tail/head of /m/07pd_j /film/film/release_date_s./film/film_regional_release_date/film_release_region /m/0d0vqn\n\nElapsed (s) = 0\n* (# 2250 ) trying to guess the tail/head of /m/0f25w9 /food/food/nutrients./food/nutrition_fact/nutrient /m/0g5gq\n\nElapsed (s) = 0\n* (# 2300 ) trying to guess the tail/head of /m/02z0dfh /award/award_category/nominees./award/award_nomination/nominated_for /m/04b_jc\n\nElapsed (s) = 0\n* (# 2350 ) trying to guess the tail/head of /m/0fb0v /music/record_label/artist /m/0134pk\n\nElapsed (s) = 0\n* (# 2400 ) trying to guess the tail/head of /m/01wvxw1 /common/topic/webpage./common/webpage/category /m/08mbj5d\n\nElapsed (s) = 0\n* (# 2450 ) trying to guess the tail/head of /m/0jmj7 /sports/professional_sports_team/draft_picks./sports/sports_league_draft_pick/school /m/02yr3z\n\nElapsed (s) = 0\n* (# 2500 ) trying to guess the tail/head of /m/0crfwmx /film/film/genre /m/02kdv5l\n\nElapsed (s) = 0\n* (# 2550 ) trying to guess the tail/head of /m/04pf4r /people/person/place_of_birth /m/01z8f0\n\nElapsed (s) = 0\n* (# 2600 ) trying to guess the tail/head of /m/0lzkm /people/person/nationality /m/09c7w0\n\nElapsed (s) = 0\n* (# 2650 ) trying to guess the tail/head of /m/076689 /people/person/religion /m/03_gx\n\nElapsed (s) = 0\n* (# 2700 ) trying to guess the tail/head of /m/02vr3gz /film/film/language /m/06nm1\n\nElapsed (s) = 0\n"
    }
   ],
   "source": [
    "predictor.prediction()"
   ]
  },
  {
   "cell_type": "code",
   "execution_count": null,
   "metadata": {},
   "outputs": [],
   "source": []
  }
 ]
}