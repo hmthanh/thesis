{
 "metadata": {
  "language_info": {
   "codemirror_mode": {
    "name": "ipython",
    "version": 3
   },
   "file_extension": ".py",
   "mimetype": "text/x-python",
   "name": "python",
   "nbconvert_exporter": "python",
   "pygments_lexer": "ipython3",
   "version": "3.7.3-final"
  },
  "orig_nbformat": 2,
  "kernelspec": {
   "name": "python3",
   "display_name": "Python 3"
  }
 },
 "nbformat": 4,
 "nbformat_minor": 2,
 "cells": [
  {
   "cell_type": "code",
   "execution_count": 1,
   "metadata": {},
   "outputs": [],
   "source": [
    "from apply import Apply\n",
    "# 'output/alpha-100'\n",
    "predictor = Apply('output/alpha-100', '../../datasets/WN18/train.txt', '../../datasets/WN18/test.txt', '../../datasets/WN18/valid.txt')"
   ]
  },
  {
   "cell_type": "code",
   "execution_count": 2,
   "metadata": {
    "tags": []
   },
   "outputs": [
    {
     "output_type": "stream",
     "name": "stdout",
     "text": "* indexed 100000 triples\n* set up index for 18 relations, 40504 head entities, and 40551 tail entities\n* set up index for 18 relations, 4349 head entities, and 4263 tail entities\n* set up index for 18 relations, 4262 head entities, and 4338 tail entities\n* applying rules\n* set up index structure covering rules for 18 different relations\n* constructed filter set with 151442 triples\n* (# 0 ) trying to guess the tail/head of 06845599 _member_of_domain_usage 03754979\nElapsed (s) = 0.0\n* (# 50 ) trying to guess the tail/head of 01194418 _hypernym 02492198\nElapsed (s) = 0.008\n* (# 100 ) trying to guess the tail/head of 00802946 _derivationally_related_form 01141841\nElapsed (s) = 0.014\n* (# 150 ) trying to guess the tail/head of 13112664 _hyponym 12677841\nElapsed (s) = 0.02\n* (# 200 ) trying to guess the tail/head of 00940384 _hyponym 00903212\nElapsed (s) = 0.026\n* (# 250 ) trying to guess the tail/head of 01382273 _hypernym 01352059\nElapsed (s) = 0.032\n* (# 300 ) trying to guess the tail/head of 01589125 _member_meronym 01589286\nElapsed (s) = 0.039\n* (# 350 ) trying to guess the tail/head of 01944217 _member_holonym 01952162\nElapsed (s) = 0.045\n* (# 400 ) trying to guess the tail/head of 11534677 _hyponym 13140535\nElapsed (s) = 0.05\n* (# 450 ) trying to guess the tail/head of 13478525 _derivationally_related_form 00229280\nElapsed (s) = 0.056\n* (# 500 ) trying to guess the tail/head of 00670261 _hyponym 00726300\nElapsed (s) = 0.06\n* (# 550 ) trying to guess the tail/head of 12192373 _member_meronym 12193458\nElapsed (s) = 0.067\n* (# 600 ) trying to guess the tail/head of 11886380 _member_holonym 11867525\nElapsed (s) = 0.072\n* (# 650 ) trying to guess the tail/head of 00774056 _derivationally_related_form 09896826\nElapsed (s) = 0.078\n* (# 700 ) trying to guess the tail/head of 05296253 _part_of 05461816\nElapsed (s) = 0.086\n* (# 750 ) trying to guess the tail/head of 07889814 _synset_domain_region_of 08860123\nElapsed (s) = 0.092\n* (# 800 ) trying to guess the tail/head of 13576355 _hyponym 13777344\nElapsed (s) = 0.097\n* (# 850 ) trying to guess the tail/head of 08274923 _member_of_domain_topic 02397460\nElapsed (s) = 0.103\n* (# 900 ) trying to guess the tail/head of 01711297 _member_holonym 01710348\nElapsed (s) = 0.109\n* (# 950 ) trying to guess the tail/head of 06481320 _hyponym 06491786\nElapsed (s) = 0.114\n* (# 1000 ) trying to guess the tail/head of 10771270 _derivationally_related_form 01041415\nElapsed (s) = 0.12\n* (# 1050 ) trying to guess the tail/head of 01629589 _hypernym 01617192\nElapsed (s) = 0.125\n* (# 1100 ) trying to guess the tail/head of 00043765 _derivationally_related_form 02603699\nElapsed (s) = 0.13\n* (# 1150 ) trying to guess the tail/head of 04217882 _derivationally_related_form 01498319\nElapsed (s) = 0.135\n* (# 1200 ) trying to guess the tail/head of 05009170 _hyponym 05019661\nElapsed (s) = 0.14\n* (# 1250 ) trying to guess the tail/head of 10294602 _hyponym 10433452\nElapsed (s) = 0.145\n* (# 1300 ) trying to guess the tail/head of 01507175 _hyponym 01530256\nElapsed (s) = 0.15\n* (# 1350 ) trying to guess the tail/head of 00313987 _hypernym 00126264\nElapsed (s) = 0.155\n* (# 1400 ) trying to guess the tail/head of 08510666 _hyponym 08629508\nElapsed (s) = 0.16\n* (# 1450 ) trying to guess the tail/head of 10014939 _derivationally_related_form 02443049\nElapsed (s) = 0.165\n* (# 1500 ) trying to guess the tail/head of 08945821 _instance_hypernym 08698379\nElapsed (s) = 0.171\n* (# 1550 ) trying to guess the tail/head of 01193099 _derivationally_related_form 00759186\nElapsed (s) = 0.178\n* (# 1600 ) trying to guess the tail/head of 01225562 _derivationally_related_form 00011551\nElapsed (s) = 0.184\n* (# 1650 ) trying to guess the tail/head of 01800195 _hypernym 01799302\nElapsed (s) = 0.19\n* (# 1700 ) trying to guess the tail/head of 01105639 _hyponym 01106670\nElapsed (s) = 0.195\n* (# 1750 ) trying to guess the tail/head of 00836236 _derivationally_related_form 10685853\nElapsed (s) = 0.2\n* (# 1800 ) trying to guess the tail/head of 15068436 _hypernym 14818238\nElapsed (s) = 0.206\n* (# 1850 ) trying to guess the tail/head of 03534776 _hypernym 04517823\nElapsed (s) = 0.211\n* (# 1900 ) trying to guess the tail/head of 07781319 _part_of 02624551\nElapsed (s) = 0.216\n* (# 1950 ) trying to guess the tail/head of 02927399 _hypernym 03892891\nElapsed (s) = 0.222\n* (# 2000 ) trying to guess the tail/head of 01504437 _hyponym 01550429\nElapsed (s) = 0.226\n* (# 2050 ) trying to guess the tail/head of 01835496 _derivationally_related_form 02994448\nElapsed (s) = 0.231\n* (# 2100 ) trying to guess the tail/head of 01941670 _member_meronym 01952162\nElapsed (s) = 0.238\n* (# 2150 ) trying to guess the tail/head of 13651218 _hypernym 13603305\nElapsed (s) = 0.242\n* (# 2200 ) trying to guess the tail/head of 00044353 _derivationally_related_form 05792010\nElapsed (s) = 0.247\n* (# 2250 ) trying to guess the tail/head of 13100156 _hyponym 12766595\nElapsed (s) = 0.252\n* (# 2300 ) trying to guess the tail/head of 00021939 _hyponym 03573282\nElapsed (s) = 0.258\n* (# 2350 ) trying to guess the tail/head of 02431320 _derivationally_related_form 07331400\nElapsed (s) = 0.265\n* (# 2400 ) trying to guess the tail/head of 06136258 _member_of_domain_topic 00729642\nElapsed (s) = 0.272\n* (# 2450 ) trying to guess the tail/head of 12812665 _hypernym 11579418\nElapsed (s) = 0.279\n* (# 2500 ) trying to guess the tail/head of 01447868 _also_see 01675780\nElapsed (s) = 0.285\n* (# 2550 ) trying to guess the tail/head of 02467003 _verb_group 02467203\nElapsed (s) = 0.291\n* (# 2600 ) trying to guess the tail/head of 01407904 _synset_domain_topic_of 00464894\nElapsed (s) = 0.297\n* (# 2650 ) trying to guess the tail/head of 11322178 _instance_hypernym 10599806\nElapsed (s) = 0.303\n* (# 2700 ) trying to guess the tail/head of 02446352 _hypernym 02445715\nElapsed (s) = 0.309\n* (# 2750 ) trying to guess the tail/head of 08889191 _part_of 08888676\nElapsed (s) = 0.314\n* (# 2800 ) trying to guess the tail/head of 06149484 _member_of_domain_topic 14444326\nElapsed (s) = 0.321\n* (# 2850 ) trying to guess the tail/head of 10547145 _instance_hyponym 10938363\nElapsed (s) = 0.326\n* (# 2900 ) trying to guess the tail/head of 02104882 _hypernym 02104523\nElapsed (s) = 0.333\n* (# 2950 ) trying to guess the tail/head of 00028651 _has_part 00027167\nElapsed (s) = 0.339\n* (# 3000 ) trying to guess the tail/head of 10745332 _hypernym 09863238\nElapsed (s) = 0.346\n* (# 3050 ) trying to guess the tail/head of 02711835 _derivationally_related_form 03390983\nElapsed (s) = 0.353\n* (# 3100 ) trying to guess the tail/head of 15006258 _hyponym 14872875\nElapsed (s) = 0.36\n* (# 3150 ) trying to guess the tail/head of 12118414 _hypernym 12135898\nElapsed (s) = 0.365\n* (# 3200 ) trying to guess the tail/head of 11860801 _hypernym 11573660\nElapsed (s) = 0.371\n* (# 3250 ) trying to guess the tail/head of 03879116 _derivationally_related_form 02749768\nElapsed (s) = 0.377\n* (# 3300 ) trying to guess the tail/head of 08889191 _instance_hypernym 08691669\nElapsed (s) = 0.382\n* (# 3350 ) trying to guess the tail/head of 07134850 _derivationally_related_form 01038666\nElapsed (s) = 0.389\n* (# 3400 ) trying to guess the tail/head of 03804744 _derivationally_related_form 01357831\nElapsed (s) = 0.395\n* (# 3450 ) trying to guess the tail/head of 06054700 _member_of_domain_topic 05300675\nElapsed (s) = 0.401\n* (# 3500 ) trying to guess the tail/head of 01507175 _hyponym 02009015\nElapsed (s) = 0.407\n* (# 3550 ) trying to guess the tail/head of 07401726 _derivationally_related_form 01879251\nElapsed (s) = 0.413\n* (# 3600 ) trying to guess the tail/head of 01021420 _hyponym 00763399\nElapsed (s) = 0.419\n* (# 3650 ) trying to guess the tail/head of 09433952 _hypernym 09190918\nElapsed (s) = 0.425\n* (# 3700 ) trying to guess the tail/head of 11567411 _hyponym 12395717\nElapsed (s) = 0.432\n* (# 3750 ) trying to guess the tail/head of 00735832 _derivationally_related_form 02292535\nElapsed (s) = 0.439\n* (# 3800 ) trying to guess the tail/head of 01081001 _hypernym 01079480\nElapsed (s) = 0.445\n* (# 3850 ) trying to guess the tail/head of 15078050 _hyponym 14806333\nElapsed (s) = 0.452\n* (# 3900 ) trying to guess the tail/head of 15298011 _synset_domain_topic_of 06128570\nElapsed (s) = 0.459\n* (# 3950 ) trying to guess the tail/head of 01352574 _hyponym 01356888\nElapsed (s) = 0.466\n* (# 4000 ) trying to guess the tail/head of 12701901 _hypernym 11585340\nElapsed (s) = 0.472\n* (# 4050 ) trying to guess the tail/head of 00006802 _hypernym 00007012\nElapsed (s) = 0.479\n* (# 4100 ) trying to guess the tail/head of 08199025 _member_of_domain_topic 06804847\nElapsed (s) = 0.484\n* (# 4150 ) trying to guess the tail/head of 10835022 _instance_hypernym 10030277\nElapsed (s) = 0.49\n* (# 4200 ) trying to guess the tail/head of 10325243 _derivationally_related_form 00475819\nElapsed (s) = 0.497\n* (# 4250 ) trying to guess the tail/head of 11418460 _derivationally_related_form 01468097\nElapsed (s) = 0.503\n* (# 4300 ) trying to guess the tail/head of 08359949 _hypernym 08189659\nElapsed (s) = 0.509\n* (# 4350 ) trying to guess the tail/head of 00181258 _derivationally_related_form 11683556\nElapsed (s) = 0.514\n* (# 4400 ) trying to guess the tail/head of 00431117 _derivationally_related_form 00357906\nElapsed (s) = 0.521\n* (# 4450 ) trying to guess the tail/head of 07229530 _derivationally_related_form 00883226\nElapsed (s) = 0.527\n* (# 4500 ) trying to guess the tail/head of 02483564 _derivationally_related_form 13737480\nElapsed (s) = 0.534\n* (# 4550 ) trying to guess the tail/head of 01523656 _derivationally_related_form 01543731\nElapsed (s) = 0.54\n* (# 4600 ) trying to guess the tail/head of 00289175 _hypernym 00288970\nElapsed (s) = 0.546\n* (# 4650 ) trying to guess the tail/head of 02409412 _derivationally_related_form 10054657\nElapsed (s) = 0.552\n* (# 4700 ) trying to guess the tail/head of 08227214 _hypernym 08049401\nElapsed (s) = 0.558\n* (# 4750 ) trying to guess the tail/head of 13945102 _derivationally_related_form 01096497\nElapsed (s) = 0.564\n* (# 4800 ) trying to guess the tail/head of 02116777 _verb_group 02116568\nElapsed (s) = 0.57\n* (# 4850 ) trying to guess the tail/head of 01437805 _member_meronym 01444520\nElapsed (s) = 0.577\n* (# 4900 ) trying to guess the tail/head of 06808720 _hyponym 06811625\nElapsed (s) = 0.582\n* (# 4950 ) trying to guess the tail/head of 12002428 _member_holonym 12002197\nElapsed (s) = 0.587\n"
    }
   ],
   "source": [
    "predictor.prediction()"
   ]
  },
  {
   "cell_type": "code",
   "execution_count": 3,
   "metadata": {},
   "outputs": [
    {
     "output_type": "execute_result",
     "data": {
      "text/plain": "{'config_file': 'config-eval.properties', 'path_training': '../output/'}"
     },
     "metadata": {},
     "execution_count": 3
    }
   ],
   "source": [
    "from config.config_yaml import Config\n",
    "cfg = Config()\n",
    "cfg.load_eval_config()"
   ]
  },
  {
   "cell_type": "code",
   "execution_count": null,
   "metadata": {},
   "outputs": [],
   "source": []
  }
 ]
}