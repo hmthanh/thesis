{
 "metadata": {
  "language_info": {
   "codemirror_mode": {
    "name": "ipython",
    "version": 3
   },
   "file_extension": ".py",
   "mimetype": "text/x-python",
   "name": "python",
   "nbconvert_exporter": "python",
   "pygments_lexer": "ipython3",
   "version": "3.7.3-final"
  },
  "orig_nbformat": 2,
  "kernelspec": {
   "name": "python3",
   "display_name": "Python 3"
  }
 },
 "nbformat": 4,
 "nbformat_minor": 2,
 "cells": [
  {
   "cell_type": "code",
   "execution_count": 1,
   "metadata": {},
   "outputs": [],
   "source": [
    "from learning import Learning\n",
    "\n",
    "learner = Learning()"
   ]
  },
  {
   "cell_type": "code",
   "execution_count": 2,
   "metadata": {
    "tags": []
   },
   "outputs": [
    {
     "output_type": "stream",
     "name": "stdout",
     "text": "* indexed 100000 triples\n* set up index for 18 relations, 40504 head entities, and 40551 tail entities\n=====> batch [ACYCLIC 1] 1 (sampled 259 pathes) *****\n=====> fraction of previously seen rules within useful rules in this batch: 0.8115942028985508 num of new rule = 91 num of previously rule = 392 num of all batch rules = 483\n=====> stored rules: 91\n=====> batch [CYCLIC 1] 2 (sampled 3384 pathes) *****\n=====> fraction of previously seen rules within useful rules in this batch: 0.9916666666666667 num of new rule = 12 num of previously rule = 1428 num of all batch rules = 1440\n=====> stored rules: 103\n=========================================================\n=====> increasing rule size of CYCLIC rule to 2\n=====> batch [ACYCLIC 1] 3 (sampled 3733 pathes) *****\n=====> fraction of previously seen rules within useful rules in this batch: 0.8525121555915721 num of new rule = 91 num of previously rule = 526 num of all batch rules = 617\n=====> stored rules: 194\n=====> batch [CYCLIC 2] 4 (sampled 4253 pathes) *****\n=====> fraction of previously seen rules within useful rules in this batch: 0.2 num of new rule = 12 num of previously rule = 3 num of all batch rules = 15\n=====> stored rules: 12\n=====> batch [ACYCLIC 1] 5 (sampled 4580 pathes) *****\n=====> fraction of previously seen rules within useful rules in this batch: 0.8274111675126904 num of new rule = 102 num of previously rule = 489 num of all batch rules = 591\n=====> stored rules: 296\n=====> batch [CYCLIC 2] 6 (sampled 5064 pathes) *****\n=====> fraction of previously seen rules within useful rules in this batch: 0.3076923076923077 num of new rule = 9 num of previously rule = 4 num of all batch rules = 13\n=====> stored rules: 21\n=====> batch [ACYCLIC 1] 7 (sampled 5412 pathes) *****\n=====> fraction of previously seen rules within useful rules in this batch: 0.8515151515151516 num of new rule = 98 num of previously rule = 562 num of all batch rules = 660\n=====> stored rules: 394\n=====> batch [CYCLIC 2] 8 (sampled 5713 pathes) *****\n=====> fraction of previously seen rules within useful rules in this batch: 0.0 num of new rule = 11 num of previously rule = 0 num of all batch rules = 11\n=====> stored rules: 32\n=====> batch [ACYCLIC 1] 9 (sampled 6107 pathes) *****\n=====> fraction of previously seen rules within useful rules in this batch: 0.8535211267605634 num of new rule = 104 num of previously rule = 606 num of all batch rules = 710\n=====> stored rules: 498\n=====> batch [CYCLIC 2] 10 (sampled 6660 pathes) *****\n=====> fraction of previously seen rules within useful rules in this batch: 0.3157894736842105 num of new rule = 13 num of previously rule = 6 num of all batch rules = 19\n=====> stored rules: 45\n=====> batch [ACYCLIC 1] 11 (sampled 7000 pathes) *****\n=====> fraction of previously seen rules within useful rules in this batch: 0.8763866877971473 num of new rule = 78 num of previously rule = 553 num of all batch rules = 631\n=====> stored rules: 576\ncreated snapshot 1 after 11 seconds\n=====> batch [CYCLIC 2] 12 (sampled 7984 pathes) *****\n=====> fraction of previously seen rules within useful rules in this batch: 0.43333333333333335 num of new rule = 17 num of previously rule = 13 num of all batch rules = 30\n=====> stored rules: 62\n=====> batch [ACYCLIC 1] 13 (sampled 8386 pathes) *****\n=====> fraction of previously seen rules within useful rules in this batch: 0.8490813648293963 num of new rule = 115 num of previously rule = 647 num of all batch rules = 762\n=====> stored rules: 691\n=====> batch [CYCLIC 2] 14 (sampled 8712 pathes) *****\n=====> fraction of previously seen rules within useful rules in this batch: 0.375 num of new rule = 5 num of previously rule = 3 num of all batch rules = 8\n=====> stored rules: 67\n=====> batch [ACYCLIC 1] 15 (sampled 9093 pathes) *****\n=====> fraction of previously seen rules within useful rules in this batch: 0.8426812585499316 num of new rule = 115 num of previously rule = 616 num of all batch rules = 731\n=====> stored rules: 806\n=====> batch [CYCLIC 2] 16 (sampled 9759 pathes) *****\n=====> fraction of previously seen rules within useful rules in this batch: 0.17647058823529413 num of new rule = 14 num of previously rule = 3 num of all batch rules = 17\n=====> stored rules: 81\n=====> batch [ACYCLIC 1] 17 (sampled 10125 pathes) *****\n=====> fraction of previously seen rules within useful rules in this batch: 0.8498542274052479 num of new rule = 103 num of previously rule = 583 num of all batch rules = 686\n=====> stored rules: 909\n=====> batch [CYCLIC 2] 18 (sampled 10598 pathes) *****\n=====> fraction of previously seen rules within useful rules in this batch: 0.46153846153846156 num of new rule = 7 num of previously rule = 6 num of all batch rules = 13\n=====> stored rules: 88\n=====> batch [ACYCLIC 1] 19 (sampled 10991 pathes) *****\n=====> fraction of previously seen rules within useful rules in this batch: 0.8519040902679831 num of new rule = 105 num of previously rule = 604 num of all batch rules = 709\n=====> stored rules: 1014\n=====> batch [CYCLIC 2] 20 (sampled 11503 pathes) *****\n=====> fraction of previously seen rules within useful rules in this batch: 0.5 num of new rule = 6 num of previously rule = 6 num of all batch rules = 12\n=====> stored rules: 94\n=====> batch [ACYCLIC 1] 21 (sampled 11855 pathes) *****\n=====> fraction of previously seen rules within useful rules in this batch: 0.8291233283803864 num of new rule = 115 num of previously rule = 558 num of all batch rules = 673\n=====> stored rules: 1129\n=====> batch [CYCLIC 2] 22 (sampled 12175 pathes) *****\n=====> fraction of previously seen rules within useful rules in this batch: 0.4 num of new rule = 9 num of previously rule = 6 num of all batch rules = 15\n=====> stored rules: 103\n=====> batch [ACYCLIC 1] 23 (sampled 12546 pathes) *****\n=====> fraction of previously seen rules within useful rules in this batch: 0.8486646884272997 num of new rule = 102 num of previously rule = 572 num of all batch rules = 674\n=====> stored rules: 1231\n=====> batch [CYCLIC 2] 24 (sampled 13270 pathes) *****\n=====> fraction of previously seen rules within useful rules in this batch: 0.5454545454545454 num of new rule = 10 num of previously rule = 12 num of all batch rules = 22\n=====> stored rules: 113\n=====> batch [ACYCLIC 1] 25 (sampled 13642 pathes) *****\n=====> fraction of previously seen rules within useful rules in this batch: 0.8552238805970149 num of new rule = 97 num of previously rule = 573 num of all batch rules = 670\n=====> stored rules: 1328\n=====> batch [CYCLIC 2] 26 (sampled 14149 pathes) *****\n=====> fraction of previously seen rules within useful rules in this batch: 0.6 num of new rule = 6 num of previously rule = 9 num of all batch rules = 15\n=====> stored rules: 119\n=====> batch [ACYCLIC 1] 27 (sampled 14533 pathes) *****\n=====> fraction of previously seen rules within useful rules in this batch: 0.8528571428571429 num of new rule = 103 num of previously rule = 597 num of all batch rules = 700\n=====> stored rules: 1431\n=====> batch [CYCLIC 2] 28 (sampled 15259 pathes) *****\n=====> fraction of previously seen rules within useful rules in this batch: 0.625 num of new rule = 9 num of previously rule = 15 num of all batch rules = 24\n=====> stored rules: 128\n=====> batch [ACYCLIC 1] 29 (sampled 15649 pathes) *****\n=====> fraction of previously seen rules within useful rules in this batch: 0.8770053475935828 num of new rule = 92 num of previously rule = 656 num of all batch rules = 748\n=====> stored rules: 1523\n=====> batch [CYCLIC 2] 30 (sampled 16191 pathes) *****\n=====> fraction of previously seen rules within useful rules in this batch: 0.6 num of new rule = 8 num of previously rule = 12 num of all batch rules = 20\n=====> stored rules: 136\n=====> batch [ACYCLIC 1] 31 (sampled 16602 pathes) *****\n=====> fraction of previously seen rules within useful rules in this batch: 0.849802371541502 num of new rule = 114 num of previously rule = 645 num of all batch rules = 759\n=====> stored rules: 1637\n=====> batch [CYCLIC 2] 32 (sampled 17103 pathes) *****\n=====> fraction of previously seen rules within useful rules in this batch: 0.5909090909090909 num of new rule = 9 num of previously rule = 13 num of all batch rules = 22\n=====> stored rules: 145\n=====> batch [ACYCLIC 1] 33 (sampled 17432 pathes) *****\n=====> fraction of previously seen rules within useful rules in this batch: 0.867003367003367 num of new rule = 79 num of previously rule = 515 num of all batch rules = 594\n=====> stored rules: 1716\n=====> batch [CYCLIC 2] 34 (sampled 17663 pathes) *****\n=====> fraction of previously seen rules within useful rules in this batch: 0.4166666666666667 num of new rule = 7 num of previously rule = 5 num of all batch rules = 12\n=====> stored rules: 152\n=====> batch [ACYCLIC 1] 35 (sampled 17985 pathes) *****\n=====> fraction of previously seen rules within useful rules in this batch: 0.8578595317725752 num of new rule = 85 num of previously rule = 513 num of all batch rules = 598\n=====> stored rules: 1801\n"
    }
   ],
   "source": [
    "learner.train()"
   ]
  },
  {
   "cell_type": "code",
   "execution_count": 1,
   "metadata": {},
   "outputs": [],
   "source": [
    "from predict import Predict\n",
    "\n",
    "predictior = Predict()"
   ]
  },
  {
   "cell_type": "code",
   "execution_count": 2,
   "metadata": {
    "tags": []
   },
   "outputs": [
    {
     "output_type": "stream",
     "name": "stdout",
     "text": "* indexed 100000 triples\n* set up index for 18 relations, 40504 head entities, and 40551 tail entities\n* set up index for 18 relations, 4349 head entities, and 4263 tail entities\n* set up index for 18 relations, 4262 head entities, and 4338 tail entities\nstep 0 parsing line 500\t2\t0.004\t_hyponym(01557774,Y) <= _derivationally_related_form(Y,A)\nstep 1000 parsing line 3\t3\t1.0\t_derivationally_related_form(X,13887509) <= _derivationally_related_form(13887509,X)\nstep 2000 parsing line 64\t2\t0.03125\t_hyponym(01264283,Y) <= _synset_domain_topic_of(Y,00243918)\nstep 3000 parsing line 410\t2\t0.004878048780487805\t_instance_hypernym(08856037,Y) <= _instance_hyponym(Y,A)\nstep 4000 parsing line 2\t2\t1.0\t_derivationally_related_form(X,04047401) <= _derivationally_related_form(04046590,X)\nstep 5000 parsing line 500\t2\t0.004\t_hypernym(X,05009170) <= _hyponym(X,A)\nstep 6000 parsing line 139\t4\t0.02877697841726619\t_member_meronym(02236495,Y) <= _hypernym(Y,01759182)\nstep 7000 parsing line 139\t2\t0.014388489208633094\t_member_meronym(02252039,Y) <= _hyponym(01759182,Y)\nstep 8000 parsing line 3\t2\t0.6666666666666666\t_hypernym(X,00752764) <= _derivationally_related_form(07187996,X)\nstep 9000 parsing line 2\t2\t1.0\t_derivationally_related_form(02713372,Y) <= _derivationally_related_form(Y,02713372)\nstep 10000 parsing line 2\t2\t1.0\t_derivationally_related_form(07003119,Y) <= _derivationally_related_form(Y,07003119)\nstep 11000 parsing line 2\t2\t1.0\t_instance_hypernym(11402463,Y) <= _instance_hyponym(Y,11402463)\nstep 12000 parsing line 2\t2\t1.0\t_instance_hyponym(06394865,Y) <= _part_of(Y,06457952)\nstep 13000 parsing line 3\t2\t0.6666666666666666\t_derivationally_related_form(X,00474492) <= _derivationally_related_form(00474762,X)\nstep 14000 parsing line 4\t4\t1.0\t_derivationally_related_form(X,02116118) <= _derivationally_related_form(02116118,X)\nstep 15000 parsing line 3\t3\t1.0\t_part_of(X,15231964) <= _has_part(15231964,X)\nstep 16000 parsing line 8\t6\t0.75\t_synset_domain_topic_of(X,00503237) <= _member_of_domain_topic(00503237,X)\nstep 17000 parsing line 2\t2\t1.0\t_derivationally_related_form(X,00230324) <= _derivationally_related_form(00230324,X)\nstep 18000 parsing line 9\t2\t0.2222222222222222\t_instance_hyponym(10123844,Y) <= _instance_hypernym(Y,09826204)\nstep 19000 parsing line 2\t2\t1.0\t_hypernym(X,01556921) <= _derivationally_related_form(00391086,X)\nstep 20000 parsing line 500\t2\t0.004\t_has_part(X,09482916) <= _has_part(X,A)\nstep 21000 parsing line 2\t2\t1.0\t_hyponym(00021265,Y) <= _hyponym(Y,07936263)\nstep 22000 parsing line 3\t3\t1.0\t_part_of(X,08921850) <= _part_of(X,08921392)\nstep 23000 parsing line 500\t2\t0.004\t_derivationally_related_form(04714440,Y) <= _also_see(A,Y)\nstep 24000 parsing line 48\t3\t0.0625\t_part_of(X,09117351) <= _instance_hypernym(X,09403734)\nstep 25000 parsing line 23\t5\t0.21739130434782608\t_derivationally_related_form(00284101,Y) <= _hyponym(01904930,Y)\nstep 26000 parsing line 2\t2\t1.0\t_hyponym(10593745,Y) <= _hypernym(Y,10593745)\nstep 27000 parsing line 2\t2\t1.0\t_derivationally_related_form(X,00875141) <= _derivationally_related_form(00875141,X)\nstep 28000 parsing line 3\t3\t1.0\t_hyponym(01153548,Y) <= _hypernym(Y,01153548)\nstep 29000 parsing line 500\t3\t0.006\t_hypernym(X,11561228) <= _member_meronym(X,A)\nstep 30000 parsing line 5\t5\t1.0\t_hyponym(01726692,Y) <= _hypernym(Y,01726692)\nstep 31000 parsing line 2\t2\t1.0\t_hyponym(X,14661274) <= _hypernym(14652104,X)\nstep 32000 parsing line 500\t3\t0.006\t_also_see(02056880,Y) <= _also_see(A,Y)\nstep 33000 parsing line 4\t2\t0.5\t_hypernym(X,00888786) <= _derivationally_related_form(15274863,X)\nstep 34000 parsing line 2\t2\t1.0\t_hypernym(X,09483738) <= _hypernym(09492123,X)\nstep 35000 parsing line 2\t2\t1.0\t_hypernym(X,02803349) <= _hyponym(02803349,X)\nstep 36000 parsing line 410\t2\t0.004878048780487805\t_instance_hypernym(11380768,Y) <= _instance_hyponym(Y,A)\nstep 37000 parsing line 2\t2\t1.0\t_derivationally_related_form(14066492,Y) <= _hyponym(00065639,Y)\nstep 38000 parsing line 2\t2\t1.0\t_member_meronym(02530294,Y) <= _member_holonym(Y,02530294)\nstep 39000 parsing line 3\t3\t1.0\t_member_holonym(X,01640567) <= _member_meronym(01640567,X)\nstep 40000 parsing line 5\t5\t1.0\t_hyponym(00035758,Y) <= _hypernym(Y,00035758)\nstep 41000 parsing line 4\t4\t1.0\t_derivationally_related_form(X,01063697) <= _derivationally_related_form(01063697,X)\nstep 42000 parsing line 3\t3\t1.0\t_has_part(X,03547658) <= _part_of(03547658,X)\nstep 43000 parsing line 16\t15\t0.9375\t_hypernym(X,01657723) <= _member_meronym(01726960,X)\nstep 44000 parsing line 6\t6\t1.0\t_hyponym(07193958,Y) <= _hypernym(Y,07193958)\nstep 45000 parsing line 2\t2\t1.0\t_has_part(X,09477567) <= _part_of(09477567,X)\nstep 46000 parsing line 3\t3\t1.0\t_derivationally_related_form(09780828,Y) <= _derivationally_related_form(09941571,Y)\nstep 47000 parsing line 345\t73\t0.21159420289855072\t_derivationally_related_form(X,Y) <= _verb_group(Y,A), _verb_group(B,A), _derivationally_related_form(B,X)\nstep 48000 parsing line 243\t72\t0.2962962962962963\t_instance_hypernym(X,Y) <= _instance_hyponym(Y,A), _member_holonym(A,B), _member_holonym(X,B)\n*** read rules 48227 rom file learning_rules/alpha-100\n* applying rules\n* set up index structure covering rules for 18 different relations\n* constructed filter set with 151442 triples\n* (# 0 ) trying to guess the tail/head of 06845599 _member_of_domain_usage 03754979\nElapsed (s) = 0\n* (# 100 ) trying to guess the tail/head of 00802946 _derivationally_related_form 01141841\nElapsed (s) = 76\n"
    }
   ],
   "source": [
    "predictior.prediction()"
   ]
  },
  {
   "cell_type": "code",
   "execution_count": 1,
   "metadata": {},
   "outputs": [
    {
     "output_type": "execute_result",
     "data": {
      "text/plain": "{'path_rules': ['learning_rules/alpha-100'],\n 'path_training': '../../datasets/WN18/train.txt',\n 'path_valid': '../../datasets/WN18/valid.txt',\n 'path_test': '../../datasets/WN18/test.txt',\n 'unseen_nagative_examples': 5,\n 'top_k_output': 10,\n 'threshold_confidence_predictions': 2,\n 'threshold_confidence': 1e-05}"
     },
     "metadata": {},
     "execution_count": 1
    }
   ],
   "source": [
    "from config.config_yaml import Config\n",
    "\n",
    "Config.load_predict_config()"
   ]
  },
  {
   "cell_type": "code",
   "execution_count": 3,
   "metadata": {},
   "outputs": [
    {
     "output_type": "execute_result",
     "data": {
      "text/plain": "{'path_training': '../../datasets/WN18/train.txt',\n 'path_valid': '../../datasets/WN18/valid.txt',\n 'path_test': '../../datasets/WN18/test.txt',\n 'path_prediction': 'predictions/alpha-100'}"
     },
     "metadata": {},
     "execution_count": 3
    }
   ],
   "source": [
    "from config.config_yaml import Config\n",
    "\n",
    "Config.load_eval_config()"
   ]
  },
  {
   "cell_type": "code",
   "execution_count": 4,
   "metadata": {},
   "outputs": [
    {
     "output_type": "execute_result",
     "data": {
      "text/plain": "{'path_training': '../../datasets/WN18/train.txt',\n 'path_output': '../../datasets/WN18/valid.txt',\n 'snapshots_at': [10, 50, 100],\n 'saturation': 0.99,\n 'sample_size': 500,\n 'batch_time': 1000,\n 'threshold_correct_predictions': 2,\n 'threshold_confidence': 1e-05,\n 'max_length_cylic': 3,\n 'max_length_acylic': 2,\n 'discrimination_bound': 1000,\n 'trial_size': 100000}"
     },
     "metadata": {},
     "execution_count": 4
    }
   ],
   "source": [
    "Config.load_learning_config()"
   ]
  },
  {
   "cell_type": "code",
   "execution_count": 1,
   "metadata": {
    "tags": []
   },
   "outputs": [
    {
     "output_type": "stream",
     "name": "stdout",
     "text": "* indexed 100000 triples\n* set up index for 18 relations, 40504 head entities, and 40551 tail entities\n* set up index for 18 relations, 4262 head entities, and 4338 tail entities\n* set up index for 18 relations, 4349 head entities, and 4263 tail entities\n"
    }
   ],
   "source": [
    "from evaluation import Evaluation\n",
    "eval = Evaluation()"
   ]
  },
  {
   "cell_type": "code",
   "execution_count": 2,
   "metadata": {
    "tags": []
   },
   "outputs": [
    {
     "output_type": "stream",
     "name": "stdout",
     "text": "hits@1   hits@3    hits@10\n0.9463\t0.9535\t0.9592\n"
    }
   ],
   "source": [
    "eval.eval()"
   ]
  },
  {
   "cell_type": "code",
   "execution_count": null,
   "metadata": {},
   "outputs": [],
   "source": []
  }
 ]
}