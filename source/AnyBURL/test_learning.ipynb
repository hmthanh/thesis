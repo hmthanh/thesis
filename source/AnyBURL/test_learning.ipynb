{
 "metadata": {
  "language_info": {
   "codemirror_mode": {
    "name": "ipython",
    "version": 3
   },
   "file_extension": ".py",
   "mimetype": "text/x-python",
   "name": "python",
   "nbconvert_exporter": "python",
   "pygments_lexer": "ipython3",
   "version": "3.7.3-final"
  },
  "orig_nbformat": 2,
  "kernelspec": {
   "name": "python3",
   "display_name": "Python 3"
  }
 },
 "nbformat": 4,
 "nbformat_minor": 2,
 "cells": [
  {
   "cell_type": "code",
   "execution_count": 1,
   "metadata": {},
   "outputs": [],
   "source": [
    "from learning import Learning\n",
    "\n",
    "learner = Learning()"
   ]
  },
  {
   "cell_type": "code",
   "execution_count": 2,
   "metadata": {
    "tags": [
     "outputPrepend"
    ]
   },
   "outputs": [
    {
     "output_type": "stream",
     "name": "stdout",
     "text": "0 pathes) *****\n=====> fraction of previously seen rules within useful rules in this batch: 0.9264705882352942 num of new rule = 5 num of previously rule = 63 num of all batch rules = 68\n=====> stored rules: 794\n=====> batch [ACYCLIC 1] 415 (sampled 322561 pathes) *****\n=====> fraction of previously seen rules within useful rules in this batch: 0.8345323741007195 num of new rule = 23 num of previously rule = 116 num of all batch rules = 139\n=====> stored rules: 3688\n=====> batch [CYCLIC 3] 416 (sampled 323872 pathes) *****\n=====> fraction of previously seen rules within useful rules in this batch: 0.9661016949152542 num of new rule = 2 num of previously rule = 57 num of all batch rules = 59\n=====> stored rules: 796\n=====> batch [ACYCLIC 1] 417 (sampled 323959 pathes) *****\n=====> fraction of previously seen rules within useful rules in this batch: 0.9006211180124224 num of new rule = 16 num of previously rule = 145 num of all batch rules = 161\n=====> stored rules: 3704\n=====> batch [CYCLIC 3] 418 (sampled 325329 pathes) *****\n=====> fraction of previously seen rules within useful rules in this batch: 0.8571428571428571 num of new rule = 9 num of previously rule = 54 num of all batch rules = 63\n=====> stored rules: 805\n=====> batch [ACYCLIC 1] 419 (sampled 325411 pathes) *****\n=====> fraction of previously seen rules within useful rules in this batch: 0.8766233766233766 num of new rule = 19 num of previously rule = 135 num of all batch rules = 154\n=====> stored rules: 3723\n=====> batch [CYCLIC 3] 420 (sampled 326964 pathes) *****\n=====> fraction of previously seen rules within useful rules in this batch: 0.8923076923076924 num of new rule = 7 num of previously rule = 58 num of all batch rules = 65\n=====> stored rules: 812\n=====> batch [ACYCLIC 1] 421 (sampled 327056 pathes) *****\n=====> fraction of previously seen rules within useful rules in this batch: 0.875 num of new rule = 22 num of previously rule = 154 num of all batch rules = 176\n=====> stored rules: 3745\n=====> batch [CYCLIC 3] 422 (sampled 328519 pathes) *****\n=====> fraction of previously seen rules within useful rules in this batch: 0.8970588235294118 num of new rule = 7 num of previously rule = 61 num of all batch rules = 68\n=====> stored rules: 819\n=====> batch [ACYCLIC 1] 423 (sampled 328601 pathes) *****\n=====> fraction of previously seen rules within useful rules in this batch: 0.8671328671328671 num of new rule = 19 num of previously rule = 124 num of all batch rules = 143\n=====> stored rules: 3764\n=====> batch [CYCLIC 3] 424 (sampled 329249 pathes) *****\n=====> fraction of previously seen rules within useful rules in this batch: 0.8181818181818182 num of new rule = 6 num of previously rule = 27 num of all batch rules = 33\n=====> stored rules: 825\n=====> batch [ACYCLIC 1] 425 (sampled 329319 pathes) *****\n=====> fraction of previously seen rules within useful rules in this batch: 0.9051094890510949 num of new rule = 13 num of previously rule = 124 num of all batch rules = 137\n=====> stored rules: 3777\n=====> batch [CYCLIC 3] 426 (sampled 330425 pathes) *****\n=====> fraction of previously seen rules within useful rules in this batch: 0.9565217391304348 num of new rule = 2 num of previously rule = 44 num of all batch rules = 46\n=====> stored rules: 827\n=====> batch [ACYCLIC 1] 427 (sampled 330506 pathes) *****\n=====> fraction of previously seen rules within useful rules in this batch: 0.906832298136646 num of new rule = 15 num of previously rule = 146 num of all batch rules = 161\n=====> stored rules: 3792\n=====> batch [CYCLIC 3] 428 (sampled 332203 pathes) *****\n=====> fraction of previously seen rules within useful rules in this batch: 0.9736842105263158 num of new rule = 2 num of previously rule = 74 num of all batch rules = 76\n=====> stored rules: 829\n=====> batch [ACYCLIC 1] 429 (sampled 332281 pathes) *****\n=====> fraction of previously seen rules within useful rules in this batch: 0.9295774647887324 num of new rule = 10 num of previously rule = 132 num of all batch rules = 142\n=====> stored rules: 3802\n=====> batch [CYCLIC 3] 430 (sampled 333493 pathes) *****\n=====> fraction of previously seen rules within useful rules in this batch: 0.9491525423728814 num of new rule = 3 num of previously rule = 56 num of all batch rules = 59\n=====> stored rules: 832\n=====> batch [ACYCLIC 1] 431 (sampled 333558 pathes) *****\n=====> fraction of previously seen rules within useful rules in this batch: 0.8879310344827587 num of new rule = 13 num of previously rule = 103 num of all batch rules = 116\n=====> stored rules: 3815\n=====> batch [CYCLIC 3] 432 (sampled 334640 pathes) *****\n=====> fraction of previously seen rules within useful rules in this batch: 0.9411764705882353 num of new rule = 3 num of previously rule = 48 num of all batch rules = 51\n=====> stored rules: 835\n=====> batch [ACYCLIC 1] 433 (sampled 334722 pathes) *****\n=====> fraction of previously seen rules within useful rules in this batch: 0.8633540372670807 num of new rule = 22 num of previously rule = 139 num of all batch rules = 161\n=====> stored rules: 3837\n=====> batch [CYCLIC 3] 434 (sampled 335845 pathes) *****\n=====> fraction of previously seen rules within useful rules in this batch: 0.8809523809523809 num of new rule = 5 num of previously rule = 37 num of all batch rules = 42\n=====> stored rules: 840\n=====> batch [ACYCLIC 1] 435 (sampled 335930 pathes) *****\n=====> fraction of previously seen rules within useful rules in this batch: 0.9 num of new rule = 16 num of previously rule = 144 num of all batch rules = 160\n=====> stored rules: 3853\n=====> batch [CYCLIC 3] 436 (sampled 337724 pathes) *****\n=====> fraction of previously seen rules within useful rules in this batch: 0.9041095890410958 num of new rule = 7 num of previously rule = 66 num of all batch rules = 73\n=====> stored rules: 847\n=====> batch [ACYCLIC 1] 437 (sampled 337792 pathes) *****\n=====> fraction of previously seen rules within useful rules in this batch: 0.8778625954198473 num of new rule = 16 num of previously rule = 115 num of all batch rules = 131\n=====> stored rules: 3869\n=====> batch [CYCLIC 3] 438 (sampled 338821 pathes) *****\n=====> fraction of previously seen rules within useful rules in this batch: 0.9565217391304348 num of new rule = 2 num of previously rule = 44 num of all batch rules = 46\n=====> stored rules: 849\n=====> batch [ACYCLIC 1] 439 (sampled 338895 pathes) *****\n=====> fraction of previously seen rules within useful rules in this batch: 0.9027777777777778 num of new rule = 14 num of previously rule = 130 num of all batch rules = 144\n=====> stored rules: 3883\n=====> batch [CYCLIC 3] 440 (sampled 340065 pathes) *****\n=====> fraction of previously seen rules within useful rules in this batch: 0.9736842105263158 num of new rule = 1 num of previously rule = 37 num of all batch rules = 38\n=====> stored rules: 850\n=====> batch [ACYCLIC 1] 441 (sampled 340131 pathes) *****\n=====> fraction of previously seen rules within useful rules in this batch: 0.8688524590163934 num of new rule = 16 num of previously rule = 106 num of all batch rules = 122\n=====> stored rules: 3899\n=====> batch [CYCLIC 3] 442 (sampled 340636 pathes) *****\n=====> fraction of previously seen rules within useful rules in this batch: 0.95 num of new rule = 1 num of previously rule = 19 num of all batch rules = 20\n=====> stored rules: 851\n=====> batch [ACYCLIC 1] 443 (sampled 340700 pathes) *****\n=====> fraction of previously seen rules within useful rules in this batch: 0.8440366972477065 num of new rule = 17 num of previously rule = 92 num of all batch rules = 109\n=====> stored rules: 3916\n=====> batch [CYCLIC 3] 444 (sampled 341793 pathes) *****\n=====> fraction of previously seen rules within useful rules in this batch: 0.8695652173913043 num of new rule = 6 num of previously rule = 40 num of all batch rules = 46\n=====> stored rules: 857\n=====> batch [ACYCLIC 1] 445 (sampled 341871 pathes) *****\n=====> fraction of previously seen rules within useful rules in this batch: 0.8571428571428571 num of new rule = 21 num of previously rule = 126 num of all batch rules = 147\n=====> stored rules: 3937\n=====> batch [CYCLIC 3] 446 (sampled 343138 pathes) *****\n=====> fraction of previously seen rules within useful rules in this batch: 0.875 num of new rule = 7 num of previously rule = 49 num of all batch rules = 56\n=====> stored rules: 864\n=====> batch [ACYCLIC 1] 447 (sampled 343216 pathes) *****\n=====> fraction of previously seen rules within useful rules in this batch: 0.9295774647887324 num of new rule = 10 num of previously rule = 132 num of all batch rules = 142\n=====> stored rules: 3947\n=====> batch [CYCLIC 3] 448 (sampled 344526 pathes) *****\n=====> fraction of previously seen rules within useful rules in this batch: 0.9444444444444444 num of new rule = 3 num of previously rule = 51 num of all batch rules = 54\n=====> stored rules: 867\n=====> batch [ACYCLIC 1] 449 (sampled 344600 pathes) *****\n=====> fraction of previously seen rules within useful rules in this batch: 0.8666666666666667 num of new rule = 18 num of previously rule = 117 num of all batch rules = 135\n=====> stored rules: 3965\n=====> batch [CYCLIC 3] 450 (sampled 345606 pathes) *****\n=====> fraction of previously seen rules within useful rules in this batch: 0.8936170212765957 num of new rule = 5 num of previously rule = 42 num of all batch rules = 47\n=====> stored rules: 872\n=====> batch [ACYCLIC 1] 451 (sampled 345679 pathes) *****\n=====> fraction of previously seen rules within useful rules in this batch: 0.9083969465648855 num of new rule = 12 num of previously rule = 119 num of all batch rules = 131\n=====> stored rules: 3977\n=====> batch [CYCLIC 3] 452 (sampled 346920 pathes) *****\n=====> fraction of previously seen rules within useful rules in this batch: 0.9019607843137255 num of new rule = 5 num of previously rule = 46 num of all batch rules = 51\n=====> stored rules: 877\n=====> batch [ACYCLIC 1] 453 (sampled 346986 pathes) *****\n=====> fraction of previously seen rules within useful rules in this batch: 0.860655737704918 num of new rule = 17 num of previously rule = 105 num of all batch rules = 122\n=====> stored rules: 3994\n=====> batch [CYCLIC 3] 454 (sampled 348092 pathes) *****\n=====> fraction of previously seen rules within useful rules in this batch: 0.9130434782608695 num of new rule = 4 num of previously rule = 42 num of all batch rules = 46\n=====> stored rules: 881\n=====> batch [ACYCLIC 1] 455 (sampled 348169 pathes) *****\n=====> fraction of previously seen rules within useful rules in this batch: 0.917910447761194 num of new rule = 11 num of previously rule = 123 num of all batch rules = 134\n=====> stored rules: 4005\n=====> batch [CYCLIC 3] 456 (sampled 348878 pathes) *****\n=====> fraction of previously seen rules within useful rules in this batch: 0.7777777777777778 num of new rule = 6 num of previously rule = 21 num of all batch rules = 27\n=====> stored rules: 887\n=====> batch [ACYCLIC 1] 457 (sampled 348953 pathes) *****\n=====> fraction of previously seen rules within useful rules in this batch: 0.9111111111111111 num of new rule = 12 num of previously rule = 123 num of all batch rules = 135\n=====> stored rules: 4017\n=====> batch [CYCLIC 3] 458 (sampled 350118 pathes) *****\n=====> fraction of previously seen rules within useful rules in this batch: 0.9636363636363636 num of new rule = 2 num of previously rule = 53 num of all batch rules = 55\n=====> stored rules: 889\n=====> batch [ACYCLIC 1] 459 (sampled 350200 pathes) *****\n=====> fraction of previously seen rules within useful rules in this batch: 0.8441558441558441 num of new rule = 24 num of previously rule = 130 num of all batch rules = 154\n=====> stored rules: 4041\n=====> batch [CYCLIC 3] 460 (sampled 351930 pathes) *****\n=====> fraction of previously seen rules within useful rules in this batch: 0.9871794871794872 num of new rule = 1 num of previously rule = 77 num of all batch rules = 78\n=====> stored rules: 890\n=====> batch [ACYCLIC 1] 461 (sampled 352011 pathes) *****\n=====> fraction of previously seen rules within useful rules in this batch: 0.8689655172413793 num of new rule = 19 num of previously rule = 126 num of all batch rules = 145\n=====> stored rules: 4060\n=====> batch [CYCLIC 3] 462 (sampled 353068 pathes) *****\n=====> fraction of previously seen rules within useful rules in this batch: 0.8888888888888888 num of new rule = 5 num of previously rule = 40 num of all batch rules = 45\n=====> stored rules: 895\n=====> batch [ACYCLIC 1] 463 (sampled 353156 pathes) *****\n=====> fraction of previously seen rules within useful rules in this batch: 0.8837209302325582 num of new rule = 20 num of previously rule = 152 num of all batch rules = 172\n=====> stored rules: 4080\n=====> batch [CYCLIC 3] 464 (sampled 354563 pathes) *****\n=====> fraction of previously seen rules within useful rules in this batch: 0.9122807017543859 num of new rule = 5 num of previously rule = 52 num of all batch rules = 57\n=====> stored rules: 900\n=====> batch [ACYCLIC 1] 465 (sampled 354647 pathes) *****\n=====> fraction of previously seen rules within useful rules in this batch: 0.8987341772151899 num of new rule = 16 num of previously rule = 142 num of all batch rules = 158\n=====> stored rules: 4096\n=====> batch [CYCLIC 3] 466 (sampled 355932 pathes) *****\n=====> fraction of previously seen rules within useful rules in this batch: 0.9838709677419355 num of new rule = 1 num of previously rule = 61 num of all batch rules = 62\n=====> stored rules: 901\n=====> batch [ACYCLIC 1] 467 (sampled 356014 pathes) *****\n=====> fraction of previously seen rules within useful rules in this batch: 0.8758169934640523 num of new rule = 19 num of previously rule = 134 num of all batch rules = 153\n=====> stored rules: 4115\n=====> batch [CYCLIC 3] 468 (sampled 356975 pathes) *****\n=====> fraction of previously seen rules within useful rules in this batch: 0.9814814814814815 num of new rule = 1 num of previously rule = 53 num of all batch rules = 54\n=====> stored rules: 902\n=====> batch [ACYCLIC 1] 469 (sampled 357062 pathes) *****\n=====> fraction of previously seen rules within useful rules in this batch: 0.8709677419354839 num of new rule = 20 num of previously rule = 135 num of all batch rules = 155\n=====> stored rules: 4135\n=====> batch [CYCLIC 3] 470 (sampled 358595 pathes) *****\n=====> fraction of previously seen rules within useful rules in this batch: 0.8524590163934426 num of new rule = 9 num of previously rule = 52 num of all batch rules = 61\n=====> stored rules: 911\n=====> batch [ACYCLIC 1] 471 (sampled 358676 pathes) *****\n=====> fraction of previously seen rules within useful rules in this batch: 0.8561151079136691 num of new rule = 20 num of previously rule = 119 num of all batch rules = 139\n=====> stored rules: 4155\n=====> batch [CYCLIC 3] 472 (sampled 359800 pathes) *****\n=====> fraction of previously seen rules within useful rules in this batch: 0.92 num of new rule = 4 num of previously rule = 46 num of all batch rules = 50\n=====> stored rules: 915\n=====> batch [ACYCLIC 1] 473 (sampled 359882 pathes) *****\n=====> fraction of previously seen rules within useful rules in this batch: 0.9256756756756757 num of new rule = 11 num of previously rule = 137 num of all batch rules = 148\n=====> stored rules: 4166\n=====> batch [CYCLIC 3] 474 (sampled 360823 pathes) *****\n=====> fraction of previously seen rules within useful rules in this batch: 0.9347826086956522 num of new rule = 3 num of previously rule = 43 num of all batch rules = 46\n=====> stored rules: 918\n=====> batch [ACYCLIC 1] 475 (sampled 360899 pathes) *****\n=====> fraction of previously seen rules within useful rules in this batch: 0.8721804511278195 num of new rule = 17 num of previously rule = 116 num of all batch rules = 133\n=====> stored rules: 4183\n=====> batch [CYCLIC 3] 476 (sampled 362458 pathes) *****\n=====> fraction of previously seen rules within useful rules in this batch: 0.9420289855072463 num of new rule = 4 num of previously rule = 65 num of all batch rules = 69\n=====> stored rules: 922\n=====> batch [ACYCLIC 1] 477 (sampled 362542 pathes) *****\n=====> fraction of previously seen rules within useful rules in this batch: 0.8533333333333334 num of new rule = 22 num of previously rule = 128 num of all batch rules = 150\n=====> stored rules: 4205\n=====> batch [CYCLIC 3] 478 (sampled 363560 pathes) *****\n=====> fraction of previously seen rules within useful rules in this batch: 0.9512195121951219 num of new rule = 2 num of previously rule = 39 num of all batch rules = 41\n=====> stored rules: 924\n=====> batch [ACYCLIC 1] 479 (sampled 363648 pathes) *****\n=====> fraction of previously seen rules within useful rules in this batch: 0.8941176470588236 num of new rule = 18 num of previously rule = 152 num of all batch rules = 170\n=====> stored rules: 4223\n=====> batch [CYCLIC 3] 480 (sampled 365212 pathes) *****\n=====> fraction of previously seen rules within useful rules in this batch: 0.9354838709677419 num of new rule = 4 num of previously rule = 58 num of all batch rules = 62\n=====> stored rules: 928\n=====> batch [ACYCLIC 1] 481 (sampled 365291 pathes) *****\n=====> fraction of previously seen rules within useful rules in this batch: 0.8954248366013072 num of new rule = 16 num of previously rule = 137 num of all batch rules = 153\n=====> stored rules: 4239\n=====> batch [CYCLIC 3] 482 (sampled 367457 pathes) *****\n=====> fraction of previously seen rules within useful rules in this batch: 0.9634146341463414 num of new rule = 3 num of previously rule = 79 num of all batch rules = 82\n=====> stored rules: 931\n=====> batch [ACYCLIC 1] 483 (sampled 367529 pathes) *****\n=====> fraction of previously seen rules within useful rules in this batch: 0.9596774193548387 num of new rule = 5 num of previously rule = 119 num of all batch rules = 124\n=====> stored rules: 4244\n=====> batch [CYCLIC 3] 484 (sampled 368925 pathes) *****\n=====> fraction of previously seen rules within useful rules in this batch: 0.8813559322033898 num of new rule = 7 num of previously rule = 52 num of all batch rules = 59\n=====> stored rules: 938\n=====> batch [ACYCLIC 1] 485 (sampled 369004 pathes) *****\n=====> fraction of previously seen rules within useful rules in this batch: 0.8811188811188811 num of new rule = 17 num of previously rule = 126 num of all batch rules = 143\n=====> stored rules: 4261\n=====> batch [CYCLIC 3] 486 (sampled 371078 pathes) *****\n=====> fraction of previously seen rules within useful rules in this batch: 0.963855421686747 num of new rule = 3 num of previously rule = 80 num of all batch rules = 83\n=====> stored rules: 941\n=====> batch [ACYCLIC 1] 487 (sampled 371150 pathes) *****\n=====> fraction of previously seen rules within useful rules in this batch: 0.8888888888888888 num of new rule = 14 num of previously rule = 112 num of all batch rules = 126\n=====> stored rules: 4275\n=====> batch [CYCLIC 3] 488 (sampled 372225 pathes) *****\n=====> fraction of previously seen rules within useful rules in this batch: 0.8372093023255814 num of new rule = 7 num of previously rule = 36 num of all batch rules = 43\n=====> stored rules: 948\n=====> batch [ACYCLIC 1] 489 (sampled 372293 pathes) *****\n=====> fraction of previously seen rules within useful rules in this batch: 0.8538461538461538 num of new rule = 19 num of previously rule = 111 num of all batch rules = 130\n=====> stored rules: 4294\n=====> batch [CYCLIC 3] 490 (sampled 373396 pathes) *****\n=====> fraction of previously seen rules within useful rules in this batch: 0.9807692307692307 num of new rule = 1 num of previously rule = 51 num of all batch rules = 52\n=====> stored rules: 949\n=====> batch [ACYCLIC 1] 491 (sampled 373462 pathes) *****\n=====> fraction of previously seen rules within useful rules in this batch: 0.9083333333333333 num of new rule = 11 num of previously rule = 109 num of all batch rules = 120\n=====> stored rules: 4305\ncreated snapshot 3 after 1002 seconds\n*************************done learning*********************************\n"
    },
    {
     "output_type": "execute_result",
     "data": {
      "text/plain": "0"
     },
     "metadata": {},
     "execution_count": 2
    }
   ],
   "source": [
    "learner.train()"
   ]
  },
  {
   "cell_type": "code",
   "execution_count": 3,
   "metadata": {},
   "outputs": [],
   "source": [
    "from predict import Predict\n",
    "\n",
    "predictior = Predict()"
   ]
  },
  {
   "cell_type": "code",
   "execution_count": 4,
   "metadata": {
    "tags": []
   },
   "outputs": [
    {
     "output_type": "stream",
     "name": "stdout",
     "text": "* indexed 100000 triples\n* set up index for 18 relations, 40504 head entities, and 40551 tail entities\n* set up index for 18 relations, 4349 head entities, and 4263 tail entities\n* set up index for 18 relations, 4262 head entities, and 4338 tail entities\nstep 0 parsing line 139\t5\t0.03597122302158273\t_member_meronym(02236495,Y) <= _hyponym(01759182,Y)\nstep 1000 parsing line 4\t4\t1.0\t_has_part(08133536,Y) <= _part_of(Y,08133536)\nstep 2000 parsing line 500\t4\t0.008\t_part_of(X,08949093) <= _instance_hyponym(A,X)\nstep 3000 parsing line 6\t6\t1.0\t_hyponym(02866578,Y) <= _hypernym(Y,02866578)\nstep 4000 parsing line 3\t2\t0.6666666666666666\t_also_see(01155354,Y) <= _also_see(Y,01155354)\nstep 5000 parsing line 1297\t143\t0.110254433307633\t_instance_hyponym(X,Y) <= _instance_hypernym(A,X),_synset_domain_topic_of(A,B),_synset_domain_topic_of(Y,B)\n*** read rules 5846 rom file learning_rules/WN18/rule_1000.txt\n* applying rules\n* set up index structure covering rules for 18 different relations\n* constructed filter set with 151442 triples\n* (# 0 ) trying to guess the tail/head of 06845599 _member_of_domain_usage 03754979\nElapsed (s) = 0\n* (# 100 ) trying to guess the tail/head of 00802946 _derivationally_related_form 01141841\nElapsed (s) = 2\n* (# 200 ) trying to guess the tail/head of 00940384 _hyponym 00903212\nElapsed (s) = 2\n* (# 300 ) trying to guess the tail/head of 01589125 _member_meronym 01589286\nElapsed (s) = 2\n* (# 400 ) trying to guess the tail/head of 11534677 _hyponym 13140535\nElapsed (s) = 2\n* (# 500 ) trying to guess the tail/head of 00670261 _hyponym 00726300\nElapsed (s) = 2\n* (# 600 ) trying to guess the tail/head of 11886380 _member_holonym 11867525\nElapsed (s) = 2\n* (# 700 ) trying to guess the tail/head of 05296253 _part_of 05461816\nElapsed (s) = 2\n* (# 800 ) trying to guess the tail/head of 13576355 _hyponym 13777344\nElapsed (s) = 2\n* (# 900 ) trying to guess the tail/head of 01711297 _member_holonym 01710348\nElapsed (s) = 2\n* (# 1000 ) trying to guess the tail/head of 10771270 _derivationally_related_form 01041415\nElapsed (s) = 2\n* (# 1100 ) trying to guess the tail/head of 00043765 _derivationally_related_form 02603699\nElapsed (s) = 2\n* (# 1200 ) trying to guess the tail/head of 05009170 _hyponym 05019661\nElapsed (s) = 2\n* (# 1300 ) trying to guess the tail/head of 01507175 _hyponym 01530256\nElapsed (s) = 2\n* (# 1400 ) trying to guess the tail/head of 08510666 _hyponym 08629508\nElapsed (s) = 2\n* (# 1500 ) trying to guess the tail/head of 08945821 _instance_hypernym 08698379\nElapsed (s) = 2\n* (# 1600 ) trying to guess the tail/head of 01225562 _derivationally_related_form 00011551\nElapsed (s) = 2\n* (# 1700 ) trying to guess the tail/head of 01105639 _hyponym 01106670\nElapsed (s) = 2\n* (# 1800 ) trying to guess the tail/head of 15068436 _hypernym 14818238\nElapsed (s) = 3\n* (# 1900 ) trying to guess the tail/head of 07781319 _part_of 02624551\nElapsed (s) = 3\n* (# 2000 ) trying to guess the tail/head of 01504437 _hyponym 01550429\nElapsed (s) = 2\n* (# 2100 ) trying to guess the tail/head of 01941670 _member_meronym 01952162\nElapsed (s) = 3\n* (# 2200 ) trying to guess the tail/head of 00044353 _derivationally_related_form 05792010\nElapsed (s) = 2\n* (# 2300 ) trying to guess the tail/head of 00021939 _hyponym 03573282\nElapsed (s) = 2\n* (# 2400 ) trying to guess the tail/head of 06136258 _member_of_domain_topic 00729642\nElapsed (s) = 2\n* (# 2500 ) trying to guess the tail/head of 01447868 _also_see 01675780\nElapsed (s) = 2\n* (# 2600 ) trying to guess the tail/head of 01407904 _synset_domain_topic_of 00464894\nElapsed (s) = 2\n* (# 2700 ) trying to guess the tail/head of 02446352 _hypernym 02445715\nElapsed (s) = 2\n* (# 2800 ) trying to guess the tail/head of 06149484 _member_of_domain_topic 14444326\nElapsed (s) = 2\n* (# 2900 ) trying to guess the tail/head of 02104882 _hypernym 02104523\nElapsed (s) = 1\n* (# 3000 ) trying to guess the tail/head of 10745332 _hypernym 09863238\nElapsed (s) = 2\n* (# 3100 ) trying to guess the tail/head of 15006258 _hyponym 14872875\nElapsed (s) = 2\n* (# 3200 ) trying to guess the tail/head of 11860801 _hypernym 11573660\nElapsed (s) = 1\n* (# 3300 ) trying to guess the tail/head of 08889191 _instance_hypernym 08691669\nElapsed (s) = 1\n* (# 3400 ) trying to guess the tail/head of 03804744 _derivationally_related_form 01357831\nElapsed (s) = 1\n* (# 3500 ) trying to guess the tail/head of 01507175 _hyponym 02009015\nElapsed (s) = 2\n* (# 3600 ) trying to guess the tail/head of 01021420 _hyponym 00763399\nElapsed (s) = 1\n* (# 3700 ) trying to guess the tail/head of 11567411 _hyponym 12395717\nElapsed (s) = 2\n* (# 3800 ) trying to guess the tail/head of 01081001 _hypernym 01079480\nElapsed (s) = 2\n* (# 3900 ) trying to guess the tail/head of 15298011 _synset_domain_topic_of 06128570\nElapsed (s) = 1\n* (# 4000 ) trying to guess the tail/head of 12701901 _hypernym 11585340\nElapsed (s) = 2\n* (# 4100 ) trying to guess the tail/head of 08199025 _member_of_domain_topic 06804847\nElapsed (s) = 2\n* (# 4200 ) trying to guess the tail/head of 10325243 _derivationally_related_form 00475819\nElapsed (s) = 2\n* (# 4300 ) trying to guess the tail/head of 08359949 _hypernym 08189659\nElapsed (s) = 2\n* (# 4400 ) trying to guess the tail/head of 00431117 _derivationally_related_form 00357906\nElapsed (s) = 2\n* (# 4500 ) trying to guess the tail/head of 02483564 _derivationally_related_form 13737480\nElapsed (s) = 2\n* (# 4600 ) trying to guess the tail/head of 00289175 _hypernym 00288970\nElapsed (s) = 2\n* (# 4700 ) trying to guess the tail/head of 08227214 _hypernym 08049401\nElapsed (s) = 2\n* (# 4800 ) trying to guess the tail/head of 02116777 _verb_group 02116568\nElapsed (s) = 2\n* (# 4900 ) trying to guess the tail/head of 06808720 _hyponym 06811625\nElapsed (s) = 2\n* done with rule application\n* evaluated 5846 rules to propose candiates for 5000 *2 completion tasks\n* finished in 159522 ms.\n"
    }
   ],
   "source": [
    "predictior.prediction()"
   ]
  },
  {
   "cell_type": "code",
   "execution_count": 1,
   "metadata": {
    "tags": [
     "outputPrepend"
    ]
   },
   "outputs": [
    {
     "output_type": "stream",
     "name": "stdout",
     "text": "ored rules: 17232\n=====> batch [ACYCLIC 1] 413 (sampled 51914 pathes) *****\n=====> fraction of previously seen rules within useful rules in this batch: 0.46938775510204084 num of new rule = 52 num of previously rule = 46 num of all batch rules = 98\n=====> stored rules: 17284\n=====> batch [CYCLIC 1] 414 (sampled 52076 pathes) *****\n=====> fraction of previously seen rules within useful rules in this batch: 0.963855421686747 num of new rule = 3 num of previously rule = 80 num of all batch rules = 83\n=====> stored rules: 17287\n=====> batch [ACYCLIC 1] 415 (sampled 52126 pathes) *****\n=====> fraction of previously seen rules within useful rules in this batch: 0.5425531914893617 num of new rule = 43 num of previously rule = 51 num of all batch rules = 94\n=====> stored rules: 17330\n=====> batch [CYCLIC 1] 416 (sampled 52323 pathes) *****\n=====> fraction of previously seen rules within useful rules in this batch: 0.9759036144578314 num of new rule = 2 num of previously rule = 81 num of all batch rules = 83\n=====> stored rules: 17332\n=====> batch [ACYCLIC 1] 417 (sampled 52376 pathes) *****\n=====> fraction of previously seen rules within useful rules in this batch: 0.4563106796116505 num of new rule = 56 num of previously rule = 47 num of all batch rules = 103\n=====> stored rules: 17388\n=====> batch [CYCLIC 1] 418 (sampled 52558 pathes) *****\n=====> fraction of previously seen rules within useful rules in this batch: 0.963302752293578 num of new rule = 4 num of previously rule = 105 num of all batch rules = 109\n=====> stored rules: 17392\n=====> batch [ACYCLIC 1] 419 (sampled 52609 pathes) *****\n=====> fraction of previously seen rules within useful rules in this batch: 0.3469387755102041 num of new rule = 64 num of previously rule = 34 num of all batch rules = 98\n=====> stored rules: 17456\n=====> batch [CYCLIC 1] 420 (sampled 52784 pathes) *****\n=====> fraction of previously seen rules within useful rules in this batch: 0.9425287356321839 num of new rule = 5 num of previously rule = 82 num of all batch rules = 87\n=====> stored rules: 17461\n=====> batch [ACYCLIC 1] 421 (sampled 52845 pathes) *****\n=====> fraction of previously seen rules within useful rules in this batch: 0.48333333333333334 num of new rule = 62 num of previously rule = 58 num of all batch rules = 120\n=====> stored rules: 17523\n=====> batch [CYCLIC 1] 422 (sampled 53014 pathes) *****\n=====> fraction of previously seen rules within useful rules in this batch: 0.9875 num of new rule = 1 num of previously rule = 79 num of all batch rules = 80\n=====> stored rules: 17524\n=====> batch [ACYCLIC 1] 423 (sampled 53072 pathes) *****\n=====> fraction of previously seen rules within useful rules in this batch: 0.38392857142857145 num of new rule = 69 num of previously rule = 43 num of all batch rules = 112\n=====> stored rules: 17593\n=====> batch [CYCLIC 1] 424 (sampled 53270 pathes) *****\n=====> fraction of previously seen rules within useful rules in this batch: 0.9770114942528736 num of new rule = 2 num of previously rule = 85 num of all batch rules = 87\n=====> stored rules: 17595\n=====> batch [ACYCLIC 1] 425 (sampled 53331 pathes) *****\n=====> fraction of previously seen rules within useful rules in this batch: 0.5333333333333333 num of new rule = 56 num of previously rule = 64 num of all batch rules = 120\n=====> stored rules: 17651\n=====> batch [CYCLIC 1] 426 (sampled 53500 pathes) *****\n=====> fraction of previously seen rules within useful rules in this batch: 0.927710843373494 num of new rule = 6 num of previously rule = 77 num of all batch rules = 83\n=====> stored rules: 17657\n=====> batch [ACYCLIC 1] 427 (sampled 53563 pathes) *****\n=====> fraction of previously seen rules within useful rules in this batch: 0.45161290322580644 num of new rule = 68 num of previously rule = 56 num of all batch rules = 124\n=====> stored rules: 17725\n=====> batch [CYCLIC 1] 428 (sampled 53749 pathes) *****\n=====> fraction of previously seen rules within useful rules in this batch: 0.9775280898876404 num of new rule = 2 num of previously rule = 87 num of all batch rules = 89\n=====> stored rules: 17727\n=====> batch [ACYCLIC 1] 429 (sampled 53817 pathes) *****\n=====> fraction of previously seen rules within useful rules in this batch: 0.4418604651162791 num of new rule = 72 num of previously rule = 57 num of all batch rules = 129\n=====> stored rules: 17799\n=====> batch [CYCLIC 1] 430 (sampled 54004 pathes) *****\n=====> fraction of previously seen rules within useful rules in this batch: 0.9615384615384616 num of new rule = 4 num of previously rule = 100 num of all batch rules = 104\n=====> stored rules: 17803\n=====> batch [ACYCLIC 1] 431 (sampled 54066 pathes) *****\n=====> fraction of previously seen rules within useful rules in this batch: 0.4152542372881356 num of new rule = 69 num of previously rule = 49 num of all batch rules = 118\n=====> stored rules: 17872\n=====> batch [CYCLIC 1] 432 (sampled 54276 pathes) *****\n=====> fraction of previously seen rules within useful rules in this batch: 0.9626168224299065 num of new rule = 4 num of previously rule = 103 num of all batch rules = 107\n=====> stored rules: 17876\n=====> batch [ACYCLIC 1] 433 (sampled 54340 pathes) *****\n=====> fraction of previously seen rules within useful rules in this batch: 0.4330708661417323 num of new rule = 72 num of previously rule = 55 num of all batch rules = 127\n=====> stored rules: 17948\n=====> batch [CYCLIC 1] 434 (sampled 54543 pathes) *****\n=====> fraction of previously seen rules within useful rules in this batch: 0.9696969696969697 num of new rule = 3 num of previously rule = 96 num of all batch rules = 99\n=====> stored rules: 17951\n=====> batch [ACYCLIC 1] 435 (sampled 54604 pathes) *****\n=====> fraction of previously seen rules within useful rules in this batch: 0.3770491803278688 num of new rule = 76 num of previously rule = 46 num of all batch rules = 122\n=====> stored rules: 18027\n=====> batch [CYCLIC 1] 436 (sampled 54806 pathes) *****\n=====> fraction of previously seen rules within useful rules in this batch: 0.96875 num of new rule = 3 num of previously rule = 93 num of all batch rules = 96\n=====> stored rules: 18030\n=====> batch [ACYCLIC 1] 437 (sampled 54868 pathes) *****\n=====> fraction of previously seen rules within useful rules in this batch: 0.42063492063492064 num of new rule = 73 num of previously rule = 53 num of all batch rules = 126\n=====> stored rules: 18103\n=====> batch [CYCLIC 1] 438 (sampled 55033 pathes) *****\n=====> fraction of previously seen rules within useful rules in this batch: 0.9444444444444444 num of new rule = 4 num of previously rule = 68 num of all batch rules = 72\n=====> stored rules: 18107\n=====> batch [ACYCLIC 1] 439 (sampled 55075 pathes) *****\n=====> fraction of previously seen rules within useful rules in this batch: 0.4691358024691358 num of new rule = 43 num of previously rule = 38 num of all batch rules = 81\n=====> stored rules: 18150\n=====> batch [CYCLIC 1] 440 (sampled 55248 pathes) *****\n=====> fraction of previously seen rules within useful rules in this batch: 0.96 num of new rule = 3 num of previously rule = 72 num of all batch rules = 75\n=====> stored rules: 18153\n=====> batch [ACYCLIC 1] 441 (sampled 55305 pathes) *****\n=====> fraction of previously seen rules within useful rules in this batch: 0.509090909090909 num of new rule = 54 num of previously rule = 56 num of all batch rules = 110\n=====> stored rules: 18207\n=====> batch [CYCLIC 1] 442 (sampled 55454 pathes) *****\n=====> fraction of previously seen rules within useful rules in this batch: 0.96 num of new rule = 3 num of previously rule = 72 num of all batch rules = 75\n=====> stored rules: 18210\n=====> batch [ACYCLIC 1] 443 (sampled 55504 pathes) *****\n=====> fraction of previously seen rules within useful rules in this batch: 0.57 num of new rule = 43 num of previously rule = 57 num of all batch rules = 100\n=====> stored rules: 18253\n=====> batch [CYCLIC 1] 444 (sampled 55661 pathes) *****\n=====> fraction of previously seen rules within useful rules in this batch: 0.9733333333333334 num of new rule = 2 num of previously rule = 73 num of all batch rules = 75\n=====> stored rules: 18255\n=====> batch [ACYCLIC 1] 445 (sampled 55717 pathes) *****\n=====> fraction of previously seen rules within useful rules in this batch: 0.42342342342342343 num of new rule = 64 num of previously rule = 47 num of all batch rules = 111\n=====> stored rules: 18319\n=====> batch [CYCLIC 1] 446 (sampled 55914 pathes) *****\n=====> fraction of previously seen rules within useful rules in this batch: 0.9555555555555556 num of new rule = 4 num of previously rule = 86 num of all batch rules = 90\n=====> stored rules: 18323\n=====> batch [ACYCLIC 1] 447 (sampled 55974 pathes) *****\n=====> fraction of previously seen rules within useful rules in this batch: 0.3474576271186441 num of new rule = 77 num of previously rule = 41 num of all batch rules = 118\n=====> stored rules: 18400\n=====> batch [CYCLIC 1] 448 (sampled 56161 pathes) *****\n=====> fraction of previously seen rules within useful rules in this batch: 0.9896907216494846 num of new rule = 1 num of previously rule = 96 num of all batch rules = 97\n=====> stored rules: 18401\n=====> batch [ACYCLIC 1] 449 (sampled 56226 pathes) *****\n=====> fraction of previously seen rules within useful rules in this batch: 0.5118110236220472 num of new rule = 62 num of previously rule = 65 num of all batch rules = 127\n=====> stored rules: 18463\n=====> batch [CYCLIC 1] 450 (sampled 56402 pathes) *****\n=====> fraction of previously seen rules within useful rules in this batch: 0.9629629629629629 num of new rule = 3 num of previously rule = 78 num of all batch rules = 81\n=====> stored rules: 18466\n=====> batch [ACYCLIC 1] 451 (sampled 56463 pathes) *****\n=====> fraction of previously seen rules within useful rules in this batch: 0.423728813559322 num of new rule = 68 num of previously rule = 50 num of all batch rules = 118\n=====> stored rules: 18534\n=====> batch [CYCLIC 1] 452 (sampled 56663 pathes) *****\n=====> fraction of previously seen rules within useful rules in this batch: 0.9775280898876404 num of new rule = 2 num of previously rule = 87 num of all batch rules = 89\n=====> stored rules: 18536\n=====> batch [ACYCLIC 1] 453 (sampled 56725 pathes) *****\n=====> fraction of previously seen rules within useful rules in this batch: 0.4126984126984127 num of new rule = 74 num of previously rule = 52 num of all batch rules = 126\n=====> stored rules: 18610\n=====> batch [CYCLIC 1] 454 (sampled 56928 pathes) *****\n=====> fraction of previously seen rules within useful rules in this batch: 0.963855421686747 num of new rule = 3 num of previously rule = 80 num of all batch rules = 83\n=====> stored rules: 18613\n=====> batch [ACYCLIC 1] 455 (sampled 56990 pathes) *****\n=====> fraction of previously seen rules within useful rules in this batch: 0.3870967741935484 num of new rule = 76 num of previously rule = 48 num of all batch rules = 124\n=====> stored rules: 18689\n=====> batch [CYCLIC 1] 456 (sampled 57181 pathes) *****\n=====> fraction of previously seen rules within useful rules in this batch: 0.9885057471264368 num of new rule = 1 num of previously rule = 86 num of all batch rules = 87\n=====> stored rules: 18690\n=====> batch [ACYCLIC 1] 457 (sampled 57246 pathes) *****\n=====> fraction of previously seen rules within useful rules in this batch: 0.4444444444444444 num of new rule = 70 num of previously rule = 56 num of all batch rules = 126\n=====> stored rules: 18760\n=====> batch [CYCLIC 1] 458 (sampled 57456 pathes) *****\n=====> fraction of previously seen rules within useful rules in this batch: 0.9690721649484536 num of new rule = 3 num of previously rule = 94 num of all batch rules = 97\n=====> stored rules: 18763\n=====> batch [ACYCLIC 1] 459 (sampled 57513 pathes) *****\n=====> fraction of previously seen rules within useful rules in this batch: 0.415929203539823 num of new rule = 66 num of previously rule = 47 num of all batch rules = 113\n=====> stored rules: 18829\n=====> batch [CYCLIC 1] 460 (sampled 57713 pathes) *****\n=====> fraction of previously seen rules within useful rules in this batch: 1.0 num of new rule = 0 num of previously rule = 97 num of all batch rules = 97\n=====> stored rules: 18829\n=========================================================\n=====> increasing rule size of CYCLIC rule to 2\n=====> batch [ACYCLIC 1] 461 (sampled 57771 pathes) *****\n=====> fraction of previously seen rules within useful rules in this batch: 0.4375 num of new rule = 63 num of previously rule = 49 num of all batch rules = 112\n=====> stored rules: 18892\n=====> batch [CYCLIC 2] 462 (sampled 57949 pathes) *****\n=====> fraction of previously seen rules within useful rules in this batch: 0.3888888888888889 num of new rule = 11 num of previously rule = 7 num of all batch rules = 18\n=====> stored rules: 11\n=====> batch [ACYCLIC 1] 463 (sampled 58012 pathes) *****\n=====> fraction of previously seen rules within useful rules in this batch: 0.43548387096774194 num of new rule = 70 num of previously rule = 54 num of all batch rules = 124\n=====> stored rules: 18962\n=====> batch [CYCLIC 2] 464 (sampled 58201 pathes) *****\n=====> fraction of previously seen rules within useful rules in this batch: 0.4117647058823529 num of new rule = 10 num of previously rule = 7 num of all batch rules = 17\n=====> stored rules: 21\n=====> batch [ACYCLIC 1] 465 (sampled 58253 pathes) *****\n=====> fraction of previously seen rules within useful rules in this batch: 0.5048543689320388 num of new rule = 51 num of previously rule = 52 num of all batch rules = 103\n=====> stored rules: 19013\n=====> batch [CYCLIC 2] 466 (sampled 58376 pathes) *****\n=====> fraction of previously seen rules within useful rules in this batch: 0.3333333333333333 num of new rule = 10 num of previously rule = 5 num of all batch rules = 15\n=====> stored rules: 31\n=====> batch [ACYCLIC 1] 467 (sampled 58430 pathes) *****\n=====> fraction of previously seen rules within useful rules in this batch: 0.42718446601941745 num of new rule = 59 num of previously rule = 44 num of all batch rules = 103\n=====> stored rules: 19072\n=====> batch [CYCLIC 2] 468 (sampled 58446 pathes) *****\n=====> fraction of previously seen rules within useful rules in this batch: 0.25 num of new rule = 3 num of previously rule = 1 num of all batch rules = 4\n=====> stored rules: 34\n=====> batch [ACYCLIC 1] 469 (sampled 58499 pathes) *****\n=====> fraction of previously seen rules within useful rules in this batch: 0.41904761904761906 num of new rule = 61 num of previously rule = 44 num of all batch rules = 105\n=====> stored rules: 19133\n=====> batch [CYCLIC 2] 470 (sampled 58627 pathes) *****\n=====> fraction of previously seen rules within useful rules in this batch: 0.5 num of new rule = 7 num of previously rule = 7 num of all batch rules = 14\n=====> stored rules: 41\n=====> batch [ACYCLIC 1] 471 (sampled 58683 pathes) *****\n=====> fraction of previously seen rules within useful rules in this batch: 0.39285714285714285 num of new rule = 68 num of previously rule = 44 num of all batch rules = 112\n=====> stored rules: 19201\n=====> batch [CYCLIC 2] 472 (sampled 58707 pathes) *****\n=====> fraction of previously seen rules within useful rules in this batch: 0.0 num of new rule = 3 num of previously rule = 0 num of all batch rules = 3\n=====> stored rules: 44\n=====> batch [ACYCLIC 1] 473 (sampled 58760 pathes) *****\n=====> fraction of previously seen rules within useful rules in this batch: 0.41904761904761906 num of new rule = 61 num of previously rule = 44 num of all batch rules = 105\n=====> stored rules: 19262\n=====> batch [CYCLIC 2] 474 (sampled 58862 pathes) *****\n=====> fraction of previously seen rules within useful rules in this batch: 0.23076923076923078 num of new rule = 10 num of previously rule = 3 num of all batch rules = 13\n=====> stored rules: 54\n=====> batch [ACYCLIC 1] 475 (sampled 58920 pathes) *****\n=====> fraction of previously seen rules within useful rules in this batch: 0.5043478260869565 num of new rule = 57 num of previously rule = 58 num of all batch rules = 115\n=====> stored rules: 19319\n=====> batch [CYCLIC 2] 476 (sampled 59061 pathes) *****\n=====> fraction of previously seen rules within useful rules in this batch: 0.13333333333333333 num of new rule = 13 num of previously rule = 2 num of all batch rules = 15\n=====> stored rules: 67\n=====> batch [ACYCLIC 1] 477 (sampled 59126 pathes) *****\n=====> fraction of previously seen rules within useful rules in this batch: 0.4573643410852713 num of new rule = 70 num of previously rule = 59 num of all batch rules = 129\n=====> stored rules: 19389\n=====> batch [CYCLIC 2] 478 (sampled 59255 pathes) *****\n=====> fraction of previously seen rules within useful rules in this batch: 0.46153846153846156 num of new rule = 7 num of previously rule = 6 num of all batch rules = 13\n=====> stored rules: 74\n=====> batch [ACYCLIC 1] 479 (sampled 59318 pathes) *****\n=====> fraction of previously seen rules within useful rules in this batch: 0.3902439024390244 num of new rule = 75 num of previously rule = 48 num of all batch rules = 123\n=====> stored rules: 19464\n=====> batch [CYCLIC 2] 480 (sampled 59550 pathes) *****\n=====> fraction of previously seen rules within useful rules in this batch: 0.48 num of new rule = 13 num of previously rule = 12 num of all batch rules = 25\n=====> stored rules: 87\n=====> batch [ACYCLIC 1] 481 (sampled 59615 pathes) *****\n=====> fraction of previously seen rules within useful rules in this batch: 0.4263565891472868 num of new rule = 74 num of previously rule = 55 num of all batch rules = 129\n=====> stored rules: 19538\n=====> batch [CYCLIC 2] 482 (sampled 59846 pathes) *****\n=====> fraction of previously seen rules within useful rules in this batch: 0.36363636363636365 num of new rule = 14 num of previously rule = 8 num of all batch rules = 22\n=====> stored rules: 101\n=====> batch [ACYCLIC 1] 483 (sampled 59903 pathes) *****\n=====> fraction of previously seen rules within useful rules in this batch: 0.48695652173913045 num of new rule = 59 num of previously rule = 56 num of all batch rules = 115\n=====> stored rules: 19597\n=====> batch [CYCLIC 2] 484 (sampled 60066 pathes) *****\n=====> fraction of previously seen rules within useful rules in this batch: 0.24 num of new rule = 19 num of previously rule = 6 num of all batch rules = 25\n=====> stored rules: 120\n=====> batch [ACYCLIC 1] 485 (sampled 60124 pathes) *****\n=====> fraction of previously seen rules within useful rules in this batch: 0.4375 num of new rule = 63 num of previously rule = 49 num of all batch rules = 112\n=====> stored rules: 19660\n=====> batch [CYCLIC 2] 486 (sampled 60159 pathes) *****\n=====> fraction of previously seen rules within useful rules in this batch: 0.5 num of new rule = 4 num of previously rule = 4 num of all batch rules = 8\n=====> stored rules: 124\n=====> batch [ACYCLIC 1] 487 (sampled 60210 pathes) *****\n=====> fraction of previously seen rules within useful rules in this batch: 0.4421052631578947 num of new rule = 53 num of previously rule = 42 num of all batch rules = 95\n=====> stored rules: 19713\n=====> batch [CYCLIC 2] 488 (sampled 60327 pathes) *****\n=====> fraction of previously seen rules within useful rules in this batch: 0.45454545454545453 num of new rule = 12 num of previously rule = 10 num of all batch rules = 22\n=====> stored rules: 136\n=====> batch [ACYCLIC 1] 489 (sampled 60384 pathes) *****\n=====> fraction of previously seen rules within useful rules in this batch: 0.2857142857142857 num of new rule = 80 num of previously rule = 32 num of all batch rules = 112\n=====> stored rules: 19793\n=====> batch [CYCLIC 2] 490 (sampled 60570 pathes) *****\n=====> fraction of previously seen rules within useful rules in this batch: 0.25 num of new rule = 9 num of previously rule = 3 num of all batch rules = 12\n=====> stored rules: 145\ncreated snapshot 3 after 1002 seconds\n*************************done learning*********************************\n"
    },
    {
     "output_type": "execute_result",
     "data": {
      "text/plain": "0"
     },
     "metadata": {},
     "execution_count": 1
    }
   ],
   "source": [
    "from learning import Learning\n",
    "\n",
    "learner = Learning('FB15k')\n",
    "learner.train()"
   ]
  },
  {
   "cell_type": "code",
   "execution_count": 1,
   "metadata": {
    "tags": []
   },
   "outputs": [
    {
     "output_type": "stream",
     "name": "stdout",
     "text": "* indexed 100000 triples\n* indexed 200000 triples\n* indexed 300000 triples\n* indexed 400000 triples\n* set up index for 1345 relations, 14834 head entities, and 14903 tail entities\n* set up index for 961 relations, 12297 head entities, and 11825 tail entities\n* set up index for 916 relations, 11886 head entities, and 11285 tail entities\ntmp_path ['l']\n"
    },
    {
     "output_type": "error",
     "ename": "IndexError",
     "evalue": "list index out of range",
     "traceback": [
      "\u001b[0;31m---------------------------------------------------------------------------\u001b[0m",
      "\u001b[0;31mIndexError\u001b[0m                                Traceback (most recent call last)",
      "\u001b[0;32m<ipython-input-1-edabb93b84c8>\u001b[0m in \u001b[0;36m<module>\u001b[0;34m\u001b[0m\n\u001b[1;32m      2\u001b[0m \u001b[0;34m\u001b[0m\u001b[0m\n\u001b[1;32m      3\u001b[0m \u001b[0mpredictior\u001b[0m \u001b[0;34m=\u001b[0m \u001b[0mPredict\u001b[0m\u001b[0;34m(\u001b[0m\u001b[0;34m'FB15k'\u001b[0m\u001b[0;34m)\u001b[0m\u001b[0;34m\u001b[0m\u001b[0;34m\u001b[0m\u001b[0m\n\u001b[0;32m----> 4\u001b[0;31m \u001b[0mpredictior\u001b[0m\u001b[0;34m.\u001b[0m\u001b[0mprediction\u001b[0m\u001b[0;34m(\u001b[0m\u001b[0;34m)\u001b[0m\u001b[0;34m\u001b[0m\u001b[0;34m\u001b[0m\u001b[0m\n\u001b[0m",
      "\u001b[0;32m/study/KH2_2019-2020/thesis/source/AnyBURL/predict.py\u001b[0m in \u001b[0;36mprediction\u001b[0;34m(self)\u001b[0m\n\u001b[1;32m     30\u001b[0m       \u001b[0mtmp_path\u001b[0m \u001b[0;34m=\u001b[0m \u001b[0mpath_rules_used\u001b[0m\u001b[0;34m.\u001b[0m\u001b[0msplit\u001b[0m\u001b[0;34m(\u001b[0m\u001b[0;34m'/'\u001b[0m\u001b[0;34m)\u001b[0m\u001b[0;34m\u001b[0m\u001b[0;34m\u001b[0m\u001b[0m\n\u001b[1;32m     31\u001b[0m       \u001b[0mprint\u001b[0m\u001b[0;34m(\u001b[0m\u001b[0;34m'tmp_path'\u001b[0m\u001b[0;34m,\u001b[0m \u001b[0mtmp_path\u001b[0m\u001b[0;34m)\u001b[0m\u001b[0;34m\u001b[0m\u001b[0;34m\u001b[0m\u001b[0m\n\u001b[0;32m---> 32\u001b[0;31m       \u001b[0mpath_output_used\u001b[0m \u001b[0;34m=\u001b[0m \u001b[0;34m'predictions/{}/{}'\u001b[0m\u001b[0;34m.\u001b[0m\u001b[0mformat\u001b[0m\u001b[0;34m(\u001b[0m\u001b[0mself\u001b[0m\u001b[0;34m.\u001b[0m\u001b[0mdatasets\u001b[0m\u001b[0;34m,\u001b[0m \u001b[0mtmp_path\u001b[0m\u001b[0;34m[\u001b[0m\u001b[0;36m2\u001b[0m\u001b[0;34m]\u001b[0m\u001b[0;34m.\u001b[0m\u001b[0mreplace\u001b[0m\u001b[0;34m(\u001b[0m\u001b[0;34m'rule'\u001b[0m\u001b[0;34m,\u001b[0m \u001b[0;34m'predict'\u001b[0m\u001b[0;34m)\u001b[0m\u001b[0;34m)\u001b[0m\u001b[0;34m\u001b[0m\u001b[0;34m\u001b[0m\u001b[0m\n\u001b[0m\u001b[1;32m     33\u001b[0m       \u001b[0mself\u001b[0m\u001b[0;34m.\u001b[0m\u001b[0mlog\u001b[0m\u001b[0;34m.\u001b[0m\u001b[0minfo\u001b[0m\u001b[0;34m(\u001b[0m\u001b[0;34m'rules learning: {}'\u001b[0m\u001b[0;34m.\u001b[0m\u001b[0mformat\u001b[0m\u001b[0;34m(\u001b[0m\u001b[0mpath_rules_used\u001b[0m\u001b[0;34m)\u001b[0m\u001b[0;34m)\u001b[0m\u001b[0;34m\u001b[0m\u001b[0;34m\u001b[0m\u001b[0m\n\u001b[1;32m     34\u001b[0m       \u001b[0mself\u001b[0m\u001b[0;34m.\u001b[0m\u001b[0mlog\u001b[0m\u001b[0;34m.\u001b[0m\u001b[0minfo\u001b[0m\u001b[0;34m(\u001b[0m\u001b[0;34m'output learning: {}'\u001b[0m\u001b[0;34m.\u001b[0m\u001b[0mformat\u001b[0m\u001b[0;34m(\u001b[0m\u001b[0mpath_output_used\u001b[0m\u001b[0;34m)\u001b[0m\u001b[0;34m)\u001b[0m\u001b[0;34m\u001b[0m\u001b[0;34m\u001b[0m\u001b[0m\n",
      "\u001b[0;31mIndexError\u001b[0m: list index out of range"
     ]
    }
   ],
   "source": [
    "from predict import Predict\n",
    "\n",
    "predictior = Predict('FB15k')\n",
    "predictior.prediction()"
   ]
  },
  {
   "cell_type": "code",
   "execution_count": 1,
   "metadata": {},
   "outputs": [
    {
     "output_type": "execute_result",
     "data": {
      "text/plain": "{'path_rules': ['learning_rules/alpha-100'],\n 'path_training': '../../datasets/WN18/train.txt',\n 'path_valid': '../../datasets/WN18/valid.txt',\n 'path_test': '../../datasets/WN18/test.txt',\n 'unseen_nagative_examples': 5,\n 'top_k_output': 10,\n 'threshold_confidence_predictions': 2,\n 'threshold_confidence': 1e-05}"
     },
     "metadata": {},
     "execution_count": 1
    }
   ],
   "source": [
    "from config.config_yaml import Config\n",
    "\n",
    "Config.load_predict_config()"
   ]
  },
  {
   "cell_type": "code",
   "execution_count": 3,
   "metadata": {},
   "outputs": [
    {
     "output_type": "execute_result",
     "data": {
      "text/plain": "{'path_training': '../../datasets/WN18/train.txt',\n 'path_valid': '../../datasets/WN18/valid.txt',\n 'path_test': '../../datasets/WN18/test.txt',\n 'path_prediction': 'predictions/alpha-100'}"
     },
     "metadata": {},
     "execution_count": 3
    }
   ],
   "source": [
    "from config.config_yaml import Config\n",
    "\n",
    "Config.load_eval_config()"
   ]
  },
  {
   "cell_type": "code",
   "execution_count": 4,
   "metadata": {},
   "outputs": [
    {
     "output_type": "execute_result",
     "data": {
      "text/plain": "{'path_training': '../../datasets/WN18/train.txt',\n 'path_output': '../../datasets/WN18/valid.txt',\n 'snapshots_at': [10, 50, 100],\n 'saturation': 0.99,\n 'sample_size': 500,\n 'batch_time': 1000,\n 'threshold_correct_predictions': 2,\n 'threshold_confidence': 1e-05,\n 'max_length_cylic': 3,\n 'max_length_acylic': 2,\n 'discrimination_bound': 1000,\n 'trial_size': 100000}"
     },
     "metadata": {},
     "execution_count": 4
    }
   ],
   "source": [
    "Config.load_learning_config()"
   ]
  },
  {
   "cell_type": "code",
   "execution_count": 5,
   "metadata": {
    "tags": []
   },
   "outputs": [
    {
     "output_type": "stream",
     "name": "stdout",
     "text": "* indexed 100000 triples\n* set up index for 18 relations, 40504 head entities, and 40551 tail entities\n* set up index for 18 relations, 4262 head entities, and 4338 tail entities\n* set up index for 18 relations, 4349 head entities, and 4263 tail entities\n"
    }
   ],
   "source": [
    "from evaluation import Evaluation\n",
    "eval = Evaluation()"
   ]
  },
  {
   "cell_type": "code",
   "execution_count": 6,
   "metadata": {
    "tags": []
   },
   "outputs": [
    {
     "output_type": "stream",
     "name": "stdout",
     "text": "hits@1   hits@3    hits@10\n0.9404\t0.9419\t0.9436\n"
    }
   ],
   "source": [
    "eval.eval()"
   ]
  },
  {
   "cell_type": "code",
   "execution_count": null,
   "metadata": {},
   "outputs": [],
   "source": [
    "from rule_io.rule_reader import RuleReader\n",
    "reader = RuleReader('./learning_rules/alpha-100')"
   ]
  },
  {
   "cell_type": "code",
   "execution_count": 19,
   "metadata": {},
   "outputs": [],
   "source": [
    "from structure.rule import Rule\n",
    "from structure.atom import Atom\n",
    "\n",
    "def parsing(str_rule):\n",
    "    token = str_rule.split('\\t')\n",
    "    # print(token)\n",
    "    rule = Rule()\n",
    "    rule.init_measure(int(token[0]), int(token[1]), float(token[2]))\n",
    "    # print(token[3])\n",
    "    # print(rule)\n",
    "    atoms = token[3].split(' ')\n",
    "    print(atoms)\n",
    "    head = Atom()\n",
    "    head.from_atom_representation(atoms[0])\n",
    "    rule.head = head\n",
    "    for i in range(2, len(atoms)):\n",
    "      atom_body = Atom()\n",
    "      atom_body.from_atom_representation(atoms[i])\n",
    "      rule.body.append(atom_body)\n",
    "    print(rule)\n",
    "    # return rule\n",
    "\n",
    "def read():\n",
    "    rules = []\n",
    "    file_reader = open('./learning_rules/alpha-100', 'r')\n",
    "    i = 1\n",
    "    for line in file_reader:\n",
    "        line = line.strip()\n",
    "        if len(line) == 0:\n",
    "            break\n",
    "        if i % 10 == 0:\n",
    "            print('step {} parsing line {}'.format(i, line))\n",
    "            return\n",
    "        rule = parsing(line)\n",
    "        rules.append(rule)\n",
    "        i += 1\n",
    "    return rules"
   ]
  },
  {
   "cell_type": "code",
   "execution_count": 20,
   "metadata": {
    "tags": []
   },
   "outputs": [
    {
     "output_type": "stream",
     "name": "stdout",
     "text": "['_hyponym(01557774,Y)', '<=', '_derivationally_related_form(Y,A)']\n500\t2\t0.004\t_hyponym(01557774,Y) <= _derivationally_related_form(Y,A)\n['_hypernym(X,00884466)', '<=', '_hyponym(00884466,X)']\n3\t3\t1.0\t_hypernym(X,00884466) <= _hyponym(00884466,X)\n['_instance_hyponym(X,11370654)', '<=', '_instance_hyponym(X,A)']\n410\t2\t0.004878048780487805\t_instance_hyponym(X,11370654) <= _instance_hyponym(X,A)\n['_member_holonym(X,02391782)', '<=', '_member_meronym(02391782,X)']\n3\t3\t1.0\t_member_holonym(X,02391782) <= _member_meronym(02391782,X)\n['_hypernym(X,08324514)', '<=', '_member_of_domain_region(08860123,X)']\n442\t2\t0.004524886877828055\t_hypernym(X,08324514) <= _member_of_domain_region(08860123,X)\n['_hypernym(X,03315023)', '<=', '_hyponym(03315023,X)']\n14\t14\t1.0\t_hypernym(X,03315023) <= _hyponym(03315023,X)\n['_hyponym(01939598,Y)', '<=', '_member_holonym(A,Y)']\n500\t2\t0.004\t_hyponym(01939598,Y) <= _member_holonym(A,Y)\n['_has_part(X,09195372)', '<=', '_instance_hyponym(08702402,X)']\n11\t2\t0.18181818181818182\t_has_part(X,09195372) <= _instance_hyponym(08702402,X)\n['_derivationally_related_form(X,01683582)', '<=', '_derivationally_related_form(01683582,X)']\n4\t4\t1.0\t_derivationally_related_form(X,01683582) <= _derivationally_related_form(01683582,X)\nstep 10 parsing line 3\t3\t1.0\t_derivationally_related_form(01066163,Y) <= _derivationally_related_form(Y,01066163)\n"
    }
   ],
   "source": [
    "read()"
   ]
  },
  {
   "cell_type": "code",
   "execution_count": null,
   "metadata": {},
   "outputs": [],
   "source": []
  }
 ]
}