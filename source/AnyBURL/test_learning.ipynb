{
 "metadata": {
  "language_info": {
   "codemirror_mode": {
    "name": "ipython",
    "version": 3
   },
   "file_extension": ".py",
   "mimetype": "text/x-python",
   "name": "python",
   "nbconvert_exporter": "python",
   "pygments_lexer": "ipython3",
   "version": "3.7.3-final"
  },
  "orig_nbformat": 2,
  "kernelspec": {
   "name": "python3",
   "display_name": "Python 3"
  }
 },
 "nbformat": 4,
 "nbformat_minor": 2,
 "cells": [
  {
   "cell_type": "code",
   "execution_count": 1,
   "metadata": {},
   "outputs": [],
   "source": [
    "from learning import Learning\n",
    "\n",
    "learner = Learning()"
   ]
  },
  {
   "cell_type": "code",
   "execution_count": 2,
   "metadata": {
    "tags": [
     "outputPrepend"
    ]
   },
   "outputs": [
    {
     "output_type": "stream",
     "name": "stdout",
     "text": " = 73\n=====> stored rules: 9149\n=====> batch [ACYCLIC 1] 905 (sampled 145641 pathes) *****\n=====> fraction of previously seen rules within useful rules in this batch: 0.9594594594594594 num of new rule = 3 num of previously rule = 71 num of all batch rules = 74\n=====> stored rules: 9152\n=====> batch [ACYCLIC 1] 906 (sampled 145683 pathes) *****\n=====> fraction of previously seen rules within useful rules in this batch: 0.8863636363636364 num of new rule = 10 num of previously rule = 78 num of all batch rules = 88\n=====> stored rules: 9162\n=====> batch [ACYCLIC 1] 907 (sampled 145723 pathes) *****\n=====> fraction of previously seen rules within useful rules in this batch: 0.8648648648648649 num of new rule = 10 num of previously rule = 64 num of all batch rules = 74\n=====> stored rules: 9172\n=====> batch [ACYCLIC 1] 908 (sampled 145764 pathes) *****\n=====> fraction of previously seen rules within useful rules in this batch: 0.9594594594594594 num of new rule = 3 num of previously rule = 71 num of all batch rules = 74\n=====> stored rules: 9175\n=====> batch [ACYCLIC 1] 909 (sampled 145806 pathes) *****\n=====> fraction of previously seen rules within useful rules in this batch: 0.9523809523809523 num of new rule = 4 num of previously rule = 80 num of all batch rules = 84\n=====> stored rules: 9179\n=====> batch [ACYCLIC 1] 910 (sampled 145847 pathes) *****\n=====> fraction of previously seen rules within useful rules in this batch: 0.8783783783783784 num of new rule = 9 num of previously rule = 65 num of all batch rules = 74\n=====> stored rules: 9188\n=====> batch [ACYCLIC 1] 911 (sampled 145888 pathes) *****\n=====> fraction of previously seen rules within useful rules in this batch: 0.9090909090909091 num of new rule = 7 num of previously rule = 70 num of all batch rules = 77\n=====> stored rules: 9195\n=====> batch [ACYCLIC 1] 912 (sampled 145930 pathes) *****\n=====> fraction of previously seen rules within useful rules in this batch: 0.9397590361445783 num of new rule = 5 num of previously rule = 78 num of all batch rules = 83\n=====> stored rules: 9200\n=====> batch [ACYCLIC 1] 913 (sampled 145971 pathes) *****\n=====> fraction of previously seen rules within useful rules in this batch: 0.9436619718309859 num of new rule = 4 num of previously rule = 67 num of all batch rules = 71\n=====> stored rules: 9204\n=====> batch [ACYCLIC 1] 914 (sampled 146011 pathes) *****\n=====> fraction of previously seen rules within useful rules in this batch: 0.9305555555555556 num of new rule = 5 num of previously rule = 67 num of all batch rules = 72\n=====> stored rules: 9209\n=====> batch [ACYCLIC 1] 915 (sampled 146053 pathes) *****\n=====> fraction of previously seen rules within useful rules in this batch: 0.9431818181818182 num of new rule = 5 num of previously rule = 83 num of all batch rules = 88\n=====> stored rules: 9214\n=====> batch [ACYCLIC 1] 916 (sampled 146095 pathes) *****\n=====> fraction of previously seen rules within useful rules in this batch: 0.9466666666666667 num of new rule = 4 num of previously rule = 71 num of all batch rules = 75\n=====> stored rules: 9218\n=====> batch [ACYCLIC 1] 917 (sampled 146138 pathes) *****\n=====> fraction of previously seen rules within useful rules in this batch: 0.9333333333333333 num of new rule = 5 num of previously rule = 70 num of all batch rules = 75\n=====> stored rules: 9223\n=====> batch [ACYCLIC 1] 918 (sampled 146180 pathes) *****\n=====> fraction of previously seen rules within useful rules in this batch: 0.85 num of new rule = 12 num of previously rule = 68 num of all batch rules = 80\n=====> stored rules: 9235\n=====> batch [ACYCLIC 1] 919 (sampled 146220 pathes) *****\n=====> fraction of previously seen rules within useful rules in this batch: 0.855072463768116 num of new rule = 10 num of previously rule = 59 num of all batch rules = 69\n=====> stored rules: 9245\n=====> batch [ACYCLIC 1] 920 (sampled 146261 pathes) *****\n=====> fraction of previously seen rules within useful rules in this batch: 0.9333333333333333 num of new rule = 5 num of previously rule = 70 num of all batch rules = 75\n=====> stored rules: 9250\n=====> batch [ACYCLIC 1] 921 (sampled 146303 pathes) *****\n=====> fraction of previously seen rules within useful rules in this batch: 0.9594594594594594 num of new rule = 3 num of previously rule = 71 num of all batch rules = 74\n=====> stored rules: 9253\n=====> batch [ACYCLIC 1] 922 (sampled 146344 pathes) *****\n=====> fraction of previously seen rules within useful rules in this batch: 0.9420289855072463 num of new rule = 4 num of previously rule = 65 num of all batch rules = 69\n=====> stored rules: 9257\n=====> batch [ACYCLIC 1] 923 (sampled 146385 pathes) *****\n=====> fraction of previously seen rules within useful rules in this batch: 0.9210526315789473 num of new rule = 6 num of previously rule = 70 num of all batch rules = 76\n=====> stored rules: 9263\n=====> batch [ACYCLIC 1] 924 (sampled 146426 pathes) *****\n=====> fraction of previously seen rules within useful rules in this batch: 0.8904109589041096 num of new rule = 8 num of previously rule = 65 num of all batch rules = 73\n=====> stored rules: 9271\n=====> batch [ACYCLIC 1] 925 (sampled 146466 pathes) *****\n=====> fraction of previously seen rules within useful rules in this batch: 0.925 num of new rule = 6 num of previously rule = 74 num of all batch rules = 80\n=====> stored rules: 9277\n=====> batch [ACYCLIC 1] 926 (sampled 146507 pathes) *****\n=====> fraction of previously seen rules within useful rules in this batch: 0.9012345679012346 num of new rule = 8 num of previously rule = 73 num of all batch rules = 81\n=====> stored rules: 9285\n=====> batch [ACYCLIC 1] 927 (sampled 146547 pathes) *****\n=====> fraction of previously seen rules within useful rules in this batch: 0.8923076923076924 num of new rule = 7 num of previously rule = 58 num of all batch rules = 65\n=====> stored rules: 9292\n=====> batch [ACYCLIC 1] 928 (sampled 146588 pathes) *****\n=====> fraction of previously seen rules within useful rules in this batch: 0.9054054054054054 num of new rule = 7 num of previously rule = 67 num of all batch rules = 74\n=====> stored rules: 9299\n=====> batch [ACYCLIC 1] 929 (sampled 146627 pathes) *****\n=====> fraction of previously seen rules within useful rules in this batch: 0.8714285714285714 num of new rule = 9 num of previously rule = 61 num of all batch rules = 70\n=====> stored rules: 9308\n=====> batch [ACYCLIC 1] 930 (sampled 146667 pathes) *****\n=====> fraction of previously seen rules within useful rules in this batch: 0.9047619047619048 num of new rule = 8 num of previously rule = 76 num of all batch rules = 84\n=====> stored rules: 9316\n=====> batch [ACYCLIC 1] 931 (sampled 146708 pathes) *****\n=====> fraction of previously seen rules within useful rules in this batch: 0.9230769230769231 num of new rule = 6 num of previously rule = 72 num of all batch rules = 78\n=====> stored rules: 9322\n=====> batch [ACYCLIC 1] 932 (sampled 146750 pathes) *****\n=====> fraction of previously seen rules within useful rules in this batch: 0.8809523809523809 num of new rule = 10 num of previously rule = 74 num of all batch rules = 84\n=====> stored rules: 9332\n=====> batch [ACYCLIC 1] 933 (sampled 146791 pathes) *****\n=====> fraction of previously seen rules within useful rules in this batch: 0.8695652173913043 num of new rule = 9 num of previously rule = 60 num of all batch rules = 69\n=====> stored rules: 9341\n=====> batch [ACYCLIC 1] 934 (sampled 146832 pathes) *****\n=====> fraction of previously seen rules within useful rules in this batch: 0.8732394366197183 num of new rule = 9 num of previously rule = 62 num of all batch rules = 71\n=====> stored rules: 9350\n=====> batch [ACYCLIC 1] 935 (sampled 146874 pathes) *****\n=====> fraction of previously seen rules within useful rules in this batch: 0.881578947368421 num of new rule = 9 num of previously rule = 67 num of all batch rules = 76\n=====> stored rules: 9359\n=====> batch [ACYCLIC 1] 936 (sampled 146915 pathes) *****\n=====> fraction of previously seen rules within useful rules in this batch: 0.9146341463414634 num of new rule = 7 num of previously rule = 75 num of all batch rules = 82\n=====> stored rules: 9366\n=====> batch [ACYCLIC 1] 937 (sampled 146957 pathes) *****\n=====> fraction of previously seen rules within useful rules in this batch: 0.9358974358974359 num of new rule = 5 num of previously rule = 73 num of all batch rules = 78\n=====> stored rules: 9371\n=====> batch [ACYCLIC 1] 938 (sampled 146999 pathes) *****\n=====> fraction of previously seen rules within useful rules in this batch: 0.925 num of new rule = 6 num of previously rule = 74 num of all batch rules = 80\n=====> stored rules: 9377\n=====> batch [ACYCLIC 1] 939 (sampled 147040 pathes) *****\n=====> fraction of previously seen rules within useful rules in this batch: 0.9444444444444444 num of new rule = 4 num of previously rule = 68 num of all batch rules = 72\n=====> stored rules: 9381\n=====> batch [ACYCLIC 1] 940 (sampled 147080 pathes) *****\n=====> fraction of previously seen rules within useful rules in this batch: 0.9705882352941176 num of new rule = 2 num of previously rule = 66 num of all batch rules = 68\n=====> stored rules: 9383\n=====> batch [ACYCLIC 1] 941 (sampled 147120 pathes) *****\n=====> fraction of previously seen rules within useful rules in this batch: 0.8536585365853658 num of new rule = 12 num of previously rule = 70 num of all batch rules = 82\n=====> stored rules: 9395\n=====> batch [ACYCLIC 1] 942 (sampled 147160 pathes) *****\n=====> fraction of previously seen rules within useful rules in this batch: 0.84 num of new rule = 12 num of previously rule = 63 num of all batch rules = 75\n=====> stored rules: 9407\n=====> batch [ACYCLIC 1] 943 (sampled 147201 pathes) *****\n=====> fraction of previously seen rules within useful rules in this batch: 0.8902439024390244 num of new rule = 9 num of previously rule = 73 num of all batch rules = 82\n=====> stored rules: 9416\n=====> batch [ACYCLIC 1] 944 (sampled 147242 pathes) *****\n=====> fraction of previously seen rules within useful rules in this batch: 0.8933333333333333 num of new rule = 8 num of previously rule = 67 num of all batch rules = 75\n=====> stored rules: 9424\n=====> batch [ACYCLIC 1] 945 (sampled 147281 pathes) *****\n=====> fraction of previously seen rules within useful rules in this batch: 0.8985507246376812 num of new rule = 7 num of previously rule = 62 num of all batch rules = 69\n=====> stored rules: 9431\n=====> batch [ACYCLIC 1] 946 (sampled 147319 pathes) *****\n=====> fraction of previously seen rules within useful rules in this batch: 0.9545454545454546 num of new rule = 3 num of previously rule = 63 num of all batch rules = 66\n=====> stored rules: 9434\n=====> batch [ACYCLIC 1] 947 (sampled 147358 pathes) *****\n=====> fraction of previously seen rules within useful rules in this batch: 0.9166666666666666 num of new rule = 6 num of previously rule = 66 num of all batch rules = 72\n=====> stored rules: 9440\n=====> batch [ACYCLIC 1] 948 (sampled 147400 pathes) *****\n=====> fraction of previously seen rules within useful rules in this batch: 0.9714285714285714 num of new rule = 2 num of previously rule = 68 num of all batch rules = 70\n=====> stored rules: 9442\n=====> batch [ACYCLIC 1] 949 (sampled 147441 pathes) *****\n=====> fraction of previously seen rules within useful rules in this batch: 0.9459459459459459 num of new rule = 4 num of previously rule = 70 num of all batch rules = 74\n=====> stored rules: 9446\n=====> batch [ACYCLIC 1] 950 (sampled 147483 pathes) *****\n=====> fraction of previously seen rules within useful rules in this batch: 0.9620253164556962 num of new rule = 3 num of previously rule = 76 num of all batch rules = 79\n=====> stored rules: 9449\n=====> batch [ACYCLIC 1] 951 (sampled 147524 pathes) *****\n=====> fraction of previously seen rules within useful rules in this batch: 0.9 num of new rule = 8 num of previously rule = 72 num of all batch rules = 80\n=====> stored rules: 9457\n=====> batch [ACYCLIC 1] 952 (sampled 147566 pathes) *****\n=====> fraction of previously seen rules within useful rules in this batch: 0.975609756097561 num of new rule = 2 num of previously rule = 80 num of all batch rules = 82\n=====> stored rules: 9459\n=====> batch [ACYCLIC 1] 953 (sampled 147609 pathes) *****\n=====> fraction of previously seen rules within useful rules in this batch: 0.9358974358974359 num of new rule = 5 num of previously rule = 73 num of all batch rules = 78\n=====> stored rules: 9464\n=====> batch [ACYCLIC 1] 954 (sampled 147651 pathes) *****\n=====> fraction of previously seen rules within useful rules in this batch: 0.9358974358974359 num of new rule = 5 num of previously rule = 73 num of all batch rules = 78\n=====> stored rules: 9469\n=====> batch [ACYCLIC 1] 955 (sampled 147693 pathes) *****\n=====> fraction of previously seen rules within useful rules in this batch: 0.8809523809523809 num of new rule = 10 num of previously rule = 74 num of all batch rules = 84\n=====> stored rules: 9479\n=====> batch [ACYCLIC 1] 956 (sampled 147736 pathes) *****\n=====> fraction of previously seen rules within useful rules in this batch: 0.9240506329113924 num of new rule = 6 num of previously rule = 73 num of all batch rules = 79\n=====> stored rules: 9485\n=====> batch [ACYCLIC 1] 957 (sampled 147778 pathes) *****\n=====> fraction of previously seen rules within useful rules in this batch: 0.8311688311688312 num of new rule = 13 num of previously rule = 64 num of all batch rules = 77\n=====> stored rules: 9498\n=====> batch [ACYCLIC 1] 958 (sampled 147820 pathes) *****\n=====> fraction of previously seen rules within useful rules in this batch: 0.9125 num of new rule = 7 num of previously rule = 73 num of all batch rules = 80\n=====> stored rules: 9505\n=====> batch [ACYCLIC 1] 959 (sampled 147863 pathes) *****\n=====> fraction of previously seen rules within useful rules in this batch: 0.8313253012048193 num of new rule = 14 num of previously rule = 69 num of all batch rules = 83\n=====> stored rules: 9519\n=====> batch [ACYCLIC 1] 960 (sampled 147905 pathes) *****\n=====> fraction of previously seen rules within useful rules in this batch: 0.9425287356321839 num of new rule = 5 num of previously rule = 82 num of all batch rules = 87\n=====> stored rules: 9524\n=====> batch [ACYCLIC 1] 961 (sampled 147946 pathes) *****\n=====> fraction of previously seen rules within useful rules in this batch: 0.8765432098765432 num of new rule = 10 num of previously rule = 71 num of all batch rules = 81\n=====> stored rules: 9534\n=====> batch [ACYCLIC 1] 962 (sampled 147989 pathes) *****\n=====> fraction of previously seen rules within useful rules in this batch: 0.8795180722891566 num of new rule = 10 num of previously rule = 73 num of all batch rules = 83\n=====> stored rules: 9544\n=====> batch [ACYCLIC 1] 963 (sampled 148031 pathes) *****\n=====> fraction of previously seen rules within useful rules in this batch: 0.8533333333333334 num of new rule = 11 num of previously rule = 64 num of all batch rules = 75\n=====> stored rules: 9555\n=====> batch [ACYCLIC 1] 964 (sampled 148074 pathes) *****\n=====> fraction of previously seen rules within useful rules in this batch: 0.8765432098765432 num of new rule = 10 num of previously rule = 71 num of all batch rules = 81\n=====> stored rules: 9565\n=====> batch [ACYCLIC 1] 965 (sampled 148117 pathes) *****\n=====> fraction of previously seen rules within useful rules in this batch: 0.9104477611940298 num of new rule = 6 num of previously rule = 61 num of all batch rules = 67\n=====> stored rules: 9571\n=====> batch [ACYCLIC 1] 966 (sampled 148160 pathes) *****\n=====> fraction of previously seen rules within useful rules in this batch: 0.9027777777777778 num of new rule = 7 num of previously rule = 65 num of all batch rules = 72\n=====> stored rules: 9578\n=====> batch [ACYCLIC 1] 967 (sampled 148202 pathes) *****\n=====> fraction of previously seen rules within useful rules in this batch: 0.9135802469135802 num of new rule = 7 num of previously rule = 74 num of all batch rules = 81\n=====> stored rules: 9585\n=====> batch [ACYCLIC 1] 968 (sampled 148246 pathes) *****\n=====> fraction of previously seen rules within useful rules in this batch: 0.9024390243902439 num of new rule = 8 num of previously rule = 74 num of all batch rules = 82\n=====> stored rules: 9593\n=====> batch [ACYCLIC 1] 969 (sampled 148288 pathes) *****\n=====> fraction of previously seen rules within useful rules in this batch: 0.96 num of new rule = 3 num of previously rule = 72 num of all batch rules = 75\n=====> stored rules: 9596\n=====> batch [ACYCLIC 1] 970 (sampled 148330 pathes) *****\n=====> fraction of previously seen rules within useful rules in this batch: 0.863013698630137 num of new rule = 10 num of previously rule = 63 num of all batch rules = 73\n=====> stored rules: 9606\n=====> batch [ACYCLIC 1] 971 (sampled 148372 pathes) *****\n=====> fraction of previously seen rules within useful rules in this batch: 0.9753086419753086 num of new rule = 2 num of previously rule = 79 num of all batch rules = 81\n=====> stored rules: 9608\n=====> batch [ACYCLIC 1] 972 (sampled 148415 pathes) *****\n=====> fraction of previously seen rules within useful rules in this batch: 0.896551724137931 num of new rule = 9 num of previously rule = 78 num of all batch rules = 87\n=====> stored rules: 9617\n=====> batch [ACYCLIC 1] 973 (sampled 148457 pathes) *****\n=====> fraction of previously seen rules within useful rules in this batch: 0.9078947368421053 num of new rule = 7 num of previously rule = 69 num of all batch rules = 76\n=====> stored rules: 9624\n=====> batch [ACYCLIC 1] 974 (sampled 148499 pathes) *****\n=====> fraction of previously seen rules within useful rules in this batch: 0.9210526315789473 num of new rule = 6 num of previously rule = 70 num of all batch rules = 76\n=====> stored rules: 9630\n=====> batch [ACYCLIC 1] 975 (sampled 148541 pathes) *****\n=====> fraction of previously seen rules within useful rules in this batch: 0.9259259259259259 num of new rule = 6 num of previously rule = 75 num of all batch rules = 81\n=====> stored rules: 9636\n=====> batch [ACYCLIC 1] 976 (sampled 148583 pathes) *****\n=====> fraction of previously seen rules within useful rules in this batch: 0.9024390243902439 num of new rule = 8 num of previously rule = 74 num of all batch rules = 82\n=====> stored rules: 9644\n=====> batch [ACYCLIC 1] 977 (sampled 148625 pathes) *****\n=====> fraction of previously seen rules within useful rules in this batch: 0.9436619718309859 num of new rule = 4 num of previously rule = 67 num of all batch rules = 71\n=====> stored rules: 9648\n=====> batch [ACYCLIC 1] 978 (sampled 148668 pathes) *****\n=====> fraction of previously seen rules within useful rules in this batch: 0.875 num of new rule = 10 num of previously rule = 70 num of all batch rules = 80\n=====> stored rules: 9658\n=====> batch [ACYCLIC 1] 979 (sampled 148710 pathes) *****\n=====> fraction of previously seen rules within useful rules in this batch: 0.9324324324324325 num of new rule = 5 num of previously rule = 69 num of all batch rules = 74\n=====> stored rules: 9663\n=====> batch [ACYCLIC 1] 980 (sampled 148752 pathes) *****\n=====> fraction of previously seen rules within useful rules in this batch: 0.918918918918919 num of new rule = 6 num of previously rule = 68 num of all batch rules = 74\n=====> stored rules: 9669\n=====> batch [ACYCLIC 1] 981 (sampled 148796 pathes) *****\n=====> fraction of previously seen rules within useful rules in this batch: 0.9047619047619048 num of new rule = 8 num of previously rule = 76 num of all batch rules = 84\n=====> stored rules: 9677\n=====> batch [ACYCLIC 1] 982 (sampled 148839 pathes) *****\n=====> fraction of previously seen rules within useful rules in this batch: 0.875 num of new rule = 10 num of previously rule = 70 num of all batch rules = 80\n=====> stored rules: 9687\ncreated snapshot 3 after 1001 seconds\n*************************done learning*********************************\n"
    },
    {
     "output_type": "execute_result",
     "data": {
      "text/plain": "0"
     },
     "metadata": {},
     "execution_count": 2
    }
   ],
   "source": [
    "learner.train()"
   ]
  },
  {
   "cell_type": "code",
   "execution_count": 3,
   "metadata": {},
   "outputs": [],
   "source": [
    "from predict import Predict\n",
    "\n",
    "predictior = Predict()"
   ]
  },
  {
   "cell_type": "code",
   "execution_count": 4,
   "metadata": {
    "tags": []
   },
   "outputs": [
    {
     "output_type": "stream",
     "name": "stdout",
     "text": "* indexed 100000 triples\n* set up index for 18 relations, 40504 head entities, and 40551 tail entities\n* set up index for 18 relations, 4349 head entities, and 4263 tail entities\n* set up index for 18 relations, 4262 head entities, and 4338 tail entities\nstep 0 parsing line 3\t2\t0.6666666666666666\t_derivationally_related_form(X,00782527) <= _derivationally_related_form(X,01807529)\nstep 1000 parsing line 6\t6\t1.0\t_derivationally_related_form(13279262,Y) <= _derivationally_related_form(Y,13279262)\nstep 2000 parsing line 500\t2\t0.004\t_part_of(X,05503705) <= _has_part(A,X)\nstep 3000 parsing line 2\t2\t1.0\t_derivationally_related_form(13771828,Y) <= _derivationally_related_form(Y,13771828)\nstep 4000 parsing line 4\t4\t1.0\t_derivationally_related_form(X,11480930) <= _derivationally_related_form(X,04981139)\nstep 5000 parsing line 2\t2\t1.0\t_synset_domain_topic_of(X,00933420) <= _derivationally_related_form(10391653,X)\nstep 6000 parsing line 500\t2\t0.004\t_hyponym(02691156,Y) <= _synset_domain_topic_of(Y,A)\nstep 7000 parsing line 26\t24\t0.9230769230769231\t_has_part(09117351,Y) <= _part_of(Y,09117351)\nstep 8000 parsing line 15\t12\t0.8\t_hyponym(10557854,Y) <= _hypernym(Y,10557854)\nstep 9000 parsing line 2\t2\t1.0\t_hypernym(X,03739518) <= _hyponym(03739518,X)\nstep 10000 parsing line 47547\t99\t0.002082150293393905\t_hypernym(X,Y) <= _member_of_domain_topic(A,Y),_member_of_domain_topic(A,X)\n*** read rules 10502 rom file learning_rules/rule_1000.txt\n* applying rules\n* set up index structure covering rules for 18 different relations\n* constructed filter set with 151442 triples\n* (# 0 ) trying to guess the tail/head of 06845599 _member_of_domain_usage 03754979\nElapsed (s) = 0\n* (# 100 ) trying to guess the tail/head of 00802946 _derivationally_related_form 01141841\nElapsed (s) = 3\n* (# 200 ) trying to guess the tail/head of 00940384 _hyponym 00903212\nElapsed (s) = 3\n* (# 300 ) trying to guess the tail/head of 01589125 _member_meronym 01589286\nElapsed (s) = 3\n* (# 400 ) trying to guess the tail/head of 11534677 _hyponym 13140535\nElapsed (s) = 3\n* (# 500 ) trying to guess the tail/head of 00670261 _hyponym 00726300\nElapsed (s) = 2\n* (# 600 ) trying to guess the tail/head of 11886380 _member_holonym 11867525\nElapsed (s) = 3\n* (# 700 ) trying to guess the tail/head of 05296253 _part_of 05461816\nElapsed (s) = 3\n* (# 800 ) trying to guess the tail/head of 13576355 _hyponym 13777344\nElapsed (s) = 3\n* (# 900 ) trying to guess the tail/head of 01711297 _member_holonym 01710348\nElapsed (s) = 3\n* (# 1000 ) trying to guess the tail/head of 10771270 _derivationally_related_form 01041415\nElapsed (s) = 3\n* (# 1100 ) trying to guess the tail/head of 00043765 _derivationally_related_form 02603699\nElapsed (s) = 3\n* (# 1200 ) trying to guess the tail/head of 05009170 _hyponym 05019661\nElapsed (s) = 3\n* (# 1300 ) trying to guess the tail/head of 01507175 _hyponym 01530256\nElapsed (s) = 3\n* (# 1400 ) trying to guess the tail/head of 08510666 _hyponym 08629508\nElapsed (s) = 3\n* (# 1500 ) trying to guess the tail/head of 08945821 _instance_hypernym 08698379\nElapsed (s) = 3\n* (# 1600 ) trying to guess the tail/head of 01225562 _derivationally_related_form 00011551\nElapsed (s) = 3\n* (# 1700 ) trying to guess the tail/head of 01105639 _hyponym 01106670\nElapsed (s) = 3\n* (# 1800 ) trying to guess the tail/head of 15068436 _hypernym 14818238\nElapsed (s) = 3\n* (# 1900 ) trying to guess the tail/head of 07781319 _part_of 02624551\nElapsed (s) = 2\n* (# 2000 ) trying to guess the tail/head of 01504437 _hyponym 01550429\nElapsed (s) = 2\n* (# 2100 ) trying to guess the tail/head of 01941670 _member_meronym 01952162\nElapsed (s) = 2\n* (# 2200 ) trying to guess the tail/head of 00044353 _derivationally_related_form 05792010\nElapsed (s) = 2\n* (# 2300 ) trying to guess the tail/head of 00021939 _hyponym 03573282\nElapsed (s) = 3\n* (# 2400 ) trying to guess the tail/head of 06136258 _member_of_domain_topic 00729642\nElapsed (s) = 2\n* (# 2500 ) trying to guess the tail/head of 01447868 _also_see 01675780\nElapsed (s) = 2\n* (# 2600 ) trying to guess the tail/head of 01407904 _synset_domain_topic_of 00464894\nElapsed (s) = 2\n* (# 2700 ) trying to guess the tail/head of 02446352 _hypernym 02445715\nElapsed (s) = 2\n* (# 2800 ) trying to guess the tail/head of 06149484 _member_of_domain_topic 14444326\nElapsed (s) = 2\n* (# 2900 ) trying to guess the tail/head of 02104882 _hypernym 02104523\nElapsed (s) = 2\n* (# 3000 ) trying to guess the tail/head of 10745332 _hypernym 09863238\nElapsed (s) = 3\n* (# 3100 ) trying to guess the tail/head of 15006258 _hyponym 14872875\nElapsed (s) = 2\n* (# 3200 ) trying to guess the tail/head of 11860801 _hypernym 11573660\nElapsed (s) = 2\n* (# 3300 ) trying to guess the tail/head of 08889191 _instance_hypernym 08691669\nElapsed (s) = 2\n* (# 3400 ) trying to guess the tail/head of 03804744 _derivationally_related_form 01357831\nElapsed (s) = 3\n* (# 3500 ) trying to guess the tail/head of 01507175 _hyponym 02009015\nElapsed (s) = 2\n* (# 3600 ) trying to guess the tail/head of 01021420 _hyponym 00763399\nElapsed (s) = 2\n* (# 3700 ) trying to guess the tail/head of 11567411 _hyponym 12395717\nElapsed (s) = 3\n* (# 3800 ) trying to guess the tail/head of 01081001 _hypernym 01079480\nElapsed (s) = 2\n* (# 3900 ) trying to guess the tail/head of 15298011 _synset_domain_topic_of 06128570\nElapsed (s) = 2\n* (# 4000 ) trying to guess the tail/head of 12701901 _hypernym 11585340\nElapsed (s) = 2\n* (# 4100 ) trying to guess the tail/head of 08199025 _member_of_domain_topic 06804847\nElapsed (s) = 2\n* (# 4200 ) trying to guess the tail/head of 10325243 _derivationally_related_form 00475819\nElapsed (s) = 2\n* (# 4300 ) trying to guess the tail/head of 08359949 _hypernym 08189659\nElapsed (s) = 2\n* (# 4400 ) trying to guess the tail/head of 00431117 _derivationally_related_form 00357906\nElapsed (s) = 2\n* (# 4500 ) trying to guess the tail/head of 02483564 _derivationally_related_form 13737480\nElapsed (s) = 3\n* (# 4600 ) trying to guess the tail/head of 00289175 _hypernym 00288970\nElapsed (s) = 3\n* (# 4700 ) trying to guess the tail/head of 08227214 _hypernym 08049401\nElapsed (s) = 3\n* (# 4800 ) trying to guess the tail/head of 02116777 _verb_group 02116568\nElapsed (s) = 2\n* (# 4900 ) trying to guess the tail/head of 06808720 _hyponym 06811625\nElapsed (s) = 2\n* done with rule application\n* evaluated 10502 rules to propose candiates for 5000 *2 completion tasks\n* finished in 199694 ms.\n"
    }
   ],
   "source": [
    "predictior.prediction()"
   ]
  },
  {
   "cell_type": "code",
   "execution_count": 1,
   "metadata": {},
   "outputs": [
    {
     "output_type": "execute_result",
     "data": {
      "text/plain": "{'path_rules': ['learning_rules/alpha-100'],\n 'path_training': '../../datasets/WN18/train.txt',\n 'path_valid': '../../datasets/WN18/valid.txt',\n 'path_test': '../../datasets/WN18/test.txt',\n 'unseen_nagative_examples': 5,\n 'top_k_output': 10,\n 'threshold_confidence_predictions': 2,\n 'threshold_confidence': 1e-05}"
     },
     "metadata": {},
     "execution_count": 1
    }
   ],
   "source": [
    "from config.config_yaml import Config\n",
    "\n",
    "Config.load_predict_config()"
   ]
  },
  {
   "cell_type": "code",
   "execution_count": 3,
   "metadata": {},
   "outputs": [
    {
     "output_type": "execute_result",
     "data": {
      "text/plain": "{'path_training': '../../datasets/WN18/train.txt',\n 'path_valid': '../../datasets/WN18/valid.txt',\n 'path_test': '../../datasets/WN18/test.txt',\n 'path_prediction': 'predictions/alpha-100'}"
     },
     "metadata": {},
     "execution_count": 3
    }
   ],
   "source": [
    "from config.config_yaml import Config\n",
    "\n",
    "Config.load_eval_config()"
   ]
  },
  {
   "cell_type": "code",
   "execution_count": 4,
   "metadata": {},
   "outputs": [
    {
     "output_type": "execute_result",
     "data": {
      "text/plain": "{'path_training': '../../datasets/WN18/train.txt',\n 'path_output': '../../datasets/WN18/valid.txt',\n 'snapshots_at': [10, 50, 100],\n 'saturation': 0.99,\n 'sample_size': 500,\n 'batch_time': 1000,\n 'threshold_correct_predictions': 2,\n 'threshold_confidence': 1e-05,\n 'max_length_cylic': 3,\n 'max_length_acylic': 2,\n 'discrimination_bound': 1000,\n 'trial_size': 100000}"
     },
     "metadata": {},
     "execution_count": 4
    }
   ],
   "source": [
    "Config.load_learning_config()"
   ]
  },
  {
   "cell_type": "code",
   "execution_count": 5,
   "metadata": {
    "tags": []
   },
   "outputs": [
    {
     "output_type": "stream",
     "name": "stdout",
     "text": "* indexed 100000 triples\n* set up index for 18 relations, 40504 head entities, and 40551 tail entities\n* set up index for 18 relations, 4262 head entities, and 4338 tail entities\n* set up index for 18 relations, 4349 head entities, and 4263 tail entities\n"
    }
   ],
   "source": [
    "from evaluation import Evaluation\n",
    "eval = Evaluation()"
   ]
  },
  {
   "cell_type": "code",
   "execution_count": 6,
   "metadata": {
    "tags": []
   },
   "outputs": [
    {
     "output_type": "stream",
     "name": "stdout",
     "text": "hits@1   hits@3    hits@10\n0.9404\t0.9419\t0.9436\n"
    }
   ],
   "source": [
    "eval.eval()"
   ]
  },
  {
   "cell_type": "code",
   "execution_count": null,
   "metadata": {},
   "outputs": [],
   "source": [
    "from rule_io.rule_reader import RuleReader\n",
    "reader = RuleReader('./learning_rules/alpha-100')"
   ]
  },
  {
   "cell_type": "code",
   "execution_count": 19,
   "metadata": {},
   "outputs": [],
   "source": [
    "from structure.rule import Rule\n",
    "from structure.atom import Atom\n",
    "\n",
    "def parsing(str_rule):\n",
    "    token = str_rule.split('\\t')\n",
    "    # print(token)\n",
    "    rule = Rule()\n",
    "    rule.init_measure(int(token[0]), int(token[1]), float(token[2]))\n",
    "    # print(token[3])\n",
    "    # print(rule)\n",
    "    atoms = token[3].split(' ')\n",
    "    print(atoms)\n",
    "    head = Atom()\n",
    "    head.from_atom_representation(atoms[0])\n",
    "    rule.head = head\n",
    "    for i in range(2, len(atoms)):\n",
    "      atom_body = Atom()\n",
    "      atom_body.from_atom_representation(atoms[i])\n",
    "      rule.body.append(atom_body)\n",
    "    print(rule)\n",
    "    # return rule\n",
    "\n",
    "def read():\n",
    "    rules = []\n",
    "    file_reader = open('./learning_rules/alpha-100', 'r')\n",
    "    i = 1\n",
    "    for line in file_reader:\n",
    "        line = line.strip()\n",
    "        if len(line) == 0:\n",
    "            break\n",
    "        if i % 10 == 0:\n",
    "            print('step {} parsing line {}'.format(i, line))\n",
    "            return\n",
    "        rule = parsing(line)\n",
    "        rules.append(rule)\n",
    "        i += 1\n",
    "    return rules"
   ]
  },
  {
   "cell_type": "code",
   "execution_count": 20,
   "metadata": {
    "tags": []
   },
   "outputs": [
    {
     "output_type": "stream",
     "name": "stdout",
     "text": "['_hyponym(01557774,Y)', '<=', '_derivationally_related_form(Y,A)']\n500\t2\t0.004\t_hyponym(01557774,Y) <= _derivationally_related_form(Y,A)\n['_hypernym(X,00884466)', '<=', '_hyponym(00884466,X)']\n3\t3\t1.0\t_hypernym(X,00884466) <= _hyponym(00884466,X)\n['_instance_hyponym(X,11370654)', '<=', '_instance_hyponym(X,A)']\n410\t2\t0.004878048780487805\t_instance_hyponym(X,11370654) <= _instance_hyponym(X,A)\n['_member_holonym(X,02391782)', '<=', '_member_meronym(02391782,X)']\n3\t3\t1.0\t_member_holonym(X,02391782) <= _member_meronym(02391782,X)\n['_hypernym(X,08324514)', '<=', '_member_of_domain_region(08860123,X)']\n442\t2\t0.004524886877828055\t_hypernym(X,08324514) <= _member_of_domain_region(08860123,X)\n['_hypernym(X,03315023)', '<=', '_hyponym(03315023,X)']\n14\t14\t1.0\t_hypernym(X,03315023) <= _hyponym(03315023,X)\n['_hyponym(01939598,Y)', '<=', '_member_holonym(A,Y)']\n500\t2\t0.004\t_hyponym(01939598,Y) <= _member_holonym(A,Y)\n['_has_part(X,09195372)', '<=', '_instance_hyponym(08702402,X)']\n11\t2\t0.18181818181818182\t_has_part(X,09195372) <= _instance_hyponym(08702402,X)\n['_derivationally_related_form(X,01683582)', '<=', '_derivationally_related_form(01683582,X)']\n4\t4\t1.0\t_derivationally_related_form(X,01683582) <= _derivationally_related_form(01683582,X)\nstep 10 parsing line 3\t3\t1.0\t_derivationally_related_form(01066163,Y) <= _derivationally_related_form(Y,01066163)\n"
    }
   ],
   "source": [
    "read()"
   ]
  },
  {
   "cell_type": "code",
   "execution_count": null,
   "metadata": {},
   "outputs": [],
   "source": []
  }
 ]
}