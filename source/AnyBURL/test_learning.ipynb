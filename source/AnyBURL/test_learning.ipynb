{
 "metadata": {
  "language_info": {
   "codemirror_mode": {
    "name": "ipython",
    "version": 3
   },
   "file_extension": ".py",
   "mimetype": "text/x-python",
   "name": "python",
   "nbconvert_exporter": "python",
   "pygments_lexer": "ipython3",
   "version": "3.7.3-final"
  },
  "orig_nbformat": 2,
  "kernelspec": {
   "name": "python3",
   "display_name": "Python 3"
  }
 },
 "nbformat": 4,
 "nbformat_minor": 2,
 "cells": [
  {
   "cell_type": "code",
   "execution_count": 1,
   "metadata": {},
   "outputs": [],
   "source": [
    "from learning import Learning\n",
    "\n",
    "learner = Learning()"
   ]
  },
  {
   "cell_type": "code",
   "execution_count": 2,
   "metadata": {
    "tags": []
   },
   "outputs": [
    {
     "output_type": "stream",
     "name": "stdout",
     "text": "* indexed 100000 triples\n* set up index for 18 relations, 40504 head entities, and 40551 tail entities\n=====> batch [ACYCLIC 1] 1 (sampled 259 pathes) *****\n=====> fraction of previously seen rules within useful rules in this batch: 0.8115942028985508 num of new rule = 91 num of previously rule = 392 num of all batch rules = 483\n=====> stored rules: 91\n=====> batch [CYCLIC 1] 2 (sampled 3384 pathes) *****\n=====> fraction of previously seen rules within useful rules in this batch: 0.9916666666666667 num of new rule = 12 num of previously rule = 1428 num of all batch rules = 1440\n=====> stored rules: 103\n=========================================================\n=====> increasing rule size of CYCLIC rule to 2\n=====> batch [ACYCLIC 1] 3 (sampled 3733 pathes) *****\n=====> fraction of previously seen rules within useful rules in this batch: 0.8525121555915721 num of new rule = 91 num of previously rule = 526 num of all batch rules = 617\n=====> stored rules: 194\n=====> batch [CYCLIC 2] 4 (sampled 4253 pathes) *****\n=====> fraction of previously seen rules within useful rules in this batch: 0.2 num of new rule = 12 num of previously rule = 3 num of all batch rules = 15\n=====> stored rules: 12\n=====> batch [ACYCLIC 1] 5 (sampled 4580 pathes) *****\n=====> fraction of previously seen rules within useful rules in this batch: 0.8274111675126904 num of new rule = 102 num of previously rule = 489 num of all batch rules = 591\n=====> stored rules: 296\n=====> batch [CYCLIC 2] 6 (sampled 5064 pathes) *****\n=====> fraction of previously seen rules within useful rules in this batch: 0.3076923076923077 num of new rule = 9 num of previously rule = 4 num of all batch rules = 13\n=====> stored rules: 21\n=====> batch [ACYCLIC 1] 7 (sampled 5412 pathes) *****\n=====> fraction of previously seen rules within useful rules in this batch: 0.8515151515151516 num of new rule = 98 num of previously rule = 562 num of all batch rules = 660\n=====> stored rules: 394\n=====> batch [CYCLIC 2] 8 (sampled 5713 pathes) *****\n=====> fraction of previously seen rules within useful rules in this batch: 0.0 num of new rule = 11 num of previously rule = 0 num of all batch rules = 11\n=====> stored rules: 32\n=====> batch [ACYCLIC 1] 9 (sampled 6107 pathes) *****\n=====> fraction of previously seen rules within useful rules in this batch: 0.8535211267605634 num of new rule = 104 num of previously rule = 606 num of all batch rules = 710\n=====> stored rules: 498\n=====> batch [CYCLIC 2] 10 (sampled 6660 pathes) *****\n=====> fraction of previously seen rules within useful rules in this batch: 0.3157894736842105 num of new rule = 13 num of previously rule = 6 num of all batch rules = 19\n=====> stored rules: 45\n=====> batch [ACYCLIC 1] 11 (sampled 7000 pathes) *****\n=====> fraction of previously seen rules within useful rules in this batch: 0.8763866877971473 num of new rule = 78 num of previously rule = 553 num of all batch rules = 631\n=====> stored rules: 576\ncreated snapshot 1 after 11 seconds\n=====> batch [CYCLIC 2] 12 (sampled 7984 pathes) *****\n=====> fraction of previously seen rules within useful rules in this batch: 0.43333333333333335 num of new rule = 17 num of previously rule = 13 num of all batch rules = 30\n=====> stored rules: 62\n=====> batch [ACYCLIC 1] 13 (sampled 8386 pathes) *****\n=====> fraction of previously seen rules within useful rules in this batch: 0.8490813648293963 num of new rule = 115 num of previously rule = 647 num of all batch rules = 762\n=====> stored rules: 691\n=====> batch [CYCLIC 2] 14 (sampled 8712 pathes) *****\n=====> fraction of previously seen rules within useful rules in this batch: 0.375 num of new rule = 5 num of previously rule = 3 num of all batch rules = 8\n=====> stored rules: 67\n=====> batch [ACYCLIC 1] 15 (sampled 9093 pathes) *****\n=====> fraction of previously seen rules within useful rules in this batch: 0.8426812585499316 num of new rule = 115 num of previously rule = 616 num of all batch rules = 731\n=====> stored rules: 806\n=====> batch [CYCLIC 2] 16 (sampled 9759 pathes) *****\n=====> fraction of previously seen rules within useful rules in this batch: 0.17647058823529413 num of new rule = 14 num of previously rule = 3 num of all batch rules = 17\n=====> stored rules: 81\n=====> batch [ACYCLIC 1] 17 (sampled 10125 pathes) *****\n=====> fraction of previously seen rules within useful rules in this batch: 0.8498542274052479 num of new rule = 103 num of previously rule = 583 num of all batch rules = 686\n=====> stored rules: 909\n=====> batch [CYCLIC 2] 18 (sampled 10598 pathes) *****\n=====> fraction of previously seen rules within useful rules in this batch: 0.46153846153846156 num of new rule = 7 num of previously rule = 6 num of all batch rules = 13\n=====> stored rules: 88\n=====> batch [ACYCLIC 1] 19 (sampled 10991 pathes) *****\n=====> fraction of previously seen rules within useful rules in this batch: 0.8519040902679831 num of new rule = 105 num of previously rule = 604 num of all batch rules = 709\n=====> stored rules: 1014\n=====> batch [CYCLIC 2] 20 (sampled 11503 pathes) *****\n=====> fraction of previously seen rules within useful rules in this batch: 0.5 num of new rule = 6 num of previously rule = 6 num of all batch rules = 12\n=====> stored rules: 94\n=====> batch [ACYCLIC 1] 21 (sampled 11855 pathes) *****\n=====> fraction of previously seen rules within useful rules in this batch: 0.8291233283803864 num of new rule = 115 num of previously rule = 558 num of all batch rules = 673\n=====> stored rules: 1129\n=====> batch [CYCLIC 2] 22 (sampled 12175 pathes) *****\n=====> fraction of previously seen rules within useful rules in this batch: 0.4 num of new rule = 9 num of previously rule = 6 num of all batch rules = 15\n=====> stored rules: 103\n=====> batch [ACYCLIC 1] 23 (sampled 12546 pathes) *****\n=====> fraction of previously seen rules within useful rules in this batch: 0.8486646884272997 num of new rule = 102 num of previously rule = 572 num of all batch rules = 674\n=====> stored rules: 1231\n=====> batch [CYCLIC 2] 24 (sampled 13270 pathes) *****\n=====> fraction of previously seen rules within useful rules in this batch: 0.5454545454545454 num of new rule = 10 num of previously rule = 12 num of all batch rules = 22\n=====> stored rules: 113\n=====> batch [ACYCLIC 1] 25 (sampled 13642 pathes) *****\n=====> fraction of previously seen rules within useful rules in this batch: 0.8552238805970149 num of new rule = 97 num of previously rule = 573 num of all batch rules = 670\n=====> stored rules: 1328\n=====> batch [CYCLIC 2] 26 (sampled 14149 pathes) *****\n=====> fraction of previously seen rules within useful rules in this batch: 0.6 num of new rule = 6 num of previously rule = 9 num of all batch rules = 15\n=====> stored rules: 119\n=====> batch [ACYCLIC 1] 27 (sampled 14533 pathes) *****\n=====> fraction of previously seen rules within useful rules in this batch: 0.8528571428571429 num of new rule = 103 num of previously rule = 597 num of all batch rules = 700\n=====> stored rules: 1431\n=====> batch [CYCLIC 2] 28 (sampled 15259 pathes) *****\n=====> fraction of previously seen rules within useful rules in this batch: 0.625 num of new rule = 9 num of previously rule = 15 num of all batch rules = 24\n=====> stored rules: 128\n=====> batch [ACYCLIC 1] 29 (sampled 15649 pathes) *****\n=====> fraction of previously seen rules within useful rules in this batch: 0.8770053475935828 num of new rule = 92 num of previously rule = 656 num of all batch rules = 748\n=====> stored rules: 1523\n=====> batch [CYCLIC 2] 30 (sampled 16191 pathes) *****\n=====> fraction of previously seen rules within useful rules in this batch: 0.6 num of new rule = 8 num of previously rule = 12 num of all batch rules = 20\n=====> stored rules: 136\n=====> batch [ACYCLIC 1] 31 (sampled 16602 pathes) *****\n=====> fraction of previously seen rules within useful rules in this batch: 0.849802371541502 num of new rule = 114 num of previously rule = 645 num of all batch rules = 759\n=====> stored rules: 1637\n=====> batch [CYCLIC 2] 32 (sampled 17103 pathes) *****\n=====> fraction of previously seen rules within useful rules in this batch: 0.5909090909090909 num of new rule = 9 num of previously rule = 13 num of all batch rules = 22\n=====> stored rules: 145\n=====> batch [ACYCLIC 1] 33 (sampled 17432 pathes) *****\n=====> fraction of previously seen rules within useful rules in this batch: 0.867003367003367 num of new rule = 79 num of previously rule = 515 num of all batch rules = 594\n=====> stored rules: 1716\n=====> batch [CYCLIC 2] 34 (sampled 17663 pathes) *****\n=====> fraction of previously seen rules within useful rules in this batch: 0.4166666666666667 num of new rule = 7 num of previously rule = 5 num of all batch rules = 12\n=====> stored rules: 152\n=====> batch [ACYCLIC 1] 35 (sampled 17985 pathes) *****\n=====> fraction of previously seen rules within useful rules in this batch: 0.8578595317725752 num of new rule = 85 num of previously rule = 513 num of all batch rules = 598\n=====> stored rules: 1801\n"
    }
   ],
   "source": [
    "learner.train()"
   ]
  },
  {
   "cell_type": "code",
   "execution_count": 1,
   "metadata": {},
   "outputs": [],
   "source": [
    "from predict import Predict\n",
    "\n",
    "predictior = Predict()"
   ]
  },
  {
   "cell_type": "code",
   "execution_count": 2,
   "metadata": {
    "tags": []
   },
   "outputs": [
    {
     "output_type": "stream",
     "name": "stdout",
     "text": "* indexed 100000 triples\n* set up index for 18 relations, 40504 head entities, and 40551 tail entities\n* set up index for 18 relations, 4349 head entities, and 4263 tail entities\n* set up index for 18 relations, 4262 head entities, and 4338 tail entities\nstep 0 parsing line 500\t2\t0.004\t_hyponym(01557774,Y) <= _derivationally_related_form(Y,A)\nstep 1000 parsing line 60\t56\t0.9333333333333333\t_synset_domain_usage_of(X,07075172) <= _member_of_domain_usage(07075172,X)\nstep 2000 parsing line 24\t2\t0.08333333333333333\t_synset_domain_topic_of(X,11094611) <= _synset_domain_topic_of(X,06136258)\nstep 3000 parsing line 6\t4\t0.6666666666666666\t_derivationally_related_form(00882702,Y) <= _derivationally_related_form(Y,05658226)\nstep 4000 parsing line 8\t5\t0.625\t_synset_domain_topic_of(X,00480508) <= _member_of_domain_topic(00482298,X)\nstep 5000 parsing line 2\t2\t1.0\t_hypernym(X,00273445) <= _hyponym(00273445,X)\nstep 6000 parsing line 3\t2\t0.6666666666666666\t_derivationally_related_form(05753564,Y) <= _derivationally_related_form(Y,00611433)\nstep 7000 parsing line 13\t2\t0.15384615384615385\t_member_holonym(X,01623284) <= _hyponym(01621127,X)\nstep 8000 parsing line 500\t3\t0.006\t_hyponym(00831651,Y) <= _derivationally_related_form(Y,A)\nstep 9000 parsing line 5\t4\t0.8\t_derivationally_related_form(01807882,Y) <= _derivationally_related_form(Y,01807882)\nstep 10000 parsing line 3\t3\t1.0\t_derivationally_related_form(01026975,Y) <= _derivationally_related_form(Y,01026975)\nstep 11000 parsing line 3\t3\t1.0\t_derivationally_related_form(14562683,Y) <= _derivationally_related_form(Y,14562683)\nstep 12000 parsing line 3\t3\t1.0\t_hypernym(X,08381820) <= _hyponym(08381820,X)\nstep 13000 parsing line 3\t2\t0.6666666666666666\t_derivationally_related_form(X,01471043) <= _derivationally_related_form(01471043,X)\nstep 14000 parsing line 2\t2\t1.0\t_derivationally_related_form(01514655,Y) <= _derivationally_related_form(Y,01514655)\nstep 15000 parsing line 3\t3\t1.0\t_derivationally_related_form(05808218,Y) <= _derivationally_related_form(09279458,Y)\nstep 16000 parsing line 4\t2\t0.5\t_synset_domain_topic_of(X,08441203) <= _hypernym(X,05177285)\nstep 17000 parsing line 2\t2\t1.0\t_part_of(08925552,Y) <= _has_part(Y,08925552)\nstep 18000 parsing line 2\t2\t1.0\t_has_part(15236859,Y) <= _part_of(Y,15236859)\nstep 19000 parsing line 410\t2\t0.004878048780487805\t_instance_hyponym(X,09074431) <= _instance_hyponym(X,A)\nstep 20000 parsing line 139\t4\t0.02877697841726619\t_member_holonym(X,02241184) <= _hyponym(01759182,X)\nstep 21000 parsing line 6\t6\t1.0\t_has_part(09440400,Y) <= _has_part(Y,09196611)\nstep 22000 parsing line 3\t3\t1.0\t_derivationally_related_form(X,01073822) <= _derivationally_related_form(01073822,X)\nstep 23000 parsing line 2\t2\t1.0\t_hyponym(04118021,Y) <= _hypernym(Y,04118021)\nstep 24000 parsing line 500\t4\t0.008\t_member_of_domain_topic(08083599,Y) <= _instance_hypernym(Y,A)\nstep 25000 parsing line 3\t3\t1.0\t_derivationally_related_form(X,01476180) <= _derivationally_related_form(01476180,X)\nstep 26000 parsing line 238\t2\t0.008403361344537815\t_part_of(11800236,Y) <= _hyponym(12205694,Y)\nstep 27000 parsing line 6\t3\t0.5\t_synset_domain_topic_of(X,08199025) <= _hypernym(X,02691156)\nstep 28000 parsing line 4\t2\t0.5\t_derivationally_related_form(X,01447632) <= _derivationally_related_form(01871979,X)\nstep 29000 parsing line 13\t2\t0.15384615384615385\t_has_part(X,08755852) <= _part_of(X,08709038)\nstep 30000 parsing line 13\t13\t1.0\t_hypernym(X,09621545) <= _hyponym(09621545,X)\nstep 31000 parsing line 488\t2\t0.004098360655737705\t_hypernym(X,Y) <= _derivationally_related_form(A,X), _hyponym(B,A), _derivationally_related_form(Y,B)\n*** read rules 31285 rom file learning_rules/alpha-50\n* applying rules\n* set up index structure covering rules for 18 different relations\n* constructed filter set with 151442 triples\n* (# 0 ) trying to guess the tail/head of 06845599 _member_of_domain_usage 03754979\nElapsed (s) = 0\n* (# 100 ) trying to guess the tail/head of 00802946 _derivationally_related_form 01141841\nElapsed (s) = 15\n* (# 200 ) trying to guess the tail/head of 00940384 _hyponym 00903212\nElapsed (s) = 11\n"
    }
   ],
   "source": [
    "predictior.prediction()"
   ]
  },
  {
   "cell_type": "code",
   "execution_count": 1,
   "metadata": {},
   "outputs": [
    {
     "output_type": "execute_result",
     "data": {
      "text/plain": "{'path_rules': ['learning_rules/alpha-100'],\n 'path_training': '../../datasets/WN18/train.txt',\n 'path_valid': '../../datasets/WN18/valid.txt',\n 'path_test': '../../datasets/WN18/test.txt',\n 'unseen_nagative_examples': 5,\n 'top_k_output': 10,\n 'threshold_confidence_predictions': 2,\n 'threshold_confidence': 1e-05}"
     },
     "metadata": {},
     "execution_count": 1
    }
   ],
   "source": [
    "from config.config_yaml import Config\n",
    "\n",
    "Config.load_predict_config()"
   ]
  },
  {
   "cell_type": "code",
   "execution_count": 3,
   "metadata": {},
   "outputs": [
    {
     "output_type": "execute_result",
     "data": {
      "text/plain": "{'path_training': '../../datasets/WN18/train.txt',\n 'path_valid': '../../datasets/WN18/valid.txt',\n 'path_test': '../../datasets/WN18/test.txt',\n 'path_prediction': 'predictions/alpha-100'}"
     },
     "metadata": {},
     "execution_count": 3
    }
   ],
   "source": [
    "from config.config_yaml import Config\n",
    "\n",
    "Config.load_eval_config()"
   ]
  },
  {
   "cell_type": "code",
   "execution_count": 4,
   "metadata": {},
   "outputs": [
    {
     "output_type": "execute_result",
     "data": {
      "text/plain": "{'path_training': '../../datasets/WN18/train.txt',\n 'path_output': '../../datasets/WN18/valid.txt',\n 'snapshots_at': [10, 50, 100],\n 'saturation': 0.99,\n 'sample_size': 500,\n 'batch_time': 1000,\n 'threshold_correct_predictions': 2,\n 'threshold_confidence': 1e-05,\n 'max_length_cylic': 3,\n 'max_length_acylic': 2,\n 'discrimination_bound': 1000,\n 'trial_size': 100000}"
     },
     "metadata": {},
     "execution_count": 4
    }
   ],
   "source": [
    "Config.load_learning_config()"
   ]
  },
  {
   "cell_type": "code",
   "execution_count": 1,
   "metadata": {
    "tags": []
   },
   "outputs": [
    {
     "output_type": "stream",
     "name": "stdout",
     "text": "* indexed 100000 triples\n* set up index for 18 relations, 40504 head entities, and 40551 tail entities\n* set up index for 18 relations, 4262 head entities, and 4338 tail entities\n* set up index for 18 relations, 4349 head entities, and 4263 tail entities\n"
    }
   ],
   "source": [
    "from evaluation import Evaluation\n",
    "eval = Evaluation()"
   ]
  },
  {
   "cell_type": "code",
   "execution_count": 2,
   "metadata": {
    "tags": []
   },
   "outputs": [
    {
     "output_type": "stream",
     "name": "stdout",
     "text": "hits@1   hits@3    hits@10\n0.9462\t0.9517\t0.9556\n"
    }
   ],
   "source": [
    "eval.eval()"
   ]
  },
  {
   "cell_type": "code",
   "execution_count": null,
   "metadata": {},
   "outputs": [],
   "source": [
    "from rule_io.rule_reader import RuleReader\n",
    "reader = RuleReader('./learning_rules/alpha-100')"
   ]
  },
  {
   "cell_type": "code",
   "execution_count": 19,
   "metadata": {},
   "outputs": [],
   "source": [
    "from structure.rule import Rule\n",
    "from structure.atom import Atom\n",
    "\n",
    "def parsing(str_rule):\n",
    "    token = str_rule.split('\\t')\n",
    "    # print(token)\n",
    "    rule = Rule()\n",
    "    rule.init_measure(int(token[0]), int(token[1]), float(token[2]))\n",
    "    # print(token[3])\n",
    "    # print(rule)\n",
    "    atoms = token[3].split(' ')\n",
    "    print(atoms)\n",
    "    head = Atom()\n",
    "    head.from_atom_representation(atoms[0])\n",
    "    rule.head = head\n",
    "    for i in range(2, len(atoms)):\n",
    "      atom_body = Atom()\n",
    "      atom_body.from_atom_representation(atoms[i])\n",
    "      rule.body.append(atom_body)\n",
    "    print(rule)\n",
    "    # return rule\n",
    "\n",
    "def read():\n",
    "    rules = []\n",
    "    file_reader = open('./learning_rules/alpha-100', 'r')\n",
    "    i = 1\n",
    "    for line in file_reader:\n",
    "        line = line.strip()\n",
    "        if len(line) == 0:\n",
    "            break\n",
    "        if i % 10 == 0:\n",
    "            print('step {} parsing line {}'.format(i, line))\n",
    "            return\n",
    "        rule = parsing(line)\n",
    "        rules.append(rule)\n",
    "        i += 1\n",
    "    return rules"
   ]
  },
  {
   "cell_type": "code",
   "execution_count": 20,
   "metadata": {
    "tags": []
   },
   "outputs": [
    {
     "output_type": "stream",
     "name": "stdout",
     "text": "['_hyponym(01557774,Y)', '<=', '_derivationally_related_form(Y,A)']\n500\t2\t0.004\t_hyponym(01557774,Y) <= _derivationally_related_form(Y,A)\n['_hypernym(X,00884466)', '<=', '_hyponym(00884466,X)']\n3\t3\t1.0\t_hypernym(X,00884466) <= _hyponym(00884466,X)\n['_instance_hyponym(X,11370654)', '<=', '_instance_hyponym(X,A)']\n410\t2\t0.004878048780487805\t_instance_hyponym(X,11370654) <= _instance_hyponym(X,A)\n['_member_holonym(X,02391782)', '<=', '_member_meronym(02391782,X)']\n3\t3\t1.0\t_member_holonym(X,02391782) <= _member_meronym(02391782,X)\n['_hypernym(X,08324514)', '<=', '_member_of_domain_region(08860123,X)']\n442\t2\t0.004524886877828055\t_hypernym(X,08324514) <= _member_of_domain_region(08860123,X)\n['_hypernym(X,03315023)', '<=', '_hyponym(03315023,X)']\n14\t14\t1.0\t_hypernym(X,03315023) <= _hyponym(03315023,X)\n['_hyponym(01939598,Y)', '<=', '_member_holonym(A,Y)']\n500\t2\t0.004\t_hyponym(01939598,Y) <= _member_holonym(A,Y)\n['_has_part(X,09195372)', '<=', '_instance_hyponym(08702402,X)']\n11\t2\t0.18181818181818182\t_has_part(X,09195372) <= _instance_hyponym(08702402,X)\n['_derivationally_related_form(X,01683582)', '<=', '_derivationally_related_form(01683582,X)']\n4\t4\t1.0\t_derivationally_related_form(X,01683582) <= _derivationally_related_form(01683582,X)\nstep 10 parsing line 3\t3\t1.0\t_derivationally_related_form(01066163,Y) <= _derivationally_related_form(Y,01066163)\n"
    }
   ],
   "source": [
    "read()"
   ]
  },
  {
   "cell_type": "code",
   "execution_count": null,
   "metadata": {},
   "outputs": [],
   "source": []
  }
 ]
}