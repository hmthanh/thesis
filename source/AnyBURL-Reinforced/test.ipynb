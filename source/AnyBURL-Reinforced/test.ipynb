{
 "metadata": {
  "language_info": {
   "codemirror_mode": {
    "name": "ipython",
    "version": 3
   },
   "file_extension": ".py",
   "mimetype": "text/x-python",
   "name": "python",
   "nbconvert_exporter": "python",
   "pygments_lexer": "ipython3",
   "version": "3.7.3-final"
  },
  "orig_nbformat": 2,
  "kernelspec": {
   "name": "python3",
   "display_name": "Python 3"
  }
 },
 "nbformat": 4,
 "nbformat_minor": 2,
 "cells": [
  {
   "cell_type": "code",
   "execution_count": 1,
   "metadata": {},
   "outputs": [],
   "source": [
    "from structure.dice import Dice"
   ]
  },
  {
   "cell_type": "code",
   "execution_count": 2,
   "metadata": {
    "tags": []
   },
   "outputs": [
    {
     "output_type": "stream",
     "name": "stdout",
     "text": "ROUND  0\nDICE:    > 99k 0 0 |  > 99k [1.382840872971012e+307, 0, 0, 0, 0, 0, 0, 0, 0, 0, 1.382840872971012e+307, 0]\ndice=0 => 10\tdice=1 => 10\tdice=2 => 10\tdice=3 => 10\tdice=4 => 10\tdice=5 => 10\tdice=6 => 10\tdice=7 => 0\tdice=8 => 10\tdice=9 => 10\t\n\nROUND  1\nDICE:   15.722600954663013 0 0 | 14.677408177969681 [15.722600954663013, 0, 0, 0, 0, 0, 0, 0, 0, 0, 14.677408177969681, 0]\ndice=0 => 0\tdice=1 => 0\tdice=2 => 0\tdice=3 => 0\tdice=4 => 0\tdice=5 => 10\tdice=6 => 10\tdice=7 => 10\tdice=8 => 0\tdice=9 => 0\t\n\nROUND  2\nDICE:   14.865778416091489 0 0 | 15.948463332857182 [14.865778416091489, 0, 0, 0, 0, 0, 0, 0, 0, 0, 15.948463332857182, 0]\ndice=0 => 0\tdice=1 => 10\tdice=2 => 0\tdice=3 => 10\tdice=4 => 0\tdice=5 => 0\tdice=6 => 10\tdice=7 => 0\tdice=8 => 10\tdice=9 => 0\t\n\nROUND  3\nDICE:   14.9103084366155 0 0 | 11.893395850275471 [14.9103084366155, 0, 0, 0, 0, 0, 0, 0, 0, 0, 11.893395850275471, 0]\ndice=0 => 0\tdice=1 => 0\tdice=2 => 10\tdice=3 => 0\tdice=4 => 10\tdice=5 => 10\tdice=6 => 0\tdice=7 => 0\tdice=8 => 10\tdice=9 => 0\t\n\nROUND  4\nDICE:   12.48746402055246 0 0 | 14.185945643732985 [12.48746402055246, 0, 0, 0, 0, 0, 0, 0, 0, 0, 14.185945643732985, 0]\ndice=0 => 10\tdice=1 => 10\tdice=2 => 10\tdice=3 => 10\tdice=4 => 10\tdice=5 => 0\tdice=6 => 10\tdice=7 => 10\tdice=8 => 10\tdice=9 => 10\t\n\nROUND  5\nDICE:   13.056076186368923 0 0 | 16.34025273013285 [13.056076186368923, 0, 0, 0, 0, 0, 0, 0, 0, 0, 16.34025273013285, 0]\ndice=0 => 10\tdice=1 => 10\tdice=2 => 0\tdice=3 => 10\tdice=4 => 0\tdice=5 => 0\tdice=6 => 10\tdice=7 => 10\tdice=8 => 0\tdice=9 => 10\t\n\nROUND  6\nDICE:   16.683124989305657 0 0 | 13.54205584553843 [16.683124989305657, 0, 0, 0, 0, 0, 0, 0, 0, 0, 13.54205584553843, 0]\ndice=0 => 0\tdice=1 => 10\tdice=2 => 10\tdice=3 => 10\tdice=4 => 10\tdice=5 => 0\tdice=6 => 10\tdice=7 => 10\tdice=8 => 0\tdice=9 => 10\t\n\nROUND  7\nDICE:   12.517794836270115 0 0 | 14.327310645476441 [12.517794836270115, 0, 0, 0, 0, 0, 0, 0, 0, 0, 14.327310645476441, 0]\ndice=0 => 10\tdice=1 => 0\tdice=2 => 0\tdice=3 => 0\tdice=4 => 0\tdice=5 => 0\tdice=6 => 10\tdice=7 => 10\tdice=8 => 10\tdice=9 => 10\t\n\nROUND  8\nDICE:   14.898584553850503 0 0 | 15.48153342418306 [14.898584553850503, 0, 0, 0, 0, 0, 0, 0, 0, 0, 15.48153342418306, 0]\ndice=0 => 0\tdice=1 => 10\tdice=2 => 10\tdice=3 => 10\tdice=4 => 0\tdice=5 => 10\tdice=6 => 10\tdice=7 => 10\tdice=8 => 0\tdice=9 => 0\t\n\nROUND  9\nDICE:   12.43876369191988 0 0 | 12.63453194072896 [12.43876369191988, 0, 0, 0, 0, 0, 0, 0, 0, 0, 12.63453194072896, 0]\ndice=0 => 10\tdice=1 => 10\tdice=2 => 10\tdice=3 => 0\tdice=4 => 0\tdice=5 => 10\tdice=6 => 0\tdice=7 => 0\tdice=8 => 0\tdice=9 => 10\t\n\nROUND  10\nDICE:   14.660368614827778 0 0 | 15.121072510128323 [14.660368614827778, 0, 0, 0, 0, 0, 0, 0, 0, 0, 15.121072510128323, 0]\ndice=0 => 10\tdice=1 => 10\tdice=2 => 10\tdice=3 => 10\tdice=4 => 0\tdice=5 => 10\tdice=6 => 0\tdice=7 => 10\tdice=8 => 10\tdice=9 => 10\t\n\nROUND  11\nDICE:   15.445312552460116 0 0 | 15.339422518293993 [15.445312552460116, 0, 0, 0, 0, 0, 0, 0, 0, 0, 15.339422518293993, 0]\ndice=0 => 0\tdice=1 => 10\tdice=2 => 0\tdice=3 => 0\tdice=4 => 0\tdice=5 => 0\tdice=6 => 10\tdice=7 => 0\tdice=8 => 10\tdice=9 => 0\t\n\nROUND  12\nDICE:   14.84260340619564 0 0 | 18.286507381529745 [14.84260340619564, 0, 0, 0, 0, 0, 0, 0, 0, 0, 18.286507381529745, 0]\ndice=0 => 0\tdice=1 => 0\tdice=2 => 10\tdice=3 => 10\tdice=4 => 0\tdice=5 => 10\tdice=6 => 0\tdice=7 => 0\tdice=8 => 10\tdice=9 => 0\t\n\nROUND  13\nDICE:   16.113126846748923 0 0 | 14.834532378655492 [16.113126846748923, 0, 0, 0, 0, 0, 0, 0, 0, 0, 14.834532378655492, 0]\ndice=0 => 0\tdice=1 => 0\tdice=2 => 0\tdice=3 => 10\tdice=4 => 10\tdice=5 => 0\tdice=6 => 0\tdice=7 => 10\tdice=8 => 0\tdice=9 => 10\t\n\nROUND  14\nDICE:   16.909747884356307 0 0 | 14.516469633978963 [16.909747884356307, 0, 0, 0, 0, 0, 0, 0, 0, 0, 14.516469633978963, 0]\ndice=0 => 10\tdice=1 => 0\tdice=2 => 0\tdice=3 => 0\tdice=4 => 10\tdice=5 => 10\tdice=6 => 0\tdice=7 => 10\tdice=8 => 10\tdice=9 => 0\t\n\nROUND  15\nDICE:   14.794226404041222 0 0 | 14.234397286928246 [14.794226404041222, 0, 0, 0, 0, 0, 0, 0, 0, 0, 14.234397286928246, 0]\ndice=0 => 0\tdice=1 => 10\tdice=2 => 10\tdice=3 => 0\tdice=4 => 10\tdice=5 => 0\tdice=6 => 0\tdice=7 => 0\tdice=8 => 0\tdice=9 => 0\t\n\nROUND  16\nDICE:   14.569132602944823 0 0 | 17.10488787668395 [14.569132602944823, 0, 0, 0, 0, 0, 0, 0, 0, 0, 17.10488787668395, 0]\ndice=0 => 0\tdice=1 => 0\tdice=2 => 0\tdice=3 => 0\tdice=4 => 0\tdice=5 => 10\tdice=6 => 0\tdice=7 => 10\tdice=8 => 10\tdice=9 => 10\t\n\nROUND  17\nDICE:   12.72902702887052 0 0 | 18.14771228234662 [12.72902702887052, 0, 0, 0, 0, 0, 0, 0, 0, 0, 18.14771228234662, 0]\ndice=0 => 0\tdice=1 => 10\tdice=2 => 0\tdice=3 => 10\tdice=4 => 10\tdice=5 => 0\tdice=6 => 10\tdice=7 => 10\tdice=8 => 10\tdice=9 => 0\t\n\nROUND  18\nDICE:   14.11883354353873 0 0 | 17.720810454282198 [14.11883354353873, 0, 0, 0, 0, 0, 0, 0, 0, 0, 17.720810454282198, 0]\ndice=0 => 10\tdice=1 => 0\tdice=2 => 0\tdice=3 => 10\tdice=4 => 10\tdice=5 => 0\tdice=6 => 0\tdice=7 => 0\tdice=8 => 0\tdice=9 => 0\t\n\nROUND  19\nDICE:   15.644275593474598 0 0 | 14.953767246843066 [15.644275593474598, 0, 0, 0, 0, 0, 0, 0, 0, 0, 14.953767246843066, 0]\ndice=0 => 10\tdice=1 => 10\tdice=2 => 0\tdice=3 => 0\tdice=4 => 10\tdice=5 => 0\tdice=6 => 0\tdice=7 => 10\tdice=8 => 0\tdice=9 => 0\t\n\nROUND  20\nDICE:   14.938595059544701 0 0 | 13.946798571067752 [14.938595059544701, 0, 0, 0, 0, 0, 0, 0, 0, 0, 13.946798571067752, 0]\ndice=0 => 10\tdice=1 => 0\tdice=2 => 10\tdice=3 => 10\tdice=4 => 0\tdice=5 => 0\tdice=6 => 10\tdice=7 => 10\tdice=8 => 10\tdice=9 => 0\t\n\nROUND  21\nDICE:   14.704272011608666 0 0 | 14.755577178005174 [14.704272011608666, 0, 0, 0, 0, 0, 0, 0, 0, 0, 14.755577178005174, 0]\ndice=0 => 0\tdice=1 => 10\tdice=2 => 0\tdice=3 => 10\tdice=4 => 10\tdice=5 => 10\tdice=6 => 0\tdice=7 => 0\tdice=8 => 0\tdice=9 => 0\t\n\nROUND  22\nDICE:   13.516422964414602 0 0 | 16.006511129657568 [13.516422964414602, 0, 0, 0, 0, 0, 0, 0, 0, 0, 16.006511129657568, 0]\ndice=0 => 10\tdice=1 => 0\tdice=2 => 0\tdice=3 => 0\tdice=4 => 10\tdice=5 => 10\tdice=6 => 10\tdice=7 => 0\tdice=8 => 10\tdice=9 => 10\t\n\nROUND  23\nDICE:   15.890225112076093 0 0 | 14.903519396434575 [15.890225112076093, 0, 0, 0, 0, 0, 0, 0, 0, 0, 14.903519396434575, 0]\ndice=0 => 10\tdice=1 => 10\tdice=2 => 0\tdice=3 => 10\tdice=4 => 10\tdice=5 => 10\tdice=6 => 0\tdice=7 => 10\tdice=8 => 10\tdice=9 => 0\t\n\nROUND  24\nDICE:   15.977344001352426 0 0 | 14.418800069504783 [15.977344001352426, 0, 0, 0, 0, 0, 0, 0, 0, 0, 14.418800069504783, 0]\ndice=0 => 0\tdice=1 => 10\tdice=2 => 0\tdice=3 => 0\tdice=4 => 0\tdice=5 => 10\tdice=6 => 10\tdice=7 => 10\tdice=8 => 10\tdice=9 => 0\t\n\nROUND  25\nDICE:   13.099610539645226 0 0 | 16.05478750894316 [13.099610539645226, 0, 0, 0, 0, 0, 0, 0, 0, 0, 16.05478750894316, 0]\ndice=0 => 0\tdice=1 => 10\tdice=2 => 0\tdice=3 => 10\tdice=4 => 0\tdice=5 => 10\tdice=6 => 0\tdice=7 => 0\tdice=8 => 10\tdice=9 => 10\t\n\nROUND  26\nDICE:   15.878013771382186 0 0 | 15.260110676203729 [15.878013771382186, 0, 0, 0, 0, 0, 0, 0, 0, 0, 15.260110676203729, 0]\ndice=0 => 10\tdice=1 => 0\tdice=2 => 0\tdice=3 => 0\tdice=4 => 0\tdice=5 => 0\tdice=6 => 10\tdice=7 => 0\tdice=8 => 0\tdice=9 => 10\t\n\nROUND  27\nDICE:   15.738112547618423 0 0 | 12.462738075513528 [15.738112547618423, 0, 0, 0, 0, 0, 0, 0, 0, 0, 12.462738075513528, 0]\ndice=0 => 0\tdice=1 => 10\tdice=2 => 10\tdice=3 => 10\tdice=4 => 0\tdice=5 => 10\tdice=6 => 10\tdice=7 => 10\tdice=8 => 0\tdice=9 => 0\t\n\nROUND  28\nDICE:   15.405123624593053 0 0 | 13.363512199221981 [15.405123624593053, 0, 0, 0, 0, 0, 0, 0, 0, 0, 13.363512199221981, 0]\ndice=0 => 10\tdice=1 => 10\tdice=2 => 0\tdice=3 => 10\tdice=4 => 10\tdice=5 => 10\tdice=6 => 10\tdice=7 => 0\tdice=8 => 10\tdice=9 => 10\t\n\nROUND  29\nDICE:   13.787513589150466 0 0 | 14.729972546278038 [13.787513589150466, 0, 0, 0, 0, 0, 0, 0, 0, 0, 14.729972546278038, 0]\ndice=0 => 0\tdice=1 => 0\tdice=2 => 10\tdice=3 => 10\tdice=4 => 0\tdice=5 => 10\tdice=6 => 0\tdice=7 => 0\tdice=8 => 10\tdice=9 => 10\t\n\nROUND  30\nDICE:   16.37471361402807 0 0 | 13.377562497151837 [16.37471361402807, 0, 0, 0, 0, 0, 0, 0, 0, 0, 13.377562497151837, 0]\ndice=0 => 0\tdice=1 => 0\tdice=2 => 0\tdice=3 => 0\tdice=4 => 10\tdice=5 => 10\tdice=6 => 0\tdice=7 => 10\tdice=8 => 0\tdice=9 => 0\t\n\nROUND  31\nDICE:   13.676473391025054 0 0 | 15.368482147131628 [13.676473391025054, 0, 0, 0, 0, 0, 0, 0, 0, 0, 15.368482147131628, 0]\ndice=0 => 0\tdice=1 => 10\tdice=2 => 0\tdice=3 => 10\tdice=4 => 10\tdice=5 => 0\tdice=6 => 0\tdice=7 => 0\tdice=8 => 10\tdice=9 => 10\t\n\nROUND  32\nDICE:   13.635395241995287 0 0 | 13.867371434525165 [13.635395241995287, 0, 0, 0, 0, 0, 0, 0, 0, 0, 13.867371434525165, 0]\ndice=0 => 0\tdice=1 => 0\tdice=2 => 10\tdice=3 => 10\tdice=4 => 0\tdice=5 => 10\tdice=6 => 0\tdice=7 => 0\tdice=8 => 0\tdice=9 => 0\t\n\nROUND  33\nDICE:   14.221586403891619 0 0 | 12.385376625779683 [14.221586403891619, 0, 0, 0, 0, 0, 0, 0, 0, 0, 12.385376625779683, 0]\ndice=0 => 0\tdice=1 => 10\tdice=2 => 0\tdice=3 => 10\tdice=4 => 10\tdice=5 => 0\tdice=6 => 10\tdice=7 => 0\tdice=8 => 10\tdice=9 => 0\t\n\nROUND  34\nDICE:   15.65609902088874 0 0 | 14.902586222396675 [15.65609902088874, 0, 0, 0, 0, 0, 0, 0, 0, 0, 14.902586222396675, 0]\ndice=0 => 10\tdice=1 => 0\tdice=2 => 10\tdice=3 => 0\tdice=4 => 0\tdice=5 => 0\tdice=6 => 0\tdice=7 => 0\tdice=8 => 0\tdice=9 => 10\t\n\nROUND  35\nDICE:   15.710067338600455 0 0 | 17.86338089605565 [15.710067338600455, 0, 0, 0, 0, 0, 0, 0, 0, 0, 17.86338089605565, 0]\ndice=0 => 0\tdice=1 => 10\tdice=2 => 10\tdice=3 => 10\tdice=4 => 0\tdice=5 => 10\tdice=6 => 10\tdice=7 => 0\tdice=8 => 10\tdice=9 => 10\t\n\nROUND  36\nDICE:   14.61038334718563 0 0 | 15.195754106314396 [14.61038334718563, 0, 0, 0, 0, 0, 0, 0, 0, 0, 15.195754106314396, 0]\ndice=0 => 0\tdice=1 => 0\tdice=2 => 0\tdice=3 => 0\tdice=4 => 0\tdice=5 => 0\tdice=6 => 10\tdice=7 => 10\tdice=8 => 0\tdice=9 => 10\t\n\nROUND  37\nDICE:   14.90747602185388 0 0 | 17.636752031095114 [14.90747602185388, 0, 0, 0, 0, 0, 0, 0, 0, 0, 17.636752031095114, 0]\ndice=0 => 0\tdice=1 => 10\tdice=2 => 0\tdice=3 => 10\tdice=4 => 0\tdice=5 => 10\tdice=6 => 10\tdice=7 => 10\tdice=8 => 0\tdice=9 => 0\t\n\nROUND  38\nDICE:   14.500695556913708 0 0 | 15.38636203047679 [14.500695556913708, 0, 0, 0, 0, 0, 0, 0, 0, 0, 15.38636203047679, 0]\ndice=0 => 10\tdice=1 => 0\tdice=2 => 10\tdice=3 => 0\tdice=4 => 10\tdice=5 => 0\tdice=6 => 10\tdice=7 => 10\tdice=8 => 0\tdice=9 => 0\t\n\nROUND  39\nDICE:   16.177709485922406 0 0 | 16.143439775280807 [16.177709485922406, 0, 0, 0, 0, 0, 0, 0, 0, 0, 16.143439775280807, 0]\ndice=0 => 0\tdice=1 => 0\tdice=2 => 10\tdice=3 => 0\tdice=4 => 0\tdice=5 => 0\tdice=6 => 10\tdice=7 => 0\tdice=8 => 10\tdice=9 => 0\t\n\n"
    }
   ],
   "source": [
    "numOfThreads = 10\n",
    "dice = Dice('')\n",
    "for round in range(40):\n",
    "    print('ROUND ', round)\n",
    "    dice.compute_relevenat_scores()\n",
    "    dice.save_scores()\n",
    "    print('DICE: ', dice, dice.relevant_scores)\n",
    "    threads = [0 for i in range(numOfThreads)]\n",
    "    for i in range(numOfThreads):\n",
    "        score = dice.ask(0)\n",
    "        print('dice={} => {}'.format(i, score), end='\\t')\n",
    "        threads[i] = score\n",
    "    print('\\n')\n",
    "    dice.reset_scores()\n",
    "    for thread in threads:\n",
    "        s = Dice.simulate_score(thread)\n",
    "        dice.add_score(thread, s)"
   ]
  },
  {
   "cell_type": "code",
   "execution_count": null,
   "metadata": {},
   "outputs": [],
   "source": []
  }
 ]
}