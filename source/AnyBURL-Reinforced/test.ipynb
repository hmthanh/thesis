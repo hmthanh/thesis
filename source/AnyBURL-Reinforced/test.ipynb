{
 "metadata": {
  "language_info": {
   "codemirror_mode": {
    "name": "ipython",
    "version": 3
   },
   "file_extension": ".py",
   "mimetype": "text/x-python",
   "name": "python",
   "nbconvert_exporter": "python",
   "pygments_lexer": "ipython3",
   "version": "3.7.3-final"
  },
  "orig_nbformat": 2,
  "kernelspec": {
   "name": "python3",
   "display_name": "Python 3"
  }
 },
 "nbformat": 4,
 "nbformat_minor": 2,
 "cells": [
  {
   "cell_type": "code",
   "execution_count": 1,
   "metadata": {},
   "outputs": [],
   "source": [
    "from structure.dice import Dice"
   ]
  },
  {
   "cell_type": "code",
   "execution_count": 2,
   "metadata": {
    "tags": []
   },
   "outputs": [
    {
     "output_type": "stream",
     "name": "stdout",
     "text": "ROUND  0\nDICE:    > 99k  > 99k  > 99k |  > 99k\nROUND  1\nDICE:   16 13 15 | 11\nROUND  2\nDICE:   17 12 13 | 17\nROUND  3\nDICE:   18 15 15 | 16\nROUND  4\nDICE:   14 18 14 | 13\nROUND  5\nDICE:   16 14 18 | 13\nROUND  6\nDICE:   14 17 14 | 13\nROUND  7\nDICE:   12 14 15 | 16\nROUND  8\nDICE:   14 12 12 | 11\nROUND  9\nDICE:   16 13 15 | 15\nROUND  10\nDICE:   16 11 12 | 15\nROUND  11\nDICE:   18 15 14 | 10\nROUND  12\nDICE:   15 17 13 | 10\nROUND  13\nDICE:   14 15 12 | 14\nROUND  14\nDICE:   16 15 13 | 14\nROUND  15\nDICE:   19 15 13 | 16\nROUND  16\nDICE:   15 13 14 | 12\nROUND  17\nDICE:   13 14 19 | 11\nROUND  18\nDICE:   13 12 13 | 13\nROUND  19\nDICE:   13 17 17 | 14\nROUND  20\nDICE:   16 13 19 | 16\nROUND  21\nDICE:   15 14 14 | 14\nROUND  22\nDICE:   12 16 10 | 14\nROUND  23\nDICE:   12 13 12 | 14\nROUND  24\nDICE:   13 14 16 | 16\nROUND  25\nDICE:   17 14 13 | 15\nROUND  26\nDICE:   11 17 17 | 11\nROUND  27\nDICE:   14 16 19 | 16\nROUND  28\nDICE:   17 18 13 | 15\nROUND  29\nDICE:   15 15 13 | 17\nROUND  30\nDICE:   15 15 14 | 17\nROUND  31\nDICE:   11 13 16 | 13\nROUND  32\nDICE:   18 14 15 | 18\nROUND  33\nDICE:   14 16 16 | 15\nROUND  34\nDICE:   16 15 16 | 18\nROUND  35\nDICE:   14 16 10 | 18\nROUND  36\nDICE:   16 15 15 | 14\nROUND  37\nDICE:   16 12 13 | 14\nROUND  38\nDICE:   14 13 14 | 16\nROUND  39\nDICE:   15 14 13 | 16\n"
    }
   ],
   "source": [
    "numOfThreads = 10\n",
    "dice = Dice('')\n",
    "for round in range(40):\n",
    "    print('ROUND ', round)\n",
    "    dice.compute_relevenat_scores()\n",
    "    dice.save_scores()\n",
    "    print('DICE: ', dice)\n",
    "    threads = [0 for i in range(numOfThreads)]\n",
    "    for i in range(numOfThreads):\n",
    "        score = dice.ask(0)\n",
    "        threads[i] = score\n",
    "    dice.reset_scores()\n",
    "    for thread in threads:\n",
    "        s = Dice.simulate_score(thread)\n",
    "        dice.add_score(thread, s)"
   ]
  },
  {
   "cell_type": "code",
   "execution_count": null,
   "metadata": {},
   "outputs": [],
   "source": []
  }
 ]
}