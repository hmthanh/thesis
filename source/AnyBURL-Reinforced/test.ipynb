{
 "metadata": {
  "language_info": {
   "codemirror_mode": {
    "name": "ipython",
    "version": 3
   },
   "file_extension": ".py",
   "mimetype": "text/x-python",
   "name": "python",
   "nbconvert_exporter": "python",
   "pygments_lexer": "ipython3",
   "version": "3.7.3-final"
  },
  "orig_nbformat": 2,
  "kernelspec": {
   "name": "python3",
   "display_name": "Python 3"
  }
 },
 "nbformat": 4,
 "nbformat_minor": 2,
 "cells": [
  {
   "cell_type": "code",
   "execution_count": 6,
   "metadata": {},
   "outputs": [],
   "source": [
    "from settings import Settings\n",
    "cfg = Settings()\n",
    "cfg.load_laerning_config()"
   ]
  },
  {
   "cell_type": "code",
   "execution_count": 7,
   "metadata": {},
   "outputs": [
    {
     "output_type": "execute_result",
     "data": {
      "text/plain": "[10, 50, 100]"
     },
     "metadata": {},
     "execution_count": 7
    }
   ],
   "source": [
    "cfg.snapshots_at"
   ]
  },
  {
   "cell_type": "code",
   "execution_count": 1,
   "metadata": {
    "tags": []
   },
   "outputs": [
    {
     "output_type": "stream",
     "name": "stdout",
     "text": "* read 141442 triples\n* indexed 10000 triples\n* indexed 20000 triples\n* indexed 40000 triples\n* indexed 80000 triples\n* set up index for 18 relations, 40504 head entities, and 40551 tail entities\n"
    }
   ],
   "source": [
    "from data.triple_set import TripleSet\n",
    "\n",
    "ts = TripleSet()"
   ]
  },
  {
   "cell_type": "code",
   "execution_count": 2,
   "metadata": {},
   "outputs": [
    {
     "output_type": "execute_result",
     "data": {
      "text/plain": "141442"
     },
     "metadata": {},
     "execution_count": 2
    }
   ],
   "source": [
    "len(ts.triples)"
   ]
  },
  {
   "cell_type": "code",
   "execution_count": 3,
   "metadata": {
    "tags": []
   },
   "outputs": [
    {
     "output_type": "stream",
     "name": "stdout",
     "text": "{'08795974': {'_instance_hyponym'}, '09032981': {'_instance_hyponym'}, '08912012': {'_instance_hyponym'}, '08950035': {'_instance_hyponym'}, '08799462': {'_instance_hyponym'}, '08857405': {'_instance_hyponym'}, '08772667': {'_instance_hyponym'}, '08819016': {'_instance_hyponym'}, '09055906': {'_instance_hyponym'}, '09136182': {'_instance_hyponym'}, '08805565': {'_instance_hyponym'}, '08855909': {'_instance_hyponym'}, '08706502': {'_instance_hyponym'}, '08895497': {'_instance_hyponym'}, '08734853': {'_instance_hyponym'}, '09146813': {'_instance_hyponym'}, '09102517': {'_instance_hyponym'}, '08849372': {'_instance_hyponym'}, '09026780': {'_instance_hyponym'}, '09156666': {'_instance_hyponym'}, '08851034': {'_instance_hyponym'}, '09145655': {'_instance_hyponym'}, '09162581': {'_instance_hyponym'}, '08879680': {'_instance_hyponym'}, '08795654': {'_instance_hyponym'}, '09167652': {'_instance_hyponym'}, '08728749': {'_instance_hyponym'}, '08715952': {'_instance_hyponym'}, '09074834': {'_instance_hyponym'}, '09083390': {'_instance_hyponym'}, '09157766': {'_instance_hyponym'}, '08984010': {'_instance_hyponym'}, '09115315': {'_instance_hyponym'}, '08571139': {'_has_part'}, '08856793': {'_instance_hyponym'}, '09128536': {'_instance_hyponym'}, '08970189': {'_instance_hyponym'}, '09133500': {'_instance_hyponym'}, '08898187': {'_instance_hyponym'}, '08771400': {'_instance_hyponym'}, '09093472': {'_instance_hyponym'}, '00499642': {'_derivationally_related_form'}, '08773336': {'_instance_hyponym'}, '08788887': {'_instance_hyponym'}, '08762243': {'_instance_hyponym'}, '09042322': {'_instance_hyponym'}, '08746475': {'_instance_hyponym'}, '09085334': {'_instance_hyponym'}, '08934694': {'_instance_hyponym'}, '09128947': {'_instance_hyponym'}, '08745011': {'_instance_hyponym'}, '08889657': {'_instance_hyponym'}, '08937594': {'_instance_hyponym'}, '09110939': {'_instance_hyponym'}, '08846739': {'_instance_hyponym'}, '09106770': {'_instance_hyponym'}, '09025728': {'_instance_hyponym'}, '09072810': {'_instance_hyponym'}, '09135993': {'_instance_hyponym'}, '08928742': {'_instance_hyponym'}, '08970611': {'_instance_hyponym'}, '09026614': {'_instance_hyponym'}, '08787049': {'_instance_hyponym'}, '09063673': {'_instance_hyponym'}, '08727945': {'_instance_hyponym'}, '08994339': {'_instance_hyponym'}, '09064264': {'_instance_hyponym'}, '08983556': {'_instance_hyponym'}, '08937995': {'_instance_hyponym'}, '08739669': {'_instance_hyponym'}, '08958212': {'_instance_hyponym'}, '08915017': {'_instance_hyponym'}, '08728268': {'_instance_hyponym'}, '08970064': {'_instance_hyponym'}, '08911602': {'_instance_hyponym'}, '09063477': {'_instance_hyponym'}, '09009372': {'_instance_hyponym'}, '09155692': {'_instance_hyponym'}, '08773098': {'_instance_hyponym'}, '09096664': {'_instance_hyponym'}, '08775053': {'_instance_hyponym'}, '08877807': {'_instance_hyponym'}, '09075329': {'_instance_hyponym'}, '08729283': {'_instance_hyponym'}, '08626283': {'_hypernym'}, '09157021': {'_instance_hyponym'}, '08769439': {'_instance_hyponym'}, '08744750': {'_instance_hyponym'}, '08983413': {'_instance_hyponym'}, '09133895': {'_instance_hyponym'}, '09025189': {'_instance_hyponym'}, '08994834': {'_instance_hyponym'}, '08774704': {'_instance_hyponym'}, '08899149': {'_instance_hyponym'}, '08772551': {'_instance_hyponym'}, '09154731': {'_instance_hyponym'}, '09119277': {'_instance_hyponym'}, '09032604': {'_instance_hyponym'}, '09159546': {'_instance_hyponym'}, '09140569': {'_instance_hyponym'}, '09129926': {'_instance_hyponym'}, '09038272': {'_instance_hyponym'}, '09111168': {'_instance_hyponym'}, '09068320': {'_instance_hyponym'}, '08937109': {'_instance_hyponym'}, '08877382': {'_instance_hyponym'}, '08780282': {'_instance_hyponym'}, '08706823': {'_instance_hyponym'}, '09070363': {'_instance_hyponym'}, '08774912': {'_instance_hyponym'}, '08713136': {'_instance_hyponym'}, '08818247': {'_instance_hyponym'}, '08856630': {'_instance_hyponym'}, '09009490': {'_instance_hyponym'}, '09100690': {'_instance_hyponym'}, '08765460': {'_instance_hyponym'}, '08543496': {'_has_part'}, '08976913': {'_instance_hyponym'}, '08934532': {'_instance_hyponym'}, '08904858': {'_instance_hyponym'}, '09143321': {'_instance_hyponym'}, '09034286': {'_instance_hyponym'}, '08956574': {'_instance_hyponym'}, '08857099': {'_instance_hyponym'}, '08789605': {'_instance_hyponym'}, '09129062': {'_instance_hyponym'}, '08904731': {'_instance_hyponym'}, '08770274': {'_instance_hyponym'}, '08950787': {'_instance_hyponym'}, '09065191': {'_instance_hyponym'}, '08913085': {'_instance_hyponym'}, '08904115': {'_instance_hyponym'}, '09131428': {'_instance_hyponym'}, '08772794': {'_instance_hyponym'}, '09148662': {'_instance_hyponym'}, '08912153': {'_instance_hyponym'}, '09097871': {'_instance_hyponym'}, '08966085': {'_instance_hyponym'}, '08719705': {'_instance_hyponym'}, '09085441': {'_instance_hyponym'}, '09102883': {'_instance_hyponym'}, '08856037': {'_instance_hyponym'}, '08977527': {'_instance_hyponym'}, '09016860': {'_instance_hyponym'}, '08946812': {'_instance_hyponym'}, '09099264': {'_instance_hyponym'}, '09164417': {'_instance_hyponym'}, '08926231': {'_instance_hyponym'}, '09144323': {'_instance_hyponym'}, '08735008': {'_instance_hyponym'}, '09131553': {'_instance_hyponym'}, '08771277': {'_instance_hyponym'}, '08773880': {'_instance_hyponym'}, '08743229': {'_instance_hyponym'}, '08695198': {'_hyponym'}, '09030382': {'_instance_hyponym'}, '08726582': {'_instance_hyponym'}, '09125354': {'_instance_hyponym'}, '09125203': {'_instance_hyponym'}, '08803883': {'_instance_hyponym'}, '09144117': {'_instance_hyponym'}, '08855763': {'_instance_hyponym'}, '08742743': {'_instance_hyponym'}, '09161452': {'_instance_hyponym'}, '08925287': {'_instance_hyponym'}, '08935212': {'_instance_hyponym'}, '09001007': {'_instance_hyponym'}, '09145217': {'_instance_hyponym'}, '08984332': {'_instance_hyponym'}, '09113333': {'_instance_hyponym'}, '08804845': {'_instance_hyponym'}, '09074140': {'_instance_hyponym'}, '08805386': {'_instance_hyponym'}, '08543081': {'_has_part'}, '08798062': {'_instance_hyponym'}, '09124589': {'_instance_hyponym'}, '08811473': {'_instance_hyponym'}, '08786660': {'_instance_hyponym'}, '09010085': {'_instance_hyponym'}, '08956461': {'_instance_hyponym'}, '09138538': {'_instance_hyponym'}, '08846885': {'_instance_hyponym'}, '09030467': {'_instance_hyponym'}, '08814333': {'_instance_hyponym'}, '09014066': {'_instance_hyponym'}, '08976799': {'_instance_hyponym'}, '08766571': {'_instance_hyponym'}, '08772922': {'_instance_hyponym'}, '09147618': {'_instance_hyponym'}, '08960363': {'_instance_hyponym'}, '08809165': {'_instance_hyponym'}, '08750822': {'_instance_hyponym'}, '09088989': {'_instance_hyponym'}, '08928083': {'_instance_hyponym'}, '09033117': {'_instance_hyponym'}, '08879197': {'_instance_hyponym'}, '08824771': {'_instance_hyponym'}, '09162414': {'_instance_hyponym'}, '08809910': {'_instance_hyponym'}, '08969798': {'_instance_hyponym'}, '08704409': {'_instance_hyponym'}, '08928933': {'_instance_hyponym'}, '08986374': {'_instance_hyponym'}, '08914413': {'_instance_hyponym'}, '08899577': {'_instance_hyponym'}, '08708481': {'_instance_hyponym'}, '09030596': {'_instance_hyponym'}, '08813264': {'_instance_hyponym'}, '08851500': {'_instance_hyponym'}, '09028477': {'_instance_hyponym'}, '08974604': {'_instance_hyponym'}, '09086635': {'_instance_hyponym'}, '08927678': {'_instance_hyponym'}, '09066799': {'_instance_hyponym'}, '09025451': {'_instance_hyponym'}, '09150863': {'_instance_hyponym'}, '08772137': {'_instance_hyponym'}, '09134999': {'_instance_hyponym'}, '08924023': {'_instance_hyponym'}, '09066534': {'_instance_hyponym'}, '08925957': {'_instance_hyponym'}, '09062791': {'_instance_hyponym'}, '09139849': {'_instance_hyponym'}, '09066017': {'_instance_hyponym'}, '08977211': {'_instance_hyponym'}, '09054480': {'_instance_hyponym'}, '09041785': {'_instance_hyponym'}, '09108728': {'_instance_hyponym'}, '09132778': {'_instance_hyponym'}, '08911726': {'_instance_hyponym'}, '09097707': {'_instance_hyponym'}, '09042213': {'_instance_hyponym'}, '09162803': {'_instance_hyponym'}, '09089782': {'_instance_hyponym'}, '08721145': {'_instance_hyponym'}, '08924560': {'_instance_hyponym'}, '09089923': {'_instance_hyponym'}, '09026360': {'_instance_hyponym'}, '08773679': {'_instance_hyponym'}, '08722084': {'_instance_hyponym'}, '08762104': {'_instance_hyponym'}, '09077556': {'_instance_hyponym'}, '09140993': {'_instance_hyponym'}, '08728595': {'_instance_hyponym'}, '09067878': {'_instance_hyponym'}, '08857260': {'_instance_hyponym'}, '08855609': {'_instance_hyponym'}, '08745901': {'_instance_hyponym'}, '08765623': {'_instance_hyponym'}, '09035951': {'_instance_hyponym'}, '09034402': {'_instance_hyponym'}, '09094381': {'_instance_hyponym'}, '09075007': {'_instance_hyponym'}, '09151516': {'_instance_hyponym'}, '09053947': {'_instance_hyponym'}, '09092352': {'_instance_hyponym'}, '08810051': {'_instance_hyponym'}, '08854855': {'_instance_hyponym'}, '09064594': {'_instance_hyponym'}, '08856945': {'_instance_hyponym'}, '08731148': {'_instance_hyponym'}, '09130714': {'_instance_hyponym'}, '09110229': {'_instance_hyponym'}, '08770518': {'_instance_hyponym'}, '09077111': {'_instance_hyponym'}, '08857529': {'_instance_hyponym'}, '08953029': {'_instance_hyponym'}, '09027292': {'_instance_hyponym'}, '08925830': {'_instance_hyponym'}, '08798195': {'_instance_hyponym'}, '08912703': {'_instance_hyponym'}, '08804049': {'_instance_hyponym'}, '08950907': {'_instance_hyponym'}, '08504151': {'_instance_hyponym'}, '08797840': {'_instance_hyponym'}, '08805801': {'_instance_hyponym'}, '09087450': {'_instance_hyponym'}, '08899351': {'_instance_hyponym'}, '08770013': {'_instance_hyponym'}, '08912279': {'_instance_hyponym'}, '09062585': {'_instance_hyponym'}, '08977665': {'_instance_hyponym'}, '09164903': {'_instance_hyponym'}, '08766455': {'_instance_hyponym'}, '08775179': {'_instance_hyponym'}, '09073938': {'_instance_hyponym'}, '08746636': {'_instance_hyponym'}, '09113207': {'_instance_hyponym'}, '09137682': {'_instance_hyponym'}, '09143649': {'_instance_hyponym'}, '09151216': {'_instance_hyponym'}, '08926381': {'_instance_hyponym'}, '09155986': {'_instance_hyponym'}, '08916111': {'_instance_hyponym'}, '09142674': {'_instance_hyponym'}, '09062015': {'_instance_hyponym'}, '09125629': {'_instance_hyponym'}, '08903352': {'_instance_hyponym'}, '08898457': {'_instance_hyponym'}, '08889400': {'_instance_hyponym'}, '08856475': {'_instance_hyponym'}, '08923755': {'_instance_hyponym'}, '09111955': {'_instance_hyponym'}, '09073697': {'_instance_hyponym'}, '09129324': {'_instance_hyponym'}, '09054350': {'_instance_hyponym'}, '09158501': {'_instance_hyponym'}, '08765315': {'_instance_hyponym'}, '08786432': {'_instance_hyponym'}, '08780380': {'_instance_hyponym'}, '09038439': {'_instance_hyponym'}, '08725161': {'_instance_hyponym'}, '08912559': {'_instance_hyponym'}, '08877208': {'_instance_hyponym'}, '09125528': {'_instance_hyponym'}, '09062320': {'_instance_hyponym'}, '08736779': {'_instance_hyponym'}, '08925093': {'_instance_hyponym'}, '08728882': {'_instance_hyponym'}, '09014470': {'_instance_hyponym'}, '09084075': {'_instance_hyponym'}, '09004992': {'_instance_hyponym'}, '08772307': {'_instance_hyponym'}, '08786855': {'_instance_hyponym'}, '08986526': {'_instance_hyponym'}, '08729452': {'_instance_hyponym'}, '08957993': {'_instance_hyponym'}, '08717629': {'_instance_hyponym'}, '08851687': {'_instance_hyponym'}, '08766667': {'_instance_hyponym'}, '08984122': {'_instance_hyponym'}, '09011820': {'_instance_hyponym'}, '08774073': {'_instance_hyponym'}, '09040475': {'_instance_hyponym'}, '09142771': {'_instance_hyponym'}, '08804319': {'_instance_hyponym'}, '09143205': {'_instance_hyponym'}, '09151411': {'_instance_hyponym'}, '08807894': {'_instance_hyponym'}, '09100394': {'_instance_hyponym'}, '08919241': {'_instance_hyponym'}, '08903487': {'_instance_hyponym'}, '08971404': {'_instance_hyponym'}, '08899776': {'_instance_hyponym'}, '09156889': {'_instance_hyponym'}, '08924913': {'_instance_hyponym'}, '08983274': {'_instance_hyponym'}, '08984223': {'_instance_hyponym'}, '08727230': {'_instance_hyponym'}, '08936833': {'_instance_hyponym'}, '09084196': {'_instance_hyponym'}, '08950407': {'_instance_hyponym'}, '09145851': {'_instance_hyponym'}, '09091909': {'_instance_hyponym'}, '08735345': {'_instance_hyponym'}, '08813699': {'_instance_hyponym'}, '09086793': {'_instance_hyponym'}, '08728462': {'_instance_hyponym'}, '08903636': {'_instance_hyponym'}, '08936303': {'_instance_hyponym'}, '08923884': {'_instance_hyponym'}, '08855126': {'_instance_hyponym'}, '08956140': {'_instance_hyponym'}, '09058071': {'_instance_hyponym'}, '08771116': {'_instance_hyponym'}, '09026204': {'_instance_hyponym'}, '09025584': {'_instance_hyponym'}, '09146111': {'_instance_hyponym'}, '08895771': {'_instance_hyponym'}, '09073258': {'_instance_hyponym'}, '09000462': {'_instance_hyponym'}, '09154178': {'_instance_hyponym'}, '08814664': {'_instance_hyponym'}, '09040839': {'_instance_hyponym'}, '08977428': {'_instance_hyponym'}, '09165146': {'_instance_hyponym'}, '08914573': {'_instance_hyponym'}, '09114020': {'_instance_hyponym'}, '08904269': {'_instance_hyponym'}, '08813156': {'_instance_hyponym'}, '08924238': {'_instance_hyponym'}, '08925700': {'_instance_hyponym'}, '08923586': {'_instance_hyponym'}, '08982037': {'_instance_hyponym'}, '08903872': {'_instance_hyponym'}, '09165294': {'_instance_hyponym'}, '08903220': {'_instance_hyponym'}, '09144730': {'_instance_hyponym'}, '08695539': {'_hyponym'}, '09143786': {'_instance_hyponym'}, '09146912': {'_instance_hyponym'}, '08878016': {'_instance_hyponym'}, '09151114': {'_instance_hyponym'}, '08818835': {'_instance_hyponym'}, '08873269': {'_instance_hyponym'}, '09130452': {'_instance_hyponym'}, '08766846': {'_instance_hyponym'}, '08727606': {'_instance_hyponym'}, '08691669': {'_hyponym'}, '09150662': {'_instance_hyponym'}, '08850741': {'_instance_hyponym'}, '08936647': {'_instance_hyponym'}, '08851364': {'_instance_hyponym'}, '09008454': {'_instance_hyponym'}, '08911868': {'_instance_hyponym'}, '09107626': {'_instance_hyponym'}, '09062961': {'_instance_hyponym'}, '08847024': {'_instance_hyponym'}, '08951077': {'_instance_hyponym'}, '08743945': {'_instance_hyponym'}, '08770718': {'_instance_hyponym'}, '09064861': {'_instance_hyponym'}, '08855505': {'_instance_hyponym'}, '09011679': {'_instance_hyponym'}, '09164241': {'_instance_hyponym'}, '09086070': {'_instance_hyponym'}, '08851830': {'_instance_hyponym'}, '08963244': {'_instance_hyponym'}, '08706247': {'_instance_hyponym'}, '09085209': {'_instance_hyponym'}, '09083659': {'_instance_hyponym'}, '09027679': {'_instance_hyponym'}, '09142887': {'_instance_hyponym'}, '08727806': {'_instance_hyponym'}, '08876975': {'_instance_hyponym'}, '08759852': {'_instance_hyponym'}, '09022667': {'_instance_hyponym'}, '08950230': {'_instance_hyponym'}, '08984457': {'_instance_hyponym'}, '09154607': {'_instance_hyponym'}, '08714795': {'_instance_hyponym'}, '08889521': {'_instance_hyponym'}, '09026911': {'_instance_hyponym'}, '09128372': {'_instance_hyponym'}, '08983742': {'_instance_hyponym'}, '08892971': {'_instance_hyponym'}, '09016099': {'_instance_hyponym'}, '08912427': {'_instance_hyponym'}, '09027089': {'_instance_hyponym'}, '08900204': {'_instance_hyponym'}, '08787240': {'_instance_hyponym'}, '08904533': {'_instance_hyponym'}, '08926543': {'_instance_hyponym'}, '08856266': {'_instance_hyponym'}, '09113762': {'_instance_hyponym'}, '08914850': {'_instance_hyponym'}, '08733415': {'_instance_hyponym'}, '09069415': {'_instance_hyponym'}, '09145083': {'_instance_hyponym'}, '09125016': {'_instance_hyponym'}, '09141119': {'_instance_hyponym'}, '08962951': {'_instance_hyponym'}, '09020299': {'_instance_hyponym'}, '08916832': {'_instance_hyponym'}, '08925552': {'_instance_hyponym'}, '08923177': {'_instance_hyponym'}, '08974818': {'_instance_hyponym'}, '08846626': {'_instance_hyponym'}, '08524130': {'_has_part'}, '08904392': {'_instance_hyponym'}, '09012735': {'_instance_hyponym'}, '09068921': {'_instance_hyponym'}, '09144851': {'_instance_hyponym'}, '08708609': {'_instance_hyponym'}, '09077821': {'_instance_hyponym'}, '09108055': {'_instance_hyponym'}, '09113479': {'_instance_hyponym'}, '08950649': {'_instance_hyponym'}, '08774546': {'_instance_hyponym'}, '08889944': {'_instance_hyponym'}, '08738715': {'_instance_hyponym'}, '08804662': {'_instance_hyponym'}, '08812166': {'_instance_hyponym'}, '09063259': {'_instance_hyponym'}, '09135447': {'_instance_hyponym'}, '08725454': {'_instance_hyponym'}, '08774374': {'_instance_hyponym'}, '09065557': {'_instance_hyponym'}, '08728066': {'_instance_hyponym'}, '09069752': {'_instance_hyponym'}}\n"
    }
   ],
   "source": [
    "print(ts.head_tail_to_relation['08524735'])"
   ]
  },
  {
   "cell_type": "code",
   "execution_count": 4,
   "metadata": {
    "tags": []
   },
   "outputs": [
    {
     "output_type": "stream",
     "name": "stdout",
     "text": "{'_instance_hyponym': {'09010085', '08889657', '09156889', '08706502', '08745901', '08773336', '09134999', '08706247', '08986374', '08772137', '08911726', '08851830', '08877807', '09025584', '08903220', '09094381', '08774374', '08715952', '08856945', '09128536', '09131553', '09011820', '09014066', '09053947', '09133500', '09008454', '09113479', '09113333', '09014470', '09110229', '09151216', '08904533', '09068921', '08787049', '08912703', '08770013', '08846885', '09132778', '08788887', '09141119', '08772922', '08766846', '09085441', '08895497', '09058071', '09155692', '09140569', '08971404', '08950787', '08936647', '09128947', '09089782', '08773679', '08911868', '09128372', '08728595', '08879680', '08819016', '09034402', '09162581', '08850741', '09125528', '08898457', '09100394', '08708609', '09025728', '08925830', '09041785', '08911602', '08804662', '08937109', '08923884', '08934694', '09027292', '08895771', '09154178', '08814664', '08914850', '08970611', '09038272', '08854855', '09154607', '09135447', '08857260', '09106770', '09111168', '08904731', '08811473', '09124589', '08925957', '08984223', '09119277', '09067878', '08735008', '08786660', '09084075', '08899776', '09145217', '08728749', '08765623', '09027089', '08851500', '09161452', '09085334', '08851364', '09089923', '09102517', '08736779', '09144730', '08799462', '08804319', '08900204', '08916832', '09062961', '09054480', '08986526', '09062320', '09040475', '09083659', '09038439', '08728462', '08926231', '09136182', '08983556', '08813264', '09086793', '08912012', '09062585', '08923586', '08818835', '08824771', '08857099', '08855609', '09151411', '09139849', '08963244', '08727806', '09085209', '08809910', '09150662', '08966085', '08818247', '09084196', '09064861', '09083390', '08912279', '09155986', '09154731', '08726582', '08877208', '09113762', '08878016', '09108728', '09016860', '09145655', '08504151', '08728268', '08813699', '09143786', '09026780', '08953029', '09157021', '09164417', '08772667', '08810051', '09088989', '08856266', '09129324', '09108055', '08928933', '08956140', '09074140', '08725454', '08729283', '08771400', '09113207', '09145851', '08733415', '08856630', '09156666', '08770718', '08983742', '08846739', '08797840', '08956461', '09064594', '08927678', '09142771', '09030596', '08904392', '08731148', '08804049', '08912427', '08899351', '09133895', '08957993', '08786855', '08904115', '08722084', '08889400', '08903872', '09093472', '08936833', '08766571', '08856037', '09012735', '09063259', '08780380', '08958212', '08950649', '08742743', '08855763', '08982037', '08803883', '09073938', '08879197', '09146813', '09150863', '09026204', '09055906', '08759852', '08903352', '08849372', '08984010', '08762243', '08857529', '08780282', '09073258', '09164241', '08725161', '08789605', '08925552', '08706823', '08773880', '08774546', '08846626', '08898187', '09062791', '08774073', '08855909', '09146912', '08937995', '09159546', '08974604', '08719705', '08762104', '09030467', '08809165', '08903636', '09144117', '08798062', '09143205', '09165294', '09151516', '09144851', '08924913', '08734853', '09032981', '08772551', '08851687', '08765460', '08847024', '09114020', '08745011', '08926381', '08994834', '09026614', '08812166', '08926543', '08950035', '08916111', '08915017', '08977665', '09164903', '08976913', '09077556', '09072810', '09011679', '09033117', '08739669', '08873269', '09162803', '08877382', '09064264', '08775053', '08899149', '09130714', '08976799', '08950907', '09144323', '09070363', '08936303', '09077111', '09143649', '08983274', '08729452', '08934532', '08914573', '09145083', '08727230', '08994339', '09129062', '09065557', '08746636', '09099264', '09075329', '09130452', '08798195', '09026360', '08904858', '08750822', '09025189', '09097707', '09138538', '09065191', '09146111', '09142674', '09066534', '09087450', '08974818', '08946812', '09100690', '09069415', '08713136', '09001007', '08983413', '08775179', '08970064', '08903487', '09151114', '09125016', '09075007', '09066799', '09167652', '08771277', '08804845', '08984122', '08807894', '09068320', '08774912', '08805386', '08851034', '09165146', '08728066', '08765315', '08889521', '08717629', '08977211', '08770518', '09026911', '09069752', '09004992', '08795654', '09125203', '09042322', '08704409', '09022667', '09107626', '09040839', '09147618', '08969798', '09157766', '08950230', '08744750', '08892971', '08970189', '08937594', '09035951', '09086635', '08923755', '08766455', '09034286', '08924023', '08925093', '09016099', '09074834', '08925700', '08727606', '08728882', '09131428', '08951077', '09125629', '08772794', '09025451', '08977527', '08925287', '08914413', '09027679', '08769439', '08977428', '09063477', '09020299', '08935212', '09125354', '08787240', '09162414', '08876975', '09073697', '08984457', '09032604', '08856793', '08962951', '08771116', '09086070', '08857405', '08924238', '08913085', '08856475', '08814333', '08956574', '08928083', '09097871', '09054350', '09091909', '08984332', '08772307', '09066017', '09158501', '08950407', '09000462', '09102883', '08721145', '08813156', '09137682', '08708481', '09111955', '08923177', '08855505', '08743945', '08899577', '08773098', '08919241', '09135993', '09148662', '08912153', '09110939', '09028477', '08889944', '08960363', '09077821', '08746475', '08924560', '09143321', '09009372', '08786432', '08855126', '09092352', '08805801', '08738715', '09009490', '08912559', '08714795', '09042213', '08805565', '09096664', '09142887', '09129926', '08735345', '09030382', '08743229', '09062015', '09115315', '08795974', '08727945', '09140993', '08774704', '09063673', '08904269', '08770274', '08928742', '08766667'}, '_has_part': {'08571139', '08543081', '08543496', '08524130'}, '_derivationally_related_form': {'00499642'}, '_hypernym': {'08626283'}, '_hyponym': {'08695198', '08695539', '08691669'}}\n"
    }
   ],
   "source": [
    "print(ts.head_relation_to_tail['08524735'])"
   ]
  },
  {
   "cell_type": "code",
   "execution_count": 7,
   "metadata": {
    "tags": []
   },
   "outputs": [
    {
     "output_type": "stream",
     "name": "stdout",
     "text": "{'_instance_hyponym': {'08633957', '08524735'}, '_has_part': {'08805122'}}\n"
    }
   ],
   "source": [
    "print(ts.tail_relation_to_head['08805565'])"
   ]
  },
  {
   "cell_type": "code",
   "execution_count": null,
   "metadata": {},
   "outputs": [],
   "source": []
  }
 ]
}