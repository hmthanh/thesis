{
 "cells": [
  {
   "cell_type": "markdown",
   "metadata": {},
   "source": [
    "# KBGAT Source Code"
   ]
  },
  {
   "cell_type": "markdown",
   "metadata": {},
   "source": [
    "# main.py\n",
    "\n",
    "## Hàm `def load_data(args):`\n",
    "\n",
    "### 1. build_data( args.data, is_unweigted=False, directed=True)\n",
    "\n",
    "##### `train_data` : `(train_triples, train_adjacency_mat)` :\n",
    "\n",
    "Trong đó : \n",
    "\n",
    "`train_triples` : `(entity2id[e1], relation2id[relation], entity2id[e2])`\n",
    "\n",
    "`train_adjacency_mat` : `(rows, cols, data)`\n",
    "\n",
    "\n",
    "`validation_data`, `test_data` : tương tự `train_data`\n",
    "\n",
    "`entity2id`\n",
    "\n",
    "`relation2id`\n",
    "\n",
    "`headTailSelector` : \n",
    "\n",
    "`unique_entities_train`\n"
   ]
  },
  {
   "cell_type": "markdown",
   "metadata": {},
   "source": [
    "`entity_embeddings` : shape = [len(entity2id) : args.embedding_size]\n",
    "\n",
    "Có kích thước là [số lượng entity, số chiều k]"
   ]
  },
  {
   "cell_type": "markdown",
   "metadata": {},
   "source": [
    "## Hàm def train_gat(args):\n",
    "\n",
    "Định nghĩa mô hình \n",
    "\n",
    "#### SpKBGATModified()\n",
    "\n",
    "`entity_embeddings`\n",
    "\n",
    "`relation_embeddings`\n",
    "\n",
    "`args.entity_out_dim`\n",
    "\n",
    "`args.entity_out_dim`\n",
    "\n",
    "`args.drop_GAT`\n",
    "\n",
    "`args.alpha`\n",
    "\n",
    "`args.nheads_GAT`"
   ]
  },
  {
   "cell_type": "markdown",
   "metadata": {},
   "source": [
    "## Class SpKBGATModified:\n",
    "\n",
    "`num_nodes`\n",
    "`entity_in_dim`\n",
    "`entity_out_dim_1`\n",
    "`nheads_GAT_1`\n",
    "`entity_out_dim_2`\n",
    "`nheads_GAT_2`\n",
    "\n",
    "#### Properties of Relations\n",
    "\n",
    "`num_relation`\n",
    "`relation_dim`\n",
    "`relation_out_dim_1`\n",
    "`drop_GAT`\n",
    "`alpha`"
   ]
  },
  {
   "cell_type": "markdown",
   "metadata": {},
   "source": [
    "#### Parameter\n",
    "40943 : số phần tử entity trong tập train\n",
    "\n",
    "11 : số phần tử relation trong tập train\n",
    "\n",
    "[100, 200] : Entity output embedding dimensions (entity_out_dim)\n",
    "\n",
    "[2, 2] : Multihead attention SpGAT (nheads_GAT)\n",
    "\n",
    "50 : số chiều nhúng k ban đầu\n",
    "```\n",
    "final_entity_embeddings : torch.Size([40943, 200])\n",
    "final_relation_embeddings : torch.Size([11, 200])\n",
    "entity_embeddings : torch.Size([40943, 50])\n",
    "relation_embeddings : torch.Size([11, 50])\n",
    "W_entities : torch.Size([50, 200])\n",
    "sparse_gat_1.W : torch.Size([50, 200])\n",
    "sparse_gat_1.attention_0.a : torch.Size([100, 150])\n",
    "sparse_gat_1.attention_0.a_2 : torch.Size([1, 100])\n",
    "sparse_gat_1.attention_1.a : torch.Size([100, 150])\n",
    "sparse_gat_1.attention_1.a_2 : torch.Size([1, 100])\n",
    "sparse_gat_1.out_att.a : torch.Size([200, 600])\n",
    "sparse_gat_1.out_att.a_2 : torch.Size([1, 200])\n",
    "```\n",
    "\n",
    "\n",
    "* `final_entity_embeddings` : shape = [num_nodes, entity_out_dim_1 * nheads_GAT_1]\n",
    "\n",
    "(Kết quả nhúng thực thể : [số lượng nodes, kích thước output entity * số nheads_GAT_1])\n",
    "\n",
    "* `final_relation_embeddings`: shape = [num_relation, entity_out_dim_1 * nheads_GAT_1]\n",
    "\n",
    "* `entity_embeddings` : `initial_entity_emb`\n",
    "\n",
    "* `relation_embeddings` : `initial_relation_emb`\n",
    "\n",
    "* sparse_gat_1: SpGAT : tập hợp các paramter của lớp SpGAT\n",
    "\n",
    "* `W_entities` : trọng số thực thể với shape = [entity_in_dim, entity_out_dim_1 * nheads_GAT_1]"
   ]
  },
  {
   "cell_type": "markdown",
   "metadata": {},
   "source": [
    "## class SpGAT(nn.Module)\n",
    "```python\n",
    "SpKBGATModified(\n",
    "  (sparse_gat_1): SpGAT(\n",
    "    (dropout_layer): Dropout(p=0.3, inplace=False)\n",
    "    (attention_0): SpGraphAttentionLayer (50 -> 100)\n",
    "    (attention_1): SpGraphAttentionLayer (50 -> 100)\n",
    "    (out_att): SpGraphAttentionLayer (200 -> 200)\n",
    "  )\n",
    ")\n",
    "```\n",
    "\n",
    "\n",
    "```python\n",
    "sparse_gat_1.W : torch.Size([50, 200])\n",
    "sparse_gat_1.attention_0.a : torch.Size([100, 150])\n",
    "sparse_gat_1.attention_0.a_2 : torch.Size([1, 100])\n",
    "sparse_gat_1.attention_1.a : torch.Size([100, 150])\n",
    "sparse_gat_1.attention_1.a_2 : torch.Size([1, 100])\n",
    "sparse_gat_1.out_att.a : torch.Size([200, 600])\n",
    "sparse_gat_1.out_att.a_2 : torch.Size([1, 200])```\n",
    "\n",
    "\n",
    "#### Dropout\n",
    "\n",
    "`dropout_layer = nn.Dropout(self.dropout)`\n",
    "\n",
    "torch.Size([40943, 200])"
   ]
  },
  {
   "cell_type": "markdown",
   "metadata": {},
   "source": [
    "## Hàm def forward() trong layer SpGAT\n",
    "\n",
    "Input : \n",
    "```\n",
    "Corpus_\n",
    "batch_inputs\n",
    "entity_embeddings\n",
    "relation_embed\n",
    "edge_list\n",
    "edge_type\n",
    "edge_embed\n",
    "edge_list_nhop\n",
    "edge_type_nhop\n",
    "```\n"
   ]
  },
  {
   "cell_type": "markdown",
   "metadata": {},
   "source": [
    "## Hàm def forward() trong layer chính (SpKBGATModified)\n",
    "Input :\n",
    "\n",
    "`train_adj_matrix` : gồm hai phần tử `(adj_indices, adj_values)`\n",
    "`train_indices` : lấy từ hàm `get_iteration_batch` : `batch_indices` : là index lấy ra của từng batch\n",
    "`current_batch_2hop_indices` : Lấy 2 hop indices kế cận của batch\n"
   ]
  },
  {
   "cell_type": "markdown",
   "metadata": {},
   "source": [
    "`edge_list` : head\n",
    "`edge_type` : tailSpectrum of a bounded operator"
   ]
  },
  {
   "cell_type": "markdown",
   "metadata": {},
   "source": [
    "input, edge, edge_embed, edge_list_nhop, edge_embed_nhop):\n",
    "\n",
    "\n"
   ]
  },
  {
   "cell_type": "markdown",
   "metadata": {},
   "source": [
    "### model_conv\n",
    "```python\n",
    "final_entity_embeddings : torch.Size([40943, 200])\n",
    "final_relation_embeddings : torch.Size([11, 200])\n",
    "convKB.conv_layer.weight : torch.Size([500, 1, 1, 3])\n",
    "convKB.conv_layer.bias : torch.Size([500])\n",
    "convKB.fc_layer.weight : torch.Size([1, 100000])\n",
    "convKB.fc_layer.bias : torch.Size([1])\n",
    "\n",
    "```"
   ]
  },
  {
   "cell_type": "markdown",
   "metadata": {},
   "source": [
    "```python\n",
    "SpKBGATConvOnly(\n",
    "  (convKB): ConvKB(\n",
    "    (conv_layer): Conv2d(1, 500, kernel_size=(1, 3), stride=(1, 1))\n",
    "    (dropout): Dropout(p=0.0, inplace=False)\n",
    "    (non_linearity): ReLU()\n",
    "    (fc_layer): Linear(in_features=100000, out_features=1, bias=True)\n",
    "  )\n",
    ")\n",
    "```"
   ]
  },
  {
   "cell_type": "markdown",
   "metadata": {},
   "source": [
    "# Debug"
   ]
  },
  {
   "cell_type": "markdown",
   "metadata": {},
   "source": [
    "```python\n",
    "entity_embeddings (40943, 50)\n",
    "relation_embed(11, 50)\n",
    "\n",
    "\n",
    "edge_list[i] (2, 86835) : head_id, tail_id của một cạnh i ()\n",
    "edge_type[i] (86835) : relation_id của một cạnh i\n",
    "\n",
    "edge_list_nhop[i] (2, 207376) : neigh_entity_id1, neigh_entity_id2 của một cạnh hàng xóm với source\n",
    "edge_type[i] (2, 207376) : neigh_relation_id_1, neigh_relation_id_1\n",
    "\n",
    "edge_embed (86835, 50)\n",
    "\n",
    "\n",
    "edge_embed_nhop (207376, 50) = G_nhop1 + G_nhop2\n",
    "\n",
    "train_indices_nhop (207376, 4)\n",
    "\n",
    "N = 40943\n",
    "\n",
    "___________________________________________\n",
    "edge (2, 294211)\n",
    "edge_embed (2, 294211) = edge_embed(86835, 50) + edge_embed_nhop(207376, 50)\n",
    "\n",
    "edge_h (150, 294211)\n",
    "\n",
    "A_1 (100, 150)\n",
    "edge_m (100, 294211)\n",
    "\n",
    "\n",
    "A_2 (1, 100)\n",
    "\n",
    "powers (294211)\n",
    "edge_e (294211, 1)\n",
    "\n",
    "\n",
    "\n",
    "```"
   ]
  },
  {
   "cell_type": "markdown",
   "metadata": {},
   "source": []
  },
  {
   "cell_type": "code",
   "execution_count": 2,
   "metadata": {},
   "outputs": [],
   "source": [
    "import torch\n",
    "import torch.nn as nn\n",
    "m = nn.Dropout(p=0.2)\n",
    "input = torch.randn(20, 16)\n",
    "output = m(input)"
   ]
  },
  {
   "cell_type": "code",
   "execution_count": 3,
   "metadata": {},
   "outputs": [
    {
     "data": {
      "text/plain": [
       "tensor([[-1.9777, -0.7239, -0.0000, -0.4364, -0.6596, -0.4482, -1.3001, -0.0000,\n",
       "          0.0000, -0.4294, -0.0499,  0.0000, -0.0000,  1.7630,  0.7044, -1.3654],\n",
       "        [ 0.2236,  1.5024, -1.7158,  1.4000, -0.5982,  0.6613,  0.0116,  0.0303,\n",
       "         -1.0553,  0.0000,  0.0000, -0.6678,  1.7476, -0.0000, -2.8633, -0.0915],\n",
       "        [-2.3893,  0.0000,  0.9400,  0.5557,  0.1895, -0.4985,  2.2090, -2.2435,\n",
       "         -0.9534,  2.0380,  0.0000, -0.0000,  0.0000, -0.0000, -0.0000, -0.0000],\n",
       "        [-0.0000, -0.0376, -2.3209, -0.5383,  0.0000, -1.7053,  0.0805,  0.3283,\n",
       "         -1.4172,  0.0000,  0.9477,  0.1731, -0.0000, -1.8240, -0.0000, -0.3835],\n",
       "        [-1.1860,  0.0000,  0.8988,  1.2359, -1.4951, -0.4405,  0.2935, -0.4562,\n",
       "          0.4369,  2.7884,  0.3049, -3.0162, -0.0000,  1.4591,  1.3809,  0.4325],\n",
       "        [ 1.0054,  0.7971, -0.5789,  0.7449, -0.6467,  1.2005, -2.6526,  0.1047,\n",
       "         -3.5634, -0.8093,  0.3248,  2.9277,  0.1632,  2.3533, -1.6232,  0.0660],\n",
       "        [ 1.5035,  0.0000, -1.6666, -1.9635,  0.1698,  0.9835, -0.2009, -0.5676,\n",
       "          0.5960,  1.8876, -0.1142,  1.1029,  0.2620,  0.0000, -0.7657,  0.0000],\n",
       "        [ 1.2529, -0.6295, -1.8296,  0.5271,  1.9202, -1.0951,  1.9029, -0.0000,\n",
       "          0.3411,  0.0000, -0.8507,  2.4110,  0.5691, -0.0000,  0.8392, -0.6268],\n",
       "        [-2.1506,  0.0000,  0.6484, -0.9238,  0.0000,  0.0000,  0.4943,  0.5172,\n",
       "         -0.3743,  0.0747, -0.4626, -1.7200,  0.7625, -0.0000,  1.8810,  1.9629],\n",
       "        [-0.3704,  1.1853, -0.2550,  0.6497, -1.1074,  0.3976, -1.4818, -0.6056,\n",
       "         -1.0514, -1.7633,  1.0520, -0.1762,  0.1121, -1.8611, -0.7596, -0.0000],\n",
       "        [-0.8288, -2.0117,  0.5013,  0.0000,  0.4572, -0.8090,  0.9724, -0.3956,\n",
       "          1.2248,  0.4552, -0.0000, -1.7792, -0.4630,  0.1543,  0.0111, -3.5012],\n",
       "        [-3.1126,  0.5473,  0.9078, -0.9556,  0.0000, -1.3213, -0.0000, -1.4015,\n",
       "         -0.4834, -0.0096, -0.0941,  0.4642, -0.2655,  0.1373, -0.0000, -0.4244],\n",
       "        [ 0.0000,  1.3133,  1.0911,  1.4907, -0.4198,  0.1756, -0.6430, -0.0000,\n",
       "         -0.0000, -1.4982,  0.3136, -0.5327, -0.0410,  0.6029, -2.0950,  0.1931],\n",
       "        [-0.5552, -1.1328, -0.3045,  0.0230,  0.6915,  0.3922, -0.0000, -1.1544,\n",
       "          0.7943,  0.0906,  0.1466, -0.0000,  1.7157, -0.5270,  0.5174,  0.5727],\n",
       "        [-0.3186,  0.8003,  2.2501, -0.0000, -0.0000,  0.7366, -0.0000, -0.0000,\n",
       "          1.9242,  2.3127,  0.0000,  0.0000, -1.7785, -0.8339, -1.1075, -0.9259],\n",
       "        [ 1.8160,  0.7763, -0.0763, -0.4289,  2.3754, -1.6385,  1.4568,  0.1483,\n",
       "          0.6026, -0.0000, -1.0239, -0.3330,  0.3724,  0.1857,  1.4501, -1.1842],\n",
       "        [-0.6620,  0.0000,  0.6451,  0.0139,  1.7658,  0.0000, -0.2887,  0.3645,\n",
       "         -3.1614,  1.4815,  0.0346, -1.1449,  0.3761,  0.0260, -0.0000, -0.9397],\n",
       "        [ 0.6972, -0.2101, -0.4876,  3.0488,  0.0000, -0.0000,  0.6163, -2.0241,\n",
       "          0.0000, -1.6214,  3.1370, -0.2133, -0.2408,  0.6375,  0.5544, -2.5273],\n",
       "        [-0.2874,  0.1219, -0.2679,  1.9760,  0.0000, -1.3129, -1.6224,  1.1744,\n",
       "         -2.0430,  0.8126, -0.0692,  1.1738,  1.1373, -0.6544,  0.0000,  0.1562],\n",
       "        [ 0.6527, -2.4969, -2.2823, -0.0000,  0.0000, -0.8991, -0.0000,  0.0000,\n",
       "         -0.3355, -1.8021, -1.0025,  0.2585,  1.8064,  1.1833, -1.2560,  1.8867]])"
      ]
     },
     "execution_count": 3,
     "metadata": {},
     "output_type": "execute_result"
    }
   ],
   "source": []
  },
  {
   "cell_type": "code",
   "execution_count": 4,
   "metadata": {},
   "outputs": [],
   "source": [
    "import torch"
   ]
  },
  {
   "cell_type": "code",
   "execution_count": 43,
   "metadata": {},
   "outputs": [],
   "source": [
    "a = torch.tensor([[10,8], [4,8], [5,6]])"
   ]
  },
  {
   "cell_type": "code",
   "execution_count": 44,
   "metadata": {},
   "outputs": [
    {
     "data": {
      "text/plain": [
       "torch.Size([3, 2])"
      ]
     },
     "execution_count": 44,
     "metadata": {},
     "output_type": "execute_result"
    }
   ],
   "source": [
    "a.size()"
   ]
  },
  {
   "cell_type": "code",
   "execution_count": 45,
   "metadata": {},
   "outputs": [],
   "source": [
    "b = torch.tensor([[1],[2],[9]])"
   ]
  },
  {
   "cell_type": "code",
   "execution_count": 46,
   "metadata": {},
   "outputs": [
    {
     "data": {
      "text/plain": [
       "torch.Size([3, 1])"
      ]
     },
     "execution_count": 46,
     "metadata": {},
     "output_type": "execute_result"
    }
   ],
   "source": [
    "b.size()"
   ]
  },
  {
   "cell_type": "code",
   "execution_count": 47,
   "metadata": {},
   "outputs": [],
   "source": [
    "c = a.div(b)"
   ]
  },
  {
   "cell_type": "code",
   "execution_count": 48,
   "metadata": {},
   "outputs": [
    {
     "data": {
      "text/plain": [
       "tensor([[10,  8],\n",
       "        [ 2,  4],\n",
       "        [ 0,  0]])"
      ]
     },
     "execution_count": 48,
     "metadata": {},
     "output_type": "execute_result"
    }
   ],
   "source": [
    "c"
   ]
  },
  {
   "cell_type": "code",
   "execution_count": 31,
   "metadata": {},
   "outputs": [
    {
     "data": {
      "text/plain": [
       "torch.Size([3, 2])"
      ]
     },
     "execution_count": 31,
     "metadata": {},
     "output_type": "execute_result"
    }
   ],
   "source": [
    "c.size()"
   ]
  },
  {
   "cell_type": "code",
   "execution_count": 2,
   "metadata": {},
   "outputs": [
    {
     "data": {
      "text/plain": [
       "tensor([1, 2, 3])"
      ]
     },
     "execution_count": 2,
     "metadata": {},
     "output_type": "execute_result"
    }
   ],
   "source": [
    "import torch\n",
    "output = torch.unique(torch.tensor([1, 3, 2, 3], dtype=torch.long))\n",
    "output"
   ]
  },
  {
   "cell_type": "code",
   "execution_count": 13,
   "metadata": {},
   "outputs": [
    {
     "data": {
      "text/plain": [
       "tensor([[ 0,  1,  2],\n",
       "        [ 3,  4,  5],\n",
       "        [ 6,  7,  8],\n",
       "        [ 9, 10, 11]])"
      ]
     },
     "execution_count": 13,
     "metadata": {},
     "output_type": "execute_result"
    }
   ],
   "source": [
    "t = torch.arange(12).reshape(4,3)\n",
    "t"
   ]
  },
  {
   "cell_type": "code",
   "execution_count": 17,
   "metadata": {},
   "outputs": [
    {
     "data": {
      "text/plain": [
       "tensor([ 0,  1,  2,  3,  4,  5,  6,  7,  8,  9, 10, 11])"
      ]
     },
     "execution_count": 17,
     "metadata": {},
     "output_type": "execute_result"
    }
   ],
   "source": [
    "b = t.view(-1)\n",
    "b"
   ]
  },
  {
   "cell_type": "code",
   "execution_count": 5,
   "metadata": {},
   "outputs": [
    {
     "data": {
      "text/plain": [
       "tensor([[0.9011, 0.6054, 0.0080, 0.4059, 0.5573, 0.8005, 0.4834, 0.1177],\n",
       "        [0.3184, 0.5011, 0.2572, 0.6653, 0.0610, 0.2073, 0.0534, 0.4135]])"
      ]
     },
     "execution_count": 5,
     "metadata": {},
     "output_type": "execute_result"
    }
   ],
   "source": [
    "b"
   ]
  },
  {
   "cell_type": "code",
   "execution_count": 41,
   "metadata": {},
   "outputs": [
    {
     "data": {
      "text/plain": [
       "tensor([[[[1, 2, 3],\n",
       "          [3, 4, 5]],\n",
       "\n",
       "         [[1, 2, 3],\n",
       "          [1, 2, 3]]],\n",
       "\n",
       "\n",
       "        [[[1, 2, 3],\n",
       "          [3, 4, 5]],\n",
       "\n",
       "         [[1, 2, 3],\n",
       "          [1, 2, 3]]]])"
      ]
     },
     "execution_count": 41,
     "metadata": {},
     "output_type": "execute_result"
    }
   ],
   "source": [
    "import torch\n",
    "a = torch.tensor([\n",
    "[\n",
    "    [ [1,2,3], [3,4,5] ],\n",
    "    [ [1,2,3], [1,2,3] ]\n",
    "],\n",
    "[\n",
    "    [ [1,2,3], [3,4,5] ],\n",
    "    [ [1,2,3], [1,2,3] ]\n",
    "]])\n",
    "a"
   ]
  },
  {
   "cell_type": "code",
   "execution_count": 42,
   "metadata": {},
   "outputs": [
    {
     "data": {
      "text/plain": [
       "torch.Size([2, 2, 2, 3])"
      ]
     },
     "execution_count": 42,
     "metadata": {},
     "output_type": "execute_result"
    }
   ],
   "source": [
    "a.size()"
   ]
  },
  {
   "cell_type": "code",
   "execution_count": 33,
   "metadata": {},
   "outputs": [],
   "source": [
    "import torch.nn as nn\n",
    "import torch.nn.functional as F"
   ]
  },
  {
   "cell_type": "code",
   "execution_count": 38,
   "metadata": {},
   "outputs": [],
   "source": [
    "conv1 = nn.Conv2d(2, 1, (1))"
   ]
  },
  {
   "cell_type": "code",
   "execution_count": 39,
   "metadata": {},
   "outputs": [
    {
     "ename": "RuntimeError",
     "evalue": "Expected object of scalar type Long but got scalar type Float for argument #3 'mat1' in call to _th_addmm_",
     "output_type": "error",
     "traceback": [
      "\u001b[1;31m---------------------------------------------------------------------------\u001b[0m",
      "\u001b[1;31mRuntimeError\u001b[0m                              Traceback (most recent call last)",
      "\u001b[1;32m<ipython-input-39-4af9c3db7b6e>\u001b[0m in \u001b[0;36m<module>\u001b[1;34m\u001b[0m\n\u001b[1;32m----> 1\u001b[1;33m \u001b[0mconv1\u001b[0m\u001b[1;33m(\u001b[0m\u001b[0ma\u001b[0m\u001b[1;33m)\u001b[0m\u001b[1;33m\u001b[0m\u001b[1;33m\u001b[0m\u001b[0m\n\u001b[0m",
      "\u001b[1;32mE:\\ProgramFile\\Anaconda3\\lib\\site-packages\\torch\\nn\\modules\\module.py\u001b[0m in \u001b[0;36m__call__\u001b[1;34m(self, *input, **kwargs)\u001b[0m\n\u001b[0;32m    548\u001b[0m             \u001b[0mresult\u001b[0m \u001b[1;33m=\u001b[0m \u001b[0mself\u001b[0m\u001b[1;33m.\u001b[0m\u001b[0m_slow_forward\u001b[0m\u001b[1;33m(\u001b[0m\u001b[1;33m*\u001b[0m\u001b[0minput\u001b[0m\u001b[1;33m,\u001b[0m \u001b[1;33m**\u001b[0m\u001b[0mkwargs\u001b[0m\u001b[1;33m)\u001b[0m\u001b[1;33m\u001b[0m\u001b[1;33m\u001b[0m\u001b[0m\n\u001b[0;32m    549\u001b[0m         \u001b[1;32melse\u001b[0m\u001b[1;33m:\u001b[0m\u001b[1;33m\u001b[0m\u001b[1;33m\u001b[0m\u001b[0m\n\u001b[1;32m--> 550\u001b[1;33m             \u001b[0mresult\u001b[0m \u001b[1;33m=\u001b[0m \u001b[0mself\u001b[0m\u001b[1;33m.\u001b[0m\u001b[0mforward\u001b[0m\u001b[1;33m(\u001b[0m\u001b[1;33m*\u001b[0m\u001b[0minput\u001b[0m\u001b[1;33m,\u001b[0m \u001b[1;33m**\u001b[0m\u001b[0mkwargs\u001b[0m\u001b[1;33m)\u001b[0m\u001b[1;33m\u001b[0m\u001b[1;33m\u001b[0m\u001b[0m\n\u001b[0m\u001b[0;32m    551\u001b[0m         \u001b[1;32mfor\u001b[0m \u001b[0mhook\u001b[0m \u001b[1;32min\u001b[0m \u001b[0mself\u001b[0m\u001b[1;33m.\u001b[0m\u001b[0m_forward_hooks\u001b[0m\u001b[1;33m.\u001b[0m\u001b[0mvalues\u001b[0m\u001b[1;33m(\u001b[0m\u001b[1;33m)\u001b[0m\u001b[1;33m:\u001b[0m\u001b[1;33m\u001b[0m\u001b[1;33m\u001b[0m\u001b[0m\n\u001b[0;32m    552\u001b[0m             \u001b[0mhook_result\u001b[0m \u001b[1;33m=\u001b[0m \u001b[0mhook\u001b[0m\u001b[1;33m(\u001b[0m\u001b[0mself\u001b[0m\u001b[1;33m,\u001b[0m \u001b[0minput\u001b[0m\u001b[1;33m,\u001b[0m \u001b[0mresult\u001b[0m\u001b[1;33m)\u001b[0m\u001b[1;33m\u001b[0m\u001b[1;33m\u001b[0m\u001b[0m\n",
      "\u001b[1;32mE:\\ProgramFile\\Anaconda3\\lib\\site-packages\\torch\\nn\\modules\\conv.py\u001b[0m in \u001b[0;36mforward\u001b[1;34m(self, input)\u001b[0m\n\u001b[0;32m    351\u001b[0m \u001b[1;33m\u001b[0m\u001b[0m\n\u001b[0;32m    352\u001b[0m     \u001b[1;32mdef\u001b[0m \u001b[0mforward\u001b[0m\u001b[1;33m(\u001b[0m\u001b[0mself\u001b[0m\u001b[1;33m,\u001b[0m \u001b[0minput\u001b[0m\u001b[1;33m)\u001b[0m\u001b[1;33m:\u001b[0m\u001b[1;33m\u001b[0m\u001b[1;33m\u001b[0m\u001b[0m\n\u001b[1;32m--> 353\u001b[1;33m         \u001b[1;32mreturn\u001b[0m \u001b[0mself\u001b[0m\u001b[1;33m.\u001b[0m\u001b[0m_conv_forward\u001b[0m\u001b[1;33m(\u001b[0m\u001b[0minput\u001b[0m\u001b[1;33m,\u001b[0m \u001b[0mself\u001b[0m\u001b[1;33m.\u001b[0m\u001b[0mweight\u001b[0m\u001b[1;33m)\u001b[0m\u001b[1;33m\u001b[0m\u001b[1;33m\u001b[0m\u001b[0m\n\u001b[0m\u001b[0;32m    354\u001b[0m \u001b[1;33m\u001b[0m\u001b[0m\n\u001b[0;32m    355\u001b[0m \u001b[1;32mclass\u001b[0m \u001b[0mConv3d\u001b[0m\u001b[1;33m(\u001b[0m\u001b[0m_ConvNd\u001b[0m\u001b[1;33m)\u001b[0m\u001b[1;33m:\u001b[0m\u001b[1;33m\u001b[0m\u001b[1;33m\u001b[0m\u001b[0m\n",
      "\u001b[1;32mE:\\ProgramFile\\Anaconda3\\lib\\site-packages\\torch\\nn\\modules\\conv.py\u001b[0m in \u001b[0;36m_conv_forward\u001b[1;34m(self, input, weight)\u001b[0m\n\u001b[0;32m    348\u001b[0m                             _pair(0), self.dilation, self.groups)\n\u001b[0;32m    349\u001b[0m         return F.conv2d(input, weight, self.bias, self.stride,\n\u001b[1;32m--> 350\u001b[1;33m                         self.padding, self.dilation, self.groups)\n\u001b[0m\u001b[0;32m    351\u001b[0m \u001b[1;33m\u001b[0m\u001b[0m\n\u001b[0;32m    352\u001b[0m     \u001b[1;32mdef\u001b[0m \u001b[0mforward\u001b[0m\u001b[1;33m(\u001b[0m\u001b[0mself\u001b[0m\u001b[1;33m,\u001b[0m \u001b[0minput\u001b[0m\u001b[1;33m)\u001b[0m\u001b[1;33m:\u001b[0m\u001b[1;33m\u001b[0m\u001b[1;33m\u001b[0m\u001b[0m\n",
      "\u001b[1;31mRuntimeError\u001b[0m: Expected object of scalar type Long but got scalar type Float for argument #3 'mat1' in call to _th_addmm_"
     ]
    }
   ],
   "source": [
    "conv1(a)"
   ]
  },
  {
   "cell_type": "code",
   "execution_count": 48,
   "metadata": {},
   "outputs": [
    {
     "ename": "RuntimeError",
     "evalue": "Expected 4-dimensional input for 4-dimensional weight [33, 16, 3, 5], but got 5-dimensional input of size [20, 16, 50, 100, 10] instead",
     "output_type": "error",
     "traceback": [
      "\u001b[1;31m---------------------------------------------------------------------------\u001b[0m",
      "\u001b[1;31mRuntimeError\u001b[0m                              Traceback (most recent call last)",
      "\u001b[1;32m<ipython-input-48-ab323c4a8cf5>\u001b[0m in \u001b[0;36m<module>\u001b[1;34m\u001b[0m\n\u001b[0;32m      6\u001b[0m \u001b[0mm\u001b[0m \u001b[1;33m=\u001b[0m \u001b[0mnn\u001b[0m\u001b[1;33m.\u001b[0m\u001b[0mConv2d\u001b[0m\u001b[1;33m(\u001b[0m\u001b[1;36m16\u001b[0m\u001b[1;33m,\u001b[0m \u001b[1;36m33\u001b[0m\u001b[1;33m,\u001b[0m \u001b[1;33m(\u001b[0m\u001b[1;36m3\u001b[0m\u001b[1;33m,\u001b[0m \u001b[1;36m5\u001b[0m\u001b[1;33m)\u001b[0m\u001b[1;33m,\u001b[0m \u001b[0mstride\u001b[0m\u001b[1;33m=\u001b[0m\u001b[1;33m(\u001b[0m\u001b[1;36m2\u001b[0m\u001b[1;33m,\u001b[0m \u001b[1;36m1\u001b[0m\u001b[1;33m)\u001b[0m\u001b[1;33m,\u001b[0m \u001b[0mpadding\u001b[0m\u001b[1;33m=\u001b[0m\u001b[1;33m(\u001b[0m\u001b[1;36m4\u001b[0m\u001b[1;33m,\u001b[0m \u001b[1;36m2\u001b[0m\u001b[1;33m)\u001b[0m\u001b[1;33m,\u001b[0m \u001b[0mdilation\u001b[0m\u001b[1;33m=\u001b[0m\u001b[1;33m(\u001b[0m\u001b[1;36m3\u001b[0m\u001b[1;33m,\u001b[0m \u001b[1;36m1\u001b[0m\u001b[1;33m)\u001b[0m\u001b[1;33m)\u001b[0m\u001b[1;33m\u001b[0m\u001b[1;33m\u001b[0m\u001b[0m\n\u001b[0;32m      7\u001b[0m \u001b[0minput\u001b[0m \u001b[1;33m=\u001b[0m \u001b[0mtorch\u001b[0m\u001b[1;33m.\u001b[0m\u001b[0mrandn\u001b[0m\u001b[1;33m(\u001b[0m\u001b[1;36m20\u001b[0m\u001b[1;33m,\u001b[0m \u001b[1;36m16\u001b[0m\u001b[1;33m,\u001b[0m \u001b[1;36m50\u001b[0m\u001b[1;33m,\u001b[0m \u001b[1;36m100\u001b[0m\u001b[1;33m,\u001b[0m \u001b[1;36m10\u001b[0m\u001b[1;33m)\u001b[0m\u001b[1;33m\u001b[0m\u001b[1;33m\u001b[0m\u001b[0m\n\u001b[1;32m----> 8\u001b[1;33m \u001b[0moutput\u001b[0m \u001b[1;33m=\u001b[0m \u001b[0mm\u001b[0m\u001b[1;33m(\u001b[0m\u001b[0minput\u001b[0m\u001b[1;33m)\u001b[0m\u001b[1;33m\u001b[0m\u001b[1;33m\u001b[0m\u001b[0m\n\u001b[0m",
      "\u001b[1;32mE:\\ProgramFile\\Anaconda3\\lib\\site-packages\\torch\\nn\\modules\\module.py\u001b[0m in \u001b[0;36m__call__\u001b[1;34m(self, *input, **kwargs)\u001b[0m\n\u001b[0;32m    548\u001b[0m             \u001b[0mresult\u001b[0m \u001b[1;33m=\u001b[0m \u001b[0mself\u001b[0m\u001b[1;33m.\u001b[0m\u001b[0m_slow_forward\u001b[0m\u001b[1;33m(\u001b[0m\u001b[1;33m*\u001b[0m\u001b[0minput\u001b[0m\u001b[1;33m,\u001b[0m \u001b[1;33m**\u001b[0m\u001b[0mkwargs\u001b[0m\u001b[1;33m)\u001b[0m\u001b[1;33m\u001b[0m\u001b[1;33m\u001b[0m\u001b[0m\n\u001b[0;32m    549\u001b[0m         \u001b[1;32melse\u001b[0m\u001b[1;33m:\u001b[0m\u001b[1;33m\u001b[0m\u001b[1;33m\u001b[0m\u001b[0m\n\u001b[1;32m--> 550\u001b[1;33m             \u001b[0mresult\u001b[0m \u001b[1;33m=\u001b[0m \u001b[0mself\u001b[0m\u001b[1;33m.\u001b[0m\u001b[0mforward\u001b[0m\u001b[1;33m(\u001b[0m\u001b[1;33m*\u001b[0m\u001b[0minput\u001b[0m\u001b[1;33m,\u001b[0m \u001b[1;33m**\u001b[0m\u001b[0mkwargs\u001b[0m\u001b[1;33m)\u001b[0m\u001b[1;33m\u001b[0m\u001b[1;33m\u001b[0m\u001b[0m\n\u001b[0m\u001b[0;32m    551\u001b[0m         \u001b[1;32mfor\u001b[0m \u001b[0mhook\u001b[0m \u001b[1;32min\u001b[0m \u001b[0mself\u001b[0m\u001b[1;33m.\u001b[0m\u001b[0m_forward_hooks\u001b[0m\u001b[1;33m.\u001b[0m\u001b[0mvalues\u001b[0m\u001b[1;33m(\u001b[0m\u001b[1;33m)\u001b[0m\u001b[1;33m:\u001b[0m\u001b[1;33m\u001b[0m\u001b[1;33m\u001b[0m\u001b[0m\n\u001b[0;32m    552\u001b[0m             \u001b[0mhook_result\u001b[0m \u001b[1;33m=\u001b[0m \u001b[0mhook\u001b[0m\u001b[1;33m(\u001b[0m\u001b[0mself\u001b[0m\u001b[1;33m,\u001b[0m \u001b[0minput\u001b[0m\u001b[1;33m,\u001b[0m \u001b[0mresult\u001b[0m\u001b[1;33m)\u001b[0m\u001b[1;33m\u001b[0m\u001b[1;33m\u001b[0m\u001b[0m\n",
      "\u001b[1;32mE:\\ProgramFile\\Anaconda3\\lib\\site-packages\\torch\\nn\\modules\\conv.py\u001b[0m in \u001b[0;36mforward\u001b[1;34m(self, input)\u001b[0m\n\u001b[0;32m    351\u001b[0m \u001b[1;33m\u001b[0m\u001b[0m\n\u001b[0;32m    352\u001b[0m     \u001b[1;32mdef\u001b[0m \u001b[0mforward\u001b[0m\u001b[1;33m(\u001b[0m\u001b[0mself\u001b[0m\u001b[1;33m,\u001b[0m \u001b[0minput\u001b[0m\u001b[1;33m)\u001b[0m\u001b[1;33m:\u001b[0m\u001b[1;33m\u001b[0m\u001b[1;33m\u001b[0m\u001b[0m\n\u001b[1;32m--> 353\u001b[1;33m         \u001b[1;32mreturn\u001b[0m \u001b[0mself\u001b[0m\u001b[1;33m.\u001b[0m\u001b[0m_conv_forward\u001b[0m\u001b[1;33m(\u001b[0m\u001b[0minput\u001b[0m\u001b[1;33m,\u001b[0m \u001b[0mself\u001b[0m\u001b[1;33m.\u001b[0m\u001b[0mweight\u001b[0m\u001b[1;33m)\u001b[0m\u001b[1;33m\u001b[0m\u001b[1;33m\u001b[0m\u001b[0m\n\u001b[0m\u001b[0;32m    354\u001b[0m \u001b[1;33m\u001b[0m\u001b[0m\n\u001b[0;32m    355\u001b[0m \u001b[1;32mclass\u001b[0m \u001b[0mConv3d\u001b[0m\u001b[1;33m(\u001b[0m\u001b[0m_ConvNd\u001b[0m\u001b[1;33m)\u001b[0m\u001b[1;33m:\u001b[0m\u001b[1;33m\u001b[0m\u001b[1;33m\u001b[0m\u001b[0m\n",
      "\u001b[1;32mE:\\ProgramFile\\Anaconda3\\lib\\site-packages\\torch\\nn\\modules\\conv.py\u001b[0m in \u001b[0;36m_conv_forward\u001b[1;34m(self, input, weight)\u001b[0m\n\u001b[0;32m    348\u001b[0m                             _pair(0), self.dilation, self.groups)\n\u001b[0;32m    349\u001b[0m         return F.conv2d(input, weight, self.bias, self.stride,\n\u001b[1;32m--> 350\u001b[1;33m                         self.padding, self.dilation, self.groups)\n\u001b[0m\u001b[0;32m    351\u001b[0m \u001b[1;33m\u001b[0m\u001b[0m\n\u001b[0;32m    352\u001b[0m     \u001b[1;32mdef\u001b[0m \u001b[0mforward\u001b[0m\u001b[1;33m(\u001b[0m\u001b[0mself\u001b[0m\u001b[1;33m,\u001b[0m \u001b[0minput\u001b[0m\u001b[1;33m)\u001b[0m\u001b[1;33m:\u001b[0m\u001b[1;33m\u001b[0m\u001b[1;33m\u001b[0m\u001b[0m\n",
      "\u001b[1;31mRuntimeError\u001b[0m: Expected 4-dimensional input for 4-dimensional weight [33, 16, 3, 5], but got 5-dimensional input of size [20, 16, 50, 100, 10] instead"
     ]
    }
   ],
   "source": [
    "# With square kernels and equal stride\n",
    "m = nn.Conv2d(16, 33, 3, stride=2)\n",
    "# non-square kernels and unequal stride and with padding\n",
    "m = nn.Conv2d(16, 33, (3, 5), stride=(2, 1), padding=(4, 2))\n",
    "# non-square kernels and unequal stride and with padding and dilation\n",
    "m = nn.Conv2d(16, 33, (3, 5), stride=(2, 1), padding=(4, 2), dilation=(3, 1))\n",
    "input = torch.randn(20, 16, 50, 100, 10)\n",
    "output = m(input)"
   ]
  },
  {
   "cell_type": "code",
   "execution_count": null,
   "metadata": {},
   "outputs": [],
   "source": [
    "input.size()"
   ]
  },
  {
   "cell_type": "code",
   "execution_count": 49,
   "metadata": {},
   "outputs": [
    {
     "data": {
      "text/plain": [
       "torch.Size([20, 33, 26, 100])"
      ]
     },
     "execution_count": 49,
     "metadata": {},
     "output_type": "execute_result"
    }
   ],
   "source": [
    "output.size()"
   ]
  },
  {
   "cell_type": "code",
   "execution_count": null,
   "metadata": {},
   "outputs": [],
   "source": []
  }
 ],
 "metadata": {
  "kernelspec": {
   "display_name": "Python 3",
   "language": "python",
   "name": "python3"
  },
  "language_info": {
   "codemirror_mode": {
    "name": "ipython",
    "version": 3
   },
   "file_extension": ".py",
   "mimetype": "text/x-python",
   "name": "python",
   "nbconvert_exporter": "python",
   "pygments_lexer": "ipython3",
   "version": "3.7.6"
  }
 },
 "nbformat": 4,
 "nbformat_minor": 4
}
