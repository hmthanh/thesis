{
 "cells": [
  {
   "cell_type": "markdown",
   "metadata": {},
   "source": [
    "# KBGAT Source Code"
   ]
  },
  {
   "cell_type": "markdown",
   "metadata": {},
   "source": [
    "# main.py\n",
    "\n",
    "## Hàm `def load_data(args):`\n",
    "\n",
    "### 1. build_data( args.data, is_unweigted=False, directed=True)\n",
    "\n",
    "##### `train_data` : `(train_triples, train_adjacency_mat)` :\n",
    "\n",
    "Trong đó : \n",
    "\n",
    "`train_triples` : `(entity2id[e1], relation2id[relation], entity2id[e2])`\n",
    "\n",
    "`train_adjacency_mat` : `(rows, cols, data)`\n",
    "\n",
    "\n",
    "`validation_data`, `test_data` : tương tự `train_data`\n",
    "\n",
    "`entity2id`\n",
    "\n",
    "`relation2id`\n",
    "\n",
    "`headTailSelector` : \n",
    "\n",
    "`unique_entities_train`\n"
   ]
  },
  {
   "cell_type": "markdown",
   "metadata": {},
   "source": [
    "`entity_embeddings` : shape = [len(entity2id) : args.embedding_size]\n",
    "\n",
    "Có kích thước là [số lượng entity, số chiều k]"
   ]
  },
  {
   "cell_type": "markdown",
   "metadata": {},
   "source": [
    "## Hàm def train_gat(args):\n",
    "\n",
    "Định nghĩa mô hình \n",
    "\n",
    "#### SpKBGATModified()\n",
    "\n",
    "`entity_embeddings`\n",
    "\n",
    "`relation_embeddings`\n",
    "\n",
    "`args.entity_out_dim`\n",
    "\n",
    "`args.entity_out_dim`\n",
    "\n",
    "`args.drop_GAT`\n",
    "\n",
    "`args.alpha`\n",
    "\n",
    "`args.nheads_GAT`"
   ]
  },
  {
   "cell_type": "markdown",
   "metadata": {},
   "source": [
    "## Class SpKBGATModified:\n",
    "\n",
    "`num_nodes`\n",
    "`entity_in_dim`\n",
    "`entity_out_dim_1`\n",
    "`nheads_GAT_1`\n",
    "`entity_out_dim_2`\n",
    "`nheads_GAT_2`\n",
    "\n",
    "#### Properties of Relations\n",
    "\n",
    "`num_relation`\n",
    "`relation_dim`\n",
    "`relation_out_dim_1`\n",
    "`drop_GAT`\n",
    "`alpha`"
   ]
  },
  {
   "cell_type": "markdown",
   "metadata": {},
   "source": [
    "#### Parameter\n",
    "40943 : số phần tử entity trong tập train\n",
    "\n",
    "11 : số phần tử relation trong tập train\n",
    "\n",
    "[100, 200] : Entity output embedding dimensions (entity_out_dim)\n",
    "\n",
    "[2, 2] : Multihead attention SpGAT (nheads_GAT)\n",
    "\n",
    "50 : số chiều nhúng k ban đầu\n",
    "```\n",
    "final_entity_embeddings : torch.Size([40943, 200])\n",
    "final_relation_embeddings : torch.Size([11, 200])\n",
    "entity_embeddings : torch.Size([40943, 50])\n",
    "relation_embeddings : torch.Size([11, 50])\n",
    "W_entities : torch.Size([50, 200])\n",
    "sparse_gat_1.W : torch.Size([50, 200])\n",
    "sparse_gat_1.attention_0.a : torch.Size([100, 150])\n",
    "sparse_gat_1.attention_0.a_2 : torch.Size([1, 100])\n",
    "sparse_gat_1.attention_1.a : torch.Size([100, 150])\n",
    "sparse_gat_1.attention_1.a_2 : torch.Size([1, 100])\n",
    "sparse_gat_1.out_att.a : torch.Size([200, 600])\n",
    "sparse_gat_1.out_att.a_2 : torch.Size([1, 200])\n",
    "```\n",
    "\n",
    "\n",
    "* `final_entity_embeddings` : shape = [num_nodes, entity_out_dim_1 * nheads_GAT_1]\n",
    "\n",
    "(Kết quả nhúng thực thể : [số lượng nodes, kích thước output entity * số nheads_GAT_1])\n",
    "\n",
    "* `final_relation_embeddings`: shape = [num_relation, entity_out_dim_1 * nheads_GAT_1]\n",
    "\n",
    "* `entity_embeddings` : `initial_entity_emb`\n",
    "\n",
    "* `relation_embeddings` : `initial_relation_emb`\n",
    "\n",
    "* sparse_gat_1: SpGAT : tập hợp các paramter của lớp SpGAT\n",
    "\n",
    "* `W_entities` : trọng số thực thể với shape = [entity_in_dim, entity_out_dim_1 * nheads_GAT_1]"
   ]
  },
  {
   "cell_type": "markdown",
   "metadata": {},
   "source": [
    "## class SpGAT(nn.Module)\n",
    "```python\n",
    "SpKBGATModified(\n",
    "  (sparse_gat_1): SpGAT(\n",
    "    (dropout_layer): Dropout(p=0.3, inplace=False)\n",
    "    (attention_0): SpGraphAttentionLayer (50 -> 100)\n",
    "    (attention_1): SpGraphAttentionLayer (50 -> 100)\n",
    "    (out_att): SpGraphAttentionLayer (200 -> 200)\n",
    "  )\n",
    ")\n",
    "```\n",
    "\n",
    "\n",
    "```python\n",
    "sparse_gat_1.W : torch.Size([50, 200])\n",
    "sparse_gat_1.attention_0.a : torch.Size([100, 150])\n",
    "sparse_gat_1.attention_0.a_2 : torch.Size([1, 100])\n",
    "sparse_gat_1.attention_1.a : torch.Size([100, 150])\n",
    "sparse_gat_1.attention_1.a_2 : torch.Size([1, 100])\n",
    "sparse_gat_1.out_att.a : torch.Size([200, 600])\n",
    "sparse_gat_1.out_att.a_2 : torch.Size([1, 200])```\n",
    "\n",
    "\n",
    "#### Dropout\n",
    "\n",
    "`dropout_layer = nn.Dropout(self.dropout)`\n",
    "\n",
    "torch.Size([40943, 200])"
   ]
  },
  {
   "cell_type": "markdown",
   "metadata": {},
   "source": [
    "## Hàm def forward() trong layer SpGAT\n",
    "\n",
    "Input : \n",
    "```\n",
    "Corpus_\n",
    "batch_inputs\n",
    "entity_embeddings\n",
    "relation_embed\n",
    "edge_list\n",
    "edge_type\n",
    "edge_embed\n",
    "edge_list_nhop\n",
    "edge_type_nhop\n",
    "```\n"
   ]
  },
  {
   "cell_type": "markdown",
   "metadata": {},
   "source": [
    "## Hàm def forward() trong layer chính (SpKBGATModified)\n",
    "Input :\n",
    "\n",
    "`train_adj_matrix` : gồm hai phần tử `(adj_indices, adj_values)`\n",
    "`train_indices` : lấy từ hàm `get_iteration_batch` : `batch_indices` : là index lấy ra của từng batch\n",
    "`current_batch_2hop_indices` : Lấy 2 hop indices kế cận của batch\n"
   ]
  },
  {
   "cell_type": "markdown",
   "metadata": {},
   "source": [
    "`edge_list` : head\n",
    "`edge_type` : tailSpectrum of a bounded operator"
   ]
  },
  {
   "cell_type": "markdown",
   "metadata": {},
   "source": [
    "input, edge, edge_embed, edge_list_nhop, edge_embed_nhop):\n",
    "\n",
    "\n"
   ]
  },
  {
   "cell_type": "markdown",
   "metadata": {},
   "source": [
    "### model_conv\n",
    "```python\n",
    "final_entity_embeddings : torch.Size([40943, 200])\n",
    "final_relation_embeddings : torch.Size([11, 200])\n",
    "convKB.conv_layer.weight : torch.Size([500, 1, 1, 3])\n",
    "convKB.conv_layer.bias : torch.Size([500])\n",
    "convKB.fc_layer.weight : torch.Size([1, 100000])\n",
    "convKB.fc_layer.bias : torch.Size([1])\n",
    "\n",
    "```"
   ]
  },
  {
   "cell_type": "markdown",
   "metadata": {},
   "source": [
    "```python\n",
    "SpKBGATConvOnly(\n",
    "  (convKB): ConvKB(\n",
    "    (conv_layer): Conv2d(1, 500, kernel_size=(1, 3), stride=(1, 1))\n",
    "    (dropout): Dropout(p=0.0, inplace=False)\n",
    "    (non_linearity): ReLU()\n",
    "    (fc_layer): Linear(in_features=100000, out_features=1, bias=True)\n",
    "  )\n",
    ")\n",
    "```"
   ]
  },
  {
   "cell_type": "markdown",
   "metadata": {},
   "source": [
    "# Debug"
   ]
  },
  {
   "cell_type": "markdown",
   "metadata": {},
   "source": [
    "```python\n",
    "entity_embeddings (40943, 50)\n",
    "relation_embed(11, 50)\n",
    "\n",
    "\n",
    "edge_list[i] (2, 86835) : head_id, tail_id của một cạnh i ()\n",
    "edge_type[i] (86835) : relation_id của một cạnh i\n",
    "\n",
    "edge_list_nhop[i] (2, 207376) : neigh_entity_id1, neigh_entity_id2 của một cạnh hàng xóm với source\n",
    "edge_type[i] (2, 207376) : neigh_relation_id_1, neigh_relation_id_1\n",
    "\n",
    "edge_embed (86835, 50)\n",
    "\n",
    "\n",
    "edge_embed_nhop (207376, 50) = G_nhop1 + G_nhop2\n",
    "\n",
    "train_indices_nhop (207376, 4)\n",
    "\n",
    "N = 40943\n",
    "\n",
    "___________________________________________\n",
    "edge (2, 294211)\n",
    "edge_embed (2, 294211) = edge_embed(86835, 50) + edge_embed_nhop(207376, 50)\n",
    "\n",
    "edge_h (150, 294211)\n",
    "\n",
    "A_1 (100, 150)\n",
    "edge_m (100, 294211)\n",
    "\n",
    "\n",
    "A_2 (1, 100)\n",
    "\n",
    "powers (294211)\n",
    "edge_e (294211, 1)\n",
    "\n",
    "\n",
    "\n",
    "```"
   ]
  },
  {
   "cell_type": "markdown",
   "metadata": {},
   "source": []
  },
  {
   "cell_type": "code",
   "execution_count": null,
   "metadata": {},
   "outputs": [],
   "source": []
  }
 ],
 "metadata": {
  "kernelspec": {
   "display_name": "Python 3",
   "language": "python",
   "name": "python3"
  },
  "language_info": {
   "codemirror_mode": {
    "name": "ipython",
    "version": 3
   },
   "file_extension": ".py",
   "mimetype": "text/x-python",
   "name": "python",
   "nbconvert_exporter": "python",
   "pygments_lexer": "ipython3",
   "version": "3.7.6"
  }
 },
 "nbformat": 4,
 "nbformat_minor": 4
}
