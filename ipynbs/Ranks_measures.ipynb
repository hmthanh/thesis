{
 "cells": [
  {
   "cell_type": "markdown",
   "metadata": {},
   "source": [
    "# Ranks measures"
   ]
  },
  {
   "cell_type": "markdown",
   "metadata": {},
   "source": [
    "Đánh giá được thực hiện bằng cách thực hiện cả dự đoán head và tail trên tất cả các bộ ba thử nghiệm trong $G_{test}$ và tính toán cho từng dự đoán về cách **target entity ranks** so với tất cả các dự đoán khác. Lý tưởng nhất, thực thể mục tiêu sẽ mang lại tính hợp lý cao nhất."
   ]
  },
  {
   "cell_type": "markdown",
   "metadata": {},
   "source": [
    "Xếp hạng có thể được tính theo hai phần lớn khác nhau, được gọi là các kịch bản thô và € đã lọc. Trên thực tế, một dự đoán có thể có nhiều câu trả lời hợp lệ: ví dụ, khi dự đoán cái đuôi cho ⟨Barack Obama, cha mẹ, Natasha Obama, một người mẫu có thể liên kết số điểm cao hơn với Malia Obama so với Natasha Obama. Tổng quát hơn, nếu thực tế dự đoán được chứa trong G (nghĩa là trong Gt r ain hoặc trong Gval id hoặc trong Gtest), câu trả lời là hợp lệ. Tùy thuộc vào việc câu trả lời hợp lệ có nên được xem là chấp nhận hay không, hai câu hỏi riêng biệt đã được đưa ra"
   ]
  }
 ],
 "metadata": {
  "language_info": {
   "codemirror_mode": {
    "name": "ipython",
    "version": 3
   },
   "file_extension": ".py",
   "mimetype": "text/x-python",
   "name": "python",
   "nbconvert_exporter": "python",
   "pygments_lexer": "ipython3",
   "version": 3
  },
  "orig_nbformat": 2
 },
 "nbformat": 4,
 "nbformat_minor": 2
}