{
 "cells": [
  {
   "cell_type": "markdown",
   "metadata": {},
   "source": [
    "# Ranks measures"
   ]
  },
  {
   "cell_type": "markdown",
   "metadata": {},
   "source": [
    "Đánh giá được thực hiện bằng cách thực hiện cả dự đoán head và tail trên tất cả các bộ ba thử nghiệm trong $G_{test}$ và tính toán cho từng dự đoán về cách **target entity ranks** so với tất cả các dự đoán khác. Lý tưởng nhất, thực thể mục tiêu sẽ mang lại tính hợp lý cao nhất."
   ]
  },
  {
   "cell_type": "markdown",
   "metadata": {},
   "source": [
    "Xếp hạng có thể được tính theo hai phần lớn khác nhau, được gọi là các kịch bản thô và € đã lọc. Trên thực tế, một dự đoán có thể có nhiều câu trả lời hợp lệ: ví dụ, khi dự đoán cái đuôi cho ⟨Barack Obama, cha mẹ, Natasha Obama, một người mẫu có thể liên kết số điểm cao hơn với Malia Obama so với Natasha Obama. Tổng quát hơn, nếu thực tế dự đoán được chứa trong G (nghĩa là trong Gt r ain hoặc trong Gval id hoặc trong Gtest), câu trả lời là hợp lệ. Tùy thuộc vào việc câu trả lời hợp lệ có nên được xem là chấp nhận hay không, hai câu hỏi riêng biệt đã được đưa ra"
   ]
  },
  {
   "cell_type": "markdown",
   "metadata": {},
   "source": [
    "**Ranks** có thể được tính theo hai cách khác nhau, được gọi là các kịch bản *raw* và *filtered scenarios*. Thực tế, một dự đoán có thể có nhiều câu trả lời hợp lệ: ví dụ, khi dự đoán cái tail cho $\\langle Barack Obama, parent, Natasha Obama \\rangle$ một mô hình có thể liên kết một số điểm cao hơn để Malia Obama so với Natasha Obama. Tổng quát hơn, nếu **predicted fact** được chứa trong $G$ (nghĩa là trong $G_{train}$ hoặc trong $G_{valid}$ hoặc trong $G_{test}$), câu trả lời là hợp lệ. Tùy thuộc vào việc câu trả lời hợp lệ có nên được xem là chấp nhận hay không, hai cài đặt riêng biệt đã được đưa ra"
   ]
  },
  {
   "cell_type": "markdown",
   "metadata": {},
   "source": [
    "* Raw Scenario (kịch bản thô): trong kịch bản này, **valid entities** vượt quá **target one** được coi là sai lầm. Vì vậy, họ đóng góp vào tính toán **rank** (xếp hạng). Với một **test fact** $\\langle h, r, t \\rangle \\in G_{test}$, $r_t$ **raw rank** của **target tail**  $t$ được tính là:\n",
    "$$\n",
    "r_t = \\mid {e \\in \\varepsilon \\ {t } : \\phi (h, r, e) > \\phi (h, r,t)} \\mid + 1\n",
    "$$\n",
    "số lượng các $entities$ cho hàm $\\phi$ lớn hơn $\\phi$ của tail dự đoán"
   ]
  },
  {
   "cell_type": "markdown",
   "metadata": {},
   "source": [
    "* Filtered Scenario (Kịch bản đã lọc): trong kịch bản này, **valid entities** vượt quá **target** không được coi là sai lầm. Vì vậy, chúng sẽ bị bỏ qua khi tính toán **rank** (thứ hạng). Với một **test fact** $\\langle h, r, t \\rangle \\in G_{test}$, **filtered rank** $r_t$ của *** target tail*** $t$ được tính là:\n",
    "$$\n",
    "r_t = \\mid {e \\in \\varepsilon \\ {t } : \\phi (h, r, e) > \\phi (h, r,t)} \\land \\langle h, r, t \\rangle \\notin G \\mid + 1\n",
    "$$"
   ]
  },
  {
   "cell_type": "markdown",
   "metadata": {},
   "source": [
    "Để tính **rank**, cũng cần phải xác định chính sách áp dụng khi **target entity** (thực thể mục tiêu) đạt được số điểm tương tự như các thực thể khác. Sự kiện này được gọi là **tie** và nó có thể được xử lý bằng các chính sách khác nhau:"
   ]
  },
  {
   "cell_type": "markdown",
   "metadata": {},
   "source": [
    "* *min*: mục tiêu được xếp hạng thấp nhất trong số các thực thể trong tie. đây là chính sách dễ dãi nhất và có thể dẫn đến hiệu suất tăng giả tạo: như một ví dụ cực đoan, một mô hình đặt hệ thống cùng một số điểm cho tất cả các thực thể sẽ thu được kết quả hoàn hảo theo chính sách này.\n",
    "\n",
    "* *average*: **target** được xếp hạng trung bình trong số các thực thể ràng buộc.\n",
    "\n",
    "* *random*: mục tiêu được xếp hạng ngẫu nhiên trong số các thực thể trong tie. Trên các bộ thử nghiệm lớn, chính sách này sẽ có giá trị **globally** (toàn cầu) cho chính sách trung bình.\n",
    "\n",
    "* *ordinal*: các thực thể trong tie được xếp hạng dựa trên thứ tự mà chúng đã được truyền cho mô hình. Điều này thường phụ thuộc vào các định danh nội bộ của các thực thể, độc lập với điểm số của chúng: do đó chính sách này sẽ tương ứng trên globally (toàn cầu) với chính sách ngẫu nhiên.\n",
    "\n",
    "* *max*: mục tiêu được xếp hạng cao nhất (tệ nhất) trong số các thực thể ràng buộc. Đây là chính sách nghiêm ngặt nhất"
   ]
  },
  {
   "cell_type": "markdown",
   "metadata": {},
   "source": [
    "Thứ hạng $Q$ thu được từ các dự đoán kiểm tra thường được sử dụng để tính toán các *standard global metrics* (số liệu toàn cầu tiêu chuẩn). các số liệu được sử dụng phổ biến nhất trong $LP$ là:\n",
    "* ***Mean Rank*** (Thứ hạng trung bình - $MR$). Nó là trung bình của các ***ranks*** thu được:\n",
    "$$\n",
    "MR = \\frac{1}{\\mid Q \\mid} \\sum_{q \\in Q} q\n",
    "$$\n",
    "Nó luôn nằm trong khoảng từ 1 đến $ \\mid \\varepsilon \\mid$, và càng thấp, kết quả mô hình càng thấp. Nó rất nhạy cảm với các ngoại lệ, do đó các nhà nghiên cứu gần đây đã bắt đầu tránh nó, thay vào đó, sử dụng Xếp hạng đối ứng trung bình."
   ]
  }
 ],
 "metadata": {
  "language_info": {
   "codemirror_mode": {
    "name": "ipython",
    "version": 3
   },
   "file_extension": ".py",
   "mimetype": "text/x-python",
   "name": "python",
   "nbconvert_exporter": "python",
   "pygments_lexer": "ipython3",
   "version": 3
  },
  "orig_nbformat": 2
 },
 "nbformat": 4,
 "nbformat_minor": 2
}