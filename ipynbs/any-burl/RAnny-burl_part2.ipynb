{
 "cells": [
  {
   "cell_type": "markdown",
   "metadata": {},
   "source": [
    "# Reinforced Anytime Bottom Up Rule Learning for Knowledge Graph Completion"
   ]
  },
  {
   "cell_type": "markdown",
   "metadata": {},
   "source": [
    "## 2 Bottom Up Rule Learning"
   ]
  },
  {
   "cell_type": "markdown",
   "metadata": {},
   "source": [
    "Trước tiên, chúng tôi giới thiệu loại quy tắc mà **AnyBURL** có thể học được trước khi chúng tôi mô tả cách chúng tôi tạo các quy tắc này từ các đường dẫn lấy mẫu. Các phần của điều này đã được trình bày dưới dạng khác trong [16]. Sau đó, chúng tôi giải thích khái niệm **Object Identity** (Nhận dạng đối tượng) đã được giới thiệu trong [25] và tranh luận lý do tại sao nó quan trọng đối với trường hợp sử dụng của chúng tôi. **Object Identity** đã được triển khai một phần trong phiên bản trước của **AnyBURL** mà không hiểu tầm quan trọng của nó."
   ]
  },
  {
   "cell_type": "markdown",
   "metadata": {},
   "source": [
    "### 2.1 Language Bias"
   ]
  },
  {
   "cell_type": "markdown",
   "metadata": {},
   "source": [
    "Chúng tôi phân biệt dưới đây giữa ba loại quy tắc mà chúng tôi gọi là:\n",
    "* ***binary rules*** $B$ quy tắc nhị phân\n",
    "* quy tắc đơn phương kết thúc bằng một **dangling atom** nguyên tử lơ lửng $U_d$\n",
    "* quy tắc đơn phương kết thúc bằng một **atom** (nguyên tử) bao gồm hằng số $U_c$"
   ]
  },
  {
   "cell_type": "markdown",
   "metadata": {},
   "source": [
    "Trái ngược với quy tắc nhị phân, nguyên tử đầu trong quy tắc đơn nguyên chứa một hằng số và chỉ một thay vì hai biến. Một biểu thức như vậy cũng có thể được hiểu là một cách phức tạp để viết ra một vị ngữ unary, đó là lý do để đặt tên cho các quy tắc này quy tắc đơn nguyên. Ví dụ điển hình là các nguyên tử đầu như giới tính (X, nữ) hoặc công dân (X, Tây Ban Nha)."
   ]
  },
  {
   "cell_type": "markdown",
   "metadata": {},
   "source": [
    "Chúng tôi gọi các quy tắc của các loại này là quy tắc đường dẫn, bởi vì các nguyên tử cơ thể tạo thành một đường dẫn. Lưu ý rằng xu hướng ngôn ngữ của chúng tôi cũng bao gồm các biến thể quy tắc với các biến được lật trong các nguyên tử: được đưa ra biểu đồ tri thức G, đường dẫn có độ dài n là một chuỗi gồm ba bộ ba pi (ci, ci + 1) với pi (ci, ci + 1) G hoặc pi (ci + 1, ci) G với 0 i ≤ n. Các mẫu quy tắc trừu tượng được hiển thị ở trên được cho là có độ dài n vì cơ thể của chúng có thể được khởi tạo thành một đường dẫn có độ dài n. Thay vì Ai đôi khi chúng ta sẽ sử dụng A, B, C, v.v. làm tên cho các biến. Hơn nữa, chúng ta thường sẽ thay thế các biến xuất hiện trong đầu bằng X cho chủ thể và Y cho đối tượng."
   ]
  },
  {
   "cell_type": "markdown",
   "metadata": {},
   "source": [
    "Quy tắc B và quy tắc Uc cũng được gọi là quy tắc kết nối kín. Chúng có thể được học bởi hệ thống khai thác AMIE được mô tả trong [11, 10]. Quy tắc Ud không được đóng vì An là biến chỉ xuất hiện một lần."
   ]
  },
  {
   "cell_type": "markdown",
   "metadata": {},
   "source": [
    "Ví dụ cho quy tắc nhị phân là Quy tắc (1) và (2) được hiển thị bên dưới. Họ mô tả mối quan hệ giữa X và Y thông qua một đường dẫn khác giữa X và Y. Đường dẫn này có thể chứa một mối quan hệ duy nhất hoặc một chuỗi các mối quan hệ. Chúng tôi cho phép các quy tắc đệ quy, tức là, mối quan hệ trong đầu có thể xuất hiện một hoặc nhiều lần trong cơ thể như trong Quy tắc (2). Quy tắc (3) là quy tắc Uc quy định rằng một người là nữ, nếu cô ấy kết hôn với một người là nam. Một ví dụ điển hình cho quy tắc Ud là Quy tắc (4), trong đó nói rằng một diễn viên là người hành động (trong phim)."
   ]
  },
  {
   "cell_type": "markdown",
   "metadata": {},
   "source": [
    "Tất cả các quy tắc được xem xét là xác suất có nghĩa là chúng được chú thích với điểm tin cậy thể hiện xác suất dự đoán một thực tế chính xác với quy tắc này. Tỷ lệ nối đất cơ thể dẫn đến nối đất chính xác (được đo trên dữ liệu huấn luyện) được gọi là độ tin cậy của quy tắc. Điều quan trọng là phải hiểu mối quan hệ giữa ba loại quy tắc. Nó đặc biệt thú vị trong bối cảnh của các quy tắc xác suất. Với mục đích đó, hãy xem xét bộ quy tắc sau (điểm tin cậy giả tưởng được thêm vào dấu ngoặc vuông)."
   ]
  },
  {
   "cell_type": "markdown",
   "metadata": {},
   "source": [
    "Hãy để cuộc sống quan hệ (A, B) được sử dụng để nói rằng một người A sống ở quốc gia B và để lang (A, B) được sử dụng để nói rằng A là (một trong) ngôn ngữ chính thức của B. Do đó, Quy tắc B (5) nói rằng X nói một ngôn ngữ Y nhất định, nếu X sống ở một quốc gia A trong đó Y là ngôn ngữ chính thức. Ud Rule (6) là một chuyên ngành để dự đoán người nói tiếng Anh và các quy tắc Uc còn lại liên quan đến một ngôn ngữ cụ thể đến một quốc gia cụ thể. Khía cạnh thú vị của bộ quy tắc này là thực tế rằng Quy tắc (6) có thể được tạo ra từ Quy tắc (5) bằng cách loại bỏ nguyên tử thứ hai trong cơ thể và bằng cách nối đất Y vào đầu. Tương tự, Quy tắc (7) và (8) có thể được xây dựng bằng cách nối đất A. Có vẻ như chúng ta không cần các biến thể quy tắc chuyên biệt này, nếu chúng ta đã có quy tắc chung hơn. Tuy nhiên, điều này là sai vì hai lý do: (i) có thể là trường hợp biểu đồ tri thức đã cho không chứa thông tin về các ngôn ngữ chính thức của Pháp hoặc Đức; và (ii) các tâm sự của các quy tắc cụ thể (6) - (8) khác với các tâm sự của các quy tắc chung hơn. Độ tin cậy của một quy tắc chung có liên quan chặt chẽ với mức trung bình (có trọng số) so với các tâm sự cụ thể (ví dụ: bằng cách tổng hợp trên tất cả các quốc gia và ngôn ngữ). Vì lý do đó, cần phải tạo cả hai loại quy tắc, mặc dù chúng có thể mang thông tin dư thừa một phần."
   ]
  }
 ],
 "metadata": {
  "language_info": {
   "codemirror_mode": {
    "name": "ipython",
    "version": 3
   },
   "file_extension": ".py",
   "mimetype": "text/x-python",
   "name": "python",
   "nbconvert_exporter": "python",
   "pygments_lexer": "ipython3",
   "version": 3
  },
  "orig_nbformat": 2
 },
 "nbformat": 4,
 "nbformat_minor": 2
}