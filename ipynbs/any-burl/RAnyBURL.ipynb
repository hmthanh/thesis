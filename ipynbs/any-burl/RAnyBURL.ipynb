{
 "cells": [
  {
   "cell_type": "markdown",
   "metadata": {},
   "source": [
    "# Reinforced Anytime Bottom Up Rule Learning for Knowledge Graph Completion"
   ]
  },
  {
   "cell_type": "markdown",
   "metadata": {},
   "source": [
    "## Abstract"
   ]
  },
  {
   "cell_type": "markdown",
   "metadata": {},
   "source": [
    "Hầu hết các công việc hiện nay về việc hoàn thành đồ thị tri thức đều liên quan đến các phương pháp tiếp cận **sub-symbolic** (biểu tượng phụ) tập trung vào khái niệm nhúng một đồ thị đã cho trong một không gian vectơ có số chiều thấp. Ngược lại xu hướng này, chúng tôi đề xuất một cách tiếp cận được gọi là **AnyBURL** bắt nguồn từ ***symbolic space***(không gian tượng trưng). Thuật toán cốt lõi của nó dựa trên **sampling paths** các (lấy mẫu đường dẫn), được khái quát thành các **Horn rules**(quy tắc Horn). Các kết quả được công bố trước đây cho thấy chất lượng dự đoán của **AnyBURL** ngang bằng với tình trạng hiện tại của các phương pháp hiện đại *state of the art* với lợi ích bổ sung là đưa ra lời giải thích cho *predicted fact* (thực tế dự đoán). Trong bài báo này, chúng tôi quan tâm đến hai phần mở rộng của **AnyBURL**. Đầu tiên, chúng tôi thay đổi cách diễn giải các quy tắc của **AnyBURL** từ quy trình $\\Theta$-subsumption thành $\\Theta$-subsumption dưới *Object Identity*. Thứ hai, chúng tôi giới thiệu *reinforcement learning* (học tập củng cố) để hướng dẫn tốt hơn quá trình lấy mẫu. Chúng tôi phát hiện ra rằng học tăng cường giúp tìm ra các quy tắc có giá trị sớm hơn trong quá trình tìm kiếm. Chúng tôi đo lường tác động của cả hai phần mở rộng và so sánh cách tiếp cận kết quả với trạng thái hiện tại của phương pháp tiếp cận hiện đại. Kết quả của chúng tôi cho thấy **AnyBURL** vượt trội hơn hầu hết *sub-symbolic methods* (các phương pháp biểu tượng phụ)."
   ]
  },
  {
   "cell_type": "markdown",
   "metadata": {},
   "source": [
    "## 1 Introduction"
   ]
  },
  {
   "cell_type": "markdown",
   "metadata": {},
   "source": [
    "Đồ thị tri thức (KG) được sử dụng rộng rãi trong các lĩnh vực khác nhau. Ví dụ là FreeBase [2], DBPedia [1], YAGO [27], Google Sơ đồ tri thức và Microsoft Satori. Những KG khổng lồ này có thể chứa tới hàng triệu thực thể và hàng tỷ **fact** sự thật. Như đã chỉ ra trong [8], đồ thị tri thức thường không đầy đủ. Nhiệm vụ xây dựng bộ ba bị thiếu bằng cách sử dụng từ vựng đã được sử dụng trong đồ thị được gọi là hoàn thành đồ thị tri thức hoặc dự đoán liên kết. Nhiệm vụ này có thể được giải quyết với sự trợ giúp bổ sung của các tài nguyên bên ngoài (ví dụ: văn bản trong các trang web) hoặc bằng cách suy ra các bộ ba mới chỉ từ bộ ba trong một đồ thị kiến thức nhất định. Chúng tôi quan tâm đến vấn đề sau."
   ]
  },
  {
   "cell_type": "markdown",
   "metadata": {},
   "source": [
    "Một cách tiếp cận không sử dụng thông tin bên ngoài phải dựa vào số liệu thống kê, mẫu, phân phối hoặc bất kỳ loại tính đều đặn nào có thể tìm thấy trong đồ thị kiến thức đã cho. Một lựa chọn trực quan để giải quyết một nhiệm vụ như vậy là tìm hiểu và áp dụng một biểu diễn rõ ràng, mang tính biểu tượng của các mẫu này **symbolic representation**. Mặc dù có lịch sử lâu dài về các cách tiếp cận liên quan đến việc học *learning symbolic representations* các biểu tượng tượng trưng, chẳng hạn như lập trình logic quy nạp [19] và khai thác quy tắc quan hệ liên kết [6], ngày nay, nghiên cứu song song theo nhiều mô hình khác. Phần lớn các phương pháp được phát triển hiện nay học một biểu diễn phụ (biểu diễn ẫn), biểu tượng phụ của đồ thị tri thức đã cho. Lấy cảm hứng từ các mô hình ban đầu như RESCAL [20] và TransE [3], một số lượng lớn các mô hình mới đã được phát triển trong thập kỷ qua. Kết quả là, **symbolic approaches** (cách tiếp cận mang tính biểu tượng) được thể hiện trong nghiên cứu hoàn thành đồ thị tri thức."
   ]
  },
  {
   "cell_type": "markdown",
   "metadata": {},
   "source": [
    "Chúng tôi đã phát triển một cách tiếp cận **high-level \"symbolic\" (human-readable)** (mang tính biểu tượng) [16] với *language bias* khai thác đặc biệt là các quy tắc có thể phù hợp là nhiệm vụ trong tầm tay. Chúng tôi đã gọi phương pháp của chúng tôi là **AnyBURL** (*Anytime Bottom-up Rule Learning*) do hành vi bất cứ lúc nào và thực tế là nó dựa trên một thành phần lấy mẫu và khái quát các đường dẫn thành quy tắc. Kết quả của chúng tôi cũng như các kết quả được báo cáo trong một đánh giá độc lập về tình trạng hiện tại của các phương pháp hiện đại [23] đã tiết lộ rằng **AnyBURL** không chỉ là một đường cơ sở **symbolic baseline**, mà còn hoạt động ở mức tương tự như các mô hình tốt nhất được đề xuất trong $5$ năm qua. Trong bài viết này, chúng tôi tiếp tục cải thiện **AnyBURL** và báo cáo về tác động của hai phần mở rộng"
   ]
  },
  {
   "cell_type": "markdown",
   "metadata": {},
   "source": [
    "Với bài viết này, lần đầu tiên chúng tôi đưa ra một mô tả công phu về ***AnyBURL***. Ngoài thuật toán ban đầu, chúng tôi mô tả các tiện ích mở rộng và cải tiến của chúng tôi và báo cáo về các thử nghiệm toàn diện. Đặc biệt, bài viết có chứa những đóng góp sau đây.\n",
    "\n",
    "* Chúng tôi đưa ra khái niệm **Object Identity** (Nhận dạng đối tượng) [25] và báo cáo về các thí nghiệm minh họa lợi ích của nó khi hoàn thành đồ thị tri thức. Kết quả của chúng tôi cho thấy rằng điều đó ngăn cản việc học một số lượng lớn các quy tắc khó hiểu với sự hiểu lầm **confidence scores**.\n",
    "* Chúng tôi giới thiệu **reinforcement learning** (học tăng cường) để hướng dẫn tìm kiếm trong quá trình lấy mẫu. Chúng tôi lập luận rằng việc học tăng cường mạnh mẽ hơn, cho phép tận dụng các chi tiết cụ thể của đồ thị kiến thức nhất định và ít bị ảnh hưởng hơn khi chọn cài đặt tham số sai.\n",
    "\n",
    "Kết quả thí nghiệm của chúng tôi cho thấy rằng phiên bản cải tiến của ***AnyBURL*** là một trong những cách tiếp cận tốt nhất có sẵn cho nhiệm vụ hoàn thành đồ thị tri thức."
   ]
  },
  {
   "cell_type": "markdown",
   "metadata": {},
   "source": [
    "### Cú pháp\n",
    "\n",
    "***Atom*** *Kí hiệu mệnh đề (công thức nguyên tử): A, B, C,*\n",
    "\n",
    "Các liên kết logic: $ \\neg, \\land, \\lor, \\to, \\leftrightarrow$\n",
    "\n",
    "Nếu $\\alpha$ và $\\beta$ là công thức thì các định nghĩa đệ qui đây cũng là công thức:\n",
    "* Phủ định: $\\neg \\alpha$\n",
    "* Nối liền (conjunction): $ \\alpha \\land \\beta$\n",
    "* Nối rời (disjunction): $ \\alpha \\lor \\beta$\n",
    "* Kéo theo (implication): $\\alpha \\to \\beta$\n",
    "* Tương đương (biconditional): $\\alpha \\leftrightarrow \\beta$\n"
   ]
  },
  {
   "cell_type": "markdown",
   "metadata": {},
   "source": [
    "### ví dụ\n",
    "***Công thức:***\n",
    "* $A$\n",
    "* $\\neg A$\n",
    "* $\\neg B \\to C $\n",
    "* $\\neg A \\land (\\neg B \\to C) \\lor (\\neg B \\lor D)$\n",
    "* $\\neg \\neg A $\n",
    "\n",
    "***Không phải công thức:***\n",
    "* $A \\neg B$\n",
    "* $A + B$"
   ]
  },
  {
   "cell_type": "markdown",
   "metadata": {},
   "source": [
    "$KB$ ở dạng $CNF$ (Conjunctive Normal Form)\n",
    "\n",
    "Môt literal hoặc là một công thức nguyên tử (postive literal) hoặc phủ định của công thức nguyên tử (negative literal)\n",
    "\n",
    "Ví dụ: $A, \\neg A, \\dots$\n",
    "\n",
    "Một clause (mệnh đề) là một literal hoặc **nối rờ**i của hai hoặc nhiều literal\n",
    "\n",
    "Ví dụ: $A \\lor \\neg B \\lor C$\n",
    "\n",
    "Một công thức $\\alpha$ được gọi là ở dạng $CNF$ nếu nó là **nối liền** của các clause\n",
    "Ví dụ: $(A \\lor B) \\land (C \\lor \\neg D \\lor E) \\land (\\neg E \\lor F)$"
   ]
  },
  {
   "cell_type": "markdown",
   "metadata": {},
   "source": [
    "* [Horn rules](https://cs.nyu.edu/courses/spring03/G22.2560-001/horn.html)\n",
    "* [horn clause](https://en.wikipedia.org/wiki/Horn_clause)"
   ]
  },
  {
   "cell_type": "markdown",
   "metadata": {},
   "source": [
    "### KB ở dạng Horn\n",
    "Nếu các công thức trong KB được giới hạn ở dạng đặc biệt, một số luật suy diễn đúng có\n",
    "thể trở thành đầy đủ\n",
    "\n",
    "Chẳng hạn, dạng Horn (HNF – Horn normal form)\n",
    "\n",
    "Hai luật suy diễn đúng và đầy đủ tương ứng với KB ở dạng HNF là:\n",
    "* Hợp giải\n",
    "* Tam đoạn luận (Modus ponens)"
   ]
  },
  {
   "cell_type": "markdown",
   "metadata": {},
   "source": [
    "*Dạng Horn: một mệnh đề (clause) có nhiều nhất một positive literal*\n",
    "\n",
    "Ví dụ: $ (A \\lor \\neg B) , ( \\neg B \\lor \\neg C \\lor D )$\n",
    "\n",
    "***Lưu ý: Không phải mọi công thức trong logic mệnh đề đều có thể đưa về dạng Horn***\n",
    "\n",
    "| Dạng                                       | Công thức |\n",
    "|  :----                                     |    :----    |\n",
    "| Rules                                      | $(\\neg B_1 \\lor \\neg B_2 \\neg \\dots \\neg B_k \\lor A) \\text{ hoặc } (B_1 \\land B_2 \\land \\dots \\land B_k) \\to A$|\n",
    "| Facts                                      | B        |\n",
    "|Integrity Constraints (Ràng buộc hoàn toàn) |  $(\\neg B_1 \\lor \\neg B_2 \\neg \\dots \\neg B_k \\lor A) \\text{ hoặc } (B_1 \\land B_2 \\land \\dots \\land B_k) \\to FALSE$  |"
   ]
  },
  {
   "cell_type": "markdown",
   "metadata": {},
   "source": [
    "***KB ở dạng Horn là nối liền các công thức dạng Horn***\n",
    "\n",
    "Ví dụ: $(A \\lor \\neg B) \\land (\\neg B \\lor \\neg C \\lor D )$\n",
    "\n",
    "Luật suy diễn: Modus Ponens *Tam đoạn luận*\n",
    "$$\n",
    "\\frac {\\alpha \\to \\beta \\\\\n",
    "\\alpha}{\n",
    "\\therefore \\beta}\n",
    "$$"
   ]
  },
  {
   "cell_type": "markdown",
   "metadata": {},
   "source": [
    "Suy dẫn $KB \\models \\alpha$ ở dạng Horn có thể được thực hiện bằng phương pháp suy diễn tiến và suy diễn lùi\n",
    "* Các thuật toán này gần với suy diễn tự nhiên và chạy với thời gian tuyến tính"
   ]
  },
  {
   "cell_type": "markdown",
   "metadata": {},
   "source": [
    "## [Tam đoạn luận](https://vi.wikipedia.org/wiki/Tam_%C4%91o%E1%BA%A1n_lu%E1%BA%ADn)\n",
    "Tam đoạn luận là một cách suy luận trong suy luận diễn dịch\n",
    "\n",
    "Diễn dịch Tam đoạn luận là suy luận đi từ hai mệnh đề để tiến đến một kết luận tất yếu đã ngầm chứa trong hai mệnh đề đó.\n",
    "\n",
    "Tam đoạn luận gồm 3 bộ phận: tiền đề lớn, tiền đề nhỏ, và kết luận.\n",
    "\n",
    "Ví dụ:\n",
    "\n",
    "Mọi người đều phải chết\n",
    "\n",
    "Mà ông X là người\n",
    "\n",
    "Vậy, ông X phải chết.\n",
    "\n",
    "Trong Tam đoạn luận có 3 hạng từ (người, chết, ông X) và 3 mệnh đề.\n",
    "\n",
    "Ông X là Chủ từ trong Kết luận, vì có ngoại trương nhỏ nhất nên gọi là tiểu từ.\n",
    "\n",
    "Chết, là hạng từ có vai trò thuộc tính của Kết luận, vì có ngoại trương lớn nhất, nên gọi là đại từ.\n",
    "\n",
    "Người, là hạng từ có ngoại trương trung bình, được gọi là trung từ\n",
    "\n",
    "Tam đoạn luận có thể được xét theo 2 phương diện: ngoại trương (hay ngoại diện) và nội hàm\n",
    "\n",
    "Theo phương diện ngoại trương Tam đoạn luận có thể được giải thích rằng loài người thuộc về giống Chết, nên cá nhân nào thuộc về loài người, thì cá nhân đó cũng thuộc về giống chết.\n",
    "\n",
    "Theo phương diện nội hàm, tam đoạn luận có thể được giải thích rằng tính chất CHẾT gắn liền loài người, mà tính chất người thì gắn liền với Ông X nên tính chất Chết cũng gắn với ông X."
   ]
  },
  {
   "cell_type": "markdown",
   "metadata": {},
   "source": [
    "Tính chất của Tam đoạn luận:\n",
    "\n",
    "Kết luận của tam đoạn luận có giá trị chặt chẽ, khi và vì nó là một kết quả tất yếu, không chối bỏ được một khi đã thừa nhận tiền đề.\n",
    "\n",
    "Nếu tiền đề đúng thì kết luận phải đúng. Nếu tiền đề không đúng thì kết luận không thể đúng, nhưng vẫn hợp lý.\n",
    "\n",
    "Chính vì vậy, luận lý học phân biệt hai loại chân lý: chân lý nội dung hay chân lý thực sự, và chân lý hình thức.\n",
    "\n",
    "Diễn giải Tam đoạn luận là diễn dịch hình thức.\n",
    "\n",
    "Dù Tam đoạn luận là hình thức chặt chẽ nhất của suy luận, nhưng một vài triết gia vẫn xem đó là phương pháp ít giá trị trong cuộc tìm kiếm chân lý, do đó phải hết sức cẩn thận vì dễ bị rơi vào ngụy biện\n",
    "\n",
    "Tuy nhiên Tam đoạn luận vẫn có giá trị thực hành, giúp áp dụng nhận xét tổng quát vào một tình huống cụ thể, như tổng hợp tin tức, bác bỏ một lập trường."
   ]
  },
  {
   "cell_type": "markdown",
   "metadata": {},
   "source": [
    "Các nhà luận lý học cổ điển đã suy ra 8 nguyên tắc để thẩm định giá trị của một Tam đoạn luận\n",
    "\n",
    "- Có 3 hạng từ mà thôi\n",
    "\n",
    "- Trong kết luận, các hạng từ không được có ngoại trương lớn hơn trong tiền đề.\n",
    "\n",
    "- Trung từ không được có mặt trong kết luận\n",
    "\n",
    "- Trung từ phải có tính phổ quát nào đó.\n",
    "\n",
    "- Nếu hai tiền đề đều là những mệnh đề phủ định, thì không thể kết luận được.\n",
    "\n",
    "- Với hai tiền đề khẳng định, không thể rút ra kết luận dạng phủ định\n",
    "\n",
    "- Kết luận bao giờ cũng phải theo tiền đề yếu nhất\n",
    "\n",
    "- với 2 Tiền đề đặc thù hoặc mệnh đề đặc thù, người ta không thể kết luận được."
   ]
  }
 ],
 "metadata": {
  "language_info": {
   "codemirror_mode": {
    "name": "ipython",
    "version": 3
   },
   "file_extension": ".py",
   "mimetype": "text/x-python",
   "name": "python",
   "nbconvert_exporter": "python",
   "pygments_lexer": "ipython3",
   "version": 3
  },
  "orig_nbformat": 2
 },
 "nbformat": 4,
 "nbformat_minor": 2
}