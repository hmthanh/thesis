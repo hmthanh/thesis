{
 "cells": [
  {
   "cell_type": "markdown",
   "metadata": {},
   "source": [
    "# METHODOLOGY Part 2\n",
    "Table content\n",
    "* [4.1 Datasets](#4.1Datasets)\n",
    "* [4.2 Efficiency Analysis](#4.2EfficiencyAnalysis)\n",
    "* [4.3 Effectiveness Analysis](#4.3EffectivenessAnalysis)\n",
    "    * [4.3.3 Relation Properties](#4.3.1NumberofPeers)\n"
   ]
  },
  {
   "cell_type": "markdown",
   "metadata": {},
   "source": [
    "### 4.3.3 Relation Properties\n",
    "Tùy thuộc vào ngữ nghĩa của chúng, các mối quan hệ có thể được đặc trưng bởi một số tính chất phụ thuộc rất nhiều vào cách thức chúng xuất hiện trong thực tế. Các tính chất như vậy đã được biết đến trong tài liệu LP trong một thời gian dài, bởi vì chúng có thể dẫn đến một mối quan hệ để hình thành các cấu trúc và các mẫu rất cụ thể trong biểu đồ; điều này, tùy thuộc vào mô hình, có thể làm cho sự thật của họ dễ dàng hơn hoặc khó hơn để tìm hiểu và dự đoán."
   ]
  },
  {
   "cell_type": "markdown",
   "metadata": {},
   "source": [
    "Như một vấn đề thực tế, tùy thuộc vào chức năng chấm điểm của họ, một số mô hình thậm chí có thể không có khả năng học một số loại quan hệ chính xác. Ví dụ, TransE [8] và một số người kế nhiệm của nó vốn không thể học được các mối quan hệ đối xứng và bắc cầu do bản chất của bản dịch. Tương tự, DistMult [71] không thể xử lý các mối quan hệ đối xứng, bởi vì với bất kỳ thực tế nào hh, r, ti, nó cũng gán cùng một số điểm cho ht, r, hi."
   ]
  },
  {
   "cell_type": "markdown",
   "metadata": {},
   "source": [
    "điều này đã khiến một số tác phẩm chính thức đưa ra khái niệm về tính biểu cảm đầy đủ [27]: một mô hình hoàn toàn biểu cảm nếu, với bất kỳ biểu đồ hợp lệ nào, tồn tại ít nhất một kết hợp các giá trị nhúng cho mô hình phân tách chính xác tất cả các bộ ba chính xác với các bộ ba không chính xác . Một mô hình biểu cảm đầy đủ có tiềm năng lý thuyết để tìm hiểu chính xác bất kỳ biểu đồ hợp lệ nào, mà không bị cản trở bởi các giới hạn nội tại. Ví dụ về các mô hình đã được chứng minh là hoàn toàn biểu cảm là SimplE [27], TuckER [6], ComplEx [61] và HolE [60]."
   ]
  },
  {
   "cell_type": "markdown",
   "metadata": {},
   "source": [
    "Có khả năng học hỏi các mối quan hệ nhất định, tuy nhiên, không nhất thiết có nghĩa là đạt được hiệu suất tốt đối với họ. Ngay cả đối với các mô hình biểu cảm đầy đủ, các thuộc tính nhất định có thể khó xử lý hơn các mô hình khác. Ví dụ, Meilicke et al. [37] đã phân tích cách triển khai HolE [46], RESCAL [44] và TransE [8] của họ thực hiện như thế nào trên các mối quan hệ đối xứng trong các bộ dữ liệu khác nhau; họ báo cáo kết quả xấu đáng ngạc nhiên cho HolE về mối quan hệ đối xứng trong FB15K, mặc dù HolE hoàn toàn biểu cảm)."
   ]
  }
 ],
 "metadata": {
  "language_info": {
   "codemirror_mode": {
    "name": "ipython",
    "version": 3
   },
   "file_extension": ".py",
   "mimetype": "text/x-python",
   "name": "python",
   "nbconvert_exporter": "python",
   "pygments_lexer": "ipython3",
   "version": 3
  },
  "orig_nbformat": 2
 },
 "nbformat": 4,
 "nbformat_minor": 2
}