{
 "cells": [
  {
   "cell_type": "markdown",
   "metadata": {},
   "source": [
    "# METHODOLOGY Part 2\n",
    "Table content\n",
    "* [4.1 Datasets](#4.1Datasets)\n",
    "* [4.2 Efficiency Analysis](#4.2EfficiencyAnalysis)\n",
    "* [4.3 Effectiveness Analysis](#4.3EffectivenessAnalysis)\n",
    "    * [4.3.3 Relation Properties](#4.3.1NumberofPeers)\n",
    "    * [4.3.4 Reified Relations](#4.3.4ReifiedRelations)"
   ]
  },
  {
   "cell_type": "markdown",
   "metadata": {},
   "source": [
    "### 4.3.3 Relation Properties\n",
    "Tùy thuộc vào ngữ nghĩa của chúng, các mối quan hệ có thể được đặc trưng bởi một số tính chất phụ thuộc rất nhiều vào cách thức chúng xuất hiện trong thực tế. Các tính chất như vậy đã được biết đến trong tài liệu LP trong một thời gian dài, bởi vì chúng có thể dẫn đến một mối quan hệ để hình thành các cấu trúc và các mẫu rất cụ thể trong đồ thị; điều này, tùy thuộc vào mô hình, có thể làm cho *fact* của họ dễ dàng hơn hoặc khó hơn để tìm hiểu và dự đoán."
   ]
  },
  {
   "cell_type": "markdown",
   "metadata": {},
   "source": [
    "Như một vấn đề *fact* (thực tế), tùy thuộc vào chức năng chấm điểm của họ, một số mô hình thậm chí có thể không có khả năng học một số loại quan hệ chính xác. Ví dụ, [TransE-8](../papers/models/8_TransE.pdf) và một số mô hình kế nhiệm của nó vốn không thể học được các mối quan hệ đối xứng và bắc cầu do bản chất của bản dịch. Tương tự, [DistMult 71](../papers/models/71_DistMult.pdf) không thể xử lý các mối quan hệ đối xứng, bởi vì với bất kỳ *fact* nào $\\langle$ *h, r, t* $\\rangle$, nó cũng gán cùng một số điểm cho $\\langle$ *t, r, h* $\\rangle$."
   ]
  },
  {
   "cell_type": "markdown",
   "metadata": {},
   "source": [
    "điều này đã khiến một số nghiên cứu chính thức đưa ra khái niệm về ***full expressiveness*** (tính biểu cảm đầy đủ) [full expressiveness-27](../papers/models/27_SimplE.pdf): một mô hình ***full expressiveness***  nếu, với bất kỳ đồ thị hợp lệ nào, tồn tại ít nhất một kết hợp các giá trị *embedding* (nhúng) cho mô hình phân tách chính xác tất cả các bộ ba chính xác với các bộ ba không chính xác . Một mô hình ***full expressiveness*** có tiềm năng lý thuyết để tìm hiểu chính xác bất kỳ đồ thị hợp lệ nào, mà không bị cản trở bởi các giới hạn nội tại. Ví dụ về các mô hình đã được chứng minh là ***full expressiveness*** là [SimplE-27](../papers/models/27_SimplE.pdf), [TuckER-6](../papers/models/6_TuckER.pdf), [ComplEx-61](../papers/models/61_ComplEX.pdf) và [HolE-60](../papers/models/60_Complex_and_Holographic_Embeddings_of_Knowledge_Graphs.pdf)."
   ]
  },
  {
   "cell_type": "markdown",
   "metadata": {},
   "source": [
    "Tuy Có khả năng học hỏi các mối quan hệ nhất định, tuy nhiên, không nhất thiết có nghĩa là đạt được hiệu suất tốt đối với họ. Ngay cả đối với các mô hình ***full expressiveness***, các thuộc tính nhất định có thể khó xử lý hơn các mô hình khác. Ví dụ, [Meilicke et al. 37](../papers/models/46_HolE.pdf), [RESCAL 44](../papers/models/44_RESCAL.pdf) và [TransE 8](../papers/models/8_TransE.pdf) của họ thực hiện như thế nào trên các mối quan hệ đối xứng trong các bộ dữ liệu khác nhau; họ báo cáo kết quả xấu đáng ngạc nhiên cho HolE về mối quan hệ đối xứng trong FB15K, mặc dù HolE ***full expressiveness***)."
   ]
  },
  {
   "cell_type": "markdown",
   "metadata": {},
   "source": [
    "Về vấn đề này, chúng tôi dẫn đầu một phân tích hệ thống: chúng tôi tạo ra một tập hợp toàn diện các thuộc tính quan hệ và xác minh cách chúng tạo ra hiệu suất cho tất cả các mô hình của chúng tôi.\n",
    "\n",
    "Chúng tôi tính đến các thuộc tính sau:"
   ]
  },
  {
   "cell_type": "markdown",
   "metadata": {},
   "source": [
    "* Reflexivity(Phản xạ): trong định nghĩa ban đầu, một mối quan hệ phản xạ kết nối từng phần tử với chính nó (có cạnh khuyên). điều này không phù hợp với $KG$, trong đó các thực thể khác nhau chỉ có thể liên quan đến một số quan hệ, dựa trên loại của chúng. Kết quả là, trong phân tích của chúng tôi, chúng tôi sử dụng định nghĩa sau: $ \\forall r \\in \\mathcal{R} \\text{ là Reflexivity nếu } \\langle h, r, t \\rangle \\in \\mathcal{G}_{train}, \\ \\langle h, r, h \\rangle \\in \\mathcal{G}_{train}$.\n",
    "* Irreflexivity:$ \\forall r \\in \\mathcal{R} \\text{ Irreflexivity } \\forall e \\in \\mathcal{E}, \\langle e, r, r \\rangle  \\notin \\mathcal{G}_{train}$\n",
    "* Symmetry (đối xứng):$ \\forall r \\in mathcal{R} \\text{ là Symmetry nếu} \\forall \\langle h, r, t \\rangle \\in \\mathcal{G}, \\ \\langle t, r, h \\rangle \\in \\mathcal{G}$\n",
    "* Anti-symmetry (bất đối xứng):$ \\forall r \\in \\mathcal{R} \\text{ là anti-symmetry nếu} \\forall \\langle h, r, t \\rangle \\in \\mathcal{G}, \\ \\langle t, r, h \\rangle \\notin \\mathcal{G}$\n",
    "* Transitivity (bắc cầu):$ \\forall r \\in \\mathcal{R} \\text{ transitive nếu } \\forall \\text{ cặp } \\langle h, r, x \\rangle \\in \\mathcal{G} \\text{ và } \\langle x, r, t \\rangle \\in  \\mathcal{G} \\text{ thì } \\langle h, r, t \\rangle \\in  \\mathcal{G}$"
   ]
  },
  {
   "cell_type": "markdown",
   "metadata": {},
   "source": [
    "Chúng tôi không xem xét các thuộc tính khác, chẳng hạn như *Equivalence and Order* (Tương đương và Thứ tự) (một phần hoặc hoàn chỉnh), vì chúng tôi đã quan sát bằng thực nghiệm rằng trong tất cả các bộ dữ liệu có trong phân tích của chúng tôi, chỉ có một số lượng không đáng kể các sự kiện sẽ được đưa vào các báo cáo kết quả."
   ]
  },
  {
   "cell_type": "markdown",
   "metadata": {},
   "source": [
    "Trên mỗi tập dữ liệu, chúng tôi sử dụng cách tiếp cận sau đây. Đầu tiên, đối với mỗi mối quan hệ trong bộ dữ liệu, chúng tôi trích xuất các sự kiện đào tạo tương ứng và sử dụng chúng để xác định các thuộc tính của nó. Do tính không hoàn chỉnh vốn có của tập huấn luyện, chúng tôi sử dụng *tolerance threshold*: một thuộc tính được xác minh nếu tỷ lệ các sự kiện đào tạo cho thấy hành vi tương ứng vượt quá ngưỡng. Trong tất cả các thí nghiệm của chúng tôi, chúng tôi đặt *tolerance* là $0.5$. Vì vậy, chúng tôi nhóm các *test facts* (sự kiện kiểm tra) dựa trên các thuộc tính của mối quan hệ của họ. Nếu một mối quan hệ sở hữu nhiều thuộc tính, các *test facts* của nó sẽ thuộc về nhiều nhóm. Cuối cùng, chúng tôi tính toán hiệu suất dự đoán được ghi bởi từng mô hình trên từng nhóm *test facts*.\n",
    "\n",
    "Chúng tôi báo cáo kết quả của chúng tôi về các thuộc tính quan hệ trong Phần 5.3.3."
   ]
  },
  {
   "cell_type": "markdown",
   "metadata": {},
   "source": [
    "### 4.3.4 Reified Relations\n",
    "Một số KG hỗ trợ quan hệ với cardinality lớn hơn 2, kết nối nhiều hơn hai thực thể cùng một lúc. Trong các mối quan hệ, cardinality liên quan chặt chẽ đến ngữ nghĩa và một số quan hệ vốn đã có ý nghĩa hơn khi được mô hình hóa theo cách này. Ví dụ, một diễn viên giành được giải thưởng cho diễn xuất của cô ấy trong một bộ phim có thể được mô hình hóa với mối quan hệ độc đáo kết nối diễn viên, giải thưởng và bộ phim. Các KG hỗ trợ các mối quan hệ với cardinality lớn hơn 2 o en xử lý chúng theo một trong các cách sau:"
   ]
  }
 ],
 "metadata": {
  "language_info": {
   "codemirror_mode": {
    "name": "ipython",
    "version": 3
   },
   "file_extension": ".py",
   "mimetype": "text/x-python",
   "name": "python",
   "nbconvert_exporter": "python",
   "pygments_lexer": "ipython3",
   "version": 3
  },
  "orig_nbformat": 2
 },
 "nbformat": 4,
 "nbformat_minor": 2
}