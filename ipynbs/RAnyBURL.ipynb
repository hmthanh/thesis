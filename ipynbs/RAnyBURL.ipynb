{
 "cells": [
  {
   "cell_type": "markdown",
   "metadata": {},
   "source": [
    "# Reinforced Anytime Bottom Up Rule Learning for Knowledge Graph Completion"
   ]
  },
  {
   "cell_type": "markdown",
   "metadata": {},
   "source": [
    "## Abstract"
   ]
  },
  {
   "cell_type": "markdown",
   "metadata": {},
   "source": [
    "Hầu hết các công việc hiện nay về việc hoàn thành đồ thị tri thức đều liên quan đến các phương pháp tiếp cận **sub-symbolic** (biểu tượng phụ) tập trung vào khái niệm nhúng một đồ thị đã cho trong một không gian vectơ có số chiều thấp. Ngược lại xu hướng này, chúng tôi đề xuất một cách tiếp cận được gọi là **AnyBURL** bắt nguồn từ ***symbolic space***(không gian tượng trưng). Thuật toán cốt lõi của nó dựa trên **sampling paths** các (lấy mẫu đường dẫn), được khái quát thành các **Horn rules**(quy tắc Horn). Các kết quả được công bố trước đây cho thấy chất lượng dự đoán của **AnyBURL** ngang bằng với tình trạng hiện tại của các phương pháp hiện đại *state of the art* với lợi ích bổ sung là đưa ra lời giải thích cho *predicted fact* (thực tế dự đoán). Trong bài báo này, chúng tôi quan tâm đến hai phần mở rộng của **AnyBURL**. Đầu tiên, chúng tôi thay đổi cách diễn giải các quy tắc của **AnyBURL** từ quy trình $\\Theta$-subsumption thành $\\Theta$-subsumption dưới *Object Identity*. Thứ hai, chúng tôi giới thiệu *reinforcement learning* (học tập củng cố) để hướng dẫn tốt hơn quá trình lấy mẫu. Chúng tôi phát hiện ra rằng học tăng cường giúp tìm ra các quy tắc có giá trị sớm hơn trong quá trình tìm kiếm. Chúng tôi đo lường tác động của cả hai phần mở rộng và so sánh cách tiếp cận kết quả với trạng thái hiện tại của phương pháp tiếp cận hiện đại. Kết quả của chúng tôi cho thấy **AnyBURL** vượt trội hơn hầu hết *sub-symbolic methods* (các phương pháp biểu tượng phụ)."
   ]
  },
  {
   "cell_type": "markdown",
   "metadata": {},
   "source": [
    "## 1 Introduction"
   ]
  },
  {
   "cell_type": "markdown",
   "metadata": {},
   "source": [
    "Biểu đồ tri thức (KG) được sử dụng rộng rãi trong các lĩnh vực khác nhau. Ví dụ là FreeBase [2], DBPedia [1], YAGO [27], Google Sơ đồ tri thức và Microsoft Satori. Những KG khổng lồ này có thể chứa tới hàng triệu thực thể và hàng tỷ sự thật. Như đã chỉ ra trong [8], đồ thị tri thức thường không đầy đủ. Nhiệm vụ xây dựng bộ ba bị thiếu bằng cách sử dụng từ vựng đã được sử dụng trong biểu đồ được gọi là hoàn thành biểu đồ tri thức hoặc dự đoán liên kết. Nhiệm vụ này có thể được giải quyết với sự trợ giúp bổ sung của các tài nguyên bên ngoài (ví dụ: văn bản trong các trang web) hoặc bằng cách suy ra các bộ ba mới chỉ từ bộ ba trong một biểu đồ kiến thức nhất định. Chúng tôi quan tâm đến vấn đề sau."
   ]
  }
 ],
 "metadata": {
  "language_info": {
   "codemirror_mode": {
    "name": "ipython",
    "version": 3
   },
   "file_extension": ".py",
   "mimetype": "text/x-python",
   "name": "python",
   "nbconvert_exporter": "python",
   "pygments_lexer": "ipython3",
   "version": 3
  },
  "orig_nbformat": 2
 },
 "nbformat": 4,
 "nbformat_minor": 2
}