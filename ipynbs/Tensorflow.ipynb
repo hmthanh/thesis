{
 "cells": [
  {
   "cell_type": "markdown",
   "metadata": {},
   "source": [
    "# Tensorflow :\n",
    "\n",
    "\n",
    "\n",
    "\n",
    "### Tensorflow basic :\n",
    "\n",
    "https://www.tensorflow.org/guide/\n",
    "\n",
    "### Tensorboard\n",
    "\n",
    "https://blog.tensorflow.org/2019/12/introducing-tensorboarddev-new-way-to.html"
   ]
  },
  {
   "cell_type": "markdown",
   "metadata": {},
   "source": [
    "# Understand TensorFlow\n",
    "https://medium.com/@d3lm/understand-tensorflow-by-mimicking-its-api-from-scratch-faa55787170d"
   ]
  },
  {
   "cell_type": "markdown",
   "metadata": {},
   "source": [
    "TensorFlow Basics\n",
    "A computational graph in TensorFlow consists of several parts:\n",
    "\n",
    "* Variables: Think of TensorFlow variables like normal variables in our computer programs. A variable can be modified at any point in time, but the difference is that they have to be initialized before running the graph in a session. They represent changeable parameters within the graph. A good example for variables would be the weights or biases in a neural network.\n",
    "\n",
    "* Placeholders: A placeholder allows us to feed data into the graph from outside and unlike variables they don’t need to be initialized. Placeholders simply define the shape and the data type. We can think of placeholders as empty nodes in the graph where the value is provided later on. They are typically used for feeding in inputs and labels.\n",
    "\n",
    "* Constants: Parameters that cannot be changed.\n",
    "\n",
    "* Operations: Operations represent nodes in the graph that perform computations on Tensors.\n",
    "\n",
    "* Graph: A graph is like a central hub that connects all the variables, placeholders, constants to operations.\n",
    "\n",
    "* Session: A session creates a runtime in which operations are executed and Tensors are evaluated. It also allocates memory and holds the values of intermediate results and variables."
   ]
  },
  {
   "cell_type": "markdown",
   "metadata": {},
   "source": [
    "Trong đồ thị tính toán có ba dạng dữ liệu là :\n",
    "\n",
    "* operations (+ - * / dot)\n",
    "* variables (Chứa biến cần training)\n",
    "* placeholders (Để chứa dữ liệu)"
   ]
  },
  {
   "cell_type": "markdown",
   "metadata": {},
   "source": [
    "Để thực hiện chạy trong tensorflow\n",
    "Ta cần tạo 2 thành phần\n",
    "\n",
    "* Graph : Định nghĩa cấu trúc tính toán của mô hình\n",
    "* Session : Một phiên tính toán, cần đưa vào các operation và dữ liệu"
   ]
  },
  {
   "cell_type": "markdown",
   "metadata": {},
   "source": [
    "### Graph\n",
    "\n",
    "Nếu không khai báo gì thì những biến sẽ mặc định thuộc một default_graph\n",
    "\n",
    "Mỗi 1 Graph trong tesorflow là một class, bao gồm các thuộc tính sau :\n",
    "\n",
    "```python\n",
    "class Graph():\n",
    "    def __init__(self):\n",
    "        self.operations = []\n",
    "        self.placeholders = []\n",
    "        self.variables = []\n",
    "        self.constants = []\n",
    "```"
   ]
  },
  {
   "cell_type": "markdown",
   "metadata": {},
   "source": [
    "### Session\n",
    "\n",
    "Gồm 2 phần :\n",
    "* Sắp xếp các phép toán\n",
    "* Thực thi các phép toán theo thứ tự đã sắp xếp\n",
    "\n",
    "#### Sắp xếp các phép toán\n",
    "The algorithm is pretty straight forward:\n",
    "1. Pick any unvisited node. In our example, this is the last computational node in the graph which is passed to Session.run().\n",
    "2. Perform depth-first search (DFS) by recursively iterating over the input_nodes of each node.\n",
    "3. If we reach a node that has no more inputs, mark that node as visited and add it to the topological ordering.\n",
    "\n",
    "Đầu tiên, class session trong tensorflow sẽ sắp xếp lại các operation trong một Graph theo thuật toán sort topology (Sử dụng Deep First Search)\n",
    "\n",
    "#### Thực thi các phép toán theo thứ tự đã sắp xếp\n",
    "\n",
    "1. topologically sort the graph beginning from the operation provided\n",
    "2. iterate over all nodes\n",
    "3. differentiate between different types of nodes and compute their output.\n",
    "\n"
   ]
  },
  {
   "cell_type": "markdown",
   "metadata": {},
   "source": [
    "# Core Concepts and Common Confusions\n",
    "https://medium.com/the-artificial-impostor/notes-understanding-tensorflow-part-1-5f0ebb253ad4"
   ]
  },
  {
   "cell_type": "code",
   "execution_count": null,
   "metadata": {},
   "outputs": [],
   "source": []
  }
 ],
 "metadata": {
  "kernelspec": {
   "display_name": "Python 3",
   "language": "python",
   "name": "python3"
  },
  "language_info": {
   "codemirror_mode": {
    "name": "ipython",
    "version": 3
   },
   "file_extension": ".py",
   "mimetype": "text/x-python",
   "name": "python",
   "nbconvert_exporter": "python",
   "pygments_lexer": "ipython3",
   "version": "3.7.6"
  }
 },
 "nbformat": 4,
 "nbformat_minor": 4
}
