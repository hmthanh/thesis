{
 "cells": [
  {
   "cell_type": "markdown",
   "metadata": {},
   "source": [
    "# Tìm hiểu về Neo4j\n",
    "\n",
    "Đọc document về Neo4j\n",
    "\n",
    "Book : OreillyGraphDatabases.pdf\n",
    "(https://graphdatabases.com)\n",
    "\n",
    "Trang chủ Neo4j về cypher : https://neo4j.com/docs/cypher-manual/current/introduction/\n",
    "\n",
    "Trang chủ py2Neo để thao tác trên jupyter notebook : https://py2neo.org/v4/\n",
    "\n",
    "Bài viết follow :\n",
    "https://medium.com/neo4j/py2neo-v4-2bedc8afef2"
   ]
  },
  {
   "cell_type": "markdown",
   "metadata": {},
   "source": [
    "### Chapter 1 : Introduction\n",
    "\n",
    "Graph Database đảm bảo :\n",
    "\n",
    "* Hiệu suất\n",
    "* Tính linh hoạt\n",
    "* Tính nhanh nhẹn"
   ]
  },
  {
   "cell_type": "markdown",
   "metadata": {},
   "source": [
    "### Chapter 2 : Options for Storing Connected Data\n",
    "\n",
    "NOSQL Databases, Relational Databases thiếu các mối quan hệ\n",
    "\n",
    "Chỉ có Graph Databases tốt cho mối quan hệ\n",
    "\n",
    "Tóm gọn : Các kiến cơ sở dữ liệu cơ bản (NoSQL, Relational Database) không thể biểu diễn và có thể truy vân được các mô hình cơ sở dữ liệu có nhiều lớp liên kết"
   ]
  },
  {
   "cell_type": "markdown",
   "metadata": {},
   "source": [
    "### Chapter 3 : Data Modeling with Graphs\n",
    "\n",
    "#### Tìm hiểu về Cypher\n",
    "**Cypher** : Cypher là ngôn ngữ dùng để truy vấn trên đồ thị giống như ngôn ngữ MySQL\n",
    "Ví dụ về câu lệnh tạo một node\n",
    "```cypher\n",
    "// Create account holders\n",
    "CREATE (accountHolder1:AccountHolder {\n",
    "       \t\tFirstName: \"John\",\n",
    "       \t\tLastName: \"Doe\",\n",
    "       \t\tUniqueId: \"JohnDoe\" })\n",
    "```\n",
    "Ful version : https://github.com/neo4j-contrib/gists/blob/master/other/BankFraudDetection.adoc\n",
    "\n",
    "**hello world**\n",
    "```cypher\n",
    "// Hello World!\n",
    "CREATE (database:Database {name:\"Neo4j\"})\n",
    "-[r:SAYS]->\n",
    "(message:Message {name:\"Hello World!\"})\n",
    "\n",
    "RETURN database, message, r\n",
    "```\n",
    "\n",
    "Đếm tổng số node\n",
    "```cypher\n",
    "// Count all nodes\n",
    "MATCH (n)\n",
    "RETURN count(n)\n",
    "```\n",
    "\n",
    "Đếm số mối quan hệ trong đồ thị\n",
    "```cypher\n",
    "// Count all relationships\n",
    "MATCH ()-->() RETURN count(*);\n",
    "```\n",
    "\n",
    "Hiển thị danh sách labels\n",
    "```cypher\n",
    "CALL db.labels()\n",
    "```\n",
    "\n",
    "Hiển thị loại quan hệ\n",
    "```cypher\n",
    "// List relationship types\n",
    "CALL db.relationshipTypes()\n",
    "```\n",
    "\n",
    "Trực quan hóa các mối quan hệ\n",
    "```cypher\n",
    "CALL db.schema.visualization()\n",
    "```"
   ]
  },
  {
   "cell_type": "code",
   "execution_count": 2,
   "metadata": {},
   "outputs": [
    {
     "name": "stdout",
     "output_type": "stream",
     "text": [
      "Requirement already satisfied: py2neo in e:\\programfile\\anaconda3\\lib\\site-packages (5.0b1)\n",
      "Requirement already satisfied: pygments~=2.3.1 in e:\\programfile\\anaconda3\\lib\\site-packages (from py2neo) (2.3.1)\n",
      "Requirement already satisfied: neotime~=1.7.4 in e:\\programfile\\anaconda3\\lib\\site-packages (from py2neo) (1.7.4)\n",
      "Requirement already satisfied: click==7.0 in e:\\programfile\\anaconda3\\lib\\site-packages (from py2neo) (7.0)\n",
      "Requirement already satisfied: pytz in e:\\programfile\\anaconda3\\lib\\site-packages (from py2neo) (2019.3)\n",
      "Requirement already satisfied: urllib3 in e:\\programfile\\anaconda3\\lib\\site-packages (from py2neo) (1.24.3)\n",
      "Requirement already satisfied: colorama in e:\\programfile\\anaconda3\\lib\\site-packages (from py2neo) (0.4.3)\n",
      "Requirement already satisfied: prompt-toolkit~=2.0.7 in e:\\programfile\\anaconda3\\lib\\site-packages (from py2neo) (2.0.10)\n",
      "Requirement already satisfied: certifi in e:\\programfile\\anaconda3\\lib\\site-packages (from py2neo) (2019.11.28)\n",
      "Requirement already satisfied: six in e:\\programfile\\anaconda3\\lib\\site-packages (from neotime~=1.7.4->py2neo) (1.14.0)\n",
      "Requirement already satisfied: wcwidth in e:\\programfile\\anaconda3\\lib\\site-packages (from prompt-toolkit~=2.0.7->py2neo) (0.1.8)\n"
     ]
    }
   ],
   "source": [
    "# Cài đặt py2neo trong python\n",
    "!pip install py2neo"
   ]
  },
  {
   "cell_type": "markdown",
   "metadata": {},
   "source": [
    "**Document chính thức về Py2Neo**\n",
    "https://py2neo.org/v4/database.html#py2neo.database.Graph"
   ]
  },
  {
   "cell_type": "code",
   "execution_count": 118,
   "metadata": {},
   "outputs": [
    {
     "name": "stdout",
     "output_type": "stream",
     "text": [
      "Collecting neo4jupyter\n",
      "  Downloading neo4jupyter-0.2.0.tar.gz (3.8 kB)\n",
      "Requirement already satisfied: IPython>=4.0.0 in e:\\programfile\\anaconda3\\lib\\site-packages (from neo4jupyter) (7.12.0)\n",
      "Collecting ipython-cypher>=0.2.4\n",
      "  Downloading ipython-cypher-0.2.6.tar.gz (13 kB)\n",
      "Requirement already satisfied: py2neo in e:\\programfile\\anaconda3\\lib\\site-packages (from neo4jupyter) (5.0b1)\n",
      "Requirement already satisfied: pygments in e:\\programfile\\anaconda3\\lib\\site-packages (from IPython>=4.0.0->neo4jupyter) (2.3.1)\n",
      "Requirement already satisfied: colorama; sys_platform == \"win32\" in e:\\programfile\\anaconda3\\lib\\site-packages (from IPython>=4.0.0->neo4jupyter) (0.4.3)\n",
      "Requirement already satisfied: backcall in e:\\programfile\\anaconda3\\lib\\site-packages (from IPython>=4.0.0->neo4jupyter) (0.1.0)\n",
      "Requirement already satisfied: pickleshare in e:\\programfile\\anaconda3\\lib\\site-packages (from IPython>=4.0.0->neo4jupyter) (0.7.5)\n",
      "Requirement already satisfied: traitlets>=4.2 in e:\\programfile\\anaconda3\\lib\\site-packages (from IPython>=4.0.0->neo4jupyter) (4.3.3)\n",
      "Requirement already satisfied: jedi>=0.10 in e:\\programfile\\anaconda3\\lib\\site-packages (from IPython>=4.0.0->neo4jupyter) (0.14.1)\n",
      "Requirement already satisfied: setuptools>=18.5 in e:\\programfile\\anaconda3\\lib\\site-packages (from IPython>=4.0.0->neo4jupyter) (45.2.0.post20200210)\n",
      "Requirement already satisfied: decorator in e:\\programfile\\anaconda3\\lib\\site-packages (from IPython>=4.0.0->neo4jupyter) (4.4.1)\n",
      "Requirement already satisfied: prompt-toolkit!=3.0.0,!=3.0.1,<3.1.0,>=2.0.0 in e:\\programfile\\anaconda3\\lib\\site-packages (from IPython>=4.0.0->neo4jupyter) (2.0.10)\n",
      "Collecting neo4jrestclient>=2.1.0\n",
      "  Downloading neo4jrestclient-2.1.1.tar.gz (73 kB)\n",
      "Collecting prettytable\n",
      "  Downloading prettytable-0.7.2.tar.bz2 (21 kB)\n",
      "Requirement already satisfied: pytz in e:\\programfile\\anaconda3\\lib\\site-packages (from py2neo->neo4jupyter) (2019.3)\n",
      "Requirement already satisfied: certifi in e:\\programfile\\anaconda3\\lib\\site-packages (from py2neo->neo4jupyter) (2019.11.28)\n",
      "Requirement already satisfied: click==7.0 in e:\\programfile\\anaconda3\\lib\\site-packages (from py2neo->neo4jupyter) (7.0)\n",
      "Requirement already satisfied: urllib3 in e:\\programfile\\anaconda3\\lib\\site-packages (from py2neo->neo4jupyter) (1.24.3)\n",
      "Requirement already satisfied: neotime~=1.7.4 in e:\\programfile\\anaconda3\\lib\\site-packages (from py2neo->neo4jupyter) (1.7.4)\n",
      "Requirement already satisfied: six in e:\\programfile\\anaconda3\\lib\\site-packages (from traitlets>=4.2->IPython>=4.0.0->neo4jupyter) (1.14.0)\n",
      "Requirement already satisfied: ipython-genutils in e:\\programfile\\anaconda3\\lib\\site-packages (from traitlets>=4.2->IPython>=4.0.0->neo4jupyter) (0.2.0)\n",
      "Requirement already satisfied: parso>=0.5.0 in e:\\programfile\\anaconda3\\lib\\site-packages (from jedi>=0.10->IPython>=4.0.0->neo4jupyter) (0.5.2)\n",
      "Requirement already satisfied: wcwidth in e:\\programfile\\anaconda3\\lib\\site-packages (from prompt-toolkit!=3.0.0,!=3.0.1,<3.1.0,>=2.0.0->IPython>=4.0.0->neo4jupyter) (0.1.8)\n",
      "Requirement already satisfied: requests>=2.1.0 in e:\\programfile\\anaconda3\\lib\\site-packages (from neo4jrestclient>=2.1.0->ipython-cypher>=0.2.4->neo4jupyter) (2.22.0)\n",
      "Requirement already satisfied: chardet<3.1.0,>=3.0.2 in e:\\programfile\\anaconda3\\lib\\site-packages (from requests>=2.1.0->neo4jrestclient>=2.1.0->ipython-cypher>=0.2.4->neo4jupyter) (3.0.4)\n",
      "Requirement already satisfied: idna<2.9,>=2.5 in e:\\programfile\\anaconda3\\lib\\site-packages (from requests>=2.1.0->neo4jrestclient>=2.1.0->ipython-cypher>=0.2.4->neo4jupyter) (2.8)\n",
      "Building wheels for collected packages: neo4jupyter, ipython-cypher, neo4jrestclient, prettytable\n",
      "  Building wheel for neo4jupyter (setup.py): started\n",
      "  Building wheel for neo4jupyter (setup.py): finished with status 'done'\n",
      "  Created wheel for neo4jupyter: filename=neo4jupyter-0.2.0-py3-none-any.whl size=3880 sha256=bcda448cf2065e5d3eea203cf58742c9c1eade3aafee4fef8e4692a9f1d8cbf9\n",
      "  Stored in directory: c:\\users\\thanh\\appdata\\local\\pip\\cache\\wheels\\98\\e6\\6e\\04e4ab08495bd0e2bfeb0083436a6040c49f262c17d6345b2b\n",
      "  Building wheel for ipython-cypher (setup.py): started\n",
      "  Building wheel for ipython-cypher (setup.py): finished with status 'done'\n",
      "  Created wheel for ipython-cypher: filename=ipython_cypher-0.2.6-py3-none-any.whl size=13280 sha256=afbf9d42c97f566092c7941160c28ec4599bcf42f2ea6f9a80eb9872644a5dc6\n",
      "  Stored in directory: c:\\users\\thanh\\appdata\\local\\pip\\cache\\wheels\\d9\\ff\\09\\e790f902f0013f5479cf2b9288013d2b36f41da1877c7d4df2\n",
      "  Building wheel for neo4jrestclient (setup.py): started\n",
      "  Building wheel for neo4jrestclient (setup.py): finished with status 'done'\n",
      "  Created wheel for neo4jrestclient: filename=neo4jrestclient-2.1.1-py2.py3-none-any.whl size=78544 sha256=6cd950651502dc924cafb0a5939299064b53aad95e71bbd854612d393199e0f6\n",
      "  Stored in directory: c:\\users\\thanh\\appdata\\local\\pip\\cache\\wheels\\4d\\39\\cd\\03fa156cb423361fa55a1f69d711d152eb6f3ce902a324059e\n",
      "  Building wheel for prettytable (setup.py): started\n",
      "  Building wheel for prettytable (setup.py): finished with status 'done'\n",
      "  Created wheel for prettytable: filename=prettytable-0.7.2-py3-none-any.whl size=13704 sha256=165a5b5b6f244b632074a5a3d176f7fd847647dc1db825007c98f4224665d11b\n",
      "  Stored in directory: c:\\users\\thanh\\appdata\\local\\pip\\cache\\wheels\\8c\\76\\0b\\eb9eb3da7e2335e3577e3f96a0ae9f74f206e26457bd1a2bc8\n",
      "Successfully built neo4jupyter ipython-cypher neo4jrestclient prettytable\n",
      "Installing collected packages: neo4jrestclient, prettytable, ipython-cypher, neo4jupyter\n",
      "Successfully installed ipython-cypher-0.2.6 neo4jrestclient-2.1.1 neo4jupyter-0.2.0 prettytable-0.7.2\n"
     ]
    }
   ],
   "source": [
    "!pip install neo4jupyter"
   ]
  },
  {
   "cell_type": "code",
   "execution_count": 125,
   "metadata": {},
   "outputs": [],
   "source": [
    "from py2neo import Graph\n",
    "\n",
    "graph = Graph(\"bolt://localhost:7687\", auth=(\"neo4j\", \"123456\"))\n",
    "\n",
    "# Phải tải và start Neo4j trước khi bắt đầu\n",
    "# Có thể tạo mới và nó sẽ hỏi mật khẩu, đường dẫn sẽ có khi start neo4j database\n",
    "\n",
    "# Thử xóa tất cả các node đã tạo\n",
    "graph.delete_all()"
   ]
  },
  {
   "cell_type": "code",
   "execution_count": 122,
   "metadata": {},
   "outputs": [
    {
     "data": {
      "application/javascript": [
       "var link = document.createElement(\"link\");\n",
       "\tlink.ref = \"stylesheet\";\n",
       "\tlink.type = \"text/css\";\n",
       "\tlink.href = \"https://cdnjs.cloudflare.com/ajax/libs/vis/4.8.2/vis.css\";\n",
       "\tdocument.head.appendChild(link);\n",
       "require.config({     paths: {         vis: '//cdnjs.cloudflare.com/ajax/libs/vis/4.8.2/vis.min'     } }); require(['vis'], function(vis) {  window.vis = vis; }); "
      ],
      "text/plain": [
       "<IPython.core.display.Javascript object>"
      ]
     },
     "metadata": {},
     "output_type": "display_data"
    }
   ],
   "source": [
    "import neo4jupyter\n",
    "neo4jupyter.init_notebook_mode()"
   ]
  },
  {
   "cell_type": "code",
   "execution_count": 126,
   "metadata": {},
   "outputs": [],
   "source": [
    "# Ví dụ về tạo node trong neo4j\n",
    "from py2neo import Node\n",
    "\n",
    "fish = Node(\"Person\", name=\"Laurence Fishburne\", born=1961)\n",
    "drew = Node(\"Person\", name=\"Drew\", born=1960)\n",
    "lilly = Node(\"Person\", name=\"Lilly Wachowski\", born=1967)\n",
    "\n",
    "mtdew = Node(\"Drink\", name=\"Mountain Dew\", calories=9000)\n",
    "cokezero = Node(\"Drink\", name=\"Coke Zero\", calories=0)\n",
    "\n",
    "# coke = Node(\"Manufacturer\", name=\"Coca Cola\")\n",
    "# pepsi = Node(\"Manufacturer\", name=\"Pepsi\")\n",
    "\n",
    "# graph.create(fish | drew | lilly | mtdew | cokezero | coke | pepsi)\n",
    "graph.create(fish | drew | lilly | mtdew | cokezero)"
   ]
  },
  {
   "cell_type": "code",
   "execution_count": 127,
   "metadata": {},
   "outputs": [
    {
     "data": {
      "text/html": [
       "<table><tr><th>x.name</th><th>x.born</th></tr><tr><td style=\"text-align:left\">Laurence Fishburne</td><td style=\"text-align:right\">1961</td></tr><tr><td style=\"text-align:left\">Drew</td><td style=\"text-align:right\">1960</td></tr><tr><td style=\"text-align:left\">Lilly Wachowski</td><td style=\"text-align:right\">1967</td></tr></table>"
      ],
      "text/plain": [
       " x.name             | x.born \n",
       "--------------------|--------\n",
       " Laurence Fishburne |   1961 \n",
       " Drew               |   1960 \n",
       " Lilly Wachowski    |   1967 "
      ]
     },
     "execution_count": 127,
     "metadata": {},
     "output_type": "execute_result"
    }
   ],
   "source": [
    "graph.run(\"MATCH (x:Person) RETURN x.name, x.born LIMIT 3\").to_table()"
   ]
  },
  {
   "cell_type": "code",
   "execution_count": 128,
   "metadata": {},
   "outputs": [
    {
     "data": {
      "text/plain": [
       "3"
      ]
     },
     "execution_count": 128,
     "metadata": {},
     "output_type": "execute_result"
    }
   ],
   "source": [
    "# Đêm xem có bao nhiêu người trong đồ thị\n",
    "graph.evaluate(\"MATCH (a:Person) RETURN count(a)\")"
   ]
  },
  {
   "cell_type": "code",
   "execution_count": 129,
   "metadata": {},
   "outputs": [
    {
     "name": "stdout",
     "output_type": "stream",
     "text": [
      "Persion :  [('Laurence Fishburne', 1961), ('Drew', 1960), ('Lilly Wachowski', 1967)]\n",
      "Drink :  [('Mountain Dew', 9000), ('Coke Zero', 0)]\n"
     ]
    }
   ],
   "source": [
    "print(\"Persion : \", [(a[\"name\"], a[\"born\"]) for a in graph.nodes.match(\"Person\").limit(3)])\n",
    "print(\"Drink : \", [(a[\"name\"], a[\"calories\"]) for a in graph.nodes.match(\"Drink\").limit(3)])"
   ]
  },
  {
   "cell_type": "code",
   "execution_count": 130,
   "metadata": {},
   "outputs": [],
   "source": [
    "from py2neo.ogm import GraphObject, Property"
   ]
  },
  {
   "cell_type": "code",
   "execution_count": 131,
   "metadata": {},
   "outputs": [
    {
     "data": {
      "text/plain": [
       "Node('Person', born=1967, name='Lilly Wachowski')"
      ]
     },
     "execution_count": 131,
     "metadata": {},
     "output_type": "execute_result"
    }
   ],
   "source": [
    "graph.nodes.match(\"Person\", name=\"Lilly Wachowski\").first()"
   ]
  },
  {
   "cell_type": "code",
   "execution_count": 132,
   "metadata": {
    "scrolled": true
   },
   "outputs": [
    {
     "data": {
      "text/html": [
       "<div id=\"78610027-6897-4400-845e-b0886b7c14b4\" style=\"height: 400px;\"></div>\n",
       "\n",
       "<script type=\"text/javascript\">\n",
       "\n",
       "    var nodes = [{\"id\": 29, \"label\": \"\", \"group\": \"Drink\", \"title\": \"Node('Drink', calories=9000, name='Mountain Dew')\"}, {\"id\": 30, \"label\": \"\", \"group\": \"Drink\", \"title\": \"Node('Drink', calories=0, name='Coke Zero')\"}, {\"id\": 32, \"label\": \"Drew\", \"group\": \"Person\", \"title\": \"Node('Person', born=1960, name='Drew')\"}, {\"id\": 33, \"label\": \"Lilly Wachowski\", \"group\": \"Person\", \"title\": \"Node('Person', born=1967, name='Lilly Wachowski')\"}, {\"id\": 31, \"label\": \"Laurence Fishburne\", \"group\": \"Person\", \"title\": \"Node('Person', born=1961, name='Laurence Fishburne')\"}];\n",
       "    var edges = [];\n",
       "\n",
       "    var container = document.getElementById(\"78610027-6897-4400-845e-b0886b7c14b4\");\n",
       "\n",
       "    var data = {\n",
       "        nodes: nodes,\n",
       "        edges: edges\n",
       "    };\n",
       "\n",
       "    var options = {\n",
       "    nodes: {\n",
       "        shape: 'dot',\n",
       "        size: 25,\n",
       "        font: {\n",
       "            size: 14\n",
       "        }\n",
       "    },\n",
       "    edges: {\n",
       "        font: {\n",
       "            size: 14,\n",
       "            align: 'middle'\n",
       "        },\n",
       "        color: 'gray',\n",
       "        arrows: {\n",
       "            to: {\n",
       "                enabled: true,\n",
       "                scaleFactor: 0.5\n",
       "            }\n",
       "        },\n",
       "        smooth: {\n",
       "            enabled: false\n",
       "        }\n",
       "    },\n",
       "    physics: {\n",
       "        enabled: true\n",
       "        }\n",
       "    };\n",
       "\n",
       "    var network = new vis.Network(container, data, options);\n",
       "\n",
       "</script>\n"
      ],
      "text/plain": [
       "<IPython.core.display.HTML object>"
      ]
     },
     "execution_count": 132,
     "metadata": {},
     "output_type": "execute_result"
    }
   ],
   "source": [
    "options = {\"Person\": \"name\"}\n",
    "neo4jupyter.draw(graph, options)"
   ]
  },
  {
   "cell_type": "markdown",
   "metadata": {},
   "source": [
    "Tham khảo thêm cách biểu diễn đồ thị trên jupyter notebook tại\n",
    "\n",
    "https://nicolewhite.github.io/neo4j-jupyter/hello-world.html#Connect"
   ]
  },
  {
   "cell_type": "code",
   "execution_count": null,
   "metadata": {},
   "outputs": [],
   "source": []
  }
 ],
 "metadata": {
  "kernelspec": {
   "display_name": "Python 3",
   "language": "python",
   "name": "python3"
  },
  "language_info": {
   "codemirror_mode": {
    "name": "ipython",
    "version": 3
   },
   "file_extension": ".py",
   "mimetype": "text/x-python",
   "name": "python",
   "nbconvert_exporter": "python",
   "pygments_lexer": "ipython3",
   "version": "3.7.6"
  }
 },
 "nbformat": 4,
 "nbformat_minor": 2
}
