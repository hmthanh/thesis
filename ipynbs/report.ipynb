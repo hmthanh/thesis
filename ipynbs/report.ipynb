{
 "cells": [
  {
   "cell_type": "markdown",
   "metadata": {},
   "source": [
    "# Các vấn đề cần tìm hiểu gặp thầy ngày 19/06\n",
    "\n",
    "\n"
   ]
  },
  {
   "cell_type": "markdown",
   "metadata": {},
   "source": [
    "### Các thuật ngữ\n",
    "\n",
    "##### Reified Relations\n",
    "Some KGs support relations with cardinality greater than 2, connecting more than two\n",
    "entities at a time. In relations, cardinality is closely related to semantics, and some relations inherently make more sense\n",
    "when modeled in this way. For example, an actor winning an award for her performance in a movie can be modeled\n",
    "with a unique relation connecting the actor, the award and the movie. KGs that support relations with cardinality\n",
    "greater than 2 often handle them in one of the following ways\n",
    "* using hyper-graphs: in a hyper-graph, each hyper-edge can link more than two nodes at a time by design. Hyper-graphs can not be directly expressed as a set of triples\n",
    "\n",
    "* using reification: if a relation needs to connect multiple entities, it is modeled with an intermediate node\n",
    "linked to those entities by binary relations. The relation cardinality thus becomes the degree of the reified\n",
    "node. Reification allows relations with cardinality greater than 2 to be indirectly modeled; the graph is thus\n",
    "still representable as a set of triples."
   ]
  },
  {
   "cell_type": "markdown",
   "metadata": {},
   "source": [
    "Mối quan hệ thống nhất, Một vài KGs hỗ trợ mối quan hệ với cardinality(số lượng phần tử trong một nhóm nào đó, lực lượng) lớn hơn 2, kết nối hơn hai thực thể cùng lúc. Trong những mối quan hệ, cardinality thì gần như liên quan đến những ngữ nghĩa, và một vài quan hệ thì kết vốn đã có nhiều nghĩa hơn khi mô hình trong cách này. Ví dụ, một actor thắng một giải thưởng cho màn trình diễn của cô ấy trong bộ phim có thể mô hình với một unique relation kết nối với actor, giải thưởng và bộ phim. KGs mà hỗ trợ mối quan hệ với cardinality lớn hơn 2 thì thường handle chúng trong một trong những cách sau :\n",
    "\n",
    "* sử dụng **hyper-graphs** : trong  một siêu đồ thị, mỗi siêu cạnh có thể kết nối với hơn 2 code trong cùng lúc bởi theo thiết kế. Hyper-graphs không thể trực tiếp biểu diễn như là set của triples\n",
    "\n",
    "* sử dụng reification : nếu một relation cần kết nối với nhiều entities nó sẽ mô hình với một node trung gian kết nối với những entity đó bằng mối quan hệ nhị phân. Mối quan hệ cardinality vì thế trở thành bậc của node reified. Sự thống nhất cho phép mối quan hệ với cardinality lớn  hơn có thể không trực tiếp mô hình, đồ thị thì vì thế vẫn biểu diễn là một set của triples\n",
    "\n",
    "=> Tóm gọn lại : reification là họ nén các quan hệ có thể gom chung với nhau thành một quan hệ. Vì vậy ở FB15k và FB15k-237 có dấu . ở giữa các quan hệ biểu thị họ đã nén\n",
    "Còn ở WN18, WN18RR và YAGO3 không có"
   ]
  },
  {
   "cell_type": "markdown",
   "metadata": {},
   "source": [
    "##### Multiple Domains :\n",
    "Thuộc nhiều lĩnh vực khác nhau, WN18 và WN18RR chỉ là bộ dữ liệu về các từ vựng và mối quan hệ ngữ nghĩa giữa các từ"
   ]
  },
  {
   "cell_type": "markdown",
   "metadata": {},
   "source": [
    "##### Test leakage\n",
    "\n",
    "Là loại bỏ các mối quan hệ bị invert hoặc có thể suy luận dễ dàng"
   ]
  },
  {
   "cell_type": "markdown",
   "metadata": {},
   "source": [
    "## Mô hình ConvKB"
   ]
  },
  {
   "cell_type": "code",
   "execution_count": null,
   "metadata": {},
   "outputs": [],
   "source": []
  }
 ],
 "metadata": {
  "kernelspec": {
   "display_name": "Python 3",
   "language": "python",
   "name": "python3"
  },
  "language_info": {
   "codemirror_mode": {
    "name": "ipython",
    "version": 3
   },
   "file_extension": ".py",
   "mimetype": "text/x-python",
   "name": "python",
   "nbconvert_exporter": "python",
   "pygments_lexer": "ipython3",
   "version": "3.7.6"
  }
 },
 "nbformat": 4,
 "nbformat_minor": 2
}
