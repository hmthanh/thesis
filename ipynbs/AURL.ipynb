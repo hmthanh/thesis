{
 "cells": [
  {
   "cell_type": "markdown",
   "metadata": {},
   "source": [
    "# Anytime Bottom-Up Rule Learning for Knowledge Graph Completion"
   ]
  },
  {
   "cell_type": "markdown",
   "metadata": {},
   "source": [
    "Chúng tôi đề xuất một kỹ thuật *anytime bottom-up* để học các quy tắc logic từ các đồ thị tri thức lớn. Chúng tôi áp dụng các quy tắc đã học để dự đoán các ứng cử viên trong bối cảnh hoàn thành biểu đồ thị tri thức. Cách tiếp cận của chúng tôi vượt trội hơn so với các cách tiếp cận dựa trên quy tắc khác và nó cạnh tranh với tình trạng hiện đại, dựa trên các đại diện tiềm ẩn. Bên cạnh đó, cách tiếp cận của chúng tôi nhanh hơn đáng kể, đòi hỏi ít tài nguyên tính toán hơn và đưa ra lời giải thích về các quy tắc đề xuất một ứng cử viên."
   ]
  },
  {
   "cell_type": "markdown",
   "metadata": {},
   "source": [
    "## 1 Introduction"
   ]
  },
  {
   "cell_type": "markdown",
   "metadata": {},
   "source": [
    "Hoàn thành đồ thị tri thức đã trở thành một lĩnh vực nghiên cứu sinh động trong vòng mười năm qua. Trong khi nghiên cứu hiện tại chủ yếu liên quan đến các biểu diễn tiềm ẩn dựa trên ý tưởng để nhúng đồ thị tri thức vào không gian vectơ chiều thấp, các phương pháp biểu tượng đã thu hút ít sự chú ý hơn [Wang et al., 2017]. Tuy nhiên, cách tiếp cận như vậy có một lợi thế lớn, đó là khả năng đưa ra lời giải thích theo các quy tắc *trigger a prediction* (kích hoạt dự đoán)"
   ]
  },
  {
   "cell_type": "markdown",
   "metadata": {},
   "source": [
    "Trong bài báo này, chúng tôi đề xuất một kỹ thuật từ dưới lên để học hiệu quả các quy tắc logic từ các biểu đồ tri thức lớn. Công việc của chúng tôi được truyền cảm hứng từ cách tiếp cận học tập theo quy tắc từ dưới lên Golem [Muggleton và Feng, 1990] và Aleph [Srinivasan, 2000], đã được phát triển trong những ngày đầu của Lập trình logic cảm ứng (ILP). Cách tiếp cận từ dưới lên dựa trên ý tưởng rằng một ví dụ là một biểu diễn nhỏ gọn của một quy tắc rất cụ thể có thể được khái quát hóa để nắm bắt một tập hợp con toàn diện của tất cả các ví dụ tích cực. Aleph là một trong những cách tiếp cận như vậy. Nó biến đổi một ví dụ tích cực nhất định thành quy tắc Horn được gọi là quy tắc dưới cùng. Quy tắc này sau đó được khái quát hóa bằng cách thả các nguyên tử khỏi cơ thể quy tắc cho đến khi tìm thấy quy tắc đáp ứng tiêu chí chất lượng đã chọn. Các ví dụ được bao phủ bởi quy tắc được loại bỏ và cách tiếp cận được áp dụng lại cho đến khi tất cả các ví dụ được học"
   ]
  },
  {
   "cell_type": "markdown",
   "metadata": {},
   "source": [
    "Cách tiếp cận của chúng tôi khác nhau theo nhiều cách. Trước hết, chúng ta không có một biên giới nghiêm ngặt cho chúng ta biết những quan sát nào thuộc về một ví dụ cụ thể và những gì không thuộc về nó. Thay vào đó, chúng ta phải quyết định những gì để coi là một ví dụ. Chúng tôi dựa trên khái niệm về một ví dụ về khái niệm đường dẫn. Theo nghĩa đó, cách tiếp cận của chúng tôi tương tự như thuật toán xếp hạng đường dẫn (PRA) [Lao et al., 2011]. Tuy nhiên, PRA coi các tính năng chỉ là một tập hợp con của các quy tắc mà chúng ta có thể tìm hiểu"
   ]
  },
  {
   "cell_type": "markdown",
   "metadata": {},
   "source": [
    "Thứ hai, chúng tôi quan tâm đến việc học các quy tắc không chắc chắn, tức là các quy tắc bao gồm ít nhất một số ví dụ tích cực và thường là một số ví dụ tiêu cực. Ngay cả một quy tắc với độ tin cậy thấp vẫn có thể giúp chúng ta tạo ra thứ hạng ứng viên tốt hơn cho nhiệm vụ hoàn thành biểu đồ tri thức. Hơn nữa, chúng tôi không thể xóa các ví dụ được quy định bởi một quy tắc, bởi vì có thể có các quy tắc khác cũng bao gồm (một số) các ví dụ này và các ví dụ khác, với điểm tin cậy khác nhau."
   ]
  }
 ],
 "metadata": {
  "language_info": {
   "codemirror_mode": {
    "name": "ipython",
    "version": 3
   },
   "file_extension": ".py",
   "mimetype": "text/x-python",
   "name": "python",
   "nbconvert_exporter": "python",
   "pygments_lexer": "ipython3",
   "version": 3
  },
  "orig_nbformat": 2
 },
 "nbformat": 4,
 "nbformat_minor": 2
}