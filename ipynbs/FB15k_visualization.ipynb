{
 "cells": [
  {
   "cell_type": "code",
   "execution_count": 1,
   "metadata": {},
   "outputs": [],
   "source": [
    "import os\n",
    "import glob\n",
    "import pandas as pd\n",
    "import scipy\n",
    "import scipy.io\n",
    "import random\n",
    "import matplotlib.pyplot as plt\n",
    "import seaborn as sns\n",
    "import numpy as np\n",
    "\n",
    "ROOT = os.path.abspath(os.path.join(\".\", os.pardir))\n",
    "DS_DIR = os.path.join(ROOT, \"datasets\")"
   ]
  },
  {
   "cell_type": "code",
   "execution_count": 2,
   "metadata": {},
   "outputs": [],
   "source": [
    "def read_all_data(dataset):\n",
    "    dataset_dir = os.path.join(DS_DIR, dataset)\n",
    "    test_file = glob.glob(os.path.join(dataset_dir, \"*test.txt\"))[0];\n",
    "    train_file = glob.glob(os.path.join(dataset_dir, \"*train.txt\"))[0];\n",
    "    valid_file = glob.glob(os.path.join(dataset_dir, \"*valid.txt\"))[0];\n",
    "    \n",
    "    test = pd.read_csv(test_file, delim_whitespace=True,header=None)\n",
    "    train = pd.read_csv(train_file, delim_whitespace=True,header=None)\n",
    "    valid = pd.read_csv(valid_file, delim_whitespace=True,header=None)\n",
    "    test.columns = ['heads', 'relations', \"tails\"]\n",
    "    train.columns = ['heads', 'relations', \"tails\"]\n",
    "    valid.columns = ['heads', 'relations', \"tails\"]\n",
    "    \n",
    "    return (test, train, valid)"
   ]
  },
  {
   "cell_type": "code",
   "execution_count": 3,
   "metadata": {},
   "outputs": [],
   "source": [
    "FB15k_test, FB15k_train, FB15k_valid = read_all_data(\"FB15k\")"
   ]
  },
  {
   "cell_type": "code",
   "execution_count": 68,
   "metadata": {},
   "outputs": [
    {
     "data": {
      "text/html": [
       "<div>\n",
       "<style scoped>\n",
       "    .dataframe tbody tr th:only-of-type {\n",
       "        vertical-align: middle;\n",
       "    }\n",
       "\n",
       "    .dataframe tbody tr th {\n",
       "        vertical-align: top;\n",
       "    }\n",
       "\n",
       "    .dataframe thead th {\n",
       "        text-align: right;\n",
       "    }\n",
       "</style>\n",
       "<table border=\"1\" class=\"dataframe\">\n",
       "  <thead>\n",
       "    <tr style=\"text-align: right;\">\n",
       "      <th></th>\n",
       "      <th>heads</th>\n",
       "      <th>relations</th>\n",
       "      <th>tails</th>\n",
       "    </tr>\n",
       "  </thead>\n",
       "  <tbody>\n",
       "    <tr>\n",
       "      <th>0</th>\n",
       "      <td>/m/027rn</td>\n",
       "      <td>/location/country/form_of_government</td>\n",
       "      <td>/m/06cx9</td>\n",
       "    </tr>\n",
       "    <tr>\n",
       "      <th>1</th>\n",
       "      <td>/m/017dcd</td>\n",
       "      <td>/tv/tv_program/regular_cast./tv/regular_tv_app...</td>\n",
       "      <td>/m/06v8s0</td>\n",
       "    </tr>\n",
       "    <tr>\n",
       "      <th>2</th>\n",
       "      <td>/m/07s9rl0</td>\n",
       "      <td>/media_common/netflix_genre/titles</td>\n",
       "      <td>/m/0170z3</td>\n",
       "    </tr>\n",
       "    <tr>\n",
       "      <th>3</th>\n",
       "      <td>/m/01sl1q</td>\n",
       "      <td>/award/award_winner/awards_won./award/award_ho...</td>\n",
       "      <td>/m/044mz_</td>\n",
       "    </tr>\n",
       "    <tr>\n",
       "      <th>4</th>\n",
       "      <td>/m/0cnk2q</td>\n",
       "      <td>/soccer/football_team/current_roster./sports/s...</td>\n",
       "      <td>/m/02nzb8</td>\n",
       "    </tr>\n",
       "    <tr>\n",
       "      <th>...</th>\n",
       "      <td>...</td>\n",
       "      <td>...</td>\n",
       "      <td>...</td>\n",
       "    </tr>\n",
       "    <tr>\n",
       "      <th>483137</th>\n",
       "      <td>/m/0gpx6</td>\n",
       "      <td>/award/award_nominated_work/award_nominations....</td>\n",
       "      <td>/m/0gq6s3</td>\n",
       "    </tr>\n",
       "    <tr>\n",
       "      <th>483138</th>\n",
       "      <td>/m/020jqv</td>\n",
       "      <td>/award/award_nominee/award_nominations./award/...</td>\n",
       "      <td>/m/09d3b7</td>\n",
       "    </tr>\n",
       "    <tr>\n",
       "      <th>483139</th>\n",
       "      <td>/m/0524b41</td>\n",
       "      <td>/award/award_winning_work/awards_won./award/aw...</td>\n",
       "      <td>/m/0lp_cd3</td>\n",
       "    </tr>\n",
       "    <tr>\n",
       "      <th>483140</th>\n",
       "      <td>/m/0kvsb</td>\n",
       "      <td>/people/person/education./education/education/...</td>\n",
       "      <td>/m/050xpd</td>\n",
       "    </tr>\n",
       "    <tr>\n",
       "      <th>483141</th>\n",
       "      <td>/m/03p41</td>\n",
       "      <td>/medicine/disease/medical_specialties</td>\n",
       "      <td>/m/03tp4</td>\n",
       "    </tr>\n",
       "  </tbody>\n",
       "</table>\n",
       "<p>483142 rows × 3 columns</p>\n",
       "</div>"
      ],
      "text/plain": [
       "             heads                                          relations  \\\n",
       "0         /m/027rn               /location/country/form_of_government   \n",
       "1        /m/017dcd  /tv/tv_program/regular_cast./tv/regular_tv_app...   \n",
       "2       /m/07s9rl0                 /media_common/netflix_genre/titles   \n",
       "3        /m/01sl1q  /award/award_winner/awards_won./award/award_ho...   \n",
       "4        /m/0cnk2q  /soccer/football_team/current_roster./sports/s...   \n",
       "...            ...                                                ...   \n",
       "483137    /m/0gpx6  /award/award_nominated_work/award_nominations....   \n",
       "483138   /m/020jqv  /award/award_nominee/award_nominations./award/...   \n",
       "483139  /m/0524b41  /award/award_winning_work/awards_won./award/aw...   \n",
       "483140    /m/0kvsb  /people/person/education./education/education/...   \n",
       "483141    /m/03p41              /medicine/disease/medical_specialties   \n",
       "\n",
       "             tails  \n",
       "0         /m/06cx9  \n",
       "1        /m/06v8s0  \n",
       "2        /m/0170z3  \n",
       "3        /m/044mz_  \n",
       "4        /m/02nzb8  \n",
       "...            ...  \n",
       "483137   /m/0gq6s3  \n",
       "483138   /m/09d3b7  \n",
       "483139  /m/0lp_cd3  \n",
       "483140   /m/050xpd  \n",
       "483141    /m/03tp4  \n",
       "\n",
       "[483142 rows x 3 columns]"
      ]
     },
     "execution_count": 68,
     "metadata": {},
     "output_type": "execute_result"
    }
   ],
   "source": [
    "df = FB15k_train\n",
    "df"
   ]
  },
  {
   "cell_type": "code",
   "execution_count": 78,
   "metadata": {},
   "outputs": [
    {
     "data": {
      "application/javascript": [
       "var link = document.createElement(\"link\");\n",
       "\tlink.ref = \"stylesheet\";\n",
       "\tlink.type = \"text/css\";\n",
       "\tlink.href = \"https://cdnjs.cloudflare.com/ajax/libs/vis/4.8.2/vis.css\";\n",
       "\tdocument.head.appendChild(link);\n",
       "require.config({     paths: {         vis: '//cdnjs.cloudflare.com/ajax/libs/vis/4.8.2/vis.min'     } }); require(['vis'], function(vis) {  window.vis = vis; }); "
      ],
      "text/plain": [
       "<IPython.core.display.Javascript object>"
      ]
     },
     "metadata": {},
     "output_type": "display_data"
    }
   ],
   "source": [
    "from py2neo import Graph\n",
    "from py2neo.data import Node, Relationship\n",
    "import neo4jupyter\n",
    "neo4jupyter.init_notebook_mode()\n",
    "\n",
    "graph = Graph(\"bolt://localhost:7687\", auth=(\"neo4j\", \"123456\"))\n",
    "\n",
    "# Phải tải và start Neo4j trước khi bắt đầu\n",
    "# Có thể tạo mới và nó sẽ hỏi mật khẩu, đường dẫn sẽ có khi start neo4j database\n",
    "\n",
    "# Thử xóa tất cả các node đã tạo\n",
    "# graph.delete_all()"
   ]
  },
  {
   "cell_type": "code",
   "execution_count": 79,
   "metadata": {},
   "outputs": [
    {
     "name": "stdout",
     "output_type": "stream",
     "text": [
      "(14834,)\n",
      "(1345,)\n",
      "(14903,)\n"
     ]
    }
   ],
   "source": [
    "df_relations = pd.Series(df[\"relations\"])\n",
    "df_heads = pd.Series(df[\"heads\"])\n",
    "df_tails = pd.Series(df[\"tails\"])\n",
    "\n",
    "heads = df_heads.unique()\n",
    "relations = df_relations.unique()\n",
    "tails = df_tails.unique()\n",
    "\n",
    "print(heads.shape)\n",
    "print(relations.shape)\n",
    "print(tails.shape)"
   ]
  },
  {
   "cell_type": "code",
   "execution_count": null,
   "metadata": {},
   "outputs": [],
   "source": []
  },
  {
   "cell_type": "code",
   "execution_count": 84,
   "metadata": {},
   "outputs": [
    {
     "data": {
      "text/plain": [
       "<Bookmark '9b31144f-ed75-4e9a-898c-989d4d7eb616:15409'>"
      ]
     },
     "execution_count": 84,
     "metadata": {},
     "output_type": "execute_result"
    }
   ],
   "source": [
    "graph.delete_all()\n",
    "tx = graph.begin()\n",
    "for index, row in FB15k_train[:2000].iterrows():\n",
    "    head = Node(\"Entities\", name=row[0].strip())\n",
    "    tx.create(head)\n",
    "    \n",
    "    tail = Node(\"Entities\", name=row[2].strip())\n",
    "    tx.create(tail)\n",
    "    \n",
    "    relation = Relationship(head, row[1].strip(), tail)\n",
    "    tx.create(relation)\n",
    "    \n",
    "tx.commit()"
   ]
  },
  {
   "cell_type": "markdown",
   "metadata": {},
   "source": [
    "#### Merge các node có cùng đỉnh lại với nhau"
   ]
  },
  {
   "cell_type": "code",
   "execution_count": 86,
   "metadata": {},
   "outputs": [
    {
     "data": {
      "text/plain": [
       " name      | node                                | nodes                                                     \n",
       "-----------|-------------------------------------|-----------------------------------------------------------\n",
       " /m/027rn  | (_0:Entities {name: '/m/027rn'})    | [(_0:Entities {name: '/m/027rn'}), (_467 {}), (_1226 {})] \n",
       " /m/06cx9  | (_202:Entities {name: '/m/06cx9'})  | [(_202:Entities {name: '/m/06cx9'}), (_5116 {})]          \n",
       " /m/017dcd | (_203:Entities {name: '/m/017dcd'}) | [(_203:Entities {name: '/m/017dcd'})]                     "
      ]
     },
     "execution_count": 86,
     "metadata": {},
     "output_type": "execute_result"
    }
   ],
   "source": [
    "merge_query = \"\"\"\n",
    "MATCH (n:Entities)\n",
    "WITH toLower(n.name) as name, collect(n) as nodes\n",
    "CALL apoc.refactor.mergeNodes(nodes) yield node\n",
    "RETURN *\n",
    "\"\"\"\n",
    "graph.run(merge_query)"
   ]
  },
  {
   "cell_type": "code",
   "execution_count": 92,
   "metadata": {},
   "outputs": [
    {
     "data": {
      "text/plain": [
       "Node('Entities', name='/m/0168cl')"
      ]
     },
     "execution_count": 92,
     "metadata": {},
     "output_type": "execute_result"
    }
   ],
   "source": [
    "graph.nodes[1234]"
   ]
  },
  {
   "cell_type": "code",
   "execution_count": null,
   "metadata": {},
   "outputs": [],
   "source": []
  },
  {
   "cell_type": "code",
   "execution_count": 81,
   "metadata": {},
   "outputs": [
    {
     "data": {
      "text/html": [
       "<div id=\"92b73a7b-0954-4c60-81a0-ccbd5139f0ea\" style=\"height: 400px;\"></div>\n",
       "\n",
       "<script type=\"text/javascript\">\n",
       "\n",
       "    var nodes = [{\"id\": 2598, \"label\": \"/m/0plyy\", \"group\": \"Entities\", \"title\": \"Node('Entities', name='/m/0plyy')\"}, {\"id\": 3238, \"label\": \"/m/018ctl\", \"group\": \"Entities\", \"title\": \"Node('Entities', name='/m/018ctl')\"}, {\"id\": 3881, \"label\": \"/m/02gys2\", \"group\": \"Entities\", \"title\": \"Node('Entities', name='/m/02gys2')\"}, {\"id\": 10, \"label\": \"/m/02nzb8\", \"group\": \"Entities\", \"title\": \"Node('Entities', name='/m/02nzb8')\"}, {\"id\": 2390, \"label\": \"/m/0789n\", \"group\": \"Entities\", \"title\": \"Node('Entities', name='/m/0789n')\"}, {\"id\": 3814, \"label\": \"/m/05gqf\", \"group\": \"Entities\", \"title\": \"Node('Entities', name='/m/05gqf')\"}, {\"id\": 3253, \"label\": \"/m/035xwd\", \"group\": \"Entities\", \"title\": \"Node('Entities', name='/m/035xwd')\"}, {\"id\": 2730, \"label\": \"/m/02_286\", \"group\": \"Entities\", \"title\": \"Node('Entities', name='/m/02_286')\"}, {\"id\": 36, \"label\": \"/m/029j_\", \"group\": \"Entities\", \"title\": \"Node('Entities', name='/m/029j_')\"}, {\"id\": 3648, \"label\": \"/m/05w3y\", \"group\": \"Entities\", \"title\": \"Node('Entities', name='/m/05w3y')\"}, {\"id\": 3640, \"label\": \"/m/08jbxf\", \"group\": \"Entities\", \"title\": \"Node('Entities', name='/m/08jbxf')\"}, {\"id\": 2570, \"label\": \"/m/0bzjvm\", \"group\": \"Entities\", \"title\": \"Node('Entities', name='/m/0bzjvm')\"}, {\"id\": 3037, \"label\": \"/m/02jqjm\", \"group\": \"Entities\", \"title\": \"Node('Entities', name='/m/02jqjm')\"}, {\"id\": 3038, \"label\": \"/m/018vs\", \"group\": \"Entities\", \"title\": \"Node('Entities', name='/m/018vs')\"}, {\"id\": 2602, \"label\": \"/m/03tmr\", \"group\": \"Entities\", \"title\": \"Node('Entities', name='/m/03tmr')\"}, {\"id\": 3188, \"label\": \"/m/06npd\", \"group\": \"Entities\", \"title\": \"Node('Entities', name='/m/06npd')\"}, {\"id\": 3244, \"label\": \"/m/0g1rw\", \"group\": \"Entities\", \"title\": \"Node('Entities', name='/m/0g1rw')\"}, {\"id\": 2701, \"label\": \"/m/0dscrwf\", \"group\": \"Entities\", \"title\": \"Node('Entities', name='/m/0dscrwf')\"}, {\"id\": 2702, \"label\": \"/m/07ssc\", \"group\": \"Entities\", \"title\": \"Node('Entities', name='/m/07ssc')\"}, {\"id\": 2376, \"label\": \"/m/07gp9\", \"group\": \"Entities\", \"title\": \"Node('Entities', name='/m/07gp9')\"}, {\"id\": 2756, \"label\": \"/m/05qc_\", \"group\": \"Entities\", \"title\": \"Node('Entities', name='/m/05qc_')\"}, {\"id\": 2902, \"label\": \"/m/0lsxr\", \"group\": \"Entities\", \"title\": \"Node('Entities', name='/m/0lsxr')\"}, {\"id\": 3130, \"label\": \"/m/03cp4cn\", \"group\": \"Entities\", \"title\": \"Node('Entities', name='/m/03cp4cn')\"}, {\"id\": 2555, \"label\": \"/m/01tvz5j\", \"group\": \"Entities\", \"title\": \"Node('Entities', name='/m/01tvz5j')\"}, {\"id\": 2556, \"label\": \"/m/03rs8y\", \"group\": \"Entities\", \"title\": \"Node('Entities', name='/m/03rs8y')\"}, {\"id\": 2842, \"label\": \"/m/01zkxv\", \"group\": \"Entities\", \"title\": \"Node('Entities', name='/m/01zkxv')\"}, {\"id\": 2276, \"label\": \"/m/05p553\", \"group\": \"Entities\", \"title\": \"Node('Entities', name='/m/05p553')\"}, {\"id\": 3476, \"label\": \"/m/03ym1\", \"group\": \"Entities\", \"title\": \"Node('Entities', name='/m/03ym1')\"}, {\"id\": 2625, \"label\": \"/m/0dckvs\", \"group\": \"Entities\", \"title\": \"Node('Entities', name='/m/0dckvs')\"}, {\"id\": 2626, \"label\": \"/m/02r96rf\", \"group\": \"Entities\", \"title\": \"Node('Entities', name='/m/02r96rf')\"}, {\"id\": 11, \"label\": \"/m/02_j1w\", \"group\": \"Entities\", \"title\": \"Node('Entities', name='/m/02_j1w')\"}, {\"id\": 2468, \"label\": \"/m/0f5hyg\", \"group\": \"Entities\", \"title\": \"Node('Entities', name='/m/0f5hyg')\"}, {\"id\": 12, \"label\": \"/m/01cwm1\", \"group\": \"Entities\", \"title\": \"Node('Entities', name='/m/01cwm1')\"}, {\"id\": 2210, \"label\": \"/m/0197tq\", \"group\": \"Entities\", \"title\": \"Node('Entities', name='/m/0197tq')\"}, {\"id\": 3759, \"label\": \"/m/010v8k\", \"group\": \"Entities\", \"title\": \"Node('Entities', name='/m/010v8k')\"}, {\"id\": 3760, \"label\": \"/m/0250f\", \"group\": \"Entities\", \"title\": \"Node('Entities', name='/m/0250f')\"}, {\"id\": 3451, \"label\": \"/m/0344gc\", \"group\": \"Entities\", \"title\": \"Node('Entities', name='/m/0344gc')\"}, {\"id\": 3452, \"label\": \"/m/02x1dht\", \"group\": \"Entities\", \"title\": \"Node('Entities', name='/m/02x1dht')\"}, {\"id\": 2319, \"label\": \"/m/03f0324\", \"group\": \"Entities\", \"title\": \"Node('Entities', name='/m/03f0324')\"}, {\"id\": 2320, \"label\": \"/m/040rjq\", \"group\": \"Entities\", \"title\": \"Node('Entities', name='/m/040rjq')\"}, {\"id\": 3967, \"label\": \"/m/07c0j\", \"group\": \"Entities\", \"title\": \"Node('Entities', name='/m/07c0j')\"}, {\"id\": 3131, \"label\": \"/m/01bgqh\", \"group\": \"Entities\", \"title\": \"Node('Entities', name='/m/01bgqh')\"}, {\"id\": 3278, \"label\": \"/m/03ckwzc\", \"group\": \"Entities\", \"title\": \"Node('Entities', name='/m/03ckwzc')\"}, {\"id\": 28, \"label\": \"/m/0184jc\", \"group\": \"Entities\", \"title\": \"Node('Entities', name='/m/0184jc')\"}, {\"id\": 2894, \"label\": \"/m/02n4kr\", \"group\": \"Entities\", \"title\": \"Node('Entities', name='/m/02n4kr')\"}, {\"id\": 156, \"label\": \"/m/01r3hr\", \"group\": \"Entities\", \"title\": \"Node('Entities', name='/m/01r3hr')\"}, {\"id\": 2289, \"label\": \"/m/0qcr0\", \"group\": \"Entities\", \"title\": \"Node('Entities', name='/m/0qcr0')\"}, {\"id\": 3792, \"label\": \"/m/0517bc\", \"group\": \"Entities\", \"title\": \"Node('Entities', name='/m/0517bc')\"}, {\"id\": 2290, \"label\": \"/m/0byfz\", \"group\": \"Entities\", \"title\": \"Node('Entities', name='/m/0byfz')\"}, {\"id\": 3923, \"label\": \"/m/02f716\", \"group\": \"Entities\", \"title\": \"Node('Entities', name='/m/02f716')\"}, {\"id\": 3924, \"label\": \"/m/0dw4g\", \"group\": \"Entities\", \"title\": \"Node('Entities', name='/m/0dw4g')\"}, {\"id\": 2656, \"label\": \"/m/032nwy\", \"group\": \"Entities\", \"title\": \"Node('Entities', name='/m/032nwy')\"}, {\"id\": 3813, \"label\": \"/m/049yf\", \"group\": \"Entities\", \"title\": \"Node('Entities', name='/m/049yf')\"}, {\"id\": 3832, \"label\": \"/m/01rz1\", \"group\": \"Entities\", \"title\": \"Node('Entities', name='/m/01rz1')\"}, {\"id\": 2431, \"label\": \"/m/0495ys\", \"group\": \"Entities\", \"title\": \"Node('Entities', name='/m/0495ys')\"}, {\"id\": 2432, \"label\": \"/m/05l2z4\", \"group\": \"Entities\", \"title\": \"Node('Entities', name='/m/05l2z4')\"}, {\"id\": 136, \"label\": \"/m/04xvlr\", \"group\": \"Entities\", \"title\": \"Node('Entities', name='/m/04xvlr')\"}, {\"id\": 3915, \"label\": \"/m/0wh3\", \"group\": \"Entities\", \"title\": \"Node('Entities', name='/m/0wh3')\"}, {\"id\": 3858, \"label\": \"/m/03_hd\", \"group\": \"Entities\", \"title\": \"Node('Entities', name='/m/03_hd')\"}, {\"id\": 2744, \"label\": \"/m/04j_gs\", \"group\": \"Entities\", \"title\": \"Node('Entities', name='/m/04j_gs')\"}, {\"id\": 3688, \"label\": \"/m/01m13b\", \"group\": \"Entities\", \"title\": \"Node('Entities', name='/m/01m13b')\"}, {\"id\": 3818, \"label\": \"/m/05qsxy\", \"group\": \"Entities\", \"title\": \"Node('Entities', name='/m/05qsxy')\"}, {\"id\": 55, \"label\": \"/m/02681vq\", \"group\": \"Entities\", \"title\": \"Node('Entities', name='/m/02681vq')\"}, {\"id\": 56, \"label\": \"/m/01w61th\", \"group\": \"Entities\", \"title\": \"Node('Entities', name='/m/01w61th')\"}, {\"id\": 2275, \"label\": \"/m/047q2k1\", \"group\": \"Entities\", \"title\": \"Node('Entities', name='/m/047q2k1')\"}, {\"id\": 3532, \"label\": \"/m/04n6k\", \"group\": \"Entities\", \"title\": \"Node('Entities', name='/m/04n6k')\"}, {\"id\": 3905, \"label\": \"/m/03qx63\", \"group\": \"Entities\", \"title\": \"Node('Entities', name='/m/03qx63')\"}, {\"id\": 3906, \"label\": \"/m/06fvc\", \"group\": \"Entities\", \"title\": \"Node('Entities', name='/m/06fvc')\"}, {\"id\": 2723, \"label\": \"/m/01lz4tf\", \"group\": \"Entities\", \"title\": \"Node('Entities', name='/m/01lz4tf')\"}, {\"id\": 2724, \"label\": \"/m/05148p4\", \"group\": \"Entities\", \"title\": \"Node('Entities', name='/m/05148p4')\"}, {\"id\": 3597, \"label\": \"/m/015grj\", \"group\": \"Entities\", \"title\": \"Node('Entities', name='/m/015grj')\"}, {\"id\": 3598, \"label\": \"/m/03pmty\", \"group\": \"Entities\", \"title\": \"Node('Entities', name='/m/03pmty')\"}, {\"id\": 2762, \"label\": \"/m/04nl83\", \"group\": \"Entities\", \"title\": \"Node('Entities', name='/m/04nl83')\"}, {\"id\": 133, \"label\": \"/m/028q6\", \"group\": \"Entities\", \"title\": \"Node('Entities', name='/m/028q6')\"}, {\"id\": 134, \"label\": \"/m/02581q\", \"group\": \"Entities\", \"title\": \"Node('Entities', name='/m/02581q')\"}, {\"id\": 2233, \"label\": \"/m/01xdf5\", \"group\": \"Entities\", \"title\": \"Node('Entities', name='/m/01xdf5')\"}, {\"id\": 2234, \"label\": \"/m/04t2l2\", \"group\": \"Entities\", \"title\": \"Node('Entities', name='/m/04t2l2')\"}, {\"id\": 3371, \"label\": \"/m/0hnlx\", \"group\": \"Entities\", \"title\": \"Node('Entities', name='/m/0hnlx')\"}, {\"id\": 3372, \"label\": \"/m/0fhp9\", \"group\": \"Entities\", \"title\": \"Node('Entities', name='/m/0fhp9')\"}, {\"id\": 3986, \"label\": \"/m/0j3b\", \"group\": \"Entities\", \"title\": \"Node('Entities', name='/m/0j3b')\"}, {\"id\": 2738, \"label\": \"/m/02_j7t\", \"group\": \"Entities\", \"title\": \"Node('Entities', name='/m/02_j7t')\"}, {\"id\": 2947, \"label\": \"/m/02pt27\", \"group\": \"Entities\", \"title\": \"Node('Entities', name='/m/02pt27')\"}, {\"id\": 2948, \"label\": \"/m/0dl5d\", \"group\": \"Entities\", \"title\": \"Node('Entities', name='/m/0dl5d')\"}, {\"id\": 41, \"label\": \"/m/0ds35l9\", \"group\": \"Entities\", \"title\": \"Node('Entities', name='/m/0ds35l9')\"}, {\"id\": 2512, \"label\": \"/m/047lj\", \"group\": \"Entities\", \"title\": \"Node('Entities', name='/m/047lj')\"}, {\"id\": 42, \"label\": \"/m/05r4w\", \"group\": \"Entities\", \"title\": \"Node('Entities', name='/m/05r4w')\"}, {\"id\": 2488, \"label\": \"/m/0l6vl\", \"group\": \"Entities\", \"title\": \"Node('Entities', name='/m/0l6vl')\"}, {\"id\": 60, \"label\": \"/m/0rs6x\", \"group\": \"Entities\", \"title\": \"Node('Entities', name='/m/0rs6x')\"}, {\"id\": 2624, \"label\": \"/m/02snj9\", \"group\": \"Entities\", \"title\": \"Node('Entities', name='/m/02snj9')\"}, {\"id\": 3022, \"label\": \"/m/0pc62\", \"group\": \"Entities\", \"title\": \"Node('Entities', name='/m/0pc62')\"}, {\"id\": 2853, \"label\": \"/m/08vq2y\", \"group\": \"Entities\", \"title\": \"Node('Entities', name='/m/08vq2y')\"}, {\"id\": 186, \"label\": \"/m/0dgrmp\", \"group\": \"Entities\", \"title\": \"Node('Entities', name='/m/0dgrmp')\"}, {\"id\": 2397, \"label\": \"/m/042l3v\", \"group\": \"Entities\", \"title\": \"Node('Entities', name='/m/042l3v')\"}, {\"id\": 2370, \"label\": \"/m/01d_h8\", \"group\": \"Entities\", \"title\": \"Node('Entities', name='/m/01d_h8')\"}, {\"id\": 3750, \"label\": \"/m/012cph\", \"group\": \"Entities\", \"title\": \"Node('Entities', name='/m/012cph')\"}, {\"id\": 2628, \"label\": \"/m/02vx4\", \"group\": \"Entities\", \"title\": \"Node('Entities', name='/m/02vx4')\"}, {\"id\": 2962, \"label\": \"/m/023fb\", \"group\": \"Entities\", \"title\": \"Node('Entities', name='/m/023fb')\"}, {\"id\": 2834, \"label\": \"/m/03npn\", \"group\": \"Entities\", \"title\": \"Node('Entities', name='/m/03npn')\"}, {\"id\": 3720, \"label\": \"/m/0cskb\", \"group\": \"Entities\", \"title\": \"Node('Entities', name='/m/0cskb')\"}, {\"id\": 2461, \"label\": \"/m/0ddfwj1\", \"group\": \"Entities\", \"title\": \"Node('Entities', name='/m/0ddfwj1')\"}, {\"id\": 5, \"label\": \"/m/07s9rl0\", \"group\": \"Entities\", \"title\": \"Node('Entities', name='/m/07s9rl0')\"}, {\"id\": 3112, \"label\": \"/m/02jcc\", \"group\": \"Entities\", \"title\": \"Node('Entities', name='/m/02jcc')\"}, {\"id\": 3013, \"label\": \"/m/0n22z\", \"group\": \"Entities\", \"title\": \"Node('Entities', name='/m/0n22z')\"}, {\"id\": 146, \"label\": \"/m/09nqf\", \"group\": \"Entities\", \"title\": \"Node('Entities', name='/m/09nqf')\"}, {\"id\": 3229, \"label\": \"/m/0bzm__\", \"group\": \"Entities\", \"title\": \"Node('Entities', name='/m/0bzm__')\"}, {\"id\": 3128, \"label\": \"/m/0gs9p\", \"group\": \"Entities\", \"title\": \"Node('Entities', name='/m/0gs9p')\"}, {\"id\": 2295, \"label\": \"/m/016tw3\", \"group\": \"Entities\", \"title\": \"Node('Entities', name='/m/016tw3')\"}, {\"id\": 3914, \"label\": \"/m/07bdd_\", \"group\": \"Entities\", \"title\": \"Node('Entities', name='/m/07bdd_')\"}, {\"id\": 2296, \"label\": \"/m/03tps5\", \"group\": \"Entities\", \"title\": \"Node('Entities', name='/m/03tps5')\"}, {\"id\": 3290, \"label\": \"/m/03hj5vf\", \"group\": \"Entities\", \"title\": \"Node('Entities', name='/m/03hj5vf')\"}, {\"id\": 2281, \"label\": \"/m/0m77m\", \"group\": \"Entities\", \"title\": \"Node('Entities', name='/m/0m77m')\"}, {\"id\": 2282, \"label\": \"/m/02_h0\", \"group\": \"Entities\", \"title\": \"Node('Entities', name='/m/02_h0')\"}, {\"id\": 2330, \"label\": \"/m/0ckr7s\", \"group\": \"Entities\", \"title\": \"Node('Entities', name='/m/0ckr7s')\"}, {\"id\": 3596, \"label\": \"/m/012t_z\", \"group\": \"Entities\", \"title\": \"Node('Entities', name='/m/012t_z')\"}, {\"id\": 2668, \"label\": \"/m/01_9c1\", \"group\": \"Entities\", \"title\": \"Node('Entities', name='/m/01_9c1')\"}, {\"id\": 2490, \"label\": \"/m/02tcgh\", \"group\": \"Entities\", \"title\": \"Node('Entities', name='/m/02tcgh')\"}, {\"id\": 6, \"label\": \"/m/0170z3\", \"group\": \"Entities\", \"title\": \"Node('Entities', name='/m/0170z3')\"}, {\"id\": 2634, \"label\": \"/m/041h0\", \"group\": \"Entities\", \"title\": \"Node('Entities', name='/m/041h0')\"}, {\"id\": 3401, \"label\": \"/m/09vw2b7\", \"group\": \"Entities\", \"title\": \"Node('Entities', name='/m/09vw2b7')\"}, {\"id\": 3502, \"label\": \"/m/02rcdc2\", \"group\": \"Entities\", \"title\": \"Node('Entities', name='/m/02rcdc2')\"}, {\"id\": 2422, \"label\": \"/m/09xbpt\", \"group\": \"Entities\", \"title\": \"Node('Entities', name='/m/09xbpt')\"}, {\"id\": 3182, \"label\": \"/m/0338lq\", \"group\": \"Entities\", \"title\": \"Node('Entities', name='/m/0338lq')\"}, {\"id\": 3900, \"label\": \"/m/07_53\", \"group\": \"Entities\", \"title\": \"Node('Entities', name='/m/07_53')\"}, {\"id\": 3676, \"label\": \"/m/013b2h\", \"group\": \"Entities\", \"title\": \"Node('Entities', name='/m/013b2h')\"}, {\"id\": 3962, \"label\": \"/m/0t_07\", \"group\": \"Entities\", \"title\": \"Node('Entities', name='/m/0t_07')\"}, {\"id\": 3126, \"label\": \"/m/04fzfj\", \"group\": \"Entities\", \"title\": \"Node('Entities', name='/m/04fzfj')\"}, {\"id\": 2605, \"label\": \"/m/0h1_w\", \"group\": \"Entities\", \"title\": \"Node('Entities', name='/m/0h1_w')\"}, {\"id\": 2606, \"label\": \"/m/0789_m\", \"group\": \"Entities\", \"title\": \"Node('Entities', name='/m/0789_m')\"}, {\"id\": 2500, \"label\": \"/m/01qscs\", \"group\": \"Entities\", \"title\": \"Node('Entities', name='/m/01qscs')\"}, {\"id\": 2768, \"label\": \"/m/018jk2\", \"group\": \"Entities\", \"title\": \"Node('Entities', name='/m/018jk2')\"}, {\"id\": 3302, \"label\": \"/m/05ml_s\", \"group\": \"Entities\", \"title\": \"Node('Entities', name='/m/05ml_s')\"}, {\"id\": 3121, \"label\": \"/m/018wng\", \"group\": \"Entities\", \"title\": \"Node('Entities', name='/m/018wng')\"}, {\"id\": 2900, \"label\": \"/m/0bzk8w\", \"group\": \"Entities\", \"title\": \"Node('Entities', name='/m/0bzk8w')\"}, {\"id\": 3880, \"label\": \"/m/02yw5r\", \"group\": \"Entities\", \"title\": \"Node('Entities', name='/m/02yw5r')\"}, {\"id\": 2219, \"label\": \"/m/01fq7\", \"group\": \"Entities\", \"title\": \"Node('Entities', name='/m/01fq7')\"}, {\"id\": 106, \"label\": \"/m/08mbj5d\", \"group\": \"Entities\", \"title\": \"Node('Entities', name='/m/08mbj5d')\"}, {\"id\": 2927, \"label\": \"/m/0mkg\", \"group\": \"Entities\", \"title\": \"Node('Entities', name='/m/0mkg')\"}, {\"id\": 2928, \"label\": \"/m/0dwsp\", \"group\": \"Entities\", \"title\": \"Node('Entities', name='/m/0dwsp')\"}, {\"id\": 2530, \"label\": \"/m/09gq0x5\", \"group\": \"Entities\", \"title\": \"Node('Entities', name='/m/09gq0x5')\"}, {\"id\": 2666, \"label\": \"/m/03w1v2\", \"group\": \"Entities\", \"title\": \"Node('Entities', name='/m/03w1v2')\"}, {\"id\": 3495, \"label\": \"/m/05p1dby\", \"group\": \"Entities\", \"title\": \"Node('Entities', name='/m/05p1dby')\"}, {\"id\": 3496, \"label\": \"/m/03fg0r\", \"group\": \"Entities\", \"title\": \"Node('Entities', name='/m/03fg0r')\"}, {\"id\": 188, \"label\": \"/m/03rjj\", \"group\": \"Entities\", \"title\": \"Node('Entities', name='/m/03rjj')\"}, {\"id\": 3630, \"label\": \"/m/0537y_\", \"group\": \"Entities\", \"title\": \"Node('Entities', name='/m/0537y_')\"}, {\"id\": 3748, \"label\": \"/m/0f2v0\", \"group\": \"Entities\", \"title\": \"Node('Entities', name='/m/0f2v0')\"}, {\"id\": 3544, \"label\": \"/m/0963mq\", \"group\": \"Entities\", \"title\": \"Node('Entities', name='/m/0963mq')\"}, {\"id\": 182, \"label\": \"/m/0g2hw4\", \"group\": \"Entities\", \"title\": \"Node('Entities', name='/m/0g2hw4')\"}, {\"id\": 2643, \"label\": \"/m/052nd\", \"group\": \"Entities\", \"title\": \"Node('Entities', name='/m/052nd')\"}];\n",
       "    var edges = [{\"from\": 3881, \"to\": 10, \"label\": \"/soccer/football_team/current_roster./sports/sports_team_roster/position\"}, {\"from\": 3253, \"to\": 2730, \"label\": \"/film/film/featured_film_locations\"}, {\"from\": 36, \"to\": 3648, \"label\": \"/law/invention/inventor\"}, {\"from\": 3037, \"to\": 3038, \"label\": \"/music/musical_group/member./music/group_membership/role\"}, {\"from\": 2602, \"to\": 3188, \"label\": \"/olympics/olympic_sport/athletes./olympics/olympic_athlete_affiliation/country\"}, {\"from\": 2701, \"to\": 2702, \"label\": \"/film/film/country\"}, {\"from\": 2902, \"to\": 3130, \"label\": \"/film/film_genre/films_in_this_genre\"}, {\"from\": 2555, \"to\": 2556, \"label\": \"/award/award_nominee/award_nominations./award/award_nomination/award_nominee\"}, {\"from\": 2625, \"to\": 2626, \"label\": \"/film/film/other_crew./film/film_crew_gig/film_crew_role\"}, {\"from\": 11, \"to\": 3640, \"label\": \"/sports/sports_position/players./sports/sports_team_roster/player\"}, {\"from\": 11, \"to\": 2468, \"label\": \"/sports/sports_position/players./soccer/football_roster_position/team\"}, {\"from\": 11, \"to\": 12, \"label\": \"/sports/sports_position/players./soccer/football_roster_position/team\"}, {\"from\": 3759, \"to\": 3760, \"label\": \"/location/location/people_born_here\"}, {\"from\": 3451, \"to\": 3452, \"label\": \"/award/award_winning_work/awards_won./award/award_honor/award\"}, {\"from\": 2319, \"to\": 2320, \"label\": \"/influence/influence_node/influenced\"}, {\"from\": 3967, \"to\": 3131, \"label\": \"/award/award_nominee/award_nominations./award/award_nomination/award\"}, {\"from\": 2289, \"to\": 3792, \"label\": \"/base/popstra/organization/supporter./base/popstra/support/supporter\"}, {\"from\": 2289, \"to\": 2290, \"label\": \"/people/cause_of_death/people\"}, {\"from\": 3923, \"to\": 3924, \"label\": \"/award/award_category/nominees./award/award_nomination/award_nominee\"}, {\"from\": 3813, \"to\": 3814, \"label\": \"/location/location/contains\"}, {\"from\": 2431, \"to\": 2432, \"label\": \"/government/legislative_session/members./government/government_position_held/legislative_sessions\"}, {\"from\": 3915, \"to\": 3915, \"label\": \"/location/hud_county_place/place\"}, {\"from\": 55, \"to\": 56, \"label\": \"/award/award_category/nominees./award/award_nomination/award_nominee\"}, {\"from\": 2275, \"to\": 2276, \"label\": \"/film/film/genre\"}, {\"from\": 3905, \"to\": 3906, \"label\": \"/sports/sports_team/colors\"}, {\"from\": 2723, \"to\": 2724, \"label\": \"/music/group_member/instruments_played\"}, {\"from\": 3597, \"to\": 3598, \"label\": \"/award/award_winner/awards_won./award/award_honor/award_winner\"}, {\"from\": 133, \"to\": 134, \"label\": \"/award/award_nominee/award_nominations./award/award_nomination/award\"}, {\"from\": 2233, \"to\": 2234, \"label\": \"/base/popstra/celebrity/friendship./base/popstra/friendship/participant\"}, {\"from\": 3371, \"to\": 3372, \"label\": \"/people/person/places_lived./people/place_lived/location\"}, {\"from\": 2947, \"to\": 2948, \"label\": \"/music/artist/genre\"}, {\"from\": 41, \"to\": 2512, \"label\": \"/film/film/release_date_s./film/film_regional_release_date/film_release_region\"}, {\"from\": 41, \"to\": 42, \"label\": \"/film/film/release_date_s./film/film_regional_release_date/film_release_region\"}, {\"from\": 2853, \"to\": 186, \"label\": \"/sports/sports_team/roster./soccer/football_roster_position/position\"}, {\"from\": 2397, \"to\": 2370, \"label\": \"/people/person/profession\"}, {\"from\": 2628, \"to\": 2962, \"label\": \"/sports/sport/teams\"}, {\"from\": 2834, \"to\": 3720, \"label\": \"/tv/tv_genre/programs\"}, {\"from\": 2461, \"to\": 5, \"label\": \"/film/film/genre\"}, {\"from\": 3013, \"to\": 146, \"label\": \"/location/statistical_region/rent50_4./measurement_unit/dated_money_value/currency\"}, {\"from\": 3229, \"to\": 3128, \"label\": \"/award/award_ceremony/awards_presented./award/award_honor/award\"}, {\"from\": 2295, \"to\": 3914, \"label\": \"/award/award_nominee/award_nominations./award/award_nomination/award\"}, {\"from\": 2295, \"to\": 2296, \"label\": \"/film/production_company/films\"}, {\"from\": 2281, \"to\": 2282, \"label\": \"/base/nobelprizes/nobel_prize_winner/nobel_honor./base/nobelprizes/nobel_honor/subject_area\"}, {\"from\": 5, \"to\": 2490, \"label\": \"/film/film_genre/films_in_this_genre\"}, {\"from\": 5, \"to\": 6, \"label\": \"/media_common/netflix_genre/titles\"}, {\"from\": 3401, \"to\": 3502, \"label\": \"/film/film_job/films_with_this_crew_job./film/film_crew_gig/film\"}, {\"from\": 3401, \"to\": 2422, \"label\": \"/film/film_job/films_with_this_crew_job./film/film_crew_gig/film\"}, {\"from\": 2605, \"to\": 2606, \"label\": \"/award/award_nominee/award_nominations./award/award_nomination/award\"}, {\"from\": 3121, \"to\": 2900, \"label\": \"/award/award_category/winners./award/award_honor/ceremony\"}, {\"from\": 3121, \"to\": 3880, \"label\": \"/award/award_category/winners./award/award_honor/ceremony\"}, {\"from\": 2219, \"to\": 106, \"label\": \"/common/topic/webpage./common/webpage/category\"}, {\"from\": 2927, \"to\": 2928, \"label\": \"/music/performance_role/track_performances./music/track_contribution/role\"}, {\"from\": 3495, \"to\": 3496, \"label\": \"/award/award_category/nominees./award/award_nomination/award_nominee\"}, {\"from\": 188, \"to\": 3630, \"label\": \"/location/country/administrative_divisions\"}, {\"from\": 2643, \"to\": 2643, \"label\": \"/education/educational_institution_campus/educational_institution\"}];\n",
       "\n",
       "    var container = document.getElementById(\"92b73a7b-0954-4c60-81a0-ccbd5139f0ea\");\n",
       "\n",
       "    var data = {\n",
       "        nodes: nodes,\n",
       "        edges: edges\n",
       "    };\n",
       "\n",
       "    var options = {\n",
       "    nodes: {\n",
       "        shape: 'dot',\n",
       "        size: 25,\n",
       "        font: {\n",
       "            size: 14\n",
       "        }\n",
       "    },\n",
       "    edges: {\n",
       "        font: {\n",
       "            size: 14,\n",
       "            align: 'middle'\n",
       "        },\n",
       "        color: 'gray',\n",
       "        arrows: {\n",
       "            to: {\n",
       "                enabled: true,\n",
       "                scaleFactor: 0.5\n",
       "            }\n",
       "        },\n",
       "        smooth: {\n",
       "            enabled: false\n",
       "        }\n",
       "    },\n",
       "    physics: {\n",
       "        enabled: true\n",
       "        }\n",
       "    };\n",
       "\n",
       "    var network = new vis.Network(container, data, options);\n",
       "\n",
       "</script>\n"
      ],
      "text/plain": [
       "<IPython.core.display.HTML object>"
      ]
     },
     "execution_count": 81,
     "metadata": {},
     "output_type": "execute_result"
    }
   ],
   "source": [
    "options = {\"Entities\": \"name\"}\n",
    "neo4jupyter.draw(graph, {\"Entities\": \"name\"})"
   ]
  },
  {
   "cell_type": "code",
   "execution_count": null,
   "metadata": {},
   "outputs": [],
   "source": []
  }
 ],
 "metadata": {
  "kernelspec": {
   "display_name": "Python 3",
   "language": "python",
   "name": "python3"
  },
  "language_info": {
   "codemirror_mode": {
    "name": "ipython",
    "version": 3
   },
   "file_extension": ".py",
   "mimetype": "text/x-python",
   "name": "python",
   "nbconvert_exporter": "python",
   "pygments_lexer": "ipython3",
   "version": "3.7.6"
  }
 },
 "nbformat": 4,
 "nbformat_minor": 4
}
