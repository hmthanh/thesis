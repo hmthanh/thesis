{
 "cells": [
  {
   "cell_type": "markdown",
   "metadata": {},
   "source": [
    "# Terminology (Thuật ngữ)\n"
   ]
  },
  {
   "cell_type": "markdown",
   "metadata": {},
   "source": [
    "### MRR (Mean Reciprocal Rank)\n",
    "\n",
    "Các xếp hạng Q thu được từ các dự đoán kiểm tra thường được sử dụng để tính toán các số liệu tiêu chuẩn toàn cục\n",
    "\n",
    "$$ MR = \\frac{1}{|Q|} \\sum_{q \\in Q}q $$"
   ]
  },
  {
   "cell_type": "markdown",
   "metadata": {},
   "source": [
    "### MR (Mean Rank)\n",
    "\n",
    "$$ MRR = \\frac{1}{|Q|} \\sum_{q \\in Q} \\frac{1}{q} $$"
   ]
  },
  {
   "cell_type": "markdown",
   "metadata": {},
   "source": [
    "### H@1 và ### H@10\n",
    "\n",
    "$$ H@K = \\frac{\\{q \\in Q : q \\leq K\\}}{|Q|} $$\n",
    "\n",
    "Người ta thường chọn K phổ biến là 1,3,5,10. $H@K$ càng cao thì kết quả mô hình càng tốt\n",
    "\n",
    "$$ H@1 = \\frac{\\{q \\in Q : q \\leq K_1\\}}{|Q|} $$\n",
    "\n",
    "$$ H@10 = \\frac{\\{q \\in Q : q \\leq K_{10}\\}}{|Q|} $$\n",
    "\n",
    "Thể hiện số lần dự đoán đúng trong K lần thử nghiệm đầu tiên"
   ]
  },
  {
   "cell_type": "markdown",
   "metadata": {},
   "source": [
    "#### Test Leakage\n",
    "Đầu tiên cần tìm hiểu **Data Leakage** là gì, Data Leakage là dữ liệu nằm bên ngoài thông tin của tập dữ liệu huấn luyện, nên đẫn đến khi xây dựng mô hình sẽ không đúng với thực tế\n",
    "\n",
    "Test Leakage cũng tương tự như vậy nhưng ứng với dữ liệu đồ thị"
   ]
  },
  {
   "cell_type": "markdown",
   "metadata": {},
   "source": []
  }
 ],
 "metadata": {
  "kernelspec": {
   "display_name": "Python 3",
   "language": "python",
   "name": "python3"
  },
  "language_info": {
   "codemirror_mode": {
    "name": "ipython",
    "version": 3
   },
   "file_extension": ".py",
   "mimetype": "text/x-python",
   "name": "python",
   "nbconvert_exporter": "python",
   "pygments_lexer": "ipython3",
   "version": "3.7.6"
  }
 },
 "nbformat": 4,
 "nbformat_minor": 2
}
