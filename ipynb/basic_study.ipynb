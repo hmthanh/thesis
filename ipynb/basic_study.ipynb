{
 "cells": [
  {
   "cell_type": "markdown",
   "metadata": {},
   "source": [
    "# Tìm hiểu các khải niệm cơ bản, liên quan đến linking prediction\n",
    "\n"
   ]
  },
  {
   "cell_type": "markdown",
   "metadata": {},
   "source": [
    "Trong các chuyên ngành nghiên cứu về Graph thì có :\n",
    "\n",
    "* Link Prediction :  dự đoán liên kết\n",
    "* Dynamic Link Prediction : đự doán liên kết động\n",
    "* Calibration for Link Prediction : hiệu chuẩn cho dự đoán liên kết\n"
   ]
  },
  {
   "cell_type": "markdown",
   "metadata": {},
   "source": [
    "## State of the art\n",
    "\n",
    " * GAATs : \n",
    " * Inverse Model :\n",
    " * AutoKGE :\n",
    " * GLACE :\n",
    " * RefE :"
   ]
  },
  {
   "attachments": {},
   "cell_type": "markdown",
   "metadata": {},
   "source": [
    "## Medium :\n",
    "### Link Prediction with Neo4j Part 1: An Introduction\n",
    "https://medium.com/neo4j/link-prediction-with-neo4j-part-1-an-introduction-713aa779fd9\n",
    "\n",
    "#### What is link prediction?:\n",
    "\n",
    "    Given a snapshot of a social network, can we infer which new interactions among its members are likely to occur in the near future? We formalize this question as the link prediction problem, and develop approaches to link prediction based on measures for analyzing the “proximity” of nodes in a network.\n",
    "    \n",
    "    Cho một phần của mạng xã hội, liệu chúng ta có thể suy ra được các tương tác giữa các thành viên trong tương lại gần hay không, chúng tôi chính thức hòa câu hỏi trên thành vấn đề dự đoán liên kết, và phát triển phương pháp dự đoán liên kết đo lường để phân tích những trạng thái gần trong một mạng.\n",
    "    \n",
    "Paper đầu tiên về giới thiệu về **The Link Prediction Problem for Social Networks** năm 2004 \n",
    "https://www.cs.cornell.edu/home/kleinber/link-pred.pdf\n",
    "\n",
    "#### Link Prediction Algorithms\n",
    "\n",
    "Kleinberg and Liben-Nowell mô tả một tập hợp các phương pháp đã được sử dụng cho link prediction, những phương pháp này đo lường  sự tương tự hoặc gần nhất giữa các node trên cấu trúc đồ thị\n",
    "\n",
    "<img src=\"../images/Link%20Prediction%20Algorithms.png\">"
   ]
  },
  {
   "attachments": {},
   "cell_type": "markdown",
   "metadata": {},
   "source": [
    "#### Common Neighbors\n",
    "Phương pháp đơn giản nhất là tính toán những hàng xóm chung.\n",
    "\n",
    "    The common-neighbors predictor captures the notion that two strangers who have a common friend may be introduced by that friend.\n",
    "    This introduction has the effect of “closing a triangle” in the graph [i.e. a triadic closure as described in Jim’s talk]\n",
    "    \n",
    "    Thuật toán dự đoán rằng hai người có chung bạn thì có khả năng sẽ giới thiệu\n",
    "    Điều này được giới thiệu sẽ có hiệu ứng của \"đóng tam giác\" trong dồ thị\n",
    "\n",
    "<img src=\"../images/Common%20Neighbors.png\">\n",
    "\n",
    "Ví dụ nodes A và D có chung 2 hàng xóm là B và C trong khi đó nodes A và E chỉ có một node chung\n",
    "Ví vậy A và D được đánh giá là gần hơn và có vẻ như là có liên kết trong tương lai"
   ]
  },
  {
   "attachments": {},
   "cell_type": "markdown",
   "metadata": {},
   "source": [
    "#### Adamic Adar\n",
    "\n",
    "Phương pháp này đo lường những hàng xóm chung nhưng thay vì đếm chúng, thì phương pháp tính tổng nghịch đảo $log$ của bậc của các hàng xóm\n",
    "\n",
    "Bậc của node là số lượng hàng xóm mà nó có, nhận thức/trực giác (intuition) của thuật toán này là khi tiến gần đến việc đóng tam giác bộ 3 ở trên, thì node có bậc thấp hơn thường có ảnh hưởng lớn hơn\n",
    "\n",
    "<img src=\"../images/Adamic%20Adar.png\">\n",
    "\n",
    "Ví dụ : trong mạng xã hội, thì hai người được giới thiệu bởi một người chung, thì xác xuất mà có bạn chung thì liên quan đến có bao nhiêu những cặp bạn mà người đó có. Do đó những người ít phổ biến thì thường giới thiệu cặp bạn của họ"
   ]
  },
  {
   "attachments": {},
   "cell_type": "markdown",
   "metadata": {},
   "source": [
    "#### Preferential Attachment\n",
    "\n",
    "<img src=\"../images/Preferential%20Attachment.png\">\n",
    "\n",
    "\n",
    "Trực giác (intuition) là những node nào có nhiều mối quan hệ thì có thêm nhiều mối quan hệ khác."
   ]
  },
  {
   "cell_type": "markdown",
   "metadata": {},
   "source": [
    "## Summary of Translate Model for Knowledge Graph Embedding\n",
    "https://towardsdatascience.com/summary-of-translate-model-for-knowledge-graph-embedding-29042be64273"
   ]
  },
  {
   "cell_type": "markdown",
   "metadata": {},
   "source": [
    "## Github : Tìm kiếm với từ khóa : linking prediction\n",
    "\n",
    "* GEM: Graph Embedding Methods\n",
    "https://github.com/palash1992/GEM\n",
    "\n",
    "GEM là Python package là framework chung cho phương pháp nhúng đồ thị\n",
    "(https://palash1992.github.io/GEM/)\n",
    "\n",
    "* Representation learning for link prediction within social networks\n",
    "https://github.com/lucashu1/link-prediction\n",
    "\n",
    "* Các dataset siêu lớn :\n",
    "Datasets collected for network science and machine learning research.\n",
    "https://github.com/benedekrozemberczki/datasets\n",
    "\n",
    "* ICLR 2020: Composition-Based Multi-Relational Graph Convolutional Networks\n",
    "https://github.com/malllabiisc/CompGCN\n",
    "\n",
    "... những cái khác đã có"
   ]
  },
  {
   "cell_type": "markdown",
   "metadata": {},
   "source": [
    "Phương pháp tốt nhất :\n",
    "ConvKB\n",
    "https://github.com/daiquocnguyen/ConvKB"
   ]
  },
  {
   "cell_type": "markdown",
   "metadata": {},
   "source": [
    "## Kaggle\n",
    "\n",
    "* Facebook Recruiting Competition\n",
    "https://www.kaggle.com/c/FacebookRecruiting/\n",
    "\n"
   ]
  },
  {
   "cell_type": "markdown",
   "metadata": {},
   "source": []
  }
 ],
 "metadata": {
  "kernelspec": {
   "display_name": "Python 3",
   "language": "python",
   "name": "python3"
  },
  "language_info": {
   "codemirror_mode": {
    "name": "ipython",
    "version": 3
   },
   "file_extension": ".py",
   "mimetype": "text/x-python",
   "name": "python",
   "nbconvert_exporter": "python",
   "pygments_lexer": "ipython3",
   "version": "3.7.6"
  }
 },
 "nbformat": 4,
 "nbformat_minor": 2
}
